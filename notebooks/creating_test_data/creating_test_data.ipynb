{
 "cells": [
  {
   "cell_type": "markdown",
   "metadata": {},
   "source": [
    "# What\n",
    "\n",
    "There is data used by the pytests to test the functionality of the engine and viewer.\n",
    "\n",
    "I have previously somewhat randomly and manually created these data subsets to be used.\n",
    "\n",
    "It would be better to have it in one place so that it is clear what data is used and needed."
   ]
  },
  {
   "cell_type": "markdown",
   "metadata": {},
   "source": [
    "## Modules"
   ]
  },
  {
   "cell_type": "code",
   "execution_count": null,
   "metadata": {},
   "outputs": [],
   "source": [
    "import pandas as pd "
   ]
  },
  {
   "cell_type": "markdown",
   "metadata": {},
   "source": [
    "This is going to be ran assuming there is a output folder that has the expected files.\n",
    "\n",
    "Rather than hook this up to the config file it is just a quick and simple hack to make it more transparent."
   ]
  },
  {
   "cell_type": "markdown",
   "metadata": {},
   "source": [
    "# Creating extracted dataset"
   ]
  },
  {
   "cell_type": "code",
   "execution_count": null,
   "metadata": {},
   "outputs": [],
   "source": [
    "full_extracted_df = pd.read_pickle(\"../../output/extracted_reports.pkl\")\n",
    "\n",
    "full_extracted_df"
   ]
  },
  {
   "cell_type": "code",
   "execution_count": null,
   "metadata": {},
   "outputs": [],
   "source": [
    "ids = [\n",
    "    \"2016_204\",\n",
    "    \"2020_202\",\n",
    "    \"2014_102\",\n",
    "    \"2014_004\",\n",
    "    \"2010_204\",\n",
    "    \"2010_001\",\n",
    "    \"2022_101\",\n",
    "    \"2010_009\",\n",
    "    \"2019_106\",\n",
    "]\n",
    "\n",
    "# This is added as this is what was used in the previous extracted set which is used by alot of tests.\n",
    "ids.extend(['2016_205',\n",
    " '2002_122',\n",
    " '2005_107',\n",
    " '2004_113',\n",
    " '2018_006',\n",
    " '2001_104',\n",
    " '2009_101',\n",
    " '2012_102'])\n",
    "\n",
    "filtered_extracted_df = full_extracted_df.loc[ids]\n",
    "\n",
    "filtered_extracted_df"
   ]
  },
  {
   "cell_type": "code",
   "execution_count": null,
   "metadata": {},
   "outputs": [],
   "source": [
    "filtered_extracted_df.to_pickle(\"../../tests/data/output/extracted_reports.pkl\")"
   ]
  }
 ],
 "metadata": {
  "language_info": {
   "name": "python"
  }
 },
 "nbformat": 4,
 "nbformat_minor": 2
}
