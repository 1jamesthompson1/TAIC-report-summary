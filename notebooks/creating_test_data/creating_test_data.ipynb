{
 "cells": [
  {
   "cell_type": "markdown",
   "metadata": {},
   "source": [
    "# What\n",
    "\n",
    "There is data used by the pytests to test the functionality of the engine and viewer.\n",
    "\n",
    "I have previously somewhat randomly and manually created these data subsets to be used.\n",
    "\n",
    "It would be better to have it in one place so that it is clear what data is used and needed."
   ]
  },
  {
   "cell_type": "markdown",
   "metadata": {},
   "source": [
    "## Modules"
   ]
  },
  {
   "cell_type": "code",
   "execution_count": null,
   "metadata": {},
   "outputs": [],
   "source": [
    "import pandas as pd \n",
    "import os\n",
    "import shutil"
   ]
  },
  {
   "cell_type": "markdown",
   "metadata": {},
   "source": [
    "This is going to be ran assuming there is a output folder that has the expected files.\n",
    "\n",
    "Rather than hook this up to the config file it is just a quick and simple hack to make it more transparent."
   ]
  },
  {
   "cell_type": "code",
   "execution_count": null,
   "metadata": {},
   "outputs": [],
   "source": [
    "output_folder = '../../output/'\n",
    "test_output_folder = '../../tests/data/output/'"
   ]
  },
  {
   "cell_type": "markdown",
   "metadata": {},
   "source": [
    "## Report titles"
   ]
  },
  {
   "cell_type": "code",
   "execution_count": null,
   "metadata": {},
   "outputs": [],
   "source": [
    "titles = pd.read_pickle(os.path.join(test_output_folder, \"report_titles.pkl\"))"
   ]
  },
  {
   "cell_type": "markdown",
   "metadata": {},
   "source": [
    "# Getting report PDFs\n",
    "\n",
    "This is used by the `test_PDFParser.py`"
   ]
  },
  {
   "cell_type": "code",
   "execution_count": null,
   "metadata": {},
   "outputs": [],
   "source": [
    "# Create the test pdfs\n",
    "\n",
    "test_pdfs = [\n",
    "    \"ATSB_r_2021_010\",\n",
    "    \"ATSB_r_2021_004\",    \n",
    "    \"ATSB_a_2007_030\",\n",
    "    \"ATSB_a_2002_646\",\n",
    "    \"TSB_a_2022_O0118\",\n",
    "    \"TSB_m_2021_A0041\",\n",
    "    \"TSB_a_2011_F0012\",\n",
    "    \"TAIC_r_2014_103\",\n",
    "    \"TAIC_r_2004_121\",\n",
    "    \"TAIC_a_2019_006\",\n",
    "]\n",
    "\n",
    "test_report_dfs = os.path.join(test_output_folder, \"report_pdfs\") \n",
    "\n",
    "shutil.rmtree(test_report_dfs, ignore_errors=True)\n",
    "os.mkdir(test_report_dfs)\n",
    "for report_id in test_pdfs:\n",
    "    shutil.copy(os.path.join(output_folder, 'report_pdfs', f'{report_id}.pdf'), os.path.join(test_report_dfs, f'{report_id}.pdf'))"
   ]
  },
  {
   "cell_type": "markdown",
   "metadata": {},
   "source": [
    "## Creating the extracted reports data\n",
    "\n",
    "This is used by:\n",
    "- `test_RecommendationSafetyIssueLinking.py`\n",
    "- `test_RecommendationResponseClassification.py`\n",
    "- `test_Embedding.py`\n"
   ]
  },
  {
   "cell_type": "code",
   "execution_count": null,
   "metadata": {},
   "outputs": [],
   "source": [
    "extracted_reports = pd.read_pickle(os.path.join(output_folder, \"extracted_reports.pkl\"))\n",
    "\n",
    "extracted_reports.sample(n=50, random_state=42).to_pickle(\"../../tests/data/output/extracted_reports.pkl\")"
   ]
  },
  {
   "cell_type": "markdown",
   "metadata": {},
   "source": [
    "# Creating report text dataset\n",
    "\n",
    "This is used by the `test_ReportExtracting.py`"
   ]
  },
  {
   "cell_type": "code",
   "execution_count": null,
   "metadata": {},
   "outputs": [],
   "source": [
    "report_text = pd.read_pickle(os.path.join(output_folder, \"parsed_reports.pkl\"))\n",
    "\n",
    "report_text.set_index(\"report_id\",inplace=True)\n",
    "\n",
    "report_text"
   ]
  },
  {
   "cell_type": "code",
   "execution_count": null,
   "metadata": {},
   "outputs": [],
   "source": [
    "ids = [\n",
    "    \"TAIC_m_2016_204\",\n",
    "    \"TAIC_m_2020_202\",\n",
    "    \"TAIC_r_2014_102\",\n",
    "    \"TAIC_a_2014_004\",\n",
    "    \"TAIC_m_2010_204\",\n",
    "    \"TAIC_a_2010_001\",\n",
    "    \"TAIC_r_2022_101\",\n",
    "    \"TAIC_a_2010_009\",\n",
    "    \"TAIC_r_2019_106\",\n",
    "]\n",
    "\n",
    "# This is added as this is what was used in the previous extracted set which is used by alot of tests.\n",
    "ids.extend([\n",
    " 'TAIC_m_2016_205',\n",
    " 'TAIC_r_2002_122',\n",
    " 'TAIC_r_2005_107',\n",
    " 'TAIC_r_2004_113',\n",
    " 'TAIC_a_2018_006',\n",
    " 'TAIC_r_2001_104',\n",
    " 'TAIC_r_2009_101',\n",
    " 'TAIC_r_2012_102'])\n",
    "\n",
    "\n",
    "ids.extend([\n",
    "  \"ATSB_m_2000_157\",\n",
    "  \"ATSB_a_2023_011\",\n",
    "  \"ATSB_a_2007_012\",\n",
    "  \"ATSB_m_2001_170\",\n",
    "  \"ATSB_r_2021_002\"\n",
    " ])\n",
    "\n",
    "\n",
    "ids.extend([\n",
    "    \"TSB_r_2020_V0230\",\n",
    "])\n",
    "\n",
    "# Included to be used for content_page reading\n",
    "ids.extend(\n",
    "    [\n",
    "        \"TAIC_r_2019_102\",\n",
    "        \"ATSB_a_2017_117\", \n",
    "        \"ATSB_a_2014_073\",\n",
    "        \"TSB_m_2002_C0018\",\n",
    "        \"TSB_a_2005_C0187\",\n",
    "        \"ATSB_m_2017_003\",\n",
    "        \"ATSB_a_2021_018\",\n",
    "        \"TSB_a_2004_H0001\",\n",
    "        \"TSB_a_2020_P0013\"\n",
    "    ]\n",
    ")\n",
    "\n",
    "# Included for testing recommendation extraction\n",
    "ids.extend([\n",
    "    \"ATSB_a_2014_096\",\n",
    "    \"ATSB_m_2013_011\",\n",
    "])\n",
    "\n",
    "filtered_report_text = report_text.loc[ids]\n",
    "\n",
    "filtered_report_text"
   ]
  },
  {
   "cell_type": "code",
   "execution_count": null,
   "metadata": {},
   "outputs": [],
   "source": [
    "testing_ids = [\n",
    "    \"TAIC_m_2016_204\",\n",
    "    \"TAIC_r_2002_122\",\n",
    "    \"TAIC_a_2010_001\",\n",
    "    \"TAIC_m_2020_202\",\n",
    "    \"TAIC_r_2019_106\",\n",
    "    \"TAIC_a_2018_006\",\n",
    "    \"TAIC_m_2010_204\",\n",
    "    \"ATSB_m_2000_157\",\n",
    "    \"ATSB_a_2007_012\",\n",
    "    \"ATSB_a_2023_011\",\n",
    "    \"ATSB_m_2001_170\",\n",
    "    \"ATSB_r_2021_002\",\n",
    "    \"TSB_r_2020_V0230\",\n",
    "]\n",
    "testing_report_text = filtered_report_text.loc[testing_ids]"
   ]
  },
  {
   "cell_type": "code",
   "execution_count": null,
   "metadata": {},
   "outputs": [],
   "source": [
    "filtered_report_text.to_pickle(os.path.join(test_output_folder, \"parsed_reports.pkl\"))"
   ]
  },
  {
   "cell_type": "markdown",
   "metadata": {},
   "source": [
    "# Extracted reports"
   ]
  },
  {
   "cell_type": "code",
   "execution_count": null,
   "metadata": {},
   "outputs": [],
   "source": [
    "sum(map(lambda x: \"TAIC\" in x, os.listdir(\"../../output/report_pdfs\")))"
   ]
  },
  {
   "cell_type": "code",
   "execution_count": null,
   "metadata": {},
   "outputs": [],
   "source": [
    "pd.read_pickle(os.path.join(output_folder, \"report_titles.pkl\"))['report_id'].str.startswith(\"TAIC\").sum()"
   ]
  },
  {
   "cell_type": "code",
   "execution_count": null,
   "metadata": {},
   "outputs": [],
   "source": [
    "extracted_reports[extracted_reports['agency'] == \"TAIC\"]"
   ]
  },
  {
   "cell_type": "code",
   "execution_count": null,
   "metadata": {},
   "outputs": [],
   "source": [
    "extracted_reports = pd.read_pickle(os.path.join(output_folder, \"extracted_reports.pkl\"))\n",
    "\n",
    "extracted_reports"
   ]
  },
  {
   "cell_type": "code",
   "execution_count": null,
   "metadata": {},
   "outputs": [],
   "source": [
    "pd.read_pickle(os.path.join(test_output_folder, \"extracted_reports.pkl\"))"
   ]
  },
  {
   "cell_type": "code",
   "execution_count": null,
   "metadata": {},
   "outputs": [],
   "source": [
    "extracted_reports.sample(n=50, random_state=42, ignore_index=True).to_pickle(os.path.join(test_output_folder, \"extracted_reports.pkl\"))"
   ]
  },
  {
   "cell_type": "markdown",
   "metadata": {},
   "source": [
    "# Embeddings"
   ]
  },
  {
   "cell_type": "code",
   "execution_count": null,
   "metadata": {},
   "outputs": [],
   "source": [
    "embedding_files = os.listdir(os.path.join(output_folder,\"embeddings\"))\n",
    "\n",
    "embedding_dfs = [pd.read_pickle(os.path.join(output_folder, \"embeddings\", file)) for file in embedding_files]\n",
    "\n",
    "embedding_dfs = [df.sample(n=10, random_state=42, ignore_index=True) for df in embedding_dfs]\n",
    "\n",
    "os.makedirs(os.path.join(output_folder, \"embeddings\"), exist_ok=True)\n",
    "\n",
    "for name, df in zip(embedding_files, embedding_dfs):\n",
    "    df.to_pickle(os.path.join(test_output_folder, \"embeddings\", name))\n",
    "    print(df)"
   ]
  },
  {
   "cell_type": "markdown",
   "metadata": {},
   "source": [
    "## Vector db"
   ]
  },
  {
   "cell_type": "code",
   "execution_count": null,
   "metadata": {},
   "outputs": [],
   "source": [
    "import dotenv\n",
    "import engine.utils.EngineOutputStorage as EngineOutputStorage\n",
    "\n",
    "dotenv.load_dotenv()\n",
    "\n",
    "uploader = EngineOutputStorage.EngineOutputUploader(\n",
    "    os.environ['AZURE_STORAGE_ACCOUNT_NAME'],\n",
    "    os.environ['AZURE_STORAGE_ACCOUNT_KEY'],\n",
    "    \"engineoutput\",\n",
    "    None,\n",
    "    \"../../tests/data/vector_db\",\n",
    "    \"../../output/embeddings/safety_issues_embeddings.pkl\",\n",
    "    \"../../output/embeddings/recommendations_embeddings.pkl\",\n",
    "    \"../../output/embeddings/report_sections_embeddings.pkl\",\n",
    "    \"../../output/embeddings/report_text_embeddings.pkl\",\n",
    ")\n",
    "\n",
    "uploader._upload_embeddings(sample_frac=0.01)"
   ]
  },
  {
   "cell_type": "code",
   "execution_count": null,
   "metadata": {},
   "outputs": [],
   "source": [
    "import lancedb\n",
    "vector_db = lancedb.connect(\"../../tests/data/vector_db\")\n",
    "\n",
    "table = vector_db.open_table(\"all_document_types\")\n",
    "\n",
    "data = table.to_pandas()\n",
    "\n",
    "data"
   ]
  },
  {
   "cell_type": "code",
   "execution_count": null,
   "metadata": {},
   "outputs": [],
   "source": [
    "data['document'].str.contains(\"work\").sum()"
   ]
  },
  {
   "cell_type": "markdown",
   "metadata": {},
   "source": [
    "## Response classification"
   ]
  },
  {
   "cell_type": "code",
   "execution_count": null,
   "metadata": {},
   "outputs": [],
   "source": [
    "rec_classification = pd.read_pickle(os.path.join(output_folder, \"recommendation_response_classification.pkl\"))\n",
    "rec_classification"
   ]
  },
  {
   "cell_type": "code",
   "execution_count": null,
   "metadata": {},
   "outputs": [],
   "source": [
    "# ATSB website safety issues\n",
    "\n",
    "atsb_safety_issues = pd.read_pickle(os.path.join(output_folder, \"atsb_safety_issues.pkl\"))\n",
    "\n",
    "atsb_safety_issues[:-10].to_pickle(os.path.join(test_output_folder, \"atsb_safety_issues.pkl\"))"
   ]
  }
 ],
 "metadata": {
  "kernelspec": {
   "display_name": "taic-report-engine-vkGeZcZ8-py3.11",
   "language": "python",
   "name": "python3"
  },
  "language_info": {
   "codemirror_mode": {
    "name": "ipython",
    "version": 3
   },
   "file_extension": ".py",
   "mimetype": "text/x-python",
   "name": "python",
   "nbconvert_exporter": "python",
   "pygments_lexer": "ipython3"
  }
 },
 "nbformat": 4,
 "nbformat_minor": 2
}
