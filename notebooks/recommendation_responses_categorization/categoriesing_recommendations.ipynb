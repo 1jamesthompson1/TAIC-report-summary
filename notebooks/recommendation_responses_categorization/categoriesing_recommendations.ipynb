{
 "cells": [
  {
   "cell_type": "markdown",
   "metadata": {},
   "source": [
    "# What\n",
    "\n",
    "As discussed in https://github.com/1jamesthompson1/TAIC-report-summary/issues/138 each recommendation that TAIC issues also has a response. These responses have a few categories.\n",
    "\n",
    "## How to do it\n",
    "\n",
    "I have a dataset file that are all of the recommendations from TAIC. \n",
    "\n",
    "I also have 10 random examples of categorized recommendations.\n",
    "\n",
    "I will start by just asking it and seeing how it does against this exmaples. Then I can use the examples as exmpaels within the prompt"
   ]
  },
  {
   "cell_type": "markdown",
   "metadata": {},
   "source": [
    "## All of the modules needed\n",
    "\n",
    "To keep things as transparent as possible I will add all of the dependencies at the top."
   ]
  },
  {
   "cell_type": "code",
   "execution_count": 38,
   "metadata": {},
   "outputs": [],
   "source": [
    "# From the engine\n",
    "from engine.OpenAICaller import openAICaller\n",
    "\n",
    "# Third party\n",
    "import pandas as pd\n",
    "\n",
    "# Built in\n",
    "import os\n",
    "import re\n",
    "import importlib"
   ]
  },
  {
   "cell_type": "code",
   "execution_count": 66,
   "metadata": {},
   "outputs": [],
   "source": [
    "response_categories = [\n",
    "    {\"category\": \"Accepted\", \"definition\": \"The recommendation was accepted (wholly or in part) and is being, has been, or will be implemented\"},\n",
    "    {\"category\": \"Under consideration\", \"definition\": \"The recipient has acknowledged that the recommendation is received and will consider it.\"},\n",
    "    {\"category\": \"Rejected\", \"definition\": \"The recommendation will not be implemented\"}\n",
    "]"
   ]
  },
  {
   "cell_type": "code",
   "execution_count": 26,
   "metadata": {},
   "outputs": [
    {
     "data": {
      "text/plain": [
       "'Accepted - The recommendation was accepted (wholly or in part) and is being, has been, or will be, implemented\\nUnder consideration - The recommendation will not be implemented\\nRejected - The recommendation will not be implemented'"
      ]
     },
     "execution_count": 26,
     "metadata": {},
     "output_type": "execute_result"
    }
   ],
   "source": [
    "\"\\n\".join([f\"{element['category']} - {element['definition']}\" for element in response_categories])"
   ]
  },
  {
   "cell_type": "markdown",
   "metadata": {},
   "source": [
    "# Getting example dataset\n",
    "\n",
    "I will get Ingrid from TAIC to give me some examples"
   ]
  },
  {
   "cell_type": "code",
   "execution_count": 17,
   "metadata": {},
   "outputs": [],
   "source": [
    "# Read Recommendations 2024-04-04.xlsx into dataframe\n",
    "\n",
    "taic_recommendations = pd.read_excel('TAIC_recommendations_04_04_2024.xlsx')"
   ]
  },
  {
   "cell_type": "code",
   "execution_count": 20,
   "metadata": {},
   "outputs": [
    {
     "data": {
      "text/html": [
       "<div>\n",
       "<style scoped>\n",
       "    .dataframe tbody tr th:only-of-type {\n",
       "        vertical-align: middle;\n",
       "    }\n",
       "\n",
       "    .dataframe tbody tr th {\n",
       "        vertical-align: top;\n",
       "    }\n",
       "\n",
       "    .dataframe thead th {\n",
       "        text-align: right;\n",
       "    }\n",
       "</style>\n",
       "<table border=\"1\" class=\"dataframe\">\n",
       "  <thead>\n",
       "    <tr style=\"text-align: right;\">\n",
       "      <th></th>\n",
       "      <th>Number</th>\n",
       "      <th>Recipient</th>\n",
       "      <th>Safety Issue</th>\n",
       "      <th>Inquiry</th>\n",
       "      <th>Status</th>\n",
       "      <th>Made</th>\n",
       "      <th>Closed</th>\n",
       "      <th>Recommendation</th>\n",
       "      <th>Reply Text</th>\n",
       "      <th>report_id</th>\n",
       "      <th>response_category</th>\n",
       "    </tr>\n",
       "  </thead>\n",
       "  <tbody>\n",
       "    <tr>\n",
       "      <th>12</th>\n",
       "      <td>032/23</td>\n",
       "      <td>KiwiRail</td>\n",
       "      <td>Awareness and education</td>\n",
       "      <td>RO-2022-103</td>\n",
       "      <td>Open</td>\n",
       "      <td>2023-09-27</td>\n",
       "      <td>NaT</td>\n",
       "      <td>On 27 September 2023, the Commission recommend...</td>\n",
       "      <td>032/23:\\tThe Commission recommended that KiwiR...</td>\n",
       "      <td>2022_103</td>\n",
       "      <td>To be filled out</td>\n",
       "    </tr>\n",
       "    <tr>\n",
       "      <th>315</th>\n",
       "      <td>040/10</td>\n",
       "      <td>NZTA</td>\n",
       "      <td>NaN</td>\n",
       "      <td>RO-2009-103</td>\n",
       "      <td>Closed acceptable</td>\n",
       "      <td>2010-09-23</td>\n",
       "      <td>2012-06-28</td>\n",
       "      <td>KiwiRail provided a draft document that demons...</td>\n",
       "      <td>We intend to work closely with KiwiRail to ove...</td>\n",
       "      <td>2009_103</td>\n",
       "      <td>To be filled out</td>\n",
       "    </tr>\n",
       "    <tr>\n",
       "      <th>181</th>\n",
       "      <td>020/15</td>\n",
       "      <td>CAA</td>\n",
       "      <td>NaN</td>\n",
       "      <td>AO-2013-006</td>\n",
       "      <td>Closed acceptable</td>\n",
       "      <td>2016-02-25</td>\n",
       "      <td>2017-10-25</td>\n",
       "      <td>On 25 February 2016 the Commission recommended...</td>\n",
       "      <td>The recommendation to check aerodrome lighting...</td>\n",
       "      <td>2013_006</td>\n",
       "      <td>To be filled out</td>\n",
       "    </tr>\n",
       "    <tr>\n",
       "      <th>256</th>\n",
       "      <td>036/12</td>\n",
       "      <td>CAA</td>\n",
       "      <td>NaN</td>\n",
       "      <td>AO-2011-002</td>\n",
       "      <td>Closed acceptable</td>\n",
       "      <td>2012-12-14</td>\n",
       "      <td>2018-04-23</td>\n",
       "      <td>On 14 December 2012 the Commission recommended...</td>\n",
       "      <td>On 16 Januray 2013 the Director of Civil Aviat...</td>\n",
       "      <td>2011_002</td>\n",
       "      <td>To be filled out</td>\n",
       "    </tr>\n",
       "    <tr>\n",
       "      <th>274</th>\n",
       "      <td>008/12</td>\n",
       "      <td>CAA</td>\n",
       "      <td>NaN</td>\n",
       "      <td>AO-2010-009</td>\n",
       "      <td>Open</td>\n",
       "      <td>2012-03-22</td>\n",
       "      <td>NaT</td>\n",
       "      <td>The wearing of appropriate seat restraints can...</td>\n",
       "      <td>Accepted.  The Director will monitor the outco...</td>\n",
       "      <td>2010_009</td>\n",
       "      <td>To be filled out</td>\n",
       "    </tr>\n",
       "    <tr>\n",
       "      <th>237</th>\n",
       "      <td>016/13</td>\n",
       "      <td>KiwiRail</td>\n",
       "      <td>NaN</td>\n",
       "      <td>RO-2011-102</td>\n",
       "      <td>Closed acceptable</td>\n",
       "      <td>2013-09-26</td>\n",
       "      <td>2015-03-26</td>\n",
       "      <td>The Commission recommends that the Chief Execu...</td>\n",
       "      <td>Recommendations 013/13, 014/13, 015/13 and 016...</td>\n",
       "      <td>2011_102</td>\n",
       "      <td>To be filled out</td>\n",
       "    </tr>\n",
       "    <tr>\n",
       "      <th>129</th>\n",
       "      <td>035/17</td>\n",
       "      <td>MNZ</td>\n",
       "      <td>NaN</td>\n",
       "      <td>MO-2016-201</td>\n",
       "      <td>Closed acceptable</td>\n",
       "      <td>2017-12-16</td>\n",
       "      <td>2020-04-06</td>\n",
       "      <td>The CO2 fixed fire-fighting system installed i...</td>\n",
       "      <td>I accept this recommendation. Maritime New Zea...</td>\n",
       "      <td>2016_201</td>\n",
       "      <td>To be filled out</td>\n",
       "    </tr>\n",
       "    <tr>\n",
       "      <th>105</th>\n",
       "      <td>029/18</td>\n",
       "      <td>Navim Group</td>\n",
       "      <td>NaN</td>\n",
       "      <td>MO-2017-203</td>\n",
       "      <td>Open</td>\n",
       "      <td>2018-11-22</td>\n",
       "      <td>NaT</td>\n",
       "      <td>The nitrogen cylinders that formed part of the...</td>\n",
       "      <td>The accident highlighted the need to pay extra...</td>\n",
       "      <td>2017_203</td>\n",
       "      <td>To be filled out</td>\n",
       "    </tr>\n",
       "    <tr>\n",
       "      <th>141</th>\n",
       "      <td>025/17</td>\n",
       "      <td>KiwiRail</td>\n",
       "      <td>NaN</td>\n",
       "      <td>RO-2016-102</td>\n",
       "      <td>Closed acceptable</td>\n",
       "      <td>2017-08-24</td>\n",
       "      <td>2018-03-26</td>\n",
       "      <td>On 24 August 2017, the Commission recommended ...</td>\n",
       "      <td>KiwiRail will review its policy and procedures...</td>\n",
       "      <td>2016_102</td>\n",
       "      <td>To be filled out</td>\n",
       "    </tr>\n",
       "    <tr>\n",
       "      <th>60</th>\n",
       "      <td>003/22</td>\n",
       "      <td>Oceanic Fishing Limited</td>\n",
       "      <td>Ensuring compliance</td>\n",
       "      <td>MO-2021-203</td>\n",
       "      <td>Open</td>\n",
       "      <td>2022-03-23</td>\n",
       "      <td>NaT</td>\n",
       "      <td>The Commission recommended that Oceanic Fishin...</td>\n",
       "      <td>Oceanic Fishing Limited replied, in part:_x000...</td>\n",
       "      <td>2021_203</td>\n",
       "      <td>To be filled out</td>\n",
       "    </tr>\n",
       "  </tbody>\n",
       "</table>\n",
       "</div>"
      ],
      "text/plain": [
       "     Number                Recipient             Safety Issue      Inquiry  \\\n",
       "12   032/23                 KiwiRail  Awareness and education  RO-2022-103   \n",
       "315  040/10                     NZTA                      NaN  RO-2009-103   \n",
       "181  020/15                      CAA                      NaN  AO-2013-006   \n",
       "256  036/12                      CAA                      NaN  AO-2011-002   \n",
       "274  008/12                      CAA                      NaN  AO-2010-009   \n",
       "237  016/13                 KiwiRail                      NaN  RO-2011-102   \n",
       "129  035/17                      MNZ                      NaN  MO-2016-201   \n",
       "105  029/18              Navim Group                      NaN  MO-2017-203   \n",
       "141  025/17                 KiwiRail                      NaN  RO-2016-102   \n",
       "60   003/22  Oceanic Fishing Limited      Ensuring compliance  MO-2021-203   \n",
       "\n",
       "                Status       Made     Closed  \\\n",
       "12                Open 2023-09-27        NaT   \n",
       "315  Closed acceptable 2010-09-23 2012-06-28   \n",
       "181  Closed acceptable 2016-02-25 2017-10-25   \n",
       "256  Closed acceptable 2012-12-14 2018-04-23   \n",
       "274               Open 2012-03-22        NaT   \n",
       "237  Closed acceptable 2013-09-26 2015-03-26   \n",
       "129  Closed acceptable 2017-12-16 2020-04-06   \n",
       "105               Open 2018-11-22        NaT   \n",
       "141  Closed acceptable 2017-08-24 2018-03-26   \n",
       "60                Open 2022-03-23        NaT   \n",
       "\n",
       "                                        Recommendation  \\\n",
       "12   On 27 September 2023, the Commission recommend...   \n",
       "315  KiwiRail provided a draft document that demons...   \n",
       "181  On 25 February 2016 the Commission recommended...   \n",
       "256  On 14 December 2012 the Commission recommended...   \n",
       "274  The wearing of appropriate seat restraints can...   \n",
       "237  The Commission recommends that the Chief Execu...   \n",
       "129  The CO2 fixed fire-fighting system installed i...   \n",
       "105  The nitrogen cylinders that formed part of the...   \n",
       "141  On 24 August 2017, the Commission recommended ...   \n",
       "60   The Commission recommended that Oceanic Fishin...   \n",
       "\n",
       "                                            Reply Text report_id  \\\n",
       "12   032/23:\\tThe Commission recommended that KiwiR...  2022_103   \n",
       "315  We intend to work closely with KiwiRail to ove...  2009_103   \n",
       "181  The recommendation to check aerodrome lighting...  2013_006   \n",
       "256  On 16 Januray 2013 the Director of Civil Aviat...  2011_002   \n",
       "274  Accepted.  The Director will monitor the outco...  2010_009   \n",
       "237  Recommendations 013/13, 014/13, 015/13 and 016...  2011_102   \n",
       "129  I accept this recommendation. Maritime New Zea...  2016_201   \n",
       "105  The accident highlighted the need to pay extra...  2017_203   \n",
       "141  KiwiRail will review its policy and procedures...  2016_102   \n",
       "60   Oceanic Fishing Limited replied, in part:_x000...  2021_203   \n",
       "\n",
       "    response_category  \n",
       "12   To be filled out  \n",
       "315  To be filled out  \n",
       "181  To be filled out  \n",
       "256  To be filled out  \n",
       "274  To be filled out  \n",
       "237  To be filled out  \n",
       "129  To be filled out  \n",
       "105  To be filled out  \n",
       "141  To be filled out  \n",
       "60   To be filled out  "
      ]
     },
     "execution_count": 20,
     "metadata": {},
     "output_type": "execute_result"
    }
   ],
   "source": [
    "# Get a sample where recommendation and reply is not empty\n",
    "def clean_TAIC_recommendations(df):\n",
    "    df.dropna(subset=[\"Recommendation\", \"Inquiry\", \"Number\", \"Reply Text\"], inplace = True)\n",
    "    df = df[(df['Made'] >= '2010-01-01') & (df['Made'] <= '2024-12-31')]\n",
    "\n",
    "    # structure the inquiry to be able to match with rest of project\n",
    "    inquiry_regex = r'^(((AO)|(MO)|(RO))-[12][09][987012]\\d-[012]\\d{2})$'\n",
    "    df = df[df['Inquiry'].str.match(inquiry_regex)]\n",
    "    df['report_id'] = df['Inquiry'].apply(lambda x: \"_\".join(x.split('-')[1:3]))\n",
    "    return df\n",
    "\n",
    "sample_df = clean_TAIC_recommendations(taic_recommendations)\n",
    "\n",
    "sample_df = sample_df.sample(10, random_state=42)\n",
    "\n",
    "sample_df['response_category'] = \"To be filled out\"\n",
    "\n",
    "sample_df"
   ]
  },
  {
   "cell_type": "code",
   "execution_count": 30,
   "metadata": {},
   "outputs": [],
   "source": [
    "# Get defintions read\n",
    "\n",
    "df_definitions = pd.DataFrame(response_categories)"
   ]
  },
  {
   "cell_type": "code",
   "execution_count": 31,
   "metadata": {},
   "outputs": [],
   "source": [
    "with pd.ExcelWriter('example_recommendation_categories_ingrid.xlsx', engine='openpyxl') as writer:\n",
    "    sample_df.to_excel(writer, sheet_name='Recommendations')\n",
    "    df_definitions.to_excel(writer, sheet_name='Definitions')"
   ]
  },
  {
   "cell_type": "markdown",
   "metadata": {},
   "source": [
    "# Performing categorization\n",
    "\n"
   ]
  },
  {
   "cell_type": "markdown",
   "metadata": {},
   "source": [
    "## Get datasets \n",
    "\n"
   ]
  },
  {
   "cell_type": "code",
   "execution_count": 44,
   "metadata": {},
   "outputs": [],
   "source": [
    "# Get examples from Ingrid\n",
    "\n",
    "ingrid_categories = pd.read_excel('example_recommendation_categories_ingrid_responses.xlsx')\n",
    "\n",
    "ingrid_categories['response_category_example'] = ingrid_categories['response_category'].apply(lambda x: response_categories[x]['category'])\n",
    "\n",
    "ingrid_categories.drop(columns=['response_category'], inplace=True)\n",
    "\n",
    "# Update 011/17 as N/A\n",
    "ingrid_categories.loc[ingrid_categories['Number'] == '011/17', 'response_category_example'] = \"N/A\""
   ]
  },
  {
   "cell_type": "code",
   "execution_count": 45,
   "metadata": {},
   "outputs": [],
   "source": [
    "# Get all recommendations from TAIC\n",
    "\n",
    "taic_recommendations_cleaned = clean_TAIC_recommendations(taic_recommendations)"
   ]
  },
  {
   "cell_type": "code",
   "execution_count": 47,
   "metadata": {},
   "outputs": [],
   "source": [
    "# Combine datasets together\n",
    "\n",
    "recommendations_df = taic_recommendations_cleaned.merge(ingrid_categories, how='outer')\n",
    "\n",
    "recommendations_df = recommendations_df[['report_id', 'Number', 'Recommendation', 'Reply Text' ,'Made', 'Recipient', 'response_category_example']]\n",
    "\n",
    "# change all columsn to lower case and repalce spaces with _\n",
    "recommendations_df.columns = recommendations_df.columns.str.lower().str.replace(' ', '_')"
   ]
  },
  {
   "cell_type": "markdown",
   "metadata": {},
   "source": [
    "## Assign Categories\n",
    "\n"
   ]
  },
  {
   "cell_type": "code",
   "execution_count": 59,
   "metadata": {},
   "outputs": [],
   "source": [
    "def assign_response_category(response, recommendation_num):\n",
    "    categories = '\\n'.join([f\"{element['category']} - {element['definition']}\" for element in response_categories])\n",
    "\n",
    "    system_prompt = f\"\"\"\n",
    "You are helping me put responses into categories.\n",
    "\n",
    "These responses are to recommendations that were made in a transport accident investigation report. These recommendations are issued directly to a particular party.\n",
    "\n",
    "There are three categories:\n",
    "\n",
    "{categories}\n",
    "\n",
    "However if there are responses that don't fit into any of the categories then you can put them as N/A. These may be responses that request further information or want recommendation to be sent elsewhere.\n",
    "\n",
    "Your response should just be the name of the category with nothing else.\n",
    "\"\"\"\n",
    "    user_prompt = f\"\"\"\n",
    "Which category is this response in?\n",
    "\n",
    "\"\n",
    "{response}\n",
    "\"\n",
    "\n",
    "in regards to recommendation number {recommendation_num}\n",
    "\"\"\"\n",
    "\n",
    "    # print(f\"system propmt is:\\n{system_prompt} and user prompt is:\\n{user_prompt}\")\n",
    "\n",
    "    openai_response = openAICaller.query(\n",
    "        system_prompt,\n",
    "        user_prompt,\n",
    "        model = \"gpt-4\",\n",
    "        temp = 0\n",
    "    )\n",
    "\n",
    "    if openai_response in [category['category'] for category in response_categories] + ['N/A']:\n",
    "        return openai_response\n",
    "    else:\n",
    "        print(f\"Did not match any of the categories - {openai_response}\")\n",
    "        return None"
   ]
  },
  {
   "cell_type": "code",
   "execution_count": 67,
   "metadata": {},
   "outputs": [],
   "source": [
    "sample_recommendations_df = recommendations_df.sample(25, random_state=42)\n",
    "\n",
    "sample_recommendations_df['response_category'] = sample_recommendations_df.apply(lambda x: assign_response_category(x['reply_text'], x['number']), axis=1)\n"
   ]
  },
  {
   "cell_type": "code",
   "execution_count": 64,
   "metadata": {},
   "outputs": [
    {
     "name": "stderr",
     "output_type": "stream",
     "text": [
      "/tmp/ipykernel_67291/2879055102.py:2: SettingWithCopyWarning: \n",
      "A value is trying to be set on a copy of a slice from a DataFrame.\n",
      "Try using .loc[row_indexer,col_indexer] = value instead\n",
      "\n",
      "See the caveats in the documentation: https://pandas.pydata.org/pandas-docs/stable/user_guide/indexing.html#returning-a-view-versus-a-copy\n",
      "  examples_recommendations_df['response_category'] = examples_recommendations_df.apply(lambda x: assign_response_category(x['reply_text'], x['number']), axis=1)\n"
     ]
    }
   ],
   "source": [
    "\n",
    "examples_recommendations_df = recommendations_df[~recommendations_df['response_category_example'].isna()]\n",
    "examples_recommendations_df['response_category'] = examples_recommendations_df.apply(lambda x: assign_response_category(x['reply_text'], x['number']), axis=1)"
   ]
  },
  {
   "cell_type": "code",
   "execution_count": 65,
   "metadata": {},
   "outputs": [
    {
     "data": {
      "text/plain": [
       "0.8"
      ]
     },
     "execution_count": 65,
     "metadata": {},
     "output_type": "execute_result"
    }
   ],
   "source": [
    "# Compare the results\n",
    "\n",
    "comparison = examples_recommendations_df['response_category'] == examples_recommendations_df['response_category_example']\n",
    "\n",
    "sum(comparison)/len(comparison)\n",
    "\n"
   ]
  }
 ],
 "metadata": {
  "kernelspec": {
   "display_name": "taic-report-engine-vkGeZcZ8-py3.11",
   "language": "python",
   "name": "python3"
  },
  "language_info": {
   "codemirror_mode": {
    "name": "ipython",
    "version": 3
   },
   "file_extension": ".py",
   "mimetype": "text/x-python",
   "name": "python",
   "nbconvert_exporter": "python",
   "pygments_lexer": "ipython3",
   "version": "3.11.5"
  }
 },
 "nbformat": 4,
 "nbformat_minor": 2
}
