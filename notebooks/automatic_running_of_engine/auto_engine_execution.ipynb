{
 "cells": [
  {
   "cell_type": "markdown",
   "metadata": {},
   "source": [
    "# What\n",
    "\n",
    "As in #231 the engine needs to run automatically. This means that it needs to store some of the engine intermediate output in the cloud.\n",
    "\n",
    "This means that it can be ran each time without having to run the engine from the beginning."
   ]
  },
  {
   "cell_type": "markdown",
   "metadata": {},
   "source": [
    "## Modules"
   ]
  },
  {
   "cell_type": "code",
   "execution_count": null,
   "metadata": {},
   "outputs": [],
   "source": [
    "from azure.storage.blob import BlobServiceClient\n",
    "import pytz\n",
    "from tqdm import tqdm\n",
    "\n",
    "from dotenv import load_dotenv\n",
    "import os\n",
    "from datetime import datetime\n",
    "\n",
    "load_dotenv()"
   ]
  },
  {
   "cell_type": "markdown",
   "metadata": {},
   "source": [
    "# Connecting to storage container"
   ]
  },
  {
   "cell_type": "code",
   "execution_count": null,
   "metadata": {},
   "outputs": [],
   "source": [
    "blob_service_client = BlobServiceClient.from_connection_string(\n",
    "    f\"DefaultEndpointsProtocol=https;AccountName={os.getenv('AZURE_STORAGE_ACCOUNT_NAME')};AccountKey={os.getenv('AZURE_STORAGE_ACCOUNT_KEY')}==;EndpointSuffix=core.windows.net\"\n",
    ")\n",
    "\n",
    "containers = list(blob_service_client.list_containers())\n"
   ]
  },
  {
   "cell_type": "code",
   "execution_count": null,
   "metadata": {},
   "outputs": [],
   "source": [
    "engine_output_container = blob_service_client.get_container_client(\"engineoutput\")\n",
    "engine_output_container.create_container()"
   ]
  },
  {
   "cell_type": "markdown",
   "metadata": {},
   "source": [
    "# Uploading the output folder to storage "
   ]
  },
  {
   "cell_type": "code",
   "execution_count": null,
   "metadata": {},
   "outputs": [],
   "source": [
    "# Function to upload a file\n",
    "def upload_file(file_path, container, uploaded_file_name):\n",
    "    blob_client = container.get_blob_client(uploaded_file_name)\n",
    "    print(f\"Uploading {file_path} to {uploaded_file_name}\")\n",
    "    with open(file_path, \"rb\") as data:\n",
    "        blob_client.upload_blob(data)\n",
    "\n",
    "# Function to upload a folder\n",
    "def upload_folder(folder_path, container, uploaded_folder_name):\n",
    "    for root, _, files in tqdm(os.walk(folder_path)):\n",
    "        for file_name in files:\n",
    "            file_path = os.path.join(root, file_name)\n",
    "            uploaded_file_name = os.path.join(uploaded_folder_name, os.path.relpath(file_path, folder_path))\n",
    "            upload_file(file_path, container, uploaded_file_name)\n",
    "\n",
    "upload_folder(\"../../output\", engine_output_container, datetime.now(pytz.timezone(\"Pacific/Auckland\")).strftime(\"%Y-%m-%d_%H:%M:%S\"))"
   ]
  },
  {
   "cell_type": "markdown",
   "metadata": {},
   "source": [
    "# Download the output folder from storage"
   ]
  },
  {
   "cell_type": "code",
   "execution_count": null,
   "metadata": {},
   "outputs": [],
   "source": [
    "def get_latest_folder(container):\n",
    "    blob_names  = list(container.list_blobs())\n",
    "\n",
    "    folders = list(set([f.name.split(\"/\")[0]  for f in blob_names]))\n",
    "\n",
    "    dates = [datetime.strptime(date, \"%Y-%m-%d_%H:%M:%S\").astimezone(pytz.timezone(\"Pacific/Auckland\")) for date in folders]\n",
    "\n",
    "    return folders[dates.index(max(dates))]\n",
    "\n",
    "get_latest_folder(engine_output_container)"
   ]
  },
  {
   "cell_type": "code",
   "execution_count": null,
   "metadata": {},
   "outputs": [],
   "source": [
    "def download_folder(container, folder_name, downloaded_folder_name):\n",
    "    blobs = container.list_blobs(name_starts_with=folder_name)\n",
    "\n",
    "        \n",
    "    for blob in blobs:\n",
    "        blob_name = blob.name\n",
    "        blob_client = container.get_blob_client(blob_name)\n",
    "        print(f\"Downloading {blob_name} to {downloaded_folder_name}\")\n",
    "        download_path = os.path.join(downloaded_folder_name, os.path.relpath(blob_name, folder_name))\n",
    "        if not os.path.exists(os.path.dirname(download_path)):\n",
    "            os.makedirs(os.path.dirname(download_path))\n",
    "        with open(download_path, \"wb\") as data:\n",
    "            blob_client.download_blob().readinto(data)\n",
    "\n",
    "download_folder(engine_output_container, get_latest_folder(engine_output_container), \"test\")"
   ]
  }
 ],
 "metadata": {
  "language_info": {
   "name": "python"
  }
 },
 "nbformat": 4,
 "nbformat_minor": 2
}
