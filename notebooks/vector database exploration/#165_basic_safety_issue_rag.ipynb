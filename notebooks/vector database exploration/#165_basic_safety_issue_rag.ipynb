{
 "cells": [
  {
   "cell_type": "markdown",
   "metadata": {},
   "source": [
    "# What\n",
    "\n",
    "This notebook will be where the work for #165 will take place.\n",
    "\n",
    "As per the issues there are three steps, getting embedding dataset, creating the vector database and then building the RAg on top."
   ]
  },
  {
   "cell_type": "markdown",
   "metadata": {},
   "source": [
    "## Modules"
   ]
  },
  {
   "cell_type": "code",
   "execution_count": 2,
   "metadata": {},
   "outputs": [],
   "source": [
    "# Third Party\n",
    "import pandas as pd\n",
    "\n",
    "from dotenv import load_dotenv\n",
    "load_dotenv('../../.env')\n",
    "\n",
    "import openai\n",
    "\n",
    "from lancedb.embeddings import get_registry\n",
    "from lancedb.pydantic import LanceModel, Vector\n",
    "import lancedb\n",
    "import pyarrow as pa\n",
    "\n",
    "import voyageai\n",
    "\n",
    "# built in\n",
    "import os"
   ]
  },
  {
   "cell_type": "markdown",
   "metadata": {},
   "source": [
    "# Getting safety issue embeddings ready\n"
   ]
  },
  {
   "cell_type": "code",
   "execution_count": 64,
   "metadata": {},
   "outputs": [],
   "source": [
    "def read_embedding(file_name):\n",
    "\n",
    "    embedding_folder = 'embeddings'\n",
    "\n",
    "    return pd.read_pickle(os.path.join(embedding_folder, file_name))"
   ]
  },
  {
   "cell_type": "code",
   "execution_count": 65,
   "metadata": {},
   "outputs": [
    {
     "data": {
      "text/html": [
       "<div>\n",
       "<style scoped>\n",
       "    .dataframe tbody tr th:only-of-type {\n",
       "        vertical-align: middle;\n",
       "    }\n",
       "\n",
       "    .dataframe tbody tr th {\n",
       "        vertical-align: top;\n",
       "    }\n",
       "\n",
       "    .dataframe thead th {\n",
       "        text-align: right;\n",
       "    }\n",
       "</style>\n",
       "<table border=\"1\" class=\"dataframe\">\n",
       "  <thead>\n",
       "    <tr style=\"text-align: right;\">\n",
       "      <th></th>\n",
       "      <th>report_id</th>\n",
       "      <th>si</th>\n",
       "      <th>vector</th>\n",
       "    </tr>\n",
       "  </thead>\n",
       "  <tbody>\n",
       "    <tr>\n",
       "      <th>0</th>\n",
       "      <td>2010_001</td>\n",
       "      <td>Airways also required controllers to pass pire...</td>\n",
       "      <td>[0.0235306266695261, 0.026190070435404778, -0....</td>\n",
       "    </tr>\n",
       "    <tr>\n",
       "      <th>1</th>\n",
       "      <td>2010_001</td>\n",
       "      <td>Airways required all pireps to be passed to Me...</td>\n",
       "      <td>[0.019533971324563026, -0.004194759298115969, ...</td>\n",
       "    </tr>\n",
       "    <tr>\n",
       "      <th>2</th>\n",
       "      <td>2010_001</td>\n",
       "      <td>Limitations in the operator's dispatch system ...</td>\n",
       "      <td>[0.0211117435246706, 0.0030384294223040342, -0...</td>\n",
       "    </tr>\n",
       "    <tr>\n",
       "      <th>3</th>\n",
       "      <td>2010_001</td>\n",
       "      <td>The first air traffic controller did not hear ...</td>\n",
       "      <td>[-0.0047742570750415325, 0.019065624102950096,...</td>\n",
       "    </tr>\n",
       "    <tr>\n",
       "      <th>4</th>\n",
       "      <td>2010_001</td>\n",
       "      <td>The report of loose objects on one flight deck...</td>\n",
       "      <td>[0.051376212388277054, 0.023183481767773628, -...</td>\n",
       "    </tr>\n",
       "    <tr>\n",
       "      <th>...</th>\n",
       "      <td>...</td>\n",
       "      <td>...</td>\n",
       "      <td>...</td>\n",
       "    </tr>\n",
       "    <tr>\n",
       "      <th>555</th>\n",
       "      <td>2020_103</td>\n",
       "      <td>There was no evidence that the rail industry h...</td>\n",
       "      <td>[0.035960517823696136, 0.000566903268918395, -...</td>\n",
       "    </tr>\n",
       "    <tr>\n",
       "      <th>556</th>\n",
       "      <td>2020_104</td>\n",
       "      <td>Implementation of an administrative control me...</td>\n",
       "      <td>[0.012205546721816063, 0.027715783566236496, -...</td>\n",
       "    </tr>\n",
       "    <tr>\n",
       "      <th>557</th>\n",
       "      <td>2020_104</td>\n",
       "      <td>The use of an administrative control measure w...</td>\n",
       "      <td>[0.035122018307447433, 0.0015466450713574886, ...</td>\n",
       "    </tr>\n",
       "    <tr>\n",
       "      <th>558</th>\n",
       "      <td>2020_201</td>\n",
       "      <td>The deckhand keeping watch on board the Leila ...</td>\n",
       "      <td>[0.007662773597985506, 0.006944420747458935, 0...</td>\n",
       "    </tr>\n",
       "    <tr>\n",
       "      <th>559</th>\n",
       "      <td>2020_201</td>\n",
       "      <td>The situational awareness of the bridge team o...</td>\n",
       "      <td>[0.00719763757660985, 0.014275219291448593, -0...</td>\n",
       "    </tr>\n",
       "  </tbody>\n",
       "</table>\n",
       "<p>560 rows × 3 columns</p>\n",
       "</div>"
      ],
      "text/plain": [
       "    report_id                                                 si  \\\n",
       "0    2010_001  Airways also required controllers to pass pire...   \n",
       "1    2010_001  Airways required all pireps to be passed to Me...   \n",
       "2    2010_001  Limitations in the operator's dispatch system ...   \n",
       "3    2010_001  The first air traffic controller did not hear ...   \n",
       "4    2010_001  The report of loose objects on one flight deck...   \n",
       "..        ...                                                ...   \n",
       "555  2020_103  There was no evidence that the rail industry h...   \n",
       "556  2020_104  Implementation of an administrative control me...   \n",
       "557  2020_104  The use of an administrative control measure w...   \n",
       "558  2020_201  The deckhand keeping watch on board the Leila ...   \n",
       "559  2020_201  The situational awareness of the bridge team o...   \n",
       "\n",
       "                                                vector  \n",
       "0    [0.0235306266695261, 0.026190070435404778, -0....  \n",
       "1    [0.019533971324563026, -0.004194759298115969, ...  \n",
       "2    [0.0211117435246706, 0.0030384294223040342, -0...  \n",
       "3    [-0.0047742570750415325, 0.019065624102950096,...  \n",
       "4    [0.051376212388277054, 0.023183481767773628, -...  \n",
       "..                                                 ...  \n",
       "555  [0.035960517823696136, 0.000566903268918395, -...  \n",
       "556  [0.012205546721816063, 0.027715783566236496, -...  \n",
       "557  [0.035122018307447433, 0.0015466450713574886, ...  \n",
       "558  [0.007662773597985506, 0.006944420747458935, 0...  \n",
       "559  [0.00719763757660985, 0.014275219291448593, -0...  \n",
       "\n",
       "[560 rows x 3 columns]"
      ]
     },
     "execution_count": 65,
     "metadata": {},
     "output_type": "execute_result"
    }
   ],
   "source": [
    "safety_issue_embeddings = read_embedding('voyageai_si_embeddings.pkl')\n",
    "safety_issue_embeddings.rename(columns={'si_embedding': 'vector'}, inplace=True)\n",
    "safety_issue_embeddings"
   ]
  },
  {
   "cell_type": "markdown",
   "metadata": {},
   "source": [
    "## Checking safety issues distrubitions\n",
    "\n",
    "I have done a rerun of the safety issues and included all since 2000. This means I have alot more safety issues. I need to do a recheck to see if the safety issue extraction is good enough. I think it is quite variable as there seems to be 660ish where the last run through only had 560. More so I didn't think I was doing a run through where it would redo the safety issues."
   ]
  },
  {
   "cell_type": "code",
   "execution_count": null,
   "metadata": {},
   "outputs": [
    {
     "data": {
      "text/plain": [
       "<Axes: >"
      ]
     },
     "metadata": {},
     "output_type": "display_data"
    },
    {
     "data": {
      "image/png": "[encoded data removed]",
      "text/plain": [
       "<Figure size 640x480 with 1 Axes>"
      ]
     },
     "metadata": {},
     "output_type": "display_data"
    }
   ],
   "source": [
    "si_df_test = pd.read_csv('../../output/safety_issues.csv')\n",
    "\n",
    "si_df_test['year'] = si_df_test['report_id'].apply(lambda x: int(x[0:4]))\n",
    "\n",
    "si_df_test['year'].hist()\n"
   ]
  },
  {
   "cell_type": "code",
   "execution_count": null,
   "metadata": {},
   "outputs": [
    {
     "data": {
      "text/plain": [
       "2       2019\n",
       "3       2013\n",
       "4       2013\n",
       "5       2013\n",
       "6       2013\n",
       "        ... \n",
       "1814    2011\n",
       "1818    2017\n",
       "1826    2017\n",
       "1845    2020\n",
       "1846    2020\n",
       "Name: year, Length: 649, dtype: int64"
      ]
     },
     "metadata": {},
     "output_type": "display_data"
    }
   ],
   "source": [
    "si_df_test.query('year >= 2010')['year']"
   ]
  },
  {
   "cell_type": "code",
   "execution_count": null,
   "metadata": {},
   "outputs": [
    {
     "data": {
      "text/plain": [
       "<Axes: >"
      ]
     },
     "metadata": {},
     "output_type": "display_data"
    },
    {
     "data": {
      "image/png": "[encoded data removed]",
      "text/plain": [
       "<Figure size 640x480 with 1 Axes>"
      ]
     },
     "metadata": {},
     "output_type": "display_data"
    }
   ],
   "source": [
    "si_df_test.drop_duplicates(subset=['report_id'])['year'].hist()"
   ]
  },
  {
   "cell_type": "markdown",
   "metadata": {},
   "source": [
    "# Creating vector database"
   ]
  },
  {
   "cell_type": "code",
   "execution_count": 35,
   "metadata": {},
   "outputs": [],
   "source": [
    "uri = 'databases/safety_issue_rag-lancedb'\n",
    "db = lancedb.connect(uri)"
   ]
  },
  {
   "cell_type": "code",
   "execution_count": 80,
   "metadata": {},
   "outputs": [],
   "source": [
    "vo = voyageai.Client()\n",
    "\n",
    "def embed_query(text):\n",
    "\n",
    "    return vo.embed(text, model=\"voyage-large-2-instruct\", input_type=\"query\", truncation=False).embeddings[0]"
   ]
  },
  {
   "cell_type": "markdown",
   "metadata": {},
   "source": [
    "## basic safety issues\n",
    "\n",
    "I am noticing a problem of it not really getting the safety issues which are relevant. One big thing is that it isnt even finding the exact same safety issue! This is a bit of a problem."
   ]
  },
  {
   "cell_type": "code",
   "execution_count": 90,
   "metadata": {},
   "outputs": [
    {
     "data": {
      "text/plain": [
       "LanceTable(connection=LanceDBConnection(/home/james/code/TAIC-report-summary/notebooks/vector database exploration/databases/safety_issue_rag-lancedb), name=\"safety_issue_embeddings\")"
      ]
     },
     "execution_count": 90,
     "metadata": {},
     "output_type": "execute_result"
    }
   ],
   "source": [
    "si_table = db.create_table('safety_issue_embeddings', data = safety_issue_embeddings, mode='overwrite')\n",
    "\n",
    "si_table"
   ]
  },
  {
   "cell_type": "markdown",
   "metadata": {},
   "source": [
    "### Simple vector search"
   ]
  },
  {
   "cell_type": "code",
   "execution_count": 105,
   "metadata": {},
   "outputs": [
    {
     "data": {
      "text/html": [
       "<div>\n",
       "<style scoped>\n",
       "    .dataframe tbody tr th:only-of-type {\n",
       "        vertical-align: middle;\n",
       "    }\n",
       "\n",
       "    .dataframe tbody tr th {\n",
       "        vertical-align: top;\n",
       "    }\n",
       "\n",
       "    .dataframe thead th {\n",
       "        text-align: right;\n",
       "    }\n",
       "</style>\n",
       "<table border=\"1\" class=\"dataframe\">\n",
       "  <thead>\n",
       "    <tr style=\"text-align: right;\">\n",
       "      <th></th>\n",
       "      <th>report_id</th>\n",
       "      <th>si</th>\n",
       "      <th>vector</th>\n",
       "      <th>_distance</th>\n",
       "    </tr>\n",
       "  </thead>\n",
       "  <tbody>\n",
       "    <tr>\n",
       "      <th>0</th>\n",
       "      <td>2019_006</td>\n",
       "      <td>Aerodrome managers, in particular those at una...</td>\n",
       "      <td>[-0.003994223, 0.0041250335, 0.0036287047, 0.0...</td>\n",
       "      <td>0.271422</td>\n",
       "    </tr>\n",
       "    <tr>\n",
       "      <th>1</th>\n",
       "      <td>2019_006</td>\n",
       "      <td>The defence of 'see and avoid' is not foolproo...</td>\n",
       "      <td>[0.036121774, 0.02155234, 0.025125505, -0.0253...</td>\n",
       "      <td>0.295459</td>\n",
       "    </tr>\n",
       "    <tr>\n",
       "      <th>2</th>\n",
       "      <td>2010_005</td>\n",
       "      <td>Local aerodrome user groups benefit their part...</td>\n",
       "      <td>[0.0359204, -0.00898846, -0.006953316, -0.0257...</td>\n",
       "      <td>0.308064</td>\n",
       "    </tr>\n",
       "    <tr>\n",
       "      <th>3</th>\n",
       "      <td>2020_003</td>\n",
       "      <td>The need for comprehensive training and experi...</td>\n",
       "      <td>[-0.00816307, 0.029414471, -0.022614159, 0.001...</td>\n",
       "      <td>0.314813</td>\n",
       "    </tr>\n",
       "    <tr>\n",
       "      <th>4</th>\n",
       "      <td>2010_006</td>\n",
       "      <td>The practice of using the runway for perimeter...</td>\n",
       "      <td>[0.03981119, 0.022379799, -0.024052132, 0.0160...</td>\n",
       "      <td>0.345452</td>\n",
       "    </tr>\n",
       "    <tr>\n",
       "      <th>...</th>\n",
       "      <td>...</td>\n",
       "      <td>...</td>\n",
       "      <td>...</td>\n",
       "      <td>...</td>\n",
       "    </tr>\n",
       "    <tr>\n",
       "      <th>95</th>\n",
       "      <td>2013_006</td>\n",
       "      <td>variances in lighting seen at Auckland Airport...</td>\n",
       "      <td>[0.0037173585, 0.016305361, 0.020727709, 0.042...</td>\n",
       "      <td>0.422202</td>\n",
       "    </tr>\n",
       "    <tr>\n",
       "      <th>96</th>\n",
       "      <td>2013_009</td>\n",
       "      <td>The absence of the 1225 special weather report...</td>\n",
       "      <td>[0.010430236, -0.00013405584, -0.021723745, 0....</td>\n",
       "      <td>0.422708</td>\n",
       "    </tr>\n",
       "    <tr>\n",
       "      <th>97</th>\n",
       "      <td>2019_101</td>\n",
       "      <td>Non-technical skills, particularly in communic...</td>\n",
       "      <td>[-0.008688896, 0.026003174, -0.042322405, 0.04...</td>\n",
       "      <td>0.422746</td>\n",
       "    </tr>\n",
       "    <tr>\n",
       "      <th>98</th>\n",
       "      <td>2019_107</td>\n",
       "      <td>The newly certified Melling train driver's rel...</td>\n",
       "      <td>[0.06352319, -0.0040605636, -0.037888713, 0.06...</td>\n",
       "      <td>0.422816</td>\n",
       "    </tr>\n",
       "    <tr>\n",
       "      <th>99</th>\n",
       "      <td>2010_007</td>\n",
       "      <td>Although not a factor in this incident, the us...</td>\n",
       "      <td>[0.011709626, -0.023196299, 0.0022093358, 0.01...</td>\n",
       "      <td>0.423105</td>\n",
       "    </tr>\n",
       "  </tbody>\n",
       "</table>\n",
       "<p>100 rows × 4 columns</p>\n",
       "</div>"
      ],
      "text/plain": [
       "   report_id                                                 si  \\\n",
       "0   2019_006  Aerodrome managers, in particular those at una...   \n",
       "1   2019_006  The defence of 'see and avoid' is not foolproo...   \n",
       "2   2010_005  Local aerodrome user groups benefit their part...   \n",
       "3   2020_003  The need for comprehensive training and experi...   \n",
       "4   2010_006  The practice of using the runway for perimeter...   \n",
       "..       ...                                                ...   \n",
       "95  2013_006  variances in lighting seen at Auckland Airport...   \n",
       "96  2013_009  The absence of the 1225 special weather report...   \n",
       "97  2019_101  Non-technical skills, particularly in communic...   \n",
       "98  2019_107  The newly certified Melling train driver's rel...   \n",
       "99  2010_007  Although not a factor in this incident, the us...   \n",
       "\n",
       "                                               vector  _distance  \n",
       "0   [-0.003994223, 0.0041250335, 0.0036287047, 0.0...   0.271422  \n",
       "1   [0.036121774, 0.02155234, 0.025125505, -0.0253...   0.295459  \n",
       "2   [0.0359204, -0.00898846, -0.006953316, -0.0257...   0.308064  \n",
       "3   [-0.00816307, 0.029414471, -0.022614159, 0.001...   0.314813  \n",
       "4   [0.03981119, 0.022379799, -0.024052132, 0.0160...   0.345452  \n",
       "..                                                ...        ...  \n",
       "95  [0.0037173585, 0.016305361, 0.020727709, 0.042...   0.422202  \n",
       "96  [0.010430236, -0.00013405584, -0.021723745, 0....   0.422708  \n",
       "97  [-0.008688896, 0.026003174, -0.042322405, 0.04...   0.422746  \n",
       "98  [0.06352319, -0.0040605636, -0.037888713, 0.06...   0.422816  \n",
       "99  [0.011709626, -0.023196299, 0.0022093358, 0.01...   0.423105  \n",
       "\n",
       "[100 rows x 4 columns]"
      ]
     },
     "execution_count": 105,
     "metadata": {},
     "output_type": "execute_result"
    }
   ],
   "source": [
    "query = \"Close proximity events at unattended aerodromes\"\n",
    "search_results = si_table.search(embed_query(query)) \\\n",
    "    .metric(\"cosine\") \\\n",
    "    .limit(100) \\\n",
    "    .to_pandas()\n",
    "\n",
    "search_results"
   ]
  },
  {
   "cell_type": "markdown",
   "metadata": {},
   "source": [
    "### Hybrid search"
   ]
  },
  {
   "cell_type": "code",
   "execution_count": 106,
   "metadata": {},
   "outputs": [
    {
     "data": {
      "text/html": [
       "<div>\n",
       "<style scoped>\n",
       "    .dataframe tbody tr th:only-of-type {\n",
       "        vertical-align: middle;\n",
       "    }\n",
       "\n",
       "    .dataframe tbody tr th {\n",
       "        vertical-align: top;\n",
       "    }\n",
       "\n",
       "    .dataframe thead th {\n",
       "        text-align: right;\n",
       "    }\n",
       "</style>\n",
       "<table border=\"1\" class=\"dataframe\">\n",
       "  <thead>\n",
       "    <tr style=\"text-align: right;\">\n",
       "      <th></th>\n",
       "      <th>report_id</th>\n",
       "      <th>si</th>\n",
       "      <th>vector</th>\n",
       "      <th>_relevance_score</th>\n",
       "    </tr>\n",
       "  </thead>\n",
       "  <tbody>\n",
       "    <tr>\n",
       "      <th>0</th>\n",
       "      <td>2019_006</td>\n",
       "      <td>Aerodrome managers, in particular those at una...</td>\n",
       "      <td>[-0.003994223, 0.0041250335, 0.0036287047, 0.0...</td>\n",
       "      <td>0.923737</td>\n",
       "    </tr>\n",
       "    <tr>\n",
       "      <th>1</th>\n",
       "      <td>2019_006</td>\n",
       "      <td>The defence of 'see and avoid' is not foolproo...</td>\n",
       "      <td>[0.036121774, 0.02155234, 0.025125505, -0.0253...</td>\n",
       "      <td>0.509126</td>\n",
       "    </tr>\n",
       "    <tr>\n",
       "      <th>2</th>\n",
       "      <td>2010_005</td>\n",
       "      <td>Local aerodrome user groups benefit their part...</td>\n",
       "      <td>[0.0359204, -0.00898846, -0.006953316, -0.0257...</td>\n",
       "      <td>0.404466</td>\n",
       "    </tr>\n",
       "    <tr>\n",
       "      <th>3</th>\n",
       "      <td>2020_003</td>\n",
       "      <td>The need for comprehensive training and experi...</td>\n",
       "      <td>[-0.00816307, 0.029414471, -0.022614159, 0.001...</td>\n",
       "      <td>0.350035</td>\n",
       "    </tr>\n",
       "    <tr>\n",
       "      <th>4</th>\n",
       "      <td>2016_203</td>\n",
       "      <td>The cadet was allowed to work at height close ...</td>\n",
       "      <td>[0.019486494, 0.010236033, 0.001041602, 0.0485...</td>\n",
       "      <td>0.204231</td>\n",
       "    </tr>\n",
       "    <tr>\n",
       "      <th>5</th>\n",
       "      <td>2010_005</td>\n",
       "      <td>Civil Aviation Rule 91.223 can be interpreted ...</td>\n",
       "      <td>[-0.0029669548, 0.010661324, 0.019351719, 0.01...</td>\n",
       "      <td>0.178750</td>\n",
       "    </tr>\n",
       "    <tr>\n",
       "      <th>6</th>\n",
       "      <td>2020_003</td>\n",
       "      <td>The importance of pilot training to include em...</td>\n",
       "      <td>[0.024444388, -0.010275807, -0.021477563, -0.0...</td>\n",
       "      <td>0.111060</td>\n",
       "    </tr>\n",
       "    <tr>\n",
       "      <th>7</th>\n",
       "      <td>2010_006</td>\n",
       "      <td>The practice of using the runway for perimeter...</td>\n",
       "      <td>[0.03981119, 0.022379799, -0.024052132, 0.0160...</td>\n",
       "      <td>0.102929</td>\n",
       "    </tr>\n",
       "    <tr>\n",
       "      <th>8</th>\n",
       "      <td>2015_009</td>\n",
       "      <td>Changes in the size and shape of the Hamilton ...</td>\n",
       "      <td>[0.041342277, -0.0031766926, -0.017588293, -0....</td>\n",
       "      <td>0.079958</td>\n",
       "    </tr>\n",
       "    <tr>\n",
       "      <th>9</th>\n",
       "      <td>2010_005</td>\n",
       "      <td>The aviation community, including the regulato...</td>\n",
       "      <td>[0.02528762, 0.021870557, 0.0030511986, 0.0138...</td>\n",
       "      <td>0.068738</td>\n",
       "    </tr>\n",
       "  </tbody>\n",
       "</table>\n",
       "</div>"
      ],
      "text/plain": [
       "  report_id                                                 si  \\\n",
       "0  2019_006  Aerodrome managers, in particular those at una...   \n",
       "1  2019_006  The defence of 'see and avoid' is not foolproo...   \n",
       "2  2010_005  Local aerodrome user groups benefit their part...   \n",
       "3  2020_003  The need for comprehensive training and experi...   \n",
       "4  2016_203  The cadet was allowed to work at height close ...   \n",
       "5  2010_005  Civil Aviation Rule 91.223 can be interpreted ...   \n",
       "6  2020_003  The importance of pilot training to include em...   \n",
       "7  2010_006  The practice of using the runway for perimeter...   \n",
       "8  2015_009  Changes in the size and shape of the Hamilton ...   \n",
       "9  2010_005  The aviation community, including the regulato...   \n",
       "\n",
       "                                              vector  _relevance_score  \n",
       "0  [-0.003994223, 0.0041250335, 0.0036287047, 0.0...          0.923737  \n",
       "1  [0.036121774, 0.02155234, 0.025125505, -0.0253...          0.509126  \n",
       "2  [0.0359204, -0.00898846, -0.006953316, -0.0257...          0.404466  \n",
       "3  [-0.00816307, 0.029414471, -0.022614159, 0.001...          0.350035  \n",
       "4  [0.019486494, 0.010236033, 0.001041602, 0.0485...          0.204231  \n",
       "5  [-0.0029669548, 0.010661324, 0.019351719, 0.01...          0.178750  \n",
       "6  [0.024444388, -0.010275807, -0.021477563, -0.0...          0.111060  \n",
       "7  [0.03981119, 0.022379799, -0.024052132, 0.0160...          0.102929  \n",
       "8  [0.041342277, -0.0031766926, -0.017588293, -0....          0.079958  \n",
       "9  [0.02528762, 0.021870557, 0.0030511986, 0.0138...          0.068738  "
      ]
     },
     "execution_count": 106,
     "metadata": {},
     "output_type": "execute_result"
    }
   ],
   "source": [
    "\n",
    "si_table.create_fts_index(\"si\", replace=True)\n",
    "\n",
    "# hybrid search with default re-ranker\n",
    "results = si_table.search((embed_query(query), query), query_type=\"hybrid\").to_pandas()\n",
    "results"
   ]
  },
  {
   "cell_type": "markdown",
   "metadata": {},
   "source": [
    "# Adding RAG ontop of the vector database"
   ]
  }
 ],
 "metadata": {
  "kernelspec": {
   "display_name": "taic-report-engine-vkGeZcZ8-py3.11",
   "language": "python",
   "name": "python3"
  },
  "language_info": {
   "codemirror_mode": {
    "name": "ipython",
    "version": 3
   },
   "file_extension": ".py",
   "mimetype": "text/x-python",
   "name": "python",
   "nbconvert_exporter": "python",
   "pygments_lexer": "ipython3",
   "version": "3.11.5"
  }
 },
 "nbformat": 4,
 "nbformat_minor": 2
}
