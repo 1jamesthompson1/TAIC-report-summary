{
 "cells": [
  {
   "cell_type": "markdown",
   "metadata": {},
   "source": [
    "# What \n",
    "\n",
    "This is related to #269.\n",
    "\n",
    "To do recommendation exrtaction I need to complete a few tasks:\n",
    "\n",
    "- [ ] Web scraping of TSB for its recommendations\n",
    "- [ ] Safety action section extraction for ATSB and TSB (depending on if TSB recommendation dataset is in fact complete)\n",
    "- [ ] Safety action section parsing to gedt the recommendations"
   ]
  },
  {
   "cell_type": "code",
   "execution_count": null,
   "metadata": {},
   "outputs": [],
   "source": [
    "import importlib\n",
    "\n",
    "import engine.gather.WebsiteScraping as WebsiteScraping\n",
    "\n",
    "import pandas as pd\n",
    "\n",
    "importlib.reload(WebsiteScraping)"
   ]
  },
  {
   "cell_type": "markdown",
   "metadata": {},
   "source": [
    "# Web scraping of TSB\n",
    "\n",
    "Firstly I need to scrape the recommendations of the TSB website.\n",
    "\n",
    "This will be done in the `WebsiteScraping` module.\n",
    "\n",
    "I am not sure if this recommendations dataset is complete or not."
   ]
  },
  {
   "cell_type": "code",
   "execution_count": null,
   "metadata": {},
   "outputs": [],
   "source": [
    "importlib.reload(WebsiteScraping)\n",
    "\n",
    "recommendation_scraper = WebsiteScraping.TSBRecommendationsScraper('tsb_recommendations', refresh=True)\n",
    "\n",
    "recommendation_scraper.extract_recommendations_from_website()"
   ]
  },
  {
   "cell_type": "code",
   "execution_count": null,
   "metadata": {},
   "outputs": [],
   "source": [
    "tsb_recommendations = pd.read_pickle('tsb_recommendations')\n",
    "tsb_recommendations"
   ]
  },
  {
   "cell_type": "markdown",
   "metadata": {},
   "source": [
    "How does the current recommendations looks like"
   ]
  },
  {
   "cell_type": "code",
   "execution_count": null,
   "metadata": {},
   "outputs": [],
   "source": [
    "taic_recommendations =  pd.read_pickle('../../output/recommendations.pkl')\n",
    "\n",
    "example_taic_recommendation = taic_recommendations.loc[213, 'recommendations']\n",
    "example_taic_recommendation\n"
   ]
  },
  {
   "cell_type": "markdown",
   "metadata": {},
   "source": [
    "After looking through the recommendations. I think that they are a compelte amount. Even if there are some larger gaps.\n",
    "\n",
    "I have spot checked the rail and the gaps there seem to check out as the none of the reports in that few years had any recommendations."
   ]
  }
 ],
 "metadata": {
  "kernelspec": {
   "display_name": "taic-report-engine-vkGeZcZ8-py3.11",
   "language": "python",
   "name": "python3"
  },
  "language_info": {
   "codemirror_mode": {
    "name": "ipython",
    "version": 3
   },
   "file_extension": ".py",
   "mimetype": "text/x-python",
   "name": "python",
   "nbconvert_exporter": "python",
   "pygments_lexer": "ipython3"
  }
 },
 "nbformat": 4,
 "nbformat_minor": 2
}
