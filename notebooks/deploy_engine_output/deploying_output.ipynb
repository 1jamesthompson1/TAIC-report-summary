{
 "cells": [
  {
   "cell_type": "markdown",
   "metadata": {},
   "source": [
    "# What\n",
    "\n",
    "As part of the produciton challenge #172. I need to be able to upload the results to an external server.\n"
   ]
  },
  {
   "cell_type": "markdown",
   "metadata": {},
   "source": [
    "## Modules"
   ]
  },
  {
   "cell_type": "code",
   "execution_count": null,
   "metadata": {},
   "outputs": [],
   "source": [
    "# Local\n",
    "\n",
    "# Third Party\n",
    "import lancedb\n",
    "import pandas as pd\n",
    "\n",
    "# Built in\n",
    "import dotenv\n",
    "import os\n",
    "\n",
    "dotenv.load_dotenv(override=True)"
   ]
  },
  {
   "cell_type": "markdown",
   "metadata": {},
   "source": [
    "# Upload output to viewer vector_db\n",
    "The end goal will be to take the embeddings datasets and put them into a vector database that is in the cloud.\n",
    "\n",
    "However right not I am not working on it so I can just create this local script that will take the embedding folder and move it into a vector_db database within the viewer."
   ]
  },
  {
   "cell_type": "code",
   "execution_count": null,
   "metadata": {},
   "outputs": [],
   "source": [
    "db = lancedb.connect(\"../../viewer/vector_db\")\n",
    "db.table_names()"
   ]
  },
  {
   "cell_type": "markdown",
   "metadata": {},
   "source": [
    "## Important report text"
   ]
  },
  {
   "cell_type": "code",
   "execution_count": null,
   "metadata": {},
   "outputs": [],
   "source": [
    "important_text_embeddings = pd.read_pickle(\"../../output/embeddings/important_text_embeddings.pkl\")\n",
    "\n",
    "important_text_embeddings.rename(columns={'important_text_embedding': 'vector'}, inplace=True)\n",
    "db.create_table(\"important_text_embeddings\", important_text_embeddings, mode=\"overwrite\")\n",
    "important_text_embeddings"
   ]
  },
  {
   "cell_type": "markdown",
   "metadata": {},
   "source": [
    "## Recommendations"
   ]
  },
  {
   "cell_type": "code",
   "execution_count": null,
   "metadata": {},
   "outputs": [],
   "source": [
    "recommendations_embeddings = pd.read_pickle(\"../../output/embeddings/recommendations_embeddings.pkl\")\n",
    "\n",
    "recommendations_embeddings.rename(columns={'recommendation_embedding': 'vector'}, inplace=True)\n",
    "db.create_table(\"recommendation_embeddings\", recommendations_embeddings, mode=\"overwrite\")\n",
    "recommendations_embeddings"
   ]
  },
  {
   "cell_type": "markdown",
   "metadata": {},
   "source": [
    "## Report sections"
   ]
  },
  {
   "cell_type": "code",
   "execution_count": null,
   "metadata": {},
   "outputs": [],
   "source": [
    "report_sections_embeddings = pd.read_pickle(\"../../output/embeddings/report_sections_embeddings.pkl\")\n",
    "\n",
    "report_sections_embeddings.rename(columns={'section_embedding': 'vector'}, inplace=True)\n",
    "\n",
    "report_sections_embeddings"
   ]
  },
  {
   "cell_type": "code",
   "execution_count": null,
   "metadata": {},
   "outputs": [],
   "source": [
    "report_sections_embeddings['id'] = report_sections_embeddings['report_id'] + '_' + report_sections_embeddings['section'].astype(str)\n",
    "report_sections_embeddings"
   ]
  },
  {
   "cell_type": "markdown",
   "metadata": {},
   "source": [
    "## Safety issues"
   ]
  },
  {
   "cell_type": "code",
   "execution_count": null,
   "metadata": {},
   "outputs": [],
   "source": [
    "safety_issues_embeddings = pd.read_pickle(\"../../output/embeddings/safety_issues_embeddings.pkl\")\n",
    "safety_issues_embeddings"
   ]
  },
  {
   "cell_type": "code",
   "execution_count": null,
   "metadata": {},
   "outputs": [],
   "source": [
    "\n",
    "safety_issues_embeddings.rename(columns={'safety_issue_embedding': 'vector'}, inplace=True)\n",
    "safety_issues_embeddings.drop(columns=['safety_issue_embedding_token_length'], inplace=True)\n",
    "si_table = db.create_table(\"safety_issue_embeddings\", safety_issues_embeddings, mode=\"overwrite\")\n",
    "\n",
    "si_table.to_pandas()"
   ]
  },
  {
   "cell_type": "markdown",
   "metadata": {},
   "source": [
    "## Combined table"
   ]
  },
  {
   "cell_type": "code",
   "execution_count": null,
   "metadata": {},
   "outputs": [],
   "source": [
    "all_document_dfs = [\n",
    "    safety_issues_embeddings[['safety_issue_id', 'safety_issue', 'vector', 'report_id', 'year', 'mode', 'type']].assign(document_type=\"safety_issue\"),\n",
    "    report_sections_embeddings[['id', 'section_text', 'vector', 'report_id', 'year', 'mode', 'type']].assign(document_type=\"report_section\"),\n",
    "    recommendations_embeddings[['recommendation_id', 'recommendation', 'vector', 'report_id', 'year', 'mode', 'type']].assign(document_type=\"recommendation\"),\n",
    "    important_text_embeddings[['report_id', 'important_text', 'vector', 'report_id', 'year', 'mode', 'type']].assign(document_type=\"important_text\"),\n",
    "]\n",
    "\n",
    "all_document_dfs = [df.set_axis([\"document_id\", \"document\", \"vector\", 'report_id', \"year\", \"mode\", \"type\", \"document_type\"], axis=1) for df in all_document_dfs]\n",
    "\n",
    "all_document_types = pd.concat(all_document_dfs, axis = 0, ignore_index = True)\n",
    "\n",
    "all_document_types"
   ]
  },
  {
   "cell_type": "code",
   "execution_count": null,
   "metadata": {},
   "outputs": [],
   "source": [
    "all_document_types_table = db.create_table(\"all_document_types\", all_document_types, mode=\"overwrite\")\n",
    "\n",
    "all_document_types_table.create_fts_index('document', replace=True)\n",
    "\n",
    "all_document_types_table.to_pandas()"
   ]
  },
  {
   "cell_type": "markdown",
   "metadata": {},
   "source": [
    "## Creating test vector_db"
   ]
  },
  {
   "cell_type": "code",
   "execution_count": null,
   "metadata": {},
   "outputs": [],
   "source": [
    "uri = '../../tests/data/vector_db'\n",
    "\n",
    "test_db = lancedb.connect(uri)"
   ]
  },
  {
   "cell_type": "code",
   "execution_count": null,
   "metadata": {},
   "outputs": [],
   "source": [
    "all_document_types_test = all_document_types.sample(frac= 0.1, random_state=42)\n",
    "\n",
    "all_document_types_test_table = test_db.create_table(\"all_document_types\", all_document_types_test, mode=\"overwrite\")\n",
    "all_document_types_test_table.create_fts_index('document', replace=True)\n"
   ]
  },
  {
   "cell_type": "markdown",
   "metadata": {},
   "source": [
    "# Deploy to azure"
   ]
  },
  {
   "cell_type": "code",
   "execution_count": null,
   "metadata": {},
   "outputs": [],
   "source": [
    "all_document_types"
   ]
  },
  {
   "cell_type": "code",
   "execution_count": null,
   "metadata": {},
   "outputs": [],
   "source": [
    "db = lancedb.connect(os.getenv(\"db_URI\"))\n",
    "\n",
    "db.table_names()"
   ]
  },
  {
   "cell_type": "code",
   "execution_count": null,
   "metadata": {},
   "outputs": [],
   "source": [
    "all_document_types_table = db.create_table(\"all_document_types\", all_document_types, mode=\"overwrite\")"
   ]
  },
  {
   "cell_type": "code",
   "execution_count": null,
   "metadata": {},
   "outputs": [],
   "source": [
    "all_document_types_table.create_index(num_sub_vectors=64, metric=\"cosine\", accelerator=\"cuda\", replace = True)"
   ]
  },
  {
   "cell_type": "code",
   "execution_count": null,
   "metadata": {},
   "outputs": [],
   "source": [
    "table = db.open_table(\"all_document_types\")"
   ]
  },
  {
   "cell_type": "code",
   "execution_count": null,
   "metadata": {},
   "outputs": [],
   "source": [
    "table.to_pandas()"
   ]
  }
 ],
 "metadata": {
  "language_info": {
   "name": "python"
  }
 },
 "nbformat": 4,
 "nbformat_minor": 2
}
