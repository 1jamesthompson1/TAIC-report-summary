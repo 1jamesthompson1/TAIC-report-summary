{
 "cells": [
  {
   "cell_type": "markdown",
   "metadata": {},
   "source": [
    "# What\n",
    "\n",
    "This has been made because the issues of https://github.com/1jamesthompson1/TAIC-report-summary/issues/236. Has brought to attention that I need to easily be able to look at the logs."
   ]
  },
  {
   "cell_type": "markdown",
   "metadata": {},
   "source": [
    "## Modules"
   ]
  },
  {
   "cell_type": "code",
   "execution_count": null,
   "metadata": {},
   "outputs": [],
   "source": [
    "import pandas as pd\n",
    "import dotenv\n",
    "from azure.data.tables import TableServiceClient\n",
    "import os\n",
    "from io import StringIO\n",
    "\n",
    "dotenv.load_dotenv(override=True)"
   ]
  },
  {
   "cell_type": "markdown",
   "metadata": {},
   "source": [
    "# Get the tables"
   ]
  },
  {
   "cell_type": "code",
   "execution_count": null,
   "metadata": {},
   "outputs": [],
   "source": [
    "connection_string = f\"AccountName={os.getenv('AZURE_STORAGE_ACCOUNT_NAME')};AccountKey={os.getenv('AZURE_STORAGE_ACCOUNT_KEY')};EndpointSuffix=core.windows.net\"\n",
    "client = TableServiceClient.from_connection_string(conn_str=connection_string)\n",
    "search_table_client = client.get_table_client(table_name=\"searchlogs\")\n",
    "results_table_client = client.get_table_client(table_name=\"resultslogs\")\n",
    "errors_table_client = client.get_table_client(table_name=\"errorlogs\")"
   ]
  },
  {
   "cell_type": "code",
   "execution_count": null,
   "metadata": {},
   "outputs": [],
   "source": [
    "entities = search_table_client.list_entities()\n",
    "data = [entity for entity in entities]\n",
    "search_logs = pd.DataFrame(data)\n",
    "search_logs['start_time'] = pd.to_datetime(search_logs['start_time'], unit='s', utc=True).map(lambda x: x.tz_convert('NZ'))\n",
    "search_logs.sort_values(by='start_time', ascending=False, inplace=True)\n",
    "\n",
    "search_logs"
   ]
  },
  {
   "cell_type": "code",
   "execution_count": null,
   "metadata": {},
   "outputs": [],
   "source": [
    "results_logs = pd.DataFrame(results_table_client.list_entities())\n",
    "\n",
    "results_logs['search_results'] = results_logs['search_results'].map(lambda x: pd.read_json(StringIO(x)))\n",
    "\n",
    "results_logs"
   ]
  },
  {
   "cell_type": "code",
   "execution_count": null,
   "metadata": {},
   "outputs": [],
   "source": [
    "error_logs = pd.DataFrame(errors_table_client.list_entities())\n",
    "\n",
    "error_logs"
   ]
  },
  {
   "cell_type": "markdown",
   "metadata": {},
   "source": [
    "# Merge logs together"
   ]
  },
  {
   "cell_type": "code",
   "execution_count": null,
   "metadata": {},
   "outputs": [],
   "source": [
    "search_logs.set_index(['PartitionKey', 'RowKey'], inplace=True)\n",
    "results_logs.set_index(['PartitionKey', 'RowKey'], inplace=True)\n",
    "error_logs.set_index(['PartitionKey', 'RowKey'], inplace=True)\n",
    "\n",
    "merged_logs = search_logs.join([results_logs, error_logs])\n",
    "\n",
    "merged_logs = merged_logs[merged_logs.index.get_level_values('PartitionKey') != 'test_user']\n",
    "merged_logs = merged_logs[merged_logs.index.get_level_values('PartitionKey') != 'Test User']\n",
    "\n",
    "merged_logs = merged_logs[merged_logs['start_time'] >= pd.Timestamp('2024-07-29 00:00:00', tz='NZ')]\n",
    "merged_logs"
   ]
  },
  {
   "cell_type": "code",
   "execution_count": null,
   "metadata": {},
   "outputs": [],
   "source": [
    "merged_logs.index.get_level_values(0).value_counts()"
   ]
  },
  {
   "cell_type": "markdown",
   "metadata": {},
   "source": [
    "## Look at usage in a time period"
   ]
  },
  {
   "cell_type": "code",
   "execution_count": null,
   "metadata": {},
   "outputs": [],
   "source": [
    "import dash\n",
    "from dash import html, dcc, dash_table\n",
    "import pandas as pd\n",
    "from dash.dependencies import Input, Output\n",
    "df = merged_logs\n",
    "\n",
    "df = df.loc[df.index.get_level_values('PartitionKey') != 'James Thompson']\n",
    "df.drop('search_results', axis=1, inplace=True)\n",
    "df.loc[:, 'user'] = df.index.get_level_values('PartitionKey')\n",
    "\n",
    "# Convert start_time to timezone-naive values\n",
    "df.loc[:, 'start_time'] = df['start_time'].dt.tz_localize(None)\n",
    "\n",
    "app = dash.Dash(__name__)\n",
    "\n",
    "app.layout = html.Div([\n",
    "    dcc.DatePickerRange(\n",
    "        id='date-picker-range',\n",
    "        start_date=(pd.to_datetime('today') - pd.Timedelta(days=7)).date(),\n",
    "        end_date=pd.to_datetime('today').date()\n",
    "    ),\n",
    "    html.Div(id='user-summary', style={'margin-top': '20px'}),\n",
    "    html.Div(id='output-container-date-picker-range', style={'margin-top': '20px'})\n",
    "])\n",
    "\n",
    "@app.callback(\n",
    "    [Output('user-summary', 'children'),\n",
    "     Output('output-container-date-picker-range', 'children')],\n",
    "    [Input('date-picker-range', 'start_date'),\n",
    "     Input('date-picker-range', 'end_date')])\n",
    "def update_output(start_date, end_date):\n",
    "    if start_date and end_date:\n",
    "        filtered_df = df[(df['start_time'] >= pd.Timestamp(start_date)) & (df['start_time'] <= pd.Timestamp(end_date))]\n",
    "        num_users = filtered_df.shape[0]\n",
    "        user_summary = f'Number of users: {num_users}'\n",
    "        \n",
    "        if not filtered_df.empty:\n",
    "            return (\n",
    "                user_summary,\n",
    "                dash_table.DataTable(\n",
    "                    columns=[{\"name\": i, \"id\": i} for i in filtered_df.columns],\n",
    "                    data=filtered_df.to_dict('records'),\n",
    "                    style_table={'overflowX': 'auto'},\n",
    "                    style_cell={'textAlign': 'left', 'maxWidth': '250px', 'whiteSpace': 'normal', 'overflow': 'hidden', 'textOverflow': 'ellipsis'},\n",
    "                    style_header={\n",
    "                        'backgroundColor': 'rgb(230, 230, 230)',\n",
    "                        'fontWeight': 'bold'\n",
    "                    },\n",
    "                    style_data_conditional=[\n",
    "                        {\n",
    "                            'if': {'row_index': 'odd'},\n",
    "                            'backgroundColor': 'rgb(248, 248, 248)'\n",
    "                        }\n",
    "                    ]\n",
    "                )\n",
    "            )\n",
    "    return 'No data available for selected dates', ''\n",
    "\n",
    "if __name__ == '__main__':\n",
    "    app.run_server(debug=True)"
   ]
  }
 ],
 "metadata": {
  "kernelspec": {
   "display_name": "taic-report-engine-wzy-H9m3-py3.10",
   "language": "python",
   "name": "python3"
  },
  "language_info": {
   "codemirror_mode": {
    "name": "ipython",
    "version": 3
   },
   "file_extension": ".py",
   "mimetype": "text/x-python",
   "name": "python",
   "nbconvert_exporter": "python",
   "pygments_lexer": "ipython3"
  }
 },
 "nbformat": 4,
 "nbformat_minor": 2
}
