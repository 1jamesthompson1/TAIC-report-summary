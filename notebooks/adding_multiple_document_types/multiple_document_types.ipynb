{
 "cells": [
  {
   "cell_type": "markdown",
   "metadata": {},
   "source": [
    "# What\n",
    "\n",
    "In answer to https://github.com/1jamesthompson1/TAIC-report-summary/issues/196 it is important to restrucutre the search function so that it can handle the multiple document types.\n",
    "\n",
    "Before this though I want to test out different searches and see what the outcome looks like"
   ]
  },
  {
   "cell_type": "markdown",
   "metadata": {},
   "source": [
    "## Modules"
   ]
  },
  {
   "cell_type": "code",
   "execution_count": null,
   "metadata": {},
   "outputs": [],
   "source": [
    "import voyageai\n",
    "\n",
    "vo = voyageai.Client()\n",
    "\n",
    "import lancedb"
   ]
  },
  {
   "cell_type": "markdown",
   "metadata": {},
   "source": [
    "# Testing out multiple document type searches"
   ]
  },
  {
   "cell_type": "code",
   "execution_count": null,
   "metadata": {},
   "outputs": [],
   "source": [
    "db = lancedb.connect(\"../../viewer/vector_db\")\n",
    "\n",
    "db.table_names()"
   ]
  },
  {
   "cell_type": "code",
   "execution_count": null,
   "metadata": {},
   "outputs": [],
   "source": [
    "all_document_types = db.open_table(\"all_document_types\")\n",
    "\n",
    "all_document_types.to_pandas()"
   ]
  },
  {
   "cell_type": "code",
   "execution_count": null,
   "metadata": {},
   "outputs": [],
   "source": [
    "embed_query = lambda query: vo.embed(query, model=\"voyage-large-2-instruct\", input_type=\"query\", truncation=False).embeddings[0]\n",
    "\n",
    "embed_query(\"aerodrome\")"
   ]
  },
  {
   "cell_type": "code",
   "execution_count": null,
   "metadata": {},
   "outputs": [],
   "source": [
    "query = \"Close proximity events at unattended aerodromes\"\n",
    "\n",
    "all_document_types.search((embed_query(query), query), query_type=\"hybrid\").limit(20).to_pandas()"
   ]
  }
 ],
 "metadata": {
  "language_info": {
   "name": "python"
  }
 },
 "nbformat": 4,
 "nbformat_minor": 2
}
