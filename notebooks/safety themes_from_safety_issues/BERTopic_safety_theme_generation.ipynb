{
 "cells": [
  {
   "cell_type": "markdown",
   "metadata": {},
   "source": [
    "# What\n",
    "\n",
    "As establised in this [notebook](./safey_themes_from_safety_issues.ipynb). BERTopic seems to be the most promising method for generating safety themes from safety issues.\n",
    "\n",
    "There are a few problems that need to be address.\n",
    "- Lots of outliers\n",
    "- only 3 topics being generated"
   ]
  },
  {
   "cell_type": "markdown",
   "metadata": {},
   "source": [
    "## Modules"
   ]
  },
  {
   "cell_type": "code",
   "execution_count": 49,
   "metadata": {},
   "outputs": [],
   "source": [
    "# local\n",
    "\n",
    "# third parties\n",
    "\n",
    "import yaml\n",
    "import pandas as pd\n",
    "import numpy as np\n",
    "\n",
    "from dotenv import load_dotenv\n",
    "\n",
    "import voyageai\n",
    "import openai\n",
    "\n",
    "from bertopic import BERTopic\n",
    "from bertopic.representation import OpenAI\n",
    "from umap import UMAP\n",
    "\n",
    "import lancedb\n",
    "\n",
    "# builtin\n",
    "import os\n",
    "\n",
    "openai_client = openai.OpenAI(api_key=os.getenv(\"OPENAI_API_KEY\"))"
   ]
  },
  {
   "cell_type": "markdown",
   "metadata": {},
   "source": [
    "# Getting safety issue data"
   ]
  },
  {
   "cell_type": "code",
   "execution_count": 15,
   "metadata": {},
   "outputs": [],
   "source": [
    "safety_issues_df = pd.read_csv('safety_issues.csv')\n",
    "\n",
    "# Confirm it has the right columns report_id, si and mode\n",
    "\n",
    "if not safety_issues_df.columns.isin(['report_id', 'si', 'mode']).any():\n",
    "    print(\"Safety issues dataset is missing columns\")\n",
    "    del safety_issues_df"
   ]
  },
  {
   "cell_type": "markdown",
   "metadata": {},
   "source": [
    "# Getting embeddings to be used for clustering"
   ]
  },
  {
   "cell_type": "code",
   "execution_count": 91,
   "metadata": {},
   "outputs": [],
   "source": [
    "voyageai_embeddings = pd.read_pickle('voyageai_embeddings.pkl')\n",
    "\n",
    "openai_embeddings = pd.read_pickle('openai_embeddings.pkl')"
   ]
  },
  {
   "cell_type": "markdown",
   "metadata": {},
   "source": [
    "# BERTopic models\n",
    "\n",
    "I have two things that I can play with are:\n",
    "- What embeddings are used\n",
    "- How the topic representation are generated (keywords, openai prompts etc)"
   ]
  },
  {
   "cell_type": "code",
   "execution_count": 92,
   "metadata": {},
   "outputs": [],
   "source": [
    "openai_base_representation_model = OpenAI(\n",
    "    openai_client,\n",
    "    model=\"gpt-4-turbo\",\n",
    "    chat=True,\n",
    "    nr_docs = 50)\n",
    "\n",
    "umap_model = UMAP(n_neighbors=15, n_components=5, min_dist=0.0, metric='cosine', random_state=42)"
   ]
  },
  {
   "cell_type": "code",
   "execution_count": 98,
   "metadata": {},
   "outputs": [],
   "source": [
    "column_to_2darray = lambda column: np.array([np.array(x) for x in column.to_numpy()])\n",
    "\n",
    "def runBERTopic(df, docs_name, embeddings_name, representation_model, umap_model, reduce_outliers=True, ):\n",
    "\n",
    "    topic_model = BERTopic(\n",
    "        representation_model=representation_model,\n",
    "        umap_model=umap_model,\n",
    "        calculate_probabilities=True)\n",
    "\n",
    "    if embeddings_name is not None:\n",
    "        topics, probs = topic_model.fit_transform(\n",
    "            df[docs_name],\n",
    "            column_to_2darray(df[embeddings_name]))\n",
    "    else:\n",
    "        topics, probs = topic_model.fit_transform(df[docs_name])\n",
    "        \n",
    "    if reduce_outliers:\n",
    "        topics = topic_model.reduce_outliers(\n",
    "            documents=df[docs_name].to_list(),\n",
    "            topics=topics, \n",
    "            probabilities=probs,\n",
    "            strategy=\"probabilities\")\n",
    "\n",
    "        topic_model.update_topics(\n",
    "            df[docs_name].to_list(),\n",
    "            topics=topics,\n",
    "            representation_model=representation_model)\n",
    "        \n",
    "    df['topic'] = topics\n",
    "\n",
    "    df = pd.concat([df, pd.DataFrame(probs)], axis=1)\n",
    "\n",
    "    return topic_model, df"
   ]
  },
  {
   "cell_type": "markdown",
   "metadata": {},
   "source": [
    "## Running it on all safety issues\n",
    "\n",
    "\n",
    "I want to generate the safety themes from all of the safety issues I have available."
   ]
  },
  {
   "cell_type": "markdown",
   "metadata": {},
   "source": [
    "### Simple minilm embeddings\n",
    "\n",
    "This seems to of failed. I believe this is mainly due to the fact that each documents are really short."
   ]
  },
  {
   "cell_type": "code",
   "execution_count": 83,
   "metadata": {},
   "outputs": [],
   "source": [
    "\n",
    "topic_model, _ = runBERTopic(\n",
    "    safety_issues_df, 'si', None, openai_base_representation_model, umap_model, reduce_outliers=False)\n",
    "\n",
    "topic_model.get_topic_info()\n"
   ]
  },
  {
   "cell_type": "markdown",
   "metadata": {},
   "source": [
    "There is a bit of a problem where the number of outliers is quite great.\n",
    "\n",
    "I will try to merge the outliers"
   ]
  },
  {
   "cell_type": "code",
   "execution_count": 86,
   "metadata": {},
   "outputs": [
    {
     "name": "stderr",
     "output_type": "stream",
     "text": [
      "2024-05-03 12:24:31,654 - BERTopic - WARNING: Using a custom list of topic assignments may lead to errors if topic reduction techniques are used afterwards. Make sure that manually assigning topics is the last step in the pipeline.Note that topic embeddings will also be created through weightedc-TF-IDF embeddings instead of centroid embeddings.\n"
     ]
    },
    {
     "data": {
      "text/html": [
       "<div>\n",
       "<style scoped>\n",
       "    .dataframe tbody tr th:only-of-type {\n",
       "        vertical-align: middle;\n",
       "    }\n",
       "\n",
       "    .dataframe tbody tr th {\n",
       "        vertical-align: top;\n",
       "    }\n",
       "\n",
       "    .dataframe thead th {\n",
       "        text-align: right;\n",
       "    }\n",
       "</style>\n",
       "<table border=\"1\" class=\"dataframe\">\n",
       "  <thead>\n",
       "    <tr style=\"text-align: right;\">\n",
       "      <th></th>\n",
       "      <th>Topic</th>\n",
       "      <th>Count</th>\n",
       "      <th>Name</th>\n",
       "      <th>Representation</th>\n",
       "      <th>Representative_Docs</th>\n",
       "    </tr>\n",
       "  </thead>\n",
       "  <tbody>\n",
       "    <tr>\n",
       "      <th>0</th>\n",
       "      <td>0</td>\n",
       "      <td>166</td>\n",
       "      <td>0_Rail Safety and Operational Issues in New Ze...</td>\n",
       "      <td>[Rail Safety and Operational Issues in New Zea...</td>\n",
       "      <td>[The training that drivers received for transi...</td>\n",
       "    </tr>\n",
       "    <tr>\n",
       "      <th>1</th>\n",
       "      <td>1</td>\n",
       "      <td>64</td>\n",
       "      <td>1_Maritime Safety and Navigation Management Is...</td>\n",
       "      <td>[Maritime Safety and Navigation Management Iss...</td>\n",
       "      <td>[The voyage planning for the time in the Snare...</td>\n",
       "    </tr>\n",
       "    <tr>\n",
       "      <th>2</th>\n",
       "      <td>2</td>\n",
       "      <td>36</td>\n",
       "      <td>2_Maritime Safety and Regulations Compliance I...</td>\n",
       "      <td>[Maritime Safety and Regulations Compliance Is...</td>\n",
       "      <td>[The skipper did not have the requisite knowle...</td>\n",
       "    </tr>\n",
       "    <tr>\n",
       "      <th>3</th>\n",
       "      <td>3</td>\n",
       "      <td>53</td>\n",
       "      <td>3_Safety and Maintenance Issues in Engineering...</td>\n",
       "      <td>[Safety and Maintenance Issues in Engineering ...</td>\n",
       "      <td>[There was a lack of clear communication and a...</td>\n",
       "    </tr>\n",
       "    <tr>\n",
       "      <th>4</th>\n",
       "      <td>4</td>\n",
       "      <td>53</td>\n",
       "      <td>4_Maritime and Aviation Safety Management and ...</td>\n",
       "      <td>[Maritime and Aviation Safety Management and E...</td>\n",
       "      <td>[It could not be established why the chief off...</td>\n",
       "    </tr>\n",
       "    <tr>\n",
       "      <th>5</th>\n",
       "      <td>5</td>\n",
       "      <td>50</td>\n",
       "      <td>5_Aviation Safety and Compliance Issues</td>\n",
       "      <td>[Aviation Safety and Compliance Issues]</td>\n",
       "      <td>[Had the controllers realised that the low clo...</td>\n",
       "    </tr>\n",
       "    <tr>\n",
       "      <th>6</th>\n",
       "      <td>6</td>\n",
       "      <td>27</td>\n",
       "      <td>6_Robinson Helicopter Safety and Accident Anal...</td>\n",
       "      <td>[Robinson Helicopter Safety and Accident Analy...</td>\n",
       "      <td>[Due to their unique main rotor design, during...</td>\n",
       "    </tr>\n",
       "    <tr>\n",
       "      <th>7</th>\n",
       "      <td>7</td>\n",
       "      <td>62</td>\n",
       "      <td>7_Aviation Safety and Regulatory Compliance Is...</td>\n",
       "      <td>[Aviation Safety and Regulatory Compliance Iss...</td>\n",
       "      <td>[The standard of pilot training and the superv...</td>\n",
       "    </tr>\n",
       "    <tr>\n",
       "      <th>8</th>\n",
       "      <td>8</td>\n",
       "      <td>26</td>\n",
       "      <td>8_Aircraft Landing Gear and Door Lock Failures</td>\n",
       "      <td>[Aircraft Landing Gear and Door Lock Failures]</td>\n",
       "      <td>[Had the pilots known that the nose landing ge...</td>\n",
       "    </tr>\n",
       "    <tr>\n",
       "      <th>9</th>\n",
       "      <td>9</td>\n",
       "      <td>23</td>\n",
       "      <td>9_Deficiencies in Safety and Regulatory Compli...</td>\n",
       "      <td>[Deficiencies in Safety and Regulatory Complia...</td>\n",
       "      <td>[There were no established procedures for ente...</td>\n",
       "    </tr>\n",
       "  </tbody>\n",
       "</table>\n",
       "</div>"
      ],
      "text/plain": [
       "   Topic  Count                                               Name  \\\n",
       "0      0    166  0_Rail Safety and Operational Issues in New Ze...   \n",
       "1      1     64  1_Maritime Safety and Navigation Management Is...   \n",
       "2      2     36  2_Maritime Safety and Regulations Compliance I...   \n",
       "3      3     53  3_Safety and Maintenance Issues in Engineering...   \n",
       "4      4     53  4_Maritime and Aviation Safety Management and ...   \n",
       "5      5     50            5_Aviation Safety and Compliance Issues   \n",
       "6      6     27  6_Robinson Helicopter Safety and Accident Anal...   \n",
       "7      7     62  7_Aviation Safety and Regulatory Compliance Is...   \n",
       "8      8     26     8_Aircraft Landing Gear and Door Lock Failures   \n",
       "9      9     23  9_Deficiencies in Safety and Regulatory Compli...   \n",
       "\n",
       "                                      Representation  \\\n",
       "0  [Rail Safety and Operational Issues in New Zea...   \n",
       "1  [Maritime Safety and Navigation Management Iss...   \n",
       "2  [Maritime Safety and Regulations Compliance Is...   \n",
       "3  [Safety and Maintenance Issues in Engineering ...   \n",
       "4  [Maritime and Aviation Safety Management and E...   \n",
       "5            [Aviation Safety and Compliance Issues]   \n",
       "6  [Robinson Helicopter Safety and Accident Analy...   \n",
       "7  [Aviation Safety and Regulatory Compliance Iss...   \n",
       "8     [Aircraft Landing Gear and Door Lock Failures]   \n",
       "9  [Deficiencies in Safety and Regulatory Complia...   \n",
       "\n",
       "                                 Representative_Docs  \n",
       "0  [The training that drivers received for transi...  \n",
       "1  [The voyage planning for the time in the Snare...  \n",
       "2  [The skipper did not have the requisite knowle...  \n",
       "3  [There was a lack of clear communication and a...  \n",
       "4  [It could not be established why the chief off...  \n",
       "5  [Had the controllers realised that the low clo...  \n",
       "6  [Due to their unique main rotor design, during...  \n",
       "7  [The standard of pilot training and the superv...  \n",
       "8  [Had the pilots known that the nose landing ge...  \n",
       "9  [There were no established procedures for ente...  "
      ]
     },
     "execution_count": 86,
     "metadata": {},
     "output_type": "execute_result"
    }
   ],
   "source": [
    "topic_model, _ = runBERTopic(\n",
    "    safety_issues_df, 'si', None, openai_base_representation_model, umap_model, reduce_outliers=True)\n",
    "\n",
    "topic_model.get_topic_info()"
   ]
  },
  {
   "cell_type": "markdown",
   "metadata": {},
   "source": [
    "The main problem here is that the the distribution is not great. It seems that most of the rail are in the first topic then martime and aviation take up the rest."
   ]
  },
  {
   "cell_type": "markdown",
   "metadata": {},
   "source": [
    "### VoyageAI embeddings"
   ]
  },
  {
   "cell_type": "code",
   "execution_count": 99,
   "metadata": {},
   "outputs": [
    {
     "name": "stderr",
     "output_type": "stream",
     "text": [
      "2024-05-03 12:50:48,537 - BERTopic - WARNING: Using a custom list of topic assignments may lead to errors if topic reduction techniques are used afterwards. Make sure that manually assigning topics is the last step in the pipeline.Note that topic embeddings will also be created through weightedc-TF-IDF embeddings instead of centroid embeddings.\n"
     ]
    },
    {
     "data": {
      "text/html": [
       "<div>\n",
       "<style scoped>\n",
       "    .dataframe tbody tr th:only-of-type {\n",
       "        vertical-align: middle;\n",
       "    }\n",
       "\n",
       "    .dataframe tbody tr th {\n",
       "        vertical-align: top;\n",
       "    }\n",
       "\n",
       "    .dataframe thead th {\n",
       "        text-align: right;\n",
       "    }\n",
       "</style>\n",
       "<table border=\"1\" class=\"dataframe\">\n",
       "  <thead>\n",
       "    <tr style=\"text-align: right;\">\n",
       "      <th></th>\n",
       "      <th>Topic</th>\n",
       "      <th>Count</th>\n",
       "      <th>Name</th>\n",
       "      <th>Representation</th>\n",
       "      <th>Representative_Docs</th>\n",
       "    </tr>\n",
       "  </thead>\n",
       "  <tbody>\n",
       "    <tr>\n",
       "      <th>0</th>\n",
       "      <td>0</td>\n",
       "      <td>379</td>\n",
       "      <td>0_Aviation and Maritime Safety Management Issues</td>\n",
       "      <td>[Aviation and Maritime Safety Management Issues]</td>\n",
       "      <td>[The bilge pumping system on the Jubilee was n...</td>\n",
       "    </tr>\n",
       "    <tr>\n",
       "      <th>1</th>\n",
       "      <td>1</td>\n",
       "      <td>181</td>\n",
       "      <td>1_Rail Safety and Operational Challenges</td>\n",
       "      <td>[Rail Safety and Operational Challenges]</td>\n",
       "      <td>[The training that drivers received for transi...</td>\n",
       "    </tr>\n",
       "  </tbody>\n",
       "</table>\n",
       "</div>"
      ],
      "text/plain": [
       "   Topic  Count                                              Name  \\\n",
       "0      0    379  0_Aviation and Maritime Safety Management Issues   \n",
       "1      1    181          1_Rail Safety and Operational Challenges   \n",
       "\n",
       "                                     Representation  \\\n",
       "0  [Aviation and Maritime Safety Management Issues]   \n",
       "1          [Rail Safety and Operational Challenges]   \n",
       "\n",
       "                                 Representative_Docs  \n",
       "0  [The bilge pumping system on the Jubilee was n...  \n",
       "1  [The training that drivers received for transi...  "
      ]
     },
     "execution_count": 99,
     "metadata": {},
     "output_type": "execute_result"
    }
   ],
   "source": [
    "topic_model, voyageai_clusters_df = runBERTopic(\n",
    "    voyageai_embeddings, 'si', 'si_embedding', openai_base_representation_model, umap_model, reduce_outliers=True)\n",
    "\n",
    "topic_model.get_topic_info()"
   ]
  },
  {
   "cell_type": "code",
   "execution_count": 101,
   "metadata": {},
   "outputs": [
    {
     "data": {
      "text/html": [
       "<div>\n",
       "<style scoped>\n",
       "    .dataframe tbody tr th:only-of-type {\n",
       "        vertical-align: middle;\n",
       "    }\n",
       "\n",
       "    .dataframe tbody tr th {\n",
       "        vertical-align: top;\n",
       "    }\n",
       "\n",
       "    .dataframe thead th {\n",
       "        text-align: right;\n",
       "    }\n",
       "</style>\n",
       "<table border=\"1\" class=\"dataframe\">\n",
       "  <thead>\n",
       "    <tr style=\"text-align: right;\">\n",
       "      <th>mode</th>\n",
       "      <th>0</th>\n",
       "      <th>1</th>\n",
       "      <th>2</th>\n",
       "    </tr>\n",
       "    <tr>\n",
       "      <th>topic</th>\n",
       "      <th></th>\n",
       "      <th></th>\n",
       "      <th></th>\n",
       "    </tr>\n",
       "  </thead>\n",
       "  <tbody>\n",
       "    <tr>\n",
       "      <th>0</th>\n",
       "      <td>204</td>\n",
       "      <td>8</td>\n",
       "      <td>167</td>\n",
       "    </tr>\n",
       "    <tr>\n",
       "      <th>1</th>\n",
       "      <td>2</td>\n",
       "      <td>177</td>\n",
       "      <td>2</td>\n",
       "    </tr>\n",
       "  </tbody>\n",
       "</table>\n",
       "</div>"
      ],
      "text/plain": [
       "mode     0    1    2\n",
       "topic               \n",
       "0      204    8  167\n",
       "1        2  177    2"
      ]
     },
     "execution_count": 101,
     "metadata": {},
     "output_type": "execute_result"
    }
   ],
   "source": [
    "def check_mode_cluster_distribution(df):\n",
    "    safety_issues_df_topic_mode = df.pivot_table(index='topic', columns='mode', values='report_id', aggfunc='count').fillna(0)\n",
    "    return safety_issues_df_topic_mode\n",
    "\n",
    "check_mode_cluster_distribution(voyageai_clusters_df)"
   ]
  },
  {
   "cell_type": "markdown",
   "metadata": {},
   "source": [
    "This has created two topics wiht one being avaiation and martime and the other being rail."
   ]
  },
  {
   "cell_type": "markdown",
   "metadata": {},
   "source": [
    "### OpenAI embeddings"
   ]
  },
  {
   "cell_type": "code",
   "execution_count": 102,
   "metadata": {},
   "outputs": [
    {
     "name": "stderr",
     "output_type": "stream",
     "text": [
      "2024-05-03 12:55:50,179 - BERTopic - WARNING: Using a custom list of topic assignments may lead to errors if topic reduction techniques are used afterwards. Make sure that manually assigning topics is the last step in the pipeline.Note that topic embeddings will also be created through weightedc-TF-IDF embeddings instead of centroid embeddings.\n"
     ]
    },
    {
     "data": {
      "text/html": [
       "<div>\n",
       "<style scoped>\n",
       "    .dataframe tbody tr th:only-of-type {\n",
       "        vertical-align: middle;\n",
       "    }\n",
       "\n",
       "    .dataframe tbody tr th {\n",
       "        vertical-align: top;\n",
       "    }\n",
       "\n",
       "    .dataframe thead th {\n",
       "        text-align: right;\n",
       "    }\n",
       "</style>\n",
       "<table border=\"1\" class=\"dataframe\">\n",
       "  <thead>\n",
       "    <tr style=\"text-align: right;\">\n",
       "      <th></th>\n",
       "      <th>Topic</th>\n",
       "      <th>Count</th>\n",
       "      <th>Name</th>\n",
       "      <th>Representation</th>\n",
       "      <th>Representative_Docs</th>\n",
       "    </tr>\n",
       "  </thead>\n",
       "  <tbody>\n",
       "    <tr>\n",
       "      <th>0</th>\n",
       "      <td>0</td>\n",
       "      <td>203</td>\n",
       "      <td>0_Aviation Safety and Incident Analysis</td>\n",
       "      <td>[Aviation Safety and Incident Analysis]</td>\n",
       "      <td>[The controllers and the pilots of the Pacific...</td>\n",
       "    </tr>\n",
       "    <tr>\n",
       "      <th>1</th>\n",
       "      <td>1</td>\n",
       "      <td>189</td>\n",
       "      <td>1_Rail Safety and Operations Management Concerns</td>\n",
       "      <td>[Rail Safety and Operations Management Concerns]</td>\n",
       "      <td>[The training that drivers received for transi...</td>\n",
       "    </tr>\n",
       "    <tr>\n",
       "      <th>2</th>\n",
       "      <td>2</td>\n",
       "      <td>142</td>\n",
       "      <td>2_Maritime Safety and Navigation Management De...</td>\n",
       "      <td>[Maritime Safety and Navigation Management Def...</td>\n",
       "      <td>[The bilge pumping system on the Jubilee was n...</td>\n",
       "    </tr>\n",
       "    <tr>\n",
       "      <th>3</th>\n",
       "      <td>3</td>\n",
       "      <td>26</td>\n",
       "      <td>3_Maritime Safety and Compliance Issues</td>\n",
       "      <td>[Maritime Safety and Compliance Issues]</td>\n",
       "      <td>[There were as few as 4 approved lifejackets o...</td>\n",
       "    </tr>\n",
       "  </tbody>\n",
       "</table>\n",
       "</div>"
      ],
      "text/plain": [
       "   Topic  Count                                               Name  \\\n",
       "0      0    203            0_Aviation Safety and Incident Analysis   \n",
       "1      1    189   1_Rail Safety and Operations Management Concerns   \n",
       "2      2    142  2_Maritime Safety and Navigation Management De...   \n",
       "3      3     26            3_Maritime Safety and Compliance Issues   \n",
       "\n",
       "                                      Representation  \\\n",
       "0            [Aviation Safety and Incident Analysis]   \n",
       "1   [Rail Safety and Operations Management Concerns]   \n",
       "2  [Maritime Safety and Navigation Management Def...   \n",
       "3            [Maritime Safety and Compliance Issues]   \n",
       "\n",
       "                                 Representative_Docs  \n",
       "0  [The controllers and the pilots of the Pacific...  \n",
       "1  [The training that drivers received for transi...  \n",
       "2  [The bilge pumping system on the Jubilee was n...  \n",
       "3  [There were as few as 4 approved lifejackets o...  "
      ]
     },
     "execution_count": 102,
     "metadata": {},
     "output_type": "execute_result"
    }
   ],
   "source": [
    "topic_model, openai_clusters_df = runBERTopic(\n",
    "    openai_embeddings, 'si', 'si_embedding', openai_base_representation_model, umap_model, reduce_outliers=True)\n",
    "\n",
    "topic_model.get_topic_info()"
   ]
  },
  {
   "cell_type": "code",
   "execution_count": 104,
   "metadata": {},
   "outputs": [
    {
     "data": {
      "text/html": [
       "<div>\n",
       "<style scoped>\n",
       "    .dataframe tbody tr th:only-of-type {\n",
       "        vertical-align: middle;\n",
       "    }\n",
       "\n",
       "    .dataframe tbody tr th {\n",
       "        vertical-align: top;\n",
       "    }\n",
       "\n",
       "    .dataframe thead th {\n",
       "        text-align: right;\n",
       "    }\n",
       "</style>\n",
       "<table border=\"1\" class=\"dataframe\">\n",
       "  <thead>\n",
       "    <tr style=\"text-align: right;\">\n",
       "      <th>mode</th>\n",
       "      <th>0</th>\n",
       "      <th>1</th>\n",
       "      <th>2</th>\n",
       "    </tr>\n",
       "    <tr>\n",
       "      <th>topic</th>\n",
       "      <th></th>\n",
       "      <th></th>\n",
       "      <th></th>\n",
       "    </tr>\n",
       "  </thead>\n",
       "  <tbody>\n",
       "    <tr>\n",
       "      <th>0</th>\n",
       "      <td>191.0</td>\n",
       "      <td>4.0</td>\n",
       "      <td>8.0</td>\n",
       "    </tr>\n",
       "    <tr>\n",
       "      <th>1</th>\n",
       "      <td>5.0</td>\n",
       "      <td>181.0</td>\n",
       "      <td>3.0</td>\n",
       "    </tr>\n",
       "    <tr>\n",
       "      <th>2</th>\n",
       "      <td>4.0</td>\n",
       "      <td>0.0</td>\n",
       "      <td>138.0</td>\n",
       "    </tr>\n",
       "    <tr>\n",
       "      <th>3</th>\n",
       "      <td>6.0</td>\n",
       "      <td>0.0</td>\n",
       "      <td>20.0</td>\n",
       "    </tr>\n",
       "  </tbody>\n",
       "</table>\n",
       "</div>"
      ],
      "text/plain": [
       "mode       0      1      2\n",
       "topic                     \n",
       "0      191.0    4.0    8.0\n",
       "1        5.0  181.0    3.0\n",
       "2        4.0    0.0  138.0\n",
       "3        6.0    0.0   20.0"
      ]
     },
     "execution_count": 104,
     "metadata": {},
     "output_type": "execute_result"
    }
   ],
   "source": [
    "check_mode_cluster_distribution(openai_clusters_df)"
   ]
  },
  {
   "cell_type": "markdown",
   "metadata": {},
   "source": [
    "This has also made a cleanish split between modes of transport. I can eithe try to force it not to do this and/or run the model on each mode then merge the models."
   ]
  },
  {
   "cell_type": "markdown",
   "metadata": {},
   "source": [
    "## Run cluster on just one mode\n",
    "\n",
    "It would make sense that if the clustering is finding the transport modes then splitting into the modes first might help find the themes within each mode."
   ]
  },
  {
   "cell_type": "code",
   "execution_count": 105,
   "metadata": {},
   "outputs": [],
   "source": [
    "def printout_each_modes_topics(results):\n",
    "    for res in results:\n",
    "        print(\"Cluster names: \")\n",
    "        for i, count in zip(res[0].get_topic_info()['Name'], res[0].get_topic_info()['Count']):\n",
    "            print(f\"{count}, {i}\")"
   ]
  },
  {
   "cell_type": "markdown",
   "metadata": {},
   "source": [
    "### OpenAI"
   ]
  },
  {
   "cell_type": "code",
   "execution_count": 106,
   "metadata": {},
   "outputs": [
    {
     "name": "stderr",
     "output_type": "stream",
     "text": [
      "2024-05-03 12:57:30,122 - BERTopic - WARNING: Using a custom list of topic assignments may lead to errors if topic reduction techniques are used afterwards. Make sure that manually assigning topics is the last step in the pipeline.Note that topic embeddings will also be created through weightedc-TF-IDF embeddings instead of centroid embeddings.\n",
      "2024-05-03 12:57:50,780 - BERTopic - WARNING: Using a custom list of topic assignments may lead to errors if topic reduction techniques are used afterwards. Make sure that manually assigning topics is the last step in the pipeline.Note that topic embeddings will also be created through weightedc-TF-IDF embeddings instead of centroid embeddings.\n",
      "2024-05-03 12:58:04,109 - BERTopic - WARNING: Using a custom list of topic assignments may lead to errors if topic reduction techniques are used afterwards. Make sure that manually assigning topics is the last step in the pipeline.Note that topic embeddings will also be created through weightedc-TF-IDF embeddings instead of centroid embeddings.\n"
     ]
    },
    {
     "name": "stdout",
     "output_type": "stream",
     "text": [
      "Cluster names: \n",
      "46, 0_Aviation Safety and Operational Procedures Issues\n",
      "42, 1_Aircraft Maintenance and Safety Issues\n",
      "37, 2_Challenges and Safety Issues in Robinson Helicopter Operations\n",
      "51, 3_Aviation Safety and Regulatory Oversight in New Zealand\n",
      "30, 4_Aviation Safety and Emergency Response\n",
      "Cluster names: \n",
      "49, 0_KiwiRail Safety and Compliance Issues\n",
      "28, 1_Rail Safety and Inspection Inefficiencies\n",
      "42, 2_Rail Safety and Communication Issues\n",
      "27, 3_Safety and Oversight Concerns in Train Operations\n",
      "21, 4_Road and Rail Safety at Level Crossings\n",
      "18, 5_Risk Management and Safety Issues in Wellington Station Train Operations\n",
      "Cluster names: \n",
      "150, 0_Maritime Safety and Crew Management Deficiencies\n",
      "19, 1_Maritime Safety and Compliance Issues\n"
     ]
    }
   ],
   "source": [
    "modes_dfs = [openai_embeddings[openai_embeddings['mode'] == i] for i in range(3)]\n",
    "\n",
    "results = [runBERTopic(df, 'si', 'si_embedding', openai_base_representation_model, umap_model) for df in modes_dfs]\n",
    "\n",
    "printout_each_modes_topics(results)"
   ]
  },
  {
   "cell_type": "markdown",
   "metadata": {},
   "source": [
    "### VoyageAI"
   ]
  },
  {
   "cell_type": "code",
   "execution_count": 107,
   "metadata": {},
   "outputs": [
    {
     "name": "stderr",
     "output_type": "stream",
     "text": [
      "2024-05-03 13:04:01,204 - BERTopic - WARNING: Using a custom list of topic assignments may lead to errors if topic reduction techniques are used afterwards. Make sure that manually assigning topics is the last step in the pipeline.Note that topic embeddings will also be created through weightedc-TF-IDF embeddings instead of centroid embeddings.\n",
      "2024-05-03 13:04:12,351 - BERTopic - WARNING: Using a custom list of topic assignments may lead to errors if topic reduction techniques are used afterwards. Make sure that manually assigning topics is the last step in the pipeline.Note that topic embeddings will also be created through weightedc-TF-IDF embeddings instead of centroid embeddings.\n"
     ]
    }
   ],
   "source": [
    "modes_dfs = [voyageai_embeddings[voyageai_embeddings['mode'] == i] for i in range(3)]\n",
    "\n",
    "results = [runBERTopic(df, 'si', 'si_embedding', openai_base_representation_model, umap_model) for df in modes_dfs]\n",
    "\n",
    "printout_each_modes_topics(results)"
   ]
  }
 ],
 "metadata": {
  "kernelspec": {
   "display_name": "taic-report-engine-vkGeZcZ8-py3.11",
   "language": "python",
   "name": "python3"
  },
  "language_info": {
   "codemirror_mode": {
    "name": "ipython",
    "version": 3
   },
   "file_extension": ".py",
   "mimetype": "text/x-python",
   "name": "python",
   "nbconvert_exporter": "python",
   "pygments_lexer": "ipython3",
   "version": "3.11.5"
  }
 },
 "nbformat": 4,
 "nbformat_minor": 2
}
