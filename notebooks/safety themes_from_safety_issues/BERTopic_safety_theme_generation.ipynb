{
 "cells": [
  {
   "cell_type": "markdown",
   "metadata": {},
   "source": [
    "# What\n",
    "\n",
    "As establised in this [notebook](./safey_themes_from_safety_issues.ipynb). BERTopic seems to be the most promising method for generating safety themes from safety issues.\n",
    "\n",
    "There are a few problems that need to be address.\n",
    "- Lots of outliers\n",
    "- only 3 topics being generated"
   ]
  },
  {
   "cell_type": "markdown",
   "metadata": {},
   "source": [
    "## Modules"
   ]
  },
  {
   "cell_type": "code",
   "execution_count": 1,
   "metadata": {},
   "outputs": [],
   "source": [
    "# local\n",
    "\n",
    "# third parties\n",
    "\n",
    "import yaml\n",
    "import pandas as pd\n",
    "import numpy as np\n",
    "\n",
    "from dotenv import load_dotenv\n",
    "\n",
    "import voyageai\n",
    "import openai\n",
    "\n",
    "from bertopic import BERTopic\n",
    "from bertopic.representation import OpenAI\n",
    "from umap import UMAP\n",
    "\n",
    "\n",
    "# builtin\n",
    "import os\n",
    "\n",
    "openai_client = openai.OpenAI(api_key=os.getenv(\"OPENAI_API_KEY\"))"
   ]
  },
  {
   "cell_type": "markdown",
   "metadata": {},
   "source": [
    "# Getting safety issue data"
   ]
  },
  {
   "cell_type": "code",
   "execution_count": 5,
   "metadata": {},
   "outputs": [],
   "source": [
    "safety_issues_df = pd.read_csv('safety_issues.csv')\n",
    "\n",
    "# Confirm it has the right columns report_id, si and mode\n",
    "\n",
    "if not safety_issues_df.columns.isin(['report_id', 'si', 'mode']).any():\n",
    "    print(\"Safety issues dataset is missing columns\")\n",
    "    del safety_issues_df"
   ]
  },
  {
   "cell_type": "markdown",
   "metadata": {},
   "source": [
    "# Getting embeddings to be used for clustering"
   ]
  },
  {
   "cell_type": "code",
   "execution_count": 11,
   "metadata": {},
   "outputs": [],
   "source": [
    "voyageai_embeddings = pd.read_pickle('voyageai_embeddings.pkl')\n",
    "\n",
    "openai_embeddings = pd.read_pickle('openai_embeddings.pkl')"
   ]
  },
  {
   "cell_type": "markdown",
   "metadata": {},
   "source": [
    "# BERTopic models\n",
    "\n",
    "I have two things that I can play with are:\n",
    "- What embeddings are used\n",
    "- How the topic representation are generated (keywords, openai prompts etc)"
   ]
  },
  {
   "cell_type": "code",
   "execution_count": 8,
   "metadata": {},
   "outputs": [],
   "source": [
    "openai_base_representation_model = OpenAI(\n",
    "    openai_client,\n",
    "    model=\"gpt-4-turbo\",\n",
    "    chat=True,\n",
    "    nr_docs = 50)\n",
    "\n",
    "umap_model = UMAP(n_neighbors=15, n_components=5, min_dist=0.0, metric='cosine', random_state=42)"
   ]
  },
  {
   "cell_type": "code",
   "execution_count": 7,
   "metadata": {},
   "outputs": [],
   "source": [
    "column_to_2darray = lambda column: np.array([np.array(x) for x in column.to_numpy()])\n",
    "\n",
    "def runBERTopic(df, docs_name, embeddings_name, representation_model, umap_model, reduce_outliers=True, ):\n",
    "\n",
    "    topic_model = BERTopic(\n",
    "        representation_model=representation_model,\n",
    "        umap_model=umap_model,\n",
    "        calculate_probabilities=True)\n",
    "\n",
    "    if embeddings_name is not None:\n",
    "        topics, probs = topic_model.fit_transform(\n",
    "            df[docs_name],\n",
    "            column_to_2darray(df[embeddings_name]))\n",
    "    else:\n",
    "        topics, probs = topic_model.fit_transform(df[docs_name])\n",
    "        \n",
    "    if reduce_outliers:\n",
    "        topics = topic_model.reduce_outliers(\n",
    "            documents=df[docs_name].to_list(),\n",
    "            topics=topics, \n",
    "            probabilities=probs,\n",
    "            strategy=\"probabilities\")\n",
    "\n",
    "        topic_model.update_topics(\n",
    "            df[docs_name].to_list(),\n",
    "            topics=topics,\n",
    "            representation_model=representation_model)\n",
    "        \n",
    "    df['topic'] = topics\n",
    "\n",
    "    df = pd.concat([df, pd.DataFrame(probs)], axis=1)\n",
    "\n",
    "    return topic_model, df"
   ]
  },
  {
   "cell_type": "markdown",
   "metadata": {},
   "source": [
    "## Running it on all safety issues\n",
    "\n",
    "\n",
    "I want to generate the safety themes from all of the safety issues I have available."
   ]
  },
  {
   "cell_type": "code",
   "execution_count": 6,
   "metadata": {},
   "outputs": [],
   "source": [
    "def check_mode_cluster_distribution(df):\n",
    "    safety_issues_df_topic_mode = df.pivot_table(index='topic', columns='mode', values='report_id', aggfunc='count').fillna(0)\n",
    "    return safety_issues_df_topic_mode"
   ]
  },
  {
   "cell_type": "markdown",
   "metadata": {},
   "source": [
    "### Simple minilm embeddings\n",
    "\n",
    "This seems to of failed. I believe this is mainly due to the fact that each documents are really short."
   ]
  },
  {
   "cell_type": "code",
   "execution_count": 83,
   "metadata": {},
   "outputs": [],
   "source": [
    "\n",
    "topic_model, _ = runBERTopic(\n",
    "    safety_issues_df, 'si', None, openai_base_representation_model, umap_model, reduce_outliers=False)\n",
    "\n",
    "topic_model.get_topic_info()\n"
   ]
  },
  {
   "cell_type": "markdown",
   "metadata": {},
   "source": [
    "There is a bit of a problem where the number of outliers is quite great.\n",
    "\n",
    "I will try to merge the outliers"
   ]
  },
  {
   "cell_type": "code",
   "execution_count": 86,
   "metadata": {},
   "outputs": [
    {
     "name": "stderr",
     "output_type": "stream",
     "text": [
      "2024-05-03 12:24:31,654 - BERTopic - WARNING: Using a custom list of topic assignments may lead to errors if topic reduction techniques are used afterwards. Make sure that manually assigning topics is the last step in the pipeline.Note that topic embeddings will also be created through weightedc-TF-IDF embeddings instead of centroid embeddings.\n"
     ]
    },
    {
     "data": {
      "text/html": [
       "<div>\n",
       "<style scoped>\n",
       "    .dataframe tbody tr th:only-of-type {\n",
       "        vertical-align: middle;\n",
       "    }\n",
       "\n",
       "    .dataframe tbody tr th {\n",
       "        vertical-align: top;\n",
       "    }\n",
       "\n",
       "    .dataframe thead th {\n",
       "        text-align: right;\n",
       "    }\n",
       "</style>\n",
       "<table border=\"1\" class=\"dataframe\">\n",
       "  <thead>\n",
       "    <tr style=\"text-align: right;\">\n",
       "      <th></th>\n",
       "      <th>Topic</th>\n",
       "      <th>Count</th>\n",
       "      <th>Name</th>\n",
       "      <th>Representation</th>\n",
       "      <th>Representative_Docs</th>\n",
       "    </tr>\n",
       "  </thead>\n",
       "  <tbody>\n",
       "    <tr>\n",
       "      <th>0</th>\n",
       "      <td>0</td>\n",
       "      <td>166</td>\n",
       "      <td>0_Rail Safety and Operational Issues in New Ze...</td>\n",
       "      <td>[Rail Safety and Operational Issues in New Zea...</td>\n",
       "      <td>[The training that drivers received for transi...</td>\n",
       "    </tr>\n",
       "    <tr>\n",
       "      <th>1</th>\n",
       "      <td>1</td>\n",
       "      <td>64</td>\n",
       "      <td>1_Maritime Safety and Navigation Management Is...</td>\n",
       "      <td>[Maritime Safety and Navigation Management Iss...</td>\n",
       "      <td>[The voyage planning for the time in the Snare...</td>\n",
       "    </tr>\n",
       "    <tr>\n",
       "      <th>2</th>\n",
       "      <td>2</td>\n",
       "      <td>36</td>\n",
       "      <td>2_Maritime Safety and Regulations Compliance I...</td>\n",
       "      <td>[Maritime Safety and Regulations Compliance Is...</td>\n",
       "      <td>[The skipper did not have the requisite knowle...</td>\n",
       "    </tr>\n",
       "    <tr>\n",
       "      <th>3</th>\n",
       "      <td>3</td>\n",
       "      <td>53</td>\n",
       "      <td>3_Safety and Maintenance Issues in Engineering...</td>\n",
       "      <td>[Safety and Maintenance Issues in Engineering ...</td>\n",
       "      <td>[There was a lack of clear communication and a...</td>\n",
       "    </tr>\n",
       "    <tr>\n",
       "      <th>4</th>\n",
       "      <td>4</td>\n",
       "      <td>53</td>\n",
       "      <td>4_Maritime and Aviation Safety Management and ...</td>\n",
       "      <td>[Maritime and Aviation Safety Management and E...</td>\n",
       "      <td>[It could not be established why the chief off...</td>\n",
       "    </tr>\n",
       "    <tr>\n",
       "      <th>5</th>\n",
       "      <td>5</td>\n",
       "      <td>50</td>\n",
       "      <td>5_Aviation Safety and Compliance Issues</td>\n",
       "      <td>[Aviation Safety and Compliance Issues]</td>\n",
       "      <td>[Had the controllers realised that the low clo...</td>\n",
       "    </tr>\n",
       "    <tr>\n",
       "      <th>6</th>\n",
       "      <td>6</td>\n",
       "      <td>27</td>\n",
       "      <td>6_Robinson Helicopter Safety and Accident Anal...</td>\n",
       "      <td>[Robinson Helicopter Safety and Accident Analy...</td>\n",
       "      <td>[Due to their unique main rotor design, during...</td>\n",
       "    </tr>\n",
       "    <tr>\n",
       "      <th>7</th>\n",
       "      <td>7</td>\n",
       "      <td>62</td>\n",
       "      <td>7_Aviation Safety and Regulatory Compliance Is...</td>\n",
       "      <td>[Aviation Safety and Regulatory Compliance Iss...</td>\n",
       "      <td>[The standard of pilot training and the superv...</td>\n",
       "    </tr>\n",
       "    <tr>\n",
       "      <th>8</th>\n",
       "      <td>8</td>\n",
       "      <td>26</td>\n",
       "      <td>8_Aircraft Landing Gear and Door Lock Failures</td>\n",
       "      <td>[Aircraft Landing Gear and Door Lock Failures]</td>\n",
       "      <td>[Had the pilots known that the nose landing ge...</td>\n",
       "    </tr>\n",
       "    <tr>\n",
       "      <th>9</th>\n",
       "      <td>9</td>\n",
       "      <td>23</td>\n",
       "      <td>9_Deficiencies in Safety and Regulatory Compli...</td>\n",
       "      <td>[Deficiencies in Safety and Regulatory Complia...</td>\n",
       "      <td>[There were no established procedures for ente...</td>\n",
       "    </tr>\n",
       "  </tbody>\n",
       "</table>\n",
       "</div>"
      ],
      "text/plain": [
       "   Topic  Count                                               Name  \\\n",
       "0      0    166  0_Rail Safety and Operational Issues in New Ze...   \n",
       "1      1     64  1_Maritime Safety and Navigation Management Is...   \n",
       "2      2     36  2_Maritime Safety and Regulations Compliance I...   \n",
       "3      3     53  3_Safety and Maintenance Issues in Engineering...   \n",
       "4      4     53  4_Maritime and Aviation Safety Management and ...   \n",
       "5      5     50            5_Aviation Safety and Compliance Issues   \n",
       "6      6     27  6_Robinson Helicopter Safety and Accident Anal...   \n",
       "7      7     62  7_Aviation Safety and Regulatory Compliance Is...   \n",
       "8      8     26     8_Aircraft Landing Gear and Door Lock Failures   \n",
       "9      9     23  9_Deficiencies in Safety and Regulatory Compli...   \n",
       "\n",
       "                                      Representation  \\\n",
       "0  [Rail Safety and Operational Issues in New Zea...   \n",
       "1  [Maritime Safety and Navigation Management Iss...   \n",
       "2  [Maritime Safety and Regulations Compliance Is...   \n",
       "3  [Safety and Maintenance Issues in Engineering ...   \n",
       "4  [Maritime and Aviation Safety Management and E...   \n",
       "5            [Aviation Safety and Compliance Issues]   \n",
       "6  [Robinson Helicopter Safety and Accident Analy...   \n",
       "7  [Aviation Safety and Regulatory Compliance Iss...   \n",
       "8     [Aircraft Landing Gear and Door Lock Failures]   \n",
       "9  [Deficiencies in Safety and Regulatory Complia...   \n",
       "\n",
       "                                 Representative_Docs  \n",
       "0  [The training that drivers received for transi...  \n",
       "1  [The voyage planning for the time in the Snare...  \n",
       "2  [The skipper did not have the requisite knowle...  \n",
       "3  [There was a lack of clear communication and a...  \n",
       "4  [It could not be established why the chief off...  \n",
       "5  [Had the controllers realised that the low clo...  \n",
       "6  [Due to their unique main rotor design, during...  \n",
       "7  [The standard of pilot training and the superv...  \n",
       "8  [Had the pilots known that the nose landing ge...  \n",
       "9  [There were no established procedures for ente...  "
      ]
     },
     "execution_count": 86,
     "metadata": {},
     "output_type": "execute_result"
    }
   ],
   "source": [
    "topic_model, _ = runBERTopic(\n",
    "    safety_issues_df, 'si', None, openai_base_representation_model, umap_model, reduce_outliers=True)\n",
    "\n",
    "topic_model.get_topic_info()"
   ]
  },
  {
   "cell_type": "markdown",
   "metadata": {},
   "source": [
    "The main problem here is that the the distribution is not great. It seems that most of the rail are in the first topic then martime and aviation take up the rest."
   ]
  },
  {
   "cell_type": "markdown",
   "metadata": {},
   "source": [
    "### VoyageAI embeddings"
   ]
  },
  {
   "cell_type": "code",
   "execution_count": 13,
   "metadata": {},
   "outputs": [
    {
     "name": "stderr",
     "output_type": "stream",
     "text": [
      "2024-05-06 11:41:41,384 - BERTopic - WARNING: Using a custom list of topic assignments may lead to errors if topic reduction techniques are used afterwards. Make sure that manually assigning topics is the last step in the pipeline.Note that topic embeddings will also be created through weightedc-TF-IDF embeddings instead of centroid embeddings.\n"
     ]
    },
    {
     "data": {
      "text/html": [
       "<div>\n",
       "<style scoped>\n",
       "    .dataframe tbody tr th:only-of-type {\n",
       "        vertical-align: middle;\n",
       "    }\n",
       "\n",
       "    .dataframe tbody tr th {\n",
       "        vertical-align: top;\n",
       "    }\n",
       "\n",
       "    .dataframe thead th {\n",
       "        text-align: right;\n",
       "    }\n",
       "</style>\n",
       "<table border=\"1\" class=\"dataframe\">\n",
       "  <thead>\n",
       "    <tr style=\"text-align: right;\">\n",
       "      <th></th>\n",
       "      <th>Topic</th>\n",
       "      <th>Count</th>\n",
       "      <th>Name</th>\n",
       "      <th>Representation</th>\n",
       "      <th>Representative_Docs</th>\n",
       "    </tr>\n",
       "  </thead>\n",
       "  <tbody>\n",
       "    <tr>\n",
       "      <th>0</th>\n",
       "      <td>0</td>\n",
       "      <td>379</td>\n",
       "      <td>0_Aviation and Maritime Safety Management and ...</td>\n",
       "      <td>[Aviation and Maritime Safety Management and C...</td>\n",
       "      <td>[The bilge pumping system on the Jubilee was n...</td>\n",
       "    </tr>\n",
       "    <tr>\n",
       "      <th>1</th>\n",
       "      <td>1</td>\n",
       "      <td>181</td>\n",
       "      <td>1_Railway Safety and Operational Issues</td>\n",
       "      <td>[Railway Safety and Operational Issues]</td>\n",
       "      <td>[The training that drivers received for transi...</td>\n",
       "    </tr>\n",
       "  </tbody>\n",
       "</table>\n",
       "</div>"
      ],
      "text/plain": [
       "   Topic  Count                                               Name  \\\n",
       "0      0    379  0_Aviation and Maritime Safety Management and ...   \n",
       "1      1    181            1_Railway Safety and Operational Issues   \n",
       "\n",
       "                                      Representation  \\\n",
       "0  [Aviation and Maritime Safety Management and C...   \n",
       "1            [Railway Safety and Operational Issues]   \n",
       "\n",
       "                                 Representative_Docs  \n",
       "0  [The bilge pumping system on the Jubilee was n...  \n",
       "1  [The training that drivers received for transi...  "
      ]
     },
     "execution_count": 13,
     "metadata": {},
     "output_type": "execute_result"
    }
   ],
   "source": [
    "topic_model, voyageai_clusters_df = runBERTopic(\n",
    "    voyageai_embeddings, 'si', 'si_embedding', openai_base_representation_model, umap_model, reduce_outliers=True)\n",
    "\n",
    "topic_model.get_topic_info()"
   ]
  },
  {
   "cell_type": "code",
   "execution_count": 101,
   "metadata": {},
   "outputs": [
    {
     "data": {
      "text/html": [
       "<div>\n",
       "<style scoped>\n",
       "    .dataframe tbody tr th:only-of-type {\n",
       "        vertical-align: middle;\n",
       "    }\n",
       "\n",
       "    .dataframe tbody tr th {\n",
       "        vertical-align: top;\n",
       "    }\n",
       "\n",
       "    .dataframe thead th {\n",
       "        text-align: right;\n",
       "    }\n",
       "</style>\n",
       "<table border=\"1\" class=\"dataframe\">\n",
       "  <thead>\n",
       "    <tr style=\"text-align: right;\">\n",
       "      <th>mode</th>\n",
       "      <th>0</th>\n",
       "      <th>1</th>\n",
       "      <th>2</th>\n",
       "    </tr>\n",
       "    <tr>\n",
       "      <th>topic</th>\n",
       "      <th></th>\n",
       "      <th></th>\n",
       "      <th></th>\n",
       "    </tr>\n",
       "  </thead>\n",
       "  <tbody>\n",
       "    <tr>\n",
       "      <th>0</th>\n",
       "      <td>204</td>\n",
       "      <td>8</td>\n",
       "      <td>167</td>\n",
       "    </tr>\n",
       "    <tr>\n",
       "      <th>1</th>\n",
       "      <td>2</td>\n",
       "      <td>177</td>\n",
       "      <td>2</td>\n",
       "    </tr>\n",
       "  </tbody>\n",
       "</table>\n",
       "</div>"
      ],
      "text/plain": [
       "mode     0    1    2\n",
       "topic               \n",
       "0      204    8  167\n",
       "1        2  177    2"
      ]
     },
     "execution_count": 101,
     "metadata": {},
     "output_type": "execute_result"
    }
   ],
   "source": [
    "\n",
    "\n",
    "check_mode_cluster_distribution(voyageai_clusters_df)"
   ]
  },
  {
   "cell_type": "markdown",
   "metadata": {},
   "source": [
    "This has created two topics wiht one being avaiation and martime and the other being rail."
   ]
  },
  {
   "cell_type": "markdown",
   "metadata": {},
   "source": [
    "### OpenAI embeddings"
   ]
  },
  {
   "cell_type": "code",
   "execution_count": 8,
   "metadata": {},
   "outputs": [
    {
     "name": "stderr",
     "output_type": "stream",
     "text": [
      "2024-05-06 11:38:09,162 - BERTopic - WARNING: Using a custom list of topic assignments may lead to errors if topic reduction techniques are used afterwards. Make sure that manually assigning topics is the last step in the pipeline.Note that topic embeddings will also be created through weightedc-TF-IDF embeddings instead of centroid embeddings.\n"
     ]
    },
    {
     "data": {
      "text/html": [
       "<div>\n",
       "<style scoped>\n",
       "    .dataframe tbody tr th:only-of-type {\n",
       "        vertical-align: middle;\n",
       "    }\n",
       "\n",
       "    .dataframe tbody tr th {\n",
       "        vertical-align: top;\n",
       "    }\n",
       "\n",
       "    .dataframe thead th {\n",
       "        text-align: right;\n",
       "    }\n",
       "</style>\n",
       "<table border=\"1\" class=\"dataframe\">\n",
       "  <thead>\n",
       "    <tr style=\"text-align: right;\">\n",
       "      <th></th>\n",
       "      <th>Count</th>\n",
       "      <th>Name</th>\n",
       "    </tr>\n",
       "  </thead>\n",
       "  <tbody>\n",
       "    <tr>\n",
       "      <th>0</th>\n",
       "      <td>203</td>\n",
       "      <td>0_Aviation Safety and Compliance Issues</td>\n",
       "    </tr>\n",
       "    <tr>\n",
       "      <th>1</th>\n",
       "      <td>189</td>\n",
       "      <td>1_Rail Safety and Operational Issues in New Ze...</td>\n",
       "    </tr>\n",
       "    <tr>\n",
       "      <th>2</th>\n",
       "      <td>142</td>\n",
       "      <td>2_Maritime Safety and Navigation Management Flaws</td>\n",
       "    </tr>\n",
       "    <tr>\n",
       "      <th>3</th>\n",
       "      <td>26</td>\n",
       "      <td>3_Maritime Safety and Compliance Issues of the...</td>\n",
       "    </tr>\n",
       "  </tbody>\n",
       "</table>\n",
       "</div>"
      ],
      "text/plain": [
       "   Count                                               Name\n",
       "0    203            0_Aviation Safety and Compliance Issues\n",
       "1    189  1_Rail Safety and Operational Issues in New Ze...\n",
       "2    142  2_Maritime Safety and Navigation Management Flaws\n",
       "3     26  3_Maritime Safety and Compliance Issues of the..."
      ]
     },
     "execution_count": 8,
     "metadata": {},
     "output_type": "execute_result"
    }
   ],
   "source": [
    "topic_model, openai_clusters_df = runBERTopic(\n",
    "    openai_embeddings, 'si', 'si_embedding', openai_base_representation_model, umap_model, reduce_outliers=True)\n",
    "\n",
    "topic_model.get_topic_info()[['Count', 'Name']]"
   ]
  },
  {
   "cell_type": "code",
   "execution_count": 11,
   "metadata": {},
   "outputs": [
    {
     "data": {
      "text/html": [
       "<div>\n",
       "<style scoped>\n",
       "    .dataframe tbody tr th:only-of-type {\n",
       "        vertical-align: middle;\n",
       "    }\n",
       "\n",
       "    .dataframe tbody tr th {\n",
       "        vertical-align: top;\n",
       "    }\n",
       "\n",
       "    .dataframe thead th {\n",
       "        text-align: right;\n",
       "    }\n",
       "</style>\n",
       "<table border=\"1\" class=\"dataframe\">\n",
       "  <thead>\n",
       "    <tr style=\"text-align: right;\">\n",
       "      <th>mode</th>\n",
       "      <th>0</th>\n",
       "      <th>1</th>\n",
       "      <th>2</th>\n",
       "    </tr>\n",
       "    <tr>\n",
       "      <th>topic</th>\n",
       "      <th></th>\n",
       "      <th></th>\n",
       "      <th></th>\n",
       "    </tr>\n",
       "  </thead>\n",
       "  <tbody>\n",
       "    <tr>\n",
       "      <th>0</th>\n",
       "      <td>191.0</td>\n",
       "      <td>4.0</td>\n",
       "      <td>8.0</td>\n",
       "    </tr>\n",
       "    <tr>\n",
       "      <th>1</th>\n",
       "      <td>5.0</td>\n",
       "      <td>181.0</td>\n",
       "      <td>3.0</td>\n",
       "    </tr>\n",
       "    <tr>\n",
       "      <th>2</th>\n",
       "      <td>4.0</td>\n",
       "      <td>0.0</td>\n",
       "      <td>138.0</td>\n",
       "    </tr>\n",
       "    <tr>\n",
       "      <th>3</th>\n",
       "      <td>6.0</td>\n",
       "      <td>0.0</td>\n",
       "      <td>20.0</td>\n",
       "    </tr>\n",
       "  </tbody>\n",
       "</table>\n",
       "</div>"
      ],
      "text/plain": [
       "mode       0      1      2\n",
       "topic                     \n",
       "0      191.0    4.0    8.0\n",
       "1        5.0  181.0    3.0\n",
       "2        4.0    0.0  138.0\n",
       "3        6.0    0.0   20.0"
      ]
     },
     "execution_count": 11,
     "metadata": {},
     "output_type": "execute_result"
    }
   ],
   "source": [
    "check_mode_cluster_distribution(openai_clusters_df)"
   ]
  },
  {
   "cell_type": "markdown",
   "metadata": {},
   "source": [
    "This has also made a cleanish split between modes of transport. I can eithe try to force it not to do this and/or run the model on each mode then merge the models."
   ]
  },
  {
   "cell_type": "code",
   "execution_count": 16,
   "metadata": {},
   "outputs": [
    {
     "name": "stderr",
     "output_type": "stream",
     "text": [
      "2024-05-06 11:44:03,422 - BERTopic - WARNING: Using a custom list of topic assignments may lead to errors if topic reduction techniques are used afterwards. Make sure that manually assigning topics is the last step in the pipeline.Note that topic embeddings will also be created through weightedc-TF-IDF embeddings instead of centroid embeddings.\n"
     ]
    },
    {
     "data": {
      "text/html": [
       "<div>\n",
       "<style scoped>\n",
       "    .dataframe tbody tr th:only-of-type {\n",
       "        vertical-align: middle;\n",
       "    }\n",
       "\n",
       "    .dataframe tbody tr th {\n",
       "        vertical-align: top;\n",
       "    }\n",
       "\n",
       "    .dataframe thead th {\n",
       "        text-align: right;\n",
       "    }\n",
       "</style>\n",
       "<table border=\"1\" class=\"dataframe\">\n",
       "  <thead>\n",
       "    <tr style=\"text-align: right;\">\n",
       "      <th></th>\n",
       "      <th>Count</th>\n",
       "      <th>Name</th>\n",
       "    </tr>\n",
       "  </thead>\n",
       "  <tbody>\n",
       "    <tr>\n",
       "      <th>0</th>\n",
       "      <td>167</td>\n",
       "      <td>0_Rail Safety and Operational Failures</td>\n",
       "    </tr>\n",
       "    <tr>\n",
       "      <th>1</th>\n",
       "      <td>115</td>\n",
       "      <td>1_Maritime Safety and Resource Management Defi...</td>\n",
       "    </tr>\n",
       "    <tr>\n",
       "      <th>2</th>\n",
       "      <td>50</td>\n",
       "      <td>2_Safety and Compliance in Transport and Marit...</td>\n",
       "    </tr>\n",
       "    <tr>\n",
       "      <th>3</th>\n",
       "      <td>51</td>\n",
       "      <td>3_Aviation Safety and Regulatory Compliance Is...</td>\n",
       "    </tr>\n",
       "    <tr>\n",
       "      <th>4</th>\n",
       "      <td>41</td>\n",
       "      <td>4_Helicopter Safety and Operational Issues</td>\n",
       "    </tr>\n",
       "    <tr>\n",
       "      <th>5</th>\n",
       "      <td>52</td>\n",
       "      <td>5_Aviation Safety and Air Traffic Control Issues</td>\n",
       "    </tr>\n",
       "    <tr>\n",
       "      <th>6</th>\n",
       "      <td>27</td>\n",
       "      <td>6_Safety Issues in Rail Operations</td>\n",
       "    </tr>\n",
       "    <tr>\n",
       "      <th>7</th>\n",
       "      <td>30</td>\n",
       "      <td>7_Aircraft Landing Gear and Maintenance Issues</td>\n",
       "    </tr>\n",
       "    <tr>\n",
       "      <th>8</th>\n",
       "      <td>11</td>\n",
       "      <td>8_Aviation Safety Issues Related to Door Locki...</td>\n",
       "    </tr>\n",
       "    <tr>\n",
       "      <th>9</th>\n",
       "      <td>16</td>\n",
       "      <td>9_Safety and Maintenance Challenges in Maritim...</td>\n",
       "    </tr>\n",
       "  </tbody>\n",
       "</table>\n",
       "</div>"
      ],
      "text/plain": [
       "   Count                                               Name\n",
       "0    167             0_Rail Safety and Operational Failures\n",
       "1    115  1_Maritime Safety and Resource Management Defi...\n",
       "2     50  2_Safety and Compliance in Transport and Marit...\n",
       "3     51  3_Aviation Safety and Regulatory Compliance Is...\n",
       "4     41         4_Helicopter Safety and Operational Issues\n",
       "5     52   5_Aviation Safety and Air Traffic Control Issues\n",
       "6     27                 6_Safety Issues in Rail Operations\n",
       "7     30     7_Aircraft Landing Gear and Maintenance Issues\n",
       "8     11  8_Aviation Safety Issues Related to Door Locki...\n",
       "9     16  9_Safety and Maintenance Challenges in Maritim..."
      ]
     },
     "metadata": {},
     "output_type": "display_data"
    },
    {
     "data": {
      "text/html": [
       "<div>\n",
       "<style scoped>\n",
       "    .dataframe tbody tr th:only-of-type {\n",
       "        vertical-align: middle;\n",
       "    }\n",
       "\n",
       "    .dataframe tbody tr th {\n",
       "        vertical-align: top;\n",
       "    }\n",
       "\n",
       "    .dataframe thead th {\n",
       "        text-align: right;\n",
       "    }\n",
       "</style>\n",
       "<table border=\"1\" class=\"dataframe\">\n",
       "  <thead>\n",
       "    <tr style=\"text-align: right;\">\n",
       "      <th>mode</th>\n",
       "      <th>0</th>\n",
       "      <th>1</th>\n",
       "      <th>2</th>\n",
       "    </tr>\n",
       "    <tr>\n",
       "      <th>topic</th>\n",
       "      <th></th>\n",
       "      <th></th>\n",
       "      <th></th>\n",
       "    </tr>\n",
       "  </thead>\n",
       "  <tbody>\n",
       "    <tr>\n",
       "      <th>0</th>\n",
       "      <td>3.0</td>\n",
       "      <td>157.0</td>\n",
       "      <td>7.0</td>\n",
       "    </tr>\n",
       "    <tr>\n",
       "      <th>1</th>\n",
       "      <td>7.0</td>\n",
       "      <td>0.0</td>\n",
       "      <td>108.0</td>\n",
       "    </tr>\n",
       "    <tr>\n",
       "      <th>2</th>\n",
       "      <td>15.0</td>\n",
       "      <td>2.0</td>\n",
       "      <td>33.0</td>\n",
       "    </tr>\n",
       "    <tr>\n",
       "      <th>3</th>\n",
       "      <td>47.0</td>\n",
       "      <td>0.0</td>\n",
       "      <td>4.0</td>\n",
       "    </tr>\n",
       "    <tr>\n",
       "      <th>4</th>\n",
       "      <td>40.0</td>\n",
       "      <td>1.0</td>\n",
       "      <td>0.0</td>\n",
       "    </tr>\n",
       "    <tr>\n",
       "      <th>5</th>\n",
       "      <td>51.0</td>\n",
       "      <td>0.0</td>\n",
       "      <td>1.0</td>\n",
       "    </tr>\n",
       "    <tr>\n",
       "      <th>6</th>\n",
       "      <td>2.0</td>\n",
       "      <td>25.0</td>\n",
       "      <td>0.0</td>\n",
       "    </tr>\n",
       "    <tr>\n",
       "      <th>7</th>\n",
       "      <td>30.0</td>\n",
       "      <td>0.0</td>\n",
       "      <td>0.0</td>\n",
       "    </tr>\n",
       "    <tr>\n",
       "      <th>8</th>\n",
       "      <td>11.0</td>\n",
       "      <td>0.0</td>\n",
       "      <td>0.0</td>\n",
       "    </tr>\n",
       "    <tr>\n",
       "      <th>9</th>\n",
       "      <td>0.0</td>\n",
       "      <td>0.0</td>\n",
       "      <td>16.0</td>\n",
       "    </tr>\n",
       "  </tbody>\n",
       "</table>\n",
       "</div>"
      ],
      "text/plain": [
       "mode      0      1      2\n",
       "topic                    \n",
       "0       3.0  157.0    7.0\n",
       "1       7.0    0.0  108.0\n",
       "2      15.0    2.0   33.0\n",
       "3      47.0    0.0    4.0\n",
       "4      40.0    1.0    0.0\n",
       "5      51.0    0.0    1.0\n",
       "6       2.0   25.0    0.0\n",
       "7      30.0    0.0    0.0\n",
       "8      11.0    0.0    0.0\n",
       "9       0.0    0.0   16.0"
      ]
     },
     "execution_count": 16,
     "metadata": {},
     "output_type": "execute_result"
    }
   ],
   "source": [
    "umap_model_tweaked = UMAP(n_neighbors=4, n_components=5, min_dist=0.0, metric='cosine', random_state=42)\n",
    "\n",
    "topic_model, openai_clusters_tweaked_df = runBERTopic(\n",
    "    openai_embeddings, 'si', 'si_embedding', openai_base_representation_model, umap_model_tweaked, reduce_outliers=True)\n",
    "\n",
    "display(topic_model.get_topic_info()[['Count', 'Name']])\n",
    "\n",
    "check_mode_cluster_distribution(openai_clusters_tweaked_df)"
   ]
  },
  {
   "cell_type": "markdown",
   "metadata": {},
   "source": [
    "I will try to tune the hyper paramters and see if I can get the right sort of safety themes"
   ]
  },
  {
   "cell_type": "code",
   "execution_count": 116,
   "metadata": {},
   "outputs": [
    {
     "name": "stderr",
     "output_type": "stream",
     "text": [
      "2024-05-03 15:38:06,276 - BERTopic - WARNING: Using a custom list of topic assignments may lead to errors if topic reduction techniques are used afterwards. Make sure that manually assigning topics is the last step in the pipeline.Note that topic embeddings will also be created through weightedc-TF-IDF embeddings instead of centroid embeddings.\n"
     ]
    },
    {
     "data": {
      "text/html": [
       "<div>\n",
       "<style scoped>\n",
       "    .dataframe tbody tr th:only-of-type {\n",
       "        vertical-align: middle;\n",
       "    }\n",
       "\n",
       "    .dataframe tbody tr th {\n",
       "        vertical-align: top;\n",
       "    }\n",
       "\n",
       "    .dataframe thead th {\n",
       "        text-align: right;\n",
       "    }\n",
       "</style>\n",
       "<table border=\"1\" class=\"dataframe\">\n",
       "  <thead>\n",
       "    <tr style=\"text-align: right;\">\n",
       "      <th></th>\n",
       "      <th>Count</th>\n",
       "      <th>Name</th>\n",
       "      <th>Representative_Docs</th>\n",
       "    </tr>\n",
       "  </thead>\n",
       "  <tbody>\n",
       "    <tr>\n",
       "      <th>0</th>\n",
       "      <td>167</td>\n",
       "      <td>0_Rail Safety and Operational Issues in New Ze...</td>\n",
       "      <td>[The training that drivers received for transi...</td>\n",
       "    </tr>\n",
       "    <tr>\n",
       "      <th>1</th>\n",
       "      <td>115</td>\n",
       "      <td>1_Maritime Safety and Resource Management Defi...</td>\n",
       "      <td>[The standard of passage planning on board the...</td>\n",
       "    </tr>\n",
       "    <tr>\n",
       "      <th>2</th>\n",
       "      <td>50</td>\n",
       "      <td>2_Maritime and Aviation Safety Regulations and...</td>\n",
       "      <td>[The absence of a visual indicator in the whee...</td>\n",
       "    </tr>\n",
       "    <tr>\n",
       "      <th>3</th>\n",
       "      <td>51</td>\n",
       "      <td>3_Aviation Safety and Regulatory Compliance Is...</td>\n",
       "      <td>[The operator's system for training its pilots...</td>\n",
       "    </tr>\n",
       "    <tr>\n",
       "      <th>4</th>\n",
       "      <td>41</td>\n",
       "      <td>4_Helicopter Safety and Maintenance Issues</td>\n",
       "      <td>[Due to their unique main rotor design, during...</td>\n",
       "    </tr>\n",
       "    <tr>\n",
       "      <th>5</th>\n",
       "      <td>52</td>\n",
       "      <td>5_Aviation Safety and Operational Procedures a...</td>\n",
       "      <td>[While ATC sequences an IFR aeroplane to land ...</td>\n",
       "    </tr>\n",
       "    <tr>\n",
       "      <th>6</th>\n",
       "      <td>27</td>\n",
       "      <td>6_Safety Issues and Management Deficiencies in...</td>\n",
       "      <td>[The train controller made an assumption about...</td>\n",
       "    </tr>\n",
       "    <tr>\n",
       "      <th>7</th>\n",
       "      <td>30</td>\n",
       "      <td>7_Aircraft Landing Gear and Maintenance Issues</td>\n",
       "      <td>[Had the pilots known that the nose landing ge...</td>\n",
       "    </tr>\n",
       "    <tr>\n",
       "      <th>8</th>\n",
       "      <td>11</td>\n",
       "      <td>8_Aviation Safety and Equipment Malfunction</td>\n",
       "      <td>[The use of \"threat and error management\" (TEM...</td>\n",
       "    </tr>\n",
       "    <tr>\n",
       "      <th>9</th>\n",
       "      <td>16</td>\n",
       "      <td>9_Maintenance and Risk Management in Marine Sa...</td>\n",
       "      <td>[A clear placard should be placed at the contr...</td>\n",
       "    </tr>\n",
       "  </tbody>\n",
       "</table>\n",
       "</div>"
      ],
      "text/plain": [
       "   Count                                               Name  \\\n",
       "0    167  0_Rail Safety and Operational Issues in New Ze...   \n",
       "1    115  1_Maritime Safety and Resource Management Defi...   \n",
       "2     50  2_Maritime and Aviation Safety Regulations and...   \n",
       "3     51  3_Aviation Safety and Regulatory Compliance Is...   \n",
       "4     41         4_Helicopter Safety and Maintenance Issues   \n",
       "5     52  5_Aviation Safety and Operational Procedures a...   \n",
       "6     27  6_Safety Issues and Management Deficiencies in...   \n",
       "7     30     7_Aircraft Landing Gear and Maintenance Issues   \n",
       "8     11        8_Aviation Safety and Equipment Malfunction   \n",
       "9     16  9_Maintenance and Risk Management in Marine Sa...   \n",
       "\n",
       "                                 Representative_Docs  \n",
       "0  [The training that drivers received for transi...  \n",
       "1  [The standard of passage planning on board the...  \n",
       "2  [The absence of a visual indicator in the whee...  \n",
       "3  [The operator's system for training its pilots...  \n",
       "4  [Due to their unique main rotor design, during...  \n",
       "5  [While ATC sequences an IFR aeroplane to land ...  \n",
       "6  [The train controller made an assumption about...  \n",
       "7  [Had the pilots known that the nose landing ge...  \n",
       "8  [The use of \"threat and error management\" (TEM...  \n",
       "9  [A clear placard should be placed at the contr...  "
      ]
     },
     "execution_count": 116,
     "metadata": {},
     "output_type": "execute_result"
    }
   ],
   "source": [
    "topic_model, openai_clusters_tuned_df = runBERTopic(\n",
    "    openai_embeddings,\n",
    "    'si',\n",
    "    'si_embedding',\n",
    "    openai_base_representation_model,\n",
    "    UMAP(n_neighbors=4, n_components=5, min_dist=0.0, metric='cosine', random_state=42),\n",
    "    reduce_outliers=True)\n",
    "\n",
    "topic_model.get_topic_info()[['Count', \"Name\",\"Representative_Docs\"]]"
   ]
  },
  {
   "cell_type": "markdown",
   "metadata": {},
   "source": [
    "## Run cluster on just one mode\n",
    "\n",
    "It would make sense that if the clustering is finding the transport modes then splitting into the modes first might help find the themes within each mode."
   ]
  },
  {
   "cell_type": "code",
   "execution_count": 12,
   "metadata": {},
   "outputs": [],
   "source": [
    "def printout_each_modes_topics(results):\n",
    "    for res in results:\n",
    "        print(\"Cluster names: \")\n",
    "        for i, count in zip(res[0].get_topic_info()['Name'], res[0].get_topic_info()['Count']):\n",
    "            print(f\"{count}, {i}\")"
   ]
  },
  {
   "cell_type": "markdown",
   "metadata": {},
   "source": [
    "### OpenAI"
   ]
  },
  {
   "cell_type": "code",
   "execution_count": 20,
   "metadata": {},
   "outputs": [],
   "source": [
    "openai_modes_dfs = [openai_embeddings[openai_embeddings['mode'] == i] for i in range(3)]"
   ]
  },
  {
   "cell_type": "code",
   "execution_count": 106,
   "metadata": {},
   "outputs": [
    {
     "name": "stderr",
     "output_type": "stream",
     "text": [
      "2024-05-03 12:57:30,122 - BERTopic - WARNING: Using a custom list of topic assignments may lead to errors if topic reduction techniques are used afterwards. Make sure that manually assigning topics is the last step in the pipeline.Note that topic embeddings will also be created through weightedc-TF-IDF embeddings instead of centroid embeddings.\n",
      "2024-05-03 12:57:50,780 - BERTopic - WARNING: Using a custom list of topic assignments may lead to errors if topic reduction techniques are used afterwards. Make sure that manually assigning topics is the last step in the pipeline.Note that topic embeddings will also be created through weightedc-TF-IDF embeddings instead of centroid embeddings.\n",
      "2024-05-03 12:58:04,109 - BERTopic - WARNING: Using a custom list of topic assignments may lead to errors if topic reduction techniques are used afterwards. Make sure that manually assigning topics is the last step in the pipeline.Note that topic embeddings will also be created through weightedc-TF-IDF embeddings instead of centroid embeddings.\n"
     ]
    },
    {
     "name": "stdout",
     "output_type": "stream",
     "text": [
      "Cluster names: \n",
      "46, 0_Aviation Safety and Operational Procedures Issues\n",
      "42, 1_Aircraft Maintenance and Safety Issues\n",
      "37, 2_Challenges and Safety Issues in Robinson Helicopter Operations\n",
      "51, 3_Aviation Safety and Regulatory Oversight in New Zealand\n",
      "30, 4_Aviation Safety and Emergency Response\n",
      "Cluster names: \n",
      "49, 0_KiwiRail Safety and Compliance Issues\n",
      "28, 1_Rail Safety and Inspection Inefficiencies\n",
      "42, 2_Rail Safety and Communication Issues\n",
      "27, 3_Safety and Oversight Concerns in Train Operations\n",
      "21, 4_Road and Rail Safety at Level Crossings\n",
      "18, 5_Risk Management and Safety Issues in Wellington Station Train Operations\n",
      "Cluster names: \n",
      "150, 0_Maritime Safety and Crew Management Deficiencies\n",
      "19, 1_Maritime Safety and Compliance Issues\n"
     ]
    }
   ],
   "source": [
    "results = [runBERTopic(df, 'si', 'si_embedding', openai_base_representation_model, umap_model) for df in openai_modes_dfs]\n",
    "\n",
    "printout_each_modes_topics(results)"
   ]
  },
  {
   "cell_type": "markdown",
   "metadata": {},
   "source": [
    "I will try instead to do with no dimension reduction, or atleast decrease the amount of dimension reduction."
   ]
  },
  {
   "cell_type": "code",
   "execution_count": 111,
   "metadata": {},
   "outputs": [
    {
     "name": "stderr",
     "output_type": "stream",
     "text": [
      "2024-05-03 15:11:17,529 - BERTopic - WARNING: Using a custom list of topic assignments may lead to errors if topic reduction techniques are used afterwards. Make sure that manually assigning topics is the last step in the pipeline.Note that topic embeddings will also be created through weightedc-TF-IDF embeddings instead of centroid embeddings.\n",
      "2024-05-03 15:11:40,945 - BERTopic - WARNING: Using a custom list of topic assignments may lead to errors if topic reduction techniques are used afterwards. Make sure that manually assigning topics is the last step in the pipeline.Note that topic embeddings will also be created through weightedc-TF-IDF embeddings instead of centroid embeddings.\n",
      "2024-05-03 15:12:02,642 - BERTopic - WARNING: Using a custom list of topic assignments may lead to errors if topic reduction techniques are used afterwards. Make sure that manually assigning topics is the last step in the pipeline.Note that topic embeddings will also be created through weightedc-TF-IDF embeddings instead of centroid embeddings.\n"
     ]
    },
    {
     "name": "stdout",
     "output_type": "stream",
     "text": [
      "Cluster names: \n",
      "46, 0_Aviation Safety and Air Traffic Management Issues\n",
      "47, 1_Aircraft Maintenance and Safety Issues\n",
      "41, 2_Safety and Training Issues in Robinson Helicopter Operations\n",
      "53, 3_Aviation Safety and Compliance Issues\n",
      "19, 4_Safety and Regulatory Oversight in Aviation and Parachuting Operations\n",
      "Cluster names: \n",
      "47, 0_Issues in KiwiRail's Safety and Operational Procedures\n",
      "62, 1_Rail Safety and Incident Analysis\n",
      "29, 2_Rail Safety and Signal Management Issues in Wellington Station Approaches\n",
      "20, 3_Safety Issues at Rail Level Crossings\n",
      "27, 4_Safety and Risk Management in Rail Operations\n",
      "Cluster names: \n",
      "149, 0_Maritime Safety and Resource Management Issues\n",
      "20, 1_Maritime Safety Violations and the Sinking of the Easy Rider\n"
     ]
    }
   ],
   "source": [
    "from bertopic.dimensionality import BaseDimensionalityReduction\n",
    "\n",
    "results = [runBERTopic(df,\n",
    "                       'si',\n",
    "                       'si_embedding',\n",
    "                       openai_base_representation_model,\n",
    "                       BaseDimensionalityReduction()\n",
    "                       ) for df in openai_modes_dfs]\n",
    "\n",
    "printout_each_modes_topics(results)"
   ]
  },
  {
   "cell_type": "markdown",
   "metadata": {},
   "source": [
    "This reuslts in just one cluster for each as the curse of dimensionality is prudent here. I will instead try to tune the hyper parameters of OPenAI"
   ]
  },
  {
   "cell_type": "code",
   "execution_count": 26,
   "metadata": {},
   "outputs": [
    {
     "name": "stderr",
     "output_type": "stream",
     "text": [
      "2024-05-06 12:11:00,607 - BERTopic - WARNING: Using a custom list of topic assignments may lead to errors if topic reduction techniques are used afterwards. Make sure that manually assigning topics is the last step in the pipeline.Note that topic embeddings will also be created through weightedc-TF-IDF embeddings instead of centroid embeddings.\n",
      "2024-05-06 12:11:01,322 - BERTopic - WARNING: Using a custom list of topic assignments may lead to errors if topic reduction techniques are used afterwards. Make sure that manually assigning topics is the last step in the pipeline.Note that topic embeddings will also be created through weightedc-TF-IDF embeddings instead of centroid embeddings.\n",
      "2024-05-06 12:11:02,018 - BERTopic - WARNING: Using a custom list of topic assignments may lead to errors if topic reduction techniques are used afterwards. Make sure that manually assigning topics is the last step in the pipeline.Note that topic embeddings will also be created through weightedc-TF-IDF embeddings instead of centroid embeddings.\n"
     ]
    },
    {
     "name": "stdout",
     "output_type": "stream",
     "text": [
      "Cluster names: \n",
      "52, 0_the_to_of_and\n",
      "47, 1_the_to_of_and\n",
      "41, 2_the_of_to_and\n",
      "33, 3_the_gear_landing_to\n",
      "17, 4_the_to_for_water\n",
      "16, 5_zealand_new_of_the\n",
      "Cluster names: \n",
      "44, 0_the_to_work_of\n",
      "40, 1_the_train_to_and\n",
      "25, 2_train_of_the_and\n",
      "20, 3_road_level_crossings_the\n",
      "20, 4_the_brake_braking_conditions\n",
      "15, 5_the_in_of_wellington\n",
      "21, 6_the_rail_of_to\n",
      "Cluster names: \n",
      "120, 0_the_of_and_to\n",
      "27, 1_the_to_of_easy\n",
      "11, 2_co2_the_could_be\n",
      "11, 3_the_fish_crew_of\n"
     ]
    }
   ],
   "source": [
    "from bertopic.dimensionality import BaseDimensionalityReduction\n",
    "\n",
    "results = [runBERTopic(df,\n",
    "                       'si',\n",
    "                       'si_embedding',\n",
    "                       None,\n",
    "                       UMAP(n_neighbors=6, n_components=5, min_dist=0.0, metric='cosine', random_state=42)\n",
    "                       ) for df in openai_modes_dfs]\n",
    "\n",
    "printout_each_modes_topics(results)"
   ]
  },
  {
   "cell_type": "code",
   "execution_count": 1,
   "metadata": {},
   "outputs": [
    {
     "ename": "NameError",
     "evalue": "name 'merged_moode_models' is not defined",
     "output_type": "error",
     "traceback": [
      "\u001b[0;31m---------------------------------------------------------------------------\u001b[0m",
      "\u001b[0;31mNameError\u001b[0m                                 Traceback (most recent call last)",
      "Cell \u001b[0;32mIn[1], line 1\u001b[0m\n\u001b[0;32m----> 1\u001b[0m \u001b[43mmerged_moode_models\u001b[49m\u001b[38;5;241m.\u001b[39mget_topic_info()[[\u001b[38;5;124m'\u001b[39m\u001b[38;5;124mCount\u001b[39m\u001b[38;5;124m'\u001b[39m, \u001b[38;5;124m\"\u001b[39m\u001b[38;5;124mName\u001b[39m\u001b[38;5;124m\"\u001b[39m]]\n",
      "\u001b[0;31mNameError\u001b[0m: name 'merged_moode_models' is not defined"
     ]
    }
   ],
   "source": [
    "merged_moode_models.get_topic_info()[['Count', \"Name\"]]"
   ]
  },
  {
   "cell_type": "markdown",
   "metadata": {},
   "source": [
    "## Hypter parameter tuning\n",
    "\n",
    "I have had a look at both single run and individual models.\n",
    "\n",
    "I think the next step is to do some hypter paramter tuning.\n",
    "\n",
    " As there are not noticable differences between voyageAI and openAI I will go with openAI embedding model."
   ]
  },
  {
   "cell_type": "code",
   "execution_count": 9,
   "metadata": {},
   "outputs": [],
   "source": [
    "def perform_umap_parameter_search(modes_dfs, n_range = range(4,5), n_components = 5):\n",
    "    overall_results = []\n",
    "    for n in n_range:\n",
    "        print(\" Looking at n_neighbors = \", n)\n",
    "        results = [runBERTopic(df,\n",
    "                        'si',\n",
    "                        'si_embedding',\n",
    "                        None,\n",
    "                        UMAP(n_neighbors=n, n_components=n_components, min_dist=0.0, metric='cosine', random_state=42)\n",
    "                        ) for df in modes_dfs]\n",
    "        \n",
    "        group_clusters = runBERTopic(\n",
    "            pd.concat(modes_dfs),\n",
    "            'si',\n",
    "            'si_embedding',\n",
    "            None,\n",
    "            UMAP(n_neighbors=n, n_components=n_components, min_dist=0.0, metric='cosine', random_state=42))\n",
    "        \n",
    "        overall_results.append({\n",
    "            'n_neighbors': n,\n",
    "            'individual_models': [result[0] for result in results],\n",
    "            'individual_df': [result[1] for result in results],\n",
    "            'group_model': group_clusters[0],\n",
    "            'group_df': group_clusters[1]\n",
    "\n",
    "        })\n",
    "    \n",
    "    return overall_results"
   ]
  },
  {
   "cell_type": "code",
   "execution_count": null,
   "metadata": {},
   "outputs": [],
   "source": [
    "hyper_parameter_search_results = []\n",
    "\n",
    "for n_components in [2,3,4,5,6,7,8]:\n",
    "    print(\"Looking at n_components = \", n_components)\n",
    "    results =  perform_umap_parameter_search(openai_modes_dfs, range(3,10), n_components)\n",
    "    for res in results:\n",
    "        hyper_parameter_search_results.append({'n_components': n_components} | res)"
   ]
  },
  {
   "cell_type": "code",
   "execution_count": null,
   "metadata": {},
   "outputs": [],
   "source": [
    "hyper_parameter_search_df = pd.DataFrame(hyper_parameter_search_results)"
   ]
  },
  {
   "cell_type": "code",
   "execution_count": null,
   "metadata": {},
   "outputs": [
    {
     "data": {
      "text/html": [
       "<div>\n",
       "<style scoped>\n",
       "    .dataframe tbody tr th:only-of-type {\n",
       "        vertical-align: middle;\n",
       "    }\n",
       "\n",
       "    .dataframe tbody tr th {\n",
       "        vertical-align: top;\n",
       "    }\n",
       "\n",
       "    .dataframe thead th {\n",
       "        text-align: right;\n",
       "    }\n",
       "</style>\n",
       "<table border=\"1\" class=\"dataframe\">\n",
       "  <thead>\n",
       "    <tr style=\"text-align: right;\">\n",
       "      <th></th>\n",
       "      <th>n_components</th>\n",
       "      <th>n_neighbors</th>\n",
       "      <th>individual_topic_counts</th>\n",
       "      <th>group_topic_membership_counts</th>\n",
       "    </tr>\n",
       "  </thead>\n",
       "  <tbody>\n",
       "    <tr>\n",
       "      <th>0</th>\n",
       "      <td>2</td>\n",
       "      <td>3</td>\n",
       "      <td>[1, 1, 0]</td>\n",
       "      <td>[1, 1, 1, 1, 1, 1, 1, 1, 1, 1, 1, 1, 1, 1, 1]</td>\n",
       "    </tr>\n",
       "    <tr>\n",
       "      <th>1</th>\n",
       "      <td>2</td>\n",
       "      <td>4</td>\n",
       "      <td>[1, 0, 0]</td>\n",
       "      <td>[0, 0, 0, 1, 1, 1, 1]</td>\n",
       "    </tr>\n",
       "    <tr>\n",
       "      <th>2</th>\n",
       "      <td>2</td>\n",
       "      <td>5</td>\n",
       "      <td>[1, 1, 0]</td>\n",
       "      <td>[0, 0]</td>\n",
       "    </tr>\n",
       "    <tr>\n",
       "      <th>3</th>\n",
       "      <td>2</td>\n",
       "      <td>6</td>\n",
       "      <td>[1, 1, 0]</td>\n",
       "      <td>[0, 1, 1, 1, 1, 1, 1, 1, 1]</td>\n",
       "    </tr>\n",
       "    <tr>\n",
       "      <th>4</th>\n",
       "      <td>2</td>\n",
       "      <td>7</td>\n",
       "      <td>[0, 0, 1]</td>\n",
       "      <td>[0, 0, 0]</td>\n",
       "    </tr>\n",
       "    <tr>\n",
       "      <th>5</th>\n",
       "      <td>2</td>\n",
       "      <td>8</td>\n",
       "      <td>[1, 1, 0]</td>\n",
       "      <td>[0, 0, 0, 1]</td>\n",
       "    </tr>\n",
       "    <tr>\n",
       "      <th>6</th>\n",
       "      <td>2</td>\n",
       "      <td>9</td>\n",
       "      <td>[1, 1, 0]</td>\n",
       "      <td>[0, 0, 1, 1, 1, 1, 1, 1, 1]</td>\n",
       "    </tr>\n",
       "    <tr>\n",
       "      <th>7</th>\n",
       "      <td>3</td>\n",
       "      <td>3</td>\n",
       "      <td>[1, 1, 1]</td>\n",
       "      <td>[0, 1, 1, 1, 1, 1, 1, 1, 1, 1, 1, 1, 1]</td>\n",
       "    </tr>\n",
       "    <tr>\n",
       "      <th>8</th>\n",
       "      <td>3</td>\n",
       "      <td>4</td>\n",
       "      <td>[1, 0, 0]</td>\n",
       "      <td>[0, 0, 1, 1, 1, 1, 1, 1, 1, 1, 1, 1]</td>\n",
       "    </tr>\n",
       "    <tr>\n",
       "      <th>9</th>\n",
       "      <td>3</td>\n",
       "      <td>5</td>\n",
       "      <td>[0, 1, 0]</td>\n",
       "      <td>[0, 0, 1, 1, 1, 1, 1, 1]</td>\n",
       "    </tr>\n",
       "    <tr>\n",
       "      <th>10</th>\n",
       "      <td>3</td>\n",
       "      <td>6</td>\n",
       "      <td>[1, 1, 0]</td>\n",
       "      <td>[0, 0, 1, 1, 1, 1, 1, 1, 1, 1, 1]</td>\n",
       "    </tr>\n",
       "    <tr>\n",
       "      <th>11</th>\n",
       "      <td>3</td>\n",
       "      <td>7</td>\n",
       "      <td>[0, 1, 0]</td>\n",
       "      <td>[0, 1, 1, 1, 1, 1, 1]</td>\n",
       "    </tr>\n",
       "    <tr>\n",
       "      <th>12</th>\n",
       "      <td>3</td>\n",
       "      <td>8</td>\n",
       "      <td>[1, 1, 0]</td>\n",
       "      <td>[0, 0, 0, 1]</td>\n",
       "    </tr>\n",
       "    <tr>\n",
       "      <th>13</th>\n",
       "      <td>3</td>\n",
       "      <td>9</td>\n",
       "      <td>[1, 1, 0]</td>\n",
       "      <td>[0, 0, 0, 1]</td>\n",
       "    </tr>\n",
       "    <tr>\n",
       "      <th>14</th>\n",
       "      <td>4</td>\n",
       "      <td>3</td>\n",
       "      <td>[1, 1, 1]</td>\n",
       "      <td>[0, 1, 1, 1, 1, 1, 1, 1, 1, 1, 1, 1, 1, 1]</td>\n",
       "    </tr>\n",
       "    <tr>\n",
       "      <th>15</th>\n",
       "      <td>4</td>\n",
       "      <td>4</td>\n",
       "      <td>[1, 1, 0]</td>\n",
       "      <td>[0, 0, 1, 1, 1, 1, 1, 1, 1, 1, 1, 1]</td>\n",
       "    </tr>\n",
       "    <tr>\n",
       "      <th>16</th>\n",
       "      <td>4</td>\n",
       "      <td>5</td>\n",
       "      <td>[0, 1, 1]</td>\n",
       "      <td>[0, 0, 1, 1, 1, 1, 1, 1]</td>\n",
       "    </tr>\n",
       "    <tr>\n",
       "      <th>17</th>\n",
       "      <td>4</td>\n",
       "      <td>6</td>\n",
       "      <td>[1, 1, 0]</td>\n",
       "      <td>[0, 1, 1, 1, 1, 1, 1, 1, 1, 1, 1, 1]</td>\n",
       "    </tr>\n",
       "    <tr>\n",
       "      <th>18</th>\n",
       "      <td>4</td>\n",
       "      <td>7</td>\n",
       "      <td>[0, 0, 0]</td>\n",
       "      <td>[0, 0, 0, 1, 1]</td>\n",
       "    </tr>\n",
       "    <tr>\n",
       "      <th>19</th>\n",
       "      <td>4</td>\n",
       "      <td>8</td>\n",
       "      <td>[1, 1, 0]</td>\n",
       "      <td>[0, 0, 0]</td>\n",
       "    </tr>\n",
       "    <tr>\n",
       "      <th>20</th>\n",
       "      <td>4</td>\n",
       "      <td>9</td>\n",
       "      <td>[0, 1, 0]</td>\n",
       "      <td>[0, 0, 0, 1]</td>\n",
       "    </tr>\n",
       "    <tr>\n",
       "      <th>21</th>\n",
       "      <td>5</td>\n",
       "      <td>3</td>\n",
       "      <td>[1, 1, 1]</td>\n",
       "      <td>[0, 1, 1, 1, 1, 1, 1, 1, 1, 1, 1, 1]</td>\n",
       "    </tr>\n",
       "    <tr>\n",
       "      <th>22</th>\n",
       "      <td>5</td>\n",
       "      <td>4</td>\n",
       "      <td>[1, 1, 1]</td>\n",
       "      <td>[0, 0, 0, 1, 1, 1, 1]</td>\n",
       "    </tr>\n",
       "    <tr>\n",
       "      <th>23</th>\n",
       "      <td>5</td>\n",
       "      <td>5</td>\n",
       "      <td>[0, 1, 1]</td>\n",
       "      <td>[1, 1, 1, 1, 1, 1, 1, 1, 1, 1, 1, 1, 1, 1, 1, 1]</td>\n",
       "    </tr>\n",
       "    <tr>\n",
       "      <th>24</th>\n",
       "      <td>5</td>\n",
       "      <td>6</td>\n",
       "      <td>[1, 1, 1]</td>\n",
       "      <td>[0, 0, 1, 1, 1, 1, 1, 1, 1, 1, 1]</td>\n",
       "    </tr>\n",
       "    <tr>\n",
       "      <th>25</th>\n",
       "      <td>5</td>\n",
       "      <td>7</td>\n",
       "      <td>[0, 1, 0]</td>\n",
       "      <td>[0, 0, 0, 1]</td>\n",
       "    </tr>\n",
       "    <tr>\n",
       "      <th>26</th>\n",
       "      <td>5</td>\n",
       "      <td>8</td>\n",
       "      <td>[1, 1, 0]</td>\n",
       "      <td>[0, 0, 0]</td>\n",
       "    </tr>\n",
       "    <tr>\n",
       "      <th>27</th>\n",
       "      <td>5</td>\n",
       "      <td>9</td>\n",
       "      <td>[1, 1, 0]</td>\n",
       "      <td>[0, 0, 0, 1]</td>\n",
       "    </tr>\n",
       "    <tr>\n",
       "      <th>28</th>\n",
       "      <td>6</td>\n",
       "      <td>3</td>\n",
       "      <td>[1, 1, 0]</td>\n",
       "      <td>[0, 1, 1, 1, 1, 1, 1, 1, 1, 1, 1, 1, 1, 1]</td>\n",
       "    </tr>\n",
       "    <tr>\n",
       "      <th>29</th>\n",
       "      <td>6</td>\n",
       "      <td>4</td>\n",
       "      <td>[0, 1, 1]</td>\n",
       "      <td>[0, 1, 1, 1, 1, 1, 1, 1, 1, 1, 1, 1]</td>\n",
       "    </tr>\n",
       "    <tr>\n",
       "      <th>30</th>\n",
       "      <td>6</td>\n",
       "      <td>5</td>\n",
       "      <td>[1, 1, 1]</td>\n",
       "      <td>[0, 0, 1, 1, 1, 1, 1, 1]</td>\n",
       "    </tr>\n",
       "    <tr>\n",
       "      <th>31</th>\n",
       "      <td>6</td>\n",
       "      <td>6</td>\n",
       "      <td>[0, 1, 0]</td>\n",
       "      <td>[0, 0, 1, 1, 1, 1, 1, 1, 1, 1, 1]</td>\n",
       "    </tr>\n",
       "    <tr>\n",
       "      <th>32</th>\n",
       "      <td>6</td>\n",
       "      <td>7</td>\n",
       "      <td>[0, 0, 1]</td>\n",
       "      <td>[0, 0, 0, 1]</td>\n",
       "    </tr>\n",
       "    <tr>\n",
       "      <th>33</th>\n",
       "      <td>6</td>\n",
       "      <td>8</td>\n",
       "      <td>[0, 1, 0]</td>\n",
       "      <td>[0, 0, 0, 1]</td>\n",
       "    </tr>\n",
       "    <tr>\n",
       "      <th>34</th>\n",
       "      <td>6</td>\n",
       "      <td>9</td>\n",
       "      <td>[0, 1, 0]</td>\n",
       "      <td>[0, 0, 0]</td>\n",
       "    </tr>\n",
       "    <tr>\n",
       "      <th>35</th>\n",
       "      <td>7</td>\n",
       "      <td>3</td>\n",
       "      <td>[1, 1, 1]</td>\n",
       "      <td>[0, 1, 1, 1, 1, 1, 1, 1, 1, 1, 1, 1, 1, 1]</td>\n",
       "    </tr>\n",
       "    <tr>\n",
       "      <th>36</th>\n",
       "      <td>7</td>\n",
       "      <td>4</td>\n",
       "      <td>[1, 1, 0]</td>\n",
       "      <td>[0, 1, 1, 1, 1, 1, 1, 1, 1, 1, 1, 1]</td>\n",
       "    </tr>\n",
       "    <tr>\n",
       "      <th>37</th>\n",
       "      <td>7</td>\n",
       "      <td>5</td>\n",
       "      <td>[0, 1, 1]</td>\n",
       "      <td>[0, 0, 1, 1, 1, 1, 1, 1]</td>\n",
       "    </tr>\n",
       "    <tr>\n",
       "      <th>38</th>\n",
       "      <td>7</td>\n",
       "      <td>6</td>\n",
       "      <td>[1, 1, 1]</td>\n",
       "      <td>[0, 0, 1, 1, 1, 1, 1, 1, 1]</td>\n",
       "    </tr>\n",
       "    <tr>\n",
       "      <th>39</th>\n",
       "      <td>7</td>\n",
       "      <td>7</td>\n",
       "      <td>[1, 1, 1]</td>\n",
       "      <td>[0, 0, 0, 1, 1, 1]</td>\n",
       "    </tr>\n",
       "    <tr>\n",
       "      <th>40</th>\n",
       "      <td>7</td>\n",
       "      <td>8</td>\n",
       "      <td>[0, 1, 0]</td>\n",
       "      <td>[0, 0, 0, 1]</td>\n",
       "    </tr>\n",
       "    <tr>\n",
       "      <th>41</th>\n",
       "      <td>7</td>\n",
       "      <td>9</td>\n",
       "      <td>[1, 1, 0]</td>\n",
       "      <td>[0, 0, 0]</td>\n",
       "    </tr>\n",
       "    <tr>\n",
       "      <th>42</th>\n",
       "      <td>8</td>\n",
       "      <td>3</td>\n",
       "      <td>[1, 1, 0]</td>\n",
       "      <td>[1, 1, 1, 1, 1, 1, 1, 1, 1, 1, 1, 1, 1, 1, 1]</td>\n",
       "    </tr>\n",
       "    <tr>\n",
       "      <th>43</th>\n",
       "      <td>8</td>\n",
       "      <td>4</td>\n",
       "      <td>[1, 0, 0]</td>\n",
       "      <td>[0, 0, 0, 1, 1, 1, 1, 1]</td>\n",
       "    </tr>\n",
       "    <tr>\n",
       "      <th>44</th>\n",
       "      <td>8</td>\n",
       "      <td>5</td>\n",
       "      <td>[0, 1, 0]</td>\n",
       "      <td>[0, 0, 1, 1, 1, 1, 1, 1]</td>\n",
       "    </tr>\n",
       "    <tr>\n",
       "      <th>45</th>\n",
       "      <td>8</td>\n",
       "      <td>6</td>\n",
       "      <td>[1, 1, 1]</td>\n",
       "      <td>[0, 0, 0, 1]</td>\n",
       "    </tr>\n",
       "    <tr>\n",
       "      <th>46</th>\n",
       "      <td>8</td>\n",
       "      <td>7</td>\n",
       "      <td>[1, 0, 0]</td>\n",
       "      <td>[0, 0, 0]</td>\n",
       "    </tr>\n",
       "    <tr>\n",
       "      <th>47</th>\n",
       "      <td>8</td>\n",
       "      <td>8</td>\n",
       "      <td>[1, 1, 0]</td>\n",
       "      <td>[0, 0]</td>\n",
       "    </tr>\n",
       "    <tr>\n",
       "      <th>48</th>\n",
       "      <td>8</td>\n",
       "      <td>9</td>\n",
       "      <td>[0, 1, 0]</td>\n",
       "      <td>[0, 0, 0]</td>\n",
       "    </tr>\n",
       "  </tbody>\n",
       "</table>\n",
       "</div>"
      ],
      "text/plain": [
       "    n_components  n_neighbors individual_topic_counts  \\\n",
       "0              2            3               [1, 1, 0]   \n",
       "1              2            4               [1, 0, 0]   \n",
       "2              2            5               [1, 1, 0]   \n",
       "3              2            6               [1, 1, 0]   \n",
       "4              2            7               [0, 0, 1]   \n",
       "5              2            8               [1, 1, 0]   \n",
       "6              2            9               [1, 1, 0]   \n",
       "7              3            3               [1, 1, 1]   \n",
       "8              3            4               [1, 0, 0]   \n",
       "9              3            5               [0, 1, 0]   \n",
       "10             3            6               [1, 1, 0]   \n",
       "11             3            7               [0, 1, 0]   \n",
       "12             3            8               [1, 1, 0]   \n",
       "13             3            9               [1, 1, 0]   \n",
       "14             4            3               [1, 1, 1]   \n",
       "15             4            4               [1, 1, 0]   \n",
       "16             4            5               [0, 1, 1]   \n",
       "17             4            6               [1, 1, 0]   \n",
       "18             4            7               [0, 0, 0]   \n",
       "19             4            8               [1, 1, 0]   \n",
       "20             4            9               [0, 1, 0]   \n",
       "21             5            3               [1, 1, 1]   \n",
       "22             5            4               [1, 1, 1]   \n",
       "23             5            5               [0, 1, 1]   \n",
       "24             5            6               [1, 1, 1]   \n",
       "25             5            7               [0, 1, 0]   \n",
       "26             5            8               [1, 1, 0]   \n",
       "27             5            9               [1, 1, 0]   \n",
       "28             6            3               [1, 1, 0]   \n",
       "29             6            4               [0, 1, 1]   \n",
       "30             6            5               [1, 1, 1]   \n",
       "31             6            6               [0, 1, 0]   \n",
       "32             6            7               [0, 0, 1]   \n",
       "33             6            8               [0, 1, 0]   \n",
       "34             6            9               [0, 1, 0]   \n",
       "35             7            3               [1, 1, 1]   \n",
       "36             7            4               [1, 1, 0]   \n",
       "37             7            5               [0, 1, 1]   \n",
       "38             7            6               [1, 1, 1]   \n",
       "39             7            7               [1, 1, 1]   \n",
       "40             7            8               [0, 1, 0]   \n",
       "41             7            9               [1, 1, 0]   \n",
       "42             8            3               [1, 1, 0]   \n",
       "43             8            4               [1, 0, 0]   \n",
       "44             8            5               [0, 1, 0]   \n",
       "45             8            6               [1, 1, 1]   \n",
       "46             8            7               [1, 0, 0]   \n",
       "47             8            8               [1, 1, 0]   \n",
       "48             8            9               [0, 1, 0]   \n",
       "\n",
       "                       group_topic_membership_counts  \n",
       "0      [1, 1, 1, 1, 1, 1, 1, 1, 1, 1, 1, 1, 1, 1, 1]  \n",
       "1                              [0, 0, 0, 1, 1, 1, 1]  \n",
       "2                                             [0, 0]  \n",
       "3                        [0, 1, 1, 1, 1, 1, 1, 1, 1]  \n",
       "4                                          [0, 0, 0]  \n",
       "5                                       [0, 0, 0, 1]  \n",
       "6                        [0, 0, 1, 1, 1, 1, 1, 1, 1]  \n",
       "7            [0, 1, 1, 1, 1, 1, 1, 1, 1, 1, 1, 1, 1]  \n",
       "8               [0, 0, 1, 1, 1, 1, 1, 1, 1, 1, 1, 1]  \n",
       "9                           [0, 0, 1, 1, 1, 1, 1, 1]  \n",
       "10                 [0, 0, 1, 1, 1, 1, 1, 1, 1, 1, 1]  \n",
       "11                             [0, 1, 1, 1, 1, 1, 1]  \n",
       "12                                      [0, 0, 0, 1]  \n",
       "13                                      [0, 0, 0, 1]  \n",
       "14        [0, 1, 1, 1, 1, 1, 1, 1, 1, 1, 1, 1, 1, 1]  \n",
       "15              [0, 0, 1, 1, 1, 1, 1, 1, 1, 1, 1, 1]  \n",
       "16                          [0, 0, 1, 1, 1, 1, 1, 1]  \n",
       "17              [0, 1, 1, 1, 1, 1, 1, 1, 1, 1, 1, 1]  \n",
       "18                                   [0, 0, 0, 1, 1]  \n",
       "19                                         [0, 0, 0]  \n",
       "20                                      [0, 0, 0, 1]  \n",
       "21              [0, 1, 1, 1, 1, 1, 1, 1, 1, 1, 1, 1]  \n",
       "22                             [0, 0, 0, 1, 1, 1, 1]  \n",
       "23  [1, 1, 1, 1, 1, 1, 1, 1, 1, 1, 1, 1, 1, 1, 1, 1]  \n",
       "24                 [0, 0, 1, 1, 1, 1, 1, 1, 1, 1, 1]  \n",
       "25                                      [0, 0, 0, 1]  \n",
       "26                                         [0, 0, 0]  \n",
       "27                                      [0, 0, 0, 1]  \n",
       "28        [0, 1, 1, 1, 1, 1, 1, 1, 1, 1, 1, 1, 1, 1]  \n",
       "29              [0, 1, 1, 1, 1, 1, 1, 1, 1, 1, 1, 1]  \n",
       "30                          [0, 0, 1, 1, 1, 1, 1, 1]  \n",
       "31                 [0, 0, 1, 1, 1, 1, 1, 1, 1, 1, 1]  \n",
       "32                                      [0, 0, 0, 1]  \n",
       "33                                      [0, 0, 0, 1]  \n",
       "34                                         [0, 0, 0]  \n",
       "35        [0, 1, 1, 1, 1, 1, 1, 1, 1, 1, 1, 1, 1, 1]  \n",
       "36              [0, 1, 1, 1, 1, 1, 1, 1, 1, 1, 1, 1]  \n",
       "37                          [0, 0, 1, 1, 1, 1, 1, 1]  \n",
       "38                       [0, 0, 1, 1, 1, 1, 1, 1, 1]  \n",
       "39                                [0, 0, 0, 1, 1, 1]  \n",
       "40                                      [0, 0, 0, 1]  \n",
       "41                                         [0, 0, 0]  \n",
       "42     [1, 1, 1, 1, 1, 1, 1, 1, 1, 1, 1, 1, 1, 1, 1]  \n",
       "43                          [0, 0, 0, 1, 1, 1, 1, 1]  \n",
       "44                          [0, 0, 1, 1, 1, 1, 1, 1]  \n",
       "45                                      [0, 0, 0, 1]  \n",
       "46                                         [0, 0, 0]  \n",
       "47                                            [0, 0]  \n",
       "48                                         [0, 0, 0]  "
      ]
     },
     "metadata": {},
     "output_type": "display_data"
    }
   ],
   "source": [
    "hyper_parameter_search_df['individual_topic_counts'] = hyper_parameter_search_df['individual_models'].apply(lambda list_of_models: [(len(x.get_topic_info()['Name']) > 3) * 1 for x in list_of_models])\n",
    "\n",
    "hyper_parameter_search_df['group_topic_membership_counts'] = hyper_parameter_search_df.apply(\n",
    "    lambda x: \n",
    "    [(c < 100) * 1 for c in x['group_model'].get_topic_info()['Count'].to_list()], axis=1)\n",
    "\n",
    "hyper_parameter_search_df[['n_components', 'n_neighbors', 'individual_topic_counts', 'group_topic_membership_counts']]\n",
    "\n"
   ]
  },
  {
   "cell_type": "markdown",
   "metadata": {},
   "source": [
    "We can see that there are quite a few different ones that might seem reasonable.\n",
    "\n",
    "I will have to choose one for the demo purposes."
   ]
  },
  {
   "cell_type": "code",
   "execution_count": null,
   "metadata": {},
   "outputs": [
    {
     "data": {
      "text/html": [
       "<div>\n",
       "<style scoped>\n",
       "    .dataframe tbody tr th:only-of-type {\n",
       "        vertical-align: middle;\n",
       "    }\n",
       "\n",
       "    .dataframe tbody tr th {\n",
       "        vertical-align: top;\n",
       "    }\n",
       "\n",
       "    .dataframe thead th {\n",
       "        text-align: right;\n",
       "    }\n",
       "</style>\n",
       "<table border=\"1\" class=\"dataframe\">\n",
       "  <thead>\n",
       "    <tr style=\"text-align: right;\">\n",
       "      <th></th>\n",
       "      <th>n_components</th>\n",
       "      <th>n_neighbors</th>\n",
       "      <th>individual_topic_counts</th>\n",
       "      <th>group_topic_membership_counts</th>\n",
       "    </tr>\n",
       "  </thead>\n",
       "  <tbody>\n",
       "    <tr>\n",
       "      <th>0</th>\n",
       "      <td>2</td>\n",
       "      <td>3</td>\n",
       "      <td>[1, 1, 0]</td>\n",
       "      <td>[1, 1, 1, 1, 1, 1, 1, 1, 1, 1, 1, 1, 1, 1, 1]</td>\n",
       "    </tr>\n",
       "    <tr>\n",
       "      <th>7</th>\n",
       "      <td>3</td>\n",
       "      <td>3</td>\n",
       "      <td>[1, 1, 1]</td>\n",
       "      <td>[0, 1, 1, 1, 1, 1, 1, 1, 1, 1, 1, 1, 1]</td>\n",
       "    </tr>\n",
       "    <tr>\n",
       "      <th>14</th>\n",
       "      <td>4</td>\n",
       "      <td>3</td>\n",
       "      <td>[1, 1, 1]</td>\n",
       "      <td>[0, 1, 1, 1, 1, 1, 1, 1, 1, 1, 1, 1, 1, 1]</td>\n",
       "    </tr>\n",
       "    <tr>\n",
       "      <th>17</th>\n",
       "      <td>4</td>\n",
       "      <td>6</td>\n",
       "      <td>[1, 1, 0]</td>\n",
       "      <td>[0, 1, 1, 1, 1, 1, 1, 1, 1, 1, 1, 1]</td>\n",
       "    </tr>\n",
       "    <tr>\n",
       "      <th>21</th>\n",
       "      <td>5</td>\n",
       "      <td>3</td>\n",
       "      <td>[1, 1, 1]</td>\n",
       "      <td>[0, 1, 1, 1, 1, 1, 1, 1, 1, 1, 1, 1]</td>\n",
       "    </tr>\n",
       "    <tr>\n",
       "      <th>23</th>\n",
       "      <td>5</td>\n",
       "      <td>5</td>\n",
       "      <td>[0, 1, 1]</td>\n",
       "      <td>[1, 1, 1, 1, 1, 1, 1, 1, 1, 1, 1, 1, 1, 1, 1, 1]</td>\n",
       "    </tr>\n",
       "    <tr>\n",
       "      <th>28</th>\n",
       "      <td>6</td>\n",
       "      <td>3</td>\n",
       "      <td>[1, 1, 0]</td>\n",
       "      <td>[0, 1, 1, 1, 1, 1, 1, 1, 1, 1, 1, 1, 1, 1]</td>\n",
       "    </tr>\n",
       "    <tr>\n",
       "      <th>29</th>\n",
       "      <td>6</td>\n",
       "      <td>4</td>\n",
       "      <td>[0, 1, 1]</td>\n",
       "      <td>[0, 1, 1, 1, 1, 1, 1, 1, 1, 1, 1, 1]</td>\n",
       "    </tr>\n",
       "    <tr>\n",
       "      <th>35</th>\n",
       "      <td>7</td>\n",
       "      <td>3</td>\n",
       "      <td>[1, 1, 1]</td>\n",
       "      <td>[0, 1, 1, 1, 1, 1, 1, 1, 1, 1, 1, 1, 1, 1]</td>\n",
       "    </tr>\n",
       "    <tr>\n",
       "      <th>36</th>\n",
       "      <td>7</td>\n",
       "      <td>4</td>\n",
       "      <td>[1, 1, 0]</td>\n",
       "      <td>[0, 1, 1, 1, 1, 1, 1, 1, 1, 1, 1, 1]</td>\n",
       "    </tr>\n",
       "    <tr>\n",
       "      <th>42</th>\n",
       "      <td>8</td>\n",
       "      <td>3</td>\n",
       "      <td>[1, 1, 0]</td>\n",
       "      <td>[1, 1, 1, 1, 1, 1, 1, 1, 1, 1, 1, 1, 1, 1, 1]</td>\n",
       "    </tr>\n",
       "  </tbody>\n",
       "</table>\n",
       "</div>"
      ],
      "text/plain": [
       "    n_components  n_neighbors individual_topic_counts  \\\n",
       "0              2            3               [1, 1, 0]   \n",
       "7              3            3               [1, 1, 1]   \n",
       "14             4            3               [1, 1, 1]   \n",
       "17             4            6               [1, 1, 0]   \n",
       "21             5            3               [1, 1, 1]   \n",
       "23             5            5               [0, 1, 1]   \n",
       "28             6            3               [1, 1, 0]   \n",
       "29             6            4               [0, 1, 1]   \n",
       "35             7            3               [1, 1, 1]   \n",
       "36             7            4               [1, 1, 0]   \n",
       "42             8            3               [1, 1, 0]   \n",
       "\n",
       "                       group_topic_membership_counts  \n",
       "0      [1, 1, 1, 1, 1, 1, 1, 1, 1, 1, 1, 1, 1, 1, 1]  \n",
       "7            [0, 1, 1, 1, 1, 1, 1, 1, 1, 1, 1, 1, 1]  \n",
       "14        [0, 1, 1, 1, 1, 1, 1, 1, 1, 1, 1, 1, 1, 1]  \n",
       "17              [0, 1, 1, 1, 1, 1, 1, 1, 1, 1, 1, 1]  \n",
       "21              [0, 1, 1, 1, 1, 1, 1, 1, 1, 1, 1, 1]  \n",
       "23  [1, 1, 1, 1, 1, 1, 1, 1, 1, 1, 1, 1, 1, 1, 1, 1]  \n",
       "28        [0, 1, 1, 1, 1, 1, 1, 1, 1, 1, 1, 1, 1, 1]  \n",
       "29              [0, 1, 1, 1, 1, 1, 1, 1, 1, 1, 1, 1]  \n",
       "35        [0, 1, 1, 1, 1, 1, 1, 1, 1, 1, 1, 1, 1, 1]  \n",
       "36              [0, 1, 1, 1, 1, 1, 1, 1, 1, 1, 1, 1]  \n",
       "42     [1, 1, 1, 1, 1, 1, 1, 1, 1, 1, 1, 1, 1, 1, 1]  "
      ]
     },
     "metadata": {},
     "output_type": "display_data"
    }
   ],
   "source": [
    "appropriate_counts_df = hyper_parameter_search_df[hyper_parameter_search_df.apply(\n",
    "    lambda row: \n",
    "    np.nanmean(row['individual_topic_counts']) > 0.6 and\n",
    "    np.nanmean(row['group_topic_membership_counts']) > 0.9\n",
    "    , axis=1)\n",
    "]\n",
    "\n",
    "appropriate_counts_df[['n_components', 'n_neighbors', 'individual_topic_counts', 'group_topic_membership_counts']]"
   ]
  },
  {
   "cell_type": "markdown",
   "metadata": {},
   "source": [
    "#### Group model\n",
    "\n",
    "I will look at the best ones that are group models."
   ]
  },
  {
   "cell_type": "code",
   "execution_count": null,
   "metadata": {},
   "outputs": [
    {
     "name": "stdout",
     "output_type": "stream",
     "text": [
      "Index(['n_components', 'n_neighbors', 'individual_models', 'individual_df',\n",
      "       'group_model', 'group_df', 'individual_topic_counts',\n",
      "       'group_topic_membership_counts'],\n",
      "      dtype='object')\n"
     ]
    },
    {
     "ename": "KeyboardInterrupt",
     "evalue": "",
     "output_type": "error",
     "traceback": [
      "\u001b[0;31m---------------------------------------------------------------------------\u001b[0m\n",
      "\u001b[0;31mKeyboardInterrupt\u001b[0m                         Traceback (most recent call last)\n",
      "Cell \u001b[0;32mIn[153], line 5\u001b[0m\n",
      "\u001b[1;32m      1\u001b[0m potential_group_model \u001b[38;5;241m=\u001b[39m appropriate_counts_df\u001b[38;5;241m.\u001b[39mloc[[\u001b[38;5;241m0\u001b[39m,\u001b[38;5;241m23\u001b[39m,\u001b[38;5;241m42\u001b[39m],]\n",
      "\u001b[1;32m      3\u001b[0m \u001b[38;5;28mprint\u001b[39m(potential_group_model\u001b[38;5;241m.\u001b[39mcolumns)\n",
      "\u001b[0;32m----> 5\u001b[0m \u001b[43mpotential_group_model\u001b[49m\u001b[38;5;241;43m.\u001b[39;49m\u001b[43mapply\u001b[49m\u001b[43m(\u001b[49m\n",
      "\u001b[1;32m      6\u001b[0m \u001b[43m    \u001b[49m\u001b[38;5;28;43;01mlambda\u001b[39;49;00m\u001b[43m \u001b[49m\u001b[43mrow\u001b[49m\u001b[43m:\u001b[49m\n",
      "\u001b[1;32m      7\u001b[0m \u001b[43m    \u001b[49m\u001b[43mrow\u001b[49m\u001b[43m[\u001b[49m\u001b[38;5;124;43m'\u001b[39;49m\u001b[38;5;124;43mgroup_model\u001b[39;49m\u001b[38;5;124;43m'\u001b[39;49m\u001b[43m]\u001b[49m\u001b[38;5;241;43m.\u001b[39;49m\u001b[43mupdate_topics\u001b[49m\u001b[43m(\u001b[49m\n",
      "\u001b[1;32m      8\u001b[0m \u001b[43m        \u001b[49m\u001b[43mrow\u001b[49m\u001b[43m[\u001b[49m\u001b[38;5;124;43m'\u001b[39;49m\u001b[38;5;124;43mgroup_df\u001b[39;49m\u001b[38;5;124;43m'\u001b[39;49m\u001b[43m]\u001b[49m\u001b[43m[\u001b[49m\u001b[38;5;124;43m'\u001b[39;49m\u001b[38;5;124;43msi\u001b[39;49m\u001b[38;5;124;43m'\u001b[39;49m\u001b[43m]\u001b[49m\u001b[38;5;241;43m.\u001b[39;49m\u001b[43mto_list\u001b[49m\u001b[43m(\u001b[49m\u001b[43m)\u001b[49m\u001b[43m,\u001b[49m\n",
      "\u001b[1;32m      9\u001b[0m \u001b[43m        \u001b[49m\u001b[43mrepresentation_model\u001b[49m\u001b[43m \u001b[49m\u001b[38;5;241;43m=\u001b[39;49m\u001b[43m \u001b[49m\u001b[43mopenai_base_representation_model\u001b[49m\n",
      "\u001b[1;32m     10\u001b[0m \u001b[43m    \u001b[49m\u001b[43m)\u001b[49m\u001b[43m,\u001b[49m\n",
      "\u001b[1;32m     11\u001b[0m \u001b[43m    \u001b[49m\u001b[43maxis\u001b[49m\u001b[38;5;241;43m=\u001b[39;49m\u001b[38;5;241;43m1\u001b[39;49m\n",
      "\u001b[1;32m     12\u001b[0m \u001b[43m)\u001b[49m\n",
      "\n",
      "File \u001b[0;32m~/.cache/pypoetry/virtualenvs/taic-report-engine-vkGeZcZ8-py3.11/lib/python3.11/site-packages/pandas/core/frame.py:10374\u001b[0m, in \u001b[0;36mDataFrame.apply\u001b[0;34m(self, func, axis, raw, result_type, args, by_row, engine, engine_kwargs, **kwargs)\u001b[0m\n",
      "\u001b[1;32m  10360\u001b[0m \u001b[38;5;28;01mfrom\u001b[39;00m \u001b[38;5;21;01mpandas\u001b[39;00m\u001b[38;5;21;01m.\u001b[39;00m\u001b[38;5;21;01mcore\u001b[39;00m\u001b[38;5;21;01m.\u001b[39;00m\u001b[38;5;21;01mapply\u001b[39;00m \u001b[38;5;28;01mimport\u001b[39;00m frame_apply\n",
      "\u001b[1;32m  10362\u001b[0m op \u001b[38;5;241m=\u001b[39m frame_apply(\n",
      "\u001b[1;32m  10363\u001b[0m     \u001b[38;5;28mself\u001b[39m,\n",
      "\u001b[1;32m  10364\u001b[0m     func\u001b[38;5;241m=\u001b[39mfunc,\n",
      "\u001b[0;32m   (...)\u001b[0m\n",
      "\u001b[1;32m  10372\u001b[0m     kwargs\u001b[38;5;241m=\u001b[39mkwargs,\n",
      "\u001b[1;32m  10373\u001b[0m )\n",
      "\u001b[0;32m> 10374\u001b[0m \u001b[38;5;28;01mreturn\u001b[39;00m \u001b[43mop\u001b[49m\u001b[38;5;241;43m.\u001b[39;49m\u001b[43mapply\u001b[49m\u001b[43m(\u001b[49m\u001b[43m)\u001b[49m\u001b[38;5;241m.\u001b[39m__finalize__(\u001b[38;5;28mself\u001b[39m, method\u001b[38;5;241m=\u001b[39m\u001b[38;5;124m\"\u001b[39m\u001b[38;5;124mapply\u001b[39m\u001b[38;5;124m\"\u001b[39m)\n",
      "\n",
      "File \u001b[0;32m~/.cache/pypoetry/virtualenvs/taic-report-engine-vkGeZcZ8-py3.11/lib/python3.11/site-packages/pandas/core/apply.py:916\u001b[0m, in \u001b[0;36mFrameApply.apply\u001b[0;34m(self)\u001b[0m\n",
      "\u001b[1;32m    913\u001b[0m \u001b[38;5;28;01melif\u001b[39;00m \u001b[38;5;28mself\u001b[39m\u001b[38;5;241m.\u001b[39mraw:\n",
      "\u001b[1;32m    914\u001b[0m     \u001b[38;5;28;01mreturn\u001b[39;00m \u001b[38;5;28mself\u001b[39m\u001b[38;5;241m.\u001b[39mapply_raw(engine\u001b[38;5;241m=\u001b[39m\u001b[38;5;28mself\u001b[39m\u001b[38;5;241m.\u001b[39mengine, engine_kwargs\u001b[38;5;241m=\u001b[39m\u001b[38;5;28mself\u001b[39m\u001b[38;5;241m.\u001b[39mengine_kwargs)\n",
      "\u001b[0;32m--> 916\u001b[0m \u001b[38;5;28;01mreturn\u001b[39;00m \u001b[38;5;28;43mself\u001b[39;49m\u001b[38;5;241;43m.\u001b[39;49m\u001b[43mapply_standard\u001b[49m\u001b[43m(\u001b[49m\u001b[43m)\u001b[49m\n",
      "\n",
      "File \u001b[0;32m~/.cache/pypoetry/virtualenvs/taic-report-engine-vkGeZcZ8-py3.11/lib/python3.11/site-packages/pandas/core/apply.py:1063\u001b[0m, in \u001b[0;36mFrameApply.apply_standard\u001b[0;34m(self)\u001b[0m\n",
      "\u001b[1;32m   1061\u001b[0m \u001b[38;5;28;01mdef\u001b[39;00m \u001b[38;5;21mapply_standard\u001b[39m(\u001b[38;5;28mself\u001b[39m):\n",
      "\u001b[1;32m   1062\u001b[0m     \u001b[38;5;28;01mif\u001b[39;00m \u001b[38;5;28mself\u001b[39m\u001b[38;5;241m.\u001b[39mengine \u001b[38;5;241m==\u001b[39m \u001b[38;5;124m\"\u001b[39m\u001b[38;5;124mpython\u001b[39m\u001b[38;5;124m\"\u001b[39m:\n",
      "\u001b[0;32m-> 1063\u001b[0m         results, res_index \u001b[38;5;241m=\u001b[39m \u001b[38;5;28;43mself\u001b[39;49m\u001b[38;5;241;43m.\u001b[39;49m\u001b[43mapply_series_generator\u001b[49m\u001b[43m(\u001b[49m\u001b[43m)\u001b[49m\n",
      "\u001b[1;32m   1064\u001b[0m     \u001b[38;5;28;01melse\u001b[39;00m:\n",
      "\u001b[1;32m   1065\u001b[0m         results, res_index \u001b[38;5;241m=\u001b[39m \u001b[38;5;28mself\u001b[39m\u001b[38;5;241m.\u001b[39mapply_series_numba()\n",
      "\n",
      "File \u001b[0;32m~/.cache/pypoetry/virtualenvs/taic-report-engine-vkGeZcZ8-py3.11/lib/python3.11/site-packages/pandas/core/apply.py:1081\u001b[0m, in \u001b[0;36mFrameApply.apply_series_generator\u001b[0;34m(self)\u001b[0m\n",
      "\u001b[1;32m   1078\u001b[0m \u001b[38;5;28;01mwith\u001b[39;00m option_context(\u001b[38;5;124m\"\u001b[39m\u001b[38;5;124mmode.chained_assignment\u001b[39m\u001b[38;5;124m\"\u001b[39m, \u001b[38;5;28;01mNone\u001b[39;00m):\n",
      "\u001b[1;32m   1079\u001b[0m     \u001b[38;5;28;01mfor\u001b[39;00m i, v \u001b[38;5;129;01min\u001b[39;00m \u001b[38;5;28menumerate\u001b[39m(series_gen):\n",
      "\u001b[1;32m   1080\u001b[0m         \u001b[38;5;66;03m# ignore SettingWithCopy here in case the user mutates\u001b[39;00m\n",
      "\u001b[0;32m-> 1081\u001b[0m         results[i] \u001b[38;5;241m=\u001b[39m \u001b[38;5;28;43mself\u001b[39;49m\u001b[38;5;241;43m.\u001b[39;49m\u001b[43mfunc\u001b[49m\u001b[43m(\u001b[49m\u001b[43mv\u001b[49m\u001b[43m,\u001b[49m\u001b[43m \u001b[49m\u001b[38;5;241;43m*\u001b[39;49m\u001b[38;5;28;43mself\u001b[39;49m\u001b[38;5;241;43m.\u001b[39;49m\u001b[43margs\u001b[49m\u001b[43m,\u001b[49m\u001b[43m \u001b[49m\u001b[38;5;241;43m*\u001b[39;49m\u001b[38;5;241;43m*\u001b[39;49m\u001b[38;5;28;43mself\u001b[39;49m\u001b[38;5;241;43m.\u001b[39;49m\u001b[43mkwargs\u001b[49m\u001b[43m)\u001b[49m\n",
      "\u001b[1;32m   1082\u001b[0m         \u001b[38;5;28;01mif\u001b[39;00m \u001b[38;5;28misinstance\u001b[39m(results[i], ABCSeries):\n",
      "\u001b[1;32m   1083\u001b[0m             \u001b[38;5;66;03m# If we have a view on v, we need to make a copy because\u001b[39;00m\n",
      "\u001b[1;32m   1084\u001b[0m             \u001b[38;5;66;03m#  series_generator will swap out the underlying data\u001b[39;00m\n",
      "\u001b[1;32m   1085\u001b[0m             results[i] \u001b[38;5;241m=\u001b[39m results[i]\u001b[38;5;241m.\u001b[39mcopy(deep\u001b[38;5;241m=\u001b[39m\u001b[38;5;28;01mFalse\u001b[39;00m)\n",
      "\n",
      "Cell \u001b[0;32mIn[153], line 7\u001b[0m, in \u001b[0;36m<lambda>\u001b[0;34m(row)\u001b[0m\n",
      "\u001b[1;32m      1\u001b[0m potential_group_model \u001b[38;5;241m=\u001b[39m appropriate_counts_df\u001b[38;5;241m.\u001b[39mloc[[\u001b[38;5;241m0\u001b[39m,\u001b[38;5;241m23\u001b[39m,\u001b[38;5;241m42\u001b[39m],]\n",
      "\u001b[1;32m      3\u001b[0m \u001b[38;5;28mprint\u001b[39m(potential_group_model\u001b[38;5;241m.\u001b[39mcolumns)\n",
      "\u001b[1;32m      5\u001b[0m potential_group_model\u001b[38;5;241m.\u001b[39mapply(\n",
      "\u001b[1;32m      6\u001b[0m     \u001b[38;5;28;01mlambda\u001b[39;00m row:\n",
      "\u001b[0;32m----> 7\u001b[0m     \u001b[43mrow\u001b[49m\u001b[43m[\u001b[49m\u001b[38;5;124;43m'\u001b[39;49m\u001b[38;5;124;43mgroup_model\u001b[39;49m\u001b[38;5;124;43m'\u001b[39;49m\u001b[43m]\u001b[49m\u001b[38;5;241;43m.\u001b[39;49m\u001b[43mupdate_topics\u001b[49m\u001b[43m(\u001b[49m\n",
      "\u001b[1;32m      8\u001b[0m \u001b[43m        \u001b[49m\u001b[43mrow\u001b[49m\u001b[43m[\u001b[49m\u001b[38;5;124;43m'\u001b[39;49m\u001b[38;5;124;43mgroup_df\u001b[39;49m\u001b[38;5;124;43m'\u001b[39;49m\u001b[43m]\u001b[49m\u001b[43m[\u001b[49m\u001b[38;5;124;43m'\u001b[39;49m\u001b[38;5;124;43msi\u001b[39;49m\u001b[38;5;124;43m'\u001b[39;49m\u001b[43m]\u001b[49m\u001b[38;5;241;43m.\u001b[39;49m\u001b[43mto_list\u001b[49m\u001b[43m(\u001b[49m\u001b[43m)\u001b[49m\u001b[43m,\u001b[49m\n",
      "\u001b[1;32m      9\u001b[0m \u001b[43m        \u001b[49m\u001b[43mrepresentation_model\u001b[49m\u001b[43m \u001b[49m\u001b[38;5;241;43m=\u001b[39;49m\u001b[43m \u001b[49m\u001b[43mopenai_base_representation_model\u001b[49m\n",
      "\u001b[1;32m     10\u001b[0m \u001b[43m    \u001b[49m\u001b[43m)\u001b[49m,\n",
      "\u001b[1;32m     11\u001b[0m     axis\u001b[38;5;241m=\u001b[39m\u001b[38;5;241m1\u001b[39m\n",
      "\u001b[1;32m     12\u001b[0m )\n",
      "\n",
      "File \u001b[0;32m~/.cache/pypoetry/virtualenvs/taic-report-engine-vkGeZcZ8-py3.11/lib/python3.11/site-packages/bertopic/_bertopic.py:1427\u001b[0m, in \u001b[0;36mBERTopic.update_topics\u001b[0;34m(self, docs, images, topics, top_n_words, n_gram_range, vectorizer_model, ctfidf_model, representation_model)\u001b[0m\n",
      "\u001b[1;32m   1425\u001b[0m documents_per_topic \u001b[38;5;241m=\u001b[39m documents\u001b[38;5;241m.\u001b[39mgroupby([\u001b[38;5;124m'\u001b[39m\u001b[38;5;124mTopic\u001b[39m\u001b[38;5;124m'\u001b[39m], as_index\u001b[38;5;241m=\u001b[39m\u001b[38;5;28;01mFalse\u001b[39;00m)\u001b[38;5;241m.\u001b[39magg({\u001b[38;5;124m'\u001b[39m\u001b[38;5;124mDocument\u001b[39m\u001b[38;5;124m'\u001b[39m: \u001b[38;5;124m'\u001b[39m\u001b[38;5;124m \u001b[39m\u001b[38;5;124m'\u001b[39m\u001b[38;5;241m.\u001b[39mjoin})\n",
      "\u001b[1;32m   1426\u001b[0m \u001b[38;5;28mself\u001b[39m\u001b[38;5;241m.\u001b[39mc_tf_idf_, words \u001b[38;5;241m=\u001b[39m \u001b[38;5;28mself\u001b[39m\u001b[38;5;241m.\u001b[39m_c_tf_idf(documents_per_topic)\n",
      "\u001b[0;32m-> 1427\u001b[0m \u001b[38;5;28mself\u001b[39m\u001b[38;5;241m.\u001b[39mtopic_representations_ \u001b[38;5;241m=\u001b[39m \u001b[38;5;28;43mself\u001b[39;49m\u001b[38;5;241;43m.\u001b[39;49m\u001b[43m_extract_words_per_topic\u001b[49m\u001b[43m(\u001b[49m\u001b[43mwords\u001b[49m\u001b[43m,\u001b[49m\u001b[43m \u001b[49m\u001b[43mdocuments\u001b[49m\u001b[43m)\u001b[49m\n",
      "\u001b[1;32m   1429\u001b[0m \u001b[38;5;66;03m# Update topic vectors\u001b[39;00m\n",
      "\u001b[1;32m   1430\u001b[0m \u001b[38;5;28;01mif\u001b[39;00m \u001b[38;5;28mset\u001b[39m(topics) \u001b[38;5;241m!=\u001b[39m \u001b[38;5;28mself\u001b[39m\u001b[38;5;241m.\u001b[39mtopics_:\n",
      "\u001b[1;32m   1431\u001b[0m \n",
      "\u001b[1;32m   1432\u001b[0m     \u001b[38;5;66;03m# Remove outlier topic embedding if all that has changed is the outlier class\u001b[39;00m\n",
      "\n",
      "File \u001b[0;32m~/.cache/pypoetry/virtualenvs/taic-report-engine-vkGeZcZ8-py3.11/lib/python3.11/site-packages/bertopic/_bertopic.py:4067\u001b[0m, in \u001b[0;36mBERTopic._extract_words_per_topic\u001b[0;34m(self, words, documents, c_tf_idf, calculate_aspects)\u001b[0m\n",
      "\u001b[1;32m   4065\u001b[0m         topics \u001b[38;5;241m=\u001b[39m tuner\u001b[38;5;241m.\u001b[39mextract_topics(\u001b[38;5;28mself\u001b[39m, documents, c_tf_idf, topics)\n",
      "\u001b[1;32m   4066\u001b[0m \u001b[38;5;28;01melif\u001b[39;00m \u001b[38;5;28misinstance\u001b[39m(\u001b[38;5;28mself\u001b[39m\u001b[38;5;241m.\u001b[39mrepresentation_model, BaseRepresentation):\n",
      "\u001b[0;32m-> 4067\u001b[0m     topics \u001b[38;5;241m=\u001b[39m \u001b[38;5;28;43mself\u001b[39;49m\u001b[38;5;241;43m.\u001b[39;49m\u001b[43mrepresentation_model\u001b[49m\u001b[38;5;241;43m.\u001b[39;49m\u001b[43mextract_topics\u001b[49m\u001b[43m(\u001b[49m\u001b[38;5;28;43mself\u001b[39;49m\u001b[43m,\u001b[49m\u001b[43m \u001b[49m\u001b[43mdocuments\u001b[49m\u001b[43m,\u001b[49m\u001b[43m \u001b[49m\u001b[43mc_tf_idf\u001b[49m\u001b[43m,\u001b[49m\u001b[43m \u001b[49m\u001b[43mtopics\u001b[49m\u001b[43m)\u001b[49m\n",
      "\u001b[1;32m   4068\u001b[0m \u001b[38;5;28;01melif\u001b[39;00m \u001b[38;5;28misinstance\u001b[39m(\u001b[38;5;28mself\u001b[39m\u001b[38;5;241m.\u001b[39mrepresentation_model, \u001b[38;5;28mdict\u001b[39m):\n",
      "\u001b[1;32m   4069\u001b[0m     \u001b[38;5;28;01mif\u001b[39;00m \u001b[38;5;28mself\u001b[39m\u001b[38;5;241m.\u001b[39mrepresentation_model\u001b[38;5;241m.\u001b[39mget(\u001b[38;5;124m\"\u001b[39m\u001b[38;5;124mMain\u001b[39m\u001b[38;5;124m\"\u001b[39m):\n",
      "\n",
      "File \u001b[0;32m~/.cache/pypoetry/virtualenvs/taic-report-engine-vkGeZcZ8-py3.11/lib/python3.11/site-packages/bertopic/representation/_openai.py:218\u001b[0m, in \u001b[0;36mOpenAI.extract_topics\u001b[0;34m(self, topic_model, documents, c_tf_idf, topics)\u001b[0m\n",
      "\u001b[1;32m    216\u001b[0m     response \u001b[38;5;241m=\u001b[39m chat_completions_with_backoff(\u001b[38;5;28mself\u001b[39m\u001b[38;5;241m.\u001b[39mclient, \u001b[38;5;241m*\u001b[39m\u001b[38;5;241m*\u001b[39mkwargs)\n",
      "\u001b[1;32m    217\u001b[0m \u001b[38;5;28;01melse\u001b[39;00m:\n",
      "\u001b[0;32m--> 218\u001b[0m     response \u001b[38;5;241m=\u001b[39m \u001b[38;5;28;43mself\u001b[39;49m\u001b[38;5;241;43m.\u001b[39;49m\u001b[43mclient\u001b[49m\u001b[38;5;241;43m.\u001b[39;49m\u001b[43mchat\u001b[49m\u001b[38;5;241;43m.\u001b[39;49m\u001b[43mcompletions\u001b[49m\u001b[38;5;241;43m.\u001b[39;49m\u001b[43mcreate\u001b[49m\u001b[43m(\u001b[49m\u001b[38;5;241;43m*\u001b[39;49m\u001b[38;5;241;43m*\u001b[39;49m\u001b[43mkwargs\u001b[49m\u001b[43m)\u001b[49m\n",
      "\u001b[1;32m    220\u001b[0m \u001b[38;5;66;03m# Check whether content was actually generated\u001b[39;00m\n",
      "\u001b[1;32m    221\u001b[0m \u001b[38;5;66;03m# Adresses #1570 for potential issues with OpenAI's content filter\u001b[39;00m\n",
      "\u001b[1;32m    222\u001b[0m \u001b[38;5;28;01mif\u001b[39;00m \u001b[38;5;28mhasattr\u001b[39m(response\u001b[38;5;241m.\u001b[39mchoices[\u001b[38;5;241m0\u001b[39m]\u001b[38;5;241m.\u001b[39mmessage, \u001b[38;5;124m\"\u001b[39m\u001b[38;5;124mcontent\u001b[39m\u001b[38;5;124m\"\u001b[39m):\n",
      "\n",
      "File \u001b[0;32m~/.cache/pypoetry/virtualenvs/taic-report-engine-vkGeZcZ8-py3.11/lib/python3.11/site-packages/openai/_utils/_utils.py:277\u001b[0m, in \u001b[0;36mrequired_args.<locals>.inner.<locals>.wrapper\u001b[0;34m(*args, **kwargs)\u001b[0m\n",
      "\u001b[1;32m    275\u001b[0m             msg \u001b[38;5;241m=\u001b[39m \u001b[38;5;124mf\u001b[39m\u001b[38;5;124m\"\u001b[39m\u001b[38;5;124mMissing required argument: \u001b[39m\u001b[38;5;132;01m{\u001b[39;00mquote(missing[\u001b[38;5;241m0\u001b[39m])\u001b[38;5;132;01m}\u001b[39;00m\u001b[38;5;124m\"\u001b[39m\n",
      "\u001b[1;32m    276\u001b[0m     \u001b[38;5;28;01mraise\u001b[39;00m \u001b[38;5;167;01mTypeError\u001b[39;00m(msg)\n",
      "\u001b[0;32m--> 277\u001b[0m \u001b[38;5;28;01mreturn\u001b[39;00m \u001b[43mfunc\u001b[49m\u001b[43m(\u001b[49m\u001b[38;5;241;43m*\u001b[39;49m\u001b[43margs\u001b[49m\u001b[43m,\u001b[49m\u001b[43m \u001b[49m\u001b[38;5;241;43m*\u001b[39;49m\u001b[38;5;241;43m*\u001b[39;49m\u001b[43mkwargs\u001b[49m\u001b[43m)\u001b[49m\n",
      "\n",
      "File \u001b[0;32m~/.cache/pypoetry/virtualenvs/taic-report-engine-vkGeZcZ8-py3.11/lib/python3.11/site-packages/openai/resources/chat/completions.py:579\u001b[0m, in \u001b[0;36mCompletions.create\u001b[0;34m(self, messages, model, frequency_penalty, function_call, functions, logit_bias, logprobs, max_tokens, n, presence_penalty, response_format, seed, stop, stream, temperature, tool_choice, tools, top_logprobs, top_p, user, extra_headers, extra_query, extra_body, timeout)\u001b[0m\n",
      "\u001b[1;32m    548\u001b[0m \u001b[38;5;129m@required_args\u001b[39m([\u001b[38;5;124m\"\u001b[39m\u001b[38;5;124mmessages\u001b[39m\u001b[38;5;124m\"\u001b[39m, \u001b[38;5;124m\"\u001b[39m\u001b[38;5;124mmodel\u001b[39m\u001b[38;5;124m\"\u001b[39m], [\u001b[38;5;124m\"\u001b[39m\u001b[38;5;124mmessages\u001b[39m\u001b[38;5;124m\"\u001b[39m, \u001b[38;5;124m\"\u001b[39m\u001b[38;5;124mmodel\u001b[39m\u001b[38;5;124m\"\u001b[39m, \u001b[38;5;124m\"\u001b[39m\u001b[38;5;124mstream\u001b[39m\u001b[38;5;124m\"\u001b[39m])\n",
      "\u001b[1;32m    549\u001b[0m \u001b[38;5;28;01mdef\u001b[39;00m \u001b[38;5;21mcreate\u001b[39m(\n",
      "\u001b[1;32m    550\u001b[0m     \u001b[38;5;28mself\u001b[39m,\n",
      "\u001b[0;32m   (...)\u001b[0m\n",
      "\u001b[1;32m    577\u001b[0m     timeout: \u001b[38;5;28mfloat\u001b[39m \u001b[38;5;241m|\u001b[39m httpx\u001b[38;5;241m.\u001b[39mTimeout \u001b[38;5;241m|\u001b[39m \u001b[38;5;28;01mNone\u001b[39;00m \u001b[38;5;241m|\u001b[39m NotGiven \u001b[38;5;241m=\u001b[39m NOT_GIVEN,\n",
      "\u001b[1;32m    578\u001b[0m ) \u001b[38;5;241m-\u001b[39m\u001b[38;5;241m>\u001b[39m ChatCompletion \u001b[38;5;241m|\u001b[39m Stream[ChatCompletionChunk]:\n",
      "\u001b[0;32m--> 579\u001b[0m     \u001b[38;5;28;01mreturn\u001b[39;00m \u001b[38;5;28;43mself\u001b[39;49m\u001b[38;5;241;43m.\u001b[39;49m\u001b[43m_post\u001b[49m\u001b[43m(\u001b[49m\n",
      "\u001b[1;32m    580\u001b[0m \u001b[43m        \u001b[49m\u001b[38;5;124;43m\"\u001b[39;49m\u001b[38;5;124;43m/chat/completions\u001b[39;49m\u001b[38;5;124;43m\"\u001b[39;49m\u001b[43m,\u001b[49m\n",
      "\u001b[1;32m    581\u001b[0m \u001b[43m        \u001b[49m\u001b[43mbody\u001b[49m\u001b[38;5;241;43m=\u001b[39;49m\u001b[43mmaybe_transform\u001b[49m\u001b[43m(\u001b[49m\n",
      "\u001b[1;32m    582\u001b[0m \u001b[43m            \u001b[49m\u001b[43m{\u001b[49m\n",
      "\u001b[1;32m    583\u001b[0m \u001b[43m                \u001b[49m\u001b[38;5;124;43m\"\u001b[39;49m\u001b[38;5;124;43mmessages\u001b[39;49m\u001b[38;5;124;43m\"\u001b[39;49m\u001b[43m:\u001b[49m\u001b[43m \u001b[49m\u001b[43mmessages\u001b[49m\u001b[43m,\u001b[49m\n",
      "\u001b[1;32m    584\u001b[0m \u001b[43m                \u001b[49m\u001b[38;5;124;43m\"\u001b[39;49m\u001b[38;5;124;43mmodel\u001b[39;49m\u001b[38;5;124;43m\"\u001b[39;49m\u001b[43m:\u001b[49m\u001b[43m \u001b[49m\u001b[43mmodel\u001b[49m\u001b[43m,\u001b[49m\n",
      "\u001b[1;32m    585\u001b[0m \u001b[43m                \u001b[49m\u001b[38;5;124;43m\"\u001b[39;49m\u001b[38;5;124;43mfrequency_penalty\u001b[39;49m\u001b[38;5;124;43m\"\u001b[39;49m\u001b[43m:\u001b[49m\u001b[43m \u001b[49m\u001b[43mfrequency_penalty\u001b[49m\u001b[43m,\u001b[49m\n",
      "\u001b[1;32m    586\u001b[0m \u001b[43m                \u001b[49m\u001b[38;5;124;43m\"\u001b[39;49m\u001b[38;5;124;43mfunction_call\u001b[39;49m\u001b[38;5;124;43m\"\u001b[39;49m\u001b[43m:\u001b[49m\u001b[43m \u001b[49m\u001b[43mfunction_call\u001b[49m\u001b[43m,\u001b[49m\n",
      "\u001b[1;32m    587\u001b[0m \u001b[43m                \u001b[49m\u001b[38;5;124;43m\"\u001b[39;49m\u001b[38;5;124;43mfunctions\u001b[39;49m\u001b[38;5;124;43m\"\u001b[39;49m\u001b[43m:\u001b[49m\u001b[43m \u001b[49m\u001b[43mfunctions\u001b[49m\u001b[43m,\u001b[49m\n",
      "\u001b[1;32m    588\u001b[0m \u001b[43m                \u001b[49m\u001b[38;5;124;43m\"\u001b[39;49m\u001b[38;5;124;43mlogit_bias\u001b[39;49m\u001b[38;5;124;43m\"\u001b[39;49m\u001b[43m:\u001b[49m\u001b[43m \u001b[49m\u001b[43mlogit_bias\u001b[49m\u001b[43m,\u001b[49m\n",
      "\u001b[1;32m    589\u001b[0m \u001b[43m                \u001b[49m\u001b[38;5;124;43m\"\u001b[39;49m\u001b[38;5;124;43mlogprobs\u001b[39;49m\u001b[38;5;124;43m\"\u001b[39;49m\u001b[43m:\u001b[49m\u001b[43m \u001b[49m\u001b[43mlogprobs\u001b[49m\u001b[43m,\u001b[49m\n",
      "\u001b[1;32m    590\u001b[0m \u001b[43m                \u001b[49m\u001b[38;5;124;43m\"\u001b[39;49m\u001b[38;5;124;43mmax_tokens\u001b[39;49m\u001b[38;5;124;43m\"\u001b[39;49m\u001b[43m:\u001b[49m\u001b[43m \u001b[49m\u001b[43mmax_tokens\u001b[49m\u001b[43m,\u001b[49m\n",
      "\u001b[1;32m    591\u001b[0m \u001b[43m                \u001b[49m\u001b[38;5;124;43m\"\u001b[39;49m\u001b[38;5;124;43mn\u001b[39;49m\u001b[38;5;124;43m\"\u001b[39;49m\u001b[43m:\u001b[49m\u001b[43m \u001b[49m\u001b[43mn\u001b[49m\u001b[43m,\u001b[49m\n",
      "\u001b[1;32m    592\u001b[0m \u001b[43m                \u001b[49m\u001b[38;5;124;43m\"\u001b[39;49m\u001b[38;5;124;43mpresence_penalty\u001b[39;49m\u001b[38;5;124;43m\"\u001b[39;49m\u001b[43m:\u001b[49m\u001b[43m \u001b[49m\u001b[43mpresence_penalty\u001b[49m\u001b[43m,\u001b[49m\n",
      "\u001b[1;32m    593\u001b[0m \u001b[43m                \u001b[49m\u001b[38;5;124;43m\"\u001b[39;49m\u001b[38;5;124;43mresponse_format\u001b[39;49m\u001b[38;5;124;43m\"\u001b[39;49m\u001b[43m:\u001b[49m\u001b[43m \u001b[49m\u001b[43mresponse_format\u001b[49m\u001b[43m,\u001b[49m\n",
      "\u001b[1;32m    594\u001b[0m \u001b[43m                \u001b[49m\u001b[38;5;124;43m\"\u001b[39;49m\u001b[38;5;124;43mseed\u001b[39;49m\u001b[38;5;124;43m\"\u001b[39;49m\u001b[43m:\u001b[49m\u001b[43m \u001b[49m\u001b[43mseed\u001b[49m\u001b[43m,\u001b[49m\n",
      "\u001b[1;32m    595\u001b[0m \u001b[43m                \u001b[49m\u001b[38;5;124;43m\"\u001b[39;49m\u001b[38;5;124;43mstop\u001b[39;49m\u001b[38;5;124;43m\"\u001b[39;49m\u001b[43m:\u001b[49m\u001b[43m \u001b[49m\u001b[43mstop\u001b[49m\u001b[43m,\u001b[49m\n",
      "\u001b[1;32m    596\u001b[0m \u001b[43m                \u001b[49m\u001b[38;5;124;43m\"\u001b[39;49m\u001b[38;5;124;43mstream\u001b[39;49m\u001b[38;5;124;43m\"\u001b[39;49m\u001b[43m:\u001b[49m\u001b[43m \u001b[49m\u001b[43mstream\u001b[49m\u001b[43m,\u001b[49m\n",
      "\u001b[1;32m    597\u001b[0m \u001b[43m                \u001b[49m\u001b[38;5;124;43m\"\u001b[39;49m\u001b[38;5;124;43mtemperature\u001b[39;49m\u001b[38;5;124;43m\"\u001b[39;49m\u001b[43m:\u001b[49m\u001b[43m \u001b[49m\u001b[43mtemperature\u001b[49m\u001b[43m,\u001b[49m\n",
      "\u001b[1;32m    598\u001b[0m \u001b[43m                \u001b[49m\u001b[38;5;124;43m\"\u001b[39;49m\u001b[38;5;124;43mtool_choice\u001b[39;49m\u001b[38;5;124;43m\"\u001b[39;49m\u001b[43m:\u001b[49m\u001b[43m \u001b[49m\u001b[43mtool_choice\u001b[49m\u001b[43m,\u001b[49m\n",
      "\u001b[1;32m    599\u001b[0m \u001b[43m                \u001b[49m\u001b[38;5;124;43m\"\u001b[39;49m\u001b[38;5;124;43mtools\u001b[39;49m\u001b[38;5;124;43m\"\u001b[39;49m\u001b[43m:\u001b[49m\u001b[43m \u001b[49m\u001b[43mtools\u001b[49m\u001b[43m,\u001b[49m\n",
      "\u001b[1;32m    600\u001b[0m \u001b[43m                \u001b[49m\u001b[38;5;124;43m\"\u001b[39;49m\u001b[38;5;124;43mtop_logprobs\u001b[39;49m\u001b[38;5;124;43m\"\u001b[39;49m\u001b[43m:\u001b[49m\u001b[43m \u001b[49m\u001b[43mtop_logprobs\u001b[49m\u001b[43m,\u001b[49m\n",
      "\u001b[1;32m    601\u001b[0m \u001b[43m                \u001b[49m\u001b[38;5;124;43m\"\u001b[39;49m\u001b[38;5;124;43mtop_p\u001b[39;49m\u001b[38;5;124;43m\"\u001b[39;49m\u001b[43m:\u001b[49m\u001b[43m \u001b[49m\u001b[43mtop_p\u001b[49m\u001b[43m,\u001b[49m\n",
      "\u001b[1;32m    602\u001b[0m \u001b[43m                \u001b[49m\u001b[38;5;124;43m\"\u001b[39;49m\u001b[38;5;124;43muser\u001b[39;49m\u001b[38;5;124;43m\"\u001b[39;49m\u001b[43m:\u001b[49m\u001b[43m \u001b[49m\u001b[43muser\u001b[49m\u001b[43m,\u001b[49m\n",
      "\u001b[1;32m    603\u001b[0m \u001b[43m            \u001b[49m\u001b[43m}\u001b[49m\u001b[43m,\u001b[49m\n",
      "\u001b[1;32m    604\u001b[0m \u001b[43m            \u001b[49m\u001b[43mcompletion_create_params\u001b[49m\u001b[38;5;241;43m.\u001b[39;49m\u001b[43mCompletionCreateParams\u001b[49m\u001b[43m,\u001b[49m\n",
      "\u001b[1;32m    605\u001b[0m \u001b[43m        \u001b[49m\u001b[43m)\u001b[49m\u001b[43m,\u001b[49m\n",
      "\u001b[1;32m    606\u001b[0m \u001b[43m        \u001b[49m\u001b[43moptions\u001b[49m\u001b[38;5;241;43m=\u001b[39;49m\u001b[43mmake_request_options\u001b[49m\u001b[43m(\u001b[49m\n",
      "\u001b[1;32m    607\u001b[0m \u001b[43m            \u001b[49m\u001b[43mextra_headers\u001b[49m\u001b[38;5;241;43m=\u001b[39;49m\u001b[43mextra_headers\u001b[49m\u001b[43m,\u001b[49m\u001b[43m \u001b[49m\u001b[43mextra_query\u001b[49m\u001b[38;5;241;43m=\u001b[39;49m\u001b[43mextra_query\u001b[49m\u001b[43m,\u001b[49m\u001b[43m \u001b[49m\u001b[43mextra_body\u001b[49m\u001b[38;5;241;43m=\u001b[39;49m\u001b[43mextra_body\u001b[49m\u001b[43m,\u001b[49m\u001b[43m \u001b[49m\u001b[43mtimeout\u001b[49m\u001b[38;5;241;43m=\u001b[39;49m\u001b[43mtimeout\u001b[49m\n",
      "\u001b[1;32m    608\u001b[0m \u001b[43m        \u001b[49m\u001b[43m)\u001b[49m\u001b[43m,\u001b[49m\n",
      "\u001b[1;32m    609\u001b[0m \u001b[43m        \u001b[49m\u001b[43mcast_to\u001b[49m\u001b[38;5;241;43m=\u001b[39;49m\u001b[43mChatCompletion\u001b[49m\u001b[43m,\u001b[49m\n",
      "\u001b[1;32m    610\u001b[0m \u001b[43m        \u001b[49m\u001b[43mstream\u001b[49m\u001b[38;5;241;43m=\u001b[39;49m\u001b[43mstream\u001b[49m\u001b[43m \u001b[49m\u001b[38;5;129;43;01mor\u001b[39;49;00m\u001b[43m \u001b[49m\u001b[38;5;28;43;01mFalse\u001b[39;49;00m\u001b[43m,\u001b[49m\n",
      "\u001b[1;32m    611\u001b[0m \u001b[43m        \u001b[49m\u001b[43mstream_cls\u001b[49m\u001b[38;5;241;43m=\u001b[39;49m\u001b[43mStream\u001b[49m\u001b[43m[\u001b[49m\u001b[43mChatCompletionChunk\u001b[49m\u001b[43m]\u001b[49m\u001b[43m,\u001b[49m\n",
      "\u001b[1;32m    612\u001b[0m \u001b[43m    \u001b[49m\u001b[43m)\u001b[49m\n",
      "\n",
      "File \u001b[0;32m~/.cache/pypoetry/virtualenvs/taic-report-engine-vkGeZcZ8-py3.11/lib/python3.11/site-packages/openai/_base_client.py:1232\u001b[0m, in \u001b[0;36mSyncAPIClient.post\u001b[0;34m(self, path, cast_to, body, options, files, stream, stream_cls)\u001b[0m\n",
      "\u001b[1;32m   1218\u001b[0m \u001b[38;5;28;01mdef\u001b[39;00m \u001b[38;5;21mpost\u001b[39m(\n",
      "\u001b[1;32m   1219\u001b[0m     \u001b[38;5;28mself\u001b[39m,\n",
      "\u001b[1;32m   1220\u001b[0m     path: \u001b[38;5;28mstr\u001b[39m,\n",
      "\u001b[0;32m   (...)\u001b[0m\n",
      "\u001b[1;32m   1227\u001b[0m     stream_cls: \u001b[38;5;28mtype\u001b[39m[_StreamT] \u001b[38;5;241m|\u001b[39m \u001b[38;5;28;01mNone\u001b[39;00m \u001b[38;5;241m=\u001b[39m \u001b[38;5;28;01mNone\u001b[39;00m,\n",
      "\u001b[1;32m   1228\u001b[0m ) \u001b[38;5;241m-\u001b[39m\u001b[38;5;241m>\u001b[39m ResponseT \u001b[38;5;241m|\u001b[39m _StreamT:\n",
      "\u001b[1;32m   1229\u001b[0m     opts \u001b[38;5;241m=\u001b[39m FinalRequestOptions\u001b[38;5;241m.\u001b[39mconstruct(\n",
      "\u001b[1;32m   1230\u001b[0m         method\u001b[38;5;241m=\u001b[39m\u001b[38;5;124m\"\u001b[39m\u001b[38;5;124mpost\u001b[39m\u001b[38;5;124m\"\u001b[39m, url\u001b[38;5;241m=\u001b[39mpath, json_data\u001b[38;5;241m=\u001b[39mbody, files\u001b[38;5;241m=\u001b[39mto_httpx_files(files), \u001b[38;5;241m*\u001b[39m\u001b[38;5;241m*\u001b[39moptions\n",
      "\u001b[1;32m   1231\u001b[0m     )\n",
      "\u001b[0;32m-> 1232\u001b[0m     \u001b[38;5;28;01mreturn\u001b[39;00m cast(ResponseT, \u001b[38;5;28;43mself\u001b[39;49m\u001b[38;5;241;43m.\u001b[39;49m\u001b[43mrequest\u001b[49m\u001b[43m(\u001b[49m\u001b[43mcast_to\u001b[49m\u001b[43m,\u001b[49m\u001b[43m \u001b[49m\u001b[43mopts\u001b[49m\u001b[43m,\u001b[49m\u001b[43m \u001b[49m\u001b[43mstream\u001b[49m\u001b[38;5;241;43m=\u001b[39;49m\u001b[43mstream\u001b[49m\u001b[43m,\u001b[49m\u001b[43m \u001b[49m\u001b[43mstream_cls\u001b[49m\u001b[38;5;241;43m=\u001b[39;49m\u001b[43mstream_cls\u001b[49m\u001b[43m)\u001b[49m)\n",
      "\n",
      "File \u001b[0;32m~/.cache/pypoetry/virtualenvs/taic-report-engine-vkGeZcZ8-py3.11/lib/python3.11/site-packages/openai/_base_client.py:921\u001b[0m, in \u001b[0;36mSyncAPIClient.request\u001b[0;34m(self, cast_to, options, remaining_retries, stream, stream_cls)\u001b[0m\n",
      "\u001b[1;32m    912\u001b[0m \u001b[38;5;28;01mdef\u001b[39;00m \u001b[38;5;21mrequest\u001b[39m(\n",
      "\u001b[1;32m    913\u001b[0m     \u001b[38;5;28mself\u001b[39m,\n",
      "\u001b[1;32m    914\u001b[0m     cast_to: Type[ResponseT],\n",
      "\u001b[0;32m   (...)\u001b[0m\n",
      "\u001b[1;32m    919\u001b[0m     stream_cls: \u001b[38;5;28mtype\u001b[39m[_StreamT] \u001b[38;5;241m|\u001b[39m \u001b[38;5;28;01mNone\u001b[39;00m \u001b[38;5;241m=\u001b[39m \u001b[38;5;28;01mNone\u001b[39;00m,\n",
      "\u001b[1;32m    920\u001b[0m ) \u001b[38;5;241m-\u001b[39m\u001b[38;5;241m>\u001b[39m ResponseT \u001b[38;5;241m|\u001b[39m _StreamT:\n",
      "\u001b[0;32m--> 921\u001b[0m     \u001b[38;5;28;01mreturn\u001b[39;00m \u001b[38;5;28;43mself\u001b[39;49m\u001b[38;5;241;43m.\u001b[39;49m\u001b[43m_request\u001b[49m\u001b[43m(\u001b[49m\n",
      "\u001b[1;32m    922\u001b[0m \u001b[43m        \u001b[49m\u001b[43mcast_to\u001b[49m\u001b[38;5;241;43m=\u001b[39;49m\u001b[43mcast_to\u001b[49m\u001b[43m,\u001b[49m\n",
      "\u001b[1;32m    923\u001b[0m \u001b[43m        \u001b[49m\u001b[43moptions\u001b[49m\u001b[38;5;241;43m=\u001b[39;49m\u001b[43moptions\u001b[49m\u001b[43m,\u001b[49m\n",
      "\u001b[1;32m    924\u001b[0m \u001b[43m        \u001b[49m\u001b[43mstream\u001b[49m\u001b[38;5;241;43m=\u001b[39;49m\u001b[43mstream\u001b[49m\u001b[43m,\u001b[49m\n",
      "\u001b[1;32m    925\u001b[0m \u001b[43m        \u001b[49m\u001b[43mstream_cls\u001b[49m\u001b[38;5;241;43m=\u001b[39;49m\u001b[43mstream_cls\u001b[49m\u001b[43m,\u001b[49m\n",
      "\u001b[1;32m    926\u001b[0m \u001b[43m        \u001b[49m\u001b[43mremaining_retries\u001b[49m\u001b[38;5;241;43m=\u001b[39;49m\u001b[43mremaining_retries\u001b[49m\u001b[43m,\u001b[49m\n",
      "\u001b[1;32m    927\u001b[0m \u001b[43m    \u001b[49m\u001b[43m)\u001b[49m\n",
      "\n",
      "File \u001b[0;32m~/.cache/pypoetry/virtualenvs/taic-report-engine-vkGeZcZ8-py3.11/lib/python3.11/site-packages/openai/_base_client.py:950\u001b[0m, in \u001b[0;36mSyncAPIClient._request\u001b[0;34m(self, cast_to, options, remaining_retries, stream, stream_cls)\u001b[0m\n",
      "\u001b[1;32m    947\u001b[0m     kwargs[\u001b[38;5;124m\"\u001b[39m\u001b[38;5;124mauth\u001b[39m\u001b[38;5;124m\"\u001b[39m] \u001b[38;5;241m=\u001b[39m \u001b[38;5;28mself\u001b[39m\u001b[38;5;241m.\u001b[39mcustom_auth\n",
      "\u001b[1;32m    949\u001b[0m \u001b[38;5;28;01mtry\u001b[39;00m:\n",
      "\u001b[0;32m--> 950\u001b[0m     response \u001b[38;5;241m=\u001b[39m \u001b[38;5;28;43mself\u001b[39;49m\u001b[38;5;241;43m.\u001b[39;49m\u001b[43m_client\u001b[49m\u001b[38;5;241;43m.\u001b[39;49m\u001b[43msend\u001b[49m\u001b[43m(\u001b[49m\n",
      "\u001b[1;32m    951\u001b[0m \u001b[43m        \u001b[49m\u001b[43mrequest\u001b[49m\u001b[43m,\u001b[49m\n",
      "\u001b[1;32m    952\u001b[0m \u001b[43m        \u001b[49m\u001b[43mstream\u001b[49m\u001b[38;5;241;43m=\u001b[39;49m\u001b[43mstream\u001b[49m\u001b[43m \u001b[49m\u001b[38;5;129;43;01mor\u001b[39;49;00m\u001b[43m \u001b[49m\u001b[38;5;28;43mself\u001b[39;49m\u001b[38;5;241;43m.\u001b[39;49m\u001b[43m_should_stream_response_body\u001b[49m\u001b[43m(\u001b[49m\u001b[43mrequest\u001b[49m\u001b[38;5;241;43m=\u001b[39;49m\u001b[43mrequest\u001b[49m\u001b[43m)\u001b[49m\u001b[43m,\u001b[49m\n",
      "\u001b[1;32m    953\u001b[0m \u001b[43m        \u001b[49m\u001b[38;5;241;43m*\u001b[39;49m\u001b[38;5;241;43m*\u001b[39;49m\u001b[43mkwargs\u001b[49m\u001b[43m,\u001b[49m\n",
      "\u001b[1;32m    954\u001b[0m \u001b[43m    \u001b[49m\u001b[43m)\u001b[49m\n",
      "\u001b[1;32m    955\u001b[0m \u001b[38;5;28;01mexcept\u001b[39;00m httpx\u001b[38;5;241m.\u001b[39mTimeoutException \u001b[38;5;28;01mas\u001b[39;00m err:\n",
      "\u001b[1;32m    956\u001b[0m     log\u001b[38;5;241m.\u001b[39mdebug(\u001b[38;5;124m\"\u001b[39m\u001b[38;5;124mEncountered httpx.TimeoutException\u001b[39m\u001b[38;5;124m\"\u001b[39m, exc_info\u001b[38;5;241m=\u001b[39m\u001b[38;5;28;01mTrue\u001b[39;00m)\n",
      "\n",
      "File \u001b[0;32m~/.cache/pypoetry/virtualenvs/taic-report-engine-vkGeZcZ8-py3.11/lib/python3.11/site-packages/httpx/_client.py:914\u001b[0m, in \u001b[0;36mClient.send\u001b[0;34m(self, request, stream, auth, follow_redirects)\u001b[0m\n",
      "\u001b[1;32m    906\u001b[0m follow_redirects \u001b[38;5;241m=\u001b[39m (\n",
      "\u001b[1;32m    907\u001b[0m     \u001b[38;5;28mself\u001b[39m\u001b[38;5;241m.\u001b[39mfollow_redirects\n",
      "\u001b[1;32m    908\u001b[0m     \u001b[38;5;28;01mif\u001b[39;00m \u001b[38;5;28misinstance\u001b[39m(follow_redirects, UseClientDefault)\n",
      "\u001b[1;32m    909\u001b[0m     \u001b[38;5;28;01melse\u001b[39;00m follow_redirects\n",
      "\u001b[1;32m    910\u001b[0m )\n",
      "\u001b[1;32m    912\u001b[0m auth \u001b[38;5;241m=\u001b[39m \u001b[38;5;28mself\u001b[39m\u001b[38;5;241m.\u001b[39m_build_request_auth(request, auth)\n",
      "\u001b[0;32m--> 914\u001b[0m response \u001b[38;5;241m=\u001b[39m \u001b[38;5;28;43mself\u001b[39;49m\u001b[38;5;241;43m.\u001b[39;49m\u001b[43m_send_handling_auth\u001b[49m\u001b[43m(\u001b[49m\n",
      "\u001b[1;32m    915\u001b[0m \u001b[43m    \u001b[49m\u001b[43mrequest\u001b[49m\u001b[43m,\u001b[49m\n",
      "\u001b[1;32m    916\u001b[0m \u001b[43m    \u001b[49m\u001b[43mauth\u001b[49m\u001b[38;5;241;43m=\u001b[39;49m\u001b[43mauth\u001b[49m\u001b[43m,\u001b[49m\n",
      "\u001b[1;32m    917\u001b[0m \u001b[43m    \u001b[49m\u001b[43mfollow_redirects\u001b[49m\u001b[38;5;241;43m=\u001b[39;49m\u001b[43mfollow_redirects\u001b[49m\u001b[43m,\u001b[49m\n",
      "\u001b[1;32m    918\u001b[0m \u001b[43m    \u001b[49m\u001b[43mhistory\u001b[49m\u001b[38;5;241;43m=\u001b[39;49m\u001b[43m[\u001b[49m\u001b[43m]\u001b[49m\u001b[43m,\u001b[49m\n",
      "\u001b[1;32m    919\u001b[0m \u001b[43m\u001b[49m\u001b[43m)\u001b[49m\n",
      "\u001b[1;32m    920\u001b[0m \u001b[38;5;28;01mtry\u001b[39;00m:\n",
      "\u001b[1;32m    921\u001b[0m     \u001b[38;5;28;01mif\u001b[39;00m \u001b[38;5;129;01mnot\u001b[39;00m stream:\n",
      "\n",
      "File \u001b[0;32m~/.cache/pypoetry/virtualenvs/taic-report-engine-vkGeZcZ8-py3.11/lib/python3.11/site-packages/httpx/_client.py:942\u001b[0m, in \u001b[0;36mClient._send_handling_auth\u001b[0;34m(self, request, auth, follow_redirects, history)\u001b[0m\n",
      "\u001b[1;32m    939\u001b[0m request \u001b[38;5;241m=\u001b[39m \u001b[38;5;28mnext\u001b[39m(auth_flow)\n",
      "\u001b[1;32m    941\u001b[0m \u001b[38;5;28;01mwhile\u001b[39;00m \u001b[38;5;28;01mTrue\u001b[39;00m:\n",
      "\u001b[0;32m--> 942\u001b[0m     response \u001b[38;5;241m=\u001b[39m \u001b[38;5;28;43mself\u001b[39;49m\u001b[38;5;241;43m.\u001b[39;49m\u001b[43m_send_handling_redirects\u001b[49m\u001b[43m(\u001b[49m\n",
      "\u001b[1;32m    943\u001b[0m \u001b[43m        \u001b[49m\u001b[43mrequest\u001b[49m\u001b[43m,\u001b[49m\n",
      "\u001b[1;32m    944\u001b[0m \u001b[43m        \u001b[49m\u001b[43mfollow_redirects\u001b[49m\u001b[38;5;241;43m=\u001b[39;49m\u001b[43mfollow_redirects\u001b[49m\u001b[43m,\u001b[49m\n",
      "\u001b[1;32m    945\u001b[0m \u001b[43m        \u001b[49m\u001b[43mhistory\u001b[49m\u001b[38;5;241;43m=\u001b[39;49m\u001b[43mhistory\u001b[49m\u001b[43m,\u001b[49m\n",
      "\u001b[1;32m    946\u001b[0m \u001b[43m    \u001b[49m\u001b[43m)\u001b[49m\n",
      "\u001b[1;32m    947\u001b[0m     \u001b[38;5;28;01mtry\u001b[39;00m:\n",
      "\u001b[1;32m    948\u001b[0m         \u001b[38;5;28;01mtry\u001b[39;00m:\n",
      "\n",
      "File \u001b[0;32m~/.cache/pypoetry/virtualenvs/taic-report-engine-vkGeZcZ8-py3.11/lib/python3.11/site-packages/httpx/_client.py:979\u001b[0m, in \u001b[0;36mClient._send_handling_redirects\u001b[0;34m(self, request, follow_redirects, history)\u001b[0m\n",
      "\u001b[1;32m    976\u001b[0m \u001b[38;5;28;01mfor\u001b[39;00m hook \u001b[38;5;129;01min\u001b[39;00m \u001b[38;5;28mself\u001b[39m\u001b[38;5;241m.\u001b[39m_event_hooks[\u001b[38;5;124m\"\u001b[39m\u001b[38;5;124mrequest\u001b[39m\u001b[38;5;124m\"\u001b[39m]:\n",
      "\u001b[1;32m    977\u001b[0m     hook(request)\n",
      "\u001b[0;32m--> 979\u001b[0m response \u001b[38;5;241m=\u001b[39m \u001b[38;5;28;43mself\u001b[39;49m\u001b[38;5;241;43m.\u001b[39;49m\u001b[43m_send_single_request\u001b[49m\u001b[43m(\u001b[49m\u001b[43mrequest\u001b[49m\u001b[43m)\u001b[49m\n",
      "\u001b[1;32m    980\u001b[0m \u001b[38;5;28;01mtry\u001b[39;00m:\n",
      "\u001b[1;32m    981\u001b[0m     \u001b[38;5;28;01mfor\u001b[39;00m hook \u001b[38;5;129;01min\u001b[39;00m \u001b[38;5;28mself\u001b[39m\u001b[38;5;241m.\u001b[39m_event_hooks[\u001b[38;5;124m\"\u001b[39m\u001b[38;5;124mresponse\u001b[39m\u001b[38;5;124m\"\u001b[39m]:\n",
      "\n",
      "File \u001b[0;32m~/.cache/pypoetry/virtualenvs/taic-report-engine-vkGeZcZ8-py3.11/lib/python3.11/site-packages/httpx/_client.py:1015\u001b[0m, in \u001b[0;36mClient._send_single_request\u001b[0;34m(self, request)\u001b[0m\n",
      "\u001b[1;32m   1010\u001b[0m     \u001b[38;5;28;01mraise\u001b[39;00m \u001b[38;5;167;01mRuntimeError\u001b[39;00m(\n",
      "\u001b[1;32m   1011\u001b[0m         \u001b[38;5;124m\"\u001b[39m\u001b[38;5;124mAttempted to send an async request with a sync Client instance.\u001b[39m\u001b[38;5;124m\"\u001b[39m\n",
      "\u001b[1;32m   1012\u001b[0m     )\n",
      "\u001b[1;32m   1014\u001b[0m \u001b[38;5;28;01mwith\u001b[39;00m request_context(request\u001b[38;5;241m=\u001b[39mrequest):\n",
      "\u001b[0;32m-> 1015\u001b[0m     response \u001b[38;5;241m=\u001b[39m \u001b[43mtransport\u001b[49m\u001b[38;5;241;43m.\u001b[39;49m\u001b[43mhandle_request\u001b[49m\u001b[43m(\u001b[49m\u001b[43mrequest\u001b[49m\u001b[43m)\u001b[49m\n",
      "\u001b[1;32m   1017\u001b[0m \u001b[38;5;28;01massert\u001b[39;00m \u001b[38;5;28misinstance\u001b[39m(response\u001b[38;5;241m.\u001b[39mstream, SyncByteStream)\n",
      "\u001b[1;32m   1019\u001b[0m response\u001b[38;5;241m.\u001b[39mrequest \u001b[38;5;241m=\u001b[39m request\n",
      "\n",
      "File \u001b[0;32m~/.cache/pypoetry/virtualenvs/taic-report-engine-vkGeZcZ8-py3.11/lib/python3.11/site-packages/httpx/_transports/default.py:233\u001b[0m, in \u001b[0;36mHTTPTransport.handle_request\u001b[0;34m(self, request)\u001b[0m\n",
      "\u001b[1;32m    220\u001b[0m req \u001b[38;5;241m=\u001b[39m httpcore\u001b[38;5;241m.\u001b[39mRequest(\n",
      "\u001b[1;32m    221\u001b[0m     method\u001b[38;5;241m=\u001b[39mrequest\u001b[38;5;241m.\u001b[39mmethod,\n",
      "\u001b[1;32m    222\u001b[0m     url\u001b[38;5;241m=\u001b[39mhttpcore\u001b[38;5;241m.\u001b[39mURL(\n",
      "\u001b[0;32m   (...)\u001b[0m\n",
      "\u001b[1;32m    230\u001b[0m     extensions\u001b[38;5;241m=\u001b[39mrequest\u001b[38;5;241m.\u001b[39mextensions,\n",
      "\u001b[1;32m    231\u001b[0m )\n",
      "\u001b[1;32m    232\u001b[0m \u001b[38;5;28;01mwith\u001b[39;00m map_httpcore_exceptions():\n",
      "\u001b[0;32m--> 233\u001b[0m     resp \u001b[38;5;241m=\u001b[39m \u001b[38;5;28;43mself\u001b[39;49m\u001b[38;5;241;43m.\u001b[39;49m\u001b[43m_pool\u001b[49m\u001b[38;5;241;43m.\u001b[39;49m\u001b[43mhandle_request\u001b[49m\u001b[43m(\u001b[49m\u001b[43mreq\u001b[49m\u001b[43m)\u001b[49m\n",
      "\u001b[1;32m    235\u001b[0m \u001b[38;5;28;01massert\u001b[39;00m \u001b[38;5;28misinstance\u001b[39m(resp\u001b[38;5;241m.\u001b[39mstream, typing\u001b[38;5;241m.\u001b[39mIterable)\n",
      "\u001b[1;32m    237\u001b[0m \u001b[38;5;28;01mreturn\u001b[39;00m Response(\n",
      "\u001b[1;32m    238\u001b[0m     status_code\u001b[38;5;241m=\u001b[39mresp\u001b[38;5;241m.\u001b[39mstatus,\n",
      "\u001b[1;32m    239\u001b[0m     headers\u001b[38;5;241m=\u001b[39mresp\u001b[38;5;241m.\u001b[39mheaders,\n",
      "\u001b[1;32m    240\u001b[0m     stream\u001b[38;5;241m=\u001b[39mResponseStream(resp\u001b[38;5;241m.\u001b[39mstream),\n",
      "\u001b[1;32m    241\u001b[0m     extensions\u001b[38;5;241m=\u001b[39mresp\u001b[38;5;241m.\u001b[39mextensions,\n",
      "\u001b[1;32m    242\u001b[0m )\n",
      "\n",
      "File \u001b[0;32m~/.cache/pypoetry/virtualenvs/taic-report-engine-vkGeZcZ8-py3.11/lib/python3.11/site-packages/httpcore/_sync/connection_pool.py:216\u001b[0m, in \u001b[0;36mConnectionPool.handle_request\u001b[0;34m(self, request)\u001b[0m\n",
      "\u001b[1;32m    213\u001b[0m         closing \u001b[38;5;241m=\u001b[39m \u001b[38;5;28mself\u001b[39m\u001b[38;5;241m.\u001b[39m_assign_requests_to_connections()\n",
      "\u001b[1;32m    215\u001b[0m     \u001b[38;5;28mself\u001b[39m\u001b[38;5;241m.\u001b[39m_close_connections(closing)\n",
      "\u001b[0;32m--> 216\u001b[0m     \u001b[38;5;28;01mraise\u001b[39;00m exc \u001b[38;5;28;01mfrom\u001b[39;00m \u001b[38;5;28;01mNone\u001b[39;00m\n",
      "\u001b[1;32m    218\u001b[0m \u001b[38;5;66;03m# Return the response. Note that in this case we still have to manage\u001b[39;00m\n",
      "\u001b[1;32m    219\u001b[0m \u001b[38;5;66;03m# the point at which the response is closed.\u001b[39;00m\n",
      "\u001b[1;32m    220\u001b[0m \u001b[38;5;28;01massert\u001b[39;00m \u001b[38;5;28misinstance\u001b[39m(response\u001b[38;5;241m.\u001b[39mstream, Iterable)\n",
      "\n",
      "File \u001b[0;32m~/.cache/pypoetry/virtualenvs/taic-report-engine-vkGeZcZ8-py3.11/lib/python3.11/site-packages/httpcore/_sync/connection_pool.py:196\u001b[0m, in \u001b[0;36mConnectionPool.handle_request\u001b[0;34m(self, request)\u001b[0m\n",
      "\u001b[1;32m    192\u001b[0m connection \u001b[38;5;241m=\u001b[39m pool_request\u001b[38;5;241m.\u001b[39mwait_for_connection(timeout\u001b[38;5;241m=\u001b[39mtimeout)\n",
      "\u001b[1;32m    194\u001b[0m \u001b[38;5;28;01mtry\u001b[39;00m:\n",
      "\u001b[1;32m    195\u001b[0m     \u001b[38;5;66;03m# Send the request on the assigned connection.\u001b[39;00m\n",
      "\u001b[0;32m--> 196\u001b[0m     response \u001b[38;5;241m=\u001b[39m \u001b[43mconnection\u001b[49m\u001b[38;5;241;43m.\u001b[39;49m\u001b[43mhandle_request\u001b[49m\u001b[43m(\u001b[49m\n",
      "\u001b[1;32m    197\u001b[0m \u001b[43m        \u001b[49m\u001b[43mpool_request\u001b[49m\u001b[38;5;241;43m.\u001b[39;49m\u001b[43mrequest\u001b[49m\n",
      "\u001b[1;32m    198\u001b[0m \u001b[43m    \u001b[49m\u001b[43m)\u001b[49m\n",
      "\u001b[1;32m    199\u001b[0m \u001b[38;5;28;01mexcept\u001b[39;00m ConnectionNotAvailable:\n",
      "\u001b[1;32m    200\u001b[0m     \u001b[38;5;66;03m# In some cases a connection may initially be available to\u001b[39;00m\n",
      "\u001b[1;32m    201\u001b[0m     \u001b[38;5;66;03m# handle a request, but then become unavailable.\u001b[39;00m\n",
      "\u001b[1;32m    202\u001b[0m     \u001b[38;5;66;03m#\u001b[39;00m\n",
      "\u001b[1;32m    203\u001b[0m     \u001b[38;5;66;03m# In this case we clear the connection and try again.\u001b[39;00m\n",
      "\u001b[1;32m    204\u001b[0m     pool_request\u001b[38;5;241m.\u001b[39mclear_connection()\n",
      "\n",
      "File \u001b[0;32m~/.cache/pypoetry/virtualenvs/taic-report-engine-vkGeZcZ8-py3.11/lib/python3.11/site-packages/httpcore/_sync/connection.py:101\u001b[0m, in \u001b[0;36mHTTPConnection.handle_request\u001b[0;34m(self, request)\u001b[0m\n",
      "\u001b[1;32m     98\u001b[0m     \u001b[38;5;28mself\u001b[39m\u001b[38;5;241m.\u001b[39m_connect_failed \u001b[38;5;241m=\u001b[39m \u001b[38;5;28;01mTrue\u001b[39;00m\n",
      "\u001b[1;32m     99\u001b[0m     \u001b[38;5;28;01mraise\u001b[39;00m exc\n",
      "\u001b[0;32m--> 101\u001b[0m \u001b[38;5;28;01mreturn\u001b[39;00m \u001b[38;5;28;43mself\u001b[39;49m\u001b[38;5;241;43m.\u001b[39;49m\u001b[43m_connection\u001b[49m\u001b[38;5;241;43m.\u001b[39;49m\u001b[43mhandle_request\u001b[49m\u001b[43m(\u001b[49m\u001b[43mrequest\u001b[49m\u001b[43m)\u001b[49m\n",
      "\n",
      "File \u001b[0;32m~/.cache/pypoetry/virtualenvs/taic-report-engine-vkGeZcZ8-py3.11/lib/python3.11/site-packages/httpcore/_sync/http11.py:143\u001b[0m, in \u001b[0;36mHTTP11Connection.handle_request\u001b[0;34m(self, request)\u001b[0m\n",
      "\u001b[1;32m    141\u001b[0m     \u001b[38;5;28;01mwith\u001b[39;00m Trace(\u001b[38;5;124m\"\u001b[39m\u001b[38;5;124mresponse_closed\u001b[39m\u001b[38;5;124m\"\u001b[39m, logger, request) \u001b[38;5;28;01mas\u001b[39;00m trace:\n",
      "\u001b[1;32m    142\u001b[0m         \u001b[38;5;28mself\u001b[39m\u001b[38;5;241m.\u001b[39m_response_closed()\n",
      "\u001b[0;32m--> 143\u001b[0m \u001b[38;5;28;01mraise\u001b[39;00m exc\n",
      "\n",
      "File \u001b[0;32m~/.cache/pypoetry/virtualenvs/taic-report-engine-vkGeZcZ8-py3.11/lib/python3.11/site-packages/httpcore/_sync/http11.py:113\u001b[0m, in \u001b[0;36mHTTP11Connection.handle_request\u001b[0;34m(self, request)\u001b[0m\n",
      "\u001b[1;32m    102\u001b[0m     \u001b[38;5;28;01mpass\u001b[39;00m\n",
      "\u001b[1;32m    104\u001b[0m \u001b[38;5;28;01mwith\u001b[39;00m Trace(\n",
      "\u001b[1;32m    105\u001b[0m     \u001b[38;5;124m\"\u001b[39m\u001b[38;5;124mreceive_response_headers\u001b[39m\u001b[38;5;124m\"\u001b[39m, logger, request, kwargs\n",
      "\u001b[1;32m    106\u001b[0m ) \u001b[38;5;28;01mas\u001b[39;00m trace:\n",
      "\u001b[1;32m    107\u001b[0m     (\n",
      "\u001b[1;32m    108\u001b[0m         http_version,\n",
      "\u001b[1;32m    109\u001b[0m         status,\n",
      "\u001b[1;32m    110\u001b[0m         reason_phrase,\n",
      "\u001b[1;32m    111\u001b[0m         headers,\n",
      "\u001b[1;32m    112\u001b[0m         trailing_data,\n",
      "\u001b[0;32m--> 113\u001b[0m     ) \u001b[38;5;241m=\u001b[39m \u001b[38;5;28;43mself\u001b[39;49m\u001b[38;5;241;43m.\u001b[39;49m\u001b[43m_receive_response_headers\u001b[49m\u001b[43m(\u001b[49m\u001b[38;5;241;43m*\u001b[39;49m\u001b[38;5;241;43m*\u001b[39;49m\u001b[43mkwargs\u001b[49m\u001b[43m)\u001b[49m\n",
      "\u001b[1;32m    114\u001b[0m     trace\u001b[38;5;241m.\u001b[39mreturn_value \u001b[38;5;241m=\u001b[39m (\n",
      "\u001b[1;32m    115\u001b[0m         http_version,\n",
      "\u001b[1;32m    116\u001b[0m         status,\n",
      "\u001b[1;32m    117\u001b[0m         reason_phrase,\n",
      "\u001b[1;32m    118\u001b[0m         headers,\n",
      "\u001b[1;32m    119\u001b[0m     )\n",
      "\u001b[1;32m    121\u001b[0m network_stream \u001b[38;5;241m=\u001b[39m \u001b[38;5;28mself\u001b[39m\u001b[38;5;241m.\u001b[39m_network_stream\n",
      "\n",
      "File \u001b[0;32m~/.cache/pypoetry/virtualenvs/taic-report-engine-vkGeZcZ8-py3.11/lib/python3.11/site-packages/httpcore/_sync/http11.py:186\u001b[0m, in \u001b[0;36mHTTP11Connection._receive_response_headers\u001b[0;34m(self, request)\u001b[0m\n",
      "\u001b[1;32m    183\u001b[0m timeout \u001b[38;5;241m=\u001b[39m timeouts\u001b[38;5;241m.\u001b[39mget(\u001b[38;5;124m\"\u001b[39m\u001b[38;5;124mread\u001b[39m\u001b[38;5;124m\"\u001b[39m, \u001b[38;5;28;01mNone\u001b[39;00m)\n",
      "\u001b[1;32m    185\u001b[0m \u001b[38;5;28;01mwhile\u001b[39;00m \u001b[38;5;28;01mTrue\u001b[39;00m:\n",
      "\u001b[0;32m--> 186\u001b[0m     event \u001b[38;5;241m=\u001b[39m \u001b[38;5;28;43mself\u001b[39;49m\u001b[38;5;241;43m.\u001b[39;49m\u001b[43m_receive_event\u001b[49m\u001b[43m(\u001b[49m\u001b[43mtimeout\u001b[49m\u001b[38;5;241;43m=\u001b[39;49m\u001b[43mtimeout\u001b[49m\u001b[43m)\u001b[49m\n",
      "\u001b[1;32m    187\u001b[0m     \u001b[38;5;28;01mif\u001b[39;00m \u001b[38;5;28misinstance\u001b[39m(event, h11\u001b[38;5;241m.\u001b[39mResponse):\n",
      "\u001b[1;32m    188\u001b[0m         \u001b[38;5;28;01mbreak\u001b[39;00m\n",
      "\n",
      "File \u001b[0;32m~/.cache/pypoetry/virtualenvs/taic-report-engine-vkGeZcZ8-py3.11/lib/python3.11/site-packages/httpcore/_sync/http11.py:224\u001b[0m, in \u001b[0;36mHTTP11Connection._receive_event\u001b[0;34m(self, timeout)\u001b[0m\n",
      "\u001b[1;32m    221\u001b[0m     event \u001b[38;5;241m=\u001b[39m \u001b[38;5;28mself\u001b[39m\u001b[38;5;241m.\u001b[39m_h11_state\u001b[38;5;241m.\u001b[39mnext_event()\n",
      "\u001b[1;32m    223\u001b[0m \u001b[38;5;28;01mif\u001b[39;00m event \u001b[38;5;129;01mis\u001b[39;00m h11\u001b[38;5;241m.\u001b[39mNEED_DATA:\n",
      "\u001b[0;32m--> 224\u001b[0m     data \u001b[38;5;241m=\u001b[39m \u001b[38;5;28;43mself\u001b[39;49m\u001b[38;5;241;43m.\u001b[39;49m\u001b[43m_network_stream\u001b[49m\u001b[38;5;241;43m.\u001b[39;49m\u001b[43mread\u001b[49m\u001b[43m(\u001b[49m\n",
      "\u001b[1;32m    225\u001b[0m \u001b[43m        \u001b[49m\u001b[38;5;28;43mself\u001b[39;49m\u001b[38;5;241;43m.\u001b[39;49m\u001b[43mREAD_NUM_BYTES\u001b[49m\u001b[43m,\u001b[49m\u001b[43m \u001b[49m\u001b[43mtimeout\u001b[49m\u001b[38;5;241;43m=\u001b[39;49m\u001b[43mtimeout\u001b[49m\n",
      "\u001b[1;32m    226\u001b[0m \u001b[43m    \u001b[49m\u001b[43m)\u001b[49m\n",
      "\u001b[1;32m    228\u001b[0m     \u001b[38;5;66;03m# If we feed this case through h11 we'll raise an exception like:\u001b[39;00m\n",
      "\u001b[1;32m    229\u001b[0m     \u001b[38;5;66;03m#\u001b[39;00m\n",
      "\u001b[1;32m    230\u001b[0m     \u001b[38;5;66;03m#     httpcore.RemoteProtocolError: can't handle event type\u001b[39;00m\n",
      "\u001b[0;32m   (...)\u001b[0m\n",
      "\u001b[1;32m    234\u001b[0m     \u001b[38;5;66;03m# perspective. Instead we handle this case distinctly and treat\u001b[39;00m\n",
      "\u001b[1;32m    235\u001b[0m     \u001b[38;5;66;03m# it as a ConnectError.\u001b[39;00m\n",
      "\u001b[1;32m    236\u001b[0m     \u001b[38;5;28;01mif\u001b[39;00m data \u001b[38;5;241m==\u001b[39m \u001b[38;5;124mb\u001b[39m\u001b[38;5;124m\"\u001b[39m\u001b[38;5;124m\"\u001b[39m \u001b[38;5;129;01mand\u001b[39;00m \u001b[38;5;28mself\u001b[39m\u001b[38;5;241m.\u001b[39m_h11_state\u001b[38;5;241m.\u001b[39mtheir_state \u001b[38;5;241m==\u001b[39m h11\u001b[38;5;241m.\u001b[39mSEND_RESPONSE:\n",
      "\n",
      "File \u001b[0;32m~/.cache/pypoetry/virtualenvs/taic-report-engine-vkGeZcZ8-py3.11/lib/python3.11/site-packages/httpcore/_backends/sync.py:126\u001b[0m, in \u001b[0;36mSyncStream.read\u001b[0;34m(self, max_bytes, timeout)\u001b[0m\n",
      "\u001b[1;32m    124\u001b[0m \u001b[38;5;28;01mwith\u001b[39;00m map_exceptions(exc_map):\n",
      "\u001b[1;32m    125\u001b[0m     \u001b[38;5;28mself\u001b[39m\u001b[38;5;241m.\u001b[39m_sock\u001b[38;5;241m.\u001b[39msettimeout(timeout)\n",
      "\u001b[0;32m--> 126\u001b[0m     \u001b[38;5;28;01mreturn\u001b[39;00m \u001b[38;5;28;43mself\u001b[39;49m\u001b[38;5;241;43m.\u001b[39;49m\u001b[43m_sock\u001b[49m\u001b[38;5;241;43m.\u001b[39;49m\u001b[43mrecv\u001b[49m\u001b[43m(\u001b[49m\u001b[43mmax_bytes\u001b[49m\u001b[43m)\u001b[49m\n",
      "\n",
      "File \u001b[0;32m~/miniconda3/lib/python3.11/ssl.py:1296\u001b[0m, in \u001b[0;36mSSLSocket.recv\u001b[0;34m(self, buflen, flags)\u001b[0m\n",
      "\u001b[1;32m   1292\u001b[0m     \u001b[38;5;28;01mif\u001b[39;00m flags \u001b[38;5;241m!=\u001b[39m \u001b[38;5;241m0\u001b[39m:\n",
      "\u001b[1;32m   1293\u001b[0m         \u001b[38;5;28;01mraise\u001b[39;00m \u001b[38;5;167;01mValueError\u001b[39;00m(\n",
      "\u001b[1;32m   1294\u001b[0m             \u001b[38;5;124m\"\u001b[39m\u001b[38;5;124mnon-zero flags not allowed in calls to recv() on \u001b[39m\u001b[38;5;132;01m%s\u001b[39;00m\u001b[38;5;124m\"\u001b[39m \u001b[38;5;241m%\u001b[39m\n",
      "\u001b[1;32m   1295\u001b[0m             \u001b[38;5;28mself\u001b[39m\u001b[38;5;241m.\u001b[39m\u001b[38;5;18m__class__\u001b[39m)\n",
      "\u001b[0;32m-> 1296\u001b[0m     \u001b[38;5;28;01mreturn\u001b[39;00m \u001b[38;5;28;43mself\u001b[39;49m\u001b[38;5;241;43m.\u001b[39;49m\u001b[43mread\u001b[49m\u001b[43m(\u001b[49m\u001b[43mbuflen\u001b[49m\u001b[43m)\u001b[49m\n",
      "\u001b[1;32m   1297\u001b[0m \u001b[38;5;28;01melse\u001b[39;00m:\n",
      "\u001b[1;32m   1298\u001b[0m     \u001b[38;5;28;01mreturn\u001b[39;00m \u001b[38;5;28msuper\u001b[39m()\u001b[38;5;241m.\u001b[39mrecv(buflen, flags)\n",
      "\n",
      "File \u001b[0;32m~/miniconda3/lib/python3.11/ssl.py:1169\u001b[0m, in \u001b[0;36mSSLSocket.read\u001b[0;34m(self, len, buffer)\u001b[0m\n",
      "\u001b[1;32m   1167\u001b[0m         \u001b[38;5;28;01mreturn\u001b[39;00m \u001b[38;5;28mself\u001b[39m\u001b[38;5;241m.\u001b[39m_sslobj\u001b[38;5;241m.\u001b[39mread(\u001b[38;5;28mlen\u001b[39m, buffer)\n",
      "\u001b[1;32m   1168\u001b[0m     \u001b[38;5;28;01melse\u001b[39;00m:\n",
      "\u001b[0;32m-> 1169\u001b[0m         \u001b[38;5;28;01mreturn\u001b[39;00m \u001b[38;5;28;43mself\u001b[39;49m\u001b[38;5;241;43m.\u001b[39;49m\u001b[43m_sslobj\u001b[49m\u001b[38;5;241;43m.\u001b[39;49m\u001b[43mread\u001b[49m\u001b[43m(\u001b[49m\u001b[38;5;28;43mlen\u001b[39;49m\u001b[43m)\u001b[49m\n",
      "\u001b[1;32m   1170\u001b[0m \u001b[38;5;28;01mexcept\u001b[39;00m SSLError \u001b[38;5;28;01mas\u001b[39;00m x:\n",
      "\u001b[1;32m   1171\u001b[0m     \u001b[38;5;28;01mif\u001b[39;00m x\u001b[38;5;241m.\u001b[39margs[\u001b[38;5;241m0\u001b[39m] \u001b[38;5;241m==\u001b[39m SSL_ERROR_EOF \u001b[38;5;129;01mand\u001b[39;00m \u001b[38;5;28mself\u001b[39m\u001b[38;5;241m.\u001b[39msuppress_ragged_eofs:\n",
      "\n",
      "\u001b[0;31mKeyboardInterrupt\u001b[0m: "
     ]
    }
   ],
   "source": [
    "potential_group_model = appropriate_counts_df.loc[[0,23,42],]\n",
    "\n",
    "print(potential_group_model.columns)\n",
    "\n",
    "potential_group_model.apply(\n",
    "    lambda row:\n",
    "    row['group_model'].update_topics(\n",
    "        row['group_df']['si'].to_list(),\n",
    "        representation_model = openai_base_representation_model\n",
    "    ),\n",
    "    axis=1\n",
    ")\n"
   ]
  },
  {
   "cell_type": "code",
   "execution_count": null,
   "metadata": {},
   "outputs": [
    {
     "data": {
      "text/html": [
       "<div>\n",
       "<style scoped>\n",
       "    .dataframe tbody tr th:only-of-type {\n",
       "        vertical-align: middle;\n",
       "    }\n",
       "\n",
       "    .dataframe tbody tr th {\n",
       "        vertical-align: top;\n",
       "    }\n",
       "\n",
       "    .dataframe thead th {\n",
       "        text-align: right;\n",
       "    }\n",
       "</style>\n",
       "<table border=\"1\" class=\"dataframe\">\n",
       "  <thead>\n",
       "    <tr style=\"text-align: right;\">\n",
       "      <th></th>\n",
       "      <th>Topic</th>\n",
       "      <th>Count</th>\n",
       "      <th>Name</th>\n",
       "      <th>Representation</th>\n",
       "      <th>Representative_Docs</th>\n",
       "    </tr>\n",
       "  </thead>\n",
       "  <tbody>\n",
       "    <tr>\n",
       "      <th>0</th>\n",
       "      <td>0</td>\n",
       "      <td>70</td>\n",
       "      <td>0_Rail and Road Safety and Standards Compliance</td>\n",
       "      <td>[Rail and Road Safety and Standards Compliance]</td>\n",
       "      <td>[The Beach Road/ State Highway 1 intersection ...</td>\n",
       "    </tr>\n",
       "    <tr>\n",
       "      <th>1</th>\n",
       "      <td>1</td>\n",
       "      <td>60</td>\n",
       "      <td>1_Aviation and Maritime Safety and Compliance ...</td>\n",
       "      <td>[Aviation and Maritime Safety and Compliance I...</td>\n",
       "      <td>[The procedure for circling below the minimum ...</td>\n",
       "    </tr>\n",
       "    <tr>\n",
       "      <th>2</th>\n",
       "      <td>2</td>\n",
       "      <td>63</td>\n",
       "      <td>2_Maritime Safety and Navigation Management De...</td>\n",
       "      <td>[Maritime Safety and Navigation Management Def...</td>\n",
       "      <td>[The standard of bridge resource management on...</td>\n",
       "    </tr>\n",
       "    <tr>\n",
       "      <th>3</th>\n",
       "      <td>3</td>\n",
       "      <td>54</td>\n",
       "      <td>3_Safety and Regulatory Oversight in New Zeala...</td>\n",
       "      <td>[Safety and Regulatory Oversight in New Zealan...</td>\n",
       "      <td>[There was a low likelihood of the weather con...</td>\n",
       "    </tr>\n",
       "    <tr>\n",
       "      <th>4</th>\n",
       "      <td>4</td>\n",
       "      <td>50</td>\n",
       "      <td>4_Maritime Safety and Risk Management Deficien...</td>\n",
       "      <td>[Maritime Safety and Risk Management Deficienc...</td>\n",
       "      <td>[The plastic sheathing that had been placed ar...</td>\n",
       "    </tr>\n",
       "    <tr>\n",
       "      <th>5</th>\n",
       "      <td>5</td>\n",
       "      <td>36</td>\n",
       "      <td>5_Issues in KiwiRail's Work and Safety Managem...</td>\n",
       "      <td>[Issues in KiwiRail's Work and Safety Manageme...</td>\n",
       "      <td>[The New Zealand Rail Operating Rules and Proc...</td>\n",
       "    </tr>\n",
       "    <tr>\n",
       "      <th>6</th>\n",
       "      <td>6</td>\n",
       "      <td>51</td>\n",
       "      <td>6_Helicopter Flight Safety and Operating Chall...</td>\n",
       "      <td>[Helicopter Flight Safety and Operating Challe...</td>\n",
       "      <td>[Due to their unique main rotor design, during...</td>\n",
       "    </tr>\n",
       "    <tr>\n",
       "      <th>7</th>\n",
       "      <td>7</td>\n",
       "      <td>27</td>\n",
       "      <td>7_Challenges and Risks in Train Control Safety...</td>\n",
       "      <td>[Challenges and Risks in Train Control Safety ...</td>\n",
       "      <td>[The train controller made an assumption about...</td>\n",
       "    </tr>\n",
       "    <tr>\n",
       "      <th>8</th>\n",
       "      <td>8</td>\n",
       "      <td>30</td>\n",
       "      <td>8_Emergency Preparedness and Response in Trans...</td>\n",
       "      <td>[Emergency Preparedness and Response in Transp...</td>\n",
       "      <td>[There were as few as 4 approved lifejackets o...</td>\n",
       "    </tr>\n",
       "    <tr>\n",
       "      <th>9</th>\n",
       "      <td>9</td>\n",
       "      <td>28</td>\n",
       "      <td>9_Train Operation and Communication Safety Issues</td>\n",
       "      <td>[Train Operation and Communication Safety Issues]</td>\n",
       "      <td>[Lack of a suitable communication system betwe...</td>\n",
       "    </tr>\n",
       "    <tr>\n",
       "      <th>10</th>\n",
       "      <td>10</td>\n",
       "      <td>21</td>\n",
       "      <td>10_Aircraft Landing Gear Maintenance and Failu...</td>\n",
       "      <td>[Aircraft Landing Gear Maintenance and Failure...</td>\n",
       "      <td>[Had the pilots known that the nose landing ge...</td>\n",
       "    </tr>\n",
       "    <tr>\n",
       "      <th>11</th>\n",
       "      <td>11</td>\n",
       "      <td>23</td>\n",
       "      <td>11_Safety and Communication Issues in Wellingt...</td>\n",
       "      <td>[Safety and Communication Issues in Wellington...</td>\n",
       "      <td>[There is a heightened risk of trains collidin...</td>\n",
       "    </tr>\n",
       "    <tr>\n",
       "      <th>12</th>\n",
       "      <td>12</td>\n",
       "      <td>13</td>\n",
       "      <td>12_Aircraft Safety and Maintenance Issues</td>\n",
       "      <td>[Aircraft Safety and Maintenance Issues]</td>\n",
       "      <td>[The quality control and traceability of the s...</td>\n",
       "    </tr>\n",
       "    <tr>\n",
       "      <th>13</th>\n",
       "      <td>13</td>\n",
       "      <td>20</td>\n",
       "      <td>13_Maritime Safety and Compliance Issues in Ne...</td>\n",
       "      <td>[Maritime Safety and Compliance Issues in New ...</td>\n",
       "      <td>[Although the Easy Rider had been entered into...</td>\n",
       "    </tr>\n",
       "    <tr>\n",
       "      <th>14</th>\n",
       "      <td>14</td>\n",
       "      <td>14</td>\n",
       "      <td>14_Maintenance and Regulation Issues in CO2 Fi...</td>\n",
       "      <td>[Maintenance and Regulation Issues in CO2 Fire...</td>\n",
       "      <td>[A clear placard should be placed at the contr...</td>\n",
       "    </tr>\n",
       "  </tbody>\n",
       "</table>\n",
       "</div>"
      ],
      "text/plain": [
       "    Topic  Count                                               Name  \\\n",
       "0       0     70    0_Rail and Road Safety and Standards Compliance   \n",
       "1       1     60  1_Aviation and Maritime Safety and Compliance ...   \n",
       "2       2     63  2_Maritime Safety and Navigation Management De...   \n",
       "3       3     54  3_Safety and Regulatory Oversight in New Zeala...   \n",
       "4       4     50  4_Maritime Safety and Risk Management Deficien...   \n",
       "5       5     36  5_Issues in KiwiRail's Work and Safety Managem...   \n",
       "6       6     51  6_Helicopter Flight Safety and Operating Chall...   \n",
       "7       7     27  7_Challenges and Risks in Train Control Safety...   \n",
       "8       8     30  8_Emergency Preparedness and Response in Trans...   \n",
       "9       9     28  9_Train Operation and Communication Safety Issues   \n",
       "10     10     21  10_Aircraft Landing Gear Maintenance and Failu...   \n",
       "11     11     23  11_Safety and Communication Issues in Wellingt...   \n",
       "12     12     13          12_Aircraft Safety and Maintenance Issues   \n",
       "13     13     20  13_Maritime Safety and Compliance Issues in Ne...   \n",
       "14     14     14  14_Maintenance and Regulation Issues in CO2 Fi...   \n",
       "\n",
       "                                       Representation  \\\n",
       "0     [Rail and Road Safety and Standards Compliance]   \n",
       "1   [Aviation and Maritime Safety and Compliance I...   \n",
       "2   [Maritime Safety and Navigation Management Def...   \n",
       "3   [Safety and Regulatory Oversight in New Zealan...   \n",
       "4   [Maritime Safety and Risk Management Deficienc...   \n",
       "5   [Issues in KiwiRail's Work and Safety Manageme...   \n",
       "6   [Helicopter Flight Safety and Operating Challe...   \n",
       "7   [Challenges and Risks in Train Control Safety ...   \n",
       "8   [Emergency Preparedness and Response in Transp...   \n",
       "9   [Train Operation and Communication Safety Issues]   \n",
       "10  [Aircraft Landing Gear Maintenance and Failure...   \n",
       "11  [Safety and Communication Issues in Wellington...   \n",
       "12           [Aircraft Safety and Maintenance Issues]   \n",
       "13  [Maritime Safety and Compliance Issues in New ...   \n",
       "14  [Maintenance and Regulation Issues in CO2 Fire...   \n",
       "\n",
       "                                  Representative_Docs  \n",
       "0   [The Beach Road/ State Highway 1 intersection ...  \n",
       "1   [The procedure for circling below the minimum ...  \n",
       "2   [The standard of bridge resource management on...  \n",
       "3   [There was a low likelihood of the weather con...  \n",
       "4   [The plastic sheathing that had been placed ar...  \n",
       "5   [The New Zealand Rail Operating Rules and Proc...  \n",
       "6   [Due to their unique main rotor design, during...  \n",
       "7   [The train controller made an assumption about...  \n",
       "8   [There were as few as 4 approved lifejackets o...  \n",
       "9   [Lack of a suitable communication system betwe...  \n",
       "10  [Had the pilots known that the nose landing ge...  \n",
       "11  [There is a heightened risk of trains collidin...  \n",
       "12  [The quality control and traceability of the s...  \n",
       "13  [Although the Easy Rider had been entered into...  \n",
       "14  [A clear placard should be placed at the contr...  "
      ]
     },
     "metadata": {},
     "output_type": "display_data"
    },
    {
     "data": {
      "text/html": [
       "<div>\n",
       "<style scoped>\n",
       "    .dataframe tbody tr th:only-of-type {\n",
       "        vertical-align: middle;\n",
       "    }\n",
       "\n",
       "    .dataframe tbody tr th {\n",
       "        vertical-align: top;\n",
       "    }\n",
       "\n",
       "    .dataframe thead th {\n",
       "        text-align: right;\n",
       "    }\n",
       "</style>\n",
       "<table border=\"1\" class=\"dataframe\">\n",
       "  <thead>\n",
       "    <tr style=\"text-align: right;\">\n",
       "      <th></th>\n",
       "      <th>Topic</th>\n",
       "      <th>Count</th>\n",
       "      <th>Name</th>\n",
       "      <th>Representation</th>\n",
       "      <th>Representative_Docs</th>\n",
       "    </tr>\n",
       "  </thead>\n",
       "  <tbody>\n",
       "    <tr>\n",
       "      <th>0</th>\n",
       "      <td>0</td>\n",
       "      <td>95</td>\n",
       "      <td>0_Maritime Safety and Navigation Management Is...</td>\n",
       "      <td>[Maritime Safety and Navigation Management Iss...</td>\n",
       "      <td>[The standard of bridge resource management on...</td>\n",
       "    </tr>\n",
       "    <tr>\n",
       "      <th>1</th>\n",
       "      <td>1</td>\n",
       "      <td>61</td>\n",
       "      <td>1_Aviation Safety and Compliance Issues in New...</td>\n",
       "      <td>[Aviation Safety and Compliance Issues in New ...</td>\n",
       "      <td>[The operator's system for training its pilots...</td>\n",
       "    </tr>\n",
       "    <tr>\n",
       "      <th>2</th>\n",
       "      <td>2</td>\n",
       "      <td>49</td>\n",
       "      <td>2_KiwiRail Operational and Safety Challenges</td>\n",
       "      <td>[KiwiRail Operational and Safety Challenges]</td>\n",
       "      <td>[The New Zealand Rail Operating Rules and Proc...</td>\n",
       "    </tr>\n",
       "    <tr>\n",
       "      <th>3</th>\n",
       "      <td>3</td>\n",
       "      <td>49</td>\n",
       "      <td>3_Maritime Safety and Emergency Response Regul...</td>\n",
       "      <td>[Maritime Safety and Emergency Response Regula...</td>\n",
       "      <td>[The absence of a visual indicator in the whee...</td>\n",
       "    </tr>\n",
       "    <tr>\n",
       "      <th>4</th>\n",
       "      <td>4</td>\n",
       "      <td>47</td>\n",
       "      <td>4_Aviation Safety and Operational Miscommunica...</td>\n",
       "      <td>[Aviation Safety and Operational Miscommunicat...</td>\n",
       "      <td>[While ATC sequences an IFR aeroplane to land ...</td>\n",
       "    </tr>\n",
       "    <tr>\n",
       "      <th>5</th>\n",
       "      <td>5</td>\n",
       "      <td>43</td>\n",
       "      <td>5_Aircraft Maintenance and Safety Compliance I...</td>\n",
       "      <td>[Aircraft Maintenance and Safety Compliance Is...</td>\n",
       "      <td>[Had the pilots known that the nose landing ge...</td>\n",
       "    </tr>\n",
       "    <tr>\n",
       "      <th>6</th>\n",
       "      <td>6</td>\n",
       "      <td>38</td>\n",
       "      <td>6_Helicopter Safety and Operational Challenges</td>\n",
       "      <td>[Helicopter Safety and Operational Challenges]</td>\n",
       "      <td>[Due to their unique main rotor design, during...</td>\n",
       "    </tr>\n",
       "    <tr>\n",
       "      <th>7</th>\n",
       "      <td>7</td>\n",
       "      <td>22</td>\n",
       "      <td>7_Train Operational Safety and Communication I...</td>\n",
       "      <td>[Train Operational Safety and Communication Is...</td>\n",
       "      <td>[The safety issue arising from this incident w...</td>\n",
       "    </tr>\n",
       "    <tr>\n",
       "      <th>8</th>\n",
       "      <td>8</td>\n",
       "      <td>26</td>\n",
       "      <td>8_Safety and Risk Management Issues in Train C...</td>\n",
       "      <td>[Safety and Risk Management Issues in Train Co...</td>\n",
       "      <td>[Poor planning and co-ordination of track infr...</td>\n",
       "    </tr>\n",
       "    <tr>\n",
       "      <th>9</th>\n",
       "      <td>9</td>\n",
       "      <td>18</td>\n",
       "      <td>9_Rail System Safety and Performance in Low-Ad...</td>\n",
       "      <td>[Rail System Safety and Performance in Low-Adh...</td>\n",
       "      <td>[A key safety issue was that the National Rail...</td>\n",
       "    </tr>\n",
       "    <tr>\n",
       "      <th>10</th>\n",
       "      <td>10</td>\n",
       "      <td>16</td>\n",
       "      <td>10_Risks and Safety Concerns in Wellington Sta...</td>\n",
       "      <td>[Risks and Safety Concerns in Wellington Stati...</td>\n",
       "      <td>[There are a number of reasonable measures tha...</td>\n",
       "    </tr>\n",
       "    <tr>\n",
       "      <th>11</th>\n",
       "      <td>11</td>\n",
       "      <td>17</td>\n",
       "      <td>11_Rail Infrastructure and Monitoring Failures...</td>\n",
       "      <td>[Rail Infrastructure and Monitoring Failures L...</td>\n",
       "      <td>[The rail fracture examination revealed that t...</td>\n",
       "    </tr>\n",
       "    <tr>\n",
       "      <th>12</th>\n",
       "      <td>12</td>\n",
       "      <td>20</td>\n",
       "      <td>12_Safety and Compliance Issues at Rail Level ...</td>\n",
       "      <td>[Safety and Compliance Issues at Rail Level Cr...</td>\n",
       "      <td>[Level crossing assessments do not require the...</td>\n",
       "    </tr>\n",
       "    <tr>\n",
       "      <th>13</th>\n",
       "      <td>13</td>\n",
       "      <td>22</td>\n",
       "      <td>13_Maintenance and Inspection Failures in Safe...</td>\n",
       "      <td>[Maintenance and Inspection Failures in Safety...</td>\n",
       "      <td>[Encasing wire rope in plastic sheathing preve...</td>\n",
       "    </tr>\n",
       "    <tr>\n",
       "      <th>14</th>\n",
       "      <td>14</td>\n",
       "      <td>11</td>\n",
       "      <td>14_Maintenance and Integrity Issues in CO2 Fir...</td>\n",
       "      <td>[Maintenance and Integrity Issues in CO2 Fire-...</td>\n",
       "      <td>[A clear placard should be placed at the contr...</td>\n",
       "    </tr>\n",
       "    <tr>\n",
       "      <th>15</th>\n",
       "      <td>15</td>\n",
       "      <td>26</td>\n",
       "      <td>15_Rail Safety and Operational Failures</td>\n",
       "      <td>[Rail Safety and Operational Failures]</td>\n",
       "      <td>[The process for upgrading the signal box disp...</td>\n",
       "    </tr>\n",
       "  </tbody>\n",
       "</table>\n",
       "</div>"
      ],
      "text/plain": [
       "    Topic  Count                                               Name  \\\n",
       "0       0     95  0_Maritime Safety and Navigation Management Is...   \n",
       "1       1     61  1_Aviation Safety and Compliance Issues in New...   \n",
       "2       2     49       2_KiwiRail Operational and Safety Challenges   \n",
       "3       3     49  3_Maritime Safety and Emergency Response Regul...   \n",
       "4       4     47  4_Aviation Safety and Operational Miscommunica...   \n",
       "5       5     43  5_Aircraft Maintenance and Safety Compliance I...   \n",
       "6       6     38     6_Helicopter Safety and Operational Challenges   \n",
       "7       7     22  7_Train Operational Safety and Communication I...   \n",
       "8       8     26  8_Safety and Risk Management Issues in Train C...   \n",
       "9       9     18  9_Rail System Safety and Performance in Low-Ad...   \n",
       "10     10     16  10_Risks and Safety Concerns in Wellington Sta...   \n",
       "11     11     17  11_Rail Infrastructure and Monitoring Failures...   \n",
       "12     12     20  12_Safety and Compliance Issues at Rail Level ...   \n",
       "13     13     22  13_Maintenance and Inspection Failures in Safe...   \n",
       "14     14     11  14_Maintenance and Integrity Issues in CO2 Fir...   \n",
       "15     15     26            15_Rail Safety and Operational Failures   \n",
       "\n",
       "                                       Representation  \\\n",
       "0   [Maritime Safety and Navigation Management Iss...   \n",
       "1   [Aviation Safety and Compliance Issues in New ...   \n",
       "2        [KiwiRail Operational and Safety Challenges]   \n",
       "3   [Maritime Safety and Emergency Response Regula...   \n",
       "4   [Aviation Safety and Operational Miscommunicat...   \n",
       "5   [Aircraft Maintenance and Safety Compliance Is...   \n",
       "6      [Helicopter Safety and Operational Challenges]   \n",
       "7   [Train Operational Safety and Communication Is...   \n",
       "8   [Safety and Risk Management Issues in Train Co...   \n",
       "9   [Rail System Safety and Performance in Low-Adh...   \n",
       "10  [Risks and Safety Concerns in Wellington Stati...   \n",
       "11  [Rail Infrastructure and Monitoring Failures L...   \n",
       "12  [Safety and Compliance Issues at Rail Level Cr...   \n",
       "13  [Maintenance and Inspection Failures in Safety...   \n",
       "14  [Maintenance and Integrity Issues in CO2 Fire-...   \n",
       "15             [Rail Safety and Operational Failures]   \n",
       "\n",
       "                                  Representative_Docs  \n",
       "0   [The standard of bridge resource management on...  \n",
       "1   [The operator's system for training its pilots...  \n",
       "2   [The New Zealand Rail Operating Rules and Proc...  \n",
       "3   [The absence of a visual indicator in the whee...  \n",
       "4   [While ATC sequences an IFR aeroplane to land ...  \n",
       "5   [Had the pilots known that the nose landing ge...  \n",
       "6   [Due to their unique main rotor design, during...  \n",
       "7   [The safety issue arising from this incident w...  \n",
       "8   [Poor planning and co-ordination of track infr...  \n",
       "9   [A key safety issue was that the National Rail...  \n",
       "10  [There are a number of reasonable measures tha...  \n",
       "11  [The rail fracture examination revealed that t...  \n",
       "12  [Level crossing assessments do not require the...  \n",
       "13  [Encasing wire rope in plastic sheathing preve...  \n",
       "14  [A clear placard should be placed at the contr...  \n",
       "15  [The process for upgrading the signal box disp...  "
      ]
     },
     "metadata": {},
     "output_type": "display_data"
    },
    {
     "data": {
      "text/html": [
       "<div>\n",
       "<style scoped>\n",
       "    .dataframe tbody tr th:only-of-type {\n",
       "        vertical-align: middle;\n",
       "    }\n",
       "\n",
       "    .dataframe tbody tr th {\n",
       "        vertical-align: top;\n",
       "    }\n",
       "\n",
       "    .dataframe thead th {\n",
       "        text-align: right;\n",
       "    }\n",
       "</style>\n",
       "<table border=\"1\" class=\"dataframe\">\n",
       "  <thead>\n",
       "    <tr style=\"text-align: right;\">\n",
       "      <th></th>\n",
       "      <th>Topic</th>\n",
       "      <th>Count</th>\n",
       "      <th>Name</th>\n",
       "      <th>Representation</th>\n",
       "      <th>Representative_Docs</th>\n",
       "    </tr>\n",
       "  </thead>\n",
       "  <tbody>\n",
       "    <tr>\n",
       "      <th>0</th>\n",
       "      <td>0</td>\n",
       "      <td>80</td>\n",
       "      <td>0_Maritime Safety and Navigation Management Is...</td>\n",
       "      <td>[Maritime Safety and Navigation Management Iss...</td>\n",
       "      <td>[Neither the owner nor the skipper sought or w...</td>\n",
       "    </tr>\n",
       "    <tr>\n",
       "      <th>1</th>\n",
       "      <td>1</td>\n",
       "      <td>54</td>\n",
       "      <td>1_Rail Safety and Training Gaps</td>\n",
       "      <td>[Rail Safety and Training Gaps]</td>\n",
       "      <td>[The Matangi braking and wheel-slide protectio...</td>\n",
       "    </tr>\n",
       "    <tr>\n",
       "      <th>2</th>\n",
       "      <td>2</td>\n",
       "      <td>57</td>\n",
       "      <td>2_Helicopter Safety and Maintenance Issues</td>\n",
       "      <td>[Helicopter Safety and Maintenance Issues]</td>\n",
       "      <td>[Due to their unique main rotor design, during...</td>\n",
       "    </tr>\n",
       "    <tr>\n",
       "      <th>3</th>\n",
       "      <td>3</td>\n",
       "      <td>46</td>\n",
       "      <td>3_Train Collision Risks and Communication Fail...</td>\n",
       "      <td>[Train Collision Risks and Communication Failu...</td>\n",
       "      <td>[There are a number of reasonable measures tha...</td>\n",
       "    </tr>\n",
       "    <tr>\n",
       "      <th>4</th>\n",
       "      <td>4</td>\n",
       "      <td>47</td>\n",
       "      <td>4_Maritime Safety and Compliance Issues</td>\n",
       "      <td>[Maritime Safety and Compliance Issues]</td>\n",
       "      <td>[Neither the ship's planned-maintenance system...</td>\n",
       "    </tr>\n",
       "    <tr>\n",
       "      <th>5</th>\n",
       "      <td>5</td>\n",
       "      <td>43</td>\n",
       "      <td>5_Emergency Preparedness and Response in Trans...</td>\n",
       "      <td>[Emergency Preparedness and Response in Transp...</td>\n",
       "      <td>[There were as few as 4 approved lifejackets o...</td>\n",
       "    </tr>\n",
       "    <tr>\n",
       "      <th>6</th>\n",
       "      <td>6</td>\n",
       "      <td>41</td>\n",
       "      <td>6_KiwiRail Operational and Safety Compliance I...</td>\n",
       "      <td>[KiwiRail Operational and Safety Compliance Is...</td>\n",
       "      <td>[The New Zealand Rail Operating Rules and Proc...</td>\n",
       "    </tr>\n",
       "    <tr>\n",
       "      <th>7</th>\n",
       "      <td>7</td>\n",
       "      <td>39</td>\n",
       "      <td>7_Aviation Safety and Air Traffic Management C...</td>\n",
       "      <td>[Aviation Safety and Air Traffic Management Co...</td>\n",
       "      <td>[When an IFR aeroplane is approved to conduct ...</td>\n",
       "    </tr>\n",
       "    <tr>\n",
       "      <th>8</th>\n",
       "      <td>8</td>\n",
       "      <td>39</td>\n",
       "      <td>8_Aviation Safety and Operational Compliance I...</td>\n",
       "      <td>[Aviation Safety and Operational Compliance Is...</td>\n",
       "      <td>[The operator's system for training its pilots...</td>\n",
       "    </tr>\n",
       "    <tr>\n",
       "      <th>9</th>\n",
       "      <td>9</td>\n",
       "      <td>27</td>\n",
       "      <td>9_Safety Challenges and Risks in Train Control...</td>\n",
       "      <td>[Safety Challenges and Risks in Train Control ...</td>\n",
       "      <td>[The train controller made an assumption about...</td>\n",
       "    </tr>\n",
       "    <tr>\n",
       "      <th>10</th>\n",
       "      <td>10</td>\n",
       "      <td>21</td>\n",
       "      <td>10_Aircraft Landing Gear Failures and Maintena...</td>\n",
       "      <td>[Aircraft Landing Gear Failures and Maintenanc...</td>\n",
       "      <td>[Had the pilots known that the nose landing ge...</td>\n",
       "    </tr>\n",
       "    <tr>\n",
       "      <th>11</th>\n",
       "      <td>11</td>\n",
       "      <td>16</td>\n",
       "      <td>11_Safety and Regulation of Level Crossings fo...</td>\n",
       "      <td>[Safety and Regulation of Level Crossings for ...</td>\n",
       "      <td>[Level crossing assessments do not require the...</td>\n",
       "    </tr>\n",
       "    <tr>\n",
       "      <th>12</th>\n",
       "      <td>12</td>\n",
       "      <td>25</td>\n",
       "      <td>12_Aviation Safety and Regulatory Issues in Ne...</td>\n",
       "      <td>[Aviation Safety and Regulatory Issues in New ...</td>\n",
       "      <td>[The rate of R22 in-flight break-up accidents ...</td>\n",
       "    </tr>\n",
       "    <tr>\n",
       "      <th>13</th>\n",
       "      <td>13</td>\n",
       "      <td>11</td>\n",
       "      <td>13_Safety and Compliance Issues in Marine and ...</td>\n",
       "      <td>[Safety and Compliance Issues in Marine and Av...</td>\n",
       "      <td>[Foreign objects left inside an aircraft and a...</td>\n",
       "    </tr>\n",
       "    <tr>\n",
       "      <th>14</th>\n",
       "      <td>14</td>\n",
       "      <td>14</td>\n",
       "      <td>14_Maintenance and Regulatory Challenges in Ma...</td>\n",
       "      <td>[Maintenance and Regulatory Challenges in Mari...</td>\n",
       "      <td>[A clear placard should be placed at the contr...</td>\n",
       "    </tr>\n",
       "  </tbody>\n",
       "</table>\n",
       "</div>"
      ],
      "text/plain": [
       "    Topic  Count                                               Name  \\\n",
       "0       0     80  0_Maritime Safety and Navigation Management Is...   \n",
       "1       1     54                    1_Rail Safety and Training Gaps   \n",
       "2       2     57         2_Helicopter Safety and Maintenance Issues   \n",
       "3       3     46  3_Train Collision Risks and Communication Fail...   \n",
       "4       4     47            4_Maritime Safety and Compliance Issues   \n",
       "5       5     43  5_Emergency Preparedness and Response in Trans...   \n",
       "6       6     41  6_KiwiRail Operational and Safety Compliance I...   \n",
       "7       7     39  7_Aviation Safety and Air Traffic Management C...   \n",
       "8       8     39  8_Aviation Safety and Operational Compliance I...   \n",
       "9       9     27  9_Safety Challenges and Risks in Train Control...   \n",
       "10     10     21  10_Aircraft Landing Gear Failures and Maintena...   \n",
       "11     11     16  11_Safety and Regulation of Level Crossings fo...   \n",
       "12     12     25  12_Aviation Safety and Regulatory Issues in Ne...   \n",
       "13     13     11  13_Safety and Compliance Issues in Marine and ...   \n",
       "14     14     14  14_Maintenance and Regulatory Challenges in Ma...   \n",
       "\n",
       "                                       Representation  \\\n",
       "0   [Maritime Safety and Navigation Management Iss...   \n",
       "1                     [Rail Safety and Training Gaps]   \n",
       "2          [Helicopter Safety and Maintenance Issues]   \n",
       "3   [Train Collision Risks and Communication Failu...   \n",
       "4             [Maritime Safety and Compliance Issues]   \n",
       "5   [Emergency Preparedness and Response in Transp...   \n",
       "6   [KiwiRail Operational and Safety Compliance Is...   \n",
       "7   [Aviation Safety and Air Traffic Management Co...   \n",
       "8   [Aviation Safety and Operational Compliance Is...   \n",
       "9   [Safety Challenges and Risks in Train Control ...   \n",
       "10  [Aircraft Landing Gear Failures and Maintenanc...   \n",
       "11  [Safety and Regulation of Level Crossings for ...   \n",
       "12  [Aviation Safety and Regulatory Issues in New ...   \n",
       "13  [Safety and Compliance Issues in Marine and Av...   \n",
       "14  [Maintenance and Regulatory Challenges in Mari...   \n",
       "\n",
       "                                  Representative_Docs  \n",
       "0   [Neither the owner nor the skipper sought or w...  \n",
       "1   [The Matangi braking and wheel-slide protectio...  \n",
       "2   [Due to their unique main rotor design, during...  \n",
       "3   [There are a number of reasonable measures tha...  \n",
       "4   [Neither the ship's planned-maintenance system...  \n",
       "5   [There were as few as 4 approved lifejackets o...  \n",
       "6   [The New Zealand Rail Operating Rules and Proc...  \n",
       "7   [When an IFR aeroplane is approved to conduct ...  \n",
       "8   [The operator's system for training its pilots...  \n",
       "9   [The train controller made an assumption about...  \n",
       "10  [Had the pilots known that the nose landing ge...  \n",
       "11  [Level crossing assessments do not require the...  \n",
       "12  [The rate of R22 in-flight break-up accidents ...  \n",
       "13  [Foreign objects left inside an aircraft and a...  \n",
       "14  [A clear placard should be placed at the contr...  "
      ]
     },
     "metadata": {},
     "output_type": "display_data"
    }
   ],
   "source": [
    "\n",
    "potential_group_model['model_summary'] = potential_group_model['group_model'].apply(lambda model: model.get_topic_info())\n",
    "\n",
    "for i, row in potential_group_model.iterrows():\n",
    "\n",
    "    display(row['model_summary'])"
   ]
  },
  {
   "cell_type": "markdown",
   "metadata": {},
   "source": [
    "I need to choose just one for a demo.\n",
    "\n",
    "This will be the last one as it looks the most reasonable."
   ]
  },
  {
   "cell_type": "code",
   "execution_count": 202,
   "metadata": {},
   "outputs": [
    {
     "ename": "KeyError",
     "evalue": "1",
     "output_type": "error",
     "traceback": [
      "\u001b[0;31m---------------------------------------------------------------------------\u001b[0m",
      "\u001b[0;31mKeyError\u001b[0m                                  Traceback (most recent call last)",
      "File \u001b[0;32m~/.cache/pypoetry/virtualenvs/taic-report-engine-vkGeZcZ8-py3.11/lib/python3.11/site-packages/pandas/core/indexes/base.py:3805\u001b[0m, in \u001b[0;36mIndex.get_loc\u001b[0;34m(self, key)\u001b[0m\n\u001b[1;32m   3804\u001b[0m \u001b[38;5;28;01mtry\u001b[39;00m:\n\u001b[0;32m-> 3805\u001b[0m     \u001b[38;5;28;01mreturn\u001b[39;00m \u001b[38;5;28;43mself\u001b[39;49m\u001b[38;5;241;43m.\u001b[39;49m\u001b[43m_engine\u001b[49m\u001b[38;5;241;43m.\u001b[39;49m\u001b[43mget_loc\u001b[49m\u001b[43m(\u001b[49m\u001b[43mcasted_key\u001b[49m\u001b[43m)\u001b[49m\n\u001b[1;32m   3806\u001b[0m \u001b[38;5;28;01mexcept\u001b[39;00m \u001b[38;5;167;01mKeyError\u001b[39;00m \u001b[38;5;28;01mas\u001b[39;00m err:\n",
      "File \u001b[0;32mindex.pyx:167\u001b[0m, in \u001b[0;36mpandas._libs.index.IndexEngine.get_loc\u001b[0;34m()\u001b[0m\n",
      "File \u001b[0;32mindex.pyx:196\u001b[0m, in \u001b[0;36mpandas._libs.index.IndexEngine.get_loc\u001b[0;34m()\u001b[0m\n",
      "File \u001b[0;32mpandas/_libs/hashtable_class_helper.pxi:2606\u001b[0m, in \u001b[0;36mpandas._libs.hashtable.Int64HashTable.get_item\u001b[0;34m()\u001b[0m\n",
      "File \u001b[0;32mpandas/_libs/hashtable_class_helper.pxi:2630\u001b[0m, in \u001b[0;36mpandas._libs.hashtable.Int64HashTable.get_item\u001b[0;34m()\u001b[0m\n",
      "\u001b[0;31mKeyError\u001b[0m: 1",
      "\nThe above exception was the direct cause of the following exception:\n",
      "\u001b[0;31mKeyError\u001b[0m                                  Traceback (most recent call last)",
      "Cell \u001b[0;32mIn[202], line 1\u001b[0m\n\u001b[0;32m----> 1\u001b[0m check_mode_cluster_distribution(\u001b[43mappropriate_counts_df\u001b[49m\u001b[38;5;241;43m.\u001b[39;49m\u001b[43mloc\u001b[49m\u001b[43m[\u001b[49m\u001b[38;5;241;43m1\u001b[39;49m\u001b[43m,\u001b[49m\u001b[43m \u001b[49m\u001b[38;5;124;43m'\u001b[39;49m\u001b[38;5;124;43mgroup_df\u001b[39;49m\u001b[38;5;124;43m'\u001b[39;49m\u001b[43m]\u001b[49m)\n",
      "File \u001b[0;32m~/.cache/pypoetry/virtualenvs/taic-report-engine-vkGeZcZ8-py3.11/lib/python3.11/site-packages/pandas/core/indexing.py:1183\u001b[0m, in \u001b[0;36m_LocationIndexer.__getitem__\u001b[0;34m(self, key)\u001b[0m\n\u001b[1;32m   1181\u001b[0m     key \u001b[38;5;241m=\u001b[39m \u001b[38;5;28mtuple\u001b[39m(com\u001b[38;5;241m.\u001b[39mapply_if_callable(x, \u001b[38;5;28mself\u001b[39m\u001b[38;5;241m.\u001b[39mobj) \u001b[38;5;28;01mfor\u001b[39;00m x \u001b[38;5;129;01min\u001b[39;00m key)\n\u001b[1;32m   1182\u001b[0m     \u001b[38;5;28;01mif\u001b[39;00m \u001b[38;5;28mself\u001b[39m\u001b[38;5;241m.\u001b[39m_is_scalar_access(key):\n\u001b[0;32m-> 1183\u001b[0m         \u001b[38;5;28;01mreturn\u001b[39;00m \u001b[38;5;28;43mself\u001b[39;49m\u001b[38;5;241;43m.\u001b[39;49m\u001b[43mobj\u001b[49m\u001b[38;5;241;43m.\u001b[39;49m\u001b[43m_get_value\u001b[49m\u001b[43m(\u001b[49m\u001b[38;5;241;43m*\u001b[39;49m\u001b[43mkey\u001b[49m\u001b[43m,\u001b[49m\u001b[43m \u001b[49m\u001b[43mtakeable\u001b[49m\u001b[38;5;241;43m=\u001b[39;49m\u001b[38;5;28;43mself\u001b[39;49m\u001b[38;5;241;43m.\u001b[39;49m\u001b[43m_takeable\u001b[49m\u001b[43m)\u001b[49m\n\u001b[1;32m   1184\u001b[0m     \u001b[38;5;28;01mreturn\u001b[39;00m \u001b[38;5;28mself\u001b[39m\u001b[38;5;241m.\u001b[39m_getitem_tuple(key)\n\u001b[1;32m   1185\u001b[0m \u001b[38;5;28;01melse\u001b[39;00m:\n\u001b[1;32m   1186\u001b[0m     \u001b[38;5;66;03m# we by definition only have the 0th axis\u001b[39;00m\n",
      "File \u001b[0;32m~/.cache/pypoetry/virtualenvs/taic-report-engine-vkGeZcZ8-py3.11/lib/python3.11/site-packages/pandas/core/frame.py:4221\u001b[0m, in \u001b[0;36mDataFrame._get_value\u001b[0;34m(self, index, col, takeable)\u001b[0m\n\u001b[1;32m   4215\u001b[0m engine \u001b[38;5;241m=\u001b[39m \u001b[38;5;28mself\u001b[39m\u001b[38;5;241m.\u001b[39mindex\u001b[38;5;241m.\u001b[39m_engine\n\u001b[1;32m   4217\u001b[0m \u001b[38;5;28;01mif\u001b[39;00m \u001b[38;5;129;01mnot\u001b[39;00m \u001b[38;5;28misinstance\u001b[39m(\u001b[38;5;28mself\u001b[39m\u001b[38;5;241m.\u001b[39mindex, MultiIndex):\n\u001b[1;32m   4218\u001b[0m     \u001b[38;5;66;03m# CategoricalIndex: Trying to use the engine fastpath may give incorrect\u001b[39;00m\n\u001b[1;32m   4219\u001b[0m     \u001b[38;5;66;03m#  results if our categories are integers that dont match our codes\u001b[39;00m\n\u001b[1;32m   4220\u001b[0m     \u001b[38;5;66;03m# IntervalIndex: IntervalTree has no get_loc\u001b[39;00m\n\u001b[0;32m-> 4221\u001b[0m     row \u001b[38;5;241m=\u001b[39m \u001b[38;5;28;43mself\u001b[39;49m\u001b[38;5;241;43m.\u001b[39;49m\u001b[43mindex\u001b[49m\u001b[38;5;241;43m.\u001b[39;49m\u001b[43mget_loc\u001b[49m\u001b[43m(\u001b[49m\u001b[43mindex\u001b[49m\u001b[43m)\u001b[49m\n\u001b[1;32m   4222\u001b[0m     \u001b[38;5;28;01mreturn\u001b[39;00m series\u001b[38;5;241m.\u001b[39m_values[row]\n\u001b[1;32m   4224\u001b[0m \u001b[38;5;66;03m# For MultiIndex going through engine effectively restricts us to\u001b[39;00m\n\u001b[1;32m   4225\u001b[0m \u001b[38;5;66;03m#  same-length tuples; see test_get_set_value_no_partial_indexing\u001b[39;00m\n",
      "File \u001b[0;32m~/.cache/pypoetry/virtualenvs/taic-report-engine-vkGeZcZ8-py3.11/lib/python3.11/site-packages/pandas/core/indexes/base.py:3812\u001b[0m, in \u001b[0;36mIndex.get_loc\u001b[0;34m(self, key)\u001b[0m\n\u001b[1;32m   3807\u001b[0m     \u001b[38;5;28;01mif\u001b[39;00m \u001b[38;5;28misinstance\u001b[39m(casted_key, \u001b[38;5;28mslice\u001b[39m) \u001b[38;5;129;01mor\u001b[39;00m (\n\u001b[1;32m   3808\u001b[0m         \u001b[38;5;28misinstance\u001b[39m(casted_key, abc\u001b[38;5;241m.\u001b[39mIterable)\n\u001b[1;32m   3809\u001b[0m         \u001b[38;5;129;01mand\u001b[39;00m \u001b[38;5;28many\u001b[39m(\u001b[38;5;28misinstance\u001b[39m(x, \u001b[38;5;28mslice\u001b[39m) \u001b[38;5;28;01mfor\u001b[39;00m x \u001b[38;5;129;01min\u001b[39;00m casted_key)\n\u001b[1;32m   3810\u001b[0m     ):\n\u001b[1;32m   3811\u001b[0m         \u001b[38;5;28;01mraise\u001b[39;00m InvalidIndexError(key)\n\u001b[0;32m-> 3812\u001b[0m     \u001b[38;5;28;01mraise\u001b[39;00m \u001b[38;5;167;01mKeyError\u001b[39;00m(key) \u001b[38;5;28;01mfrom\u001b[39;00m \u001b[38;5;21;01merr\u001b[39;00m\n\u001b[1;32m   3813\u001b[0m \u001b[38;5;28;01mexcept\u001b[39;00m \u001b[38;5;167;01mTypeError\u001b[39;00m:\n\u001b[1;32m   3814\u001b[0m     \u001b[38;5;66;03m# If we have a listlike key, _check_indexing_error will raise\u001b[39;00m\n\u001b[1;32m   3815\u001b[0m     \u001b[38;5;66;03m#  InvalidIndexError. Otherwise we fall through and re-raise\u001b[39;00m\n\u001b[1;32m   3816\u001b[0m     \u001b[38;5;66;03m#  the TypeError.\u001b[39;00m\n\u001b[1;32m   3817\u001b[0m     \u001b[38;5;28mself\u001b[39m\u001b[38;5;241m.\u001b[39m_check_indexing_error(key)\n",
      "\u001b[0;31mKeyError\u001b[0m: 1"
     ]
    }
   ],
   "source": [
    "check_mode_cluster_distribution(appropriate_counts_df.loc[1, 'group_df'])"
   ]
  },
  {
   "cell_type": "code",
   "execution_count": 215,
   "metadata": {},
   "outputs": [
    {
     "name": "stderr",
     "output_type": "stream",
     "text": [
      "2024-05-06 17:50:31,888 - BERTopic - WARNING: When you use `pickle` to save/load a BERTopic model,please make sure that the environments in which you saveand load the model are **exactly** the same. The version of BERTopic,its dependencies, and python need to remain the same.\n"
     ]
    },
    {
     "ename": "TypeError",
     "evalue": "cannot pickle '_thread.RLock' object",
     "output_type": "error",
     "traceback": [
      "\u001b[0;31m---------------------------------------------------------------------------\u001b[0m",
      "\u001b[0;31mTypeError\u001b[0m                                 Traceback (most recent call last)",
      "Cell \u001b[0;32mIn[215], line 3\u001b[0m\n\u001b[1;32m      1\u001b[0m demo_group_model \u001b[38;5;241m=\u001b[39m potential_group_model\u001b[38;5;241m.\u001b[39mloc[\u001b[38;5;241m0\u001b[39m,]\n\u001b[0;32m----> 3\u001b[0m \u001b[43mdemo_group_model\u001b[49m\u001b[43m[\u001b[49m\u001b[38;5;124;43m'\u001b[39;49m\u001b[38;5;124;43mgroup_model\u001b[39;49m\u001b[38;5;124;43m'\u001b[39;49m\u001b[43m]\u001b[49m\u001b[38;5;241;43m.\u001b[39;49m\u001b[43msave\u001b[49m\u001b[43m(\u001b[49m\u001b[38;5;124;43m'\u001b[39;49m\u001b[38;5;124;43mdemo_group_model_\u001b[39;49m\u001b[38;5;124;43m'\u001b[39;49m\u001b[43m)\u001b[49m\n",
      "File \u001b[0;32m~/.cache/pypoetry/virtualenvs/taic-report-engine-vkGeZcZ8-py3.11/lib/python3.11/site-packages/bertopic/_bertopic.py:3088\u001b[0m, in \u001b[0;36mBERTopic.save\u001b[0;34m(self, path, serialization, save_embedding_model, save_ctfidf)\u001b[0m\n\u001b[1;32m   3086\u001b[0m             \u001b[38;5;28mself\u001b[39m\u001b[38;5;241m.\u001b[39membedding_model \u001b[38;5;241m=\u001b[39m embedding_model\n\u001b[1;32m   3087\u001b[0m         \u001b[38;5;28;01melse\u001b[39;00m:\n\u001b[0;32m-> 3088\u001b[0m             \u001b[43mjoblib\u001b[49m\u001b[38;5;241;43m.\u001b[39;49m\u001b[43mdump\u001b[49m\u001b[43m(\u001b[49m\u001b[38;5;28;43mself\u001b[39;49m\u001b[43m,\u001b[49m\u001b[43m \u001b[49m\u001b[43mfile\u001b[49m\u001b[43m)\u001b[49m\n\u001b[1;32m   3089\u001b[0m \u001b[38;5;28;01melif\u001b[39;00m serialization \u001b[38;5;241m==\u001b[39m \u001b[38;5;124m\"\u001b[39m\u001b[38;5;124msafetensors\u001b[39m\u001b[38;5;124m\"\u001b[39m \u001b[38;5;129;01mor\u001b[39;00m serialization \u001b[38;5;241m==\u001b[39m \u001b[38;5;124m\"\u001b[39m\u001b[38;5;124mpytorch\u001b[39m\u001b[38;5;124m\"\u001b[39m:\n\u001b[1;32m   3090\u001b[0m \n\u001b[1;32m   3091\u001b[0m     \u001b[38;5;66;03m# Directory\u001b[39;00m\n\u001b[1;32m   3092\u001b[0m     save_directory \u001b[38;5;241m=\u001b[39m Path(path)\n",
      "File \u001b[0;32m~/.cache/pypoetry/virtualenvs/taic-report-engine-vkGeZcZ8-py3.11/lib/python3.11/site-packages/joblib/numpy_pickle.py:555\u001b[0m, in \u001b[0;36mdump\u001b[0;34m(value, filename, compress, protocol, cache_size)\u001b[0m\n\u001b[1;32m    553\u001b[0m         NumpyPickler(f, protocol\u001b[38;5;241m=\u001b[39mprotocol)\u001b[38;5;241m.\u001b[39mdump(value)\n\u001b[1;32m    554\u001b[0m \u001b[38;5;28;01melse\u001b[39;00m:\n\u001b[0;32m--> 555\u001b[0m     \u001b[43mNumpyPickler\u001b[49m\u001b[43m(\u001b[49m\u001b[43mfilename\u001b[49m\u001b[43m,\u001b[49m\u001b[43m \u001b[49m\u001b[43mprotocol\u001b[49m\u001b[38;5;241;43m=\u001b[39;49m\u001b[43mprotocol\u001b[49m\u001b[43m)\u001b[49m\u001b[38;5;241;43m.\u001b[39;49m\u001b[43mdump\u001b[49m\u001b[43m(\u001b[49m\u001b[43mvalue\u001b[49m\u001b[43m)\u001b[49m\n\u001b[1;32m    557\u001b[0m \u001b[38;5;66;03m# If the target container is a file object, nothing is returned.\u001b[39;00m\n\u001b[1;32m    558\u001b[0m \u001b[38;5;28;01mif\u001b[39;00m is_fileobj:\n",
      "File \u001b[0;32m~/miniconda3/lib/python3.11/pickle.py:487\u001b[0m, in \u001b[0;36m_Pickler.dump\u001b[0;34m(self, obj)\u001b[0m\n\u001b[1;32m    485\u001b[0m \u001b[38;5;28;01mif\u001b[39;00m \u001b[38;5;28mself\u001b[39m\u001b[38;5;241m.\u001b[39mproto \u001b[38;5;241m>\u001b[39m\u001b[38;5;241m=\u001b[39m \u001b[38;5;241m4\u001b[39m:\n\u001b[1;32m    486\u001b[0m     \u001b[38;5;28mself\u001b[39m\u001b[38;5;241m.\u001b[39mframer\u001b[38;5;241m.\u001b[39mstart_framing()\n\u001b[0;32m--> 487\u001b[0m \u001b[38;5;28;43mself\u001b[39;49m\u001b[38;5;241;43m.\u001b[39;49m\u001b[43msave\u001b[49m\u001b[43m(\u001b[49m\u001b[43mobj\u001b[49m\u001b[43m)\u001b[49m\n\u001b[1;32m    488\u001b[0m \u001b[38;5;28mself\u001b[39m\u001b[38;5;241m.\u001b[39mwrite(STOP)\n\u001b[1;32m    489\u001b[0m \u001b[38;5;28mself\u001b[39m\u001b[38;5;241m.\u001b[39mframer\u001b[38;5;241m.\u001b[39mend_framing()\n",
      "File \u001b[0;32m~/.cache/pypoetry/virtualenvs/taic-report-engine-vkGeZcZ8-py3.11/lib/python3.11/site-packages/joblib/numpy_pickle.py:355\u001b[0m, in \u001b[0;36mNumpyPickler.save\u001b[0;34m(self, obj)\u001b[0m\n\u001b[1;32m    352\u001b[0m     wrapper\u001b[38;5;241m.\u001b[39mwrite_array(obj, \u001b[38;5;28mself\u001b[39m)\n\u001b[1;32m    353\u001b[0m     \u001b[38;5;28;01mreturn\u001b[39;00m\n\u001b[0;32m--> 355\u001b[0m \u001b[38;5;28;01mreturn\u001b[39;00m \u001b[43mPickler\u001b[49m\u001b[38;5;241;43m.\u001b[39;49m\u001b[43msave\u001b[49m\u001b[43m(\u001b[49m\u001b[38;5;28;43mself\u001b[39;49m\u001b[43m,\u001b[49m\u001b[43m \u001b[49m\u001b[43mobj\u001b[49m\u001b[43m)\u001b[49m\n",
      "File \u001b[0;32m~/miniconda3/lib/python3.11/pickle.py:603\u001b[0m, in \u001b[0;36m_Pickler.save\u001b[0;34m(self, obj, save_persistent_id)\u001b[0m\n\u001b[1;32m    599\u001b[0m     \u001b[38;5;28;01mraise\u001b[39;00m PicklingError(\u001b[38;5;124m\"\u001b[39m\u001b[38;5;124mTuple returned by \u001b[39m\u001b[38;5;132;01m%s\u001b[39;00m\u001b[38;5;124m must have \u001b[39m\u001b[38;5;124m\"\u001b[39m\n\u001b[1;32m    600\u001b[0m                         \u001b[38;5;124m\"\u001b[39m\u001b[38;5;124mtwo to six elements\u001b[39m\u001b[38;5;124m\"\u001b[39m \u001b[38;5;241m%\u001b[39m reduce)\n\u001b[1;32m    602\u001b[0m \u001b[38;5;66;03m# Save the reduce() output and finally memoize the object\u001b[39;00m\n\u001b[0;32m--> 603\u001b[0m \u001b[38;5;28;43mself\u001b[39;49m\u001b[38;5;241;43m.\u001b[39;49m\u001b[43msave_reduce\u001b[49m\u001b[43m(\u001b[49m\u001b[43mobj\u001b[49m\u001b[38;5;241;43m=\u001b[39;49m\u001b[43mobj\u001b[49m\u001b[43m,\u001b[49m\u001b[43m \u001b[49m\u001b[38;5;241;43m*\u001b[39;49m\u001b[43mrv\u001b[49m\u001b[43m)\u001b[49m\n",
      "File \u001b[0;32m~/miniconda3/lib/python3.11/pickle.py:717\u001b[0m, in \u001b[0;36m_Pickler.save_reduce\u001b[0;34m(self, func, args, state, listitems, dictitems, state_setter, obj)\u001b[0m\n\u001b[1;32m    715\u001b[0m \u001b[38;5;28;01mif\u001b[39;00m state \u001b[38;5;129;01mis\u001b[39;00m \u001b[38;5;129;01mnot\u001b[39;00m \u001b[38;5;28;01mNone\u001b[39;00m:\n\u001b[1;32m    716\u001b[0m     \u001b[38;5;28;01mif\u001b[39;00m state_setter \u001b[38;5;129;01mis\u001b[39;00m \u001b[38;5;28;01mNone\u001b[39;00m:\n\u001b[0;32m--> 717\u001b[0m         \u001b[43msave\u001b[49m\u001b[43m(\u001b[49m\u001b[43mstate\u001b[49m\u001b[43m)\u001b[49m\n\u001b[1;32m    718\u001b[0m         write(BUILD)\n\u001b[1;32m    719\u001b[0m     \u001b[38;5;28;01melse\u001b[39;00m:\n\u001b[1;32m    720\u001b[0m         \u001b[38;5;66;03m# If a state_setter is specified, call it instead of load_build\u001b[39;00m\n\u001b[1;32m    721\u001b[0m         \u001b[38;5;66;03m# to update obj's with its previous state.\u001b[39;00m\n\u001b[1;32m    722\u001b[0m         \u001b[38;5;66;03m# First, push state_setter and its tuple of expected arguments\u001b[39;00m\n\u001b[1;32m    723\u001b[0m         \u001b[38;5;66;03m# (obj, state) onto the stack.\u001b[39;00m\n",
      "File \u001b[0;32m~/.cache/pypoetry/virtualenvs/taic-report-engine-vkGeZcZ8-py3.11/lib/python3.11/site-packages/joblib/numpy_pickle.py:355\u001b[0m, in \u001b[0;36mNumpyPickler.save\u001b[0;34m(self, obj)\u001b[0m\n\u001b[1;32m    352\u001b[0m     wrapper\u001b[38;5;241m.\u001b[39mwrite_array(obj, \u001b[38;5;28mself\u001b[39m)\n\u001b[1;32m    353\u001b[0m     \u001b[38;5;28;01mreturn\u001b[39;00m\n\u001b[0;32m--> 355\u001b[0m \u001b[38;5;28;01mreturn\u001b[39;00m \u001b[43mPickler\u001b[49m\u001b[38;5;241;43m.\u001b[39;49m\u001b[43msave\u001b[49m\u001b[43m(\u001b[49m\u001b[38;5;28;43mself\u001b[39;49m\u001b[43m,\u001b[49m\u001b[43m \u001b[49m\u001b[43mobj\u001b[49m\u001b[43m)\u001b[49m\n",
      "File \u001b[0;32m~/miniconda3/lib/python3.11/pickle.py:560\u001b[0m, in \u001b[0;36m_Pickler.save\u001b[0;34m(self, obj, save_persistent_id)\u001b[0m\n\u001b[1;32m    558\u001b[0m f \u001b[38;5;241m=\u001b[39m \u001b[38;5;28mself\u001b[39m\u001b[38;5;241m.\u001b[39mdispatch\u001b[38;5;241m.\u001b[39mget(t)\n\u001b[1;32m    559\u001b[0m \u001b[38;5;28;01mif\u001b[39;00m f \u001b[38;5;129;01mis\u001b[39;00m \u001b[38;5;129;01mnot\u001b[39;00m \u001b[38;5;28;01mNone\u001b[39;00m:\n\u001b[0;32m--> 560\u001b[0m     \u001b[43mf\u001b[49m\u001b[43m(\u001b[49m\u001b[38;5;28;43mself\u001b[39;49m\u001b[43m,\u001b[49m\u001b[43m \u001b[49m\u001b[43mobj\u001b[49m\u001b[43m)\u001b[49m  \u001b[38;5;66;03m# Call unbound method with explicit self\u001b[39;00m\n\u001b[1;32m    561\u001b[0m     \u001b[38;5;28;01mreturn\u001b[39;00m\n\u001b[1;32m    563\u001b[0m \u001b[38;5;66;03m# Check private dispatch table if any, or else\u001b[39;00m\n\u001b[1;32m    564\u001b[0m \u001b[38;5;66;03m# copyreg.dispatch_table\u001b[39;00m\n",
      "File \u001b[0;32m~/miniconda3/lib/python3.11/pickle.py:972\u001b[0m, in \u001b[0;36m_Pickler.save_dict\u001b[0;34m(self, obj)\u001b[0m\n\u001b[1;32m    969\u001b[0m     \u001b[38;5;28mself\u001b[39m\u001b[38;5;241m.\u001b[39mwrite(MARK \u001b[38;5;241m+\u001b[39m DICT)\n\u001b[1;32m    971\u001b[0m \u001b[38;5;28mself\u001b[39m\u001b[38;5;241m.\u001b[39mmemoize(obj)\n\u001b[0;32m--> 972\u001b[0m \u001b[38;5;28;43mself\u001b[39;49m\u001b[38;5;241;43m.\u001b[39;49m\u001b[43m_batch_setitems\u001b[49m\u001b[43m(\u001b[49m\u001b[43mobj\u001b[49m\u001b[38;5;241;43m.\u001b[39;49m\u001b[43mitems\u001b[49m\u001b[43m(\u001b[49m\u001b[43m)\u001b[49m\u001b[43m)\u001b[49m\n",
      "File \u001b[0;32m~/miniconda3/lib/python3.11/pickle.py:998\u001b[0m, in \u001b[0;36m_Pickler._batch_setitems\u001b[0;34m(self, items)\u001b[0m\n\u001b[1;32m    996\u001b[0m     \u001b[38;5;28;01mfor\u001b[39;00m k, v \u001b[38;5;129;01min\u001b[39;00m tmp:\n\u001b[1;32m    997\u001b[0m         save(k)\n\u001b[0;32m--> 998\u001b[0m         \u001b[43msave\u001b[49m\u001b[43m(\u001b[49m\u001b[43mv\u001b[49m\u001b[43m)\u001b[49m\n\u001b[1;32m    999\u001b[0m     write(SETITEMS)\n\u001b[1;32m   1000\u001b[0m \u001b[38;5;28;01melif\u001b[39;00m n:\n",
      "    \u001b[0;31m[... skipping similar frames: NumpyPickler.save at line 355 (1 times)]\u001b[0m\n",
      "File \u001b[0;32m~/miniconda3/lib/python3.11/pickle.py:603\u001b[0m, in \u001b[0;36m_Pickler.save\u001b[0;34m(self, obj, save_persistent_id)\u001b[0m\n\u001b[1;32m    599\u001b[0m     \u001b[38;5;28;01mraise\u001b[39;00m PicklingError(\u001b[38;5;124m\"\u001b[39m\u001b[38;5;124mTuple returned by \u001b[39m\u001b[38;5;132;01m%s\u001b[39;00m\u001b[38;5;124m must have \u001b[39m\u001b[38;5;124m\"\u001b[39m\n\u001b[1;32m    600\u001b[0m                         \u001b[38;5;124m\"\u001b[39m\u001b[38;5;124mtwo to six elements\u001b[39m\u001b[38;5;124m\"\u001b[39m \u001b[38;5;241m%\u001b[39m reduce)\n\u001b[1;32m    602\u001b[0m \u001b[38;5;66;03m# Save the reduce() output and finally memoize the object\u001b[39;00m\n\u001b[0;32m--> 603\u001b[0m \u001b[38;5;28;43mself\u001b[39;49m\u001b[38;5;241;43m.\u001b[39;49m\u001b[43msave_reduce\u001b[49m\u001b[43m(\u001b[49m\u001b[43mobj\u001b[49m\u001b[38;5;241;43m=\u001b[39;49m\u001b[43mobj\u001b[49m\u001b[43m,\u001b[49m\u001b[43m \u001b[49m\u001b[38;5;241;43m*\u001b[39;49m\u001b[43mrv\u001b[49m\u001b[43m)\u001b[49m\n",
      "File \u001b[0;32m~/miniconda3/lib/python3.11/pickle.py:717\u001b[0m, in \u001b[0;36m_Pickler.save_reduce\u001b[0;34m(self, func, args, state, listitems, dictitems, state_setter, obj)\u001b[0m\n\u001b[1;32m    715\u001b[0m \u001b[38;5;28;01mif\u001b[39;00m state \u001b[38;5;129;01mis\u001b[39;00m \u001b[38;5;129;01mnot\u001b[39;00m \u001b[38;5;28;01mNone\u001b[39;00m:\n\u001b[1;32m    716\u001b[0m     \u001b[38;5;28;01mif\u001b[39;00m state_setter \u001b[38;5;129;01mis\u001b[39;00m \u001b[38;5;28;01mNone\u001b[39;00m:\n\u001b[0;32m--> 717\u001b[0m         \u001b[43msave\u001b[49m\u001b[43m(\u001b[49m\u001b[43mstate\u001b[49m\u001b[43m)\u001b[49m\n\u001b[1;32m    718\u001b[0m         write(BUILD)\n\u001b[1;32m    719\u001b[0m     \u001b[38;5;28;01melse\u001b[39;00m:\n\u001b[1;32m    720\u001b[0m         \u001b[38;5;66;03m# If a state_setter is specified, call it instead of load_build\u001b[39;00m\n\u001b[1;32m    721\u001b[0m         \u001b[38;5;66;03m# to update obj's with its previous state.\u001b[39;00m\n\u001b[1;32m    722\u001b[0m         \u001b[38;5;66;03m# First, push state_setter and its tuple of expected arguments\u001b[39;00m\n\u001b[1;32m    723\u001b[0m         \u001b[38;5;66;03m# (obj, state) onto the stack.\u001b[39;00m\n",
      "    \u001b[0;31m[... skipping similar frames: NumpyPickler.save at line 355 (1 times)]\u001b[0m\n",
      "File \u001b[0;32m~/miniconda3/lib/python3.11/pickle.py:560\u001b[0m, in \u001b[0;36m_Pickler.save\u001b[0;34m(self, obj, save_persistent_id)\u001b[0m\n\u001b[1;32m    558\u001b[0m f \u001b[38;5;241m=\u001b[39m \u001b[38;5;28mself\u001b[39m\u001b[38;5;241m.\u001b[39mdispatch\u001b[38;5;241m.\u001b[39mget(t)\n\u001b[1;32m    559\u001b[0m \u001b[38;5;28;01mif\u001b[39;00m f \u001b[38;5;129;01mis\u001b[39;00m \u001b[38;5;129;01mnot\u001b[39;00m \u001b[38;5;28;01mNone\u001b[39;00m:\n\u001b[0;32m--> 560\u001b[0m     \u001b[43mf\u001b[49m\u001b[43m(\u001b[49m\u001b[38;5;28;43mself\u001b[39;49m\u001b[43m,\u001b[49m\u001b[43m \u001b[49m\u001b[43mobj\u001b[49m\u001b[43m)\u001b[49m  \u001b[38;5;66;03m# Call unbound method with explicit self\u001b[39;00m\n\u001b[1;32m    561\u001b[0m     \u001b[38;5;28;01mreturn\u001b[39;00m\n\u001b[1;32m    563\u001b[0m \u001b[38;5;66;03m# Check private dispatch table if any, or else\u001b[39;00m\n\u001b[1;32m    564\u001b[0m \u001b[38;5;66;03m# copyreg.dispatch_table\u001b[39;00m\n",
      "File \u001b[0;32m~/miniconda3/lib/python3.11/pickle.py:972\u001b[0m, in \u001b[0;36m_Pickler.save_dict\u001b[0;34m(self, obj)\u001b[0m\n\u001b[1;32m    969\u001b[0m     \u001b[38;5;28mself\u001b[39m\u001b[38;5;241m.\u001b[39mwrite(MARK \u001b[38;5;241m+\u001b[39m DICT)\n\u001b[1;32m    971\u001b[0m \u001b[38;5;28mself\u001b[39m\u001b[38;5;241m.\u001b[39mmemoize(obj)\n\u001b[0;32m--> 972\u001b[0m \u001b[38;5;28;43mself\u001b[39;49m\u001b[38;5;241;43m.\u001b[39;49m\u001b[43m_batch_setitems\u001b[49m\u001b[43m(\u001b[49m\u001b[43mobj\u001b[49m\u001b[38;5;241;43m.\u001b[39;49m\u001b[43mitems\u001b[49m\u001b[43m(\u001b[49m\u001b[43m)\u001b[49m\u001b[43m)\u001b[49m\n",
      "File \u001b[0;32m~/miniconda3/lib/python3.11/pickle.py:998\u001b[0m, in \u001b[0;36m_Pickler._batch_setitems\u001b[0;34m(self, items)\u001b[0m\n\u001b[1;32m    996\u001b[0m     \u001b[38;5;28;01mfor\u001b[39;00m k, v \u001b[38;5;129;01min\u001b[39;00m tmp:\n\u001b[1;32m    997\u001b[0m         save(k)\n\u001b[0;32m--> 998\u001b[0m         \u001b[43msave\u001b[49m\u001b[43m(\u001b[49m\u001b[43mv\u001b[49m\u001b[43m)\u001b[49m\n\u001b[1;32m    999\u001b[0m     write(SETITEMS)\n\u001b[1;32m   1000\u001b[0m \u001b[38;5;28;01melif\u001b[39;00m n:\n",
      "    \u001b[0;31m[... skipping similar frames: NumpyPickler.save at line 355 (4 times), _Pickler.save at line 603 (2 times), _Pickler.save at line 560 (2 times), _Pickler.save_dict at line 972 (2 times), _Pickler.save_reduce at line 717 (2 times), _Pickler._batch_setitems at line 998 (1 times)]\u001b[0m\n",
      "File \u001b[0;32m~/miniconda3/lib/python3.11/pickle.py:998\u001b[0m, in \u001b[0;36m_Pickler._batch_setitems\u001b[0;34m(self, items)\u001b[0m\n\u001b[1;32m    996\u001b[0m     \u001b[38;5;28;01mfor\u001b[39;00m k, v \u001b[38;5;129;01min\u001b[39;00m tmp:\n\u001b[1;32m    997\u001b[0m         save(k)\n\u001b[0;32m--> 998\u001b[0m         \u001b[43msave\u001b[49m\u001b[43m(\u001b[49m\u001b[43mv\u001b[49m\u001b[43m)\u001b[49m\n\u001b[1;32m    999\u001b[0m     write(SETITEMS)\n\u001b[1;32m   1000\u001b[0m \u001b[38;5;28;01melif\u001b[39;00m n:\n",
      "    \u001b[0;31m[... skipping similar frames: NumpyPickler.save at line 355 (1 times)]\u001b[0m\n",
      "File \u001b[0;32m~/miniconda3/lib/python3.11/pickle.py:603\u001b[0m, in \u001b[0;36m_Pickler.save\u001b[0;34m(self, obj, save_persistent_id)\u001b[0m\n\u001b[1;32m    599\u001b[0m     \u001b[38;5;28;01mraise\u001b[39;00m PicklingError(\u001b[38;5;124m\"\u001b[39m\u001b[38;5;124mTuple returned by \u001b[39m\u001b[38;5;132;01m%s\u001b[39;00m\u001b[38;5;124m must have \u001b[39m\u001b[38;5;124m\"\u001b[39m\n\u001b[1;32m    600\u001b[0m                         \u001b[38;5;124m\"\u001b[39m\u001b[38;5;124mtwo to six elements\u001b[39m\u001b[38;5;124m\"\u001b[39m \u001b[38;5;241m%\u001b[39m reduce)\n\u001b[1;32m    602\u001b[0m \u001b[38;5;66;03m# Save the reduce() output and finally memoize the object\u001b[39;00m\n\u001b[0;32m--> 603\u001b[0m \u001b[38;5;28;43mself\u001b[39;49m\u001b[38;5;241;43m.\u001b[39;49m\u001b[43msave_reduce\u001b[49m\u001b[43m(\u001b[49m\u001b[43mobj\u001b[49m\u001b[38;5;241;43m=\u001b[39;49m\u001b[43mobj\u001b[49m\u001b[43m,\u001b[49m\u001b[43m \u001b[49m\u001b[38;5;241;43m*\u001b[39;49m\u001b[43mrv\u001b[49m\u001b[43m)\u001b[49m\n",
      "File \u001b[0;32m~/miniconda3/lib/python3.11/pickle.py:717\u001b[0m, in \u001b[0;36m_Pickler.save_reduce\u001b[0;34m(self, func, args, state, listitems, dictitems, state_setter, obj)\u001b[0m\n\u001b[1;32m    715\u001b[0m \u001b[38;5;28;01mif\u001b[39;00m state \u001b[38;5;129;01mis\u001b[39;00m \u001b[38;5;129;01mnot\u001b[39;00m \u001b[38;5;28;01mNone\u001b[39;00m:\n\u001b[1;32m    716\u001b[0m     \u001b[38;5;28;01mif\u001b[39;00m state_setter \u001b[38;5;129;01mis\u001b[39;00m \u001b[38;5;28;01mNone\u001b[39;00m:\n\u001b[0;32m--> 717\u001b[0m         \u001b[43msave\u001b[49m\u001b[43m(\u001b[49m\u001b[43mstate\u001b[49m\u001b[43m)\u001b[49m\n\u001b[1;32m    718\u001b[0m         write(BUILD)\n\u001b[1;32m    719\u001b[0m     \u001b[38;5;28;01melse\u001b[39;00m:\n\u001b[1;32m    720\u001b[0m         \u001b[38;5;66;03m# If a state_setter is specified, call it instead of load_build\u001b[39;00m\n\u001b[1;32m    721\u001b[0m         \u001b[38;5;66;03m# to update obj's with its previous state.\u001b[39;00m\n\u001b[1;32m    722\u001b[0m         \u001b[38;5;66;03m# First, push state_setter and its tuple of expected arguments\u001b[39;00m\n\u001b[1;32m    723\u001b[0m         \u001b[38;5;66;03m# (obj, state) onto the stack.\u001b[39;00m\n",
      "File \u001b[0;32m~/.cache/pypoetry/virtualenvs/taic-report-engine-vkGeZcZ8-py3.11/lib/python3.11/site-packages/joblib/numpy_pickle.py:355\u001b[0m, in \u001b[0;36mNumpyPickler.save\u001b[0;34m(self, obj)\u001b[0m\n\u001b[1;32m    352\u001b[0m     wrapper\u001b[38;5;241m.\u001b[39mwrite_array(obj, \u001b[38;5;28mself\u001b[39m)\n\u001b[1;32m    353\u001b[0m     \u001b[38;5;28;01mreturn\u001b[39;00m\n\u001b[0;32m--> 355\u001b[0m \u001b[38;5;28;01mreturn\u001b[39;00m \u001b[43mPickler\u001b[49m\u001b[38;5;241;43m.\u001b[39;49m\u001b[43msave\u001b[49m\u001b[43m(\u001b[49m\u001b[38;5;28;43mself\u001b[39;49m\u001b[43m,\u001b[49m\u001b[43m \u001b[49m\u001b[43mobj\u001b[49m\u001b[43m)\u001b[49m\n",
      "File \u001b[0;32m~/miniconda3/lib/python3.11/pickle.py:560\u001b[0m, in \u001b[0;36m_Pickler.save\u001b[0;34m(self, obj, save_persistent_id)\u001b[0m\n\u001b[1;32m    558\u001b[0m f \u001b[38;5;241m=\u001b[39m \u001b[38;5;28mself\u001b[39m\u001b[38;5;241m.\u001b[39mdispatch\u001b[38;5;241m.\u001b[39mget(t)\n\u001b[1;32m    559\u001b[0m \u001b[38;5;28;01mif\u001b[39;00m f \u001b[38;5;129;01mis\u001b[39;00m \u001b[38;5;129;01mnot\u001b[39;00m \u001b[38;5;28;01mNone\u001b[39;00m:\n\u001b[0;32m--> 560\u001b[0m     \u001b[43mf\u001b[49m\u001b[43m(\u001b[49m\u001b[38;5;28;43mself\u001b[39;49m\u001b[43m,\u001b[49m\u001b[43m \u001b[49m\u001b[43mobj\u001b[49m\u001b[43m)\u001b[49m  \u001b[38;5;66;03m# Call unbound method with explicit self\u001b[39;00m\n\u001b[1;32m    561\u001b[0m     \u001b[38;5;28;01mreturn\u001b[39;00m\n\u001b[1;32m    563\u001b[0m \u001b[38;5;66;03m# Check private dispatch table if any, or else\u001b[39;00m\n\u001b[1;32m    564\u001b[0m \u001b[38;5;66;03m# copyreg.dispatch_table\u001b[39;00m\n",
      "File \u001b[0;32m~/miniconda3/lib/python3.11/pickle.py:972\u001b[0m, in \u001b[0;36m_Pickler.save_dict\u001b[0;34m(self, obj)\u001b[0m\n\u001b[1;32m    969\u001b[0m     \u001b[38;5;28mself\u001b[39m\u001b[38;5;241m.\u001b[39mwrite(MARK \u001b[38;5;241m+\u001b[39m DICT)\n\u001b[1;32m    971\u001b[0m \u001b[38;5;28mself\u001b[39m\u001b[38;5;241m.\u001b[39mmemoize(obj)\n\u001b[0;32m--> 972\u001b[0m \u001b[38;5;28;43mself\u001b[39;49m\u001b[38;5;241;43m.\u001b[39;49m\u001b[43m_batch_setitems\u001b[49m\u001b[43m(\u001b[49m\u001b[43mobj\u001b[49m\u001b[38;5;241;43m.\u001b[39;49m\u001b[43mitems\u001b[49m\u001b[43m(\u001b[49m\u001b[43m)\u001b[49m\u001b[43m)\u001b[49m\n",
      "File \u001b[0;32m~/miniconda3/lib/python3.11/pickle.py:1003\u001b[0m, in \u001b[0;36m_Pickler._batch_setitems\u001b[0;34m(self, items)\u001b[0m\n\u001b[1;32m   1001\u001b[0m     k, v \u001b[38;5;241m=\u001b[39m tmp[\u001b[38;5;241m0\u001b[39m]\n\u001b[1;32m   1002\u001b[0m     save(k)\n\u001b[0;32m-> 1003\u001b[0m     \u001b[43msave\u001b[49m\u001b[43m(\u001b[49m\u001b[43mv\u001b[49m\u001b[43m)\u001b[49m\n\u001b[1;32m   1004\u001b[0m     write(SETITEM)\n\u001b[1;32m   1005\u001b[0m \u001b[38;5;66;03m# else tmp is empty, and we're done\u001b[39;00m\n",
      "File \u001b[0;32m~/.cache/pypoetry/virtualenvs/taic-report-engine-vkGeZcZ8-py3.11/lib/python3.11/site-packages/joblib/numpy_pickle.py:355\u001b[0m, in \u001b[0;36mNumpyPickler.save\u001b[0;34m(self, obj)\u001b[0m\n\u001b[1;32m    352\u001b[0m     wrapper\u001b[38;5;241m.\u001b[39mwrite_array(obj, \u001b[38;5;28mself\u001b[39m)\n\u001b[1;32m    353\u001b[0m     \u001b[38;5;28;01mreturn\u001b[39;00m\n\u001b[0;32m--> 355\u001b[0m \u001b[38;5;28;01mreturn\u001b[39;00m \u001b[43mPickler\u001b[49m\u001b[38;5;241;43m.\u001b[39;49m\u001b[43msave\u001b[49m\u001b[43m(\u001b[49m\u001b[38;5;28;43mself\u001b[39;49m\u001b[43m,\u001b[49m\u001b[43m \u001b[49m\u001b[43mobj\u001b[49m\u001b[43m)\u001b[49m\n",
      "File \u001b[0;32m~/miniconda3/lib/python3.11/pickle.py:603\u001b[0m, in \u001b[0;36m_Pickler.save\u001b[0;34m(self, obj, save_persistent_id)\u001b[0m\n\u001b[1;32m    599\u001b[0m     \u001b[38;5;28;01mraise\u001b[39;00m PicklingError(\u001b[38;5;124m\"\u001b[39m\u001b[38;5;124mTuple returned by \u001b[39m\u001b[38;5;132;01m%s\u001b[39;00m\u001b[38;5;124m must have \u001b[39m\u001b[38;5;124m\"\u001b[39m\n\u001b[1;32m    600\u001b[0m                         \u001b[38;5;124m\"\u001b[39m\u001b[38;5;124mtwo to six elements\u001b[39m\u001b[38;5;124m\"\u001b[39m \u001b[38;5;241m%\u001b[39m reduce)\n\u001b[1;32m    602\u001b[0m \u001b[38;5;66;03m# Save the reduce() output and finally memoize the object\u001b[39;00m\n\u001b[0;32m--> 603\u001b[0m \u001b[38;5;28;43mself\u001b[39;49m\u001b[38;5;241;43m.\u001b[39;49m\u001b[43msave_reduce\u001b[49m\u001b[43m(\u001b[49m\u001b[43mobj\u001b[49m\u001b[38;5;241;43m=\u001b[39;49m\u001b[43mobj\u001b[49m\u001b[43m,\u001b[49m\u001b[43m \u001b[49m\u001b[38;5;241;43m*\u001b[39;49m\u001b[43mrv\u001b[49m\u001b[43m)\u001b[49m\n",
      "File \u001b[0;32m~/miniconda3/lib/python3.11/pickle.py:717\u001b[0m, in \u001b[0;36m_Pickler.save_reduce\u001b[0;34m(self, func, args, state, listitems, dictitems, state_setter, obj)\u001b[0m\n\u001b[1;32m    715\u001b[0m \u001b[38;5;28;01mif\u001b[39;00m state \u001b[38;5;129;01mis\u001b[39;00m \u001b[38;5;129;01mnot\u001b[39;00m \u001b[38;5;28;01mNone\u001b[39;00m:\n\u001b[1;32m    716\u001b[0m     \u001b[38;5;28;01mif\u001b[39;00m state_setter \u001b[38;5;129;01mis\u001b[39;00m \u001b[38;5;28;01mNone\u001b[39;00m:\n\u001b[0;32m--> 717\u001b[0m         \u001b[43msave\u001b[49m\u001b[43m(\u001b[49m\u001b[43mstate\u001b[49m\u001b[43m)\u001b[49m\n\u001b[1;32m    718\u001b[0m         write(BUILD)\n\u001b[1;32m    719\u001b[0m     \u001b[38;5;28;01melse\u001b[39;00m:\n\u001b[1;32m    720\u001b[0m         \u001b[38;5;66;03m# If a state_setter is specified, call it instead of load_build\u001b[39;00m\n\u001b[1;32m    721\u001b[0m         \u001b[38;5;66;03m# to update obj's with its previous state.\u001b[39;00m\n\u001b[1;32m    722\u001b[0m         \u001b[38;5;66;03m# First, push state_setter and its tuple of expected arguments\u001b[39;00m\n\u001b[1;32m    723\u001b[0m         \u001b[38;5;66;03m# (obj, state) onto the stack.\u001b[39;00m\n",
      "File \u001b[0;32m~/.cache/pypoetry/virtualenvs/taic-report-engine-vkGeZcZ8-py3.11/lib/python3.11/site-packages/joblib/numpy_pickle.py:355\u001b[0m, in \u001b[0;36mNumpyPickler.save\u001b[0;34m(self, obj)\u001b[0m\n\u001b[1;32m    352\u001b[0m     wrapper\u001b[38;5;241m.\u001b[39mwrite_array(obj, \u001b[38;5;28mself\u001b[39m)\n\u001b[1;32m    353\u001b[0m     \u001b[38;5;28;01mreturn\u001b[39;00m\n\u001b[0;32m--> 355\u001b[0m \u001b[38;5;28;01mreturn\u001b[39;00m \u001b[43mPickler\u001b[49m\u001b[38;5;241;43m.\u001b[39;49m\u001b[43msave\u001b[49m\u001b[43m(\u001b[49m\u001b[38;5;28;43mself\u001b[39;49m\u001b[43m,\u001b[49m\u001b[43m \u001b[49m\u001b[43mobj\u001b[49m\u001b[43m)\u001b[49m\n",
      "File \u001b[0;32m~/miniconda3/lib/python3.11/pickle.py:560\u001b[0m, in \u001b[0;36m_Pickler.save\u001b[0;34m(self, obj, save_persistent_id)\u001b[0m\n\u001b[1;32m    558\u001b[0m f \u001b[38;5;241m=\u001b[39m \u001b[38;5;28mself\u001b[39m\u001b[38;5;241m.\u001b[39mdispatch\u001b[38;5;241m.\u001b[39mget(t)\n\u001b[1;32m    559\u001b[0m \u001b[38;5;28;01mif\u001b[39;00m f \u001b[38;5;129;01mis\u001b[39;00m \u001b[38;5;129;01mnot\u001b[39;00m \u001b[38;5;28;01mNone\u001b[39;00m:\n\u001b[0;32m--> 560\u001b[0m     \u001b[43mf\u001b[49m\u001b[43m(\u001b[49m\u001b[38;5;28;43mself\u001b[39;49m\u001b[43m,\u001b[49m\u001b[43m \u001b[49m\u001b[43mobj\u001b[49m\u001b[43m)\u001b[49m  \u001b[38;5;66;03m# Call unbound method with explicit self\u001b[39;00m\n\u001b[1;32m    561\u001b[0m     \u001b[38;5;28;01mreturn\u001b[39;00m\n\u001b[1;32m    563\u001b[0m \u001b[38;5;66;03m# Check private dispatch table if any, or else\u001b[39;00m\n\u001b[1;32m    564\u001b[0m \u001b[38;5;66;03m# copyreg.dispatch_table\u001b[39;00m\n",
      "File \u001b[0;32m~/miniconda3/lib/python3.11/pickle.py:972\u001b[0m, in \u001b[0;36m_Pickler.save_dict\u001b[0;34m(self, obj)\u001b[0m\n\u001b[1;32m    969\u001b[0m     \u001b[38;5;28mself\u001b[39m\u001b[38;5;241m.\u001b[39mwrite(MARK \u001b[38;5;241m+\u001b[39m DICT)\n\u001b[1;32m    971\u001b[0m \u001b[38;5;28mself\u001b[39m\u001b[38;5;241m.\u001b[39mmemoize(obj)\n\u001b[0;32m--> 972\u001b[0m \u001b[38;5;28;43mself\u001b[39;49m\u001b[38;5;241;43m.\u001b[39;49m\u001b[43m_batch_setitems\u001b[49m\u001b[43m(\u001b[49m\u001b[43mobj\u001b[49m\u001b[38;5;241;43m.\u001b[39;49m\u001b[43mitems\u001b[49m\u001b[43m(\u001b[49m\u001b[43m)\u001b[49m\u001b[43m)\u001b[49m\n",
      "File \u001b[0;32m~/miniconda3/lib/python3.11/pickle.py:998\u001b[0m, in \u001b[0;36m_Pickler._batch_setitems\u001b[0;34m(self, items)\u001b[0m\n\u001b[1;32m    996\u001b[0m     \u001b[38;5;28;01mfor\u001b[39;00m k, v \u001b[38;5;129;01min\u001b[39;00m tmp:\n\u001b[1;32m    997\u001b[0m         save(k)\n\u001b[0;32m--> 998\u001b[0m         \u001b[43msave\u001b[49m\u001b[43m(\u001b[49m\u001b[43mv\u001b[49m\u001b[43m)\u001b[49m\n\u001b[1;32m    999\u001b[0m     write(SETITEMS)\n\u001b[1;32m   1000\u001b[0m \u001b[38;5;28;01melif\u001b[39;00m n:\n",
      "File \u001b[0;32m~/.cache/pypoetry/virtualenvs/taic-report-engine-vkGeZcZ8-py3.11/lib/python3.11/site-packages/joblib/numpy_pickle.py:355\u001b[0m, in \u001b[0;36mNumpyPickler.save\u001b[0;34m(self, obj)\u001b[0m\n\u001b[1;32m    352\u001b[0m     wrapper\u001b[38;5;241m.\u001b[39mwrite_array(obj, \u001b[38;5;28mself\u001b[39m)\n\u001b[1;32m    353\u001b[0m     \u001b[38;5;28;01mreturn\u001b[39;00m\n\u001b[0;32m--> 355\u001b[0m \u001b[38;5;28;01mreturn\u001b[39;00m \u001b[43mPickler\u001b[49m\u001b[38;5;241;43m.\u001b[39;49m\u001b[43msave\u001b[49m\u001b[43m(\u001b[49m\u001b[38;5;28;43mself\u001b[39;49m\u001b[43m,\u001b[49m\u001b[43m \u001b[49m\u001b[43mobj\u001b[49m\u001b[43m)\u001b[49m\n",
      "File \u001b[0;32m~/miniconda3/lib/python3.11/pickle.py:578\u001b[0m, in \u001b[0;36m_Pickler.save\u001b[0;34m(self, obj, save_persistent_id)\u001b[0m\n\u001b[1;32m    576\u001b[0m reduce \u001b[38;5;241m=\u001b[39m \u001b[38;5;28mgetattr\u001b[39m(obj, \u001b[38;5;124m\"\u001b[39m\u001b[38;5;124m__reduce_ex__\u001b[39m\u001b[38;5;124m\"\u001b[39m, \u001b[38;5;28;01mNone\u001b[39;00m)\n\u001b[1;32m    577\u001b[0m \u001b[38;5;28;01mif\u001b[39;00m reduce \u001b[38;5;129;01mis\u001b[39;00m \u001b[38;5;129;01mnot\u001b[39;00m \u001b[38;5;28;01mNone\u001b[39;00m:\n\u001b[0;32m--> 578\u001b[0m     rv \u001b[38;5;241m=\u001b[39m reduce(\u001b[38;5;28mself\u001b[39m\u001b[38;5;241m.\u001b[39mproto)\n\u001b[1;32m    579\u001b[0m \u001b[38;5;28;01melse\u001b[39;00m:\n\u001b[1;32m    580\u001b[0m     reduce \u001b[38;5;241m=\u001b[39m \u001b[38;5;28mgetattr\u001b[39m(obj, \u001b[38;5;124m\"\u001b[39m\u001b[38;5;124m__reduce__\u001b[39m\u001b[38;5;124m\"\u001b[39m, \u001b[38;5;28;01mNone\u001b[39;00m)\n",
      "\u001b[0;31mTypeError\u001b[0m: cannot pickle '_thread.RLock' object"
     ]
    }
   ],
   "source": [
    "demo_group_model = potential_group_model.loc[0,]\n",
    "\n",
    "demo_group_model['group_model'].save('demo_group_model', serialization='pytorch')"
   ]
  },
  {
   "cell_type": "markdown",
   "metadata": {},
   "source": [
    "#### Merged models\n",
    "\n",
    "There are three sets of indivudal models that has good counts.\n",
    "I can use this to merge a model and end up with quite a few topics."
   ]
  },
  {
   "cell_type": "code",
   "execution_count": null,
   "metadata": {},
   "outputs": [],
   "source": [
    "potential_individual_models = appropriate_counts_df[appropriate_counts_df['individual_topic_counts'].apply(\n",
    "    lambda counts: \n",
    "    sum(counts) == 3\n",
    "    )\n",
    "].reset_index(drop=True)\n"
   ]
  },
  {
   "cell_type": "code",
   "execution_count": null,
   "metadata": {},
   "outputs": [],
   "source": [
    "\n",
    "potential_individual_models['merged_model'] = potential_individual_models.apply(\n",
    "    lambda row: \n",
    "    BERTopic.merge_models(row['individual_models'])\n",
    "    , axis=1\n",
    ")\n",
    "\n",
    "potential_individual_models['merged_df'] = potential_individual_models['individual_df'].apply(\n",
    "    lambda dfs: pd.concat([df.dropna(subset=['si']) for df in dfs], axis = 0)\n",
    ")    \n"
   ]
  },
  {
   "cell_type": "code",
   "execution_count": null,
   "metadata": {},
   "outputs": [],
   "source": [
    "potential_individual_models.apply(\n",
    "    lambda row: \n",
    "    row['merged_model'].update_topics(\n",
    "        row['merged_df']['si'].tolist(),\n",
    "        representation_model = openai_base_representation_model\n",
    "    ), axis = 1\n",
    ")\n"
   ]
  },
  {
   "cell_type": "code",
   "execution_count": null,
   "metadata": {},
   "outputs": [
    {
     "data": {
      "text/html": [
       "<div>\n",
       "<style scoped>\n",
       "    .dataframe tbody tr th:only-of-type {\n",
       "        vertical-align: middle;\n",
       "    }\n",
       "\n",
       "    .dataframe tbody tr th {\n",
       "        vertical-align: top;\n",
       "    }\n",
       "\n",
       "    .dataframe thead th {\n",
       "        text-align: right;\n",
       "    }\n",
       "</style>\n",
       "<table border=\"1\" class=\"dataframe\">\n",
       "  <thead>\n",
       "    <tr style=\"text-align: right;\">\n",
       "      <th></th>\n",
       "      <th>Topic</th>\n",
       "      <th>Count</th>\n",
       "      <th>Name</th>\n",
       "      <th>Representation</th>\n",
       "      <th>Representative_Docs</th>\n",
       "    </tr>\n",
       "  </thead>\n",
       "  <tbody>\n",
       "    <tr>\n",
       "      <th>0</th>\n",
       "      <td>0</td>\n",
       "      <td>42</td>\n",
       "      <td>0_Helicopter Safety and Pilot Error</td>\n",
       "      <td>[Helicopter Safety and Pilot Error]</td>\n",
       "      <td>NaN</td>\n",
       "    </tr>\n",
       "    <tr>\n",
       "      <th>1</th>\n",
       "      <td>1</td>\n",
       "      <td>261</td>\n",
       "      <td>1_Transportation Safety and Management Issues</td>\n",
       "      <td>[Transportation Safety and Management Issues]</td>\n",
       "      <td>NaN</td>\n",
       "    </tr>\n",
       "    <tr>\n",
       "      <th>2</th>\n",
       "      <td>2</td>\n",
       "      <td>18</td>\n",
       "      <td>2_Aviation Safety and Regulatory Oversight</td>\n",
       "      <td>[Aviation Safety and Regulatory Oversight]</td>\n",
       "      <td>NaN</td>\n",
       "    </tr>\n",
       "    <tr>\n",
       "      <th>3</th>\n",
       "      <td>3</td>\n",
       "      <td>18</td>\n",
       "      <td>3_Aircraft Landing Gear and Maintenance Issues</td>\n",
       "      <td>[Aircraft Landing Gear and Maintenance Issues]</td>\n",
       "      <td>NaN</td>\n",
       "    </tr>\n",
       "    <tr>\n",
       "      <th>4</th>\n",
       "      <td>4</td>\n",
       "      <td>35</td>\n",
       "      <td>4_Aviation Safety and Compliance Issues</td>\n",
       "      <td>[Aviation Safety and Compliance Issues]</td>\n",
       "      <td>NaN</td>\n",
       "    </tr>\n",
       "    <tr>\n",
       "      <th>5</th>\n",
       "      <td>5</td>\n",
       "      <td>16</td>\n",
       "      <td>5_Aviation Safety and Regulatory Concerns in N...</td>\n",
       "      <td>[Aviation Safety and Regulatory Concerns in Ne...</td>\n",
       "      <td>NaN</td>\n",
       "    </tr>\n",
       "    <tr>\n",
       "      <th>6</th>\n",
       "      <td>6</td>\n",
       "      <td>12</td>\n",
       "      <td>6_Safety and Compliance Issues in Aircraft Com...</td>\n",
       "      <td>[Safety and Compliance Issues in Aircraft Comp...</td>\n",
       "      <td>NaN</td>\n",
       "    </tr>\n",
       "    <tr>\n",
       "      <th>7</th>\n",
       "      <td>7</td>\n",
       "      <td>28</td>\n",
       "      <td>7_Aerodrome and Air Traffic Control Operations...</td>\n",
       "      <td>[Aerodrome and Air Traffic Control Operations ...</td>\n",
       "      <td>NaN</td>\n",
       "    </tr>\n",
       "    <tr>\n",
       "      <th>8</th>\n",
       "      <td>8</td>\n",
       "      <td>26</td>\n",
       "      <td>8_Safety and Performance Risks in Rail Control...</td>\n",
       "      <td>[Safety and Performance Risks in Rail Control ...</td>\n",
       "      <td>NaN</td>\n",
       "    </tr>\n",
       "    <tr>\n",
       "      <th>9</th>\n",
       "      <td>9</td>\n",
       "      <td>23</td>\n",
       "      <td>9_Risk Factors and Challenges in Train Operati...</td>\n",
       "      <td>[Risk Factors and Challenges in Train Operatio...</td>\n",
       "      <td>NaN</td>\n",
       "    </tr>\n",
       "    <tr>\n",
       "      <th>10</th>\n",
       "      <td>10</td>\n",
       "      <td>20</td>\n",
       "      <td>10_Rail System Failures and Inadequate Safety ...</td>\n",
       "      <td>[Rail System Failures and Inadequate Safety Pr...</td>\n",
       "      <td>NaN</td>\n",
       "    </tr>\n",
       "    <tr>\n",
       "      <th>11</th>\n",
       "      <td>11</td>\n",
       "      <td>13</td>\n",
       "      <td>11_Safety and Compatibility Issues at Rail Lev...</td>\n",
       "      <td>[Safety and Compatibility Issues at Rail Level...</td>\n",
       "      <td>NaN</td>\n",
       "    </tr>\n",
       "    <tr>\n",
       "      <th>12</th>\n",
       "      <td>12</td>\n",
       "      <td>32</td>\n",
       "      <td>12_Maritime Safety and Emergency Response Defi...</td>\n",
       "      <td>[Maritime Safety and Emergency Response Defici...</td>\n",
       "      <td>NaN</td>\n",
       "    </tr>\n",
       "    <tr>\n",
       "      <th>13</th>\n",
       "      <td>13</td>\n",
       "      <td>16</td>\n",
       "      <td>13_Maintenance and Effectiveness Issues in CO2...</td>\n",
       "      <td>[Maintenance and Effectiveness Issues in CO2 F...</td>\n",
       "      <td>NaN</td>\n",
       "    </tr>\n",
       "  </tbody>\n",
       "</table>\n",
       "</div>"
      ],
      "text/plain": [
       "    Topic  Count                                               Name  \\\n",
       "0       0     42                0_Helicopter Safety and Pilot Error   \n",
       "1       1    261      1_Transportation Safety and Management Issues   \n",
       "2       2     18         2_Aviation Safety and Regulatory Oversight   \n",
       "3       3     18     3_Aircraft Landing Gear and Maintenance Issues   \n",
       "4       4     35            4_Aviation Safety and Compliance Issues   \n",
       "5       5     16  5_Aviation Safety and Regulatory Concerns in N...   \n",
       "6       6     12  6_Safety and Compliance Issues in Aircraft Com...   \n",
       "7       7     28  7_Aerodrome and Air Traffic Control Operations...   \n",
       "8       8     26  8_Safety and Performance Risks in Rail Control...   \n",
       "9       9     23  9_Risk Factors and Challenges in Train Operati...   \n",
       "10     10     20  10_Rail System Failures and Inadequate Safety ...   \n",
       "11     11     13  11_Safety and Compatibility Issues at Rail Lev...   \n",
       "12     12     32  12_Maritime Safety and Emergency Response Defi...   \n",
       "13     13     16  13_Maintenance and Effectiveness Issues in CO2...   \n",
       "\n",
       "                                       Representation  Representative_Docs  \n",
       "0                 [Helicopter Safety and Pilot Error]                  NaN  \n",
       "1       [Transportation Safety and Management Issues]                  NaN  \n",
       "2          [Aviation Safety and Regulatory Oversight]                  NaN  \n",
       "3      [Aircraft Landing Gear and Maintenance Issues]                  NaN  \n",
       "4             [Aviation Safety and Compliance Issues]                  NaN  \n",
       "5   [Aviation Safety and Regulatory Concerns in Ne...                  NaN  \n",
       "6   [Safety and Compliance Issues in Aircraft Comp...                  NaN  \n",
       "7   [Aerodrome and Air Traffic Control Operations ...                  NaN  \n",
       "8   [Safety and Performance Risks in Rail Control ...                  NaN  \n",
       "9   [Risk Factors and Challenges in Train Operatio...                  NaN  \n",
       "10  [Rail System Failures and Inadequate Safety Pr...                  NaN  \n",
       "11  [Safety and Compatibility Issues at Rail Level...                  NaN  \n",
       "12  [Maritime Safety and Emergency Response Defici...                  NaN  \n",
       "13  [Maintenance and Effectiveness Issues in CO2 F...                  NaN  "
      ]
     },
     "metadata": {},
     "output_type": "display_data"
    },
    {
     "data": {
      "text/html": [
       "<div>\n",
       "<style scoped>\n",
       "    .dataframe tbody tr th:only-of-type {\n",
       "        vertical-align: middle;\n",
       "    }\n",
       "\n",
       "    .dataframe tbody tr th {\n",
       "        vertical-align: top;\n",
       "    }\n",
       "\n",
       "    .dataframe thead th {\n",
       "        text-align: right;\n",
       "    }\n",
       "</style>\n",
       "<table border=\"1\" class=\"dataframe\">\n",
       "  <thead>\n",
       "    <tr style=\"text-align: right;\">\n",
       "      <th></th>\n",
       "      <th>Topic</th>\n",
       "      <th>Count</th>\n",
       "      <th>Name</th>\n",
       "      <th>Representation</th>\n",
       "      <th>Representative_Docs</th>\n",
       "    </tr>\n",
       "  </thead>\n",
       "  <tbody>\n",
       "    <tr>\n",
       "      <th>0</th>\n",
       "      <td>0</td>\n",
       "      <td>44</td>\n",
       "      <td>0_Helicopter Safety and Accident Factors</td>\n",
       "      <td>[Helicopter Safety and Accident Factors]</td>\n",
       "      <td>NaN</td>\n",
       "    </tr>\n",
       "    <tr>\n",
       "      <th>1</th>\n",
       "      <td>1</td>\n",
       "      <td>144</td>\n",
       "      <td>1_Maritime Safety and Management Failures</td>\n",
       "      <td>[Maritime Safety and Management Failures]</td>\n",
       "      <td>NaN</td>\n",
       "    </tr>\n",
       "    <tr>\n",
       "      <th>2</th>\n",
       "      <td>2</td>\n",
       "      <td>18</td>\n",
       "      <td>2_Aircraft Nose Landing Gear Failures and Main...</td>\n",
       "      <td>[Aircraft Nose Landing Gear Failures and Maint...</td>\n",
       "      <td>NaN</td>\n",
       "    </tr>\n",
       "    <tr>\n",
       "      <th>3</th>\n",
       "      <td>3</td>\n",
       "      <td>18</td>\n",
       "      <td>3_Safety and Regulatory Compliance in Aviation...</td>\n",
       "      <td>[Safety and Regulatory Compliance in Aviation ...</td>\n",
       "      <td>NaN</td>\n",
       "    </tr>\n",
       "    <tr>\n",
       "      <th>4</th>\n",
       "      <td>4</td>\n",
       "      <td>18</td>\n",
       "      <td>4_Air Traffic Control and Pilot Miscommunication</td>\n",
       "      <td>[Air Traffic Control and Pilot Miscommunication]</td>\n",
       "      <td>NaN</td>\n",
       "    </tr>\n",
       "    <tr>\n",
       "      <th>5</th>\n",
       "      <td>5</td>\n",
       "      <td>20</td>\n",
       "      <td>5_Aviation Safety and Regulatory Compliance Co...</td>\n",
       "      <td>[Aviation Safety and Regulatory Compliance Con...</td>\n",
       "      <td>NaN</td>\n",
       "    </tr>\n",
       "    <tr>\n",
       "      <th>6</th>\n",
       "      <td>6</td>\n",
       "      <td>60</td>\n",
       "      <td>6_Safety and Compliance Issues in Transportati...</td>\n",
       "      <td>[Safety and Compliance Issues in Transportatio...</td>\n",
       "      <td>NaN</td>\n",
       "    </tr>\n",
       "    <tr>\n",
       "      <th>7</th>\n",
       "      <td>7</td>\n",
       "      <td>23</td>\n",
       "      <td>7_Safety and Regulatory Issues in New Zealand ...</td>\n",
       "      <td>[Safety and Regulatory Issues in New Zealand A...</td>\n",
       "      <td>NaN</td>\n",
       "    </tr>\n",
       "    <tr>\n",
       "      <th>8</th>\n",
       "      <td>8</td>\n",
       "      <td>42</td>\n",
       "      <td>8_Transportation Safety and Communication Issues</td>\n",
       "      <td>[Transportation Safety and Communication Issues]</td>\n",
       "      <td>NaN</td>\n",
       "    </tr>\n",
       "    <tr>\n",
       "      <th>9</th>\n",
       "      <td>9</td>\n",
       "      <td>42</td>\n",
       "      <td>9_KiwiRail Safety and Procedure Compliance Issues</td>\n",
       "      <td>[KiwiRail Safety and Procedure Compliance Issues]</td>\n",
       "      <td>NaN</td>\n",
       "    </tr>\n",
       "    <tr>\n",
       "      <th>10</th>\n",
       "      <td>10</td>\n",
       "      <td>33</td>\n",
       "      <td>10_Rail and Train Safety Issues and Insufficie...</td>\n",
       "      <td>[Rail and Train Safety Issues and Insufficienc...</td>\n",
       "      <td>NaN</td>\n",
       "    </tr>\n",
       "    <tr>\n",
       "      <th>11</th>\n",
       "      <td>11</td>\n",
       "      <td>26</td>\n",
       "      <td>11_Safety and Performance Issues in Rail Opera...</td>\n",
       "      <td>[Safety and Performance Issues in Rail Operati...</td>\n",
       "      <td>NaN</td>\n",
       "    </tr>\n",
       "    <tr>\n",
       "      <th>12</th>\n",
       "      <td>12</td>\n",
       "      <td>27</td>\n",
       "      <td>12_Rail Safety and Procedural Failures</td>\n",
       "      <td>[Rail Safety and Procedural Failures]</td>\n",
       "      <td>NaN</td>\n",
       "    </tr>\n",
       "    <tr>\n",
       "      <th>13</th>\n",
       "      <td>13</td>\n",
       "      <td>20</td>\n",
       "      <td>13_Risks and Challenges in Train Operations at...</td>\n",
       "      <td>[Risks and Challenges in Train Operations at W...</td>\n",
       "      <td>NaN</td>\n",
       "    </tr>\n",
       "    <tr>\n",
       "      <th>14</th>\n",
       "      <td>14</td>\n",
       "      <td>13</td>\n",
       "      <td>14_Safety and Compatibility Issues at Road-Rai...</td>\n",
       "      <td>[Safety and Compatibility Issues at Road-Rail ...</td>\n",
       "      <td>NaN</td>\n",
       "    </tr>\n",
       "    <tr>\n",
       "      <th>15</th>\n",
       "      <td>15</td>\n",
       "      <td>12</td>\n",
       "      <td>15_Shipboard Emergency Response and Training D...</td>\n",
       "      <td>[Shipboard Emergency Response and Training Def...</td>\n",
       "      <td>NaN</td>\n",
       "    </tr>\n",
       "  </tbody>\n",
       "</table>\n",
       "</div>"
      ],
      "text/plain": [
       "    Topic  Count                                               Name  \\\n",
       "0       0     44           0_Helicopter Safety and Accident Factors   \n",
       "1       1    144          1_Maritime Safety and Management Failures   \n",
       "2       2     18  2_Aircraft Nose Landing Gear Failures and Main...   \n",
       "3       3     18  3_Safety and Regulatory Compliance in Aviation...   \n",
       "4       4     18   4_Air Traffic Control and Pilot Miscommunication   \n",
       "5       5     20  5_Aviation Safety and Regulatory Compliance Co...   \n",
       "6       6     60  6_Safety and Compliance Issues in Transportati...   \n",
       "7       7     23  7_Safety and Regulatory Issues in New Zealand ...   \n",
       "8       8     42   8_Transportation Safety and Communication Issues   \n",
       "9       9     42  9_KiwiRail Safety and Procedure Compliance Issues   \n",
       "10     10     33  10_Rail and Train Safety Issues and Insufficie...   \n",
       "11     11     26  11_Safety and Performance Issues in Rail Opera...   \n",
       "12     12     27             12_Rail Safety and Procedural Failures   \n",
       "13     13     20  13_Risks and Challenges in Train Operations at...   \n",
       "14     14     13  14_Safety and Compatibility Issues at Road-Rai...   \n",
       "15     15     12  15_Shipboard Emergency Response and Training D...   \n",
       "\n",
       "                                       Representation  Representative_Docs  \n",
       "0            [Helicopter Safety and Accident Factors]                  NaN  \n",
       "1           [Maritime Safety and Management Failures]                  NaN  \n",
       "2   [Aircraft Nose Landing Gear Failures and Maint...                  NaN  \n",
       "3   [Safety and Regulatory Compliance in Aviation ...                  NaN  \n",
       "4    [Air Traffic Control and Pilot Miscommunication]                  NaN  \n",
       "5   [Aviation Safety and Regulatory Compliance Con...                  NaN  \n",
       "6   [Safety and Compliance Issues in Transportatio...                  NaN  \n",
       "7   [Safety and Regulatory Issues in New Zealand A...                  NaN  \n",
       "8    [Transportation Safety and Communication Issues]                  NaN  \n",
       "9   [KiwiRail Safety and Procedure Compliance Issues]                  NaN  \n",
       "10  [Rail and Train Safety Issues and Insufficienc...                  NaN  \n",
       "11  [Safety and Performance Issues in Rail Operati...                  NaN  \n",
       "12              [Rail Safety and Procedural Failures]                  NaN  \n",
       "13  [Risks and Challenges in Train Operations at W...                  NaN  \n",
       "14  [Safety and Compatibility Issues at Road-Rail ...                  NaN  \n",
       "15  [Shipboard Emergency Response and Training Def...                  NaN  "
      ]
     },
     "metadata": {},
     "output_type": "display_data"
    },
    {
     "data": {
      "text/html": [
       "<div>\n",
       "<style scoped>\n",
       "    .dataframe tbody tr th:only-of-type {\n",
       "        vertical-align: middle;\n",
       "    }\n",
       "\n",
       "    .dataframe tbody tr th {\n",
       "        vertical-align: top;\n",
       "    }\n",
       "\n",
       "    .dataframe thead th {\n",
       "        text-align: right;\n",
       "    }\n",
       "</style>\n",
       "<table border=\"1\" class=\"dataframe\">\n",
       "  <thead>\n",
       "    <tr style=\"text-align: right;\">\n",
       "      <th></th>\n",
       "      <th>Topic</th>\n",
       "      <th>Count</th>\n",
       "      <th>Name</th>\n",
       "      <th>Representation</th>\n",
       "      <th>Representative_Docs</th>\n",
       "    </tr>\n",
       "  </thead>\n",
       "  <tbody>\n",
       "    <tr>\n",
       "      <th>0</th>\n",
       "      <td>0</td>\n",
       "      <td>57</td>\n",
       "      <td>0_Helicopter Safety and Operational Hazards</td>\n",
       "      <td>[Helicopter Safety and Operational Hazards]</td>\n",
       "      <td>NaN</td>\n",
       "    </tr>\n",
       "    <tr>\n",
       "      <th>1</th>\n",
       "      <td>1</td>\n",
       "      <td>44</td>\n",
       "      <td>1_Aviation Safety and Compliance Issues</td>\n",
       "      <td>[Aviation Safety and Compliance Issues]</td>\n",
       "      <td>NaN</td>\n",
       "    </tr>\n",
       "    <tr>\n",
       "      <th>2</th>\n",
       "      <td>2</td>\n",
       "      <td>186</td>\n",
       "      <td>2_Maritime Safety and Management System Defici...</td>\n",
       "      <td>[Maritime Safety and Management System Deficie...</td>\n",
       "      <td>NaN</td>\n",
       "    </tr>\n",
       "    <tr>\n",
       "      <th>3</th>\n",
       "      <td>3</td>\n",
       "      <td>22</td>\n",
       "      <td>3_Aircraft Nose Landing Gear Maintenance and F...</td>\n",
       "      <td>[Aircraft Nose Landing Gear Maintenance and Fa...</td>\n",
       "      <td>NaN</td>\n",
       "    </tr>\n",
       "    <tr>\n",
       "      <th>4</th>\n",
       "      <td>4</td>\n",
       "      <td>18</td>\n",
       "      <td>4_Aviation Safety and Regulatory Oversight</td>\n",
       "      <td>[Aviation Safety and Regulatory Oversight]</td>\n",
       "      <td>NaN</td>\n",
       "    </tr>\n",
       "    <tr>\n",
       "      <th>5</th>\n",
       "      <td>5</td>\n",
       "      <td>12</td>\n",
       "      <td>5_Safety and Regulatory Issues in New Zealand ...</td>\n",
       "      <td>[Safety and Regulatory Issues in New Zealand A...</td>\n",
       "      <td>NaN</td>\n",
       "    </tr>\n",
       "    <tr>\n",
       "      <th>6</th>\n",
       "      <td>6</td>\n",
       "      <td>44</td>\n",
       "      <td>6_Train Safety and Communication Issues</td>\n",
       "      <td>[Train Safety and Communication Issues]</td>\n",
       "      <td>NaN</td>\n",
       "    </tr>\n",
       "    <tr>\n",
       "      <th>7</th>\n",
       "      <td>7</td>\n",
       "      <td>39</td>\n",
       "      <td>7_KiwiRail Safety and Compliance Issues</td>\n",
       "      <td>[KiwiRail Safety and Compliance Issues]</td>\n",
       "      <td>NaN</td>\n",
       "    </tr>\n",
       "    <tr>\n",
       "      <th>8</th>\n",
       "      <td>8</td>\n",
       "      <td>35</td>\n",
       "      <td>8_Rail and Train Safety Issues</td>\n",
       "      <td>[Rail and Train Safety Issues]</td>\n",
       "      <td>NaN</td>\n",
       "    </tr>\n",
       "    <tr>\n",
       "      <th>9</th>\n",
       "      <td>9</td>\n",
       "      <td>26</td>\n",
       "      <td>9_Safety and Performance Issues in Train Control</td>\n",
       "      <td>[Safety and Performance Issues in Train Control]</td>\n",
       "      <td>NaN</td>\n",
       "    </tr>\n",
       "    <tr>\n",
       "      <th>10</th>\n",
       "      <td>10</td>\n",
       "      <td>28</td>\n",
       "      <td>10_Rail Safety and Signal Management Issues</td>\n",
       "      <td>[Rail Safety and Signal Management Issues]</td>\n",
       "      <td>NaN</td>\n",
       "    </tr>\n",
       "    <tr>\n",
       "      <th>11</th>\n",
       "      <td>11</td>\n",
       "      <td>13</td>\n",
       "      <td>11_Road and Rail Safety Issues at Level Crossings</td>\n",
       "      <td>[Road and Rail Safety Issues at Level Crossings]</td>\n",
       "      <td>NaN</td>\n",
       "    </tr>\n",
       "    <tr>\n",
       "      <th>12</th>\n",
       "      <td>12</td>\n",
       "      <td>20</td>\n",
       "      <td>12_Maritime Safety and Emergency Response Trai...</td>\n",
       "      <td>[Maritime Safety and Emergency Response Training]</td>\n",
       "      <td>NaN</td>\n",
       "    </tr>\n",
       "    <tr>\n",
       "      <th>13</th>\n",
       "      <td>13</td>\n",
       "      <td>16</td>\n",
       "      <td>13_Fire-Suppression and Safety Challenges in M...</td>\n",
       "      <td>[Fire-Suppression and Safety Challenges in Mar...</td>\n",
       "      <td>NaN</td>\n",
       "    </tr>\n",
       "  </tbody>\n",
       "</table>\n",
       "</div>"
      ],
      "text/plain": [
       "    Topic  Count                                               Name  \\\n",
       "0       0     57        0_Helicopter Safety and Operational Hazards   \n",
       "1       1     44            1_Aviation Safety and Compliance Issues   \n",
       "2       2    186  2_Maritime Safety and Management System Defici...   \n",
       "3       3     22  3_Aircraft Nose Landing Gear Maintenance and F...   \n",
       "4       4     18         4_Aviation Safety and Regulatory Oversight   \n",
       "5       5     12  5_Safety and Regulatory Issues in New Zealand ...   \n",
       "6       6     44            6_Train Safety and Communication Issues   \n",
       "7       7     39            7_KiwiRail Safety and Compliance Issues   \n",
       "8       8     35                     8_Rail and Train Safety Issues   \n",
       "9       9     26   9_Safety and Performance Issues in Train Control   \n",
       "10     10     28        10_Rail Safety and Signal Management Issues   \n",
       "11     11     13  11_Road and Rail Safety Issues at Level Crossings   \n",
       "12     12     20  12_Maritime Safety and Emergency Response Trai...   \n",
       "13     13     16  13_Fire-Suppression and Safety Challenges in M...   \n",
       "\n",
       "                                       Representation  Representative_Docs  \n",
       "0         [Helicopter Safety and Operational Hazards]                  NaN  \n",
       "1             [Aviation Safety and Compliance Issues]                  NaN  \n",
       "2   [Maritime Safety and Management System Deficie...                  NaN  \n",
       "3   [Aircraft Nose Landing Gear Maintenance and Fa...                  NaN  \n",
       "4          [Aviation Safety and Regulatory Oversight]                  NaN  \n",
       "5   [Safety and Regulatory Issues in New Zealand A...                  NaN  \n",
       "6             [Train Safety and Communication Issues]                  NaN  \n",
       "7             [KiwiRail Safety and Compliance Issues]                  NaN  \n",
       "8                      [Rail and Train Safety Issues]                  NaN  \n",
       "9    [Safety and Performance Issues in Train Control]                  NaN  \n",
       "10         [Rail Safety and Signal Management Issues]                  NaN  \n",
       "11   [Road and Rail Safety Issues at Level Crossings]                  NaN  \n",
       "12  [Maritime Safety and Emergency Response Training]                  NaN  \n",
       "13  [Fire-Suppression and Safety Challenges in Mar...                  NaN  "
      ]
     },
     "metadata": {},
     "output_type": "display_data"
    },
    {
     "data": {
      "text/html": [
       "<div>\n",
       "<style scoped>\n",
       "    .dataframe tbody tr th:only-of-type {\n",
       "        vertical-align: middle;\n",
       "    }\n",
       "\n",
       "    .dataframe tbody tr th {\n",
       "        vertical-align: top;\n",
       "    }\n",
       "\n",
       "    .dataframe thead th {\n",
       "        text-align: right;\n",
       "    }\n",
       "</style>\n",
       "<table border=\"1\" class=\"dataframe\">\n",
       "  <thead>\n",
       "    <tr style=\"text-align: right;\">\n",
       "      <th></th>\n",
       "      <th>Topic</th>\n",
       "      <th>Count</th>\n",
       "      <th>Name</th>\n",
       "      <th>Representation</th>\n",
       "      <th>Representative_Docs</th>\n",
       "    </tr>\n",
       "  </thead>\n",
       "  <tbody>\n",
       "    <tr>\n",
       "      <th>0</th>\n",
       "      <td>0</td>\n",
       "      <td>46</td>\n",
       "      <td>0_Aviation Safety and Air Traffic Control Chal...</td>\n",
       "      <td>[Aviation Safety and Air Traffic Control Chall...</td>\n",
       "      <td>NaN</td>\n",
       "    </tr>\n",
       "    <tr>\n",
       "      <th>1</th>\n",
       "      <td>1</td>\n",
       "      <td>49</td>\n",
       "      <td>1_Helicopter Safety and Operational Challenges</td>\n",
       "      <td>[Helicopter Safety and Operational Challenges]</td>\n",
       "      <td>NaN</td>\n",
       "    </tr>\n",
       "    <tr>\n",
       "      <th>2</th>\n",
       "      <td>2</td>\n",
       "      <td>165</td>\n",
       "      <td>2_Maritime Safety and Management Deficiencies</td>\n",
       "      <td>[Maritime Safety and Management Deficiencies]</td>\n",
       "      <td>NaN</td>\n",
       "    </tr>\n",
       "    <tr>\n",
       "      <th>3</th>\n",
       "      <td>3</td>\n",
       "      <td>20</td>\n",
       "      <td>3_Aircraft Maintenance and Safety Issues</td>\n",
       "      <td>[Aircraft Maintenance and Safety Issues]</td>\n",
       "      <td>NaN</td>\n",
       "    </tr>\n",
       "    <tr>\n",
       "      <th>4</th>\n",
       "      <td>4</td>\n",
       "      <td>18</td>\n",
       "      <td>4_Aviation Safety and Regulatory Oversight</td>\n",
       "      <td>[Aviation Safety and Regulatory Oversight]</td>\n",
       "      <td>NaN</td>\n",
       "    </tr>\n",
       "    <tr>\n",
       "      <th>5</th>\n",
       "      <td>5</td>\n",
       "      <td>24</td>\n",
       "      <td>5_Aircraft Landing Gear and Maintenance Issues</td>\n",
       "      <td>[Aircraft Landing Gear and Maintenance Issues]</td>\n",
       "      <td>NaN</td>\n",
       "    </tr>\n",
       "    <tr>\n",
       "      <th>6</th>\n",
       "      <td>6</td>\n",
       "      <td>13</td>\n",
       "      <td>6_Safety and Regulatory Issues in New Zealand ...</td>\n",
       "      <td>[Safety and Regulatory Issues in New Zealand A...</td>\n",
       "      <td>NaN</td>\n",
       "    </tr>\n",
       "    <tr>\n",
       "      <th>7</th>\n",
       "      <td>7</td>\n",
       "      <td>42</td>\n",
       "      <td>7_Issues in KiwiRail's Safety and Communicatio...</td>\n",
       "      <td>[Issues in KiwiRail's Safety and Communication...</td>\n",
       "      <td>NaN</td>\n",
       "    </tr>\n",
       "    <tr>\n",
       "      <th>8</th>\n",
       "      <td>8</td>\n",
       "      <td>26</td>\n",
       "      <td>8_Train Controller Performance and Safety Issues</td>\n",
       "      <td>[Train Controller Performance and Safety Issues]</td>\n",
       "      <td>NaN</td>\n",
       "    </tr>\n",
       "    <tr>\n",
       "      <th>9</th>\n",
       "      <td>9</td>\n",
       "      <td>27</td>\n",
       "      <td>9_Rail Safety and Signal Management Issues</td>\n",
       "      <td>[Rail Safety and Signal Management Issues]</td>\n",
       "      <td>NaN</td>\n",
       "    </tr>\n",
       "    <tr>\n",
       "      <th>10</th>\n",
       "      <td>10</td>\n",
       "      <td>23</td>\n",
       "      <td>10_Rail Safety and Communication Issues</td>\n",
       "      <td>[Rail Safety and Communication Issues]</td>\n",
       "      <td>NaN</td>\n",
       "    </tr>\n",
       "    <tr>\n",
       "      <th>11</th>\n",
       "      <td>11</td>\n",
       "      <td>21</td>\n",
       "      <td>11_Train Collision Risks at Wellington Station</td>\n",
       "      <td>[Train Collision Risks at Wellington Station]</td>\n",
       "      <td>NaN</td>\n",
       "    </tr>\n",
       "    <tr>\n",
       "      <th>12</th>\n",
       "      <td>12</td>\n",
       "      <td>18</td>\n",
       "      <td>12_Train Braking and Safety Standards Compliance</td>\n",
       "      <td>[Train Braking and Safety Standards Compliance]</td>\n",
       "      <td>NaN</td>\n",
       "    </tr>\n",
       "    <tr>\n",
       "      <th>13</th>\n",
       "      <td>13</td>\n",
       "      <td>15</td>\n",
       "      <td>13_Rail System Failures and Inspection Limitat...</td>\n",
       "      <td>[Rail System Failures and Inspection Limitations]</td>\n",
       "      <td>NaN</td>\n",
       "    </tr>\n",
       "    <tr>\n",
       "      <th>14</th>\n",
       "      <td>14</td>\n",
       "      <td>13</td>\n",
       "      <td>14_Safety and Compatibility at Road and Rail L...</td>\n",
       "      <td>[Safety and Compatibility at Road and Rail Lev...</td>\n",
       "      <td>NaN</td>\n",
       "    </tr>\n",
       "    <tr>\n",
       "      <th>15</th>\n",
       "      <td>15</td>\n",
       "      <td>26</td>\n",
       "      <td>15_Maritime Safety and Compliance Issues</td>\n",
       "      <td>[Maritime Safety and Compliance Issues]</td>\n",
       "      <td>NaN</td>\n",
       "    </tr>\n",
       "    <tr>\n",
       "      <th>16</th>\n",
       "      <td>16</td>\n",
       "      <td>14</td>\n",
       "      <td>16_Maintenance and Effectiveness of CO2 Fire S...</td>\n",
       "      <td>[Maintenance and Effectiveness of CO2 Fire Sup...</td>\n",
       "      <td>NaN</td>\n",
       "    </tr>\n",
       "  </tbody>\n",
       "</table>\n",
       "</div>"
      ],
      "text/plain": [
       "    Topic  Count                                               Name  \\\n",
       "0       0     46  0_Aviation Safety and Air Traffic Control Chal...   \n",
       "1       1     49     1_Helicopter Safety and Operational Challenges   \n",
       "2       2    165      2_Maritime Safety and Management Deficiencies   \n",
       "3       3     20           3_Aircraft Maintenance and Safety Issues   \n",
       "4       4     18         4_Aviation Safety and Regulatory Oversight   \n",
       "5       5     24     5_Aircraft Landing Gear and Maintenance Issues   \n",
       "6       6     13  6_Safety and Regulatory Issues in New Zealand ...   \n",
       "7       7     42  7_Issues in KiwiRail's Safety and Communicatio...   \n",
       "8       8     26   8_Train Controller Performance and Safety Issues   \n",
       "9       9     27         9_Rail Safety and Signal Management Issues   \n",
       "10     10     23            10_Rail Safety and Communication Issues   \n",
       "11     11     21     11_Train Collision Risks at Wellington Station   \n",
       "12     12     18   12_Train Braking and Safety Standards Compliance   \n",
       "13     13     15  13_Rail System Failures and Inspection Limitat...   \n",
       "14     14     13  14_Safety and Compatibility at Road and Rail L...   \n",
       "15     15     26           15_Maritime Safety and Compliance Issues   \n",
       "16     16     14  16_Maintenance and Effectiveness of CO2 Fire S...   \n",
       "\n",
       "                                       Representation  Representative_Docs  \n",
       "0   [Aviation Safety and Air Traffic Control Chall...                  NaN  \n",
       "1      [Helicopter Safety and Operational Challenges]                  NaN  \n",
       "2       [Maritime Safety and Management Deficiencies]                  NaN  \n",
       "3            [Aircraft Maintenance and Safety Issues]                  NaN  \n",
       "4          [Aviation Safety and Regulatory Oversight]                  NaN  \n",
       "5      [Aircraft Landing Gear and Maintenance Issues]                  NaN  \n",
       "6   [Safety and Regulatory Issues in New Zealand A...                  NaN  \n",
       "7   [Issues in KiwiRail's Safety and Communication...                  NaN  \n",
       "8    [Train Controller Performance and Safety Issues]                  NaN  \n",
       "9          [Rail Safety and Signal Management Issues]                  NaN  \n",
       "10             [Rail Safety and Communication Issues]                  NaN  \n",
       "11      [Train Collision Risks at Wellington Station]                  NaN  \n",
       "12    [Train Braking and Safety Standards Compliance]                  NaN  \n",
       "13  [Rail System Failures and Inspection Limitations]                  NaN  \n",
       "14  [Safety and Compatibility at Road and Rail Lev...                  NaN  \n",
       "15            [Maritime Safety and Compliance Issues]                  NaN  \n",
       "16  [Maintenance and Effectiveness of CO2 Fire Sup...                  NaN  "
      ]
     },
     "metadata": {},
     "output_type": "display_data"
    }
   ],
   "source": [
    "potential_individual_models['model_summary'] = potential_individual_models['merged_model'].apply(lambda model: model.get_topic_info())\n",
    "\n",
    "for i, row in potential_individual_models.iterrows():\n",
    "\n",
    "    display(row['model_summary'])"
   ]
  },
  {
   "cell_type": "markdown",
   "metadata": {},
   "source": [
    "I have decided to go with the fourth set of hyper paremters as these seem to give the best results.\n"
   ]
  },
  {
   "cell_type": "markdown",
   "metadata": {},
   "source": [
    "**Merged model**"
   ]
  },
  {
   "cell_type": "code",
   "execution_count": 211,
   "metadata": {},
   "outputs": [],
   "source": [
    "demo_merged_model = potential_individual_models.loc[3,]\n",
    "\n",
    "demo_merged_model['merged_model'].save(\"demo_merged_model\", serialization=\"pytorch\")"
   ]
  },
  {
   "cell_type": "markdown",
   "metadata": {},
   "source": [
    "**Individual model**"
   ]
  },
  {
   "cell_type": "code",
   "execution_count": null,
   "metadata": {},
   "outputs": [],
   "source": [
    "\n",
    "\n",
    "for model, df in zip(\n",
    "    potential_individual_models.loc[3,'individual_models'],\n",
    "    potential_individual_models.loc[3,'individual_df']):\n",
    "\n",
    "    model.update_topics(\n",
    "        df.dropna(subset=['si'])['si'].tolist(),\n",
    "        representation_model=openai_base_representation_model)\n",
    "\n"
   ]
  },
  {
   "cell_type": "code",
   "execution_count": 213,
   "metadata": {},
   "outputs": [
    {
     "data": {
      "text/html": [
       "<div>\n",
       "<style scoped>\n",
       "    .dataframe tbody tr th:only-of-type {\n",
       "        vertical-align: middle;\n",
       "    }\n",
       "\n",
       "    .dataframe tbody tr th {\n",
       "        vertical-align: top;\n",
       "    }\n",
       "\n",
       "    .dataframe thead th {\n",
       "        text-align: right;\n",
       "    }\n",
       "</style>\n",
       "<table border=\"1\" class=\"dataframe\">\n",
       "  <thead>\n",
       "    <tr style=\"text-align: right;\">\n",
       "      <th></th>\n",
       "      <th>Topic</th>\n",
       "      <th>Count</th>\n",
       "      <th>Name</th>\n",
       "      <th>Representation</th>\n",
       "      <th>Representative_Docs</th>\n",
       "    </tr>\n",
       "  </thead>\n",
       "  <tbody>\n",
       "    <tr>\n",
       "      <th>0</th>\n",
       "      <td>0</td>\n",
       "      <td>46</td>\n",
       "      <td>0_Aviation Safety and Communication Issues</td>\n",
       "      <td>[Aviation Safety and Communication Issues]</td>\n",
       "      <td>[While ATC sequences an IFR aeroplane to land ...</td>\n",
       "    </tr>\n",
       "    <tr>\n",
       "      <th>1</th>\n",
       "      <td>1</td>\n",
       "      <td>49</td>\n",
       "      <td>1_Helicopter Safety and Operational Challenges</td>\n",
       "      <td>[Helicopter Safety and Operational Challenges]</td>\n",
       "      <td>[Due to their unique main rotor design, during...</td>\n",
       "    </tr>\n",
       "    <tr>\n",
       "      <th>2</th>\n",
       "      <td>2</td>\n",
       "      <td>36</td>\n",
       "      <td>2_Aviation Safety and Regulatory Compliance Co...</td>\n",
       "      <td>[Aviation Safety and Regulatory Compliance Con...</td>\n",
       "      <td>[The operator's system for training its pilots...</td>\n",
       "    </tr>\n",
       "    <tr>\n",
       "      <th>3</th>\n",
       "      <td>3</td>\n",
       "      <td>20</td>\n",
       "      <td>3_Aircraft Safety and Maintenance Issues</td>\n",
       "      <td>[Aircraft Safety and Maintenance Issues]</td>\n",
       "      <td>[There was a lack of clear communication and a...</td>\n",
       "    </tr>\n",
       "    <tr>\n",
       "      <th>4</th>\n",
       "      <td>4</td>\n",
       "      <td>18</td>\n",
       "      <td>4_Safety and Regulatory Oversight in Parachuti...</td>\n",
       "      <td>[Safety and Regulatory Oversight in Parachutin...</td>\n",
       "      <td>[The risk to people involved in helicopter ope...</td>\n",
       "    </tr>\n",
       "    <tr>\n",
       "      <th>5</th>\n",
       "      <td>5</td>\n",
       "      <td>24</td>\n",
       "      <td>5_Aircraft Landing Gear and Maintenance Issues</td>\n",
       "      <td>[Aircraft Landing Gear and Maintenance Issues]</td>\n",
       "      <td>[Had the pilots known that the nose landing ge...</td>\n",
       "    </tr>\n",
       "    <tr>\n",
       "      <th>6</th>\n",
       "      <td>6</td>\n",
       "      <td>13</td>\n",
       "      <td>6_Safety and Regulatory Issues in New Zealand ...</td>\n",
       "      <td>[Safety and Regulatory Issues in New Zealand A...</td>\n",
       "      <td>[The regulatory oversight of commercial balloo...</td>\n",
       "    </tr>\n",
       "  </tbody>\n",
       "</table>\n",
       "</div>"
      ],
      "text/plain": [
       "   Topic  Count                                               Name  \\\n",
       "0      0     46         0_Aviation Safety and Communication Issues   \n",
       "1      1     49     1_Helicopter Safety and Operational Challenges   \n",
       "2      2     36  2_Aviation Safety and Regulatory Compliance Co...   \n",
       "3      3     20           3_Aircraft Safety and Maintenance Issues   \n",
       "4      4     18  4_Safety and Regulatory Oversight in Parachuti...   \n",
       "5      5     24     5_Aircraft Landing Gear and Maintenance Issues   \n",
       "6      6     13  6_Safety and Regulatory Issues in New Zealand ...   \n",
       "\n",
       "                                      Representation  \\\n",
       "0         [Aviation Safety and Communication Issues]   \n",
       "1     [Helicopter Safety and Operational Challenges]   \n",
       "2  [Aviation Safety and Regulatory Compliance Con...   \n",
       "3           [Aircraft Safety and Maintenance Issues]   \n",
       "4  [Safety and Regulatory Oversight in Parachutin...   \n",
       "5     [Aircraft Landing Gear and Maintenance Issues]   \n",
       "6  [Safety and Regulatory Issues in New Zealand A...   \n",
       "\n",
       "                                 Representative_Docs  \n",
       "0  [While ATC sequences an IFR aeroplane to land ...  \n",
       "1  [Due to their unique main rotor design, during...  \n",
       "2  [The operator's system for training its pilots...  \n",
       "3  [There was a lack of clear communication and a...  \n",
       "4  [The risk to people involved in helicopter ope...  \n",
       "5  [Had the pilots known that the nose landing ge...  \n",
       "6  [The regulatory oversight of commercial balloo...  "
      ]
     },
     "metadata": {},
     "output_type": "display_data"
    },
    {
     "data": {
      "text/html": [
       "<div>\n",
       "<style scoped>\n",
       "    .dataframe tbody tr th:only-of-type {\n",
       "        vertical-align: middle;\n",
       "    }\n",
       "\n",
       "    .dataframe tbody tr th {\n",
       "        vertical-align: top;\n",
       "    }\n",
       "\n",
       "    .dataframe thead th {\n",
       "        text-align: right;\n",
       "    }\n",
       "</style>\n",
       "<table border=\"1\" class=\"dataframe\">\n",
       "  <thead>\n",
       "    <tr style=\"text-align: right;\">\n",
       "      <th></th>\n",
       "      <th>Topic</th>\n",
       "      <th>Count</th>\n",
       "      <th>Name</th>\n",
       "      <th>Representation</th>\n",
       "      <th>Representative_Docs</th>\n",
       "    </tr>\n",
       "  </thead>\n",
       "  <tbody>\n",
       "    <tr>\n",
       "      <th>0</th>\n",
       "      <td>0</td>\n",
       "      <td>42</td>\n",
       "      <td>0_Issues in KiwiRail's Operational Procedures ...</td>\n",
       "      <td>[Issues in KiwiRail's Operational Procedures a...</td>\n",
       "      <td>[The New Zealand Rail Operating Rules and Proc...</td>\n",
       "    </tr>\n",
       "    <tr>\n",
       "      <th>1</th>\n",
       "      <td>1</td>\n",
       "      <td>26</td>\n",
       "      <td>1_Safety and Risk Management in Rail Operations</td>\n",
       "      <td>[Safety and Risk Management in Rail Operations]</td>\n",
       "      <td>[Poor planning and co-ordination of track infr...</td>\n",
       "    </tr>\n",
       "    <tr>\n",
       "      <th>2</th>\n",
       "      <td>2</td>\n",
       "      <td>27</td>\n",
       "      <td>2_Rail Safety and Signal Management Issues</td>\n",
       "      <td>[Rail Safety and Signal Management Issues]</td>\n",
       "      <td>[The lever in the signal box that was used to ...</td>\n",
       "    </tr>\n",
       "    <tr>\n",
       "      <th>3</th>\n",
       "      <td>3</td>\n",
       "      <td>23</td>\n",
       "      <td>3_Train Safety and Communication Failures</td>\n",
       "      <td>[Train Safety and Communication Failures]</td>\n",
       "      <td>[Nor could the system rely on visually sightin...</td>\n",
       "    </tr>\n",
       "    <tr>\n",
       "      <th>4</th>\n",
       "      <td>4</td>\n",
       "      <td>21</td>\n",
       "      <td>4_Train Collision Risks at Wellington Station</td>\n",
       "      <td>[Train Collision Risks at Wellington Station]</td>\n",
       "      <td>[There is a heightened risk of trains collidin...</td>\n",
       "    </tr>\n",
       "    <tr>\n",
       "      <th>5</th>\n",
       "      <td>5</td>\n",
       "      <td>18</td>\n",
       "      <td>5_Rail Safety and Standards Compliance Concerns</td>\n",
       "      <td>[Rail Safety and Standards Compliance Concerns]</td>\n",
       "      <td>[A key safety issue was that the National Rail...</td>\n",
       "    </tr>\n",
       "    <tr>\n",
       "      <th>6</th>\n",
       "      <td>6</td>\n",
       "      <td>15</td>\n",
       "      <td>6_Rail System Failures and Inspection Limitations</td>\n",
       "      <td>[Rail System Failures and Inspection Limitations]</td>\n",
       "      <td>[The rail fracture examination revealed that t...</td>\n",
       "    </tr>\n",
       "    <tr>\n",
       "      <th>7</th>\n",
       "      <td>7</td>\n",
       "      <td>13</td>\n",
       "      <td>7_Safety and Compatibility Issues at Road and ...</td>\n",
       "      <td>[Safety and Compatibility Issues at Road and R...</td>\n",
       "      <td>[Level crossing assessments do not require the...</td>\n",
       "    </tr>\n",
       "  </tbody>\n",
       "</table>\n",
       "</div>"
      ],
      "text/plain": [
       "   Topic  Count                                               Name  \\\n",
       "0      0     42  0_Issues in KiwiRail's Operational Procedures ...   \n",
       "1      1     26    1_Safety and Risk Management in Rail Operations   \n",
       "2      2     27         2_Rail Safety and Signal Management Issues   \n",
       "3      3     23          3_Train Safety and Communication Failures   \n",
       "4      4     21      4_Train Collision Risks at Wellington Station   \n",
       "5      5     18    5_Rail Safety and Standards Compliance Concerns   \n",
       "6      6     15  6_Rail System Failures and Inspection Limitations   \n",
       "7      7     13  7_Safety and Compatibility Issues at Road and ...   \n",
       "\n",
       "                                      Representation  \\\n",
       "0  [Issues in KiwiRail's Operational Procedures a...   \n",
       "1    [Safety and Risk Management in Rail Operations]   \n",
       "2         [Rail Safety and Signal Management Issues]   \n",
       "3          [Train Safety and Communication Failures]   \n",
       "4      [Train Collision Risks at Wellington Station]   \n",
       "5    [Rail Safety and Standards Compliance Concerns]   \n",
       "6  [Rail System Failures and Inspection Limitations]   \n",
       "7  [Safety and Compatibility Issues at Road and R...   \n",
       "\n",
       "                                 Representative_Docs  \n",
       "0  [The New Zealand Rail Operating Rules and Proc...  \n",
       "1  [Poor planning and co-ordination of track infr...  \n",
       "2  [The lever in the signal box that was used to ...  \n",
       "3  [Nor could the system rely on visually sightin...  \n",
       "4  [There is a heightened risk of trains collidin...  \n",
       "5  [A key safety issue was that the National Rail...  \n",
       "6  [The rail fracture examination revealed that t...  \n",
       "7  [Level crossing assessments do not require the...  "
      ]
     },
     "metadata": {},
     "output_type": "display_data"
    },
    {
     "data": {
      "text/html": [
       "<div>\n",
       "<style scoped>\n",
       "    .dataframe tbody tr th:only-of-type {\n",
       "        vertical-align: middle;\n",
       "    }\n",
       "\n",
       "    .dataframe tbody tr th {\n",
       "        vertical-align: top;\n",
       "    }\n",
       "\n",
       "    .dataframe thead th {\n",
       "        text-align: right;\n",
       "    }\n",
       "</style>\n",
       "<table border=\"1\" class=\"dataframe\">\n",
       "  <thead>\n",
       "    <tr style=\"text-align: right;\">\n",
       "      <th></th>\n",
       "      <th>Topic</th>\n",
       "      <th>Count</th>\n",
       "      <th>Name</th>\n",
       "      <th>Representation</th>\n",
       "      <th>Representative_Docs</th>\n",
       "    </tr>\n",
       "  </thead>\n",
       "  <tbody>\n",
       "    <tr>\n",
       "      <th>0</th>\n",
       "      <td>0</td>\n",
       "      <td>83</td>\n",
       "      <td>0_Maritime Safety and Resource Management Prac...</td>\n",
       "      <td>[Maritime Safety and Resource Management Pract...</td>\n",
       "      <td>[The voyage planning for the time in the Snare...</td>\n",
       "    </tr>\n",
       "    <tr>\n",
       "      <th>1</th>\n",
       "      <td>1</td>\n",
       "      <td>46</td>\n",
       "      <td>1_Maritime Safety and Risk Management Deficien...</td>\n",
       "      <td>[Maritime Safety and Risk Management Deficienc...</td>\n",
       "      <td>[The plastic sheathing that had been placed ar...</td>\n",
       "    </tr>\n",
       "    <tr>\n",
       "      <th>2</th>\n",
       "      <td>2</td>\n",
       "      <td>26</td>\n",
       "      <td>2_Maritime Safety and Emergency Response Failures</td>\n",
       "      <td>[Maritime Safety and Emergency Response Failures]</td>\n",
       "      <td>[The owner of the Easy Rider was not meeting i...</td>\n",
       "    </tr>\n",
       "    <tr>\n",
       "      <th>3</th>\n",
       "      <td>3</td>\n",
       "      <td>14</td>\n",
       "      <td>3_Maintenance and Regulation Issues in Maritim...</td>\n",
       "      <td>[Maintenance and Regulation Issues in Maritime...</td>\n",
       "      <td>[The CO2 system's pilot cylinder leaked, but t...</td>\n",
       "    </tr>\n",
       "  </tbody>\n",
       "</table>\n",
       "</div>"
      ],
      "text/plain": [
       "   Topic  Count                                               Name  \\\n",
       "0      0     83  0_Maritime Safety and Resource Management Prac...   \n",
       "1      1     46  1_Maritime Safety and Risk Management Deficien...   \n",
       "2      2     26  2_Maritime Safety and Emergency Response Failures   \n",
       "3      3     14  3_Maintenance and Regulation Issues in Maritim...   \n",
       "\n",
       "                                      Representation  \\\n",
       "0  [Maritime Safety and Resource Management Pract...   \n",
       "1  [Maritime Safety and Risk Management Deficienc...   \n",
       "2  [Maritime Safety and Emergency Response Failures]   \n",
       "3  [Maintenance and Regulation Issues in Maritime...   \n",
       "\n",
       "                                 Representative_Docs  \n",
       "0  [The voyage planning for the time in the Snare...  \n",
       "1  [The plastic sheathing that had been placed ar...  \n",
       "2  [The owner of the Easy Rider was not meeting i...  \n",
       "3  [The CO2 system's pilot cylinder leaked, but t...  "
      ]
     },
     "metadata": {},
     "output_type": "display_data"
    }
   ],
   "source": [
    "for i, model in enumerate(potential_individual_models.loc[3,'individual_models']):\n",
    "    display(model.get_topic_info())\n",
    "\n",
    "    model.save(f\"demo_individual_model_mode_{i}\", serialization=\"pytorch\")"
   ]
  },
  {
   "cell_type": "markdown",
   "metadata": {},
   "source": [
    "### VoyageAI"
   ]
  },
  {
   "cell_type": "code",
   "execution_count": null,
   "metadata": {},
   "outputs": [
    {
     "name": "stderr",
     "output_type": "stream",
     "text": [
      "2024-05-03 13:04:01,204 - BERTopic - WARNING: Using a custom list of topic assignments may lead to errors if topic reduction techniques are used afterwards. Make sure that manually assigning topics is the last step in the pipeline.Note that topic embeddings will also be created through weightedc-TF-IDF embeddings instead of centroid embeddings.\n",
      "2024-05-03 13:04:12,351 - BERTopic - WARNING: Using a custom list of topic assignments may lead to errors if topic reduction techniques are used afterwards. Make sure that manually assigning topics is the last step in the pipeline.Note that topic embeddings will also be created through weightedc-TF-IDF embeddings instead of centroid embeddings.\n",
      "2024-05-03 13:04:30,991 - BERTopic - WARNING: Using a custom list of topic assignments may lead to errors if topic reduction techniques are used afterwards. Make sure that manually assigning topics is the last step in the pipeline.Note that topic embeddings will also be created through weightedc-TF-IDF embeddings instead of centroid embeddings.\n"
     ]
    },
    {
     "name": "stdout",
     "output_type": "stream",
     "text": [
      "Cluster names: \n",
      "54, 0_Aviation Safety and Operational Procedures\n",
      "34, 1_Safety Challenges and Risks in Robinson Helicopter Operations\n",
      "62, 2_Aviation Safety and Regulatory Compliance Issues\n",
      "25, 3_Aircraft Landing Gear and Door System Failures\n",
      "31, 4_Aircraft Maintenance and Safety Concerns\n",
      "Cluster names: \n",
      "166, 0_Rail Safety and Management Issues\n",
      "19, 1_Safety and Regulatory Issues at Rail Level Crossings\n",
      "Cluster names: \n",
      "28, 0_Maritime Safety and Bridge Resource Management Deficiencies\n",
      "33, 1_Maritime Safety and Management Failures\n",
      "43, 2_Maritime Safety and Navigation Standards Compliance\n",
      "30, 3_Maritime Safety and Emergency Response Deficiencies\n",
      "22, 4_Maritime Safety Violations and Consequences aboard the Easy Rider\n",
      "13, 5_Propulsion System Failures and Maintenance Issues in Marine Operations\n"
     ]
    }
   ],
   "source": [
    "modes_dfs = [voyageai_embeddings[voyageai_embeddings['mode'] == i] for i in range(3)]\n",
    "\n",
    "results = [runBERTopic(df, 'si', 'si_embedding', openai_base_representation_model, umap_model) for df in modes_dfs]\n",
    "\n",
    "printout_each_modes_topics(results)"
   ]
  },
  {
   "cell_type": "code",
   "execution_count": null,
   "metadata": {},
   "outputs": [],
   "source": [
    "checking = results[2][1]"
   ]
  },
  {
   "cell_type": "code",
   "execution_count": null,
   "metadata": {},
   "outputs": [
    {
     "data": {
      "text/html": [
       "<div>\n",
       "<style scoped>\n",
       "    .dataframe tbody tr th:only-of-type {\n",
       "        vertical-align: middle;\n",
       "    }\n",
       "\n",
       "    .dataframe tbody tr th {\n",
       "        vertical-align: top;\n",
       "    }\n",
       "\n",
       "    .dataframe thead th {\n",
       "        text-align: right;\n",
       "    }\n",
       "</style>\n",
       "<table border=\"1\" class=\"dataframe\">\n",
       "  <thead>\n",
       "    <tr style=\"text-align: right;\">\n",
       "      <th></th>\n",
       "      <th>Topic</th>\n",
       "      <th>Count</th>\n",
       "      <th>Name</th>\n",
       "      <th>Representation</th>\n",
       "      <th>Representative_Docs</th>\n",
       "    </tr>\n",
       "  </thead>\n",
       "  <tbody>\n",
       "    <tr>\n",
       "      <th>0</th>\n",
       "      <td>0</td>\n",
       "      <td>52</td>\n",
       "      <td>0_Aviation Safety and Air Traffic Control Proc...</td>\n",
       "      <td>[Aviation Safety and Air Traffic Control Proce...</td>\n",
       "      <td>NaN</td>\n",
       "    </tr>\n",
       "    <tr>\n",
       "      <th>1</th>\n",
       "      <td>1</td>\n",
       "      <td>47</td>\n",
       "      <td>1_Helicopter Safety and Accident Analysis</td>\n",
       "      <td>[Helicopter Safety and Accident Analysis]</td>\n",
       "      <td>NaN</td>\n",
       "    </tr>\n",
       "    <tr>\n",
       "      <th>2</th>\n",
       "      <td>2</td>\n",
       "      <td>41</td>\n",
       "      <td>2_Aviation Safety and Compliance Issues</td>\n",
       "      <td>[Aviation Safety and Compliance Issues]</td>\n",
       "      <td>NaN</td>\n",
       "    </tr>\n",
       "    <tr>\n",
       "      <th>3</th>\n",
       "      <td>3</td>\n",
       "      <td>33</td>\n",
       "      <td>3_Aircraft Safety and Maintenance Issues</td>\n",
       "      <td>[Aircraft Safety and Maintenance Issues]</td>\n",
       "      <td>NaN</td>\n",
       "    </tr>\n",
       "    <tr>\n",
       "      <th>4</th>\n",
       "      <td>4</td>\n",
       "      <td>17</td>\n",
       "      <td>4_Aviation Safety and Regulatory Compliance in...</td>\n",
       "      <td>[Aviation Safety and Regulatory Compliance in ...</td>\n",
       "      <td>NaN</td>\n",
       "    </tr>\n",
       "    <tr>\n",
       "      <th>5</th>\n",
       "      <td>5</td>\n",
       "      <td>16</td>\n",
       "      <td>5_Safety and Regulatory Issues in New Zealand ...</td>\n",
       "      <td>[Safety and Regulatory Issues in New Zealand A...</td>\n",
       "      <td>NaN</td>\n",
       "    </tr>\n",
       "    <tr>\n",
       "      <th>6</th>\n",
       "      <td>6</td>\n",
       "      <td>44</td>\n",
       "      <td>0_KiwiRail Safety and Compliance Issues</td>\n",
       "      <td>[KiwiRail Safety and Compliance Issues]</td>\n",
       "      <td>NaN</td>\n",
       "    </tr>\n",
       "    <tr>\n",
       "      <th>7</th>\n",
       "      <td>7</td>\n",
       "      <td>40</td>\n",
       "      <td>1_Rail Safety and Communication Failures</td>\n",
       "      <td>[Rail Safety and Communication Failures]</td>\n",
       "      <td>NaN</td>\n",
       "    </tr>\n",
       "    <tr>\n",
       "      <th>8</th>\n",
       "      <td>8</td>\n",
       "      <td>25</td>\n",
       "      <td>2_Safety and Management Issues in Rail Operations</td>\n",
       "      <td>[Safety and Management Issues in Rail Operations]</td>\n",
       "      <td>NaN</td>\n",
       "    </tr>\n",
       "    <tr>\n",
       "      <th>9</th>\n",
       "      <td>9</td>\n",
       "      <td>20</td>\n",
       "      <td>3_Safety and Regulatory Issues at Road-Rail Le...</td>\n",
       "      <td>[Safety and Regulatory Issues at Road-Rail Lev...</td>\n",
       "      <td>NaN</td>\n",
       "    </tr>\n",
       "    <tr>\n",
       "      <th>10</th>\n",
       "      <td>10</td>\n",
       "      <td>20</td>\n",
       "      <td>4_Railway Safety and System Performance Concerns</td>\n",
       "      <td>[Railway Safety and System Performance Concerns]</td>\n",
       "      <td>NaN</td>\n",
       "    </tr>\n",
       "    <tr>\n",
       "      <th>11</th>\n",
       "      <td>11</td>\n",
       "      <td>15</td>\n",
       "      <td>5_Risks and Safety Concerns in Wellington Stat...</td>\n",
       "      <td>[Risks and Safety Concerns in Wellington Stati...</td>\n",
       "      <td>NaN</td>\n",
       "    </tr>\n",
       "    <tr>\n",
       "      <th>12</th>\n",
       "      <td>12</td>\n",
       "      <td>21</td>\n",
       "      <td>6_Rail System Faults and Inspection Inefficien...</td>\n",
       "      <td>[Rail System Faults and Inspection Inefficienc...</td>\n",
       "      <td>NaN</td>\n",
       "    </tr>\n",
       "    <tr>\n",
       "      <th>13</th>\n",
       "      <td>13</td>\n",
       "      <td>120</td>\n",
       "      <td>0_Maritime Safety and Management System Failures</td>\n",
       "      <td>[Maritime Safety and Management System Failures]</td>\n",
       "      <td>NaN</td>\n",
       "    </tr>\n",
       "    <tr>\n",
       "      <th>14</th>\n",
       "      <td>14</td>\n",
       "      <td>27</td>\n",
       "      <td>1_Safety and Compliance Failures on the Easy R...</td>\n",
       "      <td>[Safety and Compliance Failures on the Easy Ri...</td>\n",
       "      <td>NaN</td>\n",
       "    </tr>\n",
       "    <tr>\n",
       "      <th>15</th>\n",
       "      <td>15</td>\n",
       "      <td>11</td>\n",
       "      <td>2_Maintenance and Effectiveness of CO2 Fire-Su...</td>\n",
       "      <td>[Maintenance and Effectiveness of CO2 Fire-Sup...</td>\n",
       "      <td>NaN</td>\n",
       "    </tr>\n",
       "    <tr>\n",
       "      <th>16</th>\n",
       "      <td>16</td>\n",
       "      <td>11</td>\n",
       "      <td>3_Maritime Safety and Crew Response Issues</td>\n",
       "      <td>[Maritime Safety and Crew Response Issues]</td>\n",
       "      <td>NaN</td>\n",
       "    </tr>\n",
       "  </tbody>\n",
       "</table>\n",
       "</div>"
      ],
      "text/plain": [
       "    Topic  Count                                               Name  \\\n",
       "0       0     52  0_Aviation Safety and Air Traffic Control Proc...   \n",
       "1       1     47          1_Helicopter Safety and Accident Analysis   \n",
       "2       2     41            2_Aviation Safety and Compliance Issues   \n",
       "3       3     33           3_Aircraft Safety and Maintenance Issues   \n",
       "4       4     17  4_Aviation Safety and Regulatory Compliance in...   \n",
       "5       5     16  5_Safety and Regulatory Issues in New Zealand ...   \n",
       "6       6     44            0_KiwiRail Safety and Compliance Issues   \n",
       "7       7     40           1_Rail Safety and Communication Failures   \n",
       "8       8     25  2_Safety and Management Issues in Rail Operations   \n",
       "9       9     20  3_Safety and Regulatory Issues at Road-Rail Le...   \n",
       "10     10     20   4_Railway Safety and System Performance Concerns   \n",
       "11     11     15  5_Risks and Safety Concerns in Wellington Stat...   \n",
       "12     12     21  6_Rail System Faults and Inspection Inefficien...   \n",
       "13     13    120   0_Maritime Safety and Management System Failures   \n",
       "14     14     27  1_Safety and Compliance Failures on the Easy R...   \n",
       "15     15     11  2_Maintenance and Effectiveness of CO2 Fire-Su...   \n",
       "16     16     11         3_Maritime Safety and Crew Response Issues   \n",
       "\n",
       "                                       Representation  Representative_Docs  \n",
       "0   [Aviation Safety and Air Traffic Control Proce...                  NaN  \n",
       "1           [Helicopter Safety and Accident Analysis]                  NaN  \n",
       "2             [Aviation Safety and Compliance Issues]                  NaN  \n",
       "3            [Aircraft Safety and Maintenance Issues]                  NaN  \n",
       "4   [Aviation Safety and Regulatory Compliance in ...                  NaN  \n",
       "5   [Safety and Regulatory Issues in New Zealand A...                  NaN  \n",
       "6             [KiwiRail Safety and Compliance Issues]                  NaN  \n",
       "7            [Rail Safety and Communication Failures]                  NaN  \n",
       "8   [Safety and Management Issues in Rail Operations]                  NaN  \n",
       "9   [Safety and Regulatory Issues at Road-Rail Lev...                  NaN  \n",
       "10   [Railway Safety and System Performance Concerns]                  NaN  \n",
       "11  [Risks and Safety Concerns in Wellington Stati...                  NaN  \n",
       "12  [Rail System Faults and Inspection Inefficienc...                  NaN  \n",
       "13   [Maritime Safety and Management System Failures]                  NaN  \n",
       "14  [Safety and Compliance Failures on the Easy Ri...                  NaN  \n",
       "15  [Maintenance and Effectiveness of CO2 Fire-Sup...                  NaN  \n",
       "16         [Maritime Safety and Crew Response Issues]                  NaN  "
      ]
     },
     "metadata": {},
     "output_type": "display_data"
    }
   ],
   "source": [
    "merged_moode_models = BERTopic.merge_models([result[0] for result in results], min_similarity=0.9)\n",
    "\n",
    "\n",
    "merged_moode_models.get_topic_info()"
   ]
  },
  {
   "cell_type": "markdown",
   "metadata": {},
   "source": [
    "# Visualization of themes and safety issues\n",
    "\n",
    "Now that we have some models that seem reasonable, it is time to create a user friendly representation."
   ]
  },
  {
   "cell_type": "code",
   "execution_count": 63,
   "metadata": {},
   "outputs": [
    {
     "data": {
      "text/html": [
       "<div>\n",
       "<style scoped>\n",
       "    .dataframe tbody tr th:only-of-type {\n",
       "        vertical-align: middle;\n",
       "    }\n",
       "\n",
       "    .dataframe tbody tr th {\n",
       "        vertical-align: top;\n",
       "    }\n",
       "\n",
       "    .dataframe thead th {\n",
       "        text-align: right;\n",
       "    }\n",
       "</style>\n",
       "<table border=\"1\" class=\"dataframe\">\n",
       "  <thead>\n",
       "    <tr style=\"text-align: right;\">\n",
       "      <th></th>\n",
       "      <th>report_id</th>\n",
       "      <th>si</th>\n",
       "      <th>mode</th>\n",
       "      <th>si_embedding</th>\n",
       "    </tr>\n",
       "  </thead>\n",
       "  <tbody>\n",
       "    <tr>\n",
       "      <th>0</th>\n",
       "      <td>2011_003</td>\n",
       "      <td>The New Zealand regulatory system has not prov...</td>\n",
       "      <td>0</td>\n",
       "      <td>[0.0187440924346447, -0.000433413457358256, -0...</td>\n",
       "    </tr>\n",
       "    <tr>\n",
       "      <th>1</th>\n",
       "      <td>2011_003</td>\n",
       "      <td>The format of the Robinson R22 helicopter flig...</td>\n",
       "      <td>0</td>\n",
       "      <td>[0.01013844646513462, -0.03145159035921097, -0...</td>\n",
       "    </tr>\n",
       "    <tr>\n",
       "      <th>2</th>\n",
       "      <td>2011_003</td>\n",
       "      <td>The rate of R22 in-flight break-up accidents i...</td>\n",
       "      <td>0</td>\n",
       "      <td>[0.005347656551748514, -0.022685393691062927, ...</td>\n",
       "    </tr>\n",
       "    <tr>\n",
       "      <th>3</th>\n",
       "      <td>2011_003</td>\n",
       "      <td>The crashworthiness of the ELT, which was desi...</td>\n",
       "      <td>0</td>\n",
       "      <td>[0.014976576901972294, 0.015324870124459267, -...</td>\n",
       "    </tr>\n",
       "    <tr>\n",
       "      <th>4</th>\n",
       "      <td>2010_010</td>\n",
       "      <td>The failure of the nose landing gear to extend...</td>\n",
       "      <td>0</td>\n",
       "      <td>[-0.0042054359801113605, 0.04125332459807396, ...</td>\n",
       "    </tr>\n",
       "    <tr>\n",
       "      <th>...</th>\n",
       "      <td>...</td>\n",
       "      <td>...</td>\n",
       "      <td>...</td>\n",
       "      <td>...</td>\n",
       "    </tr>\n",
       "    <tr>\n",
       "      <th>164</th>\n",
       "      <td>2017_203</td>\n",
       "      <td>Technicians who are authorised to conduct mand...</td>\n",
       "      <td>2</td>\n",
       "      <td>[0.002318679355084896, 0.015887508168816566, -...</td>\n",
       "    </tr>\n",
       "    <tr>\n",
       "      <th>165</th>\n",
       "      <td>2013_201</td>\n",
       "      <td>The firefighting drills held on board the Taok...</td>\n",
       "      <td>2</td>\n",
       "      <td>[0.006056208163499832, 0.01051066443324089, -0...</td>\n",
       "    </tr>\n",
       "    <tr>\n",
       "      <th>166</th>\n",
       "      <td>2014_201</td>\n",
       "      <td>crew awareness of the operating limitations of...</td>\n",
       "      <td>2</td>\n",
       "      <td>[-0.029451534152030945, 0.026009364053606987, ...</td>\n",
       "    </tr>\n",
       "    <tr>\n",
       "      <th>167</th>\n",
       "      <td>2014_201</td>\n",
       "      <td>crew operating knowledge of on-board emergency...</td>\n",
       "      <td>2</td>\n",
       "      <td>[-0.021512825042009354, 0.029569942504167557, ...</td>\n",
       "    </tr>\n",
       "    <tr>\n",
       "      <th>168</th>\n",
       "      <td>2014_201</td>\n",
       "      <td>housekeeping practices on board affecting the ...</td>\n",
       "      <td>2</td>\n",
       "      <td>[-0.016625775024294853, 0.006468217819929123, ...</td>\n",
       "    </tr>\n",
       "  </tbody>\n",
       "</table>\n",
       "<p>560 rows × 4 columns</p>\n",
       "</div>"
      ],
      "text/plain": [
       "    report_id                                                 si  mode  \\\n",
       "0    2011_003  The New Zealand regulatory system has not prov...     0   \n",
       "1    2011_003  The format of the Robinson R22 helicopter flig...     0   \n",
       "2    2011_003  The rate of R22 in-flight break-up accidents i...     0   \n",
       "3    2011_003  The crashworthiness of the ELT, which was desi...     0   \n",
       "4    2010_010  The failure of the nose landing gear to extend...     0   \n",
       "..        ...                                                ...   ...   \n",
       "164  2017_203  Technicians who are authorised to conduct mand...     2   \n",
       "165  2013_201  The firefighting drills held on board the Taok...     2   \n",
       "166  2014_201  crew awareness of the operating limitations of...     2   \n",
       "167  2014_201  crew operating knowledge of on-board emergency...     2   \n",
       "168  2014_201  housekeeping practices on board affecting the ...     2   \n",
       "\n",
       "                                          si_embedding  \n",
       "0    [0.0187440924346447, -0.000433413457358256, -0...  \n",
       "1    [0.01013844646513462, -0.03145159035921097, -0...  \n",
       "2    [0.005347656551748514, -0.022685393691062927, ...  \n",
       "3    [0.014976576901972294, 0.015324870124459267, -...  \n",
       "4    [-0.0042054359801113605, 0.04125332459807396, ...  \n",
       "..                                                 ...  \n",
       "164  [0.002318679355084896, 0.015887508168816566, -...  \n",
       "165  [0.006056208163499832, 0.01051066443324089, -0...  \n",
       "166  [-0.029451534152030945, 0.026009364053606987, ...  \n",
       "167  [-0.021512825042009354, 0.029569942504167557, ...  \n",
       "168  [-0.016625775024294853, 0.006468217819929123, ...  \n",
       "\n",
       "[560 rows x 4 columns]"
      ]
     },
     "execution_count": 63,
     "metadata": {},
     "output_type": "execute_result"
    }
   ],
   "source": [
    "modes_dfs = [openai_embeddings[openai_embeddings['mode'] == i].reset_index(drop=True) for i in range(3)]\n",
    "\n",
    "pd.concat(modes_dfs)"
   ]
  },
  {
   "cell_type": "code",
   "execution_count": 85,
   "metadata": {},
   "outputs": [
    {
     "name": "stderr",
     "output_type": "stream",
     "text": [
      "2024-05-07 15:34:04,350 - BERTopic - WARNING: You are loading a BERTopic model without explicitly defining an embedding model. If you want to also load in an embedding model, make sure to use `BERTopic.load(my_model, embedding_model=my_embedding_model)`.\n"
     ]
    },
    {
     "data": {
      "application/vnd.plotly.v1+json": {
       "config": {
        "plotlyServerURL": "https://plot.ly"
       },
       "data": [
        {
         "hoverinfo": "text",
         "hovertext": [
          null
         ],
         "marker": {
          "color": "#CFD8DC",
          "opacity": 0.5,
          "size": 5
         },
         "mode": "markers+text",
         "name": "other",
         "showlegend": false,
         "type": "scattergl",
         "x": [
          null
         ],
         "y": [
          null
         ]
        },
        {
         "hoverinfo": "text",
         "hovertext": [
          "Had the Pacific Blue pilots turned back towards the aerodrome while climbing to the missed approach altitude of 8500 ft, which was possible under PANS-OPS, a more hazardous scenario might have ensued, because Qantas had already been cleared to descend through the same area.",
          "Airways also required controllers to pass pireps to other aircraft that could be affected, but pireps were not in the AIP list of information that ATC would pass to aircraft.",
          "The non-performance of the Emergency Locator Transmitter (ELT) in guiding search and rescue to the accident site in a timely manner, which in survivable accidents could mean the difference between survival and not.",
          "The crashworthiness of the ELT, which was designed to alert and guide emergency services to a crash site, was inadequate.",
          "The defence of 'see and avoid' is not foolproof against mid-air collisions and, despite repeated efforts to educate pilots about safety around aerodromes, these types of accidents continue to occur.",
          "the possibility of the cabin being pressurised on the ground following the use of the Cabin Altitude Warning checklist.",
          "The first air traffic controller did not hear the PAN call from NZ5046, and as PAN was not used when the crew repeated their message, he did not recognise that their situation was one of urgency.",
          "Pilots who are not approved for or not familiar with RNAV procedures may not understand radioed position reports that refer to RNAV waypoints. The communication gap that this potentially creates is a safety issue.",
          "The see-and-avoid principle continues to have relevance, provided pilots and controllers counter its well-known limitations by the appropriate sharing of traffic information.",
          "non-adherence to the published emergency checklists for a loss of cabin pressure",
          "The controller's instructions were valid for Class D airspace, but he did not manage the increased risk of collision presented by the aeroplane descending to circuit altitude in the opposite direction.",
          "When aircraft maintenance staff do not refer to the current Instructions for Continuing Airworthiness for a task, perhaps because they are very familiar with the basic task and do not know that the task documentation has changed, safety might be compromised.",
          "Some aerodrome controllers are 'over-controlling' VFR traffic in and around the zone, which is unnecessarily congesting the radio frequencies and risks causing difficulties for inexperienced pilots and those for whom English is their second language.",
          "The incomplete and inaccurate AIP reference to Civil Aviation Rule 91.413(e) was likely a factor in the routine non-compliance with the Rule by pilots making non-precision approaches to Queenstown Aerodrome.",
          "the training of cabin crew in the use of emergency oxygen equipment and the cabin depressurisation procedure",
          "administrative errors were identified in the advisory circular AC139-6 current at the time of this incident, which had the potential to create ambiguity in the way the relevant ICAO standards and recommended practices for airport design and operations were interpreted.",
          "Pilots' reluctance to use appropriate radio phraseology to alert air traffic services and other pilots that an urgent or distress situation exists, potentially stemming from a desire not to attract undue attention. This reluctance can lead to miscommunication and delays in emergency response.",
          "The descriptions of and requirements for the standard overhead circuit joining procedure that are published in Civil Aviation Rules, the Aeronautical Information Publication and the Flight Instructor's Guide can be misinterpreted or misapplied in non-standard traffic situations. This could contribute to the collision risk at aerodromes.",
          "While ATC sequences an IFR aeroplane to land and approves the flight crew to conduct a visual approach, current air traffic rules do not require controllers to provide flight crew with their positions in the approach sequence. This information can be crucial to a flight crew conducting a visual approach for them to maintain their situational awareness.",
          "Had the controllers realised that the low cloud around the aerodrome made the visual circuit unsuitable for a jet aeroplane, they could have protected the missed approach for Pacific Blue by a more positive means, such as not clearing Qantas for its approach until Pacific Blue had landed.",
          "Although not a factor in this incident, the use of similar titles for different RNAV approach procedures to the same runway is a hazard that could result in an aircraft flying the wrong approach.",
          "when pilots do not inform their flight-following organisations of changes to their routes or destinations, any search and rescue action that is required could be delayed or misdirected",
          "The minimum required separation between the 2 IFR aeroplanes was not assured because the approach clearance issued to Qantas did not allow for a potential communications failure and it was based on the controllers' shared assumption that Pacific Blue would, without further instruction, remain in the visual circuit in the event of not landing.",
          "Airways had not clearly explained to operators that it expected large aircraft that did not land at Queenstown after circling to enter the visual aerodrome circuit.",
          "The failure of the emergency locator transmitter to alert the search and rescue network had the potential to adversely affect survivability.",
          "The visual circuit procedure put in place by Airways for large aircraft at Queenstown should have had the approval of the Director because it was intended as a permanent change that introduced or varied right-hand circuits.",
          "The CAA's use of 'should' in advisory circulars could be misleading, because one could infer that full adherence to the chosen means of compliance is optional.",
          "Civil Aviation Rule 91.223 can be interpreted ambiguously in non-standard traffic situations, which could contribute to the collision risk at aerodromes.",
          "The incident would not have occurred had either of the aeroplane pilots stopped the descent when he lost sight of the helicopter.",
          "variances in lighting seen at Auckland Airport are a safety issue that the Commission is recommending that the chief executive of Auckland Airport address.",
          "The controller recognised the potential for a conflict, but he provided traffic information to the pilots of the aeroplane only, and not to the pilots of the helicopter.",
          "The procedure for circling below the minimum descent altitude after an instrument approach to Queenstown Aerodrome needs to be clarified to ensure pilots and controllers are in no doubt as to their respective actions to achieve separation from other traffic.",
          "The council had not evaluated the effects of the subsurface runway irrigation system on the maximum equivalent single wheel load for the Pauanui runway.",
          "It is likely that the level of risk with flight operations at Queenstown Aerodrome has increased because of changes in the variety and intensity of operations.",
          "The incident would have been less likely to occur had the aeroplane pilots immediately broadcast that they had lost sight of the helicopter.",
          "The pilot's rescue was due to the fortuitous presence of witnesses on shore. Had he arranged flight-following and made a timely emergency radio call, his rescue might have been more assured even without witnesses.",
          "differences between the intensity settings used on the night of this incident for runway and taxiway lights and the ICAO-recommended settings for similar conditions",
          "Changes in the size and shape of the Hamilton zone have shifted some VFR traffic congestion to prominent points outside the zone, and likely increased the risk of collision in those areas.",
          "Airways required all pireps to be passed to MetService, but the first controller said he decided not to pass on the pirep from NZ5046 because he had earlier passed on one from an ATR.",
          "When an IFR aeroplane is approved to conduct a visual approach to land, current ATC procedures can allow the flight crew to change their radio to the tower frequency dependent on their other clearance actions. This can create a situation where the approach controller is unable to contact that flight crew when the controller is still responsible for monitoring that flight crew's compliance with an instruction.",
          "There is no effective means of ensuring that the common operational information and procedures published by certificated organisations for their internal use are accurate and consistent. That deficiency inevitably results in differences that lead to misunderstandings between operational staff, which can compromise the safety of operations.",
          "Pilots, particularly those of jet aeroplanes, making non-precision approaches to Queenstown Aerodrome cannot fully meet the PANS-OPS requirements for such approaches because the runway cannot be kept in sight at all times when circling below the minimum descent altitude.",
          "The aviation community, including the regulator, Airways, aerodrome operators and aircraft operators, does not have a consistent approach to reducing the collision risks associated with simultaneous opposed circuits at aerodromes.",
          "Some VFR pilots continue to misconstrue ATC traffic information and instructions in Class C and D airspace as the provision of traffic separation.",
          "The lack of a definition of what was meant by 'simultaneous operations' had created confusion for pilots.",
          "The controllers and the pilots of the Pacific Blue aeroplane did not share the same understanding of how the published missed approach would be protected while Pacific Blue was circling. The different texts in the AIP and the Manual of Air Traffic Services at that time contributed to that misunderstanding.",
          null
         ],
         "marker": {
          "opacity": 0.5,
          "size": 5
         },
         "mode": "markers+text",
         "name": "0_Aviation Safety and Air Traffic Control Challenges",
         "text": [
          "",
          "",
          "",
          "",
          "",
          "",
          "",
          "",
          "",
          "",
          "",
          "",
          "",
          "",
          "",
          "",
          "",
          "",
          "",
          "",
          "",
          "",
          "",
          "",
          "",
          "",
          "",
          "",
          "",
          "",
          "",
          "",
          "",
          "",
          "",
          "",
          "",
          "",
          "",
          "",
          "",
          "",
          "",
          "",
          "",
          "",
          "0_Aviation Safety and Air Traffic Control Challenges"
         ],
         "textfont": {
          "size": 12
         },
         "type": "scattergl",
         "x": [
          2.1041172,
          2.148138,
          1.171272,
          1.1807284,
          1.9230449,
          2.1752906,
          1.9980623,
          1.6746103,
          1.8789492,
          2.1443205,
          2.0069754,
          0.019032275,
          1.9293721,
          2.0654116,
          2.1850264,
          2.015253,
          1.3324006,
          1.87702,
          1.9550042,
          2.1404674,
          1.8921784,
          1.2560834,
          2.0688639,
          2.2436252,
          1.1629322,
          2.2507064,
          1.9999439,
          2.0059164,
          1.6407466,
          2.2245467,
          1.928136,
          2.2487743,
          5.36051,
          2.261808,
          1.6038214,
          1.2603642,
          2.1173418,
          2.2150707,
          2.1822817,
          1.9264163,
          1.6101866,
          2.271102,
          2.1599758,
          1.9003451,
          1.7158217,
          2.062128,
          1.9455243
         ],
         "y": [
          1.9187762,
          1.9414403,
          2.2460744,
          2.2751565,
          1.360168,
          3.810606,
          2.1055746,
          1.4534336,
          1.568137,
          3.8115094,
          2.0447526,
          1.9154065,
          1.6365377,
          1.2716529,
          3.8342977,
          1.1212656,
          2.012075,
          1.2584915,
          1.749277,
          1.8676329,
          1.2795215,
          2.193883,
          1.8555065,
          1.7073889,
          2.2802894,
          1.6396999,
          1.1831031,
          1.2565664,
          2.3178914,
          1.2761438,
          2.1553655,
          1.7028271,
          5.568892,
          1.3583565,
          2.3300812,
          2.222461,
          0.92904,
          1.4080387,
          1.9610426,
          1.6394507,
          1.421979,
          1.6352336,
          1.1301093,
          1.5416284,
          1.6502955,
          1.960697,
          1.9306034
         ]
        },
        {
         "hoverinfo": "text",
         "hovertext": [
          "the initial design of the Cloudburst monsoon bucket meant the hook-and-loop fastener system had the potential to come undone during operations",
          "Avsec and airport company procedures had made no provision for vehicles to enter the runway without an ATC clearance outside the hours of operation of ATC, except in the case of an emergency.",
          "The modification of the cockpit lighting adversely affected the readability of the caution lights during daylight, when the dimmer was on.",
          null,
          "The condition of the helicopter's engine, including evidence of not sealing properly, excessive wear, and incorrect spark plug types, which could have reduced the available power and reliability.",
          "Pilots' concern about using manual mode",
          "There was no procedure for an Avsec officer to check with the airport night security agent for any expected aircraft movements before the officer entered the runway outside the normal hours of ATC.",
          "With the locks not being fully engaged, the vibration generated during the taxi to the take-off position was sufficient to cause the locks to back off. The locks finally released and the door opened at about the point of rotation during take-off, indicating that the locking mechanism's integrity was compromised by vibration and incomplete engagement.",
          "the widespread practice of allowing passengers to leave and return to a helicopter parked on snow while the rotors are turning is hazardous.",
          "There was insufficient guidance to pilots on the appropriate line length for monsoon bucket operations.",
          "All three Robinson helicopter models are susceptible to low-G mast-bumping, and any preventive measures should apply to all of them.",
          "The use of \"threat and error management\" (TEM) skills by the crew could have prevented the incident. If both pilots had recognised the defective cargo door warning system as a \"threat\" to safety of flight, they almost certainly would have paid close attention to the requirement for a crew member to confirm visually that the door was locked before flight.",
          "The helicopter was loaded above its maximum certified weight limit for the rescue flight and would have further exceeded it on the return flight.",
          "The pilot's operation of the helicopter with a load that inadvertently made contact with the tree canopy or the inability to maintain sufficient clearance from the tree canopy.",
          "There were no established procedures for entering the runway when the control tower was not operational, including a lack of pre-duty briefing or team meetings to discuss such procedures.",
          "The measurement specifications for overhauled compressor turbine blades that had been through a strip and recoat repair process were not exactly the same as those for new blades. Blades that had been through that repair process, without verification of critical dimensions, might fail before the next 3,000-hour inspection.",
          "The helicopter very likely encountered moderate to severe turbulence and an associated severe downdraught in the lee of Mt Arthur, which likely created a prolonged low-G condition.",
          "The practice of using the runway for perimeter checks outside ATC hours of operation was not standardized, creating an unnecessary risk to airport operations.",
          "The unique handling characteristics of helicopters equipped with Fenestron tail rotors, particularly the increased right pedal input required as the helicopter slows to a hover, which may not be intuitively understood by pilots transitioning from different helicopter types or with limited experience.",
          "the flight manuals for Robinson helicopters did not adequately warn pilots of the hazardous operating practices and environmental conditions that can lead rapidly to a catastrophic mast bump",
          "The potential for pilots, especially those with limited experience, to be startled by an unanticipated yaw, especially during critical phases of flight such as landing approaches, which can lead to a loss of control if not promptly and correctly addressed.",
          "The original fault of the cargo door annunciator light remaining illuminated after the door was closed and locked was not critical provided a crew member visually confirmed the door was locked. However, the faded paint on the visual lock indicator meant positive confirmation of the door being closed required a close-up check of the indicator.",
          "four of the seven fatal R66 accidents that have occurred globally since the type was introduced into service in 2010 were mast bump or low-main-rotor-RPM accidents, accident types seen with the smaller R22 and R44, which have the same main rotor design. However, the R66 was certificated without any special pilot training requirements or operating restrictions such as the minimum pilot experience and maximum wind strength that apply to the R22",
          "more educational material is needed to alert operators to the risk of contaminated fuel when operating and refuelling in remote, dusty environments.",
          "The Avsec officer lacked a thorough knowledge of the operational environment, including the meaning of the aerodrome lighting.",
          "The closed-circuit television recording suggested that the loader was waiting by the cargo door for the last passenger to arrive and might not have fully engaged the lock mechanism, assuming the door was either locked or simply caught to stop it swinging open.",
          "The challenge for pilots in accurately assessing wind conditions and their effect on helicopter performance during landing approaches, particularly in remote or confined areas, which can lead to inappropriate approach paths and increase the risk of accidents.",
          "The helicopter's airworthiness was compromised by factors such as the main rotor blades exceeding their finite calendar life, disabled engine-hour meter, unrecorded flight hours, and expired review of airworthiness.",
          "A pilot's instinctive reaction to an unexpected right roll, or the unintentional movement of a pilot's limbs or upper body during severe turbulence or low-G, could lead to mast-bumping.",
          "Aerodrome managers, in particular those at unattended aerodromes, lacked the guidance and understanding of their roles and accountabilities regarding the CARs and the Health and Safety at Work regulations, which was necessary to be able to discharge their responsibilities and ensure the safe operation of their aerodrome.",
          "The examination of the handle confirmed that it was possible to align the handle about horizontal, but owing to the play in the handle the locks would not engage until the handle had been pushed firmly slightly past the horizontal and the button had popped. The fading of the button colour degraded its effectiveness as an indicator and as a warning to pilots that the door was possibly insecure.",
          "Local aerodrome user groups benefit their participants by providing information about their respective activities. Aerodrome operators, in order to manage their operational risks, should require their relevant tenants and users to participate fully in such groups.",
          "Due to their unique main rotor design, during a sudden and prolonged low-G condition Robinson helicopters can roll rapidly to the right and likely break up before a pilot can recover.",
          "The difficulty in identifying the underlying causes of mast bump accidents involving Robinson helicopters due to the usually fatal nature of these accidents and the destructive impact of in-flight break-ups, which complicates efforts to make meaningful recommendations for preventing similar accidents.",
          "The incident was a result of the door not being closed properly by the loader and then the first officer not checking that it was locked as he was required to do. It also involved a number of unchecked assumptions being made by the loader, first officer, and captain about the actions or intended actions of others.",
          "Unfavourable wind conditions, including the possibility of a sudden tailwind gust during take-off, which could have reduced the helicopter's rate of climb in a critical phase of flight.",
          "Drivers of airport vehicles, including Avsec officers, were not trained or required to follow the good aviation practice of checking in both directions before moving onto runways, even when given permission to do so by ATC.",
          "The need for comprehensive training and experience to safely conduct operations in remote, confined, or off-aerodrome landing sites, including the ability to perform thorough reconnaissance passes and understand the implications of wind direction and speed.",
          "The Avsec officer's actions were indicative of a 'tunnel' focus on completing his own tasks with little regard for the bigger picture of the aerodrome operation.",
          "Carburettor icing conditions that presented a moderate risk at the time of the accident, with the carburettor heating control found in the OFF position.",
          "The importance of pilot training to include emergency procedures for handling unanticipated yaw events, especially for helicopters equipped with Fenestron tail rotors, to ensure pilots can respond effectively to prevent loss of control.",
          "The manufacturer of the Cloudburst monsoon bucket had not promulgated key operational information on and limitations of the Cloudburst monsoon bucket to operators.",
          "The practice of allowing a loader to close and lock the cargo door probably led the first officer to believe the loader had done so on this occasion, but this was no defence for him not to follow a specific instruction; to check it himself.",
          "Visual impairment due to the sun being low on the horizon directly ahead of the flight track, potentially affecting the pilot's ability to determine the helicopter's height above the tree canopy.",
          "Unapproved maintenance and modifications to the helicopter, including a dent in the tail rotor blade, unapproved battery system modification, and unapproved repairs to the main rotor blades.",
          "Had a previous limitation on maximum wind speeds for inexperienced R44 pilots remained in place, as per that for R22 pilots, the pilot would have been prohibited from flying at the time of the accident due to the forecast strong winds and turbulence.",
          "earlier research into the flight control systems and dynamic behaviour of the main rotor of lightweight helicopters, such as the design used by Robinson, was not completed as intended. Until the behaviour of such rotor systems in conditions of low G and turbulence is fully understood, it is possible that not all of the causal factors of mast bump accidents will be identified.",
          "The actual wind and turbulence at the time of the accident were very likely to have been the same as, or stronger than, the forecast conditions.",
          "The Avsec officer did not appreciate that flights could be delayed or that aircraft movements could occur at any time, nor did he appreciate that the illuminated runway lights meant the runway was active."
         ],
         "marker": {
          "opacity": 0.5,
          "size": 5
         },
         "mode": "markers+text",
         "name": "1_Helicopter Safety and Operational Challenges",
         "text": [
          "",
          "",
          "",
          "1_Helicopter Safety and Operational Challenges",
          "",
          "",
          "",
          "",
          "",
          "",
          "",
          "",
          "",
          "",
          "",
          "",
          "",
          "",
          "",
          "",
          "",
          "",
          "",
          "",
          "",
          "",
          "",
          "",
          "",
          "",
          "",
          "",
          "",
          "",
          "",
          "",
          "",
          "",
          "",
          "",
          "",
          "",
          "",
          "",
          "",
          "",
          "",
          "",
          ""
         ],
         "textfont": {
          "size": 12
         },
         "type": "scattergl",
         "x": [
          1.3595328,
          2.4709494,
          0.30218726,
          0.11983453,
          -0.89516455,
          -0.35234374,
          2.4762816,
          0.083213985,
          -0.8222372,
          1.1518227,
          -0.64246,
          -0.009528429,
          -0.97040546,
          -0.9375633,
          2.4980185,
          -0.8613411,
          -0.88585746,
          2.4719243,
          -0.8692154,
          -0.56632817,
          -0.7761654,
          0.105730526,
          -0.6487739,
          -1.040453,
          2.3865407,
          0.0815105,
          -0.91891366,
          -0.897216,
          -0.6984108,
          2.2795691,
          0.10444812,
          2.2566056,
          -0.7063571,
          -0.6106986,
          0.05269317,
          -0.90991294,
          2.4094796,
          -1.0873002,
          2.3903794,
          -0.79930544,
          -0.8966551,
          1.2301543,
          0.0765614,
          -0.97495204,
          -0.91865635,
          -0.84932923,
          -0.6021326,
          -0.8356234,
          2.4008243
         ],
         "y": [
          3.7372828,
          0.40658104,
          0.8460038,
          2.51791,
          3.0153613,
          3.544415,
          0.3932434,
          0.87606996,
          3.6195242,
          3.685724,
          4.021493,
          1.006299,
          3.2383192,
          3.2920992,
          0.38359383,
          2.964695,
          3.3761606,
          0.4076404,
          3.7927754,
          4.022189,
          3.7098322,
          0.86422414,
          3.9721453,
          3.604468,
          0.50158745,
          0.8761558,
          3.524334,
          3.0351925,
          3.9577768,
          0.7859015,
          0.85325557,
          0.9446081,
          4.020657,
          4.008619,
          0.92156154,
          3.3030503,
          0.48317784,
          3.6240633,
          0.49338812,
          3.0984223,
          3.7278454,
          3.6362705,
          0.88986963,
          3.3415883,
          3.026198,
          3.6658642,
          3.995598,
          3.4372394,
          0.47717288
         ]
        },
        {
         "hoverinfo": "text",
         "hovertext": [
          "The operator had not included predefined weather criteria in its MTOP. This resulted in the skipper having to make a critical safety decision on the weather without any criteria against which to assess it.",
          "There was no clear delineation of who had control of the Rena at the time of the grounding, and the master, having assumed that he had taken control, had received virtually no information on where the ship was, where it was heading and what immediate dangers to navigation he needed to consider.",
          "The design of the closures on the ventilation grilles around the fish processing deck.",
          "The operator's safety management system was not supported by an effective safety assessment of log-cargo-securing operations, which should have identified the hazards present. This resulted in ineffective controls to mitigate the risks to crew when completing these tasks.",
          "The internal audit's recommendations to improve safety had been signed off as completed by the master, but the accident demonstrated that not much had actually changed, indicating a poorly developed safety culture on board.",
          "The situational awareness of the bridge team on the Rose Harmony was adversely affected by poor bridge resource management, exacerbated by the presence and distracting influence of passengers on the bridge in pilotage waters.",
          "The operation of L'Austral's ECDIS did not meet good practice as defined in the IMO guidance or the standards set out in the operator's safety management system.",
          "housekeeping practices on board affecting the safe operation of the vessel.",
          "Pilot currency and proficiency assessments were not implemented as required by South Port's pilot training and proficiency plan.",
          "The master's decision to proceed across the Bar without sufficient information on the actual wave conditions over and outside the Bar.",
          "The operator's standard operating procedures did not require its pilots to routinely calculate the performance capabilities of their helicopters for the intended flights.",
          "crew awareness of the operating limitations of the vessel",
          "There is a lack of advice and guidance in the Maritime Rules on what is an acceptable standard for surveyors to approve when the Maritime Rules defer to the surveyors' discretion.",
          "The IMO has set standards for passage planning that vessels must adhere to, but there is no corresponding requirement for the passage plans that port authorities create and use to meet those same standards.",
          "The operator had had four serious landing accidents in three years. While there were some similarities in the circumstances, the factors for most of these accidents were not determined conclusively by the Commission's inquiries or by the operator's internal investigations.",
          "the maintenance regime that Fullers followed did not correspond to Wärtsilä's (the engine manufacturer's) recommended maintenance programme, but also Wärtsilä would not explain the rationale behind its recommended maintenance programme",
          "the operator's hazard identification system had not identified the risk that a system critical to the safety of the jet boat could fail",
          "There was a lack of clarity on whether stock clearing was a permissible activity under the Civil Aviation Rules.",
          "The high risk of the ship becoming overwhelmed by sea conditions during the estimated 30 minutes it would normally take to clear the Bar, especially when crossing right on the limit of maximum safe operating conditions.",
          "Encasing steel wire in plastic sheathing when it is to be used in the marine environment has significant implications for maritime safety, especially when the wire must be regularly inspected and maintained in order to remain fit for purpose.",
          "The grounding could have been prevented if the tugs had still been in attendance in a passive or active escort role.",
          "Air traffic control's failure to alert the flight crew immediately upon observing the aircraft descending below the minimum altitude restrictions represents a missed opportunity to prevent or mitigate the altitude breach.",
          "Neither the ship's planned-maintenance system nor the surveyors of the lifeboat-launching system appear to have recognised the safety-critical function of the lifting sling, and the fact that it could not be properly inspected and maintained in accordance with the relevant SOLAS requirements.",
          "Inconsistencies in the application of Rule 40D may have resulted in up to 12 fishing vessels operating under the New Zealand Flag not complying fully with the relevant safety standards. A further 50 fishing vessels have been afforded grandparent rights that will allow them to operate indefinitely without meeting contemporary safety standards under the current Maritime Rules.",
          "The FENZ training standards did not fully cover the special considerations for responding to shipboard fires.",
          "The operator of the Henerata had not assessed the risk of a capsize occurring. As a result, there were no documented controls for preventing one occurring or for minimising the consequences should one occur.",
          "The operator was aware of the captain's tendency over a period of at least three years to not always follow standard communication procedures. The informal method the company used to address the issue did not result in any measurable improvement.",
          "Operators have insufficient stability information to make informed decisions, because there is no requirement for small commercial craft to be provided with stability data.",
          "The crew were not adequately monitoring and fixing the Rena's position as the ship approached Astrolabe Reef and the port of Tauranga.",
          "The fish hatch was susceptible to being left fully or partially open because it was hydraulically closed from the wheelhouse and could not be latched closed.",
          "The voyage planning for the time in the Snares Islands and the standard of bridge resource management on the bridge leading up to the contact did not meet the IMO standards or follow the guidelines published in other leading industry publications.",
          "The standard of bridge resource management on the Monte Stello leading up to the grounding was not as high as that found operating on the other three vessels operated under KiwiRail's safety management system.",
          "The Robinson helicopter flight manuals do not conform to the aviation industry practice for the use of \"Warnings\" to emphasise flight conditions and operating practices that can cause death or serious injury.",
          "The Rena crew occasionally deviated from the passage plan in an ad-hoc manner and did not always incorporate those deviations into the plan - nor did they adequately monitor the ship's progress against the deviations. Deviating from the passage plan was one factor directly contributing to the grounding.",
          "The standard of pilot training and the supervision of operations at Great Barrier Airlines was below that required.",
          "There was a risk of not knowing an aircraft's capability when using standard passenger weights, and therefore of pilots operating close to the limits of their aircraft's performance.",
          "Skippers not routinely using electronic navigation aids to full effect, and the lack of routine and frequent use of these aids, which could have prevented the grounding by alerting the skipper to navigational hazards.",
          "Totally encasing steel wire in plastic sheathing when it is to be used in the marine environment has significant implications for maritime safety, especially when the wire must be regularly inspected and maintained in order to remain fit for purpose.",
          "crew operating knowledge of on-board emergency systems",
          "The operator's procedures did not require pilots using open-descent mode to reset the Flight Control Unit (FCU) to the next intermediate altitude restriction, which could reduce the effectiveness of descent management and increase the risk of altitude breaches.",
          "The compass error was infrequently checked and was not checked at all on the voyage from Napier to Tauranga.",
          "Limitations in the operator's dispatch system for updating flight information might have been a cause of the crews not receiving updated weather information, including SIGMET 28, after they had completed briefing.",
          "If the issues of mechanically unreliable vessels and substandard crew resource management on vessels operating in New Zealand ports are to be addressed, this will need to be done at a national level rather than individual ports dealing with the issues as they arise.",
          "The CAA had had recurring concerns for the management and standard of operations at Great Barrier Airlines during the 3 years prior to this incident, but the actions taken to address those concerns had been ineffective.",
          "The cadet was allowed to work at height close to the ship's side without using fall-prevention equipment, jeopardizing his safety.",
          "The safe working loads of the bollards on Number One Wharf were unknown and therefore it was not possible to determine whether the mooring plan for any ship was safe.",
          "The bilge pumping system on the Jubilee was not fitted with any means of automatically alerting the crew when the water in the fish hold reached an abnormal level. If the crew had been alerted to the level of water in the fish hold, it is as likely as not that the sinking would have been prevented.",
          "The pre-manoeuvre briefing (completion of the Tory Channel Eastern Inbound Approach checklist) did not include any discussion about the actual planned passage, nor reminders about responsibilities (for example pilot/co-pilot), nor was \"Red Zone\" declared. The first two points were not included in the checklist. However, they are an integral part of effective BRM practice. The briefing did not result in a shared mental model across the bridge team.",
          "Because commercial vessels can frequently change ownership and their owners can switch between safe ship management providers, there is a need for Maritime New Zealand to maintain a central database of all important safety and operation records for the entire life of each vessel in the system.",
          "The operator's procedures for single-pilot VFR operations into the Southern Ocean were not complete or adequate at the time of this accident to safely manage the flight.",
          "There are four factors that were not, but should have been, considered when assessing the risk of using the Boeing 757 aircraft for Antarctic operations:\n the weather criteria for an aeroplane passing the point of safe return should consider the presence of low cloud and fog below the main cloud base as a limiting factor\n there is an increased likelihood of weather conditions deteriorating below minima early in the summer season\n the accuracy of instrument approaches should be treated with caution prior to calibration flights being conducted early in the summer season\n the Royal New Zealand Air Force Boeing aircraft is capable of completing only one type of instrument approach in Antarctica.",
          "The operator's safety management system had not fully mitigated the risk of fire caused by cargo hold lighting, in spite of an earlier incident involving similar circumstances.",
          "The bridge operations on board the Leda Maersk fell short of achieving good industry practice in both planning and executing the passage under pilotage and bridge resource management.",
          "KiwiRail did not follow the manufacturer's advice on the best way to fit the new propellers and modify the propulsion system for optimum results. If it had, some of the conditions that contributed to the failure of the tail shaft would have been less likely to occur.",
          "The lack of a requirement for flight crews to actively use onboard systems, such as the navigation display, to monitor the aircraft's compliance with altitude restrictions during descent in open-descent mode, potentially compromises situational awareness and flight safety.",
          "the management of the weight and balance of the aircraft",
          "Napier pilots were unaware of the requirement to provide a pilotage service throughout the whole of the Napier Pilotage Area and that the outward pilotage limit was not legal.",
          "The primary means for navigation on board the L'Austral, the ECDIS, was not being used to its full potential as a tool for planning and monitoring the ship's passage, and the crew were not fully conversant with its safety features.",
          "The day after the accident, some of the crew were still observed working atop the log cargo without wearing safety harnesses, illustrating the ongoing safety culture issues on board.",
          "Bridge team members later said that closed loop communication was not always used, especially in routine manoeuvres. This was one explanation for why it was used for one helm order and not the next.",
          "The responsibilities of the various authorities involved in responding to the fire were not clearly documented and understood by all parties.",
          "Eight of the 12 vessels managed by CIEL had higher rates of deficiencies per inspection than the average of all other vessels subjected to port state control inspections in the Asia-Pacific region in the same period. The Rena's deficiency rate was almost twice the average. This indicated that the CIEL safety management system for the vessels operating in the Asia-Pacific region, and for the Rena, was not functioning as it could have been according to the ISM Code.",
          "The simulator that Air Nelson used for training its pilots in the alternate landing gear extension procedure was not representative of the actual forces required to release the uplock.",
          "The watchkeeper was not making the most effective use of the bridge navigation equipment on board the Rena before the grounding.",
          "The actions of the Madinah's bridge team were not intuitive in response to a man-overboard scenario, including not noting the ship's position, not releasing a lifebuoy with a light and smoke signal, not sounding the appropriate signal on the ship's whistle, or not sounding the general alarm.",
          "The standard of bridge resource management on board the L'Austral during the Milford Sound pilotage did not meet good industry practice.",
          "The quality of the fit achieved between the tapered propeller tail shaft and the propeller hub when the new propeller was fitted during the extension project was likely to have been the reason for the fretting.",
          "Port Otago's safety management system fell short of achieving good industry standards for pilotage operations",
          "A lack of documentation from KiwiRail meant that there was no evidence that appropriate checks and balances had been in place to ensure that the new propellers were well fitted.",
          "The safety management system for the Hanjin Bombay and its operating company did not succeed in ensuring that good crew resource management was a standard feature of on-board operations.",
          null,
          "The safety information system's default classification of occurrences as \"minor\" when not selected as \"major,\" leading to a delay in notifying the Commission of significant safety concerns.",
          "The means of escape from the Jubilee's wheelhouse in the event of an emergency afforded the crew too few options for escaping in the event of capsize or sinking.",
          "The standards of navigation and bridge resource management required by KiwiRail's safety management system were not being achieved by the bridge team that was on board the Monte Stello when the accident occurred.",
          "The lack of a consistent procedure for rigging an accommodation ladder while still at sea.",
          "A 3W dynamic risk assessment was not carried out prior to the task, despite being encouraged as part of promoting safe operational working practices with adequate risk assessment.",
          "The operator's risk assessment process did not prevent the bosun working at height with an inadequate fall-protection system.",
          "The mooring procedures contained in the port company's SMS were not strictly adhered to and the procedure in the event of a high wind warning was ineffective.",
          "Navigation practices (including crew resource management) are a critical shipboard function that any safety management system should closely monitor to ensure that best industry practice is achieved.",
          "The deck cadet was not wearing a safety harness and, more importantly, none of the crew routinely used safety harnesses, despite their being a requirement under the ship's safety management system.",
          "the Fullers system allowed the Kea to enter and continue service using the follow-up mode of operation, despite the company knowing that there were faults with that mode that were resulting in incidents.",
          "The declaration of \"Red Zone\" was intended to provide a heightened level of vigilance. However, it appears to have had little effect on the actions of the bridge team other than the increased manning level.",
          "The ISO standards for large-propeller manufacturing might not be suitable for more modern, high-efficiency propellers that operate closer to cavitation margins.",
          "The means of escape from the Jubilee's wheelhouse and accommodation space may not have met the intent of the Maritime Rules for providing escape for crew in the event of fire.",
          "The level of bridge resource management on the bridge did not meet industry good practice. The bridge team could not effectively monitor the execution of the pilotage because they did not have an agreed specific pilot plan, or agreed monitoring parameters appropriate to the weather conditions at the time.",
          "There are currently no global minimum standards for the inspection, testing and rejection of pressure cylinders that make up part of stored energy systems on lifeboat launching installations, which has resulted in a wide variation in, and in some case inadequate, standards applied by flag state administrations, classification societies and authorised service providers.",
          "The deckhand keeping watch on board the Leila Jo was not sufficiently familiar with the collision-prevention rules to be left in sole charge of the watch.",
          "The standard of crew resource management on board the Hanjin Bombay fell well short of international industry best practice.",
          "A working bridge watch navigational and alarm system should have been fitted to the Anatoki to mitigate the known risk of one-man bridge operations. Had one been fitted the mate might have been alerted in time to prevent the grounding.",
          "The vessel's managing company had not conducted a risk assessment and had not developed a formal procedure for rigging any of the four accommodation ladders on board the Madinah, and neither had the senior on-board management or the crew who were performing the task.",
          "The pre-arranged rendezvous with the helicopter to coincide with unloading other vessels at Big South Cape Island possibly influenced the skipper's decision to continue with his planned departure.",
          "aspects of the way the operator and aeroplane owner operated the aircraft",
          "There is limited data to quantify the extent of alcohol and drug use in the New Zealand recreational maritime sector and its impacts on recreational boating accidents.",
          "The safety management system on board the Captain M. J. Souza provided good guidelines for the management and use of ropes on board. However, neither the crew nor the skipper nor shore management were ensuring that the safety management system was being adequately followed.",
          "The operator's system for training its pilots did not comply fully with the Civil Aviation Rules or the operator's operations specifications, and did not adequately prepare the pilot for the role and responsibilities required for flight operations that day.",
          "The lack of a wave-rider buoy near the Manukau Bar to provide accurate and timely data on wave conditions, compounded by the difficulty in maintaining navigation aids in the area.",
          "The operator believed that stock clearing was permitted, but had no written guidelines and had not given its pilots flight training in the manoeuvre.",
          "It is an unsafe practice to use a vessel's handrails as an anchor point for safety harnesses, because the material condition and strength of the rails are unknown.",
          "The firefighting drills held on board the Taokas Wisdom were not effective in ensuring that all crew were familiar with their tasks and responsibilities in the event of a fire.",
          "The use of virtual aids to navigation could be one alternative method for highlighting dangers to navigation. However, they should not be introduced before proper research into, and the development of performance standards for them have been completed.",
          "The type of safety culture on board that allowed the situation of not using safety harnesses to exist.",
          "The design and failure of the wire that the bosun had connected his safety harness to.",
          "The crew were not using the ECDIS in the correct configuration required by the IMO and company standards when the grounding occurred.",
          "The flight crew's reliance on open-descent mode without adequately monitoring and ensuring compliance with intermediate altitude restrictions led to the aircraft descending below the minimum permitted altitude.",
          "The absence of a visual indicator in the wheelhouse that would have alerted the crew when the bilge pump was running meant that the bilge pumping system was non-compliant with Maritime Rules. There was no other means fitted to the fish hold bilge system to alert the crew to excess water in the fish hold.",
          "Encasing wire rope in plastic sheathing prevents the wire being lubricated, maintained and inspected, and can accelerate the onset of corrosion through the retention of salt water within the core of the wire rope.",
          "The pilot lacked recent experience and training on the aircraft type.",
          "The challenge in maintaining propeller immersion due to the ship's pitching motion into waves, which is exacerbated by the shallow draught required to navigate over the Bar.",
          "The IDAS Bulker was not under the control of a licensed pilot when navigating within a pilotage area, contrary to the requirements of the Maritime Rules and the Hawke's Bay Regional Council Navigation Safety Bylaws.",
          "The skipper became distracted by the simultaneous tasks of following the pod of dolphins and giving the passenger commentary over the public address system, to the detriment of monitoring the progress of the vessel in relation to navigation dangers.",
          "Fullers had not assessed the risk of operating ferries with unsecured passenger seating.",
          "The operator had identified the risk of skippers becoming distracted by giving commentary but had only really identified the risk in certain situations, such as transiting the Hole in the Rock, and not in the broader context of navigating close to navigational dangers while engaging with wildlife.",
          "Port of Tauranga Limited's risk assessment for its Ports and Harbours Safety Management System did not fully address the risk of departing vessels experiencing failure of propulsion and manoeuvring systems at critical locations in the entrance channel.",
          "The standard of watchkeeping on board the Rena for the accident voyage and particularly the watch period during which the grounding occurred, in almost all respects, did not comply with the industry best practice described in the IMO Voyage Planning Guidelines and The Nautical Institute's Bridge Team Management - a Practical Guide.",
          "A historical lack of common and good-standard practice for keeping ship operation and safety records has resulted in the loss of important information about commercial vessels that are still operating today.",
          "The helicopter manufacturer did not provide information to assist instructors in training for flying in manual mode.",
          "The safety issue whereby SIGMETs can be misleading or lack clarity because of insufficient reference to recognisable geographic regions.",
          "The operator had been allowed to continue providing helicopter air operations with little or no intervention from the CAA, in spite of the CAA having identified significant non-compliances with the operator's training system and managerial oversight.",
          "The rope management plan on board the Captain M. J. Souza was not effectively managing the purchase, storage, inspection and retirement from service of the ropes on board.",
          "The standard of BRM on board the Molly Manx during the Otago pilotage did not meet good industry practice.",
          "Technicians who are authorised to conduct mandatory annual and five-yearly inspections of lifeboat-launching installations are not required to have specific training and certification for inspecting any stored energy-release systems and their associated pressure cylinders.",
          "At the time of the grounding there was uncertainty between Maritime New Zealand and the owner of the Anatoki on what was a suitable level of crewing for a ship of that size and tonnage. The complexity of the relationship between New Zealand and international standards for crewing ships is an issue that New Zealand needs to resolve.",
          "The vessel's bridge team and the pilot did not have a shared understanding of a common passage plan before the pilotage began. Consequently, the pilot and the vessel's bridge team had different understandings of the planned track to be followed and their respective roles in monitoring against the plan.",
          "The cracks in the starboard rudder stock were fatigue cracks. Owing to their position and depth, they were most probably linked to cavitation forces applied to the starboard rudder from the starboard propeller. These forces were likely outside those expected in normal operations.",
          "The Department of Conservation had insufficient maritime expertise applied to assessing the risks to ships and the environment.",
          "The absence of the 1225 special weather report and the delay in sending the 1332 special weather report, while unlikely to have altered the outcome, need to be examined further to ensure that safety-critical information is passed to crews in a timely manner.",
          "It is about as likely as not that the choker rope that broke on board the Captain M. J. Souza began its life in service at a lower-than-typical breaking load for a rope of that size and construction.",
          "The format of the Robinson R22 helicopter flight manual and the terminology it uses do not draw appropriate attention to safety-critical instructions and conditions that could result in serious injury or death.",
          "the training in place for the crew around the configuration of the emergency stops likely resulted in confusion on which emergency stops serviced which system.",
          "The use of plastic-coated wire for any rigging that is required to be inspected frequently is unsafe.",
          "The standard of passage planning on board the Rena often, and in some respects, did not comply with the company safety management system, or with the vessel's safety management system, or with the STCW Convention.",
          "The master not using English, the official working language of the ship, when engaging with the chief engineer as the emergency unfolded was a serious breach of emergency management protocols that left the pilot and other bridge team members unaware of the issue they were dealing with. This breach contributed to the Hanjin Bombay grounding.",
          "The manufacturer of the lifeboat did not provide adequate advice on the arrangement and construction of, or the maintenance and replacement requirements for, the lifeboat lifting sling.",
          "The electronic navigation aids were not configured to maximize navigation safety, such as by using geo-fencing to alert skippers of hazards or setting depth sounder alarms to warn of shallow water.",
          "A better standard of crew resource management could have prevented the grounding in spite of the main engine cooling-water problem.",
          "The inability of air traffic controllers and pilots of aircraft taking off to observe the meteorological conditions behind Deer Park Hill, an area in which pilots must be able to maintain visual contact with terrain, is a safety issue that needs to be resolved.",
          "The training that Air Nelson gave its pilots on the alternate landing gear extension procedure did not include key information provided by Bombardier concerning the release handle forces, and there was no guidance in the QRH procedure.",
          "The pilot/co-pilot system was rendered ineffective when the co-pilot was ordered to a location where he was unable to monitor the pilot's actions and outcomes and to some extent there might have been an overreliance on it, as evidenced by the master not routinely checking that what he had asked for was actually happening.",
          "The CIEL oversight of the safety management system as applied on board the Rena was not sufficient to prevent a high number of port state control deficiencies and violations of some company procedures for voyage planning and navigation.",
          "neither the operator nor the surveyor ensured an appropriate level of surveyor oversight of the project to replace the Kea's propulsion control system.",
          "There was a low likelihood of the weather conditions at the Pegasus Field aerodrome deteriorating below minima after an aeroplane passed the point of safe return. However, the potential consequences of that happening were elevated for the Boeing 757 aircraft, because of the lack of alternative approach procedures and aerodromes suitable for this aircraft type.",
          "The captain and first officer did not adhere to company standard operating procedures for a \"monitored approach\" to the runway in poor meteorological conditions, which eroded safety margins built into the procedures and compromised the safety of the flight.",
          "The plastic sheathing that had been placed around the wire on the lifting sling by the manufacturer prevented the crew and surveyors inspecting and maintaining the lifting sling to the standards required by the International Maritime Organization Convention for the Safety of Life at Sea (SOLAS).",
          "The performance of both the master and the second mate was likely to have been at least mildly affected by fatigue during the work period midnight to 0215, the period leading up to the grounding.",
          "Conducting blind pilotage with large ships in confined waters represented risks that had not been fully considered by Environment Southland, the regional authority that regulates maritime activity in the area.",
          "Fretting between the starboard propeller hub and the tail shaft and corrosion on the metal surface of the tail shaft would have likely decreased its fatigue strength.",
          "The flammability of some materials used on the fish processing deck.",
          "A light beacon placed on Astrolabe Reef is another measure that probably would have alerted or reminded the bridge team to the presence of Astrolabe Reef, and would likely have prevented the Rena grounding. However, this needs to be seen in the context of the number of other dangerous rocks and reefs around the New Zealand coastline, the cost versus the benefits of fitting and maintaining light beacons on all such rocks and reefs, the availability and prevalent use of more modern and accurate navigation systems for avoiding such navigational dangers, further advanced systems such as virtual and synthetic aids to navigation that are likely to replace physical light beacons in future, and relevant Resource Management Act considerations.",
          "Some people are using the accident and incident reporting process to raise safety concerns because there is currently no dedicated, formal process within Maritime New Zealand where members of the public and the maritime community can submit reports on safety and security concerns, including complaints and allegations of suspected breaches of maritime legislation.",
          "the risks associated with operating the accumulator were not fully understood and the safety controls relied heavily on the machine operator following generic instructions and procedures",
          "The reliance on the automation of the safety information system, which contributed to the oversight of the incorrectly classified notification of the occurrence.",
          "The safety management system and the underlying safety culture on board did not meet industry good practice.",
          "The crew's violation of the company instructions and best industry advice on the matter of using safety harnesses and fall arrestors when lashing logs on deck had become routine.",
          "Conduct of the aerial hunting operation potentially without a commercial pilot licence or operating under an air operator certificate, indicating a lack of compliance with the Civil Aviation Rules for commercial operations.",
          "The operator's safety management system did not fully address the risk of vessel groundings and collisions where its skippers were in effect working alone in the wheelhouse.",
          "The standard of team resource management in the Hamilton ATC tower did not match good industry practice.",
          "Some aspects of the crew response to the fire did not follow industry good practice.",
          "The qualifications held by the crew on the Anatoki should have been sufficient to navigate the ship safely on the voyage from Nelson to Tarakohe.",
          "The company drug and alcohol policy was not at the time of this accident complied with by the Anatoki's master and crew.",
          "the Fullers training and familiarisation system failed to ensure that the master was properly trained in and familiar with the Kea's propulsion control system.",
          "The reliance on weather forecasts and data from distant wave-rider buoys, which may not accurately reflect conditions at the Manukau Bar, leading to underestimation of the risks of crossing the Bar.",
          "The number of port state control deficiencies identified against the Rena and its detention in Fremantle for non-compliance with statutory requirements indicates that the safety management system as applied on board the Rena was not meeting the objectives of the ISM Code.",
          "The owner and the master on board the Anatoki were not effectively managing the standards of navigation and the drug and alcohol policy at the time of the grounding.",
          "Potentially critical information on a serious incident, recorded in two separate CVRs, was lost because the recordings were not protected.",
          "the operator's planned maintenance programme did not ensure that the manufacturers' specifications were met for the jet boat's steering and control system"
         ],
         "marker": {
          "opacity": 0.5,
          "size": 5
         },
         "mode": "markers+text",
         "name": "2_Maritime Safety and Management Deficiencies",
         "text": [
          "",
          "",
          "",
          "",
          "",
          "",
          "",
          "",
          "",
          "",
          "",
          "",
          "",
          "",
          "",
          "",
          "",
          "",
          "",
          "",
          "",
          "",
          "",
          "",
          "",
          "",
          "",
          "",
          "",
          "",
          "",
          "",
          "",
          "",
          "",
          "",
          "",
          "",
          "",
          "",
          "",
          "",
          "",
          "",
          "",
          "",
          "",
          "",
          "",
          "",
          "",
          "",
          "",
          "",
          "",
          "",
          "",
          "",
          "",
          "",
          "",
          "",
          "",
          "",
          "",
          "",
          "",
          "",
          "",
          "",
          "2_Maritime Safety and Management Deficiencies",
          "",
          "",
          "",
          "",
          "",
          "",
          "",
          "",
          "",
          "",
          "",
          "",
          "",
          "",
          "",
          "",
          "",
          "",
          "",
          "",
          "",
          "",
          "",
          "",
          "",
          "",
          "",
          "",
          "",
          "",
          "",
          "",
          "",
          "",
          "",
          "",
          "",
          "",
          "",
          "",
          "",
          "",
          "",
          "",
          "",
          "",
          "",
          "",
          "",
          "",
          "",
          "",
          "",
          "",
          "",
          "",
          "",
          "",
          "",
          "",
          "",
          "",
          "",
          "",
          "",
          "",
          "",
          "",
          "",
          "",
          "",
          "",
          "",
          "",
          "",
          "",
          "",
          "",
          "",
          "",
          "",
          "",
          "",
          "",
          "",
          "",
          "",
          "",
          "",
          "",
          "",
          "",
          "",
          ""
         ],
         "textfont": {
          "size": 12
         },
         "type": "scattergl",
         "x": [
          2.3724685,
          3.2444024,
          1.8592441,
          2.5482037,
          2.4676366,
          3.398259,
          2.840946,
          2.9271736,
          0.89662516,
          2.1896045,
          0.8513623,
          2.95188,
          3.2398653,
          3.4382095,
          1.1779913,
          2.7609756,
          2.6033375,
          1.0813189,
          2.1657667,
          1.6202596,
          3.034598,
          1.579529,
          1.4308332,
          3.8875566,
          2.1050196,
          2.6188679,
          1.1637254,
          0.4346477,
          3.230297,
          1.8149964,
          3.3244302,
          3.40829,
          -0.44057125,
          3.2724175,
          1.0277295,
          0.70495576,
          2.8461738,
          1.6174291,
          2.2021637,
          1.4696321,
          3.2470403,
          1.1152736,
          3.8705516,
          1.2938157,
          2.177797,
          2.801384,
          1.7818879,
          3.4741206,
          3.8931684,
          0.9363847,
          0.8165319,
          2.491147,
          3.3394287,
          5.434465,
          1.454959,
          0.7761171,
          3.2526948,
          2.8378725,
          2.0811586,
          3.5136862,
          2.14648,
          3.3955715,
          -0.4931939,
          3.1160152,
          3.406031,
          3.2120323,
          5.309697,
          3.1833527,
          5.373597,
          2.7981684,
          2.399326,
          1.1580045,
          1.7581611,
          3.431557,
          2.3328323,
          2.525969,
          2.5049016,
          2.808636,
          3.1162884,
          2.078728,
          2.7845697,
          3.4635875,
          -0.17566568,
          1.8099242,
          3.3839097,
          0.9937691,
          3.166126,
          3.0361056,
          3.152158,
          2.4910166,
          0.72737485,
          1.1760447,
          3.9163194,
          2.360466,
          0.9436225,
          2.2726996,
          1.0623285,
          2.0750508,
          2.1051242,
          2.9523761,
          2.0559018,
          2.0998917,
          2.8169336,
          1.4788359,
          1.8154452,
          1.6120397,
          0.9820582,
          2.1764421,
          3.2500303,
          2.9215717,
          2.6226633,
          2.806206,
          3.0426533,
          3.293485,
          3.8492436,
          0.113400824,
          1.6391686,
          1.2146419,
          2.2059495,
          3.1472208,
          1.0237079,
          3.7959092,
          3.4397533,
          5.3595104,
          3.2171483,
          1.066653,
          2.1957738,
          -0.38907143,
          7.703277,
          1.6397394,
          3.3346722,
          3.059406,
          1.4313327,
          2.8399909,
          2.9381094,
          1.6561308,
          -0.43173778,
          1.0874487,
          3.3911326,
          2.900675,
          0.86427265,
          1.0684459,
          1.5849009,
          3.4905846,
          3.226127,
          5.296603,
          1.9140683,
          3.0303662,
          3.8952234,
          2.6302266,
          1.1690371,
          2.7435088,
          2.108212,
          1.1543199,
          2.7005744,
          3.0808797,
          2.1773233,
          3.650061,
          3.853435,
          2.7953942,
          2.2164242,
          3.4008932,
          3.6260884,
          0.798135,
          2.6574323
         ],
         "y": [
          6.2483864,
          8.433163,
          7.586359,
          6.7464137,
          6.882207,
          7.5269237,
          8.123043,
          7.3177342,
          3.802879,
          8.627521,
          3.6580076,
          7.2580857,
          6.8813562,
          8.145979,
          3.8611588,
          5.7360487,
          6.405685,
          3.5554593,
          8.621317,
          6.0700326,
          7.9092236,
          2.5016437,
          6.3705497,
          7.751179,
          7.501055,
          6.4032784,
          3.6973324,
          3.6602905,
          8.396241,
          7.653064,
          7.749581,
          7.708494,
          4.123,
          8.384848,
          3.7796948,
          3.580312,
          8.196827,
          6.0649533,
          3.8541517,
          2.6430392,
          8.477173,
          2.88875,
          7.78328,
          3.9879878,
          6.468698,
          6.7263,
          7.6784863,
          7.4780107,
          7.7898993,
          3.57041,
          3.0769386,
          6.9997287,
          7.549316,
          5.304756,
          2.620858,
          3.6321867,
          6.9934697,
          8.196253,
          6.53169,
          7.4821234,
          7.492131,
          8.440415,
          1.3442924,
          8.276714,
          7.462575,
          7.6080403,
          5.182256,
          7.010496,
          5.5265064,
          7.2942924,
          6.265176,
          2.8677928,
          7.707295,
          7.718326,
          6.5792236,
          6.541465,
          6.512142,
          6.7631197,
          7.3458133,
          6.4380794,
          5.714009,
          7.4593782,
          3.334179,
          7.698158,
          7.5432954,
          6.372607,
          8.222195,
          7.461259,
          8.183487,
          6.5710535,
          8.190796,
          3.8884094,
          7.905011,
          6.808524,
          3.7080092,
          8.636747,
          3.5928502,
          6.3465347,
          7.4866953,
          8.305355,
          6.5189962,
          6.4327826,
          8.181676,
          2.6280267,
          7.67274,
          6.101121,
          3.7040052,
          8.621346,
          6.987941,
          7.704202,
          6.398255,
          7.03421,
          6.891029,
          8.3415165,
          7.689059,
          3.7172666,
          1.4780402,
          3.9714634,
          6.7063684,
          7.511146,
          6.3874097,
          7.9585505,
          7.585062,
          5.1276226,
          6.8965697,
          2.7479153,
          6.7142057,
          4.0684037,
          4.2210774,
          6.0649657,
          8.342418,
          7.458505,
          6.3475933,
          8.229479,
          7.6002874,
          1.5414685,
          1.3435072,
          3.276189,
          8.435851,
          5.8284874,
          3.0285199,
          3.2506561,
          6.1423945,
          8.090515,
          6.9611545,
          5.1454506,
          7.5807586,
          8.29448,
          7.8345957,
          6.433809,
          2.8980877,
          7.2727294,
          6.5441227,
          4.009449,
          7.1137357,
          7.507196,
          7.4902964,
          8.0567665,
          7.9455543,
          5.7336187,
          8.637088,
          8.45056,
          8.026836,
          2.529512,
          6.014453
         ]
        },
        {
         "hoverinfo": "text",
         "hovertext": [
          "The inability to identify the facility where the fuel-transfer tubes had been removed and cleaned in a non-approved manner, indicating a gap in tracking and accountability of maintenance practices.",
          "The regulator's guidelines for inspecting used parts of unknown origin were not well defined, and the company's approved procedures developed from these guidelines were not adequate in this case.",
          "The quality control and traceability of the spark plugs were insufficient to prevent the installation of a defective spark plug, as the failed spark plug had passed through several agents without the defect being detected.",
          "The lack of a requirement for controlling or recording the use of rags during maintenance and cleaning tasks in the flight deck area and in the electronics and equipment compartment allows for the possibility of foreign objects being left behind, which can compromise the integrity of critical aircraft systems.",
          "The in-flight break-up was very unlikely to have been caused by low main rotor RPM (revolutions per minute).",
          "The uncommanded turn to the left during take-off was caused by a faulty steering selector.",
          "The report of loose objects on one flight deck suggested pilots should take more care to secure items under their control.",
          "Despite the general acceptance of final inspections after all work has been completed and before the aeroplane is returned to service as best aeronautical engineering practice, incidents of rags being left in the aircraft occurred, indicating a need for more thorough inspections and adherence to procedures developed to prevent foreign objects from being left behind after maintenance.",
          "The imported second-hand engine and its accessories had not been subjected to the inspections and maintenance required for continued airworthiness before they were released to service.",
          "Aircraft design organisations did not have to consider whether proposed major modifications to an aircraft would significantly alter the use of the aircraft or adversely affect the service life of any component.",
          "The number 4 cylinder upper spark plug was manufactured incorrectly, not being swaged during the manufacturing process, which led to its failure after 121 hours in service.",
          "The lack of evidence of any corrective action by the pilot, suggesting it is about as likely as not that the pilot was incapacitated early in the take-off roll, prior to the point that a turn was required to maintain the optimum line on the airstrip.",
          "The failed spark plug allowed hot combustion gases to escape, which ignited the fibreglass baffling and subsequently the carbon fibre fuselage structure, leading to a fire in the engine compartment.",
          "Foreign objects left inside an aircraft and around safety-critical components such as flight control systems are a threat to the safe operation of the aircraft. Loose articles can move inside an aircraft and become trapped under moving components, such as control cables and levers, disrupting the normal operation of aircraft systems and damaging system components.",
          "The DENSO W24EMR-C spark plug, originally designed for use in motorcycles, was being used in aircraft engines without being officially approved for such use by DENSO, leading to potential safety risks.",
          "A mast-bump occurred, which led to rotor divergence and the in-flight break-up.",
          "An abrupt, inappropriate or inadvertent cyclic control input by the pilot could not be ruled out as having contributed to the in-flight break-up.",
          "There was a lack of clear communication and agreement between the spark plug manufacturer (DENSO) and the aviation industry (Guimbal and Light Speed Engineering) regarding the suitability and approval of the DENSO W24EMR-C spark plug for use in aircraft engines.",
          "The cleaning of critical-fit anodised alloy engine parts using a milling solution, which is an unapproved method, leading to the removal of the anodised coating and shrinking of the overall dimensions of the fuel-transfer tubes. This resulted in the o-rings not providing a snug fit, allowing them to move with changes in fuel pressure and eventually deteriorate, causing a fuel leak.",
          "The defective component within the steering selector could not be determined because of incomplete overhaul records.",
          null
         ],
         "marker": {
          "opacity": 0.5,
          "size": 5
         },
         "mode": "markers+text",
         "name": "3_Aircraft Maintenance and Safety Issues",
         "text": [
          "",
          "",
          "",
          "",
          "",
          "",
          "",
          "",
          "",
          "",
          "",
          "",
          "",
          "",
          "",
          "",
          "",
          "",
          "",
          "",
          "3_Aircraft Maintenance and Safety Issues"
         ],
         "textfont": {
          "size": 12
         },
         "type": "scattergl",
         "x": [
          -0.84186214,
          -0.7486846,
          -1.0554616,
          -0.042385194,
          -0.55235356,
          -0.5929612,
          0.0783035,
          -0.048704468,
          -0.67552614,
          -0.4869841,
          -1.0297003,
          -0.5163283,
          -1.0729994,
          0.009049327,
          -1.0566685,
          -0.57133126,
          -0.6150294,
          -1.064898,
          -0.9810021,
          -0.65778714,
          -0.62616575
         ],
         "y": [
          2.5856378,
          2.5500302,
          2.565613,
          1.9891968,
          3.6072698,
          2.798909,
          1.8857527,
          1.9525679,
          2.4986486,
          2.3562467,
          2.6177452,
          3.0299118,
          2.5969372,
          1.9135125,
          2.5769835,
          3.5782454,
          3.2938385,
          2.572124,
          2.568686,
          2.6130474,
          2.6075454
         ]
        },
        {
         "hoverinfo": "text",
         "hovertext": [
          "the wearing of restraints in parachute-drop aircraft.",
          "Airways did not conduct maintenance checks of essential equipment to ensure it was resilient to a power supply failure.",
          "Airways' digital data network did not have the resilience necessary to support an ATC service.",
          "The CAA did not have the appropriate capability to determine independently if the Airways ATN would perform as the rules required.",
          "The tendency to not wear helmets increased the risk of injury.",
          "The operator did not have a maintenance and inspection programme in place for its lifejackets to ensure they remained in a serviceable condition.",
          "the CAA's oversight of the parachuting industry",
          "The risk to people involved in helicopter operations over water will be reduced if quick-donning life jackets are worn at all times where there is the potential for the helicopter to ditch with short notice.",
          "For a life-raft to be an effective device for increasing the chance of survival in the event of a ditching, it must also be easily extracted from the aircraft so it may be deployed when needed in an emergency.",
          "the CAA's oversight of the conversion to parachuting",
          "The pilot operated over water without having a life jacket on board, contrary to Civil Aviation Rules. Not wearing a life jacket reduced his chances of survival.",
          "The CAA's oversight of private aircraft owners and pilots, particularly the allocation of fewer resources to the regulation of the non-commercial sector and reliance on participants being responsible for safety and compliance.",
          "The maintenance inspection programme for the locking springs would have been unlikely to detect the corrosion cracking in the locking springs prior to their failing, and that there was no required preventive maintenance on the locking springs to limit the extent of corrosion damage.",
          "The operator expected the tandem master to have the reserve parachute pack for flotation and therefore did not require them to also wear a lifejacket.",
          "problems with the process for converting the aircraft for parachuting",
          "Parachute drop pilots were not required to wear lifejackets or flotation devices if their flights were expected to remain within gliding distance of land. That scenario downplayed the possibility of a pilot having to ditch an aeroplane or having to use the emergency parachute when over or near water.",
          "The CAA dataset for parachuting occurrences did not include key fields, which likely reduced its effectiveness as a tool for safety management in the sector.",
          "The operator's planned water emergency response did not have due regard to the minimum survival time for people immersed in cold water.",
          null
         ],
         "marker": {
          "opacity": 0.5,
          "size": 5
         },
         "mode": "markers+text",
         "name": "4_Aviation Safety and Regulatory Oversight",
         "text": [
          "",
          "",
          "",
          "",
          "",
          "",
          "",
          "",
          "",
          "",
          "",
          "",
          "",
          "",
          "",
          "",
          "",
          "",
          "4_Aviation Safety and Regulatory Oversight"
         ],
         "textfont": {
          "size": 12
         },
         "type": "scattergl",
         "x": [
          1.6531144,
          2.020098,
          1.973872,
          1.7591902,
          1.3851641,
          1.3426375,
          1.568423,
          0.8152035,
          0.66080886,
          1.5827987,
          0.8438558,
          1.5584763,
          1.2759058,
          0.9114922,
          1.6056612,
          0.87138754,
          1.6228095,
          1.3389416,
          1.3772134
         ],
         "y": [
          4.3384275,
          4.2088895,
          4.1823406,
          4.1511717,
          6.8218656,
          6.4549365,
          4.216894,
          7.205152,
          7.5517087,
          4.2184978,
          7.1466203,
          4.153966,
          6.3809285,
          7.0376863,
          4.2627244,
          7.1198726,
          4.179353,
          6.614037,
          5.56917
         ]
        },
        {
         "hoverinfo": "text",
         "hovertext": [
          "Indications that the right-hand engine was not performing well were not detected by the Maintenance Operation Control due to programming logic errors in the automated engine condition report system. However, even if they had been it is unlikely that any subsequent action would have prevented the engine compressor stall event on landing at Auckland.",
          "Non-compliance, unless addressed as soon as practicable, can quickly become accepted and normalised, increasing the risk of an accident.",
          "The failure of the nose landing gear to extend fully was most likely caused by debris in the hydraulic fluid blocking orifices within the nose landing gear extend/retract hydraulic actuator. The debris probably came from damaged seals within the actuator.",
          "Proper follow-up of ARCs is important.",
          "There was no aural warning to alert the pilot to the potential fuel starvation of both engines, which could have prevented the loss of power.",
          "The similarity of text in adjacent steps of the QRH and the lack of numbered steps contributed to the first officer making minor errors in reading the landing gear non-normal procedures. However, these errors did not contribute to the accident.",
          "The design of the BK117 fuel system meant that both engines would lose power at nearly the same time if a pilot mismanaged the fuel system and did not see the low-fuel-level warnings.",
          "The captain's predetermination of what was going to be required to get the landing gear down and locked interfered with the proper following of the QRH checklist; nevertheless, all of the items were covered.",
          "The captain should have explained to the flight attendant the reason for the go-around, even though he believed that the situation had been resolved. The flight attendant would have been better prepared should the landing have been less favourable.",
          "Repairing and replacing defective components without identifying the reason for their failure in the first place is a serious safety issue that will likely result in repeat accidents and incidents for the same reasons.",
          "The false green light on the verification system misled the pilots of ZK-NEB into believing that the nose landing gear was fully down and locked.",
          "Improper repair and maintenance practices spanning several maintenance organisations and individual maintenance engineers over several years contributed to a series of defects and incidents involving the nose landing gear assembly on the aeroplane.",
          "The isolated nature of the component failure in this occurrence, and the actions the manufacturer had previously undertaken, meant that additional changes to the relevant maintenance procedures were not warranted.",
          "The Minimum Equipment List provision that had previously allowed a flight to commence without an operative nosewheel steering system appeared to be based on operational considerations only, and to have not considered the possibility of a related system failure.",
          "The non-transmission, non-receipt or mismanagement of engine condition reports, especially those containing significant deviations from normal, can deprive flight crew and maintenance personnel of the opportunity to identify a potential problem early.",
          "Although much aircraft maintenance is done under supervision, the requirement for a duplicate check after maintenance is limited to a few defined control systems. The landing gear is not one of those systems, but an undetected maintenance error in the landing gear system has the potential to cause a serious incident or accident.",
          "The long-term and recent ingestion of performance-impairing substances such as cannabis by crew of any transport vehicle is a serious safety issue that needs to be addressed as a matter of priority.",
          "Had the pilots known that the nose landing gear was not down and locked and then tried the alternate extension procedure, that action would have been unlikely to succeed because debris would probably still have been blocking the restrictor within the hydraulic actuator.",
          "The damage to the seals within the extend/retract hydraulic actuator could have initially been caused by a manufacturing defect in the seals or by an incorrect assembly technique. The damage may have been exacerbated by debris in the hydraulic fluid that originated from excessive wear in another actuator in the system, the one that opened and closed the forward nose landing gear doors.",
          "The pilots did not use all of the available resources to confirm the nose landing gear position. If they had asked the controller to confirm the status of the nose landing gear, it is likely that they would have taken further action in an attempt to get the nose landing gear locked down.",
          "With the nose landing gear stuck in a partially extended position, light from the taxi light was likely detected by the sensor for the down-lock verification system, causing it to give a false green light.",
          "The aural warnings that not all of the landing gear was locked down were genuine warnings. Pilots must respect warnings. In this case, the pilots should have responded by performing a go-around, which would have given them more time to consider the situation.",
          "Assuming that the reason for the nose landing gear not fully extending was debris in the hydraulic fluid, it is possible that cycling the landing gear up and down again would have succeeded in getting all of the landing gear down and locked. However, that action was not recommended by the aeroplane manufacturer at the time.",
          "The verification system for checking if the landing gear is down and locked on the Dash 8 series of aircraft is not reliable enough for pilots to place total trust in it when trying to establish the status of the landing gear.",
          null
         ],
         "marker": {
          "opacity": 0.5,
          "size": 5
         },
         "mode": "markers+text",
         "name": "5_Aircraft Landing Gear and Maintenance Issues",
         "text": [
          "",
          "",
          "",
          "",
          "",
          "",
          "",
          "",
          "",
          "",
          "",
          "",
          "",
          "",
          "",
          "",
          "",
          "",
          "",
          "",
          "",
          "",
          "",
          "",
          "5_Aircraft Landing Gear and Maintenance Issues"
         ],
         "textfont": {
          "size": 12
         },
         "type": "scattergl",
         "x": [
          -0.07070865,
          5.927212,
          -0.36919945,
          5.846083,
          -0.024936689,
          -0.28074944,
          -0.07269361,
          -0.23641701,
          -0.1294377,
          -0.42781365,
          -0.3937571,
          -0.34613672,
          -0.4231841,
          -0.26099852,
          0.31945726,
          -0.17831452,
          7.639315,
          -0.40891418,
          -0.39153993,
          -0.2807518,
          -0.39954978,
          -0.20431674,
          -0.36822242,
          -0.39269093,
          0.58632237
         ],
         "y": [
          2.5812488,
          5.846701,
          1.650575,
          5.889472,
          2.6601655,
          1.2258917,
          2.6979015,
          1.1898426,
          1.2174613,
          2.2623334,
          1.5150174,
          2.0837872,
          2.2788067,
          1.8859653,
          2.469543,
          1.8993922,
          7.282291,
          1.4794886,
          1.6166606,
          1.2819599,
          1.4827033,
          1.234966,
          1.4151617,
          1.5419475,
          2.3620536
         ]
        },
        {
         "hoverinfo": "text",
         "hovertext": [
          "There are no safety issues explicitly stated or inferred in the provided text.",
          "The lack of comprehensive CRM training qualifications for non-pilots acting as crew members, combined with a lack of guidelines on crew members assisting a pilot during NVIS operations, creates an ongoing risk that helicopter NVIS crews will not have effective CRM.",
          "The variability in the content, understanding, and delivery of Robinson safety awareness training among instructors in New Zealand, which may affect the effectiveness of training related to preventing mast bumping incidents.",
          "The rate of R22 in-flight break-up accidents in New Zealand has not been reduced by the New Zealand version of the FAA hazard mitigation measures intended to prevent such accidents.",
          "The regulatory oversight of commercial ballooning in New Zealand was not sufficient to ensure a safe and sustainable industry for the New Zealand public.",
          "The Taupo Gliding Club had limited systems in place to ensure instructors could positively verify that pilots had appropriate levels of competency to ridge soar on Mount Tauhara and safely conduct training flights on the ridge. This increased the risk of an accident occurring.",
          "Although there was no obvious defect that contributed to the accident, the issue of balloon maintenance standards and the regulatory oversight of those standards was a safety issue.",
          "It is a safety issue that a person without any prescribed training, knowledge or medical certificate can take non-paying passengers for a balloon flight.",
          "Some New Zealand helicopter pilots may have a culture of operating their aircraft beyond the manufacturers' published and placarded limits, with the possibility that such a culture has become normalised.",
          "There are no formal risk controls in New Zealand for helicopter NVIS or air ambulance operations unlike other jurisdictions that have set minimum standards in response to the high accident rate in this sector.",
          "The New Zealand regulatory system has not provided sufficient mandatory requirements and guidance for instructors, pilots and operators of the Robinson type R22 and R44 helicopters to minimise the known risk of exceeding the helicopters' capabilities.",
          "The Taupo Gliding Club did not ensure GNZ instructor training procedures were fully implemented and GNZ audits did not detect this discrepancy. This increased the risk that instructors were not fully competent in all required areas.",
          "The lack of requirement for flight data recorders in small and medium helicopters under current International Civil Aviation Organisation (ICAO) standards, which limits the availability of reliable data concerning specific accidents.",
          null
         ],
         "marker": {
          "opacity": 0.5,
          "size": 5
         },
         "mode": "markers+text",
         "name": "6_Safety and Regulatory Issues in New Zealand Aviation and Ballooning",
         "text": [
          "",
          "",
          "",
          "",
          "",
          "",
          "",
          "",
          "",
          "",
          "",
          "",
          "",
          "6_Safety and Regulatory Issues in New Zealand Aviation and Ballooning"
         ],
         "textfont": {
          "size": 12
         },
         "type": "scattergl",
         "x": [
          7.373462,
          0.023264077,
          -0.10100045,
          0.08890192,
          0.2882203,
          0.50310415,
          0.33636796,
          0.3349915,
          0.11415639,
          0.08772081,
          0.12537596,
          0.5999088,
          0.19447775,
          0.7668425
         ],
         "y": [
          6.8710117,
          4.007909,
          4.011655,
          3.8916154,
          3.8877354,
          3.8898594,
          3.8139806,
          3.9379141,
          3.8914757,
          3.916989,
          3.8875825,
          3.897365,
          3.797672,
          4.130982
         ]
        },
        {
         "hoverinfo": "text",
         "hovertext": [
          "KiwiRail did not have a mature fatigue risk management system to ensure that relevant personnel performed at adequate levels of alertness.",
          "The protection person was being used by KiwiRail to provide protection for individual worksites within longer work areas, but KiwiRail had not formally incorporated this work practice into its rules at the time of this occurrence. Consequently, the role and methods of operation were not clear.",
          "the operating procedures and training given to train crews to respond effectively in the event of a fire on a train were inconsistent across New Zealand's main rail operators.",
          "KiwiRail was unable to provide the Commission with the certificate of compliance for the fractured switch rail, indicating a potential gap in recordkeeping or quality assurance processes.",
          "The protection person did not follow the amended communication plan. He did not, as required, phone the track ganger to ensure that he and his colleague were off the tracks before allowing the train to proceed. His failure to do so was the final act that contributed to the incident.",
          "Numerous examples of non-compliance with KiwiRail operating standards were evident at the worksite, of which some were contributory to the accident.",
          "The errors in the work plan submitted; the omission of the required communication plan; the decision to rely on a protection person located where he could not see the worksite; and stabling hi-rail vehicles on a runaway road without authority, are collectively suggestive that the track ganger was not sufficiently trained and experienced to be in charge of the work group on the day.",
          "KiwiRail's Risk Management Policy for \"continuity of core services\" did not give proper consideration to the safety of passengers and crew when a core service such as train control failed, causing the widespread stoppage of an entire metropolitan passenger rail system.",
          "The system for recording and monitoring the effects of track repair and maintenance was not picking up that the repair and maintenance work was not remedying identified track defects.",
          "The track faults identified by the track evaluation car were not closed out in accordance with company standards.",
          "No-one involved with loading, shifting and securing the wagon body was sufficiently familiar with the KiwiRail Freight Handling Code to realise that the securing arrangement was not compliant with the Code.",
          "the New Zealand Rail Regulatory System has no minimum standards for fire detection or suppression systems on freight locomotives and passenger trains on the New Zealand rail network.",
          "The KiwiRail system for planning track maintenance did not promote the co-ordination of separate jobs to be done on the same section of track into one track occupation.",
          "The level of audit and compliance testing of the Invercargill Joint Operating Plan were not robust in detecting and addressing compliance issues in the Invercargill yard.",
          "KiwiRail's safety system could not ensure that infrastructure staff were competent to perform their roles, and could not ensure that the appropriate safety observations and revalidations of current staff competency had been undertaken.",
          "The MDD class special-movement wagon allocated to transport the load from Dunedin to Christchurch had not been furnished with the appropriate load-securing equipment.",
          "the KiwiRail system allowed the team leader, with all of the tasks and responsibilities associated with that role, to take on the safety-critical role of rail protection officer.",
          "Non-compliance with KiwiRail's procedures by the track maintenance work group and the network authority is a safety issue.",
          "The amended communication plan increased the risk to the maintenance operation because: the protection person with the radio was in an area less likely to have good radio reception; the protection person could not see the work gang; and it added an additional step using another means of communication. It is a safety issue that the amended communication plan still complied with KiwiRail procedures.",
          "The New Zealand Rail Operating Rules and Procedures did not provide guidance on how to manage work trains within a worksite and did not differentiate between a train moving to a point where work needs to take place and a train carrying out its designated work as a work train.",
          "the process for planning and approving the worksite allowed one person to carry out the rail protection duties over two separate worksites within a protected work area for a 52.5-hour track occupation period, with no relief",
          "KiwiRail's system for training and assessment did not ensure on this occasion that the track ganger and protection person were correctly certified to undertake the duties they were performing on that day.",
          "The timing of the maintenance work was planned around the availability of the person in charge rather than optimising efficiency with the least disruption to rail services.",
          "There was no procedure for identifying, evaluating and rectifying track twists of a repetitive cyclic nature.",
          "No systematic assessment had been undertaken to identify safety-critical systems and their components, and there were no mandatory checks by people independent of those doing the work that the work had been performed in accordance with the Code.",
          "KiwiRail's current policy and procedures regarding information that train controllers should give to train drivers about the routes set for their trains and other factors that are likely to affect the trains' progress are unclear and not consistent with protocols for good communication and crew resource management.",
          "KiwiRail had not communicated effectively to staff about the replacement of an old procedure for recovering stalled trains at Paerata with the existing Operating Rule 124 (d).",
          "Bulletins are sent out with important information that some recipients do not comprehend or disregard as being unimportant to them. The format of such an important document should be reviewed by KiwiRail in consultation with the target audience to ensure that it clearly conveys the appropriate information.",
          "the KiwiRail medical assessment process did not ensure that the employee being assessed completed the online medical questionnaire themselves. There is some evidence that the system could potentially allow managers or others to complete the questionnaire on employees' behalf.",
          "the process for planning and approving the worksite was not fully completed as required by KiwiRail processes",
          "The Application for Planned Work submitted by the track ganger was incomplete because it did not include a communication plan, and it contained erroneous information. The work plan therefore should not have been approved by the work planning group.",
          "none of the workers, including the production manager, had been trained in or had any knowledge of KiwiRail's non-technical skills practices. The application of these skills could have prevented this incident.",
          "The Wellington metro maintenance depot lacked documented task instructions for performing safety-critical tasks on the Ganz Mavag fleet, and there was no means of recording progress against the individual steps in the task.",
          "The special bulletin outlining the plan for the major infrastructure and maintenance work did not present information to maintenance and operational staff in a clear and logical format.",
          "There was little or no warning system built in to KiwiRail's procedures to mitigate the risk of the track warrant control system failing due to human error.",
          "Both the track ganger and the protection person had completed their Level C track protection theory training but it could not be determined from KiwiRail's training records whether they had been assessed for and demonstrated competency in their respective roles.",
          "The track ganger should have recognised that the amended communication plan had failed when 2 passenger trains had been allowed through the work area on the adjacent track without being contacted by the protection person.",
          "Transdev had no policies or procedures in place to guide its train crew in responding to unusual situations.",
          "A failure by KiwiRail to follow its operating rules and procedures at the planning stage of the work assignment resulted in the work group being under-resourced to manage the protection and safety of the track maintenance workers effectively.",
          "KiwiRail's general rule for track closure permits did not require a cross-check confirmation between a train controller and a person in charge of a work site that control blocking protection for the work area had been applied.",
          "KiwiRail did not have a procedure to cover the operation of the mobility hoist. It had had one in the past, but the instructions had been removed from the Rail Operating Code when the second issue of Section 1 (Passenger Rolling Stock Restrictions) came into effect.",
          "No procedures were in place to direct train crews and controllers in the action to be taken in the event of berthing on the West Main Line.",
          null
         ],
         "marker": {
          "opacity": 0.5,
          "size": 5
         },
         "mode": "markers+text",
         "name": "7_Issues in KiwiRail's Safety and Communication Procedures",
         "text": [
          "",
          "",
          "",
          "",
          "",
          "",
          "",
          "",
          "",
          "",
          "",
          "",
          "",
          "",
          "",
          "",
          "",
          "",
          "",
          "",
          "",
          "",
          "",
          "",
          "",
          "",
          "",
          "",
          "",
          "",
          "",
          "",
          "",
          "",
          "",
          "",
          "",
          "",
          "",
          "",
          "",
          "",
          "7_Issues in KiwiRail's Safety and Communication Procedures"
         ],
         "textfont": {
          "size": 12
         },
         "type": "scattergl",
         "x": [
          6.1163254,
          6.4424176,
          6.1233006,
          5.8787336,
          7.2027545,
          6.109198,
          7.10812,
          6.0319667,
          6.713166,
          6.6969824,
          6.222547,
          6.108928,
          6.4554634,
          5.379689,
          6.0877743,
          5.9793005,
          6.311799,
          6.1442456,
          7.120639,
          6.205792,
          6.5183945,
          6.2574415,
          6.5254955,
          6.679806,
          7.239411,
          6.1418853,
          6.243403,
          6.4147673,
          6.1043854,
          6.4264593,
          7.0194397,
          6.392409,
          6.4169827,
          6.469001,
          6.5969577,
          6.2876496,
          7.1257453,
          6.315717,
          6.450826,
          6.5299425,
          6.201749,
          6.43859,
          6.4103713
         ],
         "y": [
          5.4537582,
          5.4907594,
          4.9376707,
          5.567126,
          5.3541474,
          5.7605305,
          5.3856106,
          5.303903,
          4.7163095,
          4.7502394,
          5.4831176,
          4.923233,
          5.3658853,
          5.5781565,
          5.475583,
          5.2012,
          5.5706096,
          5.702967,
          5.353319,
          5.1082807,
          5.4539514,
          5.567988,
          5.436072,
          4.7043414,
          6.7802963,
          5.0953994,
          5.1488385,
          5.1791124,
          5.4854817,
          5.4818845,
          5.4071417,
          5.698522,
          5.324527,
          5.1848974,
          5.505487,
          5.5809817,
          5.397599,
          4.879288,
          5.424916,
          5.4243712,
          5.13559,
          4.8227863,
          5.347664
         ]
        },
        {
         "hoverinfo": "text",
         "hovertext": [
          "There was no evidence that the rail industry had been consulted on legislative changes affecting the safety of the rail corridor.",
          "Poor planning and co-ordination of track infrastructure activities unnecessarily exacerbated the complexity of the train controller's work on the day of the incident. Train controllers are responsible for co-ordinating and managing high volumes of routine and unplanned track infrastructure activities. This increases the complexity of their role. In these situations, mistakes can occur.",
          "The use of performance-impairing substances by train drivers is a significant safety issue.",
          "Train control protocols required train controllers to work their shifts without any certainty of reasonable breaks.",
          "the rail protection officer tested positive for methamphetamine during a post-incident drug and alcohol test. Under KiwiRail's random testing policy, only 10% of workers were tested each year. The rail protection officer had not been tested for 10 years.",
          "The train controller had not consumed any food for about 15 hours before the incident. Train controllers who do not eat properly and regularly during their shifts and/or who do not take rest breaks during their shifts may become mentally fatigued. In these circumstances, train controllers are more likely to make mistakes.",
          "The train controller made an assumption about the location of the passenger train and did not confirm this location before authorising the person-in-charge's track occupation. Assumptions made by train controllers about the locations of trains and other rail vehicles are a real and constant risk that must be continually and properly managed.",
          "A planned change to the train controller's workload was not assessed and managed in a way that recognised its higher-than-usual level of risk.",
          "The standard roster that the train controller was working in the weeks leading up to the incident did not offer the train controller sufficient opportunity to recover from any sleep debt incurred after a shift cycle.",
          "the train controller was performing a safety-critical role and was directly involved in the incident, yet he was not asked to undergo a post-incident drug and alcohol test.",
          "The train controller had been involved in three operating irregularities during the previous 16 months and KiwiRail had identified his having concentration and focus issues. Despite this KiwiRail had allowed him to continue in the train controller role.",
          "Minimal training and education about detecting and managing stress and fatigue was provided to the train controller (and other train controllers) before the incident, even though she was performing a safety-critical function.",
          "Safety-critical rail workers are not required to declare prescribed medications they are taking when presenting for triggered health assessments.",
          "The fact that the driver of the Melling 2 train had cannabis in his system is a serious safety issue.",
          "Human memory can be influenced by a number of factors, including high workload, late running, distraction, and environmental conditions. Therefore, it becomes important that controls are put in place to reduce the risk of human error.",
          "The train controller received insufficient support and supervision during her shift even though she was performing a safety-critical function with a higher-than-usual level of risk.",
          "The driver of the southbound train had been prescribed a collection of medications that either singularly or collectively had the potential to adversely affect his performance, and this had gone undetected or unresolved by KiwiRail's health professionals.",
          "The use of cannabis by staff performing safety-critical tasks is of concern, and was contrary to KiwiRail's drug and alcohol policy at the time of the incident.",
          "The use of performance-impairing substances by train drivers is a significant safety issue.",
          "The passenger train was not electronically visible to the train controller when he authorised the person-in-charge's track occupation. A significant portion of the controlled rail network, and therefore a large number of rail movements and track activities, is not electronically visible to train control at any given time.",
          "There was no requirement for general medical practitioners to inform appropriate authorities when medical issues were diagnosed that could affect the performance of people working in safety-critical roles in the rail industry.",
          "Issuing track warrants to infrastructure staff, hi-rail vehicles and trolley users that are conditional on the departure of trains from an \"at location\" presents a risk to these groups if they do not adhere to a warrant's conditions.",
          "The track warrant control method of protection was reliant on the addressee (the holder of the track warrant) complying with all instructions.",
          "Train control's workplace culture at the time of the incident did not encourage train controllers to ask for help.",
          "The train controller, who was performing a safety-critical function with a higher-than-usual level of risk, was able to become highly stressed and mentally fatigued during her shift without anyone being aware of, or anticipating, this.",
          "A large number of rail movements and track activities are not electronically visible to train control at any given time.",
          null
         ],
         "marker": {
          "opacity": 0.5,
          "size": 5
         },
         "mode": "markers+text",
         "name": "8_Train Controller Performance and Safety Issues",
         "text": [
          "",
          "",
          "",
          "",
          "",
          "",
          "",
          "",
          "",
          "",
          "",
          "",
          "",
          "",
          "",
          "",
          "",
          "",
          "",
          "",
          "",
          "",
          "",
          "",
          "",
          "",
          "8_Train Controller Performance and Safety Issues"
         ],
         "textfont": {
          "size": 12
         },
         "type": "scattergl",
         "x": [
          9.578976,
          8.094808,
          7.6409307,
          7.979013,
          7.707973,
          8.056153,
          8.091516,
          7.8694305,
          8.057377,
          7.7812963,
          7.856405,
          7.9668174,
          7.5901237,
          7.6509204,
          8.058151,
          7.8946104,
          7.7325516,
          7.6561103,
          7.645866,
          8.129288,
          7.6321645,
          6.9590254,
          6.917461,
          7.9635854,
          7.8985133,
          8.144979,
          7.867463
         ],
         "y": [
          5.9644504,
          6.4784293,
          7.300985,
          6.589999,
          6.902934,
          6.5572715,
          6.4188623,
          6.47231,
          6.664688,
          6.8290024,
          6.4983997,
          6.6080966,
          6.9707875,
          7.3140974,
          6.6292853,
          6.505764,
          6.853326,
          7.1508813,
          7.289895,
          6.39138,
          6.9277325,
          5.6311107,
          5.6442246,
          6.5847855,
          6.667831,
          6.3493304,
          6.6229177
         ]
        },
        {
         "hoverinfo": "text",
         "hovertext": [
          "The crossing loops' semi-automatic system lacks visibility for train control regarding how the points are set or what the signals are displaying, requiring manual input from train drivers to activate the points to enter a crossing loop.",
          "SFAIRP assessments were not being routinely carried out for risk treatments recommended in LCSIA reports. No process, and minimal guidance, on SFAIRP assessment for level crossing risk treatments was available in industry documents.",
          "there was insufficient management of the rail protection officer's day-to-day workload, which likely contributed to his being fatigued at the time he reported the track as clear, when it was not.",
          "The existing system allowed for heavy trains to use the crossing loop, which had previously been identified as a risk following a similar derailment in 2016, but no preventive measures were implemented until after this incident.",
          "Miscommunication between the workgroup team leader and train control regarding the status of points, and the failure to confirm and correctly document the points' status, contributed to the incident.",
          "The signaller was certified and therefore qualified to operate the Papakura signal box, but she had had only 8 months' total experience as a signal box controller and had not worked there in the previous 6 months, which may not have been enough total and recent experience to deal with the complexity of operations at the time of the incident.",
          "There were several procedural lapses by three experienced rail staff members between the coupling of the two locomotives at Auckland and the train examiner's dismounting from the train 12 hours later.",
          "The absence of trackside distance markers to support the stabilised approach braking technique potentially compromises the ability of train drivers to control train speed and stop before signals at crossing loops.",
          "The RPO allowed a signals technician to enter the PWA without following the procedure prescribed in rule 902, resulting in a significant safety barrier being breached.",
          "The incomplete electrical plug connection went undetected by several rail staff.",
          "Work within the rail corridor was undertaken without a permit to do so being obtained. As a result, potential risk-mitigation actions that were required prior to the issue of the permit were not completed. Not obtaining a permit increased the risk to road and rail users approaching the crossing.",
          "Veolia had updated its safety case to reflect the 2006 contract variation that saw it take responsibility for 3 signal boxes, but it had not developed a plan within its safety system to show how it intended to manage the operation. Rather it relied on the train control/signaller experience within its management team to provide oversight of the function.",
          "The train driver did not challenge the train controller when told by him that his train was routed to cross over onto what he had known was a section of track closed for maintenance work.",
          "The procedure for manually setting and isolating points at crossing loops to prevent automatic resetting and ensure trains pass straight on the main line was not correctly followed, leading to the freight train being wrongly routed into the loop.",
          "The train driver's reliance on incorrect information received from train control and the workgroup team leader, without verifying the points' setting at the crossing loop, led to a signal passed at danger (SPAD) incident.",
          "The signallers lacked some familiarity with the physical layout and equipment capabilities in the Wellington yard that they were controlling.",
          "The lever in the signal box that was used to change the aspect of Signal 3A at Papakura should have had a double \"blocking\" ability to remind the signaler that 2 authorisations from 2 different people were required before she should change the signal aspect, but the system had not been designed to enable that.",
          "Misunderstandings and procedural lapses allowed the signals technician to commence work in the rail corridor with a false sense of security, potentially putting them at risk from rail traffic.",
          "The signaller had not undergone the required formal level A safety observations after gaining certifications at both the Papakura and Pukekohe signal boxes.",
          "The signalling system provided a proceed signal into the damaged section because the electrical circuit was completed despite the switch rail being fractured, which did not prevent the train from entering the faulty track section.",
          "The TMP did not fully identify the risks to road and rail vehicles approaching the crossing.",
          "The process for upgrading the signal box display had not ensured that the mimic screen matched the physical track layout, and had not detected the absence of an interlock to prevent the signallers setting the points to a configuration over which it was not possible for rail traffic to travel.",
          "The lack of a requirement for a second person to verify the correct setting and isolation of points at crossing loops introduces a risk of single-person errors leading to incidents.",
          "The amendments to the Rule did not consider the risks to road and rail users at level crossings in close proximity to road intersections.",
          "Selection of level crossings for regular risk review LCSIAs, and often upgrade, is not being effectively prioritised towards those with greatest estimated risk.",
          "Level crossing safety scores (LCSS) have little influence on the prioritisation of level crossing upgrades.",
          "Records show that the signaller had successfully passed her theory training for signalling operations, but gaps were noted relating to her practical training using the Mis.60 procedure. This gap in her training had never been resolved.",
          null
         ],
         "marker": {
          "opacity": 0.5,
          "size": 5
         },
         "mode": "markers+text",
         "name": "9_Rail Safety and Signal Management Issues",
         "text": [
          "",
          "",
          "",
          "",
          "",
          "",
          "",
          "",
          "",
          "",
          "",
          "",
          "",
          "",
          "",
          "",
          "",
          "",
          "",
          "",
          "",
          "",
          "",
          "",
          "",
          "",
          "",
          "9_Rail Safety and Signal Management Issues"
         ],
         "textfont": {
          "size": 12
         },
         "type": "scattergl",
         "x": [
          8.079622,
          9.845101,
          7.166775,
          8.201174,
          7.7499533,
          8.238576,
          7.6119103,
          8.100793,
          7.5302243,
          7.6872573,
          9.547335,
          8.1512575,
          7.7983584,
          8.064306,
          7.8653307,
          8.087978,
          8.251237,
          7.5423317,
          8.208942,
          8.026552,
          9.684461,
          8.12807,
          8.057411,
          9.794375,
          9.848175,
          9.891566,
          8.258483,
          8.348799
         ],
         "y": [
          5.03144,
          5.921818,
          5.5179,
          4.9945374,
          4.786701,
          5.644402,
          5.2460127,
          4.980665,
          5.3098345,
          5.2722354,
          5.752119,
          5.7111983,
          4.8652916,
          5.0187454,
          4.927708,
          5.516133,
          5.63683,
          5.260004,
          5.641036,
          5.0530434,
          5.798804,
          5.5251236,
          4.9919534,
          5.8839145,
          5.921012,
          5.9416366,
          5.631249,
          5.399309
         ]
        },
        {
         "hoverinfo": "text",
         "hovertext": [
          "A train travelling between stations with the passenger doors open and no passenger crew on board can be a serious safety issue.",
          "Once the train manager and assistant train manager were left on the platform, they had no radio by which they could make immediate contact with the trainee to stop the train.",
          "Relying on mobile telephones for critical communications had its limitations, such as reception not being guaranteed in tunnels, and train drivers not being issued with company mobile phones, limiting a train crew's ability to manage effectively an emergency on board their own train.",
          "There was a potential for drivers of metro passenger trains to be distracted by non-operational interactions with other train staff.",
          "the setback movement was not planned and carried out in accordance with the operating rules and procedures.",
          "Miscommunication between the train driver and the train controller resulted in each having a different understanding of how the train would be recovered to its correct route.",
          "The examples given in this report that show the results of using colloquial language, non-standard phraseology and inadequate crew resource management lend weight to the Commission's previous recommendation that the rail industry adopt a national communication standard with which all rail participants must comply.",
          "There will be a residual risk that in the event of some emergency situations, train managers might not be able to access the fixed portable radios.",
          "Nor could the system rely on visually sighting whether the mobility hoist was in use, as this case demonstrated - it had only just been deployed when the train departed 71 seconds after having stopped at the station platform. Under similar conditions, it would have been difficult for the train manager to see the mobility hoist even if it had been deployed onto the platform.",
          "The KiwiRail train controller's plan to cross Trains 210 and 201 at Papakura was not disseminated to all the parties who needed to know. Consequently at least 2 early opportunities to avert the potential head-on collision were missed.",
          "Lack of a suitable communication system between the train driver and train manager is a serious safety issue raised previously in a Commission report on an incident that occurred in 2006 and the subject of an existing open safety recommendation.",
          "The signaller was likely to have been distracted by other tasks that had been assigned to her, which is likely to have contributed to her momentarily losing sight of the train controller's plan to cross trains at Papakura.",
          "The miscommunication between the driver and the train controller arose from a casual and ambiguous conversation at a time when a set of clear and precise instructions should have been issued.",
          "There was no defence in the system to prevent an accident if a train driver did not react correctly to signals and route indicators.",
          "the train controller, the train driver and the pilot did not have a shared understanding of the limit for the setback authority, or of the method for protecting the movement.",
          "The safety issue arising from this incident was the misunderstanding between the train controller and the driver during the recovery sequence, which resulted in a potential head-on collision with another train.",
          "The operation of the mobility hoist relied on the train manager knowing and/or remembering the stations at which any passengers in wheelchairs were to alight, then having good communication with the train attendant to ensure that the operation was complete and the train secure before giving \"right away\" clearance to the driver.",
          "The driver's distraction by checking the route paperwork during a critical time of controlling train speed on a downhill gradient contributed to the inability to manage train speed effectively.",
          "The reliance on train drivers to observe and respond to signals as the primary control to prevent collisions, given known and foreseeable risks such as distraction and incapacitation, has the potential to be ineffective.",
          "The main safety issue arising from this incident was that procedurally there was a disconnect between the operation of the mobility hoist from the luggage van at the rear of the train and the train manager's pre-departure checks near the front of the train: the stowing of the mobility hoist and securing of the luggage van doors did not feature in the train manager's pre-departure checks; there was no means provided for the train attendant in the luggage van to communicate with the train manager near the front of the train; the luggage van doors were not electronically connected to the train door status and control system.",
          "The radio communication between the train controller and the train driver was open loop, and after it had ended neither party really understood the other's intentions.",
          "The collision could have been prevented if the bus driver had known how to contact train control, and had immediately done so.",
          "Mobile phone use has proven to be a major distractor in other rail, air and marine accidents that the Commission has investigated. The danger has also been recognised and dealt with by recent changes in road legislation preventing the use of mobile phones while driving road vehicles.",
          null
         ],
         "marker": {
          "opacity": 0.5,
          "size": 5
         },
         "mode": "markers+text",
         "name": "10_Rail Safety and Communication Issues",
         "text": [
          "",
          "",
          "",
          "",
          "",
          "",
          "",
          "",
          "",
          "",
          "",
          "",
          "",
          "",
          "",
          "",
          "",
          "",
          "",
          "",
          "",
          "",
          "",
          "10_Rail Safety and Communication Issues"
         ],
         "textfont": {
          "size": 12
         },
         "type": "scattergl",
         "x": [
          8.302472,
          8.233297,
          8.494359,
          8.478228,
          6.9329586,
          7.865222,
          6.96218,
          8.412887,
          8.258592,
          8.131744,
          8.349229,
          8.2471695,
          7.835318,
          8.520342,
          7.805882,
          8.077647,
          8.241189,
          8.361994,
          8.528244,
          8.288941,
          7.875942,
          8.467399,
          8.486633,
          8.1373
         ],
         "y": [
          4.294872,
          4.483523,
          4.4736295,
          4.752392,
          5.1379137,
          4.6803164,
          5.5326414,
          4.5170774,
          4.241947,
          5.5011415,
          4.437558,
          5.628811,
          4.707091,
          4.8310184,
          4.6376615,
          4.546271,
          4.2445436,
          5.1391525,
          4.8451495,
          4.2809114,
          4.6584067,
          5.0312295,
          4.5741363,
          4.7468433
         ]
        },
        {
         "hoverinfo": "text",
         "hovertext": [
          "There are a number of reasonable measures that had not been taken to further reduce the risk of trains colliding on the approaches to Wellington Station, such as: providing better recognition of signals; standard procedures for signalling trains through the area; and better communication between train drivers and persons controlling the trains.",
          "The standard of non-technical skills (NTS), formerly known as Crew Resource Management, between the driver, the TXO and the signaller were ineffective.",
          "Poor communication and specifically a lack of adequate crew resource management contributed to all 4 of these incidents.",
          "Implementation of an administrative control measure designed to provide protection for a track worker was unsuccessful due to the poor use of non-technical skills.",
          "A number of reasonable measures had not been taken to further reduce the risk of trains colliding in the approaches to Wellington Station.",
          "Most of the passenger trains in the Wellington commuter fleet are not equipped with selcall-capable radio equipment, which means that in the event of an emergency brake application or other event that causes a rapid reduction in air brake pipe pressure, there could be a critical delay in train control being alerted in time to prevent the event escalating.",
          "The overhead traction power system had issues that could increase the risk in the event of a collision, such as the terminal pole being directly in the path of an overrun train and the risk of promptly resetting the overhead power without first establishing the reason for the system tripping.",
          "The near collision occurred at the convergence of several busy metro passenger lines and there was no automatic protection applied to preventing such a collision in the event of a driver failing to stop at Signal 38.",
          "Opportunities for improving situational awareness and understanding through better use of non-technical skills were missed, increasing the likelihood of the incident.",
          "There is a heightened risk of trains colliding within the approaches to Wellington Station because limited space makes the track layout congested. When the line was upgraded to bidirectional, the eight-metre separation between the insulated joint and the signal was not identified as a potential issue.",
          "There were no active visual alarms or physical barriers to prevent pedestrians exiting the Morningside Station platform and inadvertently entering the Morningside Drive pedestrian level crossing when trains approached.",
          "The lack of fail-safe backup systems, such as automatic train brakes activation in case of SPADs (signals passed at danger), for all signals in the Wellington Station approaches, particularly signal 100 which was overrun by the Melling service, increases the risk of collisions.",
          "The use of an administrative control measure was not effective on its own, and the adoption of engineering control measures when establishing PWAs would provide an enhanced level of protection for track workers.",
          "Despite previous recommendations and some improvements, more needs to be done in the short term to ensure that key signals within the section of track approaching Wellington Station have appropriate engineering solutions to mitigate the risk of collisions.",
          "Non-technical skills, particularly in communication, possessing a common mental model, challenge and response, and situational awareness, were not effectively employed, contributing to the incident.",
          "The newly certified Melling train driver's relative inexperience and the potential for distraction at critical times, such as approaching signals in the congested Wellington Station area, increases the risk of incidents.",
          "The absence of selcall capability on the Wellington passenger fleet meant there was a delay in train control being made aware of the collision and in turn calling the emergency services. In this case the next train coming from the opposite direction arrived at about the same time that the derailment occurred. In other circumstances a delay in train control becoming aware of such an event in double-track territory is a lost opportunity to warn other trains in the vicinity. The delay can be overcome by fitting an improved radio system with selcall capability to the Wellington commuter rail fleet.",
          "The complex and congested nature of the Wellington Station track layout, combined with the geographical constraints that limit the space available to facilitate required safety overlaps for effective fail-safe systems, increases the risk of train collisions.",
          "There is a heightened risk of trains colliding within the approaches to Wellington Station because limited space makes the track layout congested.",
          "The concrete stop block installed in 1954 lacked the impact-absorbing qualities of more modern stop blocks, increasing the damage to the train and its occupants in the event of a collision.",
          "The operating risk and potential consequences of a train overrunning the platform at Melling Station and colliding with the stop block had not been adequately considered. No special speed restriction for the approach had been set; the stop block was an older and less effective design than its modern equivalent; and the pole carrying the overhead traction power line was placed directly behind the stop block where it was prone to damage.",
          null
         ],
         "marker": {
          "opacity": 0.5,
          "size": 5
         },
         "mode": "markers+text",
         "name": "11_Train Collision Risks at Wellington Station",
         "text": [
          "",
          "",
          "",
          "",
          "",
          "",
          "",
          "",
          "",
          "",
          "",
          "",
          "",
          "",
          "",
          "",
          "",
          "",
          "",
          "",
          "",
          "11_Train Collision Risks at Wellington Station"
         ],
         "textfont": {
          "size": 12
         },
         "type": "scattergl",
         "x": [
          9.137569,
          6.8301973,
          6.65492,
          6.916873,
          9.229854,
          9.128466,
          9.082298,
          8.833179,
          6.673313,
          9.221964,
          9.349784,
          9.09196,
          6.9324164,
          9.202863,
          6.6778054,
          9.137724,
          9.126436,
          9.204755,
          9.260687,
          9.03387,
          9.139067,
          8.4698105
         ],
         "y": [
          4.9074254,
          5.8688917,
          6.0882697,
          5.7449064,
          4.949853,
          4.808387,
          4.972174,
          4.872344,
          6.0620666,
          4.850643,
          5.21006,
          4.878152,
          5.6961207,
          4.870142,
          6.0579977,
          4.8375564,
          4.838496,
          4.835125,
          4.8125567,
          4.849643,
          4.983898,
          5.190223
         ]
        },
        {
         "hoverinfo": "text",
         "hovertext": [
          "The National Rail System Standards do not adequately address the braking performance in low-adhesion conditions of modern metropolitan passenger trains that are fitted with computer-controlled brake and wheel-slide protection systems.",
          "The training that drivers received for transitioning from the Ganz Mavag to the Matangi train type did not provide them with sufficient information in respect of the design and correct operation of the train brake and wheel-slide protection systems.",
          "The Matangi braking and wheel-slide protection systems were not performing as well as they could have because they had not been tested against an appropriate standard and tuned for optimum braking in low-adhesion conditions before the trains were commissioned to service.",
          "The absence of the interlock on the Ganz Mavag sets placed a greater reliance on driver performance and the design of the door-alert system to prevent a premature train departure.",
          "A key safety issue was that the National Rail System Standards (NRSS) did not require the Matangi braking system to be tested under slippery track conditions against an appropriate standard. Consequently, the train brake system had not been optimised for low-adhesion conditions.",
          "The National Rail System Standards (NRSS) did not require the Matangi braking system to be tested under slippery track conditions against an appropriate standard, resulting in the train brake system not being optimised for low-adhesion conditions.",
          "Driver B was able to set the brake handles incorrectly because there was no interlock capability between the two driving cabs of the DL-class locomotives. The incorrect brake set-up resulted in driver B not having brake control over the coupled wagons.",
          "The standard of maintenance for a safety-critical braking system, particularly the procedures for ensuring that maintenance was conducted in accordance with best engineering practice and that there were independent final checks of critical systems before electric multiple units were released back into service.",
          "The National Rail System Standards do not adequately address the braking performance in low-adhesion conditions of modern metropolitan passenger trains that are fitted with computer-controlled brake and wheel-slide protection systems.",
          "Excessive speed, combined with a track twist within code and the high centre of gravity of the load on the derailed wagons, led to the derailment due to dynamic interaction.",
          "The relatively high centre of gravity of the loaded coal wagons, while within permissible limits, contributed to the overall effect of dynamic interaction, reducing the stability of the wagons.",
          "The Ganz trains were generally strong and well-built and had met the crashworthiness standards at the time of build some 30 years earlier, but they did not perform as well as a modern train during a similar front-end collision, thereby increasing the risk of injury to the drivers and possibly passengers seated near the ends of the trains.",
          "The driving compartments on Trains 6250 and 6247 were damaged during the collision sequence to such an extent that had the drivers not vacated their driving positions before impact they would likely have been fatally injured.",
          "The Matangi braking and wheel-slide protection systems were not performing as well as they could have because they had not been tested against an appropriate standard and tuned for optimum braking in low-adhesion conditions before the trains were commissioned to service.",
          "When the three staff members came together to couple the third locomotive to the disabled train at Glenbrook, no challenge and confirm actions were taken to complete a fundamental brake test procedure, which was designed to ensure that the trains' air brakes were functioning correctly.",
          "The design of the passenger door-alert system did not follow the convention where the colour red means \"danger\" or \"stop\" and green means \"go\" or \"safe\", which could lead to confusion and unsafe conditions.",
          "There is a potential safety issue with the ergonomics of the driver door-alert system on the Ganz Mavag sets.",
          "The training that drivers received for transitioning from the Ganz Mavag to the Matangi train type did not provide them with sufficient information in respect of the design and correct operation of the train brake and wheel-slide protection systems.",
          null
         ],
         "marker": {
          "opacity": 0.5,
          "size": 5
         },
         "mode": "markers+text",
         "name": "12_Train Braking and Safety Standards Compliance",
         "text": [
          "",
          "",
          "",
          "",
          "",
          "",
          "",
          "",
          "",
          "",
          "",
          "",
          "",
          "",
          "",
          "",
          "",
          "",
          "12_Train Braking and Safety Standards Compliance"
         ],
         "textfont": {
          "size": 12
         },
         "type": "scattergl",
         "x": [
          7.507556,
          7.648019,
          7.5689793,
          8.015939,
          7.561823,
          7.539642,
          7.7128215,
          7.494781,
          7.516632,
          7.495198,
          7.4980283,
          7.9449396,
          7.8358293,
          7.5624657,
          7.6045246,
          8.038611,
          8.009948,
          7.6382484,
          7.6774435
         ],
         "y": [
          3.4574263,
          3.6299913,
          3.528278,
          3.7317004,
          3.546311,
          3.502354,
          3.7925646,
          3.4338791,
          3.4756458,
          3.9768891,
          3.8244746,
          3.6868627,
          3.7472315,
          3.5373166,
          3.6460323,
          3.7641225,
          3.7365296,
          3.6152592,
          3.6462703
         ]
        },
        {
         "hoverinfo": "text",
         "hovertext": [
          "The lack of a dedicated RailBAM analyst position and an agreed process for monitoring, reviewing, and acting on RailBAM data contributed to the failure to adequately address detected bearing faults before the derailment occurred.",
          "The visual inspection regime for wheel-bearings is not an effective means of managing and preventing total wheel-bearing failure, as it failed to detect the impending failure in this case.",
          "The high incidence of brake block replacement, which can contribute to premature bearing failure, was not addressed by putting the wagon under an enhanced monitoring and inspection schedule.",
          "Ultrasonic testing, designed to detect cracks in the head and web of the rail, is unable to detect defects originating from the foot of the rail unless such defects propagate into the web, indicating a limitation in the technology's ability to detect certain types of rail defects.",
          "The rail fracture examination revealed that the fracture was consistent with a fatigue crack, and the rail as manufactured met all standards and specifications required, yet it failed in service, indicating potential inadequacies in the rail manufacturing or inspection processes.",
          "Current inspection procedures were unable to detect the chatter marks on the outer foot of the installed switch rail, indicating a limitation in the effectiveness of track inspection methods to identify potential rail defects.",
          "The project team responsible for the Auckland train control centralisation project lacked the appropriate expertise for designing and installing the emergency power supply system.",
          "The axle-counter system used for signalling does not detect broken rails as effectively as traditional track-circuited systems might, potentially increasing the risk of incidents related to rail fractures not being detected.",
          "The wagon was authorised to return to service following a routine maintenance inspection with wheel flange surface roughness outside specified limits.",
          "The RailBAM system, while operational, did not effectively prevent the derailment due to the procedures in place at the time, which did not prioritize the investigation and remediation of detected faults unless they reached a severity level that was considered critical.",
          "The left-hand switch rail fractured and misaligned due to a fatigue crack initiated from a chatter mark introduced during the machining process, leading to the derailment.",
          "the high-voltage cable assembly had been in service for less than 12 months, but the records available did not show if it was new or repurposed, or detail the results of any test(s) performed on the cable assembly to ensure that it was in serviceable condition.",
          "The management and maintenance of the emergency power supply system for train control were not sufficient to ensure the integrity of what had been designated an \"essential service\".",
          "The supply agreement did not specify a surface roughness standard for machined components, allowing for the presence of chatter marks that reduced the fatigue and fracture resistance of the rail.",
          "The eProtect KMC module on board the locomotive had been transmitting error messages for three weeks before the incident, but the activity database was not being monitored for this type of error.",
          null
         ],
         "marker": {
          "opacity": 0.5,
          "size": 5
         },
         "mode": "markers+text",
         "name": "13_Rail System Failures and Inspection Limitations",
         "text": [
          "",
          "",
          "",
          "",
          "",
          "",
          "",
          "",
          "",
          "",
          "",
          "",
          "",
          "",
          "",
          "13_Rail System Failures and Inspection Limitations"
         ],
         "textfont": {
          "size": 12
         },
         "type": "scattergl",
         "x": [
          6.981966,
          7.0096874,
          7.1485524,
          6.906526,
          6.901865,
          6.8880916,
          7.1707716,
          7.15254,
          7.470489,
          7.0368958,
          6.9040284,
          -0.6304794,
          7.25482,
          6.882445,
          7.370613,
          6.563255
         ],
         "y": [
          4.3413134,
          4.001452,
          3.8665624,
          4.3423433,
          4.327337,
          4.3496203,
          6.077973,
          4.460796,
          3.561445,
          4.4240613,
          4.320771,
          2.6393692,
          6.102358,
          4.315354,
          5.060358,
          4.4127407
         ]
        },
        {
         "hoverinfo": "text",
         "hovertext": [
          "A large percentage of pedestrian level crossings located in provincial areas do not fully conform with guidelines within the NZ Transport Agency's Traffic Control Devices Manual - Part 9 - Level Crossings.",
          "Level crossing assessments do not require the road profile and the alignment of roads on the approach to and passing over level crossings to be routinely measured. Therefore, there are no checks made to ensure that all road-legal vehicles can pass over level crossings without becoming stuck.",
          "Sighting distances for road users at level crossings are one of the factors used to determine the appropriate level of protection required, yet the growth in vegetation around railway level crossings can change sighting distances in a relatively short time and render the level crossings unsafe.",
          "The regulatory and operational accountabilities of the Auckland metro system do not expressly deal with responsibility for safety and control at the boundaries between station platforms and the rail corridor.",
          "Level crossings warrant special consideration when setting road vehicle standards, because trains have the right of way along the rail corridor and cannot stop for road vehicles in their path.",
          "Changes in the Land Transport Rule: Vehicle Dimensions and Mass have been made with little formal consideration for the compatibility of long and low road vehicles with existing rail level crossings throughout New Zealand.",
          "Any road vehicle over about 10 m in length could not safely use the Beach Road/ State Highway 1 intersection when turning right to State Highway 1 from Beach Road.",
          "The sighting distance available to drivers of long vehicles to cross the Te Onetea Road level crossing safely did not comply with the NZ Transport Agency's Traffic Control Devices Manual.",
          "The Beach Road/ State Highway 1 intersection did not have a sufficient stacking distance to accommodate this bus, and any other road vehicle over about 10 m in length, without those vehicles encroaching on the rail corridor at the Beach Road level crossing.",
          "The legislation is not clear on the allocation of responsibility between licensed rail access providers and road controlling authorities for ensuring the safety of road and rail users at public road level crossings.",
          "The level of protection for people using pedestrian level crossings in the Auckland metro network is currently inadequate because the risk assessment process for pedestrian level crossings is not keeping pace with the infrastructure changes and increasing patronage.",
          "About 19% of all rail level crossings have insufficient available stacking distances available for long road vehicles using adjacent road intersections.",
          "The profile of the Beach Road level crossing and the adjacent section of road leading up to the intersection with State Highway 1 were not well suited for long and low road vehicles.",
          null
         ],
         "marker": {
          "opacity": 0.5,
          "size": 5
         },
         "mode": "markers+text",
         "name": "14_Safety and Compatibility at Road and Rail Level Crossings",
         "text": [
          "",
          "",
          "",
          "",
          "",
          "",
          "",
          "",
          "",
          "",
          "",
          "",
          "",
          "14_Safety and Compatibility at Road and Rail Level Crossings"
         ],
         "textfont": {
          "size": 12
         },
         "type": "scattergl",
         "x": [
          10.166102,
          10.303771,
          10.236542,
          9.866949,
          10.273852,
          10.275734,
          10.354187,
          10.260608,
          10.370225,
          9.833019,
          9.911585,
          10.310828,
          10.34158,
          10.192692
         ],
         "y": [
          6.01645,
          6.1267543,
          6.068118,
          5.7935753,
          6.0936394,
          6.095453,
          6.1648917,
          6.0833893,
          6.1781244,
          5.831373,
          5.8730297,
          6.128933,
          6.154064,
          6.046754
         ]
        },
        {
         "hoverinfo": "text",
         "hovertext": [
          "When an accident or incident occurs that requires a passenger ferry operating in Auckland's congested Hauraki Gulf to abandon ship, it is highly likely that this will be achieved by a ship-to-ship transfer of passengers and crew. This scenario should be included in emergency response training and drills, and passenger ferries from all companies operating in the same area should be designed to minimise the risks of such an operation.",
          "The Easy Rider's life-raft was in current survey and was properly installed, but was not able to float free to the surface because it became lodged between the wheelhouse and the bulwarks as the vessel was sinking. Rated for 4 persons only, the life-raft did not have sufficient capacity to cater for the 9 persons on board.",
          "The Easy Rider capsized when it was engulfed by what was probably a large breaking wave, which reduced the vessel's stability by landing sea water onto the fishing deck, at the same time as rolling the vessel past the angle where it lost any chance of recovery.",
          "Maritime rules that specify the types of lifejacket to be carried on commercial vessels are based only on how far the vessels are permitted to travel from the coast. The rules do not consider environmental factors such as vessels operating out of bar harbours and on exposed coastlines, where higher-specification lifejackets would be more appropriate.",
          "The shipboard emergency response to the bosun falling into the sea.",
          "There were 24 passengers on board the Torea when it was only certified to carry 20 passengers.",
          "a vessel certified to carry up to 90 passengers and operating up to 12 nm from the coast very likely did not have fire detection equipment or automatic fire alarms installed.",
          "The skipper did not hold the qualification required for him to be in charge of the Easy Rider on the accident voyage.",
          "It could not be established why the chief officer, a veteran of the sea, and senior officer on board would have ignored the warnings given by the bosun and entered the cargo hold, particularly as number 5 cargo hold was not one of those identified by the fumigator as needing water removed.",
          "Although the Easy Rider had been entered into the safe ship management system, it was never going to help the owner and skipper to run a safe fishing operation, because the owner did not understand the principles of safe ship management and the skipper did not appear to show a willingness to comply with the rules.",
          "The Easy Rider's manually operated emergency position indicating radio beacon had probably not been intentionally activated and was still stowed in its bracket within the wheelhouse when the vessel sank.",
          "The skipper did not have the requisite knowledge of ship stability, or if he did, he did not apply it wisely when loading the Easy Rider for the trip. The Easy Rider being overloaded, with the average distribution of weight being too high, was the prime factor leading to its capsize.",
          "Float-free emergency position indicating radio beacons and the enhancement of people carrying personal locator beacons will improve the chances of being noticed and rescued, particularly in the event of a sudden or catastrophic event such as a capsize.",
          "Neither the owner nor the skipper sought or was given a dispensation by the safe ship management company or the Director of Maritime New Zealand to operate as a pleasure vessel for the accident voyage, which meant that the Easy Rider was a commercial fishing vessel and should not have been carrying any person other than its crew.",
          "There are indications that people may not have a sufficient understanding of the design and capability of the various types of lifejacket available, or of the importance of wearing a lifejacket of the correct size and type for any situation where there is a risk of people ending up in the water.",
          "There were as few as 4 approved lifejackets on board the Easy Rider to be shared among 9 people, which not only contravened Maritime Rules but significantly reduced the chances of persons not wearing lifejackets surviving in the water after the vessel capsized.",
          "The owner of the Easy Rider was not meeting its responsibilities for ensuring the safe operation of the vessel, as required by the Maritime Transport Act and Maritime Rules.",
          "The Easy Rider was loaded with too much weight, too high up on deck, which left the boat with insufficient reserve stability for its intended voyage when it departed from Bluff.",
          "Being a dedicated log carrier, the risk of death by entering closed cargo holds containing logs and rescue from enclosed spaces should have been high on the ship's emergency response training programme, yet no evidence could be found in the vessel's records for the previous 3 months that such a drill or training had been performed.",
          "It could not be established what training the deceased deck crew member had received in the hazards of entering closed cargo hold, but he might not have been aware of why the chief officer was unconscious, or may simply have been overwhelmed by an emotional urge to perform the rescue in spite of the danger to himself.",
          "the system of transferring passengers to another vessel as a means of evacuation was not documented or practised during evacuation drills.",
          "The Easy Rider did not have sufficient life-saving equipment for the 9 persons on board.",
          "The weather conditions were not suitable for the Easy Rider to venture across Foveaux Strait at night, with marginal stability and with passengers on board.",
          "The skipper's intention was for the Easy Rider to operate as a commercial fishing vessel on the accident voyage, as he fully intended to go fishing commercially once his passengers and their equipment had been offloaded.",
          "It has not been possible to determine how many, if any, of the 8 persons who died survived the initial capsize, and if so for how long they survived.",
          "The rescue response from the vessel's master and crew was not well coordinated or practised, taking some 15 to 20 minutes to remove the bodies from the cargo hold and attempt resuscitation. Given the survival time in the cargo hold atmosphere, any rescue attempt would have had to be immediate and efficient for either of the deceased to survive, which would have been achievable if the entry into enclosed spaces procedure had been followed in the first place.",
          null
         ],
         "marker": {
          "opacity": 0.5,
          "size": 5
         },
         "mode": "markers+text",
         "name": "15_Maritime Safety and Compliance Issues",
         "text": [
          "",
          "",
          "",
          "",
          "",
          "",
          "",
          "",
          "",
          "",
          "",
          "",
          "",
          "",
          "",
          "",
          "",
          "",
          "",
          "",
          "",
          "",
          "",
          "",
          "",
          "",
          "15_Maritime Safety and Compliance Issues"
         ],
         "textfont": {
          "size": 12
         },
         "type": "scattergl",
         "x": [
          1.8073902,
          0.61304766,
          0.5583912,
          0.7952568,
          1.776139,
          0.66158575,
          0.6462452,
          0.49171993,
          1.6830354,
          0.5322743,
          0.537696,
          0.516712,
          0.45239523,
          0.5212252,
          0.79142904,
          0.6743306,
          0.5431086,
          0.5550437,
          1.7137551,
          1.6709571,
          1.8129737,
          0.6277861,
          0.63244176,
          0.51124054,
          0.76410365,
          1.619341,
          0.90421635
         ],
         "y": [
          7.1748133,
          7.711686,
          7.912043,
          7.2443976,
          7.08657,
          7.5895715,
          7.5742426,
          8.14666,
          7.012168,
          8.133863,
          7.7939496,
          8.003749,
          7.7961707,
          8.151951,
          7.243962,
          7.613174,
          8.183774,
          7.977382,
          6.9863396,
          6.9932947,
          7.1645064,
          7.6926723,
          8.092729,
          8.145187,
          7.5596437,
          7.0012045,
          7.614835
         ]
        },
        {
         "hoverinfo": "text",
         "hovertext": [
          "Independent audits had found that the Philippine seafarer training system did not meet the standards specified by the STCW Convention at both systemic and training institute levels.",
          "The CO2 system's pilot cylinder leaked, but the exact cause of the leak could not be determined, indicating a potential oversight in the inspection or maintenance processes for pilot cylinders within the CO2 fire-suppression system.",
          "A clear placard should be placed at the control station for the fixed CO2 fire-suppression systems on all passenger ferries, alerting them to the exact number of CO2 bottles needed to extinguish a fire in each of the protected compartments.",
          "The location of fire detector sensors.",
          "The guidelines for internal inspection of control valves every five years may not be sufficient to detect early deterioration, suggesting that more frequent operational pressure tests could be necessary to ensure system integrity.",
          "The absence of a requirement for a physical inspection of the booster valve's seating arrangement during maintenance checks could allow deteriorated valves to remain in service, posing a risk to the system's integrity.",
          "The STCW Convention protocols for auditing countries' maritime education, training and certification systems lacked the transparency that would assist other countries to assess easily whether to recognise the qualification certificates issued by those countries as compliant with STCW standards.",
          "The maintenance and testing procedures for the CO2 fire-smothering system's booster valve were insufficient to detect and prevent leaks at operational pressures, leading to the uncontrolled release of CO2 into the engine room.",
          "The booster valve was found to be in poor condition due to corrosion and de-zincification, suggesting that the existing maintenance regime was inadequate to prevent or identify corrosion-related deterioration over time.",
          "the CO2 fixed fire-fighting system installed in the engine room could not be fully effective in extinguishing the fire because the space it was protecting could not be fully closed down.",
          "The Liberian Registry recognised by endorsement certificates issued by the Philippines in accordance with STCW Convention Regulation I/10, when independent audits found that the Philippines' maritime education, training and certification system did not meet the standards specified in the STCW [95] Convention.",
          "the operator and crew of the PeeJay V did not fully appreciate the principles underlying how a fixed fire-fighting CO2 flooding systems works.",
          "The practice of testing the booster valve with compressed air at below normal operating pressures was not effective in identifying potential leaks that could occur under full operating conditions.",
          "only half of the fixed CO2 fire-suppression system was released into the engine room, which might not have extinguished a sustained fire if one had occurred.",
          null
         ],
         "marker": {
          "opacity": 0.5,
          "size": 5
         },
         "mode": "markers+text",
         "name": "16_Maintenance and Effectiveness of CO2 Fire Suppression Systems in Maritime Settings",
         "text": [
          "",
          "",
          "",
          "",
          "",
          "",
          "",
          "",
          "",
          "",
          "",
          "",
          "",
          "",
          "16_Maintenance and Effectiveness of CO2 Fire Suppression Systems in Maritime Settings"
         ],
         "textfont": {
          "size": 12
         },
         "type": "scattergl",
         "x": [
          2.4546678,
          0.27064058,
          0.31475756,
          0.28952503,
          0.19466107,
          0.17569579,
          2.4765553,
          0.24522488,
          0.21468215,
          0.28068557,
          2.4761965,
          0.24214986,
          0.20674965,
          0.25963655,
          0.7215592
         ],
         "y": [
          7.928414,
          6.585143,
          6.684975,
          6.659312,
          6.4318457,
          6.4239793,
          7.947137,
          6.5200567,
          6.462997,
          6.607045,
          7.9405885,
          6.5503497,
          6.45775,
          6.580902,
          6.841464
         ]
        }
       ],
       "layout": {
        "annotations": [
         {
          "showarrow": false,
          "text": "D1",
          "x": -1.2503952085971832,
          "y": 5.129352874308824,
          "yshift": 10
         },
         {
          "showarrow": false,
          "text": "D2",
          "x": 5.337681743502617,
          "xshift": 10,
          "y": 9.932650995254516
         }
        ],
        "height": 750,
        "shapes": [
         {
          "line": {
           "color": "#CFD8DC",
           "width": 2
          },
          "type": "line",
          "x0": 5.337681743502617,
          "x1": 5.337681743502617,
          "y0": 0.3260547533631325,
          "y1": 9.932650995254516
         },
         {
          "line": {
           "color": "#9E9E9E",
           "width": 2
          },
          "type": "line",
          "x0": -1.2503952085971832,
          "x1": 11.925758695602417,
          "y0": 5.129352874308824,
          "y1": 5.129352874308824
         }
        ],
        "template": {
         "data": {
          "bar": [
           {
            "error_x": {
             "color": "rgb(36,36,36)"
            },
            "error_y": {
             "color": "rgb(36,36,36)"
            },
            "marker": {
             "line": {
              "color": "white",
              "width": 0.5
             },
             "pattern": {
              "fillmode": "overlay",
              "size": 10,
              "solidity": 0.2
             }
            },
            "type": "bar"
           }
          ],
          "barpolar": [
           {
            "marker": {
             "line": {
              "color": "white",
              "width": 0.5
             },
             "pattern": {
              "fillmode": "overlay",
              "size": 10,
              "solidity": 0.2
             }
            },
            "type": "barpolar"
           }
          ],
          "carpet": [
           {
            "aaxis": {
             "endlinecolor": "rgb(36,36,36)",
             "gridcolor": "white",
             "linecolor": "white",
             "minorgridcolor": "white",
             "startlinecolor": "rgb(36,36,36)"
            },
            "baxis": {
             "endlinecolor": "rgb(36,36,36)",
             "gridcolor": "white",
             "linecolor": "white",
             "minorgridcolor": "white",
             "startlinecolor": "rgb(36,36,36)"
            },
            "type": "carpet"
           }
          ],
          "choropleth": [
           {
            "colorbar": {
             "outlinewidth": 1,
             "tickcolor": "rgb(36,36,36)",
             "ticks": "outside"
            },
            "type": "choropleth"
           }
          ],
          "contour": [
           {
            "colorbar": {
             "outlinewidth": 1,
             "tickcolor": "rgb(36,36,36)",
             "ticks": "outside"
            },
            "colorscale": [
             [
              0,
              "#440154"
             ],
             [
              0.1111111111111111,
              "#482878"
             ],
             [
              0.2222222222222222,
              "#3e4989"
             ],
             [
              0.3333333333333333,
              "#31688e"
             ],
             [
              0.4444444444444444,
              "#26828e"
             ],
             [
              0.5555555555555556,
              "#1f9e89"
             ],
             [
              0.6666666666666666,
              "#35b779"
             ],
             [
              0.7777777777777778,
              "#6ece58"
             ],
             [
              0.8888888888888888,
              "#b5de2b"
             ],
             [
              1,
              "#fde725"
             ]
            ],
            "type": "contour"
           }
          ],
          "contourcarpet": [
           {
            "colorbar": {
             "outlinewidth": 1,
             "tickcolor": "rgb(36,36,36)",
             "ticks": "outside"
            },
            "type": "contourcarpet"
           }
          ],
          "heatmap": [
           {
            "colorbar": {
             "outlinewidth": 1,
             "tickcolor": "rgb(36,36,36)",
             "ticks": "outside"
            },
            "colorscale": [
             [
              0,
              "#440154"
             ],
             [
              0.1111111111111111,
              "#482878"
             ],
             [
              0.2222222222222222,
              "#3e4989"
             ],
             [
              0.3333333333333333,
              "#31688e"
             ],
             [
              0.4444444444444444,
              "#26828e"
             ],
             [
              0.5555555555555556,
              "#1f9e89"
             ],
             [
              0.6666666666666666,
              "#35b779"
             ],
             [
              0.7777777777777778,
              "#6ece58"
             ],
             [
              0.8888888888888888,
              "#b5de2b"
             ],
             [
              1,
              "#fde725"
             ]
            ],
            "type": "heatmap"
           }
          ],
          "heatmapgl": [
           {
            "colorbar": {
             "outlinewidth": 1,
             "tickcolor": "rgb(36,36,36)",
             "ticks": "outside"
            },
            "colorscale": [
             [
              0,
              "#440154"
             ],
             [
              0.1111111111111111,
              "#482878"
             ],
             [
              0.2222222222222222,
              "#3e4989"
             ],
             [
              0.3333333333333333,
              "#31688e"
             ],
             [
              0.4444444444444444,
              "#26828e"
             ],
             [
              0.5555555555555556,
              "#1f9e89"
             ],
             [
              0.6666666666666666,
              "#35b779"
             ],
             [
              0.7777777777777778,
              "#6ece58"
             ],
             [
              0.8888888888888888,
              "#b5de2b"
             ],
             [
              1,
              "#fde725"
             ]
            ],
            "type": "heatmapgl"
           }
          ],
          "histogram": [
           {
            "marker": {
             "line": {
              "color": "white",
              "width": 0.6
             }
            },
            "type": "histogram"
           }
          ],
          "histogram2d": [
           {
            "colorbar": {
             "outlinewidth": 1,
             "tickcolor": "rgb(36,36,36)",
             "ticks": "outside"
            },
            "colorscale": [
             [
              0,
              "#440154"
             ],
             [
              0.1111111111111111,
              "#482878"
             ],
             [
              0.2222222222222222,
              "#3e4989"
             ],
             [
              0.3333333333333333,
              "#31688e"
             ],
             [
              0.4444444444444444,
              "#26828e"
             ],
             [
              0.5555555555555556,
              "#1f9e89"
             ],
             [
              0.6666666666666666,
              "#35b779"
             ],
             [
              0.7777777777777778,
              "#6ece58"
             ],
             [
              0.8888888888888888,
              "#b5de2b"
             ],
             [
              1,
              "#fde725"
             ]
            ],
            "type": "histogram2d"
           }
          ],
          "histogram2dcontour": [
           {
            "colorbar": {
             "outlinewidth": 1,
             "tickcolor": "rgb(36,36,36)",
             "ticks": "outside"
            },
            "colorscale": [
             [
              0,
              "#440154"
             ],
             [
              0.1111111111111111,
              "#482878"
             ],
             [
              0.2222222222222222,
              "#3e4989"
             ],
             [
              0.3333333333333333,
              "#31688e"
             ],
             [
              0.4444444444444444,
              "#26828e"
             ],
             [
              0.5555555555555556,
              "#1f9e89"
             ],
             [
              0.6666666666666666,
              "#35b779"
             ],
             [
              0.7777777777777778,
              "#6ece58"
             ],
             [
              0.8888888888888888,
              "#b5de2b"
             ],
             [
              1,
              "#fde725"
             ]
            ],
            "type": "histogram2dcontour"
           }
          ],
          "mesh3d": [
           {
            "colorbar": {
             "outlinewidth": 1,
             "tickcolor": "rgb(36,36,36)",
             "ticks": "outside"
            },
            "type": "mesh3d"
           }
          ],
          "parcoords": [
           {
            "line": {
             "colorbar": {
              "outlinewidth": 1,
              "tickcolor": "rgb(36,36,36)",
              "ticks": "outside"
             }
            },
            "type": "parcoords"
           }
          ],
          "pie": [
           {
            "automargin": true,
            "type": "pie"
           }
          ],
          "scatter": [
           {
            "fillpattern": {
             "fillmode": "overlay",
             "size": 10,
             "solidity": 0.2
            },
            "type": "scatter"
           }
          ],
          "scatter3d": [
           {
            "line": {
             "colorbar": {
              "outlinewidth": 1,
              "tickcolor": "rgb(36,36,36)",
              "ticks": "outside"
             }
            },
            "marker": {
             "colorbar": {
              "outlinewidth": 1,
              "tickcolor": "rgb(36,36,36)",
              "ticks": "outside"
             }
            },
            "type": "scatter3d"
           }
          ],
          "scattercarpet": [
           {
            "marker": {
             "colorbar": {
              "outlinewidth": 1,
              "tickcolor": "rgb(36,36,36)",
              "ticks": "outside"
             }
            },
            "type": "scattercarpet"
           }
          ],
          "scattergeo": [
           {
            "marker": {
             "colorbar": {
              "outlinewidth": 1,
              "tickcolor": "rgb(36,36,36)",
              "ticks": "outside"
             }
            },
            "type": "scattergeo"
           }
          ],
          "scattergl": [
           {
            "marker": {
             "colorbar": {
              "outlinewidth": 1,
              "tickcolor": "rgb(36,36,36)",
              "ticks": "outside"
             }
            },
            "type": "scattergl"
           }
          ],
          "scattermapbox": [
           {
            "marker": {
             "colorbar": {
              "outlinewidth": 1,
              "tickcolor": "rgb(36,36,36)",
              "ticks": "outside"
             }
            },
            "type": "scattermapbox"
           }
          ],
          "scatterpolar": [
           {
            "marker": {
             "colorbar": {
              "outlinewidth": 1,
              "tickcolor": "rgb(36,36,36)",
              "ticks": "outside"
             }
            },
            "type": "scatterpolar"
           }
          ],
          "scatterpolargl": [
           {
            "marker": {
             "colorbar": {
              "outlinewidth": 1,
              "tickcolor": "rgb(36,36,36)",
              "ticks": "outside"
             }
            },
            "type": "scatterpolargl"
           }
          ],
          "scatterternary": [
           {
            "marker": {
             "colorbar": {
              "outlinewidth": 1,
              "tickcolor": "rgb(36,36,36)",
              "ticks": "outside"
             }
            },
            "type": "scatterternary"
           }
          ],
          "surface": [
           {
            "colorbar": {
             "outlinewidth": 1,
             "tickcolor": "rgb(36,36,36)",
             "ticks": "outside"
            },
            "colorscale": [
             [
              0,
              "#440154"
             ],
             [
              0.1111111111111111,
              "#482878"
             ],
             [
              0.2222222222222222,
              "#3e4989"
             ],
             [
              0.3333333333333333,
              "#31688e"
             ],
             [
              0.4444444444444444,
              "#26828e"
             ],
             [
              0.5555555555555556,
              "#1f9e89"
             ],
             [
              0.6666666666666666,
              "#35b779"
             ],
             [
              0.7777777777777778,
              "#6ece58"
             ],
             [
              0.8888888888888888,
              "#b5de2b"
             ],
             [
              1,
              "#fde725"
             ]
            ],
            "type": "surface"
           }
          ],
          "table": [
           {
            "cells": {
             "fill": {
              "color": "rgb(237,237,237)"
             },
             "line": {
              "color": "white"
             }
            },
            "header": {
             "fill": {
              "color": "rgb(217,217,217)"
             },
             "line": {
              "color": "white"
             }
            },
            "type": "table"
           }
          ]
         },
         "layout": {
          "annotationdefaults": {
           "arrowhead": 0,
           "arrowwidth": 1
          },
          "autotypenumbers": "strict",
          "coloraxis": {
           "colorbar": {
            "outlinewidth": 1,
            "tickcolor": "rgb(36,36,36)",
            "ticks": "outside"
           }
          },
          "colorscale": {
           "diverging": [
            [
             0,
             "rgb(103,0,31)"
            ],
            [
             0.1,
             "rgb(178,24,43)"
            ],
            [
             0.2,
             "rgb(214,96,77)"
            ],
            [
             0.3,
             "rgb(244,165,130)"
            ],
            [
             0.4,
             "rgb(253,219,199)"
            ],
            [
             0.5,
             "rgb(247,247,247)"
            ],
            [
             0.6,
             "rgb(209,229,240)"
            ],
            [
             0.7,
             "rgb(146,197,222)"
            ],
            [
             0.8,
             "rgb(67,147,195)"
            ],
            [
             0.9,
             "rgb(33,102,172)"
            ],
            [
             1,
             "rgb(5,48,97)"
            ]
           ],
           "sequential": [
            [
             0,
             "#440154"
            ],
            [
             0.1111111111111111,
             "#482878"
            ],
            [
             0.2222222222222222,
             "#3e4989"
            ],
            [
             0.3333333333333333,
             "#31688e"
            ],
            [
             0.4444444444444444,
             "#26828e"
            ],
            [
             0.5555555555555556,
             "#1f9e89"
            ],
            [
             0.6666666666666666,
             "#35b779"
            ],
            [
             0.7777777777777778,
             "#6ece58"
            ],
            [
             0.8888888888888888,
             "#b5de2b"
            ],
            [
             1,
             "#fde725"
            ]
           ],
           "sequentialminus": [
            [
             0,
             "#440154"
            ],
            [
             0.1111111111111111,
             "#482878"
            ],
            [
             0.2222222222222222,
             "#3e4989"
            ],
            [
             0.3333333333333333,
             "#31688e"
            ],
            [
             0.4444444444444444,
             "#26828e"
            ],
            [
             0.5555555555555556,
             "#1f9e89"
            ],
            [
             0.6666666666666666,
             "#35b779"
            ],
            [
             0.7777777777777778,
             "#6ece58"
            ],
            [
             0.8888888888888888,
             "#b5de2b"
            ],
            [
             1,
             "#fde725"
            ]
           ]
          },
          "colorway": [
           "#1F77B4",
           "#FF7F0E",
           "#2CA02C",
           "#D62728",
           "#9467BD",
           "#8C564B",
           "#E377C2",
           "#7F7F7F",
           "#BCBD22",
           "#17BECF"
          ],
          "font": {
           "color": "rgb(36,36,36)"
          },
          "geo": {
           "bgcolor": "white",
           "lakecolor": "white",
           "landcolor": "white",
           "showlakes": true,
           "showland": true,
           "subunitcolor": "white"
          },
          "hoverlabel": {
           "align": "left"
          },
          "hovermode": "closest",
          "mapbox": {
           "style": "light"
          },
          "paper_bgcolor": "white",
          "plot_bgcolor": "white",
          "polar": {
           "angularaxis": {
            "gridcolor": "rgb(232,232,232)",
            "linecolor": "rgb(36,36,36)",
            "showgrid": false,
            "showline": true,
            "ticks": "outside"
           },
           "bgcolor": "white",
           "radialaxis": {
            "gridcolor": "rgb(232,232,232)",
            "linecolor": "rgb(36,36,36)",
            "showgrid": false,
            "showline": true,
            "ticks": "outside"
           }
          },
          "scene": {
           "xaxis": {
            "backgroundcolor": "white",
            "gridcolor": "rgb(232,232,232)",
            "gridwidth": 2,
            "linecolor": "rgb(36,36,36)",
            "showbackground": true,
            "showgrid": false,
            "showline": true,
            "ticks": "outside",
            "zeroline": false,
            "zerolinecolor": "rgb(36,36,36)"
           },
           "yaxis": {
            "backgroundcolor": "white",
            "gridcolor": "rgb(232,232,232)",
            "gridwidth": 2,
            "linecolor": "rgb(36,36,36)",
            "showbackground": true,
            "showgrid": false,
            "showline": true,
            "ticks": "outside",
            "zeroline": false,
            "zerolinecolor": "rgb(36,36,36)"
           },
           "zaxis": {
            "backgroundcolor": "white",
            "gridcolor": "rgb(232,232,232)",
            "gridwidth": 2,
            "linecolor": "rgb(36,36,36)",
            "showbackground": true,
            "showgrid": false,
            "showline": true,
            "ticks": "outside",
            "zeroline": false,
            "zerolinecolor": "rgb(36,36,36)"
           }
          },
          "shapedefaults": {
           "fillcolor": "black",
           "line": {
            "width": 0
           },
           "opacity": 0.3
          },
          "ternary": {
           "aaxis": {
            "gridcolor": "rgb(232,232,232)",
            "linecolor": "rgb(36,36,36)",
            "showgrid": false,
            "showline": true,
            "ticks": "outside"
           },
           "baxis": {
            "gridcolor": "rgb(232,232,232)",
            "linecolor": "rgb(36,36,36)",
            "showgrid": false,
            "showline": true,
            "ticks": "outside"
           },
           "bgcolor": "white",
           "caxis": {
            "gridcolor": "rgb(232,232,232)",
            "linecolor": "rgb(36,36,36)",
            "showgrid": false,
            "showline": true,
            "ticks": "outside"
           }
          },
          "title": {
           "x": 0.05
          },
          "xaxis": {
           "automargin": true,
           "gridcolor": "rgb(232,232,232)",
           "linecolor": "rgb(36,36,36)",
           "showgrid": false,
           "showline": true,
           "ticks": "outside",
           "title": {
            "standoff": 15
           },
           "zeroline": false,
           "zerolinecolor": "rgb(36,36,36)"
          },
          "yaxis": {
           "automargin": true,
           "gridcolor": "rgb(232,232,232)",
           "linecolor": "rgb(36,36,36)",
           "showgrid": false,
           "showline": true,
           "ticks": "outside",
           "title": {
            "standoff": 15
           },
           "zeroline": false,
           "zerolinecolor": "rgb(36,36,36)"
          }
         }
        },
        "title": {
         "font": {
          "color": "Black",
          "size": 22
         },
         "text": "<b>Documents and Topics</b>",
         "x": 0.5,
         "xanchor": "center",
         "yanchor": "top"
        },
        "width": 1200,
        "xaxis": {
         "visible": false
        },
        "yaxis": {
         "visible": false
        }
       }
      }
     },
     "metadata": {},
     "output_type": "display_data"
    }
   ],
   "source": [
    "topic_model = BERTopic.load(\"demo_merged_model\")\n",
    "\n",
    "all_data = pd.concat(modes_dfs)\n",
    "\n",
    "array_embeddings = column_to_2darray(all_data['si_embedding'])\n",
    "\n",
    "reduced_array_embeddings = UMAP(n_neighbors=7, n_components=2, min_dist=0.0, metric='cosine', random_state=42).fit_transform(array_embeddings)\n",
    "\n",
    "visualization = topic_model.visualize_documents(all_data['si'].to_list(), embeddings=array_embeddings, reduced_embeddings=reduced_array_embeddings)\n",
    "\n",
    "with open(os.path.join('topic_visuals', 'demo_merged_model_visual.html'), 'w') as f:\n",
    "    visualization.write_html(f)\n",
    "\n",
    "visualization"
   ]
  },
  {
   "cell_type": "code",
   "execution_count": 80,
   "metadata": {},
   "outputs": [
    {
     "name": "stderr",
     "output_type": "stream",
     "text": [
      "2024-05-07 15:22:52,150 - BERTopic - WARNING: You are loading a BERTopic model without explicitly defining an embedding model. If you want to also load in an embedding model, make sure to use `BERTopic.load(my_model, embedding_model=my_embedding_model)`.\n",
      "2024-05-07 15:22:52,154 - BERTopic - WARNING: You are loading a BERTopic model without explicitly defining an embedding model. If you want to also load in an embedding model, make sure to use `BERTopic.load(my_model, embedding_model=my_embedding_model)`.\n",
      "2024-05-07 15:22:52,156 - BERTopic - WARNING: You are loading a BERTopic model without explicitly defining an embedding model. If you want to also load in an embedding model, make sure to use `BERTopic.load(my_model, embedding_model=my_embedding_model)`.\n"
     ]
    },
    {
     "data": {
      "application/vnd.plotly.v1+json": {
       "config": {
        "plotlyServerURL": "https://plot.ly"
       },
       "data": [
        {
         "hoverinfo": "text",
         "hovertext": [
          null
         ],
         "marker": {
          "color": "#CFD8DC",
          "opacity": 0.5,
          "size": 5
         },
         "mode": "markers+text",
         "name": "other",
         "showlegend": false,
         "type": "scattergl",
         "x": [
          null
         ],
         "y": [
          null
         ]
        },
        {
         "hoverinfo": "text",
         "hovertext": [
          "Pilots' reluctance to use appropriate radio phraseology to alert air traffic services and other pilots that an urgent or distress situation exists, potentially stemming from a desire not to attract undue attention. This reluctance can lead to miscommunication and delays in emergency response.",
          "The descriptions of and requirements for the standard overhead circuit joining procedure that are published in Civil Aviation Rules, the Aeronautical Information Publication and the Flight Instructor's Guide can be misinterpreted or misapplied in non-standard traffic situations. This could contribute to the collision risk at aerodromes.",
          "It is likely that the level of risk with flight operations at Queenstown Aerodrome has increased because of changes in the variety and intensity of operations.",
          "There is no effective means of ensuring that the common operational information and procedures published by certificated organisations for their internal use are accurate and consistent. That deficiency inevitably results in differences that lead to misunderstandings between operational staff, which can compromise the safety of operations.",
          "the possibility of the cabin being pressurised on the ground following the use of the Cabin Altitude Warning checklist.",
          "Airways had not clearly explained to operators that it expected large aircraft that did not land at Queenstown after circling to enter the visual aerodrome circuit.",
          "The non-performance of the Emergency Locator Transmitter (ELT) in guiding search and rescue to the accident site in a timely manner, which in survivable accidents could mean the difference between survival and not.",
          "The aviation community, including the regulator, Airways, aerodrome operators and aircraft operators, does not have a consistent approach to reducing the collision risks associated with simultaneous opposed circuits at aerodromes.",
          "When an IFR aeroplane is approved to conduct a visual approach to land, current ATC procedures can allow the flight crew to change their radio to the tower frequency dependent on their other clearance actions. This can create a situation where the approach controller is unable to contact that flight crew when the controller is still responsible for monitoring that flight crew's compliance with an instruction.",
          "The visual circuit procedure put in place by Airways for large aircraft at Queenstown should have had the approval of the Director because it was intended as a permanent change that introduced or varied right-hand circuits.",
          "The pilot's rescue was due to the fortuitous presence of witnesses on shore. Had he arranged flight-following and made a timely emergency radio call, his rescue might have been more assured even without witnesses.",
          "Airways required all pireps to be passed to MetService, but the first controller said he decided not to pass on the pirep from NZ5046 because he had earlier passed on one from an ATR.",
          "Airways also required controllers to pass pireps to other aircraft that could be affected, but pireps were not in the AIP list of information that ATC would pass to aircraft.",
          "variances in lighting seen at Auckland Airport are a safety issue that the Commission is recommending that the chief executive of Auckland Airport address.",
          "the training of cabin crew in the use of emergency oxygen equipment and the cabin depressurisation procedure",
          "administrative errors were identified in the advisory circular AC139-6 current at the time of this incident, which had the potential to create ambiguity in the way the relevant ICAO standards and recommended practices for airport design and operations were interpreted.",
          "Pilots who are not approved for or not familiar with RNAV procedures may not understand radioed position reports that refer to RNAV waypoints. The communication gap that this potentially creates is a safety issue.",
          "The incident would not have occurred had either of the aeroplane pilots stopped the descent when he lost sight of the helicopter.",
          "The crashworthiness of the ELT, which was designed to alert and guide emergency services to a crash site, was inadequate.",
          "While ATC sequences an IFR aeroplane to land and approves the flight crew to conduct a visual approach, current air traffic rules do not require controllers to provide flight crew with their positions in the approach sequence. This information can be crucial to a flight crew conducting a visual approach for them to maintain their situational awareness.",
          "Civil Aviation Rule 91.223 can be interpreted ambiguously in non-standard traffic situations, which could contribute to the collision risk at aerodromes.",
          "The incident would have been less likely to occur had the aeroplane pilots immediately broadcast that they had lost sight of the helicopter.",
          "The CAA's use of 'should' in advisory circulars could be misleading, because one could infer that full adherence to the chosen means of compliance is optional.",
          "The council had not evaluated the effects of the subsurface runway irrigation system on the maximum equivalent single wheel load for the Pauanui runway.",
          "The minimum required separation between the 2 IFR aeroplanes was not assured because the approach clearance issued to Qantas did not allow for a potential communications failure and it was based on the controllers' shared assumption that Pacific Blue would, without further instruction, remain in the visual circuit in the event of not landing.",
          "The first air traffic controller did not hear the PAN call from NZ5046, and as PAN was not used when the crew repeated their message, he did not recognise that their situation was one of urgency.",
          "The incomplete and inaccurate AIP reference to Civil Aviation Rule 91.413(e) was likely a factor in the routine non-compliance with the Rule by pilots making non-precision approaches to Queenstown Aerodrome.",
          "When aircraft maintenance staff do not refer to the current Instructions for Continuing Airworthiness for a task, perhaps because they are very familiar with the basic task and do not know that the task documentation has changed, safety might be compromised.",
          "The procedure for circling below the minimum descent altitude after an instrument approach to Queenstown Aerodrome needs to be clarified to ensure pilots and controllers are in no doubt as to their respective actions to achieve separation from other traffic.",
          "The defence of 'see and avoid' is not foolproof against mid-air collisions and, despite repeated efforts to educate pilots about safety around aerodromes, these types of accidents continue to occur.",
          "The failure of the emergency locator transmitter to alert the search and rescue network had the potential to adversely affect survivability.",
          "Although not a factor in this incident, the use of similar titles for different RNAV approach procedures to the same runway is a hazard that could result in an aircraft flying the wrong approach.",
          "differences between the intensity settings used on the night of this incident for runway and taxiway lights and the ICAO-recommended settings for similar conditions",
          "Had the controllers realised that the low cloud around the aerodrome made the visual circuit unsuitable for a jet aeroplane, they could have protected the missed approach for Pacific Blue by a more positive means, such as not clearing Qantas for its approach until Pacific Blue had landed.",
          "The controller recognised the potential for a conflict, but he provided traffic information to the pilots of the aeroplane only, and not to the pilots of the helicopter.",
          "Some VFR pilots continue to misconstrue ATC traffic information and instructions in Class C and D airspace as the provision of traffic separation.",
          "The see-and-avoid principle continues to have relevance, provided pilots and controllers counter its well-known limitations by the appropriate sharing of traffic information.",
          "Pilots, particularly those of jet aeroplanes, making non-precision approaches to Queenstown Aerodrome cannot fully meet the PANS-OPS requirements for such approaches because the runway cannot be kept in sight at all times when circling below the minimum descent altitude.",
          "Some aerodrome controllers are 'over-controlling' VFR traffic in and around the zone, which is unnecessarily congesting the radio frequencies and risks causing difficulties for inexperienced pilots and those for whom English is their second language.",
          "when pilots do not inform their flight-following organisations of changes to their routes or destinations, any search and rescue action that is required could be delayed or misdirected",
          "Changes in the size and shape of the Hamilton zone have shifted some VFR traffic congestion to prominent points outside the zone, and likely increased the risk of collision in those areas.",
          "Had the Pacific Blue pilots turned back towards the aerodrome while climbing to the missed approach altitude of 8500 ft, which was possible under PANS-OPS, a more hazardous scenario might have ensued, because Qantas had already been cleared to descend through the same area.",
          "The controller's instructions were valid for Class D airspace, but he did not manage the increased risk of collision presented by the aeroplane descending to circuit altitude in the opposite direction.",
          "The lack of a definition of what was meant by 'simultaneous operations' had created confusion for pilots.",
          "The controllers and the pilots of the Pacific Blue aeroplane did not share the same understanding of how the published missed approach would be protected while Pacific Blue was circling. The different texts in the AIP and the Manual of Air Traffic Services at that time contributed to that misunderstanding.",
          "non-adherence to the published emergency checklists for a loss of cabin pressure",
          null
         ],
         "marker": {
          "opacity": 0.5,
          "size": 5
         },
         "mode": "markers+text",
         "name": "0_Aviation Safety and Communication Issues",
         "text": [
          "",
          "",
          "",
          "",
          "",
          "",
          "",
          "",
          "",
          "",
          "",
          "",
          "",
          "",
          "",
          "",
          "",
          "",
          "",
          "",
          "",
          "",
          "",
          "",
          "",
          "",
          "",
          "",
          "",
          "",
          "",
          "",
          "",
          "",
          "",
          "",
          "",
          "",
          "",
          "",
          "",
          "",
          "",
          "",
          "",
          "",
          "0_Aviation Safety and Communication Issues"
         ],
         "textfont": {
          "size": 12
         },
         "type": "scattergl",
         "x": [
          1.1616193,
          3.3661556,
          3.2988467,
          3.4651496,
          -4.9620295,
          2.8247645,
          0.81094265,
          3.4321544,
          5.6781435,
          2.8139117,
          0.7156907,
          6.5410824,
          6.6663017,
          2.8041782,
          -4.9620214,
          3.1770048,
          1.2225596,
          6.969912,
          0.7789462,
          5.7603464,
          3.2809598,
          6.934568,
          3.206511,
          2.8262665,
          6.0027294,
          6.4363365,
          3.0622985,
          3.511681,
          2.9325247,
          5.1818733,
          0.7673499,
          1.283106,
          3.0355499,
          6.14566,
          6.975277,
          5.326267,
          5.1839223,
          3.2161522,
          5.517747,
          1.118833,
          3.3727806,
          6.163551,
          7.0197134,
          6.1234035,
          6.123925,
          -4.9619718,
          3.420667
         ],
         "y": [
          7.6849813,
          8.602381,
          8.034276,
          8.700348,
          0.118159644,
          7.9947352,
          7.421462,
          8.634056,
          1.9505038,
          8.010414,
          7.3282433,
          0.480553,
          0.3286423,
          8.0602255,
          0.11816736,
          8.426783,
          7.7295756,
          -0.036416795,
          7.390233,
          1.877956,
          8.372901,
          -0.06960609,
          8.397938,
          8.002678,
          1.6604024,
          0.6205082,
          8.255001,
          8.768038,
          7.8932695,
          2.4032047,
          7.380056,
          7.771536,
          8.311414,
          1.5313482,
          -0.022523265,
          2.2601686,
          2.400109,
          8.016502,
          2.0875635,
          7.6547923,
          8.108855,
          1.5296156,
          -0.012208495,
          1.5457736,
          1.5439211,
          0.11812054,
          4.8561883
         ]
        },
        {
         "hoverinfo": "text",
         "hovertext": [
          "Unapproved maintenance and modifications to the helicopter, including a dent in the tail rotor blade, unapproved battery system modification, and unapproved repairs to the main rotor blades.",
          "The measurement specifications for overhauled compressor turbine blades that had been through a strip and recoat repair process were not exactly the same as those for new blades. Blades that had been through that repair process, without verification of critical dimensions, might fail before the next 3,000-hour inspection.",
          "Local aerodrome user groups benefit their participants by providing information about their respective activities. Aerodrome operators, in order to manage their operational risks, should require their relevant tenants and users to participate fully in such groups.",
          null,
          "The challenge for pilots in accurately assessing wind conditions and their effect on helicopter performance during landing approaches, particularly in remote or confined areas, which can lead to inappropriate approach paths and increase the risk of accidents.",
          "There were no established procedures for entering the runway when the control tower was not operational, including a lack of pre-duty briefing or team meetings to discuss such procedures.",
          "Drivers of airport vehicles, including Avsec officers, were not trained or required to follow the good aviation practice of checking in both directions before moving onto runways, even when given permission to do so by ATC.",
          "Avsec and airport company procedures had made no provision for vehicles to enter the runway without an ATC clearance outside the hours of operation of ATC, except in the case of an emergency.",
          "The practice of allowing a loader to close and lock the cargo door probably led the first officer to believe the loader had done so on this occasion, but this was no defence for him not to follow a specific instruction; to check it himself.",
          "The manufacturer of the Cloudburst monsoon bucket had not promulgated key operational information on and limitations of the Cloudburst monsoon bucket to operators.",
          "The helicopter was loaded above its maximum certified weight limit for the rescue flight and would have further exceeded it on the return flight.",
          "There was no procedure for an Avsec officer to check with the airport night security agent for any expected aircraft movements before the officer entered the runway outside the normal hours of ATC.",
          "Visual impairment due to the sun being low on the horizon directly ahead of the flight track, potentially affecting the pilot's ability to determine the helicopter's height above the tree canopy.",
          "The importance of pilot training to include emergency procedures for handling unanticipated yaw events, especially for helicopters equipped with Fenestron tail rotors, to ensure pilots can respond effectively to prevent loss of control.",
          "All three Robinson helicopter models are susceptible to low-G mast-bumping, and any preventive measures should apply to all of them.",
          "the flight manuals for Robinson helicopters did not adequately warn pilots of the hazardous operating practices and environmental conditions that can lead rapidly to a catastrophic mast bump",
          "The incident was a result of the door not being closed properly by the loader and then the first officer not checking that it was locked as he was required to do. It also involved a number of unchecked assumptions being made by the loader, first officer, and captain about the actions or intended actions of others.",
          "the widespread practice of allowing passengers to leave and return to a helicopter parked on snow while the rotors are turning is hazardous.",
          "Had a previous limitation on maximum wind speeds for inexperienced R44 pilots remained in place, as per that for R22 pilots, the pilot would have been prohibited from flying at the time of the accident due to the forecast strong winds and turbulence.",
          "The Avsec officer lacked a thorough knowledge of the operational environment, including the meaning of the aerodrome lighting.",
          "earlier research into the flight control systems and dynamic behaviour of the main rotor of lightweight helicopters, such as the design used by Robinson, was not completed as intended. Until the behaviour of such rotor systems in conditions of low G and turbulence is fully understood, it is possible that not all of the causal factors of mast bump accidents will be identified.",
          "The use of \"threat and error management\" (TEM) skills by the crew could have prevented the incident. If both pilots had recognised the defective cargo door warning system as a \"threat\" to safety of flight, they almost certainly would have paid close attention to the requirement for a crew member to confirm visually that the door was locked before flight.",
          "The difficulty in identifying the underlying causes of mast bump accidents involving Robinson helicopters due to the usually fatal nature of these accidents and the destructive impact of in-flight break-ups, which complicates efforts to make meaningful recommendations for preventing similar accidents.",
          "There was insufficient guidance to pilots on the appropriate line length for monsoon bucket operations.",
          "The Avsec officer's actions were indicative of a 'tunnel' focus on completing his own tasks with little regard for the bigger picture of the aerodrome operation.",
          "The potential for pilots, especially those with limited experience, to be startled by an unanticipated yaw, especially during critical phases of flight such as landing approaches, which can lead to a loss of control if not promptly and correctly addressed.",
          "the initial design of the Cloudburst monsoon bucket meant the hook-and-loop fastener system had the potential to come undone during operations",
          "The original fault of the cargo door annunciator light remaining illuminated after the door was closed and locked was not critical provided a crew member visually confirmed the door was locked. However, the faded paint on the visual lock indicator meant positive confirmation of the door being closed required a close-up check of the indicator.",
          "The helicopter very likely encountered moderate to severe turbulence and an associated severe downdraught in the lee of Mt Arthur, which likely created a prolonged low-G condition.",
          "The helicopter's airworthiness was compromised by factors such as the main rotor blades exceeding their finite calendar life, disabled engine-hour meter, unrecorded flight hours, and expired review of airworthiness.",
          "The condition of the helicopter's engine, including evidence of not sealing properly, excessive wear, and incorrect spark plug types, which could have reduced the available power and reliability.",
          "Pilots' concern about using manual mode",
          "four of the seven fatal R66 accidents that have occurred globally since the type was introduced into service in 2010 were mast bump or low-main-rotor-RPM accidents, accident types seen with the smaller R22 and R44, which have the same main rotor design. However, the R66 was certificated without any special pilot training requirements or operating restrictions such as the minimum pilot experience and maximum wind strength that apply to the R22",
          "The actual wind and turbulence at the time of the accident were very likely to have been the same as, or stronger than, the forecast conditions.",
          "Aerodrome managers, in particular those at unattended aerodromes, lacked the guidance and understanding of their roles and accountabilities regarding the CARs and the Health and Safety at Work regulations, which was necessary to be able to discharge their responsibilities and ensure the safe operation of their aerodrome.",
          "The modification of the cockpit lighting adversely affected the readability of the caution lights during daylight, when the dimmer was on.",
          "A pilot's instinctive reaction to an unexpected right roll, or the unintentional movement of a pilot's limbs or upper body during severe turbulence or low-G, could lead to mast-bumping.",
          "The closed-circuit television recording suggested that the loader was waiting by the cargo door for the last passenger to arrive and might not have fully engaged the lock mechanism, assuming the door was either locked or simply caught to stop it swinging open.",
          "Due to their unique main rotor design, during a sudden and prolonged low-G condition Robinson helicopters can roll rapidly to the right and likely break up before a pilot can recover.",
          "The need for comprehensive training and experience to safely conduct operations in remote, confined, or off-aerodrome landing sites, including the ability to perform thorough reconnaissance passes and understand the implications of wind direction and speed.",
          "The unique handling characteristics of helicopters equipped with Fenestron tail rotors, particularly the increased right pedal input required as the helicopter slows to a hover, which may not be intuitively understood by pilots transitioning from different helicopter types or with limited experience.",
          "more educational material is needed to alert operators to the risk of contaminated fuel when operating and refuelling in remote, dusty environments.",
          "Although not an intuitive reaction to a sudden right roll, the aft cyclic technique is the only approved recovery technique, and should be used as soon as low-G is felt to 'reload' the main rotor disc and help reduce any right roll.",
          "The examination of the handle confirmed that it was possible to align the handle about horizontal, but owing to the play in the handle the locks would not engage until the handle had been pushed firmly slightly past the horizontal and the button had popped. The fading of the button colour degraded its effectiveness as an indicator and as a warning to pilots that the door was possibly insecure.",
          "The practice of using the runway for perimeter checks outside ATC hours of operation was not standardized, creating an unnecessary risk to airport operations.",
          "Unfavourable wind conditions, including the possibility of a sudden tailwind gust during take-off, which could have reduced the helicopter's rate of climb in a critical phase of flight.",
          "Carburettor icing conditions that presented a moderate risk at the time of the accident, with the carburettor heating control found in the OFF position.",
          "The pilot's operation of the helicopter with a load that inadvertently made contact with the tree canopy or the inability to maintain sufficient clearance from the tree canopy.",
          "The Avsec officer did not appreciate that flights could be delayed or that aircraft movements could occur at any time, nor did he appreciate that the illuminated runway lights meant the runway was active."
         ],
         "marker": {
          "opacity": 0.5,
          "size": 5
         },
         "mode": "markers+text",
         "name": "1_Helicopter Safety and Operational Challenges",
         "text": [
          "",
          "",
          "",
          "1_Helicopter Safety and Operational Challenges",
          "",
          "",
          "",
          "",
          "",
          "",
          "",
          "",
          "",
          "",
          "",
          "",
          "",
          "",
          "",
          "",
          "",
          "",
          "",
          "",
          "",
          "",
          "",
          "",
          "",
          "",
          "",
          "",
          "",
          "",
          "",
          "",
          "",
          "",
          "",
          "",
          "",
          "",
          "",
          "",
          "",
          "",
          "",
          "",
          ""
         ],
         "textfont": {
          "size": 12
         },
         "type": "scattergl",
         "x": [
          13.297657,
          13.338411,
          6.081532,
          11.536991,
          12.452824,
          6.5194426,
          6.394329,
          6.4445753,
          14.446128,
          10.79198,
          13.323482,
          6.4757338,
          12.580622,
          12.174571,
          12.754232,
          12.869461,
          14.369508,
          12.428249,
          13.159035,
          5.6104274,
          12.781263,
          14.352129,
          12.885326,
          10.837062,
          5.585343,
          12.143119,
          10.787315,
          14.259785,
          12.931278,
          13.324939,
          13.27089,
          12.069632,
          13.1782875,
          13.150214,
          6.106148,
          14.185927,
          12.348968,
          14.40542,
          12.590273,
          12.180863,
          12.211214,
          12.102669,
          12.52179,
          14.265334,
          6.486641,
          13.035659,
          13.197473,
          12.702184,
          5.5985947
         ],
         "y": [
          -4.364606,
          -4.4909186,
          9.59928,
          -1.279336,
          -3.7929459,
          9.803597,
          9.717754,
          9.74715,
          -6.438767,
          -3.2036467,
          -4.421798,
          9.76771,
          -4.0660043,
          -2.7753186,
          -2.5957558,
          -2.6629477,
          -6.509605,
          -3.7350638,
          -3.7153707,
          9.343108,
          -2.5847824,
          -6.5385146,
          -2.6116924,
          -3.225546,
          9.328542,
          -2.721974,
          -3.2012403,
          -6.5111475,
          -3.9153583,
          -4.4260354,
          -4.2501326,
          -2.7001636,
          -3.5307708,
          -3.763545,
          9.606364,
          -6.588739,
          -2.6294193,
          -6.4745693,
          -2.5005233,
          -3.6591582,
          -2.7694116,
          -3.6636,
          -2.5300753,
          -6.4542985,
          9.773111,
          -4.0176663,
          -4.1155887,
          -4.0783014,
          9.33678
         ]
        },
        {
         "hoverinfo": "text",
         "hovertext": [
          "The reliance on the automation of the safety information system, which contributed to the oversight of the incorrectly classified notification of the occurrence.",
          "The standard of team resource management in the Hamilton ATC tower did not match good industry practice.",
          "The Robinson helicopter flight manuals do not conform to the aviation industry practice for the use of \"Warnings\" to emphasise flight conditions and operating practices that can cause death or serious injury.",
          "The operator's procedures did not require pilots using open-descent mode to reset the Flight Control Unit (FCU) to the next intermediate altitude restriction, which could reduce the effectiveness of descent management and increase the risk of altitude breaches.",
          "The format of the Robinson R22 helicopter flight manual and the terminology it uses do not draw appropriate attention to safety-critical instructions and conditions that could result in serious injury or death.",
          "aspects of the way the operator and aeroplane owner operated the aircraft",
          "The training that Air Nelson gave its pilots on the alternate landing gear extension procedure did not include key information provided by Bombardier concerning the release handle forces, and there was no guidance in the QRH procedure.",
          "The inability of air traffic controllers and pilots of aircraft taking off to observe the meteorological conditions behind Deer Park Hill, an area in which pilots must be able to maintain visual contact with terrain, is a safety issue that needs to be resolved.",
          "Air traffic control's failure to alert the flight crew immediately upon observing the aircraft descending below the minimum altitude restrictions represents a missed opportunity to prevent or mitigate the altitude breach.",
          "The operator was aware of the captain's tendency over a period of at least three years to not always follow standard communication procedures. The informal method the company used to address the issue did not result in any measurable improvement.",
          "There are four factors that were not, but should have been, considered when assessing the risk of using the Boeing 757 aircraft for Antarctic operations:\n the weather criteria for an aeroplane passing the point of safe return should consider the presence of low cloud and fog below the main cloud base as a limiting factor\n there is an increased likelihood of weather conditions deteriorating below minima early in the summer season\n the accuracy of instrument approaches should be treated with caution prior to calibration flights being conducted early in the summer season\n the Royal New Zealand Air Force Boeing aircraft is capable of completing only one type of instrument approach in Antarctica.",
          "The simulator that Air Nelson used for training its pilots in the alternate landing gear extension procedure was not representative of the actual forces required to release the uplock.",
          "The pilot lacked recent experience and training on the aircraft type.",
          "The operator's system for training its pilots did not comply fully with the Civil Aviation Rules or the operator's operations specifications, and did not adequately prepare the pilot for the role and responsibilities required for flight operations that day.",
          "The standard of pilot training and the supervision of operations at Great Barrier Airlines was below that required.",
          "The operator's procedures for single-pilot VFR operations into the Southern Ocean were not complete or adequate at the time of this accident to safely manage the flight.",
          "There was a risk of not knowing an aircraft's capability when using standard passenger weights, and therefore of pilots operating close to the limits of their aircraft's performance.",
          "There was a lack of clarity on whether stock clearing was a permissible activity under the Civil Aviation Rules.",
          "The helicopter manufacturer did not provide information to assist instructors in training for flying in manual mode.",
          "Conduct of the aerial hunting operation potentially without a commercial pilot licence or operating under an air operator certificate, indicating a lack of compliance with the Civil Aviation Rules for commercial operations.",
          "The operator believed that stock clearing was permitted, but had no written guidelines and had not given its pilots flight training in the manoeuvre.",
          "The flight crew's reliance on open-descent mode without adequately monitoring and ensuring compliance with intermediate altitude restrictions led to the aircraft descending below the minimum permitted altitude.",
          "The importance of some critical safety information in Robinson flight manuals was likely to have been diminished by Robinson's use of \"Caution\", rather than \"Warning\", for operating conditions and practices that involve a risk of personal injury or loss of life.",
          "Limitations in the operator's dispatch system for updating flight information might have been a cause of the crews not receiving updated weather information, including SIGMET 28, after they had completed briefing.",
          "The operator had been allowed to continue providing helicopter air operations with little or no intervention from the CAA, in spite of the CAA having identified significant non-compliances with the operator's training system and managerial oversight.",
          "The safety information system's default classification of occurrences as \"minor\" when not selected as \"major,\" leading to a delay in notifying the Commission of significant safety concerns.",
          "The captain and first officer did not adhere to company standard operating procedures for a \"monitored approach\" to the runway in poor meteorological conditions, which eroded safety margins built into the procedures and compromised the safety of the flight.",
          "the management of the weight and balance of the aircraft",
          "The operator's standard operating procedures did not require its pilots to routinely calculate the performance capabilities of their helicopters for the intended flights.",
          "The operator had had four serious landing accidents in three years. While there were some similarities in the circumstances, the factors for most of these accidents were not determined conclusively by the Commission's inquiries or by the operator's internal investigations.",
          "The absence of the 1225 special weather report and the delay in sending the 1332 special weather report, while unlikely to have altered the outcome, need to be examined further to ensure that safety-critical information is passed to crews in a timely manner.",
          "There was a low likelihood of the weather conditions at the Pegasus Field aerodrome deteriorating below minima after an aeroplane passed the point of safe return. However, the potential consequences of that happening were elevated for the Boeing 757 aircraft, because of the lack of alternative approach procedures and aerodromes suitable for this aircraft type.",
          "The CAA had had recurring concerns for the management and standard of operations at Great Barrier Airlines during the 3 years prior to this incident, but the actions taken to address those concerns had been ineffective.",
          "Potentially critical information on a serious incident, recorded in two separate CVRs, was lost because the recordings were not protected.",
          "The safety issue whereby SIGMETs can be misleading or lack clarity because of insufficient reference to recognisable geographic regions.",
          "The lack of a requirement for flight crews to actively use onboard systems, such as the navigation display, to monitor the aircraft's compliance with altitude restrictions during descent in open-descent mode, potentially compromises situational awareness and flight safety.",
          null
         ],
         "marker": {
          "opacity": 0.5,
          "size": 5
         },
         "mode": "markers+text",
         "name": "2_Aviation Safety and Regulatory Compliance Concerns",
         "text": [
          "",
          "",
          "",
          "",
          "",
          "",
          "",
          "",
          "",
          "",
          "",
          "",
          "",
          "",
          "",
          "",
          "",
          "",
          "",
          "",
          "",
          "",
          "",
          "",
          "",
          "",
          "",
          "",
          "",
          "",
          "",
          "",
          "",
          "",
          "",
          "",
          "2_Aviation Safety and Regulatory Compliance Concerns"
         ],
         "textfont": {
          "size": 12
         },
         "type": "scattergl",
         "x": [
          11.339181,
          9.250455,
          -2.160035,
          8.803683,
          -2.1492138,
          9.88953,
          9.702136,
          11.401763,
          8.836378,
          9.822089,
          10.101449,
          9.696929,
          9.55703,
          9.619853,
          9.284174,
          9.796252,
          10.050115,
          9.152197,
          10.244134,
          9.294656,
          9.15455,
          8.888144,
          -2.1504414,
          11.2598505,
          9.246256,
          11.326212,
          9.800775,
          10.038335,
          10.010734,
          9.914896,
          11.26524,
          10.06235,
          9.205302,
          11.164098,
          11.394816,
          8.834476,
          8.915232
         ],
         "y": [
          2.2363286,
          1.1791723,
          8.894251,
          -0.2526498,
          8.885683,
          1.2930193,
          0.82831335,
          2.0161252,
          -0.20718217,
          1.0450732,
          1.8806232,
          0.8033937,
          1.1543981,
          1.1344551,
          1.1705378,
          1.1752131,
          1.5742425,
          1.6041776,
          1.2330313,
          1.4185005,
          1.607625,
          -0.17940548,
          8.886645,
          2.1674492,
          1.3888992,
          2.2214222,
          1.0354341,
          1.5573765,
          1.3101633,
          1.3022797,
          2.1127489,
          1.983644,
          1.2314082,
          2.1052983,
          1.9447767,
          -0.2325463,
          1.9308314
         ]
        },
        {
         "hoverinfo": "text",
         "hovertext": [
          "A mast-bump occurred, which led to rotor divergence and the in-flight break-up.",
          "Aircraft design organisations did not have to consider whether proposed major modifications to an aircraft would significantly alter the use of the aircraft or adversely affect the service life of any component.",
          "The number 4 cylinder upper spark plug was manufactured incorrectly, not being swaged during the manufacturing process, which led to its failure after 121 hours in service.",
          "The in-flight break-up was very unlikely to have been caused by low main rotor RPM (revolutions per minute).",
          "The defective component within the steering selector could not be determined because of incomplete overhaul records.",
          "The imported second-hand engine and its accessories had not been subjected to the inspections and maintenance required for continued airworthiness before they were released to service.",
          "The DENSO W24EMR-C spark plug, originally designed for use in motorcycles, was being used in aircraft engines without being officially approved for such use by DENSO, leading to potential safety risks.",
          "The quality control and traceability of the spark plugs were insufficient to prevent the installation of a defective spark plug, as the failed spark plug had passed through several agents without the defect being detected.",
          "The regulator's guidelines for inspecting used parts of unknown origin were not well defined, and the company's approved procedures developed from these guidelines were not adequate in this case.",
          "The uncommanded turn to the left during take-off was caused by a faulty steering selector.",
          "The cleaning of critical-fit anodised alloy engine parts using a milling solution, which is an unapproved method, leading to the removal of the anodised coating and shrinking of the overall dimensions of the fuel-transfer tubes. This resulted in the o-rings not providing a snug fit, allowing them to move with changes in fuel pressure and eventually deteriorate, causing a fuel leak.",
          "Despite the general acceptance of final inspections after all work has been completed and before the aeroplane is returned to service as best aeronautical engineering practice, incidents of rags being left in the aircraft occurred, indicating a need for more thorough inspections and adherence to procedures developed to prevent foreign objects from being left behind after maintenance.",
          "The failed spark plug allowed hot combustion gases to escape, which ignited the fibreglass baffling and subsequently the carbon fibre fuselage structure, leading to a fire in the engine compartment.",
          "The report of loose objects on one flight deck suggested pilots should take more care to secure items under their control.",
          "The inability to identify the facility where the fuel-transfer tubes had been removed and cleaned in a non-approved manner, indicating a gap in tracking and accountability of maintenance practices.",
          "The lack of evidence of any corrective action by the pilot, suggesting it is about as likely as not that the pilot was incapacitated early in the take-off roll, prior to the point that a turn was required to maintain the optimum line on the airstrip.",
          "Foreign objects left inside an aircraft and around safety-critical components such as flight control systems are a threat to the safe operation of the aircraft. Loose articles can move inside an aircraft and become trapped under moving components, such as control cables and levers, disrupting the normal operation of aircraft systems and damaging system components.",
          "An abrupt, inappropriate or inadvertent cyclic control input by the pilot could not be ruled out as having contributed to the in-flight break-up.",
          "The lack of a requirement for controlling or recording the use of rags during maintenance and cleaning tasks in the flight deck area and in the electronics and equipment compartment allows for the possibility of foreign objects being left behind, which can compromise the integrity of critical aircraft systems.",
          "There was a lack of clear communication and agreement between the spark plug manufacturer (DENSO) and the aviation industry (Guimbal and Light Speed Engineering) regarding the suitability and approval of the DENSO W24EMR-C spark plug for use in aircraft engines.",
          null
         ],
         "marker": {
          "opacity": 0.5,
          "size": 5
         },
         "mode": "markers+text",
         "name": "3_Aircraft Safety and Maintenance Issues",
         "text": [
          "",
          "",
          "",
          "",
          "",
          "",
          "",
          "",
          "",
          "",
          "",
          "",
          "",
          "",
          "",
          "",
          "",
          "",
          "",
          "",
          "3_Aircraft Safety and Maintenance Issues"
         ],
         "textfont": {
          "size": 12
         },
         "type": "scattergl",
         "x": [
          13.515372,
          12.109255,
          11.768453,
          13.546125,
          11.565068,
          12.076504,
          11.688323,
          11.723219,
          11.838855,
          11.547691,
          11.763958,
          9.466342,
          11.706569,
          9.423122,
          11.751222,
          13.646802,
          9.459355,
          13.636032,
          9.450482,
          11.67235,
          11.667754
         ],
         "y": [
          -2.7416253,
          6.405399,
          7.0966215,
          -2.7318375,
          6.313835,
          6.4591665,
          7.1970005,
          7.138235,
          6.6468263,
          6.275455,
          6.853558,
          7.520242,
          7.173096,
          7.563985,
          6.7380614,
          -2.6754403,
          7.527424,
          -2.755831,
          7.536199,
          7.214182,
          5.0377274
         ]
        },
        {
         "hoverinfo": "text",
         "hovertext": [
          "The CAA did not have the appropriate capability to determine independently if the Airways ATN would perform as the rules required.",
          "For a life-raft to be an effective device for increasing the chance of survival in the event of a ditching, it must also be easily extracted from the aircraft so it may be deployed when needed in an emergency.",
          "Parachute drop pilots were not required to wear lifejackets or flotation devices if their flights were expected to remain within gliding distance of land. That scenario downplayed the possibility of a pilot having to ditch an aeroplane or having to use the emergency parachute when over or near water.",
          "The tendency to not wear helmets increased the risk of injury.",
          "Airways' digital data network did not have the resilience necessary to support an ATC service.",
          "the CAA's oversight of the conversion to parachuting",
          "The maintenance inspection programme for the locking springs would have been unlikely to detect the corrosion cracking in the locking springs prior to their failing, and that there was no required preventive maintenance on the locking springs to limit the extent of corrosion damage.",
          "The pilot operated over water without having a life jacket on board, contrary to Civil Aviation Rules. Not wearing a life jacket reduced his chances of survival.",
          "The CAA's oversight of private aircraft owners and pilots, particularly the allocation of fewer resources to the regulation of the non-commercial sector and reliance on participants being responsible for safety and compliance.",
          "The CAA dataset for parachuting occurrences did not include key fields, which likely reduced its effectiveness as a tool for safety management in the sector.",
          "The operator expected the tandem master to have the reserve parachute pack for flotation and therefore did not require them to also wear a lifejacket.",
          "problems with the process for converting the aircraft for parachuting",
          "the CAA's oversight of the parachuting industry",
          "the wearing of restraints in parachute-drop aircraft.",
          "The operator did not have a maintenance and inspection programme in place for its lifejackets to ensure they remained in a serviceable condition.",
          "The risk to people involved in helicopter operations over water will be reduced if quick-donning life jackets are worn at all times where there is the potential for the helicopter to ditch with short notice.",
          "Airways did not conduct maintenance checks of essential equipment to ensure it was resilient to a power supply failure.",
          "The operator's planned water emergency response did not have due regard to the minimum survival time for people immersed in cold water.",
          null
         ],
         "marker": {
          "opacity": 0.5,
          "size": 5
         },
         "mode": "markers+text",
         "name": "4_Safety and Regulatory Oversight in Parachuting and Aircraft Operations",
         "text": [
          "",
          "",
          "",
          "",
          "",
          "",
          "",
          "",
          "",
          "",
          "",
          "",
          "",
          "",
          "",
          "",
          "",
          "",
          "4_Safety and Regulatory Oversight in Parachuting and Aircraft Operations"
         ],
         "textfont": {
          "size": 12
         },
         "type": "scattergl",
         "x": [
          13.899371,
          13.529754,
          13.564587,
          13.380994,
          13.808869,
          14.39575,
          13.702263,
          13.550798,
          14.3667965,
          14.054833,
          13.621065,
          14.374984,
          14.38034,
          13.654096,
          13.627583,
          13.469021,
          13.757359,
          13.565663,
          13.8168955
         ],
         "y": [
          6.255915,
          5.374338,
          5.4530706,
          5.250252,
          6.1622667,
          6.3324585,
          5.858742,
          5.4725723,
          6.3014674,
          6.305727,
          5.685486,
          6.3129644,
          6.322044,
          5.544858,
          5.7968335,
          5.3447514,
          6.099571,
          5.700914,
          5.865235
         ]
        },
        {
         "hoverinfo": "text",
         "hovertext": [
          "Non-compliance, unless addressed as soon as practicable, can quickly become accepted and normalised, increasing the risk of an accident.",
          "The damage to the seals within the extend/retract hydraulic actuator could have initially been caused by a manufacturing defect in the seals or by an incorrect assembly technique. The damage may have been exacerbated by debris in the hydraulic fluid that originated from excessive wear in another actuator in the system, the one that opened and closed the forward nose landing gear doors.",
          "The failure of the nose landing gear to extend fully was most likely caused by debris in the hydraulic fluid blocking orifices within the nose landing gear extend/retract hydraulic actuator. The debris probably came from damaged seals within the actuator.",
          "The isolated nature of the component failure in this occurrence, and the actions the manufacturer had previously undertaken, meant that additional changes to the relevant maintenance procedures were not warranted.",
          "Indications that the right-hand engine was not performing well were not detected by the Maintenance Operation Control due to programming logic errors in the automated engine condition report system. However, even if they had been it is unlikely that any subsequent action would have prevented the engine compressor stall event on landing at Auckland.",
          "The pilots did not use all of the available resources to confirm the nose landing gear position. If they had asked the controller to confirm the status of the nose landing gear, it is likely that they would have taken further action in an attempt to get the nose landing gear locked down.",
          "Repairing and replacing defective components without identifying the reason for their failure in the first place is a serious safety issue that will likely result in repeat accidents and incidents for the same reasons.",
          "Proper follow-up of ARCs is important.",
          "Improper repair and maintenance practices spanning several maintenance organisations and individual maintenance engineers over several years contributed to a series of defects and incidents involving the nose landing gear assembly on the aeroplane.",
          "With the nose landing gear stuck in a partially extended position, light from the taxi light was likely detected by the sensor for the down-lock verification system, causing it to give a false green light.",
          "The design of the BK117 fuel system meant that both engines would lose power at nearly the same time if a pilot mismanaged the fuel system and did not see the low-fuel-level warnings.",
          "Had the pilots known that the nose landing gear was not down and locked and then tried the alternate extension procedure, that action would have been unlikely to succeed because debris would probably still have been blocking the restrictor within the hydraulic actuator.",
          "The long-term and recent ingestion of performance-impairing substances such as cannabis by crew of any transport vehicle is a serious safety issue that needs to be addressed as a matter of priority.",
          "The similarity of text in adjacent steps of the QRH and the lack of numbered steps contributed to the first officer making minor errors in reading the landing gear non-normal procedures. However, these errors did not contribute to the accident.",
          "The aural warnings that not all of the landing gear was locked down were genuine warnings. Pilots must respect warnings. In this case, the pilots should have responded by performing a go-around, which would have given them more time to consider the situation.",
          "The false green light on the verification system misled the pilots of ZK-NEB into believing that the nose landing gear was fully down and locked.",
          "Although much aircraft maintenance is done under supervision, the requirement for a duplicate check after maintenance is limited to a few defined control systems. The landing gear is not one of those systems, but an undetected maintenance error in the landing gear system has the potential to cause a serious incident or accident.",
          "There was no aural warning to alert the pilot to the potential fuel starvation of both engines, which could have prevented the loss of power.",
          "The verification system for checking if the landing gear is down and locked on the Dash 8 series of aircraft is not reliable enough for pilots to place total trust in it when trying to establish the status of the landing gear.",
          "The captain should have explained to the flight attendant the reason for the go-around, even though he believed that the situation had been resolved. The flight attendant would have been better prepared should the landing have been less favourable.",
          "The Minimum Equipment List provision that had previously allowed a flight to commence without an operative nosewheel steering system appeared to be based on operational considerations only, and to have not considered the possibility of a related system failure.",
          "The captain's predetermination of what was going to be required to get the landing gear down and locked interfered with the proper following of the QRH checklist; nevertheless, all of the items were covered.",
          "The non-transmission, non-receipt or mismanagement of engine condition reports, especially those containing significant deviations from normal, can deprive flight crew and maintenance personnel of the opportunity to identify a potential problem early.",
          "Assuming that the reason for the nose landing gear not fully extending was debris in the hydraulic fluid, it is possible that cycling the landing gear up and down again would have succeeded in getting all of the landing gear down and locked. However, that action was not recommended by the aeroplane manufacturer at the time.",
          null
         ],
         "marker": {
          "opacity": 0.5,
          "size": 5
         },
         "mode": "markers+text",
         "name": "5_Aircraft Landing Gear and Maintenance Issues",
         "text": [
          "",
          "",
          "",
          "",
          "",
          "",
          "",
          "",
          "",
          "",
          "",
          "",
          "",
          "",
          "",
          "",
          "",
          "",
          "",
          "",
          "",
          "",
          "",
          "",
          "5_Aircraft Landing Gear and Maintenance Issues"
         ],
         "textfont": {
          "size": 12
         },
         "type": "scattergl",
         "x": [
          12.274423,
          15.014951,
          14.98877,
          13.891752,
          13.772985,
          15.284509,
          13.915306,
          12.2876835,
          13.984991,
          14.632065,
          12.795216,
          15.171454,
          12.164042,
          15.521033,
          15.2553835,
          14.598671,
          14.162667,
          12.847418,
          14.57362,
          15.240402,
          14.118777,
          15.447925,
          12.327223,
          15.168515,
          14.143325
         ],
         "y": [
          2.4144065,
          1.6486323,
          1.6800097,
          2.120872,
          2.0877275,
          1.3196253,
          2.1123834,
          2.4255817,
          2.1504679,
          2.3846557,
          -2.0119016,
          1.49661,
          2.3681567,
          1.0631557,
          1.314082,
          2.3966134,
          2.2682266,
          -1.9350514,
          2.3768342,
          1.3023361,
          2.2526891,
          1.15011,
          2.3915055,
          1.492377,
          1.5945878
         ]
        },
        {
         "hoverinfo": "text",
         "hovertext": [
          "Some New Zealand helicopter pilots may have a culture of operating their aircraft beyond the manufacturers' published and placarded limits, with the possibility that such a culture has become normalised.",
          "The variability in the content, understanding, and delivery of Robinson safety awareness training among instructors in New Zealand, which may affect the effectiveness of training related to preventing mast bumping incidents.",
          "The rate of R22 in-flight break-up accidents in New Zealand has not been reduced by the New Zealand version of the FAA hazard mitigation measures intended to prevent such accidents.",
          "There are no safety issues explicitly stated or inferred in the provided text.",
          "The Taupo Gliding Club had limited systems in place to ensure instructors could positively verify that pilots had appropriate levels of competency to ridge soar on Mount Tauhara and safely conduct training flights on the ridge. This increased the risk of an accident occurring.",
          "It is a safety issue that a person without any prescribed training, knowledge or medical certificate can take non-paying passengers for a balloon flight.",
          "The lack of comprehensive CRM training qualifications for non-pilots acting as crew members, combined with a lack of guidelines on crew members assisting a pilot during NVIS operations, creates an ongoing risk that helicopter NVIS crews will not have effective CRM.",
          "The regulatory oversight of commercial ballooning in New Zealand was not sufficient to ensure a safe and sustainable industry for the New Zealand public.",
          "The lack of requirement for flight data recorders in small and medium helicopters under current International Civil Aviation Organisation (ICAO) standards, which limits the availability of reliable data concerning specific accidents.",
          "Although there was no obvious defect that contributed to the accident, the issue of balloon maintenance standards and the regulatory oversight of those standards was a safety issue.",
          "There are no formal risk controls in New Zealand for helicopter NVIS or air ambulance operations unlike other jurisdictions that have set minimum standards in response to the high accident rate in this sector.",
          "The New Zealand regulatory system has not provided sufficient mandatory requirements and guidance for instructors, pilots and operators of the Robinson type R22 and R44 helicopters to minimise the known risk of exceeding the helicopters' capabilities.",
          "The Taupo Gliding Club did not ensure GNZ instructor training procedures were fully implemented and GNZ audits did not detect this discrepancy. This increased the risk that instructors were not fully competent in all required areas.",
          null
         ],
         "marker": {
          "opacity": 0.5,
          "size": 5
         },
         "mode": "markers+text",
         "name": "6_Safety and Regulatory Issues in New Zealand Aviation Training and Operations",
         "text": [
          "",
          "",
          "",
          "",
          "",
          "",
          "",
          "",
          "",
          "",
          "",
          "",
          "",
          "6_Safety and Regulatory Issues in New Zealand Aviation Training and Operations"
         ],
         "textfont": {
          "size": 12
         },
         "type": "scattergl",
         "x": [
          11.111216,
          11.146434,
          11.22336,
          11.3236265,
          10.441203,
          11.32275,
          11.148482,
          11.297212,
          11.323851,
          11.3207245,
          11.121576,
          11.183126,
          10.3951235,
          11.104514
         ],
         "y": [
          -0.28110448,
          -0.52502507,
          -0.4059083,
          0.2158482,
          0.34210497,
          0.06100248,
          -0.39048392,
          -0.03986952,
          -0.4564577,
          0.11959466,
          -0.28810748,
          -0.3552638,
          0.38502127,
          -0.12451144
         ]
        }
       ],
       "layout": {
        "annotations": [
         {
          "showarrow": false,
          "text": "D1",
          "x": -5.706333875656128,
          "y": 1.8485436558723451,
          "yshift": 10
         },
         {
          "showarrow": false,
          "text": "D2",
          "x": 6.071427202224731,
          "xshift": 10,
          "y": 11.2741370677948
         }
        ],
        "height": 750,
        "shapes": [
         {
          "line": {
           "color": "#CFD8DC",
           "width": 2
          },
          "type": "line",
          "x0": 6.071427202224731,
          "x1": 6.071427202224731,
          "y0": -7.57704975605011,
          "y1": 11.2741370677948
         },
         {
          "line": {
           "color": "#9E9E9E",
           "width": 2
          },
          "type": "line",
          "x0": -5.706333875656128,
          "x1": 17.84918828010559,
          "y0": 1.8485436558723451,
          "y1": 1.8485436558723451
         }
        ],
        "template": {
         "data": {
          "bar": [
           {
            "error_x": {
             "color": "rgb(36,36,36)"
            },
            "error_y": {
             "color": "rgb(36,36,36)"
            },
            "marker": {
             "line": {
              "color": "white",
              "width": 0.5
             },
             "pattern": {
              "fillmode": "overlay",
              "size": 10,
              "solidity": 0.2
             }
            },
            "type": "bar"
           }
          ],
          "barpolar": [
           {
            "marker": {
             "line": {
              "color": "white",
              "width": 0.5
             },
             "pattern": {
              "fillmode": "overlay",
              "size": 10,
              "solidity": 0.2
             }
            },
            "type": "barpolar"
           }
          ],
          "carpet": [
           {
            "aaxis": {
             "endlinecolor": "rgb(36,36,36)",
             "gridcolor": "white",
             "linecolor": "white",
             "minorgridcolor": "white",
             "startlinecolor": "rgb(36,36,36)"
            },
            "baxis": {
             "endlinecolor": "rgb(36,36,36)",
             "gridcolor": "white",
             "linecolor": "white",
             "minorgridcolor": "white",
             "startlinecolor": "rgb(36,36,36)"
            },
            "type": "carpet"
           }
          ],
          "choropleth": [
           {
            "colorbar": {
             "outlinewidth": 1,
             "tickcolor": "rgb(36,36,36)",
             "ticks": "outside"
            },
            "type": "choropleth"
           }
          ],
          "contour": [
           {
            "colorbar": {
             "outlinewidth": 1,
             "tickcolor": "rgb(36,36,36)",
             "ticks": "outside"
            },
            "colorscale": [
             [
              0,
              "#440154"
             ],
             [
              0.1111111111111111,
              "#482878"
             ],
             [
              0.2222222222222222,
              "#3e4989"
             ],
             [
              0.3333333333333333,
              "#31688e"
             ],
             [
              0.4444444444444444,
              "#26828e"
             ],
             [
              0.5555555555555556,
              "#1f9e89"
             ],
             [
              0.6666666666666666,
              "#35b779"
             ],
             [
              0.7777777777777778,
              "#6ece58"
             ],
             [
              0.8888888888888888,
              "#b5de2b"
             ],
             [
              1,
              "#fde725"
             ]
            ],
            "type": "contour"
           }
          ],
          "contourcarpet": [
           {
            "colorbar": {
             "outlinewidth": 1,
             "tickcolor": "rgb(36,36,36)",
             "ticks": "outside"
            },
            "type": "contourcarpet"
           }
          ],
          "heatmap": [
           {
            "colorbar": {
             "outlinewidth": 1,
             "tickcolor": "rgb(36,36,36)",
             "ticks": "outside"
            },
            "colorscale": [
             [
              0,
              "#440154"
             ],
             [
              0.1111111111111111,
              "#482878"
             ],
             [
              0.2222222222222222,
              "#3e4989"
             ],
             [
              0.3333333333333333,
              "#31688e"
             ],
             [
              0.4444444444444444,
              "#26828e"
             ],
             [
              0.5555555555555556,
              "#1f9e89"
             ],
             [
              0.6666666666666666,
              "#35b779"
             ],
             [
              0.7777777777777778,
              "#6ece58"
             ],
             [
              0.8888888888888888,
              "#b5de2b"
             ],
             [
              1,
              "#fde725"
             ]
            ],
            "type": "heatmap"
           }
          ],
          "heatmapgl": [
           {
            "colorbar": {
             "outlinewidth": 1,
             "tickcolor": "rgb(36,36,36)",
             "ticks": "outside"
            },
            "colorscale": [
             [
              0,
              "#440154"
             ],
             [
              0.1111111111111111,
              "#482878"
             ],
             [
              0.2222222222222222,
              "#3e4989"
             ],
             [
              0.3333333333333333,
              "#31688e"
             ],
             [
              0.4444444444444444,
              "#26828e"
             ],
             [
              0.5555555555555556,
              "#1f9e89"
             ],
             [
              0.6666666666666666,
              "#35b779"
             ],
             [
              0.7777777777777778,
              "#6ece58"
             ],
             [
              0.8888888888888888,
              "#b5de2b"
             ],
             [
              1,
              "#fde725"
             ]
            ],
            "type": "heatmapgl"
           }
          ],
          "histogram": [
           {
            "marker": {
             "line": {
              "color": "white",
              "width": 0.6
             }
            },
            "type": "histogram"
           }
          ],
          "histogram2d": [
           {
            "colorbar": {
             "outlinewidth": 1,
             "tickcolor": "rgb(36,36,36)",
             "ticks": "outside"
            },
            "colorscale": [
             [
              0,
              "#440154"
             ],
             [
              0.1111111111111111,
              "#482878"
             ],
             [
              0.2222222222222222,
              "#3e4989"
             ],
             [
              0.3333333333333333,
              "#31688e"
             ],
             [
              0.4444444444444444,
              "#26828e"
             ],
             [
              0.5555555555555556,
              "#1f9e89"
             ],
             [
              0.6666666666666666,
              "#35b779"
             ],
             [
              0.7777777777777778,
              "#6ece58"
             ],
             [
              0.8888888888888888,
              "#b5de2b"
             ],
             [
              1,
              "#fde725"
             ]
            ],
            "type": "histogram2d"
           }
          ],
          "histogram2dcontour": [
           {
            "colorbar": {
             "outlinewidth": 1,
             "tickcolor": "rgb(36,36,36)",
             "ticks": "outside"
            },
            "colorscale": [
             [
              0,
              "#440154"
             ],
             [
              0.1111111111111111,
              "#482878"
             ],
             [
              0.2222222222222222,
              "#3e4989"
             ],
             [
              0.3333333333333333,
              "#31688e"
             ],
             [
              0.4444444444444444,
              "#26828e"
             ],
             [
              0.5555555555555556,
              "#1f9e89"
             ],
             [
              0.6666666666666666,
              "#35b779"
             ],
             [
              0.7777777777777778,
              "#6ece58"
             ],
             [
              0.8888888888888888,
              "#b5de2b"
             ],
             [
              1,
              "#fde725"
             ]
            ],
            "type": "histogram2dcontour"
           }
          ],
          "mesh3d": [
           {
            "colorbar": {
             "outlinewidth": 1,
             "tickcolor": "rgb(36,36,36)",
             "ticks": "outside"
            },
            "type": "mesh3d"
           }
          ],
          "parcoords": [
           {
            "line": {
             "colorbar": {
              "outlinewidth": 1,
              "tickcolor": "rgb(36,36,36)",
              "ticks": "outside"
             }
            },
            "type": "parcoords"
           }
          ],
          "pie": [
           {
            "automargin": true,
            "type": "pie"
           }
          ],
          "scatter": [
           {
            "fillpattern": {
             "fillmode": "overlay",
             "size": 10,
             "solidity": 0.2
            },
            "type": "scatter"
           }
          ],
          "scatter3d": [
           {
            "line": {
             "colorbar": {
              "outlinewidth": 1,
              "tickcolor": "rgb(36,36,36)",
              "ticks": "outside"
             }
            },
            "marker": {
             "colorbar": {
              "outlinewidth": 1,
              "tickcolor": "rgb(36,36,36)",
              "ticks": "outside"
             }
            },
            "type": "scatter3d"
           }
          ],
          "scattercarpet": [
           {
            "marker": {
             "colorbar": {
              "outlinewidth": 1,
              "tickcolor": "rgb(36,36,36)",
              "ticks": "outside"
             }
            },
            "type": "scattercarpet"
           }
          ],
          "scattergeo": [
           {
            "marker": {
             "colorbar": {
              "outlinewidth": 1,
              "tickcolor": "rgb(36,36,36)",
              "ticks": "outside"
             }
            },
            "type": "scattergeo"
           }
          ],
          "scattergl": [
           {
            "marker": {
             "colorbar": {
              "outlinewidth": 1,
              "tickcolor": "rgb(36,36,36)",
              "ticks": "outside"
             }
            },
            "type": "scattergl"
           }
          ],
          "scattermapbox": [
           {
            "marker": {
             "colorbar": {
              "outlinewidth": 1,
              "tickcolor": "rgb(36,36,36)",
              "ticks": "outside"
             }
            },
            "type": "scattermapbox"
           }
          ],
          "scatterpolar": [
           {
            "marker": {
             "colorbar": {
              "outlinewidth": 1,
              "tickcolor": "rgb(36,36,36)",
              "ticks": "outside"
             }
            },
            "type": "scatterpolar"
           }
          ],
          "scatterpolargl": [
           {
            "marker": {
             "colorbar": {
              "outlinewidth": 1,
              "tickcolor": "rgb(36,36,36)",
              "ticks": "outside"
             }
            },
            "type": "scatterpolargl"
           }
          ],
          "scatterternary": [
           {
            "marker": {
             "colorbar": {
              "outlinewidth": 1,
              "tickcolor": "rgb(36,36,36)",
              "ticks": "outside"
             }
            },
            "type": "scatterternary"
           }
          ],
          "surface": [
           {
            "colorbar": {
             "outlinewidth": 1,
             "tickcolor": "rgb(36,36,36)",
             "ticks": "outside"
            },
            "colorscale": [
             [
              0,
              "#440154"
             ],
             [
              0.1111111111111111,
              "#482878"
             ],
             [
              0.2222222222222222,
              "#3e4989"
             ],
             [
              0.3333333333333333,
              "#31688e"
             ],
             [
              0.4444444444444444,
              "#26828e"
             ],
             [
              0.5555555555555556,
              "#1f9e89"
             ],
             [
              0.6666666666666666,
              "#35b779"
             ],
             [
              0.7777777777777778,
              "#6ece58"
             ],
             [
              0.8888888888888888,
              "#b5de2b"
             ],
             [
              1,
              "#fde725"
             ]
            ],
            "type": "surface"
           }
          ],
          "table": [
           {
            "cells": {
             "fill": {
              "color": "rgb(237,237,237)"
             },
             "line": {
              "color": "white"
             }
            },
            "header": {
             "fill": {
              "color": "rgb(217,217,217)"
             },
             "line": {
              "color": "white"
             }
            },
            "type": "table"
           }
          ]
         },
         "layout": {
          "annotationdefaults": {
           "arrowhead": 0,
           "arrowwidth": 1
          },
          "autotypenumbers": "strict",
          "coloraxis": {
           "colorbar": {
            "outlinewidth": 1,
            "tickcolor": "rgb(36,36,36)",
            "ticks": "outside"
           }
          },
          "colorscale": {
           "diverging": [
            [
             0,
             "rgb(103,0,31)"
            ],
            [
             0.1,
             "rgb(178,24,43)"
            ],
            [
             0.2,
             "rgb(214,96,77)"
            ],
            [
             0.3,
             "rgb(244,165,130)"
            ],
            [
             0.4,
             "rgb(253,219,199)"
            ],
            [
             0.5,
             "rgb(247,247,247)"
            ],
            [
             0.6,
             "rgb(209,229,240)"
            ],
            [
             0.7,
             "rgb(146,197,222)"
            ],
            [
             0.8,
             "rgb(67,147,195)"
            ],
            [
             0.9,
             "rgb(33,102,172)"
            ],
            [
             1,
             "rgb(5,48,97)"
            ]
           ],
           "sequential": [
            [
             0,
             "#440154"
            ],
            [
             0.1111111111111111,
             "#482878"
            ],
            [
             0.2222222222222222,
             "#3e4989"
            ],
            [
             0.3333333333333333,
             "#31688e"
            ],
            [
             0.4444444444444444,
             "#26828e"
            ],
            [
             0.5555555555555556,
             "#1f9e89"
            ],
            [
             0.6666666666666666,
             "#35b779"
            ],
            [
             0.7777777777777778,
             "#6ece58"
            ],
            [
             0.8888888888888888,
             "#b5de2b"
            ],
            [
             1,
             "#fde725"
            ]
           ],
           "sequentialminus": [
            [
             0,
             "#440154"
            ],
            [
             0.1111111111111111,
             "#482878"
            ],
            [
             0.2222222222222222,
             "#3e4989"
            ],
            [
             0.3333333333333333,
             "#31688e"
            ],
            [
             0.4444444444444444,
             "#26828e"
            ],
            [
             0.5555555555555556,
             "#1f9e89"
            ],
            [
             0.6666666666666666,
             "#35b779"
            ],
            [
             0.7777777777777778,
             "#6ece58"
            ],
            [
             0.8888888888888888,
             "#b5de2b"
            ],
            [
             1,
             "#fde725"
            ]
           ]
          },
          "colorway": [
           "#1F77B4",
           "#FF7F0E",
           "#2CA02C",
           "#D62728",
           "#9467BD",
           "#8C564B",
           "#E377C2",
           "#7F7F7F",
           "#BCBD22",
           "#17BECF"
          ],
          "font": {
           "color": "rgb(36,36,36)"
          },
          "geo": {
           "bgcolor": "white",
           "lakecolor": "white",
           "landcolor": "white",
           "showlakes": true,
           "showland": true,
           "subunitcolor": "white"
          },
          "hoverlabel": {
           "align": "left"
          },
          "hovermode": "closest",
          "mapbox": {
           "style": "light"
          },
          "paper_bgcolor": "white",
          "plot_bgcolor": "white",
          "polar": {
           "angularaxis": {
            "gridcolor": "rgb(232,232,232)",
            "linecolor": "rgb(36,36,36)",
            "showgrid": false,
            "showline": true,
            "ticks": "outside"
           },
           "bgcolor": "white",
           "radialaxis": {
            "gridcolor": "rgb(232,232,232)",
            "linecolor": "rgb(36,36,36)",
            "showgrid": false,
            "showline": true,
            "ticks": "outside"
           }
          },
          "scene": {
           "xaxis": {
            "backgroundcolor": "white",
            "gridcolor": "rgb(232,232,232)",
            "gridwidth": 2,
            "linecolor": "rgb(36,36,36)",
            "showbackground": true,
            "showgrid": false,
            "showline": true,
            "ticks": "outside",
            "zeroline": false,
            "zerolinecolor": "rgb(36,36,36)"
           },
           "yaxis": {
            "backgroundcolor": "white",
            "gridcolor": "rgb(232,232,232)",
            "gridwidth": 2,
            "linecolor": "rgb(36,36,36)",
            "showbackground": true,
            "showgrid": false,
            "showline": true,
            "ticks": "outside",
            "zeroline": false,
            "zerolinecolor": "rgb(36,36,36)"
           },
           "zaxis": {
            "backgroundcolor": "white",
            "gridcolor": "rgb(232,232,232)",
            "gridwidth": 2,
            "linecolor": "rgb(36,36,36)",
            "showbackground": true,
            "showgrid": false,
            "showline": true,
            "ticks": "outside",
            "zeroline": false,
            "zerolinecolor": "rgb(36,36,36)"
           }
          },
          "shapedefaults": {
           "fillcolor": "black",
           "line": {
            "width": 0
           },
           "opacity": 0.3
          },
          "ternary": {
           "aaxis": {
            "gridcolor": "rgb(232,232,232)",
            "linecolor": "rgb(36,36,36)",
            "showgrid": false,
            "showline": true,
            "ticks": "outside"
           },
           "baxis": {
            "gridcolor": "rgb(232,232,232)",
            "linecolor": "rgb(36,36,36)",
            "showgrid": false,
            "showline": true,
            "ticks": "outside"
           },
           "bgcolor": "white",
           "caxis": {
            "gridcolor": "rgb(232,232,232)",
            "linecolor": "rgb(36,36,36)",
            "showgrid": false,
            "showline": true,
            "ticks": "outside"
           }
          },
          "title": {
           "x": 0.05
          },
          "xaxis": {
           "automargin": true,
           "gridcolor": "rgb(232,232,232)",
           "linecolor": "rgb(36,36,36)",
           "showgrid": false,
           "showline": true,
           "ticks": "outside",
           "title": {
            "standoff": 15
           },
           "zeroline": false,
           "zerolinecolor": "rgb(36,36,36)"
          },
          "yaxis": {
           "automargin": true,
           "gridcolor": "rgb(232,232,232)",
           "linecolor": "rgb(36,36,36)",
           "showgrid": false,
           "showline": true,
           "ticks": "outside",
           "title": {
            "standoff": 15
           },
           "zeroline": false,
           "zerolinecolor": "rgb(36,36,36)"
          }
         }
        },
        "title": {
         "font": {
          "color": "Black",
          "size": 22
         },
         "text": "<b>Documents and Topics</b>",
         "x": 0.5,
         "xanchor": "center",
         "yanchor": "top"
        },
        "width": 1200,
        "xaxis": {
         "visible": false
        },
        "yaxis": {
         "visible": false
        }
       }
      }
     },
     "metadata": {},
     "output_type": "display_data"
    },
    {
     "data": {
      "application/vnd.plotly.v1+json": {
       "config": {
        "plotlyServerURL": "https://plot.ly"
       },
       "data": [
        {
         "hoverinfo": "text",
         "hovertext": [
          null
         ],
         "marker": {
          "color": "#CFD8DC",
          "opacity": 0.5,
          "size": 5
         },
         "mode": "markers+text",
         "name": "other",
         "showlegend": false,
         "type": "scattergl",
         "x": [
          null
         ],
         "y": [
          null
         ]
        },
        {
         "hoverinfo": "text",
         "hovertext": [
          "KiwiRail had not communicated effectively to staff about the replacement of an old procedure for recovering stalled trains at Paerata with the existing Operating Rule 124 (d).",
          "The Application for Planned Work submitted by the track ganger was incomplete because it did not include a communication plan, and it contained erroneous information. The work plan therefore should not have been approved by the work planning group.",
          "The amended communication plan increased the risk to the maintenance operation because: the protection person with the radio was in an area less likely to have good radio reception; the protection person could not see the work gang; and it added an additional step using another means of communication. It is a safety issue that the amended communication plan still complied with KiwiRail procedures.",
          "The KiwiRail system for planning track maintenance did not promote the co-ordination of separate jobs to be done on the same section of track into one track occupation.",
          "Non-compliance with KiwiRail's procedures by the track maintenance work group and the network authority is a safety issue.",
          "Both the track ganger and the protection person had completed their Level C track protection theory training but it could not be determined from KiwiRail's training records whether they had been assessed for and demonstrated competency in their respective roles.",
          "Bulletins are sent out with important information that some recipients do not comprehend or disregard as being unimportant to them. The format of such an important document should be reviewed by KiwiRail in consultation with the target audience to ensure that it clearly conveys the appropriate information.",
          "The New Zealand Rail Operating Rules and Procedures did not provide guidance on how to manage work trains within a worksite and did not differentiate between a train moving to a point where work needs to take place and a train carrying out its designated work as a work train.",
          "The errors in the work plan submitted; the omission of the required communication plan; the decision to rely on a protection person located where he could not see the worksite; and stabling hi-rail vehicles on a runaway road without authority, are collectively suggestive that the track ganger was not sufficiently trained and experienced to be in charge of the work group on the day.",
          "none of the workers, including the production manager, had been trained in or had any knowledge of KiwiRail's non-technical skills practices. The application of these skills could have prevented this incident.",
          "No systematic assessment had been undertaken to identify safety-critical systems and their components, and there were no mandatory checks by people independent of those doing the work that the work had been performed in accordance with the Code.",
          "KiwiRail's Risk Management Policy for \"continuity of core services\" did not give proper consideration to the safety of passengers and crew when a core service such as train control failed, causing the widespread stoppage of an entire metropolitan passenger rail system.",
          "There was little or no warning system built in to KiwiRail's procedures to mitigate the risk of the track warrant control system failing due to human error.",
          "A failure by KiwiRail to follow its operating rules and procedures at the planning stage of the work assignment resulted in the work group being under-resourced to manage the protection and safety of the track maintenance workers effectively.",
          "KiwiRail did not have a procedure to cover the operation of the mobility hoist. It had had one in the past, but the instructions had been removed from the Rail Operating Code when the second issue of Section 1 (Passenger Rolling Stock Restrictions) came into effect.",
          "KiwiRail was unable to provide the Commission with the certificate of compliance for the fractured switch rail, indicating a potential gap in recordkeeping or quality assurance processes.",
          "The protection person was being used by KiwiRail to provide protection for individual worksites within longer work areas, but KiwiRail had not formally incorporated this work practice into its rules at the time of this occurrence. Consequently, the role and methods of operation were not clear.",
          "KiwiRail's general rule for track closure permits did not require a cross-check confirmation between a train controller and a person in charge of a work site that control blocking protection for the work area had been applied.",
          "No-one involved with loading, shifting and securing the wagon body was sufficiently familiar with the KiwiRail Freight Handling Code to realise that the securing arrangement was not compliant with the Code.",
          "the KiwiRail system allowed the team leader, with all of the tasks and responsibilities associated with that role, to take on the safety-critical role of rail protection officer.",
          "the process for planning and approving the worksite allowed one person to carry out the rail protection duties over two separate worksites within a protected work area for a 52.5-hour track occupation period, with no relief",
          "KiwiRail's system for training and assessment did not ensure on this occasion that the track ganger and protection person were correctly certified to undertake the duties they were performing on that day.",
          "Transdev had no policies or procedures in place to guide its train crew in responding to unusual situations.",
          "the KiwiRail medical assessment process did not ensure that the employee being assessed completed the online medical questionnaire themselves. There is some evidence that the system could potentially allow managers or others to complete the questionnaire on employees' behalf.",
          "The MDD class special-movement wagon allocated to transport the load from Dunedin to Christchurch had not been furnished with the appropriate load-securing equipment.",
          "the New Zealand Rail Regulatory System has no minimum standards for fire detection or suppression systems on freight locomotives and passenger trains on the New Zealand rail network.",
          "KiwiRail's current policy and procedures regarding information that train controllers should give to train drivers about the routes set for their trains and other factors that are likely to affect the trains' progress are unclear and not consistent with protocols for good communication and crew resource management.",
          "the process for planning and approving the worksite was not fully completed as required by KiwiRail processes",
          "The system for recording and monitoring the effects of track repair and maintenance was not picking up that the repair and maintenance work was not remedying identified track defects.",
          "KiwiRail did not have a mature fatigue risk management system to ensure that relevant personnel performed at adequate levels of alertness.",
          "the operating procedures and training given to train crews to respond effectively in the event of a fire on a train were inconsistent across New Zealand's main rail operators.",
          "Numerous examples of non-compliance with KiwiRail operating standards were evident at the worksite, of which some were contributory to the accident.",
          "The track ganger should have recognised that the amended communication plan had failed when 2 passenger trains had been allowed through the work area on the adjacent track without being contacted by the protection person.",
          "The track faults identified by the track evaluation car were not closed out in accordance with company standards.",
          "The level of audit and compliance testing of the Invercargill Joint Operating Plan were not robust in detecting and addressing compliance issues in the Invercargill yard.",
          "There was no procedure for identifying, evaluating and rectifying track twists of a repetitive cyclic nature.",
          "The timing of the maintenance work was planned around the availability of the person in charge rather than optimising efficiency with the least disruption to rail services.",
          "The protection person did not follow the amended communication plan. He did not, as required, phone the track ganger to ensure that he and his colleague were off the tracks before allowing the train to proceed. His failure to do so was the final act that contributed to the incident.",
          "The Wellington metro maintenance depot lacked documented task instructions for performing safety-critical tasks on the Ganz Mavag fleet, and there was no means of recording progress against the individual steps in the task.",
          "The special bulletin outlining the plan for the major infrastructure and maintenance work did not present information to maintenance and operational staff in a clear and logical format.",
          "No procedures were in place to direct train crews and controllers in the action to be taken in the event of berthing on the West Main Line.",
          "KiwiRail's safety system could not ensure that infrastructure staff were competent to perform their roles, and could not ensure that the appropriate safety observations and revalidations of current staff competency had been undertaken.",
          null
         ],
         "marker": {
          "opacity": 0.5,
          "size": 5
         },
         "mode": "markers+text",
         "name": "0_Issues in KiwiRail's Operational Procedures and Safety Compliance",
         "text": [
          "",
          "",
          "",
          "",
          "",
          "",
          "",
          "",
          "",
          "",
          "",
          "",
          "",
          "",
          "",
          "",
          "",
          "",
          "",
          "",
          "",
          "",
          "",
          "",
          "",
          "",
          "",
          "",
          "",
          "",
          "",
          "",
          "",
          "",
          "",
          "",
          "",
          "",
          "",
          "",
          "",
          "",
          "0_Issues in KiwiRail's Operational Procedures and Safety Compliance"
         ],
         "textfont": {
          "size": 12
         },
         "type": "scattergl",
         "x": [
          8.831712,
          11.374184,
          11.268678,
          9.198709,
          8.833429,
          8.076716,
          9.47004,
          8.882999,
          11.372708,
          8.414669,
          8.08552,
          9.099403,
          8.272253,
          8.71726,
          8.872539,
          8.338106,
          8.048332,
          7.905843,
          7.7041597,
          8.067426,
          8.011918,
          8.064487,
          8.711566,
          8.15001,
          7.586166,
          8.932144,
          9.105986,
          8.672705,
          9.594354,
          8.132033,
          8.930727,
          8.874977,
          11.321761,
          9.686665,
          8.659379,
          9.685348,
          9.264382,
          11.352851,
          8.920923,
          9.42672,
          8.698369,
          8.130625,
          8.970208
         ],
         "y": [
          9.589661,
          15.532992,
          15.419897,
          8.834885,
          9.071254,
          8.733719,
          9.382388,
          9.675817,
          15.531321,
          9.278857,
          8.795925,
          10.008469,
          9.135736,
          9.237392,
          9.68222,
          8.940367,
          8.418525,
          9.062942,
          9.316999,
          8.462614,
          8.392203,
          9.071244,
          10.221592,
          8.932641,
          9.404214,
          10.243369,
          9.947961,
          9.315306,
          8.350785,
          9.16332,
          10.180421,
          9.060286,
          15.479145,
          8.252179,
          8.920956,
          8.254682,
          8.765318,
          15.511076,
          9.050806,
          9.275468,
          10.203483,
          8.884866,
          9.9284115
         ]
        },
        {
         "hoverinfo": "text",
         "hovertext": [
          "the rail protection officer tested positive for methamphetamine during a post-incident drug and alcohol test. Under KiwiRail's random testing policy, only 10% of workers were tested each year. The rail protection officer had not been tested for 10 years.",
          "A large number of rail movements and track activities are not electronically visible to train control at any given time.",
          "Issuing track warrants to infrastructure staff, hi-rail vehicles and trolley users that are conditional on the departure of trains from an \"at location\" presents a risk to these groups if they do not adhere to a warrant's conditions.",
          "Train control protocols required train controllers to work their shifts without any certainty of reasonable breaks.",
          "There was no evidence that the rail industry had been consulted on legislative changes affecting the safety of the rail corridor.",
          "The train controller received insufficient support and supervision during her shift even though she was performing a safety-critical function with a higher-than-usual level of risk.",
          "The passenger train was not electronically visible to the train controller when he authorised the person-in-charge's track occupation. A significant portion of the controlled rail network, and therefore a large number of rail movements and track activities, is not electronically visible to train control at any given time.",
          "The driver of the southbound train had been prescribed a collection of medications that either singularly or collectively had the potential to adversely affect his performance, and this had gone undetected or unresolved by KiwiRail's health professionals.",
          "Poor planning and co-ordination of track infrastructure activities unnecessarily exacerbated the complexity of the train controller's work on the day of the incident. Train controllers are responsible for co-ordinating and managing high volumes of routine and unplanned track infrastructure activities. This increases the complexity of their role. In these situations, mistakes can occur.",
          "The use of performance-impairing substances by train drivers is a significant safety issue.",
          "the train controller was performing a safety-critical role and was directly involved in the incident, yet he was not asked to undergo a post-incident drug and alcohol test.",
          "Train control's workplace culture at the time of the incident did not encourage train controllers to ask for help.",
          "A planned change to the train controller's workload was not assessed and managed in a way that recognised its higher-than-usual level of risk.",
          "The train controller, who was performing a safety-critical function with a higher-than-usual level of risk, was able to become highly stressed and mentally fatigued during her shift without anyone being aware of, or anticipating, this.",
          "The train controller had been involved in three operating irregularities during the previous 16 months and KiwiRail had identified his having concentration and focus issues. Despite this KiwiRail had allowed him to continue in the train controller role.",
          "The use of cannabis by staff performing safety-critical tasks is of concern, and was contrary to KiwiRail's drug and alcohol policy at the time of the incident.",
          "The standard roster that the train controller was working in the weeks leading up to the incident did not offer the train controller sufficient opportunity to recover from any sleep debt incurred after a shift cycle.",
          "Safety-critical rail workers are not required to declare prescribed medications they are taking when presenting for triggered health assessments.",
          "There was no requirement for general medical practitioners to inform appropriate authorities when medical issues were diagnosed that could affect the performance of people working in safety-critical roles in the rail industry.",
          "The train controller had not consumed any food for about 15 hours before the incident. Train controllers who do not eat properly and regularly during their shifts and/or who do not take rest breaks during their shifts may become mentally fatigued. In these circumstances, train controllers are more likely to make mistakes.",
          "The track warrant control method of protection was reliant on the addressee (the holder of the track warrant) complying with all instructions.",
          "The fact that the driver of the Melling 2 train had cannabis in his system is a serious safety issue.",
          "The train controller made an assumption about the location of the passenger train and did not confirm this location before authorising the person-in-charge's track occupation. Assumptions made by train controllers about the locations of trains and other rail vehicles are a real and constant risk that must be continually and properly managed.",
          "The use of performance-impairing substances by train drivers is a significant safety issue.",
          "Minimal training and education about detecting and managing stress and fatigue was provided to the train controller (and other train controllers) before the incident, even though she was performing a safety-critical function.",
          "Human memory can be influenced by a number of factors, including high workload, late running, distraction, and environmental conditions. Therefore, it becomes important that controls are put in place to reduce the risk of human error.",
          null
         ],
         "marker": {
          "opacity": 0.5,
          "size": 5
         },
         "mode": "markers+text",
         "name": "1_Safety and Risk Management in Rail Operations",
         "text": [
          "",
          "",
          "",
          "",
          "",
          "",
          "",
          "",
          "",
          "",
          "",
          "",
          "",
          "",
          "",
          "",
          "",
          "",
          "",
          "",
          "",
          "",
          "",
          "",
          "",
          "",
          "1_Safety and Risk Management in Rail Operations"
         ],
         "textfont": {
          "size": 12
         },
         "type": "scattergl",
         "x": [
          8.856305,
          11.021465,
          11.035367,
          10.4285965,
          9.413936,
          10.129633,
          11.064207,
          9.234309,
          10.948303,
          8.463069,
          9.714651,
          10.061417,
          10.04274,
          10.070212,
          9.3489065,
          8.709226,
          10.283865,
          9.239109,
          9.377101,
          10.421244,
          11.031879,
          8.478117,
          11.044061,
          8.412277,
          10.086518,
          10.465012,
          9.89929
         ],
         "y": [
          2.762673,
          4.444397,
          4.8413835,
          3.6445973,
          2.7600799,
          3.4413307,
          4.4966717,
          2.9739547,
          4.3639035,
          2.6588254,
          3.063067,
          3.3744125,
          3.368732,
          3.391484,
          3.2032146,
          2.6979566,
          3.5429754,
          2.754227,
          2.7679536,
          3.6491463,
          4.8607025,
          2.659489,
          4.4775734,
          2.6314678,
          3.4006126,
          3.69132,
          3.4585443
         ]
        },
        {
         "hoverinfo": "text",
         "hovertext": [
          "The RPO allowed a signals technician to enter the PWA without following the procedure prescribed in rule 902, resulting in a significant safety barrier being breached.",
          "The process for upgrading the signal box display had not ensured that the mimic screen matched the physical track layout, and had not detected the absence of an interlock to prevent the signallers setting the points to a configuration over which it was not possible for rail traffic to travel.",
          "The crossing loops' semi-automatic system lacks visibility for train control regarding how the points are set or what the signals are displaying, requiring manual input from train drivers to activate the points to enter a crossing loop.",
          "The TMP did not fully identify the risks to road and rail vehicles approaching the crossing.",
          "There were several procedural lapses by three experienced rail staff members between the coupling of the two locomotives at Auckland and the train examiner's dismounting from the train 12 hours later.",
          "The absence of trackside distance markers to support the stabilised approach braking technique potentially compromises the ability of train drivers to control train speed and stop before signals at crossing loops.",
          "The procedure for manually setting and isolating points at crossing loops to prevent automatic resetting and ensure trains pass straight on the main line was not correctly followed, leading to the freight train being wrongly routed into the loop.",
          "Records show that the signaller had successfully passed her theory training for signalling operations, but gaps were noted relating to her practical training using the Mis.60 procedure. This gap in her training had never been resolved.",
          "The lack of a requirement for a second person to verify the correct setting and isolation of points at crossing loops introduces a risk of single-person errors leading to incidents.",
          "Misunderstandings and procedural lapses allowed the signals technician to commence work in the rail corridor with a false sense of security, potentially putting them at risk from rail traffic.",
          "The train driver's reliance on incorrect information received from train control and the workgroup team leader, without verifying the points' setting at the crossing loop, led to a signal passed at danger (SPAD) incident.",
          "Selection of level crossings for regular risk review LCSIAs, and often upgrade, is not being effectively prioritised towards those with greatest estimated risk.",
          "The amendments to the Rule did not consider the risks to road and rail users at level crossings in close proximity to road intersections.",
          "Level crossing safety scores (LCSS) have little influence on the prioritisation of level crossing upgrades.",
          "The lever in the signal box that was used to change the aspect of Signal 3A at Papakura should have had a double \"blocking\" ability to remind the signaler that 2 authorisations from 2 different people were required before she should change the signal aspect, but the system had not been designed to enable that.",
          "there was insufficient management of the rail protection officer's day-to-day workload, which likely contributed to his being fatigued at the time he reported the track as clear, when it was not.",
          "Work within the rail corridor was undertaken without a permit to do so being obtained. As a result, potential risk-mitigation actions that were required prior to the issue of the permit were not completed. Not obtaining a permit increased the risk to road and rail users approaching the crossing.",
          "The signaller was certified and therefore qualified to operate the Papakura signal box, but she had had only 8 months' total experience as a signal box controller and had not worked there in the previous 6 months, which may not have been enough total and recent experience to deal with the complexity of operations at the time of the incident.",
          "The incomplete electrical plug connection went undetected by several rail staff.",
          "The train driver did not challenge the train controller when told by him that his train was routed to cross over onto what he had known was a section of track closed for maintenance work.",
          "Veolia had updated its safety case to reflect the 2006 contract variation that saw it take responsibility for 3 signal boxes, but it had not developed a plan within its safety system to show how it intended to manage the operation. Rather it relied on the train control/signaller experience within its management team to provide oversight of the function.",
          "The existing system allowed for heavy trains to use the crossing loop, which had previously been identified as a risk following a similar derailment in 2016, but no preventive measures were implemented until after this incident.",
          "SFAIRP assessments were not being routinely carried out for risk treatments recommended in LCSIA reports. No process, and minimal guidance, on SFAIRP assessment for level crossing risk treatments was available in industry documents.",
          "The signalling system provided a proceed signal into the damaged section because the electrical circuit was completed despite the switch rail being fractured, which did not prevent the train from entering the faulty track section.",
          "The signaller had not undergone the required formal level A safety observations after gaining certifications at both the Papakura and Pukekohe signal boxes.",
          "Miscommunication between the workgroup team leader and train control regarding the status of points, and the failure to confirm and correctly document the points' status, contributed to the incident.",
          "The signallers lacked some familiarity with the physical layout and equipment capabilities in the Wellington yard that they were controlling.",
          null
         ],
         "marker": {
          "opacity": 0.5,
          "size": 5
         },
         "mode": "markers+text",
         "name": "2_Rail Safety and Signal Management Issues",
         "text": [
          "",
          "",
          "",
          "",
          "",
          "",
          "",
          "",
          "",
          "",
          "",
          "",
          "",
          "",
          "",
          "",
          "",
          "",
          "",
          "",
          "",
          "",
          "",
          "",
          "",
          "",
          "",
          "2_Rail Safety and Signal Management Issues"
         ],
         "textfont": {
          "size": 12
         },
         "type": "scattergl",
         "x": [
          4.9011273,
          5.157348,
          5.1586194,
          5.042301,
          4.8363857,
          5.066637,
          5.34592,
          3.1445572,
          5.2284374,
          5.010821,
          5.4482927,
          5.1176734,
          5.0425916,
          5.0894947,
          3.167553,
          5.0518265,
          5.087175,
          3.1361585,
          4.9304066,
          5.555608,
          3.2877817,
          5.4391723,
          5.154829,
          5.4254537,
          3.2578232,
          5.310164,
          5.105098,
          4.7962685
         ],
         "y": [
          7.369662,
          7.642771,
          8.477506,
          6.9881372,
          7.582969,
          8.532135,
          8.382085,
          7.0471215,
          8.435043,
          7.345905,
          8.62855,
          6.390444,
          6.808145,
          6.458666,
          7.046151,
          7.4413066,
          7.127164,
          7.0678897,
          7.5090294,
          8.74144,
          7.126203,
          7.9697094,
          6.349449,
          7.947517,
          7.1530566,
          8.6687355,
          7.555961,
          7.5478797
         ]
        },
        {
         "hoverinfo": "text",
         "hovertext": [
          "There was a potential for drivers of metro passenger trains to be distracted by non-operational interactions with other train staff.",
          "the setback movement was not planned and carried out in accordance with the operating rules and procedures.",
          "Lack of a suitable communication system between the train driver and train manager is a serious safety issue raised previously in a Commission report on an incident that occurred in 2006 and the subject of an existing open safety recommendation.",
          "The examples given in this report that show the results of using colloquial language, non-standard phraseology and inadequate crew resource management lend weight to the Commission's previous recommendation that the rail industry adopt a national communication standard with which all rail participants must comply.",
          "A train travelling between stations with the passenger doors open and no passenger crew on board can be a serious safety issue.",
          "Miscommunication between the train driver and the train controller resulted in each having a different understanding of how the train would be recovered to its correct route.",
          "There was no defence in the system to prevent an accident if a train driver did not react correctly to signals and route indicators.",
          "The safety issue arising from this incident was the misunderstanding between the train controller and the driver during the recovery sequence, which resulted in a potential head-on collision with another train.",
          "The radio communication between the train controller and the train driver was open loop, and after it had ended neither party really understood the other's intentions.",
          "The driver's distraction by checking the route paperwork during a critical time of controlling train speed on a downhill gradient contributed to the inability to manage train speed effectively.",
          "Nor could the system rely on visually sighting whether the mobility hoist was in use, as this case demonstrated - it had only just been deployed when the train departed 71 seconds after having stopped at the station platform. Under similar conditions, it would have been difficult for the train manager to see the mobility hoist even if it had been deployed onto the platform.",
          "Relying on mobile telephones for critical communications had its limitations, such as reception not being guaranteed in tunnels, and train drivers not being issued with company mobile phones, limiting a train crew's ability to manage effectively an emergency on board their own train.",
          "The collision could have been prevented if the bus driver had known how to contact train control, and had immediately done so.",
          "Once the train manager and assistant train manager were left on the platform, they had no radio by which they could make immediate contact with the trainee to stop the train.",
          "The signaller was likely to have been distracted by other tasks that had been assigned to her, which is likely to have contributed to her momentarily losing sight of the train controller's plan to cross trains at Papakura.",
          "The reliance on train drivers to observe and respond to signals as the primary control to prevent collisions, given known and foreseeable risks such as distraction and incapacitation, has the potential to be ineffective.",
          "The main safety issue arising from this incident was that procedurally there was a disconnect between the operation of the mobility hoist from the luggage van at the rear of the train and the train manager's pre-departure checks near the front of the train: the stowing of the mobility hoist and securing of the luggage van doors did not feature in the train manager's pre-departure checks; there was no means provided for the train attendant in the luggage van to communicate with the train manager near the front of the train; the luggage van doors were not electronically connected to the train door status and control system.",
          "the train controller, the train driver and the pilot did not have a shared understanding of the limit for the setback authority, or of the method for protecting the movement.",
          "The miscommunication between the driver and the train controller arose from a casual and ambiguous conversation at a time when a set of clear and precise instructions should have been issued.",
          "Mobile phone use has proven to be a major distractor in other rail, air and marine accidents that the Commission has investigated. The danger has also been recognised and dealt with by recent changes in road legislation preventing the use of mobile phones while driving road vehicles.",
          "The operation of the mobility hoist relied on the train manager knowing and/or remembering the stations at which any passengers in wheelchairs were to alight, then having good communication with the train attendant to ensure that the operation was complete and the train secure before giving \"right away\" clearance to the driver.",
          "There will be a residual risk that in the event of some emergency situations, train managers might not be able to access the fixed portable radios.",
          "The KiwiRail train controller's plan to cross Trains 210 and 201 at Papakura was not disseminated to all the parties who needed to know. Consequently at least 2 early opportunities to avert the potential head-on collision were missed.",
          null
         ],
         "marker": {
          "opacity": 0.5,
          "size": 5
         },
         "mode": "markers+text",
         "name": "3_Train Safety and Communication Failures",
         "text": [
          "",
          "",
          "",
          "",
          "",
          "",
          "",
          "",
          "",
          "",
          "",
          "",
          "",
          "",
          "",
          "",
          "",
          "",
          "",
          "",
          "",
          "",
          "",
          "3_Train Safety and Communication Failures"
         ],
         "textfont": {
          "size": 12
         },
         "type": "scattergl",
         "x": [
          2.7934594,
          4.0225368,
          2.7901294,
          2.8346038,
          2.661339,
          3.7609677,
          2.8880389,
          3.760318,
          3.7091947,
          1.8566043,
          2.5250843,
          3.2626247,
          1.6262908,
          3.4441617,
          1.7876246,
          2.8395677,
          2.6432207,
          3.9085305,
          3.7479591,
          3.168479,
          2.5281076,
          3.3620534,
          1.6493026,
          2.9378347
         ],
         "y": [
          8.998977,
          10.67136,
          9.97548,
          9.931214,
          10.026388,
          10.49156,
          8.866197,
          10.497561,
          10.450081,
          7.5243773,
          9.962471,
          9.831227,
          7.400343,
          10.221108,
          7.441919,
          8.917318,
          10.023335,
          10.622161,
          10.485914,
          9.693174,
          10.001262,
          9.955107,
          7.374546,
          9.537525
         ]
        },
        {
         "hoverinfo": "text",
         "hovertext": [
          "The near collision occurred at the convergence of several busy metro passenger lines and there was no automatic protection applied to preventing such a collision in the event of a driver failing to stop at Signal 38.",
          "A number of reasonable measures had not been taken to further reduce the risk of trains colliding in the approaches to Wellington Station.",
          "Opportunities for improving situational awareness and understanding through better use of non-technical skills were missed, increasing the likelihood of the incident.",
          "Poor communication and specifically a lack of adequate crew resource management contributed to all 4 of these incidents.",
          "The complex and congested nature of the Wellington Station track layout, combined with the geographical constraints that limit the space available to facilitate required safety overlaps for effective fail-safe systems, increases the risk of train collisions.",
          "The newly certified Melling train driver's relative inexperience and the potential for distraction at critical times, such as approaching signals in the congested Wellington Station area, increases the risk of incidents.",
          "Implementation of an administrative control measure designed to provide protection for a track worker was unsuccessful due to the poor use of non-technical skills.",
          "The operating risk and potential consequences of a train overrunning the platform at Melling Station and colliding with the stop block had not been adequately considered. No special speed restriction for the approach had been set; the stop block was an older and less effective design than its modern equivalent; and the pole carrying the overhead traction power line was placed directly behind the stop block where it was prone to damage.",
          "There is a heightened risk of trains colliding within the approaches to Wellington Station because limited space makes the track layout congested.",
          "The overhead traction power system had issues that could increase the risk in the event of a collision, such as the terminal pole being directly in the path of an overrun train and the risk of promptly resetting the overhead power without first establishing the reason for the system tripping.",
          "There were no active visual alarms or physical barriers to prevent pedestrians exiting the Morningside Station platform and inadvertently entering the Morningside Drive pedestrian level crossing when trains approached.",
          "Most of the passenger trains in the Wellington commuter fleet are not equipped with selcall-capable radio equipment, which means that in the event of an emergency brake application or other event that causes a rapid reduction in air brake pipe pressure, there could be a critical delay in train control being alerted in time to prevent the event escalating.",
          "There are a number of reasonable measures that had not been taken to further reduce the risk of trains colliding on the approaches to Wellington Station, such as: providing better recognition of signals; standard procedures for signalling trains through the area; and better communication between train drivers and persons controlling the trains.",
          "The absence of selcall capability on the Wellington passenger fleet meant there was a delay in train control being made aware of the collision and in turn calling the emergency services. In this case the next train coming from the opposite direction arrived at about the same time that the derailment occurred. In other circumstances a delay in train control becoming aware of such an event in double-track territory is a lost opportunity to warn other trains in the vicinity. The delay can be overcome by fitting an improved radio system with selcall capability to the Wellington commuter rail fleet.",
          "There is a heightened risk of trains colliding within the approaches to Wellington Station because limited space makes the track layout congested. When the line was upgraded to bidirectional, the eight-metre separation between the insulated joint and the signal was not identified as a potential issue.",
          "The lack of fail-safe backup systems, such as automatic train brakes activation in case of SPADs (signals passed at danger), for all signals in the Wellington Station approaches, particularly signal 100 which was overrun by the Melling service, increases the risk of collisions.",
          "Non-technical skills, particularly in communication, possessing a common mental model, challenge and response, and situational awareness, were not effectively employed, contributing to the incident.",
          "Despite previous recommendations and some improvements, more needs to be done in the short term to ensure that key signals within the section of track approaching Wellington Station have appropriate engineering solutions to mitigate the risk of collisions.",
          "The concrete stop block installed in 1954 lacked the impact-absorbing qualities of more modern stop blocks, increasing the damage to the train and its occupants in the event of a collision.",
          "The use of an administrative control measure was not effective on its own, and the adoption of engineering control measures when establishing PWAs would provide an enhanced level of protection for track workers.",
          "The standard of non-technical skills (NTS), formerly known as Crew Resource Management, between the driver, the TXO and the signaller were ineffective.",
          null
         ],
         "marker": {
          "opacity": 0.5,
          "size": 5
         },
         "mode": "markers+text",
         "name": "4_Train Collision Risks at Wellington Station",
         "text": [
          "",
          "",
          "",
          "",
          "",
          "",
          "",
          "",
          "",
          "",
          "",
          "",
          "",
          "",
          "",
          "",
          "",
          "",
          "",
          "",
          "",
          "4_Train Collision Risks at Wellington Station"
         ],
         "textfont": {
          "size": 12
         },
         "type": "scattergl",
         "x": [
          0.27528226,
          0.054494523,
          -0.8651673,
          -0.89164865,
          -0.28439945,
          0.019287316,
          -0.6944542,
          0.23674276,
          -0.33865178,
          0.16219983,
          0.368386,
          0.01686889,
          0.058874805,
          0.05180175,
          -0.30602932,
          0.14306413,
          -0.8650024,
          0.013916127,
          0.27718014,
          -0.6881313,
          -0.7461028,
          -0.19054708
         ],
         "y": [
          7.526873,
          7.850765,
          9.705163,
          9.738418,
          6.8733206,
          7.4063034,
          9.469215,
          7.0903482,
          6.835775,
          7.0396514,
          6.903048,
          7.4651494,
          7.8635135,
          7.466014,
          6.904832,
          7.4644866,
          9.705026,
          7.900359,
          7.114139,
          9.455054,
          9.556801,
          7.968298
         ]
        },
        {
         "hoverinfo": "text",
         "hovertext": [
          "A key safety issue was that the National Rail System Standards (NRSS) did not require the Matangi braking system to be tested under slippery track conditions against an appropriate standard. Consequently, the train brake system had not been optimised for low-adhesion conditions.",
          "The training that drivers received for transitioning from the Ganz Mavag to the Matangi train type did not provide them with sufficient information in respect of the design and correct operation of the train brake and wheel-slide protection systems.",
          "There is a potential safety issue with the ergonomics of the driver door-alert system on the Ganz Mavag sets.",
          "The National Rail System Standards (NRSS) did not require the Matangi braking system to be tested under slippery track conditions against an appropriate standard, resulting in the train brake system not being optimised for low-adhesion conditions.",
          "The Matangi braking and wheel-slide protection systems were not performing as well as they could have because they had not been tested against an appropriate standard and tuned for optimum braking in low-adhesion conditions before the trains were commissioned to service.",
          "Driver B was able to set the brake handles incorrectly because there was no interlock capability between the two driving cabs of the DL-class locomotives. The incorrect brake set-up resulted in driver B not having brake control over the coupled wagons.",
          "The training that drivers received for transitioning from the Ganz Mavag to the Matangi train type did not provide them with sufficient information in respect of the design and correct operation of the train brake and wheel-slide protection systems.",
          "The absence of the interlock on the Ganz Mavag sets placed a greater reliance on driver performance and the design of the door-alert system to prevent a premature train departure.",
          "The design of the passenger door-alert system did not follow the convention where the colour red means \"danger\" or \"stop\" and green means \"go\" or \"safe\", which could lead to confusion and unsafe conditions.",
          "The National Rail System Standards do not adequately address the braking performance in low-adhesion conditions of modern metropolitan passenger trains that are fitted with computer-controlled brake and wheel-slide protection systems.",
          "The driving compartments on Trains 6250 and 6247 were damaged during the collision sequence to such an extent that had the drivers not vacated their driving positions before impact they would likely have been fatally injured.",
          "The relatively high centre of gravity of the loaded coal wagons, while within permissible limits, contributed to the overall effect of dynamic interaction, reducing the stability of the wagons.",
          "The standard of maintenance for a safety-critical braking system, particularly the procedures for ensuring that maintenance was conducted in accordance with best engineering practice and that there were independent final checks of critical systems before electric multiple units were released back into service.",
          "The Matangi braking and wheel-slide protection systems were not performing as well as they could have because they had not been tested against an appropriate standard and tuned for optimum braking in low-adhesion conditions before the trains were commissioned to service.",
          "The National Rail System Standards do not adequately address the braking performance in low-adhesion conditions of modern metropolitan passenger trains that are fitted with computer-controlled brake and wheel-slide protection systems.",
          "Excessive speed, combined with a track twist within code and the high centre of gravity of the load on the derailed wagons, led to the derailment due to dynamic interaction.",
          "The Ganz trains were generally strong and well-built and had met the crashworthiness standards at the time of build some 30 years earlier, but they did not perform as well as a modern train during a similar front-end collision, thereby increasing the risk of injury to the drivers and possibly passengers seated near the ends of the trains.",
          "When the three staff members came together to couple the third locomotive to the disabled train at Glenbrook, no challenge and confirm actions were taken to complete a fundamental brake test procedure, which was designed to ensure that the trains' air brakes were functioning correctly.",
          null
         ],
         "marker": {
          "opacity": 0.5,
          "size": 5
         },
         "mode": "markers+text",
         "name": "5_Rail Safety and Standards Compliance Concerns",
         "text": [
          "",
          "",
          "",
          "",
          "",
          "",
          "",
          "",
          "",
          "",
          "",
          "",
          "",
          "",
          "",
          "",
          "",
          "",
          "5_Rail Safety and Standards Compliance Concerns"
         ],
         "textfont": {
          "size": 12
         },
         "type": "scattergl",
         "x": [
          5.9492345,
          6.1586933,
          6.3988347,
          5.824303,
          6.0084143,
          5.7821517,
          6.175765,
          6.380996,
          6.427485,
          5.701983,
          5.7854996,
          5.785003,
          5.8997974,
          6.06666,
          5.7141256,
          5.784596,
          6.218826,
          5.6790013,
          5.985632
         ],
         "y": [
          13.172914,
          12.680715,
          12.359867,
          13.426749,
          13.139427,
          11.765969,
          12.662691,
          12.361547,
          12.393469,
          13.594295,
          11.818024,
          11.525382,
          13.086079,
          13.052473,
          13.578529,
          11.500432,
          12.210607,
          11.780021,
          12.561621
         ]
        },
        {
         "hoverinfo": "text",
         "hovertext": [
          "The visual inspection regime for wheel-bearings is not an effective means of managing and preventing total wheel-bearing failure, as it failed to detect the impending failure in this case.",
          "Current inspection procedures were unable to detect the chatter marks on the outer foot of the installed switch rail, indicating a limitation in the effectiveness of track inspection methods to identify potential rail defects.",
          "Ultrasonic testing, designed to detect cracks in the head and web of the rail, is unable to detect defects originating from the foot of the rail unless such defects propagate into the web, indicating a limitation in the technology's ability to detect certain types of rail defects.",
          "The rail fracture examination revealed that the fracture was consistent with a fatigue crack, and the rail as manufactured met all standards and specifications required, yet it failed in service, indicating potential inadequacies in the rail manufacturing or inspection processes.",
          "The RailBAM system, while operational, did not effectively prevent the derailment due to the procedures in place at the time, which did not prioritize the investigation and remediation of detected faults unless they reached a severity level that was considered critical.",
          "The management and maintenance of the emergency power supply system for train control were not sufficient to ensure the integrity of what had been designated an \"essential service\".",
          "The wagon was authorised to return to service following a routine maintenance inspection with wheel flange surface roughness outside specified limits.",
          "The project team responsible for the Auckland train control centralisation project lacked the appropriate expertise for designing and installing the emergency power supply system.",
          "The axle-counter system used for signalling does not detect broken rails as effectively as traditional track-circuited systems might, potentially increasing the risk of incidents related to rail fractures not being detected.",
          "The left-hand switch rail fractured and misaligned due to a fatigue crack initiated from a chatter mark introduced during the machining process, leading to the derailment.",
          "the high-voltage cable assembly had been in service for less than 12 months, but the records available did not show if it was new or repurposed, or detail the results of any test(s) performed on the cable assembly to ensure that it was in serviceable condition.",
          "The eProtect KMC module on board the locomotive had been transmitting error messages for three weeks before the incident, but the activity database was not being monitored for this type of error.",
          "The lack of a dedicated RailBAM analyst position and an agreed process for monitoring, reviewing, and acting on RailBAM data contributed to the failure to adequately address detected bearing faults before the derailment occurred.",
          "The high incidence of brake block replacement, which can contribute to premature bearing failure, was not addressed by putting the wagon under an enhanced monitoring and inspection schedule.",
          "The supply agreement did not specify a surface roughness standard for machined components, allowing for the presence of chatter marks that reduced the fatigue and fracture resistance of the rail.",
          null
         ],
         "marker": {
          "opacity": 0.5,
          "size": 5
         },
         "mode": "markers+text",
         "name": "6_Rail System Failures and Inspection Limitations",
         "text": [
          "",
          "",
          "",
          "",
          "",
          "",
          "",
          "",
          "",
          "",
          "",
          "",
          "",
          "",
          "",
          "6_Rail System Failures and Inspection Limitations"
         ],
         "textfont": {
          "size": 12
         },
         "type": "scattergl",
         "x": [
          6.8174844,
          7.1933208,
          7.2977753,
          7.5043817,
          6.2267227,
          8.099542,
          6.752109,
          8.124067,
          6.3302355,
          7.4255548,
          7.745795,
          6.1205254,
          6.4674597,
          6.7283373,
          7.505371,
          7.089246
         ],
         "y": [
          6.928066,
          6.7811236,
          6.7325225,
          6.655913,
          7.1753216,
          6.7151566,
          6.8920927,
          6.759871,
          7.1194735,
          6.6756797,
          6.68024,
          7.2132087,
          7.08029,
          6.94135,
          6.6524496,
          6.866851
         ]
        },
        {
         "hoverinfo": "text",
         "hovertext": [
          "Level crossing assessments do not require the road profile and the alignment of roads on the approach to and passing over level crossings to be routinely measured. Therefore, there are no checks made to ensure that all road-legal vehicles can pass over level crossings without becoming stuck.",
          "The regulatory and operational accountabilities of the Auckland metro system do not expressly deal with responsibility for safety and control at the boundaries between station platforms and the rail corridor.",
          "Any road vehicle over about 10 m in length could not safely use the Beach Road/ State Highway 1 intersection when turning right to State Highway 1 from Beach Road.",
          "A large percentage of pedestrian level crossings located in provincial areas do not fully conform with guidelines within the NZ Transport Agency's Traffic Control Devices Manual - Part 9 - Level Crossings.",
          "Level crossings warrant special consideration when setting road vehicle standards, because trains have the right of way along the rail corridor and cannot stop for road vehicles in their path.",
          "The sighting distance available to drivers of long vehicles to cross the Te Onetea Road level crossing safely did not comply with the NZ Transport Agency's Traffic Control Devices Manual.",
          "About 19% of all rail level crossings have insufficient available stacking distances available for long road vehicles using adjacent road intersections.",
          "The Beach Road/ State Highway 1 intersection did not have a sufficient stacking distance to accommodate this bus, and any other road vehicle over about 10 m in length, without those vehicles encroaching on the rail corridor at the Beach Road level crossing.",
          "The profile of the Beach Road level crossing and the adjacent section of road leading up to the intersection with State Highway 1 were not well suited for long and low road vehicles.",
          "The legislation is not clear on the allocation of responsibility between licensed rail access providers and road controlling authorities for ensuring the safety of road and rail users at public road level crossings.",
          "Sighting distances for road users at level crossings are one of the factors used to determine the appropriate level of protection required, yet the growth in vegetation around railway level crossings can change sighting distances in a relatively short time and render the level crossings unsafe.",
          "Changes in the Land Transport Rule: Vehicle Dimensions and Mass have been made with little formal consideration for the compatibility of long and low road vehicles with existing rail level crossings throughout New Zealand.",
          "The level of protection for people using pedestrian level crossings in the Auckland metro network is currently inadequate because the risk assessment process for pedestrian level crossings is not keeping pace with the infrastructure changes and increasing patronage.",
          null
         ],
         "marker": {
          "opacity": 0.5,
          "size": 5
         },
         "mode": "markers+text",
         "name": "7_Safety and Compatibility Issues at Road and Rail Level Crossings",
         "text": [
          "",
          "",
          "",
          "",
          "",
          "",
          "",
          "",
          "",
          "",
          "",
          "",
          "",
          "7_Safety and Compatibility Issues at Road and Rail Level Crossings"
         ],
         "textfont": {
          "size": 12
         },
         "type": "scattergl",
         "x": [
          2.017643,
          2.1960518,
          2.1589231,
          2.1652756,
          1.9896609,
          2.2117205,
          2.1685023,
          2.2183564,
          2.135262,
          2.211143,
          2.196675,
          2.0860083,
          2.145464,
          2.1462064
         ],
         "y": [
          3.8531108,
          4.657501,
          3.5497525,
          4.2861238,
          3.8634758,
          4.0355296,
          3.574195,
          3.5019941,
          3.6399765,
          4.689591,
          4.2989316,
          3.9250832,
          4.341645,
          4.0166855
         ]
        }
       ],
       "layout": {
        "annotations": [
         {
          "showarrow": false,
          "text": "D1",
          "x": -1.0253959476947785,
          "y": 10.049844431877135,
          "yshift": 10
         },
         {
          "showarrow": false,
          "text": "D2",
          "x": 6.0274576276540754,
          "xshift": 10,
          "y": 17.862941217422485
         }
        ],
        "height": 750,
        "shapes": [
         {
          "line": {
           "color": "#CFD8DC",
           "width": 2
          },
          "type": "line",
          "x0": 6.0274576276540754,
          "x1": 6.0274576276540754,
          "y0": 2.236747646331787,
          "y1": 17.862941217422485
         },
         {
          "line": {
           "color": "#9E9E9E",
           "width": 2
          },
          "type": "line",
          "x0": -1.0253959476947785,
          "x1": 13.08031120300293,
          "y0": 10.049844431877135,
          "y1": 10.049844431877135
         }
        ],
        "template": {
         "data": {
          "bar": [
           {
            "error_x": {
             "color": "rgb(36,36,36)"
            },
            "error_y": {
             "color": "rgb(36,36,36)"
            },
            "marker": {
             "line": {
              "color": "white",
              "width": 0.5
             },
             "pattern": {
              "fillmode": "overlay",
              "size": 10,
              "solidity": 0.2
             }
            },
            "type": "bar"
           }
          ],
          "barpolar": [
           {
            "marker": {
             "line": {
              "color": "white",
              "width": 0.5
             },
             "pattern": {
              "fillmode": "overlay",
              "size": 10,
              "solidity": 0.2
             }
            },
            "type": "barpolar"
           }
          ],
          "carpet": [
           {
            "aaxis": {
             "endlinecolor": "rgb(36,36,36)",
             "gridcolor": "white",
             "linecolor": "white",
             "minorgridcolor": "white",
             "startlinecolor": "rgb(36,36,36)"
            },
            "baxis": {
             "endlinecolor": "rgb(36,36,36)",
             "gridcolor": "white",
             "linecolor": "white",
             "minorgridcolor": "white",
             "startlinecolor": "rgb(36,36,36)"
            },
            "type": "carpet"
           }
          ],
          "choropleth": [
           {
            "colorbar": {
             "outlinewidth": 1,
             "tickcolor": "rgb(36,36,36)",
             "ticks": "outside"
            },
            "type": "choropleth"
           }
          ],
          "contour": [
           {
            "colorbar": {
             "outlinewidth": 1,
             "tickcolor": "rgb(36,36,36)",
             "ticks": "outside"
            },
            "colorscale": [
             [
              0,
              "#440154"
             ],
             [
              0.1111111111111111,
              "#482878"
             ],
             [
              0.2222222222222222,
              "#3e4989"
             ],
             [
              0.3333333333333333,
              "#31688e"
             ],
             [
              0.4444444444444444,
              "#26828e"
             ],
             [
              0.5555555555555556,
              "#1f9e89"
             ],
             [
              0.6666666666666666,
              "#35b779"
             ],
             [
              0.7777777777777778,
              "#6ece58"
             ],
             [
              0.8888888888888888,
              "#b5de2b"
             ],
             [
              1,
              "#fde725"
             ]
            ],
            "type": "contour"
           }
          ],
          "contourcarpet": [
           {
            "colorbar": {
             "outlinewidth": 1,
             "tickcolor": "rgb(36,36,36)",
             "ticks": "outside"
            },
            "type": "contourcarpet"
           }
          ],
          "heatmap": [
           {
            "colorbar": {
             "outlinewidth": 1,
             "tickcolor": "rgb(36,36,36)",
             "ticks": "outside"
            },
            "colorscale": [
             [
              0,
              "#440154"
             ],
             [
              0.1111111111111111,
              "#482878"
             ],
             [
              0.2222222222222222,
              "#3e4989"
             ],
             [
              0.3333333333333333,
              "#31688e"
             ],
             [
              0.4444444444444444,
              "#26828e"
             ],
             [
              0.5555555555555556,
              "#1f9e89"
             ],
             [
              0.6666666666666666,
              "#35b779"
             ],
             [
              0.7777777777777778,
              "#6ece58"
             ],
             [
              0.8888888888888888,
              "#b5de2b"
             ],
             [
              1,
              "#fde725"
             ]
            ],
            "type": "heatmap"
           }
          ],
          "heatmapgl": [
           {
            "colorbar": {
             "outlinewidth": 1,
             "tickcolor": "rgb(36,36,36)",
             "ticks": "outside"
            },
            "colorscale": [
             [
              0,
              "#440154"
             ],
             [
              0.1111111111111111,
              "#482878"
             ],
             [
              0.2222222222222222,
              "#3e4989"
             ],
             [
              0.3333333333333333,
              "#31688e"
             ],
             [
              0.4444444444444444,
              "#26828e"
             ],
             [
              0.5555555555555556,
              "#1f9e89"
             ],
             [
              0.6666666666666666,
              "#35b779"
             ],
             [
              0.7777777777777778,
              "#6ece58"
             ],
             [
              0.8888888888888888,
              "#b5de2b"
             ],
             [
              1,
              "#fde725"
             ]
            ],
            "type": "heatmapgl"
           }
          ],
          "histogram": [
           {
            "marker": {
             "line": {
              "color": "white",
              "width": 0.6
             }
            },
            "type": "histogram"
           }
          ],
          "histogram2d": [
           {
            "colorbar": {
             "outlinewidth": 1,
             "tickcolor": "rgb(36,36,36)",
             "ticks": "outside"
            },
            "colorscale": [
             [
              0,
              "#440154"
             ],
             [
              0.1111111111111111,
              "#482878"
             ],
             [
              0.2222222222222222,
              "#3e4989"
             ],
             [
              0.3333333333333333,
              "#31688e"
             ],
             [
              0.4444444444444444,
              "#26828e"
             ],
             [
              0.5555555555555556,
              "#1f9e89"
             ],
             [
              0.6666666666666666,
              "#35b779"
             ],
             [
              0.7777777777777778,
              "#6ece58"
             ],
             [
              0.8888888888888888,
              "#b5de2b"
             ],
             [
              1,
              "#fde725"
             ]
            ],
            "type": "histogram2d"
           }
          ],
          "histogram2dcontour": [
           {
            "colorbar": {
             "outlinewidth": 1,
             "tickcolor": "rgb(36,36,36)",
             "ticks": "outside"
            },
            "colorscale": [
             [
              0,
              "#440154"
             ],
             [
              0.1111111111111111,
              "#482878"
             ],
             [
              0.2222222222222222,
              "#3e4989"
             ],
             [
              0.3333333333333333,
              "#31688e"
             ],
             [
              0.4444444444444444,
              "#26828e"
             ],
             [
              0.5555555555555556,
              "#1f9e89"
             ],
             [
              0.6666666666666666,
              "#35b779"
             ],
             [
              0.7777777777777778,
              "#6ece58"
             ],
             [
              0.8888888888888888,
              "#b5de2b"
             ],
             [
              1,
              "#fde725"
             ]
            ],
            "type": "histogram2dcontour"
           }
          ],
          "mesh3d": [
           {
            "colorbar": {
             "outlinewidth": 1,
             "tickcolor": "rgb(36,36,36)",
             "ticks": "outside"
            },
            "type": "mesh3d"
           }
          ],
          "parcoords": [
           {
            "line": {
             "colorbar": {
              "outlinewidth": 1,
              "tickcolor": "rgb(36,36,36)",
              "ticks": "outside"
             }
            },
            "type": "parcoords"
           }
          ],
          "pie": [
           {
            "automargin": true,
            "type": "pie"
           }
          ],
          "scatter": [
           {
            "fillpattern": {
             "fillmode": "overlay",
             "size": 10,
             "solidity": 0.2
            },
            "type": "scatter"
           }
          ],
          "scatter3d": [
           {
            "line": {
             "colorbar": {
              "outlinewidth": 1,
              "tickcolor": "rgb(36,36,36)",
              "ticks": "outside"
             }
            },
            "marker": {
             "colorbar": {
              "outlinewidth": 1,
              "tickcolor": "rgb(36,36,36)",
              "ticks": "outside"
             }
            },
            "type": "scatter3d"
           }
          ],
          "scattercarpet": [
           {
            "marker": {
             "colorbar": {
              "outlinewidth": 1,
              "tickcolor": "rgb(36,36,36)",
              "ticks": "outside"
             }
            },
            "type": "scattercarpet"
           }
          ],
          "scattergeo": [
           {
            "marker": {
             "colorbar": {
              "outlinewidth": 1,
              "tickcolor": "rgb(36,36,36)",
              "ticks": "outside"
             }
            },
            "type": "scattergeo"
           }
          ],
          "scattergl": [
           {
            "marker": {
             "colorbar": {
              "outlinewidth": 1,
              "tickcolor": "rgb(36,36,36)",
              "ticks": "outside"
             }
            },
            "type": "scattergl"
           }
          ],
          "scattermapbox": [
           {
            "marker": {
             "colorbar": {
              "outlinewidth": 1,
              "tickcolor": "rgb(36,36,36)",
              "ticks": "outside"
             }
            },
            "type": "scattermapbox"
           }
          ],
          "scatterpolar": [
           {
            "marker": {
             "colorbar": {
              "outlinewidth": 1,
              "tickcolor": "rgb(36,36,36)",
              "ticks": "outside"
             }
            },
            "type": "scatterpolar"
           }
          ],
          "scatterpolargl": [
           {
            "marker": {
             "colorbar": {
              "outlinewidth": 1,
              "tickcolor": "rgb(36,36,36)",
              "ticks": "outside"
             }
            },
            "type": "scatterpolargl"
           }
          ],
          "scatterternary": [
           {
            "marker": {
             "colorbar": {
              "outlinewidth": 1,
              "tickcolor": "rgb(36,36,36)",
              "ticks": "outside"
             }
            },
            "type": "scatterternary"
           }
          ],
          "surface": [
           {
            "colorbar": {
             "outlinewidth": 1,
             "tickcolor": "rgb(36,36,36)",
             "ticks": "outside"
            },
            "colorscale": [
             [
              0,
              "#440154"
             ],
             [
              0.1111111111111111,
              "#482878"
             ],
             [
              0.2222222222222222,
              "#3e4989"
             ],
             [
              0.3333333333333333,
              "#31688e"
             ],
             [
              0.4444444444444444,
              "#26828e"
             ],
             [
              0.5555555555555556,
              "#1f9e89"
             ],
             [
              0.6666666666666666,
              "#35b779"
             ],
             [
              0.7777777777777778,
              "#6ece58"
             ],
             [
              0.8888888888888888,
              "#b5de2b"
             ],
             [
              1,
              "#fde725"
             ]
            ],
            "type": "surface"
           }
          ],
          "table": [
           {
            "cells": {
             "fill": {
              "color": "rgb(237,237,237)"
             },
             "line": {
              "color": "white"
             }
            },
            "header": {
             "fill": {
              "color": "rgb(217,217,217)"
             },
             "line": {
              "color": "white"
             }
            },
            "type": "table"
           }
          ]
         },
         "layout": {
          "annotationdefaults": {
           "arrowhead": 0,
           "arrowwidth": 1
          },
          "autotypenumbers": "strict",
          "coloraxis": {
           "colorbar": {
            "outlinewidth": 1,
            "tickcolor": "rgb(36,36,36)",
            "ticks": "outside"
           }
          },
          "colorscale": {
           "diverging": [
            [
             0,
             "rgb(103,0,31)"
            ],
            [
             0.1,
             "rgb(178,24,43)"
            ],
            [
             0.2,
             "rgb(214,96,77)"
            ],
            [
             0.3,
             "rgb(244,165,130)"
            ],
            [
             0.4,
             "rgb(253,219,199)"
            ],
            [
             0.5,
             "rgb(247,247,247)"
            ],
            [
             0.6,
             "rgb(209,229,240)"
            ],
            [
             0.7,
             "rgb(146,197,222)"
            ],
            [
             0.8,
             "rgb(67,147,195)"
            ],
            [
             0.9,
             "rgb(33,102,172)"
            ],
            [
             1,
             "rgb(5,48,97)"
            ]
           ],
           "sequential": [
            [
             0,
             "#440154"
            ],
            [
             0.1111111111111111,
             "#482878"
            ],
            [
             0.2222222222222222,
             "#3e4989"
            ],
            [
             0.3333333333333333,
             "#31688e"
            ],
            [
             0.4444444444444444,
             "#26828e"
            ],
            [
             0.5555555555555556,
             "#1f9e89"
            ],
            [
             0.6666666666666666,
             "#35b779"
            ],
            [
             0.7777777777777778,
             "#6ece58"
            ],
            [
             0.8888888888888888,
             "#b5de2b"
            ],
            [
             1,
             "#fde725"
            ]
           ],
           "sequentialminus": [
            [
             0,
             "#440154"
            ],
            [
             0.1111111111111111,
             "#482878"
            ],
            [
             0.2222222222222222,
             "#3e4989"
            ],
            [
             0.3333333333333333,
             "#31688e"
            ],
            [
             0.4444444444444444,
             "#26828e"
            ],
            [
             0.5555555555555556,
             "#1f9e89"
            ],
            [
             0.6666666666666666,
             "#35b779"
            ],
            [
             0.7777777777777778,
             "#6ece58"
            ],
            [
             0.8888888888888888,
             "#b5de2b"
            ],
            [
             1,
             "#fde725"
            ]
           ]
          },
          "colorway": [
           "#1F77B4",
           "#FF7F0E",
           "#2CA02C",
           "#D62728",
           "#9467BD",
           "#8C564B",
           "#E377C2",
           "#7F7F7F",
           "#BCBD22",
           "#17BECF"
          ],
          "font": {
           "color": "rgb(36,36,36)"
          },
          "geo": {
           "bgcolor": "white",
           "lakecolor": "white",
           "landcolor": "white",
           "showlakes": true,
           "showland": true,
           "subunitcolor": "white"
          },
          "hoverlabel": {
           "align": "left"
          },
          "hovermode": "closest",
          "mapbox": {
           "style": "light"
          },
          "paper_bgcolor": "white",
          "plot_bgcolor": "white",
          "polar": {
           "angularaxis": {
            "gridcolor": "rgb(232,232,232)",
            "linecolor": "rgb(36,36,36)",
            "showgrid": false,
            "showline": true,
            "ticks": "outside"
           },
           "bgcolor": "white",
           "radialaxis": {
            "gridcolor": "rgb(232,232,232)",
            "linecolor": "rgb(36,36,36)",
            "showgrid": false,
            "showline": true,
            "ticks": "outside"
           }
          },
          "scene": {
           "xaxis": {
            "backgroundcolor": "white",
            "gridcolor": "rgb(232,232,232)",
            "gridwidth": 2,
            "linecolor": "rgb(36,36,36)",
            "showbackground": true,
            "showgrid": false,
            "showline": true,
            "ticks": "outside",
            "zeroline": false,
            "zerolinecolor": "rgb(36,36,36)"
           },
           "yaxis": {
            "backgroundcolor": "white",
            "gridcolor": "rgb(232,232,232)",
            "gridwidth": 2,
            "linecolor": "rgb(36,36,36)",
            "showbackground": true,
            "showgrid": false,
            "showline": true,
            "ticks": "outside",
            "zeroline": false,
            "zerolinecolor": "rgb(36,36,36)"
           },
           "zaxis": {
            "backgroundcolor": "white",
            "gridcolor": "rgb(232,232,232)",
            "gridwidth": 2,
            "linecolor": "rgb(36,36,36)",
            "showbackground": true,
            "showgrid": false,
            "showline": true,
            "ticks": "outside",
            "zeroline": false,
            "zerolinecolor": "rgb(36,36,36)"
           }
          },
          "shapedefaults": {
           "fillcolor": "black",
           "line": {
            "width": 0
           },
           "opacity": 0.3
          },
          "ternary": {
           "aaxis": {
            "gridcolor": "rgb(232,232,232)",
            "linecolor": "rgb(36,36,36)",
            "showgrid": false,
            "showline": true,
            "ticks": "outside"
           },
           "baxis": {
            "gridcolor": "rgb(232,232,232)",
            "linecolor": "rgb(36,36,36)",
            "showgrid": false,
            "showline": true,
            "ticks": "outside"
           },
           "bgcolor": "white",
           "caxis": {
            "gridcolor": "rgb(232,232,232)",
            "linecolor": "rgb(36,36,36)",
            "showgrid": false,
            "showline": true,
            "ticks": "outside"
           }
          },
          "title": {
           "x": 0.05
          },
          "xaxis": {
           "automargin": true,
           "gridcolor": "rgb(232,232,232)",
           "linecolor": "rgb(36,36,36)",
           "showgrid": false,
           "showline": true,
           "ticks": "outside",
           "title": {
            "standoff": 15
           },
           "zeroline": false,
           "zerolinecolor": "rgb(36,36,36)"
          },
          "yaxis": {
           "automargin": true,
           "gridcolor": "rgb(232,232,232)",
           "linecolor": "rgb(36,36,36)",
           "showgrid": false,
           "showline": true,
           "ticks": "outside",
           "title": {
            "standoff": 15
           },
           "zeroline": false,
           "zerolinecolor": "rgb(36,36,36)"
          }
         }
        },
        "title": {
         "font": {
          "color": "Black",
          "size": 22
         },
         "text": "<b>Documents and Topics</b>",
         "x": 0.5,
         "xanchor": "center",
         "yanchor": "top"
        },
        "width": 1200,
        "xaxis": {
         "visible": false
        },
        "yaxis": {
         "visible": false
        }
       }
      }
     },
     "metadata": {},
     "output_type": "display_data"
    },
    {
     "data": {
      "application/vnd.plotly.v1+json": {
       "config": {
        "plotlyServerURL": "https://plot.ly"
       },
       "data": [
        {
         "hoverinfo": "text",
         "hovertext": [
          null
         ],
         "marker": {
          "color": "#CFD8DC",
          "opacity": 0.5,
          "size": 5
         },
         "mode": "markers+text",
         "name": "other",
         "showlegend": false,
         "type": "scattergl",
         "x": [
          null
         ],
         "y": [
          null
         ]
        },
        {
         "hoverinfo": "text",
         "hovertext": [
          "The safety management system for the Hanjin Bombay and its operating company did not succeed in ensuring that good crew resource management was a standard feature of on-board operations.",
          "At the time of the grounding there was uncertainty between Maritime New Zealand and the owner of the Anatoki on what was a suitable level of crewing for a ship of that size and tonnage. The complexity of the relationship between New Zealand and international standards for crewing ships is an issue that New Zealand needs to resolve.",
          "Navigation practices (including crew resource management) are a critical shipboard function that any safety management system should closely monitor to ensure that best industry practice is achieved.",
          "The reliance on weather forecasts and data from distant wave-rider buoys, which may not accurately reflect conditions at the Manukau Bar, leading to underestimation of the risks of crossing the Bar.",
          "The situational awareness of the bridge team on the Rose Harmony was adversely affected by poor bridge resource management, exacerbated by the presence and distracting influence of passengers on the bridge in pilotage waters.",
          "Port of Tauranga Limited's risk assessment for its Ports and Harbours Safety Management System did not fully address the risk of departing vessels experiencing failure of propulsion and manoeuvring systems at critical locations in the entrance channel.",
          "The means of escape from the Jubilee's wheelhouse and accommodation space may not have met the intent of the Maritime Rules for providing escape for crew in the event of fire.",
          "The watchkeeper was not making the most effective use of the bridge navigation equipment on board the Rena before the grounding.",
          "The number of port state control deficiencies identified against the Rena and its detention in Fremantle for non-compliance with statutory requirements indicates that the safety management system as applied on board the Rena was not meeting the objectives of the ISM Code.",
          "The standard of passage planning on board the Rena often, and in some respects, did not comply with the company safety management system, or with the vessel's safety management system, or with the STCW Convention.",
          "The IMO has set standards for passage planning that vessels must adhere to, but there is no corresponding requirement for the passage plans that port authorities create and use to meet those same standards.",
          "The safety management system and the underlying safety culture on board did not meet industry good practice.",
          "The electronic navigation aids were not configured to maximize navigation safety, such as by using geo-fencing to alert skippers of hazards or setting depth sounder alarms to warn of shallow water.",
          "The use of virtual aids to navigation could be one alternative method for highlighting dangers to navigation. However, they should not be introduced before proper research into, and the development of performance standards for them have been completed.",
          "The FENZ training standards did not fully cover the special considerations for responding to shipboard fires.",
          "crew operating knowledge of on-board emergency systems",
          "Bridge team members later said that closed loop communication was not always used, especially in routine manoeuvres. This was one explanation for why it was used for one helm order and not the next.",
          "crew awareness of the operating limitations of the vessel",
          "The pre-arranged rendezvous with the helicopter to coincide with unloading other vessels at Big South Cape Island possibly influenced the skipper's decision to continue with his planned departure.",
          "The internal audit's recommendations to improve safety had been signed off as completed by the master, but the accident demonstrated that not much had actually changed, indicating a poorly developed safety culture on board.",
          "The company drug and alcohol policy was not at the time of this accident complied with by the Anatoki's master and crew.",
          "The owner and the master on board the Anatoki were not effectively managing the standards of navigation and the drug and alcohol policy at the time of the grounding.",
          "housekeeping practices on board affecting the safe operation of the vessel.",
          "Some people are using the accident and incident reporting process to raise safety concerns because there is currently no dedicated, formal process within Maritime New Zealand where members of the public and the maritime community can submit reports on safety and security concerns, including complaints and allegations of suspected breaches of maritime legislation.",
          "The standard of bridge resource management on board the L'Austral during the Milford Sound pilotage did not meet good industry practice.",
          "The standards of navigation and bridge resource management required by KiwiRail's safety management system were not being achieved by the bridge team that was on board the Monte Stello when the accident occurred.",
          "Some aspects of the crew response to the fire did not follow industry good practice.",
          "If the issues of mechanically unreliable vessels and substandard crew resource management on vessels operating in New Zealand ports are to be addressed, this will need to be done at a national level rather than individual ports dealing with the issues as they arise.",
          "The bilge pumping system on the Jubilee was not fitted with any means of automatically alerting the crew when the water in the fish hold reached an abnormal level. If the crew had been alerted to the level of water in the fish hold, it is as likely as not that the sinking would have been prevented.",
          "Port Otago's safety management system fell short of achieving good industry standards for pilotage operations",
          "The means of escape from the Jubilee's wheelhouse in the event of an emergency afforded the crew too few options for escaping in the event of capsize or sinking.",
          "The standard of watchkeeping on board the Rena for the accident voyage and particularly the watch period during which the grounding occurred, in almost all respects, did not comply with the industry best practice described in the IMO Voyage Planning Guidelines and The Nautical Institute's Bridge Team Management - a Practical Guide.",
          "The fish hatch was susceptible to being left fully or partially open because it was hydraulically closed from the wheelhouse and could not be latched closed.",
          "The operator's safety management system did not fully address the risk of vessel groundings and collisions where its skippers were in effect working alone in the wheelhouse.",
          "Because commercial vessels can frequently change ownership and their owners can switch between safe ship management providers, there is a need for Maritime New Zealand to maintain a central database of all important safety and operation records for the entire life of each vessel in the system.",
          "The absence of a visual indicator in the wheelhouse that would have alerted the crew when the bilge pump was running meant that the bilge pumping system was non-compliant with Maritime Rules. There was no other means fitted to the fish hold bilge system to alert the crew to excess water in the fish hold.",
          "The bridge operations on board the Leda Maersk fell short of achieving good industry practice in both planning and executing the passage under pilotage and bridge resource management.",
          "The vessel's bridge team and the pilot did not have a shared understanding of a common passage plan before the pilotage began. Consequently, the pilot and the vessel's bridge team had different understandings of the planned track to be followed and their respective roles in monitoring against the plan.",
          "Pilot currency and proficiency assessments were not implemented as required by South Port's pilot training and proficiency plan.",
          "Skippers not routinely using electronic navigation aids to full effect, and the lack of routine and frequent use of these aids, which could have prevented the grounding by alerting the skipper to navigational hazards.",
          "Conducting blind pilotage with large ships in confined waters represented risks that had not been fully considered by Environment Southland, the regional authority that regulates maritime activity in the area.",
          "There is limited data to quantify the extent of alcohol and drug use in the New Zealand recreational maritime sector and its impacts on recreational boating accidents.",
          "The Department of Conservation had insufficient maritime expertise applied to assessing the risks to ships and the environment.",
          "The challenge in maintaining propeller immersion due to the ship's pitching motion into waves, which is exacerbated by the shallow draught required to navigate over the Bar.",
          "The Rena crew occasionally deviated from the passage plan in an ad-hoc manner and did not always incorporate those deviations into the plan - nor did they adequately monitor the ship's progress against the deviations. Deviating from the passage plan was one factor directly contributing to the grounding.",
          "The master's decision to proceed across the Bar without sufficient information on the actual wave conditions over and outside the Bar.",
          "The high risk of the ship becoming overwhelmed by sea conditions during the estimated 30 minutes it would normally take to clear the Bar, especially when crossing right on the limit of maximum safe operating conditions.",
          "There was no clear delineation of who had control of the Rena at the time of the grounding, and the master, having assumed that he had taken control, had received virtually no information on where the ship was, where it was heading and what immediate dangers to navigation he needed to consider.",
          "The standard of BRM on board the Molly Manx during the Otago pilotage did not meet good industry practice.",
          "The deckhand keeping watch on board the Leila Jo was not sufficiently familiar with the collision-prevention rules to be left in sole charge of the watch.",
          "The CIEL oversight of the safety management system as applied on board the Rena was not sufficient to prevent a high number of port state control deficiencies and violations of some company procedures for voyage planning and navigation.",
          "The declaration of \"Red Zone\" was intended to provide a heightened level of vigilance. However, it appears to have had little effect on the actions of the bridge team other than the increased manning level.",
          "The qualifications held by the crew on the Anatoki should have been sufficient to navigate the ship safely on the voyage from Nelson to Tarakohe.",
          "A better standard of crew resource management could have prevented the grounding in spite of the main engine cooling-water problem.",
          "The skipper became distracted by the simultaneous tasks of following the pod of dolphins and giving the passenger commentary over the public address system, to the detriment of monitoring the progress of the vessel in relation to navigation dangers.",
          "The master not using English, the official working language of the ship, when engaging with the chief engineer as the emergency unfolded was a serious breach of emergency management protocols that left the pilot and other bridge team members unaware of the issue they were dealing with. This breach contributed to the Hanjin Bombay grounding.",
          "Inconsistencies in the application of Rule 40D may have resulted in up to 12 fishing vessels operating under the New Zealand Flag not complying fully with the relevant safety standards. A further 50 fishing vessels have been afforded grandparent rights that will allow them to operate indefinitely without meeting contemporary safety standards under the current Maritime Rules.",
          "The voyage planning for the time in the Snares Islands and the standard of bridge resource management on the bridge leading up to the contact did not meet the IMO standards or follow the guidelines published in other leading industry publications.",
          "The design of the closures on the ventilation grilles around the fish processing deck.",
          "A historical lack of common and good-standard practice for keeping ship operation and safety records has resulted in the loss of important information about commercial vessels that are still operating today.",
          "Eight of the 12 vessels managed by CIEL had higher rates of deficiencies per inspection than the average of all other vessels subjected to port state control inspections in the Asia-Pacific region in the same period. The Rena's deficiency rate was almost twice the average. This indicated that the CIEL safety management system for the vessels operating in the Asia-Pacific region, and for the Rena, was not functioning as it could have been according to the ISM Code.",
          "The responsibilities of the various authorities involved in responding to the fire were not clearly documented and understood by all parties.",
          "The standard of bridge resource management on the Monte Stello leading up to the grounding was not as high as that found operating on the other three vessels operated under KiwiRail's safety management system.",
          "The flammability of some materials used on the fish processing deck.",
          "The lack of a wave-rider buoy near the Manukau Bar to provide accurate and timely data on wave conditions, compounded by the difficulty in maintaining navigation aids in the area.",
          "The operator had identified the risk of skippers becoming distracted by giving commentary but had only really identified the risk in certain situations, such as transiting the Hole in the Rock, and not in the broader context of navigating close to navigational dangers while engaging with wildlife.",
          "The performance of both the master and the second mate was likely to have been at least mildly affected by fatigue during the work period midnight to 0215, the period leading up to the grounding.",
          "The grounding could have been prevented if the tugs had still been in attendance in a passive or active escort role.",
          "The crew were not adequately monitoring and fixing the Rena's position as the ship approached Astrolabe Reef and the port of Tauranga.",
          "The standard of crew resource management on board the Hanjin Bombay fell well short of international industry best practice.",
          "The operation of L'Austral's ECDIS did not meet good practice as defined in the IMO guidance or the standards set out in the operator's safety management system.",
          "There is a lack of advice and guidance in the Maritime Rules on what is an acceptable standard for surveyors to approve when the Maritime Rules defer to the surveyors' discretion.",
          "Napier pilots were unaware of the requirement to provide a pilotage service throughout the whole of the Napier Pilotage Area and that the outward pilotage limit was not legal.",
          "The pre-manoeuvre briefing (completion of the Tory Channel Eastern Inbound Approach checklist) did not include any discussion about the actual planned passage, nor reminders about responsibilities (for example pilot/co-pilot), nor was \"Red Zone\" declared. The first two points were not included in the checklist. However, they are an integral part of effective BRM practice. The briefing did not result in a shared mental model across the bridge team.",
          "The IDAS Bulker was not under the control of a licensed pilot when navigating within a pilotage area, contrary to the requirements of the Maritime Rules and the Hawke's Bay Regional Council Navigation Safety Bylaws.",
          "The compass error was infrequently checked and was not checked at all on the voyage from Napier to Tauranga.",
          "A light beacon placed on Astrolabe Reef is another measure that probably would have alerted or reminded the bridge team to the presence of Astrolabe Reef, and would likely have prevented the Rena grounding. However, this needs to be seen in the context of the number of other dangerous rocks and reefs around the New Zealand coastline, the cost versus the benefits of fitting and maintaining light beacons on all such rocks and reefs, the availability and prevalent use of more modern and accurate navigation systems for avoiding such navigational dangers, further advanced systems such as virtual and synthetic aids to navigation that are likely to replace physical light beacons in future, and relevant Resource Management Act considerations.",
          "the training in place for the crew around the configuration of the emergency stops likely resulted in confusion on which emergency stops serviced which system.",
          "The firefighting drills held on board the Taokas Wisdom were not effective in ensuring that all crew were familiar with their tasks and responsibilities in the event of a fire.",
          "The crew were not using the ECDIS in the correct configuration required by the IMO and company standards when the grounding occurred.",
          "The level of bridge resource management on the bridge did not meet industry good practice. The bridge team could not effectively monitor the execution of the pilotage because they did not have an agreed specific pilot plan, or agreed monitoring parameters appropriate to the weather conditions at the time.",
          "The primary means for navigation on board the L'Austral, the ECDIS, was not being used to its full potential as a tool for planning and monitoring the ship's passage, and the crew were not fully conversant with its safety features.",
          "A working bridge watch navigational and alarm system should have been fitted to the Anatoki to mitigate the known risk of one-man bridge operations. Had one been fitted the mate might have been alerted in time to prevent the grounding.",
          null
         ],
         "marker": {
          "opacity": 0.5,
          "size": 5
         },
         "mode": "markers+text",
         "name": "0_Maritime Safety and Resource Management Practices",
         "text": [
          "",
          "",
          "",
          "",
          "",
          "",
          "",
          "",
          "",
          "",
          "",
          "",
          "",
          "",
          "",
          "",
          "",
          "",
          "",
          "",
          "",
          "",
          "",
          "",
          "",
          "",
          "",
          "",
          "",
          "",
          "",
          "",
          "",
          "",
          "",
          "",
          "",
          "",
          "",
          "",
          "",
          "",
          "",
          "",
          "",
          "",
          "",
          "",
          "",
          "",
          "",
          "",
          "",
          "",
          "",
          "",
          "",
          "",
          "",
          "",
          "",
          "",
          "",
          "",
          "",
          "",
          "",
          "",
          "",
          "",
          "",
          "",
          "",
          "",
          "",
          "",
          "",
          "",
          "",
          "",
          "",
          "",
          "",
          "0_Maritime Safety and Resource Management Practices"
         ],
         "textfont": {
          "size": 12
         },
         "type": "scattergl",
         "x": [
          9.04767,
          12.828588,
          11.9308605,
          -4.245966,
          10.450315,
          8.828032,
          14.416227,
          9.4021,
          10.942968,
          10.684466,
          10.714693,
          8.992792,
          9.543418,
          9.736269,
          9.048253,
          12.889586,
          10.661446,
          12.757464,
          10.855088,
          8.868448,
          12.522368,
          12.470566,
          12.363473,
          11.9925585,
          10.017771,
          11.459845,
          9.046614,
          11.549424,
          14.492147,
          9.295795,
          14.455816,
          10.713782,
          14.42132,
          8.735741,
          12.063135,
          14.442978,
          10.304243,
          10.685717,
          9.274909,
          9.403661,
          8.936187,
          12.561624,
          8.99662,
          -4.3276453,
          10.224277,
          -4.290452,
          -4.317018,
          10.129534,
          9.729252,
          9.257448,
          10.907146,
          10.528726,
          12.87754,
          9.247911,
          9.025537,
          9.097712,
          12.161604,
          10.789397,
          14.25505,
          12.225912,
          10.945803,
          9.046758,
          11.420392,
          14.212629,
          -4.310297,
          8.911411,
          12.369604,
          9.427321,
          9.95429,
          9.141255,
          9.715919,
          9.088545,
          8.8373165,
          10.52876,
          8.8447075,
          10.037952,
          9.706422,
          12.909119,
          9.046582,
          9.670149,
          10.418575,
          9.688905,
          9.425344,
          9.8207035
         ],
         "y": [
          0.34502152,
          4.058928,
          1.5910898,
          2.9169703,
          1.9950498,
          2.4597902,
          -2.9878376,
          3.6026206,
          0.55886155,
          0.8393462,
          0.9389701,
          0.23511924,
          4.019563,
          3.6937764,
          -0.60941225,
          1.573868,
          2.258861,
          1.5549996,
          1.2712358,
          0.13254772,
          3.9543128,
          3.9673815,
          1.5747771,
          2.0775964,
          1.7511638,
          1.5883148,
          -0.59394974,
          1.6754415,
          -3.0637286,
          2.1537201,
          -3.0306292,
          1.0967575,
          -2.9724014,
          3.7187102,
          2.1273017,
          -3.0101619,
          1.869365,
          2.3721411,
          2.2185285,
          3.9691844,
          2.0544732,
          3.833398,
          2.159094,
          2.9987972,
          3.1336305,
          2.9613335,
          2.9878683,
          3.2612903,
          1.8899001,
          3.5889819,
          0.5895412,
          2.064788,
          4.065442,
          0.5763163,
          3.8898897,
          0.41833523,
          2.226487,
          1.2097126,
          -2.7060518,
          1.843639,
          0.55189043,
          -0.59727347,
          1.5947341,
          -2.6344614,
          2.9814694,
          3.8554835,
          4.0222654,
          3.4033287,
          3.3791,
          0.4501459,
          4.1747184,
          2.1692657,
          1.9705784,
          2.0602133,
          1.955369,
          3.4567616,
          3.4871445,
          1.5853442,
          -0.6106305,
          4.155101,
          1.9609828,
          4.1665874,
          3.4918792,
          1.7827718
         ]
        },
        {
         "hoverinfo": "text",
         "hovertext": [
          "The cadet was allowed to work at height close to the ship's side without using fall-prevention equipment, jeopardizing his safety.",
          "neither the operator nor the surveyor ensured an appropriate level of surveyor oversight of the project to replace the Kea's propulsion control system.",
          "Fretting between the starboard propeller hub and the tail shaft and corrosion on the metal surface of the tail shaft would have likely decreased its fatigue strength.",
          "the Fullers system allowed the Kea to enter and continue service using the follow-up mode of operation, despite the company knowing that there were faults with that mode that were resulting in incidents.",
          "the operator's planned maintenance programme did not ensure that the manufacturers' specifications were met for the jet boat's steering and control system",
          "A 3W dynamic risk assessment was not carried out prior to the task, despite being encouraged as part of promoting safe operational working practices with adequate risk assessment.",
          "The quality of the fit achieved between the tapered propeller tail shaft and the propeller hub when the new propeller was fitted during the extension project was likely to have been the reason for the fretting.",
          "The rope management plan on board the Captain M. J. Souza was not effectively managing the purchase, storage, inspection and retirement from service of the ropes on board.",
          "Technicians who are authorised to conduct mandatory annual and five-yearly inspections of lifeboat-launching installations are not required to have specific training and certification for inspecting any stored energy-release systems and their associated pressure cylinders.",
          "The operator's risk assessment process did not prevent the bosun working at height with an inadequate fall-protection system.",
          "The pilot/co-pilot system was rendered ineffective when the co-pilot was ordered to a location where he was unable to monitor the pilot's actions and outcomes and to some extent there might have been an overreliance on it, as evidenced by the master not routinely checking that what he had asked for was actually happening.",
          "The mooring procedures contained in the port company's SMS were not strictly adhered to and the procedure in the event of a high wind warning was ineffective.",
          "A lack of documentation from KiwiRail meant that there was no evidence that appropriate checks and balances had been in place to ensure that the new propellers were well fitted.",
          "The ISO standards for large-propeller manufacturing might not be suitable for more modern, high-efficiency propellers that operate closer to cavitation margins.",
          "Encasing wire rope in plastic sheathing prevents the wire being lubricated, maintained and inspected, and can accelerate the onset of corrosion through the retention of salt water within the core of the wire rope.",
          "The lack of a consistent procedure for rigging an accommodation ladder while still at sea.",
          "The deck cadet was not wearing a safety harness and, more importantly, none of the crew routinely used safety harnesses, despite their being a requirement under the ship's safety management system.",
          "Operators have insufficient stability information to make informed decisions, because there is no requirement for small commercial craft to be provided with stability data.",
          "The operator's safety management system had not fully mitigated the risk of fire caused by cargo hold lighting, in spite of an earlier incident involving similar circumstances.",
          "The manufacturer of the lifeboat did not provide adequate advice on the arrangement and construction of, or the maintenance and replacement requirements for, the lifeboat lifting sling.",
          "The use of plastic-coated wire for any rigging that is required to be inspected frequently is unsafe.",
          "the maintenance regime that Fullers followed did not correspond to Wärtsilä's (the engine manufacturer's) recommended maintenance programme, but also Wärtsilä would not explain the rationale behind its recommended maintenance programme",
          "The vessel's managing company had not conducted a risk assessment and had not developed a formal procedure for rigging any of the four accommodation ladders on board the Madinah, and neither had the senior on-board management or the crew who were performing the task.",
          "the Fullers training and familiarisation system failed to ensure that the master was properly trained in and familiar with the Kea's propulsion control system.",
          "The safe working loads of the bollards on Number One Wharf were unknown and therefore it was not possible to determine whether the mooring plan for any ship was safe.",
          "There are currently no global minimum standards for the inspection, testing and rejection of pressure cylinders that make up part of stored energy systems on lifeboat launching installations, which has resulted in a wide variation in, and in some case inadequate, standards applied by flag state administrations, classification societies and authorised service providers.",
          "Neither the ship's planned-maintenance system nor the surveyors of the lifeboat-launching system appear to have recognised the safety-critical function of the lifting sling, and the fact that it could not be properly inspected and maintained in accordance with the relevant SOLAS requirements.",
          "The operator's safety management system was not supported by an effective safety assessment of log-cargo-securing operations, which should have identified the hazards present. This resulted in ineffective controls to mitigate the risks to crew when completing these tasks.",
          "The type of safety culture on board that allowed the situation of not using safety harnesses to exist.",
          "the operator's hazard identification system had not identified the risk that a system critical to the safety of the jet boat could fail",
          "It is about as likely as not that the choker rope that broke on board the Captain M. J. Souza began its life in service at a lower-than-typical breaking load for a rope of that size and construction.",
          "Totally encasing steel wire in plastic sheathing when it is to be used in the marine environment has significant implications for maritime safety, especially when the wire must be regularly inspected and maintained in order to remain fit for purpose.",
          "The design and failure of the wire that the bosun had connected his safety harness to.",
          "The operator had not included predefined weather criteria in its MTOP. This resulted in the skipper having to make a critical safety decision on the weather without any criteria against which to assess it.",
          "Encasing steel wire in plastic sheathing when it is to be used in the marine environment has significant implications for maritime safety, especially when the wire must be regularly inspected and maintained in order to remain fit for purpose.",
          "The day after the accident, some of the crew were still observed working atop the log cargo without wearing safety harnesses, illustrating the ongoing safety culture issues on board.",
          "Fullers had not assessed the risk of operating ferries with unsecured passenger seating.",
          "The actions of the Madinah's bridge team were not intuitive in response to a man-overboard scenario, including not noting the ship's position, not releasing a lifebuoy with a light and smoke signal, not sounding the appropriate signal on the ship's whistle, or not sounding the general alarm.",
          "The crew's violation of the company instructions and best industry advice on the matter of using safety harnesses and fall arrestors when lashing logs on deck had become routine.",
          "KiwiRail did not follow the manufacturer's advice on the best way to fit the new propellers and modify the propulsion system for optimum results. If it had, some of the conditions that contributed to the failure of the tail shaft would have been less likely to occur.",
          "The plastic sheathing that had been placed around the wire on the lifting sling by the manufacturer prevented the crew and surveyors inspecting and maintaining the lifting sling to the standards required by the International Maritime Organization Convention for the Safety of Life at Sea (SOLAS).",
          "The operator of the Henerata had not assessed the risk of a capsize occurring. As a result, there were no documented controls for preventing one occurring or for minimising the consequences should one occur.",
          "It is an unsafe practice to use a vessel's handrails as an anchor point for safety harnesses, because the material condition and strength of the rails are unknown.",
          "The safety management system on board the Captain M. J. Souza provided good guidelines for the management and use of ropes on board. However, neither the crew nor the skipper nor shore management were ensuring that the safety management system was being adequately followed.",
          "the risks associated with operating the accumulator were not fully understood and the safety controls relied heavily on the machine operator following generic instructions and procedures",
          "The cracks in the starboard rudder stock were fatigue cracks. Owing to their position and depth, they were most probably linked to cavitation forces applied to the starboard rudder from the starboard propeller. These forces were likely outside those expected in normal operations.",
          null
         ],
         "marker": {
          "opacity": 0.5,
          "size": 5
         },
         "mode": "markers+text",
         "name": "1_Maritime Safety and Risk Management Deficiencies",
         "text": [
          "",
          "",
          "",
          "",
          "",
          "",
          "",
          "",
          "",
          "",
          "",
          "",
          "",
          "",
          "",
          "",
          "",
          "",
          "",
          "",
          "",
          "",
          "",
          "",
          "",
          "",
          "",
          "",
          "",
          "",
          "",
          "",
          "",
          "",
          "",
          "",
          "",
          "",
          "",
          "",
          "",
          "",
          "",
          "",
          "",
          "",
          "1_Maritime Safety and Risk Management Deficiencies"
         ],
         "textfont": {
          "size": 12
         },
         "type": "scattergl",
         "x": [
          6.912094,
          8.497105,
          8.882738,
          8.758761,
          8.411205,
          7.194652,
          8.841229,
          7.5173206,
          18.00348,
          7.1236887,
          8.692133,
          8.008184,
          8.430867,
          7.7283845,
          17.258476,
          8.026596,
          6.663133,
          7.749191,
          8.159004,
          18.0608,
          17.104069,
          8.729292,
          8.044342,
          8.732822,
          7.9985337,
          18.012772,
          17.910439,
          7.915758,
          6.611649,
          8.15947,
          7.445323,
          17.206192,
          7.083018,
          7.8567915,
          17.211922,
          6.533475,
          7.8897676,
          8.182593,
          6.5757747,
          8.495343,
          17.875452,
          7.854562,
          6.666324,
          7.479237,
          8.128555,
          8.887672,
          9.77196
         ],
         "y": [
          3.0046923,
          7.0711555,
          7.553691,
          6.770149,
          6.579012,
          3.314868,
          7.519585,
          4.152506,
          -1.2051725,
          3.2427652,
          6.8676996,
          3.7713895,
          7.187097,
          5.3456693,
          -0.54116374,
          4.1621156,
          2.6222894,
          5.3315883,
          3.8472648,
          -1.2644798,
          -0.39552012,
          6.7294383,
          4.1691365,
          6.8232985,
          3.7694657,
          -1.2152929,
          -1.1140922,
          3.8491318,
          2.5325253,
          5.7526703,
          4.128583,
          -0.4924424,
          3.1989052,
          5.246579,
          -0.49775615,
          2.4621296,
          5.186899,
          4.3428955,
          2.5109756,
          7.318053,
          -1.0814966,
          5.3038583,
          2.6238854,
          4.129757,
          5.690012,
          7.561998,
          3.779703
         ]
        },
        {
         "hoverinfo": "text",
         "hovertext": [
          "Float-free emergency position indicating radio beacons and the enhancement of people carrying personal locator beacons will improve the chances of being noticed and rescued, particularly in the event of a sudden or catastrophic event such as a capsize.",
          "Although the Easy Rider had been entered into the safe ship management system, it was never going to help the owner and skipper to run a safe fishing operation, because the owner did not understand the principles of safe ship management and the skipper did not appear to show a willingness to comply with the rules.",
          "The rescue response from the vessel's master and crew was not well coordinated or practised, taking some 15 to 20 minutes to remove the bodies from the cargo hold and attempt resuscitation. Given the survival time in the cargo hold atmosphere, any rescue attempt would have had to be immediate and efficient for either of the deceased to survive, which would have been achievable if the entry into enclosed spaces procedure had been followed in the first place.",
          "When an accident or incident occurs that requires a passenger ferry operating in Auckland's congested Hauraki Gulf to abandon ship, it is highly likely that this will be achieved by a ship-to-ship transfer of passengers and crew. This scenario should be included in emergency response training and drills, and passenger ferries from all companies operating in the same area should be designed to minimise the risks of such an operation.",
          "The Easy Rider's manually operated emergency position indicating radio beacon had probably not been intentionally activated and was still stowed in its bracket within the wheelhouse when the vessel sank.",
          "The skipper did not hold the qualification required for him to be in charge of the Easy Rider on the accident voyage.",
          "The shipboard emergency response to the bosun falling into the sea.",
          "It could not be established why the chief officer, a veteran of the sea, and senior officer on board would have ignored the warnings given by the bosun and entered the cargo hold, particularly as number 5 cargo hold was not one of those identified by the fumigator as needing water removed.",
          "a vessel certified to carry up to 90 passengers and operating up to 12 nm from the coast very likely did not have fire detection equipment or automatic fire alarms installed.",
          "There are indications that people may not have a sufficient understanding of the design and capability of the various types of lifejacket available, or of the importance of wearing a lifejacket of the correct size and type for any situation where there is a risk of people ending up in the water.",
          "The Easy Rider's life-raft was in current survey and was properly installed, but was not able to float free to the surface because it became lodged between the wheelhouse and the bulwarks as the vessel was sinking. Rated for 4 persons only, the life-raft did not have sufficient capacity to cater for the 9 persons on board.",
          "The Easy Rider was loaded with too much weight, too high up on deck, which left the boat with insufficient reserve stability for its intended voyage when it departed from Bluff.",
          "Maritime rules that specify the types of lifejacket to be carried on commercial vessels are based only on how far the vessels are permitted to travel from the coast. The rules do not consider environmental factors such as vessels operating out of bar harbours and on exposed coastlines, where higher-specification lifejackets would be more appropriate.",
          "There were as few as 4 approved lifejackets on board the Easy Rider to be shared among 9 people, which not only contravened Maritime Rules but significantly reduced the chances of persons not wearing lifejackets surviving in the water after the vessel capsized.",
          "There were 24 passengers on board the Torea when it was only certified to carry 20 passengers.",
          "It could not be established what training the deceased deck crew member had received in the hazards of entering closed cargo hold, but he might not have been aware of why the chief officer was unconscious, or may simply have been overwhelmed by an emotional urge to perform the rescue in spite of the danger to himself.",
          "The weather conditions were not suitable for the Easy Rider to venture across Foveaux Strait at night, with marginal stability and with passengers on board.",
          "Being a dedicated log carrier, the risk of death by entering closed cargo holds containing logs and rescue from enclosed spaces should have been high on the ship's emergency response training programme, yet no evidence could be found in the vessel's records for the previous 3 months that such a drill or training had been performed.",
          "The owner of the Easy Rider was not meeting its responsibilities for ensuring the safe operation of the vessel, as required by the Maritime Transport Act and Maritime Rules.",
          "The skipper's intention was for the Easy Rider to operate as a commercial fishing vessel on the accident voyage, as he fully intended to go fishing commercially once his passengers and their equipment had been offloaded.",
          "It has not been possible to determine how many, if any, of the 8 persons who died survived the initial capsize, and if so for how long they survived.",
          "The Easy Rider did not have sufficient life-saving equipment for the 9 persons on board.",
          "The Easy Rider capsized when it was engulfed by what was probably a large breaking wave, which reduced the vessel's stability by landing sea water onto the fishing deck, at the same time as rolling the vessel past the angle where it lost any chance of recovery.",
          "the system of transferring passengers to another vessel as a means of evacuation was not documented or practised during evacuation drills.",
          "Neither the owner nor the skipper sought or was given a dispensation by the safe ship management company or the Director of Maritime New Zealand to operate as a pleasure vessel for the accident voyage, which meant that the Easy Rider was a commercial fishing vessel and should not have been carrying any person other than its crew.",
          "The skipper did not have the requisite knowledge of ship stability, or if he did, he did not apply it wisely when loading the Easy Rider for the trip. The Easy Rider being overloaded, with the average distribution of weight being too high, was the prime factor leading to its capsize.",
          null
         ],
         "marker": {
          "opacity": 0.5,
          "size": 5
         },
         "mode": "markers+text",
         "name": "2_Maritime Safety and Emergency Response Failures",
         "text": [
          "",
          "",
          "",
          "",
          "",
          "",
          "",
          "",
          "",
          "",
          "",
          "",
          "",
          "",
          "",
          "",
          "",
          "",
          "",
          "",
          "",
          "",
          "",
          "",
          "",
          "",
          "2_Maritime Safety and Emergency Response Failures"
         ],
         "textfont": {
          "size": 12
         },
         "type": "scattergl",
         "x": [
          2.716863,
          14.35547,
          7.697836,
          8.388545,
          2.605334,
          14.306935,
          8.346379,
          7.667033,
          2.011993,
          2.3193707,
          2.3672857,
          14.987103,
          2.331515,
          2.2909322,
          2.0149674,
          7.6921186,
          14.711964,
          7.7637568,
          14.356904,
          14.282122,
          7.692491,
          2.2222314,
          14.971193,
          8.439254,
          14.321384,
          14.989761,
          8.301951
         ],
         "y": [
          3.8253627,
          4.2278028,
          -3.2307973,
          -2.2329578,
          3.747166,
          4.392554,
          -2.2962248,
          -3.2723699,
          3.3798444,
          3.2884464,
          3.5883498,
          4.543515,
          3.292784,
          3.3935,
          3.361929,
          -3.2455535,
          4.2891994,
          -3.1629941,
          4.199622,
          4.1904655,
          -3.2294595,
          3.4965842,
          4.530201,
          -2.1466942,
          4.2613864,
          4.5536227,
          1.8363571
         ]
        },
        {
         "hoverinfo": "text",
         "hovertext": [
          "The practice of testing the booster valve with compressed air at below normal operating pressures was not effective in identifying potential leaks that could occur under full operating conditions.",
          "The booster valve was found to be in poor condition due to corrosion and de-zincification, suggesting that the existing maintenance regime was inadequate to prevent or identify corrosion-related deterioration over time.",
          "the CO2 fixed fire-fighting system installed in the engine room could not be fully effective in extinguishing the fire because the space it was protecting could not be fully closed down.",
          "The location of fire detector sensors.",
          "the operator and crew of the PeeJay V did not fully appreciate the principles underlying how a fixed fire-fighting CO2 flooding systems works.",
          "The CO2 system's pilot cylinder leaked, but the exact cause of the leak could not be determined, indicating a potential oversight in the inspection or maintenance processes for pilot cylinders within the CO2 fire-suppression system.",
          "Independent audits had found that the Philippine seafarer training system did not meet the standards specified by the STCW Convention at both systemic and training institute levels.",
          "The guidelines for internal inspection of control valves every five years may not be sufficient to detect early deterioration, suggesting that more frequent operational pressure tests could be necessary to ensure system integrity.",
          "The maintenance and testing procedures for the CO2 fire-smothering system's booster valve were insufficient to detect and prevent leaks at operational pressures, leading to the uncontrolled release of CO2 into the engine room.",
          "A clear placard should be placed at the control station for the fixed CO2 fire-suppression systems on all passenger ferries, alerting them to the exact number of CO2 bottles needed to extinguish a fire in each of the protected compartments.",
          "The absence of a requirement for a physical inspection of the booster valve's seating arrangement during maintenance checks could allow deteriorated valves to remain in service, posing a risk to the system's integrity.",
          "The Liberian Registry recognised by endorsement certificates issued by the Philippines in accordance with STCW Convention Regulation I/10, when independent audits found that the Philippines' maritime education, training and certification system did not meet the standards specified in the STCW [95] Convention.",
          "The STCW Convention protocols for auditing countries' maritime education, training and certification systems lacked the transparency that would assist other countries to assess easily whether to recognise the qualification certificates issued by those countries as compliant with STCW standards.",
          "only half of the fixed CO2 fire-suppression system was released into the engine room, which might not have extinguished a sustained fire if one had occurred.",
          null
         ],
         "marker": {
          "opacity": 0.5,
          "size": 5
         },
         "mode": "markers+text",
         "name": "3_Maintenance and Regulation Issues in Maritime CO2 Fire-Suppression Systems and STCW Compliance",
         "text": [
          "",
          "",
          "",
          "",
          "",
          "",
          "",
          "",
          "",
          "",
          "",
          "",
          "",
          "",
          "3_Maintenance and Regulation Issues in Maritime CO2 Fire-Suppression Systems and STCW Compliance"
         ],
         "textfont": {
          "size": 12
         },
         "type": "scattergl",
         "x": [
          -1.4346998,
          -1.5398088,
          -1.0466325,
          -0.51140493,
          -1.0649788,
          -0.8377368,
          -10.293059,
          -1.6114556,
          -1.0839384,
          -0.6610734,
          -1.6101918,
          -10.293053,
          -10.293049,
          -0.9097755,
          -3.0850613
         ],
         "y": [
          4.7490215,
          4.6749043,
          4.7913437,
          4.6930375,
          4.7905626,
          4.766902,
          -5.0797153,
          4.606665,
          4.7866387,
          4.735199,
          4.61151,
          -5.0796933,
          -5.079718,
          4.7983155,
          2.6260698
         ]
        }
       ],
       "layout": {
        "annotations": [
         {
          "showarrow": false,
          "text": "D1",
          "x": -11.837018251419067,
          "y": 1.4273108720779422,
          "yshift": 10
         },
         {
          "showarrow": false,
          "text": "D2",
          "x": 4.466451191902161,
          "xshift": 10,
          "y": 8.696297574043275
         }
        ],
        "height": 750,
        "shapes": [
         {
          "line": {
           "color": "#CFD8DC",
           "width": 2
          },
          "type": "line",
          "x0": 4.466451191902161,
          "x1": 4.466451191902161,
          "y0": -5.84167582988739,
          "y1": 8.696297574043275
         },
         {
          "line": {
           "color": "#9E9E9E",
           "width": 2
          },
          "type": "line",
          "x0": -11.837018251419067,
          "x1": 20.76992063522339,
          "y0": 1.4273108720779422,
          "y1": 1.4273108720779422
         }
        ],
        "template": {
         "data": {
          "bar": [
           {
            "error_x": {
             "color": "rgb(36,36,36)"
            },
            "error_y": {
             "color": "rgb(36,36,36)"
            },
            "marker": {
             "line": {
              "color": "white",
              "width": 0.5
             },
             "pattern": {
              "fillmode": "overlay",
              "size": 10,
              "solidity": 0.2
             }
            },
            "type": "bar"
           }
          ],
          "barpolar": [
           {
            "marker": {
             "line": {
              "color": "white",
              "width": 0.5
             },
             "pattern": {
              "fillmode": "overlay",
              "size": 10,
              "solidity": 0.2
             }
            },
            "type": "barpolar"
           }
          ],
          "carpet": [
           {
            "aaxis": {
             "endlinecolor": "rgb(36,36,36)",
             "gridcolor": "white",
             "linecolor": "white",
             "minorgridcolor": "white",
             "startlinecolor": "rgb(36,36,36)"
            },
            "baxis": {
             "endlinecolor": "rgb(36,36,36)",
             "gridcolor": "white",
             "linecolor": "white",
             "minorgridcolor": "white",
             "startlinecolor": "rgb(36,36,36)"
            },
            "type": "carpet"
           }
          ],
          "choropleth": [
           {
            "colorbar": {
             "outlinewidth": 1,
             "tickcolor": "rgb(36,36,36)",
             "ticks": "outside"
            },
            "type": "choropleth"
           }
          ],
          "contour": [
           {
            "colorbar": {
             "outlinewidth": 1,
             "tickcolor": "rgb(36,36,36)",
             "ticks": "outside"
            },
            "colorscale": [
             [
              0,
              "#440154"
             ],
             [
              0.1111111111111111,
              "#482878"
             ],
             [
              0.2222222222222222,
              "#3e4989"
             ],
             [
              0.3333333333333333,
              "#31688e"
             ],
             [
              0.4444444444444444,
              "#26828e"
             ],
             [
              0.5555555555555556,
              "#1f9e89"
             ],
             [
              0.6666666666666666,
              "#35b779"
             ],
             [
              0.7777777777777778,
              "#6ece58"
             ],
             [
              0.8888888888888888,
              "#b5de2b"
             ],
             [
              1,
              "#fde725"
             ]
            ],
            "type": "contour"
           }
          ],
          "contourcarpet": [
           {
            "colorbar": {
             "outlinewidth": 1,
             "tickcolor": "rgb(36,36,36)",
             "ticks": "outside"
            },
            "type": "contourcarpet"
           }
          ],
          "heatmap": [
           {
            "colorbar": {
             "outlinewidth": 1,
             "tickcolor": "rgb(36,36,36)",
             "ticks": "outside"
            },
            "colorscale": [
             [
              0,
              "#440154"
             ],
             [
              0.1111111111111111,
              "#482878"
             ],
             [
              0.2222222222222222,
              "#3e4989"
             ],
             [
              0.3333333333333333,
              "#31688e"
             ],
             [
              0.4444444444444444,
              "#26828e"
             ],
             [
              0.5555555555555556,
              "#1f9e89"
             ],
             [
              0.6666666666666666,
              "#35b779"
             ],
             [
              0.7777777777777778,
              "#6ece58"
             ],
             [
              0.8888888888888888,
              "#b5de2b"
             ],
             [
              1,
              "#fde725"
             ]
            ],
            "type": "heatmap"
           }
          ],
          "heatmapgl": [
           {
            "colorbar": {
             "outlinewidth": 1,
             "tickcolor": "rgb(36,36,36)",
             "ticks": "outside"
            },
            "colorscale": [
             [
              0,
              "#440154"
             ],
             [
              0.1111111111111111,
              "#482878"
             ],
             [
              0.2222222222222222,
              "#3e4989"
             ],
             [
              0.3333333333333333,
              "#31688e"
             ],
             [
              0.4444444444444444,
              "#26828e"
             ],
             [
              0.5555555555555556,
              "#1f9e89"
             ],
             [
              0.6666666666666666,
              "#35b779"
             ],
             [
              0.7777777777777778,
              "#6ece58"
             ],
             [
              0.8888888888888888,
              "#b5de2b"
             ],
             [
              1,
              "#fde725"
             ]
            ],
            "type": "heatmapgl"
           }
          ],
          "histogram": [
           {
            "marker": {
             "line": {
              "color": "white",
              "width": 0.6
             }
            },
            "type": "histogram"
           }
          ],
          "histogram2d": [
           {
            "colorbar": {
             "outlinewidth": 1,
             "tickcolor": "rgb(36,36,36)",
             "ticks": "outside"
            },
            "colorscale": [
             [
              0,
              "#440154"
             ],
             [
              0.1111111111111111,
              "#482878"
             ],
             [
              0.2222222222222222,
              "#3e4989"
             ],
             [
              0.3333333333333333,
              "#31688e"
             ],
             [
              0.4444444444444444,
              "#26828e"
             ],
             [
              0.5555555555555556,
              "#1f9e89"
             ],
             [
              0.6666666666666666,
              "#35b779"
             ],
             [
              0.7777777777777778,
              "#6ece58"
             ],
             [
              0.8888888888888888,
              "#b5de2b"
             ],
             [
              1,
              "#fde725"
             ]
            ],
            "type": "histogram2d"
           }
          ],
          "histogram2dcontour": [
           {
            "colorbar": {
             "outlinewidth": 1,
             "tickcolor": "rgb(36,36,36)",
             "ticks": "outside"
            },
            "colorscale": [
             [
              0,
              "#440154"
             ],
             [
              0.1111111111111111,
              "#482878"
             ],
             [
              0.2222222222222222,
              "#3e4989"
             ],
             [
              0.3333333333333333,
              "#31688e"
             ],
             [
              0.4444444444444444,
              "#26828e"
             ],
             [
              0.5555555555555556,
              "#1f9e89"
             ],
             [
              0.6666666666666666,
              "#35b779"
             ],
             [
              0.7777777777777778,
              "#6ece58"
             ],
             [
              0.8888888888888888,
              "#b5de2b"
             ],
             [
              1,
              "#fde725"
             ]
            ],
            "type": "histogram2dcontour"
           }
          ],
          "mesh3d": [
           {
            "colorbar": {
             "outlinewidth": 1,
             "tickcolor": "rgb(36,36,36)",
             "ticks": "outside"
            },
            "type": "mesh3d"
           }
          ],
          "parcoords": [
           {
            "line": {
             "colorbar": {
              "outlinewidth": 1,
              "tickcolor": "rgb(36,36,36)",
              "ticks": "outside"
             }
            },
            "type": "parcoords"
           }
          ],
          "pie": [
           {
            "automargin": true,
            "type": "pie"
           }
          ],
          "scatter": [
           {
            "fillpattern": {
             "fillmode": "overlay",
             "size": 10,
             "solidity": 0.2
            },
            "type": "scatter"
           }
          ],
          "scatter3d": [
           {
            "line": {
             "colorbar": {
              "outlinewidth": 1,
              "tickcolor": "rgb(36,36,36)",
              "ticks": "outside"
             }
            },
            "marker": {
             "colorbar": {
              "outlinewidth": 1,
              "tickcolor": "rgb(36,36,36)",
              "ticks": "outside"
             }
            },
            "type": "scatter3d"
           }
          ],
          "scattercarpet": [
           {
            "marker": {
             "colorbar": {
              "outlinewidth": 1,
              "tickcolor": "rgb(36,36,36)",
              "ticks": "outside"
             }
            },
            "type": "scattercarpet"
           }
          ],
          "scattergeo": [
           {
            "marker": {
             "colorbar": {
              "outlinewidth": 1,
              "tickcolor": "rgb(36,36,36)",
              "ticks": "outside"
             }
            },
            "type": "scattergeo"
           }
          ],
          "scattergl": [
           {
            "marker": {
             "colorbar": {
              "outlinewidth": 1,
              "tickcolor": "rgb(36,36,36)",
              "ticks": "outside"
             }
            },
            "type": "scattergl"
           }
          ],
          "scattermapbox": [
           {
            "marker": {
             "colorbar": {
              "outlinewidth": 1,
              "tickcolor": "rgb(36,36,36)",
              "ticks": "outside"
             }
            },
            "type": "scattermapbox"
           }
          ],
          "scatterpolar": [
           {
            "marker": {
             "colorbar": {
              "outlinewidth": 1,
              "tickcolor": "rgb(36,36,36)",
              "ticks": "outside"
             }
            },
            "type": "scatterpolar"
           }
          ],
          "scatterpolargl": [
           {
            "marker": {
             "colorbar": {
              "outlinewidth": 1,
              "tickcolor": "rgb(36,36,36)",
              "ticks": "outside"
             }
            },
            "type": "scatterpolargl"
           }
          ],
          "scatterternary": [
           {
            "marker": {
             "colorbar": {
              "outlinewidth": 1,
              "tickcolor": "rgb(36,36,36)",
              "ticks": "outside"
             }
            },
            "type": "scatterternary"
           }
          ],
          "surface": [
           {
            "colorbar": {
             "outlinewidth": 1,
             "tickcolor": "rgb(36,36,36)",
             "ticks": "outside"
            },
            "colorscale": [
             [
              0,
              "#440154"
             ],
             [
              0.1111111111111111,
              "#482878"
             ],
             [
              0.2222222222222222,
              "#3e4989"
             ],
             [
              0.3333333333333333,
              "#31688e"
             ],
             [
              0.4444444444444444,
              "#26828e"
             ],
             [
              0.5555555555555556,
              "#1f9e89"
             ],
             [
              0.6666666666666666,
              "#35b779"
             ],
             [
              0.7777777777777778,
              "#6ece58"
             ],
             [
              0.8888888888888888,
              "#b5de2b"
             ],
             [
              1,
              "#fde725"
             ]
            ],
            "type": "surface"
           }
          ],
          "table": [
           {
            "cells": {
             "fill": {
              "color": "rgb(237,237,237)"
             },
             "line": {
              "color": "white"
             }
            },
            "header": {
             "fill": {
              "color": "rgb(217,217,217)"
             },
             "line": {
              "color": "white"
             }
            },
            "type": "table"
           }
          ]
         },
         "layout": {
          "annotationdefaults": {
           "arrowhead": 0,
           "arrowwidth": 1
          },
          "autotypenumbers": "strict",
          "coloraxis": {
           "colorbar": {
            "outlinewidth": 1,
            "tickcolor": "rgb(36,36,36)",
            "ticks": "outside"
           }
          },
          "colorscale": {
           "diverging": [
            [
             0,
             "rgb(103,0,31)"
            ],
            [
             0.1,
             "rgb(178,24,43)"
            ],
            [
             0.2,
             "rgb(214,96,77)"
            ],
            [
             0.3,
             "rgb(244,165,130)"
            ],
            [
             0.4,
             "rgb(253,219,199)"
            ],
            [
             0.5,
             "rgb(247,247,247)"
            ],
            [
             0.6,
             "rgb(209,229,240)"
            ],
            [
             0.7,
             "rgb(146,197,222)"
            ],
            [
             0.8,
             "rgb(67,147,195)"
            ],
            [
             0.9,
             "rgb(33,102,172)"
            ],
            [
             1,
             "rgb(5,48,97)"
            ]
           ],
           "sequential": [
            [
             0,
             "#440154"
            ],
            [
             0.1111111111111111,
             "#482878"
            ],
            [
             0.2222222222222222,
             "#3e4989"
            ],
            [
             0.3333333333333333,
             "#31688e"
            ],
            [
             0.4444444444444444,
             "#26828e"
            ],
            [
             0.5555555555555556,
             "#1f9e89"
            ],
            [
             0.6666666666666666,
             "#35b779"
            ],
            [
             0.7777777777777778,
             "#6ece58"
            ],
            [
             0.8888888888888888,
             "#b5de2b"
            ],
            [
             1,
             "#fde725"
            ]
           ],
           "sequentialminus": [
            [
             0,
             "#440154"
            ],
            [
             0.1111111111111111,
             "#482878"
            ],
            [
             0.2222222222222222,
             "#3e4989"
            ],
            [
             0.3333333333333333,
             "#31688e"
            ],
            [
             0.4444444444444444,
             "#26828e"
            ],
            [
             0.5555555555555556,
             "#1f9e89"
            ],
            [
             0.6666666666666666,
             "#35b779"
            ],
            [
             0.7777777777777778,
             "#6ece58"
            ],
            [
             0.8888888888888888,
             "#b5de2b"
            ],
            [
             1,
             "#fde725"
            ]
           ]
          },
          "colorway": [
           "#1F77B4",
           "#FF7F0E",
           "#2CA02C",
           "#D62728",
           "#9467BD",
           "#8C564B",
           "#E377C2",
           "#7F7F7F",
           "#BCBD22",
           "#17BECF"
          ],
          "font": {
           "color": "rgb(36,36,36)"
          },
          "geo": {
           "bgcolor": "white",
           "lakecolor": "white",
           "landcolor": "white",
           "showlakes": true,
           "showland": true,
           "subunitcolor": "white"
          },
          "hoverlabel": {
           "align": "left"
          },
          "hovermode": "closest",
          "mapbox": {
           "style": "light"
          },
          "paper_bgcolor": "white",
          "plot_bgcolor": "white",
          "polar": {
           "angularaxis": {
            "gridcolor": "rgb(232,232,232)",
            "linecolor": "rgb(36,36,36)",
            "showgrid": false,
            "showline": true,
            "ticks": "outside"
           },
           "bgcolor": "white",
           "radialaxis": {
            "gridcolor": "rgb(232,232,232)",
            "linecolor": "rgb(36,36,36)",
            "showgrid": false,
            "showline": true,
            "ticks": "outside"
           }
          },
          "scene": {
           "xaxis": {
            "backgroundcolor": "white",
            "gridcolor": "rgb(232,232,232)",
            "gridwidth": 2,
            "linecolor": "rgb(36,36,36)",
            "showbackground": true,
            "showgrid": false,
            "showline": true,
            "ticks": "outside",
            "zeroline": false,
            "zerolinecolor": "rgb(36,36,36)"
           },
           "yaxis": {
            "backgroundcolor": "white",
            "gridcolor": "rgb(232,232,232)",
            "gridwidth": 2,
            "linecolor": "rgb(36,36,36)",
            "showbackground": true,
            "showgrid": false,
            "showline": true,
            "ticks": "outside",
            "zeroline": false,
            "zerolinecolor": "rgb(36,36,36)"
           },
           "zaxis": {
            "backgroundcolor": "white",
            "gridcolor": "rgb(232,232,232)",
            "gridwidth": 2,
            "linecolor": "rgb(36,36,36)",
            "showbackground": true,
            "showgrid": false,
            "showline": true,
            "ticks": "outside",
            "zeroline": false,
            "zerolinecolor": "rgb(36,36,36)"
           }
          },
          "shapedefaults": {
           "fillcolor": "black",
           "line": {
            "width": 0
           },
           "opacity": 0.3
          },
          "ternary": {
           "aaxis": {
            "gridcolor": "rgb(232,232,232)",
            "linecolor": "rgb(36,36,36)",
            "showgrid": false,
            "showline": true,
            "ticks": "outside"
           },
           "baxis": {
            "gridcolor": "rgb(232,232,232)",
            "linecolor": "rgb(36,36,36)",
            "showgrid": false,
            "showline": true,
            "ticks": "outside"
           },
           "bgcolor": "white",
           "caxis": {
            "gridcolor": "rgb(232,232,232)",
            "linecolor": "rgb(36,36,36)",
            "showgrid": false,
            "showline": true,
            "ticks": "outside"
           }
          },
          "title": {
           "x": 0.05
          },
          "xaxis": {
           "automargin": true,
           "gridcolor": "rgb(232,232,232)",
           "linecolor": "rgb(36,36,36)",
           "showgrid": false,
           "showline": true,
           "ticks": "outside",
           "title": {
            "standoff": 15
           },
           "zeroline": false,
           "zerolinecolor": "rgb(36,36,36)"
          },
          "yaxis": {
           "automargin": true,
           "gridcolor": "rgb(232,232,232)",
           "linecolor": "rgb(36,36,36)",
           "showgrid": false,
           "showline": true,
           "ticks": "outside",
           "title": {
            "standoff": 15
           },
           "zeroline": false,
           "zerolinecolor": "rgb(36,36,36)"
          }
         }
        },
        "title": {
         "font": {
          "color": "Black",
          "size": 22
         },
         "text": "<b>Documents and Topics</b>",
         "x": 0.5,
         "xanchor": "center",
         "yanchor": "top"
        },
        "width": 1200,
        "xaxis": {
         "visible": false
        },
        "yaxis": {
         "visible": false
        }
       }
      }
     },
     "metadata": {},
     "output_type": "display_data"
    }
   ],
   "source": [
    "demo_individual_models = [BERTopic.load(f\"demo_individual_model_mode_{i}\") for i in range(3)]\n",
    "\n",
    "for model, df, i in zip(demo_individual_models, modes_dfs, range(len(demo_individual_models))):\n",
    "    array_embeddings = column_to_2darray(df['si_embedding'])\n",
    "\n",
    "    reduced_array_embeddings = UMAP(n_neighbors=3, n_components=2, min_dist=0.0, metric='cosine', random_state=42).fit_transform(array_embeddings)\n",
    "\n",
    "    visualization = model.visualize_documents(df['si'].to_list(), embeddings=array_embeddings, reduced_embeddings=reduced_array_embeddings)\n",
    "\n",
    "    with open(os.path.join('topic_visuals', f'demo_individual_model_mode_{i}_visual.html'), 'w') as f:\n",
    "        visualization.write_html(f)\n",
    "\n",
    "    display(visualization)"
   ]
  },
  {
   "cell_type": "code",
   "execution_count": 87,
   "metadata": {},
   "outputs": [
    {
     "name": "stderr",
     "output_type": "stream",
     "text": [
      "2024-05-07 15:34:30,189 - BERTopic - WARNING: You are loading a BERTopic model without explicitly defining an embedding model. If you want to also load in an embedding model, make sure to use `BERTopic.load(my_model, embedding_model=my_embedding_model)`.\n"
     ]
    },
    {
     "data": {
      "application/vnd.plotly.v1+json": {
       "config": {
        "plotlyServerURL": "https://plot.ly"
       },
       "data": [
        {
         "hoverinfo": "text",
         "hovertext": [
          null
         ],
         "marker": {
          "color": "#CFD8DC",
          "opacity": 0.5,
          "size": 5
         },
         "mode": "markers+text",
         "name": "other",
         "showlegend": false,
         "type": "scattergl",
         "x": [
          null
         ],
         "y": [
          null
         ]
        },
        {
         "hoverinfo": "text",
         "hovertext": [
          "The train driver did not challenge the train controller when told by him that his train was routed to cross over onto what he had known was a section of track closed for maintenance work.",
          "The eProtect KMC module on board the locomotive had been transmitting error messages for three weeks before the incident, but the activity database was not being monitored for this type of error.",
          "The amendments to the Rule did not consider the risks to road and rail users at level crossings in close proximity to road intersections.",
          "Level crossings warrant special consideration when setting road vehicle standards, because trains have the right of way along the rail corridor and cannot stop for road vehicles in their path.",
          "The existing system allowed for heavy trains to use the crossing loop, which had previously been identified as a risk following a similar derailment in 2016, but no preventive measures were implemented until after this incident.",
          "Veolia had updated its safety case to reflect the 2006 contract variation that saw it take responsibility for 3 signal boxes, but it had not developed a plan within its safety system to show how it intended to manage the operation. Rather it relied on the train control/signaller experience within its management team to provide oversight of the function.",
          "The level of protection for people using pedestrian level crossings in the Auckland metro network is currently inadequate because the risk assessment process for pedestrian level crossings is not keeping pace with the infrastructure changes and increasing patronage.",
          "The visual inspection regime for wheel-bearings is not an effective means of managing and preventing total wheel-bearing failure, as it failed to detect the impending failure in this case.",
          "The lever in the signal box that was used to change the aspect of Signal 3A at Papakura should have had a double \"blocking\" ability to remind the signaler that 2 authorisations from 2 different people were required before she should change the signal aspect, but the system had not been designed to enable that.",
          "Work within the rail corridor was undertaken without a permit to do so being obtained. As a result, potential risk-mitigation actions that were required prior to the issue of the permit were not completed. Not obtaining a permit increased the risk to road and rail users approaching the crossing.",
          "The relatively high centre of gravity of the loaded coal wagons, while within permissible limits, contributed to the overall effect of dynamic interaction, reducing the stability of the wagons.",
          "The driving compartments on Trains 6250 and 6247 were damaged during the collision sequence to such an extent that had the drivers not vacated their driving positions before impact they would likely have been fatally injured.",
          "The TMP did not fully identify the risks to road and rail vehicles approaching the crossing.",
          "Fretting between the starboard propeller hub and the tail shaft and corrosion on the metal surface of the tail shaft would have likely decreased its fatigue strength.",
          "The absence of the interlock on the Ganz Mavag sets placed a greater reliance on driver performance and the design of the door-alert system to prevent a premature train departure.",
          "The Beach Road/ State Highway 1 intersection did not have a sufficient stacking distance to accommodate this bus, and any other road vehicle over about 10 m in length, without those vehicles encroaching on the rail corridor at the Beach Road level crossing.",
          "The sighting distance available to drivers of long vehicles to cross the Te Onetea Road level crossing safely did not comply with the NZ Transport Agency's Traffic Control Devices Manual.",
          "The profile of the Beach Road level crossing and the adjacent section of road leading up to the intersection with State Highway 1 were not well suited for long and low road vehicles.",
          "The National Rail System Standards (NRSS) did not require the Matangi braking system to be tested under slippery track conditions against an appropriate standard, resulting in the train brake system not being optimised for low-adhesion conditions.",
          "The left-hand switch rail fractured and misaligned due to a fatigue crack initiated from a chatter mark introduced during the machining process, leading to the derailment.",
          "The quality of the fit achieved between the tapered propeller tail shaft and the propeller hub when the new propeller was fitted during the extension project was likely to have been the reason for the fretting.",
          "The lack of a requirement for a second person to verify the correct setting and isolation of points at crossing loops introduces a risk of single-person errors leading to incidents.",
          "There were several procedural lapses by three experienced rail staff members between the coupling of the two locomotives at Auckland and the train examiner's dismounting from the train 12 hours later.",
          "About 19% of all rail level crossings have insufficient available stacking distances available for long road vehicles using adjacent road intersections.",
          "The train driver's reliance on incorrect information received from train control and the workgroup team leader, without verifying the points' setting at the crossing loop, led to a signal passed at danger (SPAD) incident.",
          "The legislation is not clear on the allocation of responsibility between licensed rail access providers and road controlling authorities for ensuring the safety of road and rail users at public road level crossings.",
          "The signaller was certified and therefore qualified to operate the Papakura signal box, but she had had only 8 months' total experience as a signal box controller and had not worked there in the previous 6 months, which may not have been enough total and recent experience to deal with the complexity of operations at the time of the incident.",
          "A large percentage of pedestrian level crossings located in provincial areas do not fully conform with guidelines within the NZ Transport Agency's Traffic Control Devices Manual - Part 9 - Level Crossings.",
          "The crossing loops' semi-automatic system lacks visibility for train control regarding how the points are set or what the signals are displaying, requiring manual input from train drivers to activate the points to enter a crossing loop.",
          "The signalling system provided a proceed signal into the damaged section because the electrical circuit was completed despite the switch rail being fractured, which did not prevent the train from entering the faulty track section.",
          "Changes in the Land Transport Rule: Vehicle Dimensions and Mass have been made with little formal consideration for the compatibility of long and low road vehicles with existing rail level crossings throughout New Zealand.",
          "The regulatory and operational accountabilities of the Auckland metro system do not expressly deal with responsibility for safety and control at the boundaries between station platforms and the rail corridor.",
          "The cracks in the starboard rudder stock were fatigue cracks. Owing to their position and depth, they were most probably linked to cavitation forces applied to the starboard rudder from the starboard propeller. These forces were likely outside those expected in normal operations.",
          "The high incidence of brake block replacement, which can contribute to premature bearing failure, was not addressed by putting the wagon under an enhanced monitoring and inspection schedule.",
          "The procedure for manually setting and isolating points at crossing loops to prevent automatic resetting and ensure trains pass straight on the main line was not correctly followed, leading to the freight train being wrongly routed into the loop.",
          "Excessive speed, combined with a track twist within code and the high centre of gravity of the load on the derailed wagons, led to the derailment due to dynamic interaction.",
          "The wagon was authorised to return to service following a routine maintenance inspection with wheel flange surface roughness outside specified limits.",
          "The Matangi braking and wheel-slide protection systems were not performing as well as they could have because they had not been tested against an appropriate standard and tuned for optimum braking in low-adhesion conditions before the trains were commissioned to service.",
          "When the three staff members came together to couple the third locomotive to the disabled train at Glenbrook, no challenge and confirm actions were taken to complete a fundamental brake test procedure, which was designed to ensure that the trains' air brakes were functioning correctly.",
          "there was insufficient management of the rail protection officer's day-to-day workload, which likely contributed to his being fatigued at the time he reported the track as clear, when it was not.",
          "The signallers lacked some familiarity with the physical layout and equipment capabilities in the Wellington yard that they were controlling.",
          "Driver B was able to set the brake handles incorrectly because there was no interlock capability between the two driving cabs of the DL-class locomotives. The incorrect brake set-up resulted in driver B not having brake control over the coupled wagons.",
          "There is a potential safety issue with the ergonomics of the driver door-alert system on the Ganz Mavag sets.",
          "The training that drivers received for transitioning from the Ganz Mavag to the Matangi train type did not provide them with sufficient information in respect of the design and correct operation of the train brake and wheel-slide protection systems.",
          "The RPO allowed a signals technician to enter the PWA without following the procedure prescribed in rule 902, resulting in a significant safety barrier being breached.",
          "The incomplete electrical plug connection went undetected by several rail staff.",
          "Sighting distances for road users at level crossings are one of the factors used to determine the appropriate level of protection required, yet the growth in vegetation around railway level crossings can change sighting distances in a relatively short time and render the level crossings unsafe.",
          "Current inspection procedures were unable to detect the chatter marks on the outer foot of the installed switch rail, indicating a limitation in the effectiveness of track inspection methods to identify potential rail defects.",
          "Level crossing assessments do not require the road profile and the alignment of roads on the approach to and passing over level crossings to be routinely measured. Therefore, there are no checks made to ensure that all road-legal vehicles can pass over level crossings without becoming stuck.",
          "The lack of a dedicated RailBAM analyst position and an agreed process for monitoring, reviewing, and acting on RailBAM data contributed to the failure to adequately address detected bearing faults before the derailment occurred.",
          "The signaller had not undergone the required formal level A safety observations after gaining certifications at both the Papakura and Pukekohe signal boxes.",
          "Misunderstandings and procedural lapses allowed the signals technician to commence work in the rail corridor with a false sense of security, potentially putting them at risk from rail traffic.",
          "The Matangi braking and wheel-slide protection systems were not performing as well as they could have because they had not been tested against an appropriate standard and tuned for optimum braking in low-adhesion conditions before the trains were commissioned to service.",
          "A key safety issue was that the National Rail System Standards (NRSS) did not require the Matangi braking system to be tested under slippery track conditions against an appropriate standard. Consequently, the train brake system had not been optimised for low-adhesion conditions.",
          "The rail fracture examination revealed that the fracture was consistent with a fatigue crack, and the rail as manufactured met all standards and specifications required, yet it failed in service, indicating potential inadequacies in the rail manufacturing or inspection processes.",
          "The design of the passenger door-alert system did not follow the convention where the colour red means \"danger\" or \"stop\" and green means \"go\" or \"safe\", which could lead to confusion and unsafe conditions.",
          "The RailBAM system, while operational, did not effectively prevent the derailment due to the procedures in place at the time, which did not prioritize the investigation and remediation of detected faults unless they reached a severity level that was considered critical.",
          "The National Rail System Standards do not adequately address the braking performance in low-adhesion conditions of modern metropolitan passenger trains that are fitted with computer-controlled brake and wheel-slide protection systems.",
          "Ultrasonic testing, designed to detect cracks in the head and web of the rail, is unable to detect defects originating from the foot of the rail unless such defects propagate into the web, indicating a limitation in the technology's ability to detect certain types of rail defects.",
          "The National Rail System Standards do not adequately address the braking performance in low-adhesion conditions of modern metropolitan passenger trains that are fitted with computer-controlled brake and wheel-slide protection systems.",
          "The process for upgrading the signal box display had not ensured that the mimic screen matched the physical track layout, and had not detected the absence of an interlock to prevent the signallers setting the points to a configuration over which it was not possible for rail traffic to travel.",
          "The training that drivers received for transitioning from the Ganz Mavag to the Matangi train type did not provide them with sufficient information in respect of the design and correct operation of the train brake and wheel-slide protection systems.",
          "The standard of maintenance for a safety-critical braking system, particularly the procedures for ensuring that maintenance was conducted in accordance with best engineering practice and that there were independent final checks of critical systems before electric multiple units were released back into service.",
          "Records show that the signaller had successfully passed her theory training for signalling operations, but gaps were noted relating to her practical training using the Mis.60 procedure. This gap in her training had never been resolved.",
          "Any road vehicle over about 10 m in length could not safely use the Beach Road/ State Highway 1 intersection when turning right to State Highway 1 from Beach Road.",
          "The axle-counter system used for signalling does not detect broken rails as effectively as traditional track-circuited systems might, potentially increasing the risk of incidents related to rail fractures not being detected.",
          "The supply agreement did not specify a surface roughness standard for machined components, allowing for the presence of chatter marks that reduced the fatigue and fracture resistance of the rail.",
          "The absence of trackside distance markers to support the stabilised approach braking technique potentially compromises the ability of train drivers to control train speed and stop before signals at crossing loops.",
          "Miscommunication between the workgroup team leader and train control regarding the status of points, and the failure to confirm and correctly document the points' status, contributed to the incident.",
          "The Ganz trains were generally strong and well-built and had met the crashworthiness standards at the time of build some 30 years earlier, but they did not perform as well as a modern train during a similar front-end collision, thereby increasing the risk of injury to the drivers and possibly passengers seated near the ends of the trains.",
          null
         ],
         "marker": {
          "opacity": 0.5,
          "size": 5
         },
         "mode": "markers+text",
         "name": "0_Rail and Road Safety and Standards Compliance",
         "text": [
          "",
          "",
          "",
          "",
          "",
          "",
          "",
          "",
          "",
          "",
          "",
          "",
          "",
          "",
          "",
          "",
          "",
          "",
          "",
          "",
          "",
          "",
          "",
          "",
          "",
          "",
          "",
          "",
          "",
          "",
          "",
          "",
          "",
          "",
          "",
          "",
          "",
          "",
          "",
          "",
          "",
          "",
          "",
          "",
          "",
          "",
          "",
          "",
          "",
          "",
          "",
          "",
          "",
          "",
          "",
          "",
          "",
          "",
          "",
          "",
          "",
          "",
          "",
          "",
          "",
          "",
          "",
          "",
          "",
          "",
          "0_Rail and Road Safety and Standards Compliance"
         ],
         "textfont": {
          "size": 12
         },
         "type": "scattergl",
         "x": [
          8.937269,
          7.834396,
          9.824299,
          10.501534,
          8.859833,
          8.28053,
          10.122716,
          7.658352,
          8.337864,
          9.554614,
          8.0123,
          8.65426,
          9.747663,
          4.9571066,
          8.74891,
          10.582868,
          10.517027,
          10.587863,
          8.241901,
          7.556308,
          4.9937563,
          8.854462,
          8.178524,
          10.545099,
          8.907995,
          10.0023985,
          8.340486,
          10.375102,
          8.87618,
          8.419762,
          10.501681,
          10.029804,
          4.9489536,
          7.739318,
          8.817952,
          8.05851,
          8.055721,
          8.289914,
          8.2668295,
          7.689092,
          8.232613,
          8.338388,
          8.771449,
          8.454402,
          8.053053,
          8.190982,
          10.507144,
          7.5062423,
          10.519036,
          7.6626773,
          8.284103,
          8.123799,
          8.30484,
          8.291821,
          7.554546,
          8.8331,
          7.65342,
          8.293174,
          7.5394397,
          8.289235,
          8.276768,
          8.433712,
          8.322603,
          8.31844,
          10.586857,
          7.638197,
          7.4964952,
          8.947995,
          8.892432,
          8.720884,
          8.577815
         ],
         "y": [
          5.122396,
          4.9200315,
          6.9415383,
          7.1892753,
          5.849381,
          5.7218738,
          6.9288282,
          4.286855,
          5.7559133,
          6.7002892,
          4.3926234,
          4.3205085,
          6.8759365,
          5.416083,
          4.1657157,
          7.259251,
          7.2061267,
          7.265928,
          3.7433074,
          4.3871684,
          5.4403696,
          5.8532233,
          4.983284,
          7.228084,
          5.217891,
          6.905007,
          5.7390523,
          7.08667,
          5.8784165,
          5.4798117,
          7.194208,
          6.8830523,
          5.403208,
          4.23687,
          5.791525,
          4.370692,
          3.8798306,
          3.7503436,
          4.456395,
          5.2360516,
          5.4112883,
          4.2872176,
          4.15556,
          4.028189,
          5.2961435,
          5.0519156,
          7.19412,
          4.394093,
          7.207567,
          4.4447036,
          5.712424,
          5.189273,
          3.7423432,
          3.711894,
          4.373726,
          4.0835576,
          4.5263205,
          3.6900685,
          4.3964033,
          3.689526,
          5.496831,
          4.004442,
          3.6793237,
          5.7367125,
          7.2638073,
          4.526555,
          4.365004,
          5.858134,
          5.085916,
          4.2279677,
          5.2899146
         ]
        },
        {
         "hoverinfo": "text",
         "hovertext": [
          "The incident would have been less likely to occur had the aeroplane pilots immediately broadcast that they had lost sight of the helicopter.",
          "The flammability of some materials used on the fish processing deck.",
          "The lack of a requirement for controlling or recording the use of rags during maintenance and cleaning tasks in the flight deck area and in the electronics and equipment compartment allows for the possibility of foreign objects being left behind, which can compromise the integrity of critical aircraft systems.",
          "The master's decision to proceed across the Bar without sufficient information on the actual wave conditions over and outside the Bar.",
          "The CAA's use of 'should' in advisory circulars could be misleading, because one could infer that full adherence to the chosen means of compliance is optional.",
          "The means of escape from the Jubilee's wheelhouse and accommodation space may not have met the intent of the Maritime Rules for providing escape for crew in the event of fire.",
          "When an IFR aeroplane is approved to conduct a visual approach to land, current ATC procedures can allow the flight crew to change their radio to the tower frequency dependent on their other clearance actions. This can create a situation where the approach controller is unable to contact that flight crew when the controller is still responsible for monitoring that flight crew's compliance with an instruction.",
          "The first air traffic controller did not hear the PAN call from NZ5046, and as PAN was not used when the crew repeated their message, he did not recognise that their situation was one of urgency.",
          "Avsec and airport company procedures had made no provision for vehicles to enter the runway without an ATC clearance outside the hours of operation of ATC, except in the case of an emergency.",
          "The controllers and the pilots of the Pacific Blue aeroplane did not share the same understanding of how the published missed approach would be protected while Pacific Blue was circling. The different texts in the AIP and the Manual of Air Traffic Services at that time contributed to that misunderstanding.",
          "The reliance on weather forecasts and data from distant wave-rider buoys, which may not accurately reflect conditions at the Manukau Bar, leading to underestimation of the risks of crossing the Bar.",
          "Drivers of airport vehicles, including Avsec officers, were not trained or required to follow the good aviation practice of checking in both directions before moving onto runways, even when given permission to do so by ATC.",
          "It is likely that the level of risk with flight operations at Queenstown Aerodrome has increased because of changes in the variety and intensity of operations.",
          "The lack of a wave-rider buoy near the Manukau Bar to provide accurate and timely data on wave conditions, compounded by the difficulty in maintaining navigation aids in the area.",
          "The aviation community, including the regulator, Airways, aerodrome operators and aircraft operators, does not have a consistent approach to reducing the collision risks associated with simultaneous opposed circuits at aerodromes.",
          "The absence of a visual indicator in the wheelhouse that would have alerted the crew when the bilge pump was running meant that the bilge pumping system was non-compliant with Maritime Rules. There was no other means fitted to the fish hold bilge system to alert the crew to excess water in the fish hold.",
          "differences between the intensity settings used on the night of this incident for runway and taxiway lights and the ICAO-recommended settings for similar conditions",
          "The Avsec officer's actions were indicative of a 'tunnel' focus on completing his own tasks with little regard for the bigger picture of the aerodrome operation.",
          "Had the Pacific Blue pilots turned back towards the aerodrome while climbing to the missed approach altitude of 8500 ft, which was possible under PANS-OPS, a more hazardous scenario might have ensued, because Qantas had already been cleared to descend through the same area.",
          "There were no established procedures for entering the runway when the control tower was not operational, including a lack of pre-duty briefing or team meetings to discuss such procedures.",
          "Despite the general acceptance of final inspections after all work has been completed and before the aeroplane is returned to service as best aeronautical engineering practice, incidents of rags being left in the aircraft occurred, indicating a need for more thorough inspections and adherence to procedures developed to prevent foreign objects from being left behind after maintenance.",
          "Had the controllers realised that the low cloud around the aerodrome made the visual circuit unsuitable for a jet aeroplane, they could have protected the missed approach for Pacific Blue by a more positive means, such as not clearing Qantas for its approach until Pacific Blue had landed.",
          "There was no procedure for an Avsec officer to check with the airport night security agent for any expected aircraft movements before the officer entered the runway outside the normal hours of ATC.",
          "Pilots, particularly those of jet aeroplanes, making non-precision approaches to Queenstown Aerodrome cannot fully meet the PANS-OPS requirements for such approaches because the runway cannot be kept in sight at all times when circling below the minimum descent altitude.",
          "The Avsec officer did not appreciate that flights could be delayed or that aircraft movements could occur at any time, nor did he appreciate that the illuminated runway lights meant the runway was active.",
          "Airways also required controllers to pass pireps to other aircraft that could be affected, but pireps were not in the AIP list of information that ATC would pass to aircraft.",
          "Some aerodrome controllers are 'over-controlling' VFR traffic in and around the zone, which is unnecessarily congesting the radio frequencies and risks causing difficulties for inexperienced pilots and those for whom English is their second language.",
          "While ATC sequences an IFR aeroplane to land and approves the flight crew to conduct a visual approach, current air traffic rules do not require controllers to provide flight crew with their positions in the approach sequence. This information can be crucial to a flight crew conducting a visual approach for them to maintain their situational awareness.",
          "The controller's instructions were valid for Class D airspace, but he did not manage the increased risk of collision presented by the aeroplane descending to circuit altitude in the opposite direction.",
          "The controller recognised the potential for a conflict, but he provided traffic information to the pilots of the aeroplane only, and not to the pilots of the helicopter.",
          "Local aerodrome user groups benefit their participants by providing information about their respective activities. Aerodrome operators, in order to manage their operational risks, should require their relevant tenants and users to participate fully in such groups.",
          "variances in lighting seen at Auckland Airport are a safety issue that the Commission is recommending that the chief executive of Auckland Airport address.",
          "The means of escape from the Jubilee's wheelhouse in the event of an emergency afforded the crew too few options for escaping in the event of capsize or sinking.",
          "The incident would not have occurred had either of the aeroplane pilots stopped the descent when he lost sight of the helicopter.",
          "The Avsec officer lacked a thorough knowledge of the operational environment, including the meaning of the aerodrome lighting.",
          "Foreign objects left inside an aircraft and around safety-critical components such as flight control systems are a threat to the safe operation of the aircraft. Loose articles can move inside an aircraft and become trapped under moving components, such as control cables and levers, disrupting the normal operation of aircraft systems and damaging system components.",
          "The defence of 'see and avoid' is not foolproof against mid-air collisions and, despite repeated efforts to educate pilots about safety around aerodromes, these types of accidents continue to occur.",
          "administrative errors were identified in the advisory circular AC139-6 current at the time of this incident, which had the potential to create ambiguity in the way the relevant ICAO standards and recommended practices for airport design and operations were interpreted.",
          "The procedure for circling below the minimum descent altitude after an instrument approach to Queenstown Aerodrome needs to be clarified to ensure pilots and controllers are in no doubt as to their respective actions to achieve separation from other traffic.",
          "The practice of using the runway for perimeter checks outside ATC hours of operation was not standardized, creating an unnecessary risk to airport operations.",
          "There is no effective means of ensuring that the common operational information and procedures published by certificated organisations for their internal use are accurate and consistent. That deficiency inevitably results in differences that lead to misunderstandings between operational staff, which can compromise the safety of operations.",
          "The bilge pumping system on the Jubilee was not fitted with any means of automatically alerting the crew when the water in the fish hold reached an abnormal level. If the crew had been alerted to the level of water in the fish hold, it is as likely as not that the sinking would have been prevented.",
          "The high risk of the ship becoming overwhelmed by sea conditions during the estimated 30 minutes it would normally take to clear the Bar, especially when crossing right on the limit of maximum safe operating conditions.",
          "Airways had not clearly explained to operators that it expected large aircraft that did not land at Queenstown after circling to enter the visual aerodrome circuit.",
          "The visual circuit procedure put in place by Airways for large aircraft at Queenstown should have had the approval of the Director because it was intended as a permanent change that introduced or varied right-hand circuits.",
          "The lack of a definition of what was meant by 'simultaneous operations' had created confusion for pilots.",
          "Airways required all pireps to be passed to MetService, but the first controller said he decided not to pass on the pirep from NZ5046 because he had earlier passed on one from an ATR.",
          "The report of loose objects on one flight deck suggested pilots should take more care to secure items under their control.",
          "Aerodrome managers, in particular those at unattended aerodromes, lacked the guidance and understanding of their roles and accountabilities regarding the CARs and the Health and Safety at Work regulations, which was necessary to be able to discharge their responsibilities and ensure the safe operation of their aerodrome.",
          "Civil Aviation Rule 91.223 can be interpreted ambiguously in non-standard traffic situations, which could contribute to the collision risk at aerodromes.",
          "Changes in the size and shape of the Hamilton zone have shifted some VFR traffic congestion to prominent points outside the zone, and likely increased the risk of collision in those areas.",
          "The design of the closures on the ventilation grilles around the fish processing deck.",
          "Some VFR pilots continue to misconstrue ATC traffic information and instructions in Class C and D airspace as the provision of traffic separation.",
          "The minimum required separation between the 2 IFR aeroplanes was not assured because the approach clearance issued to Qantas did not allow for a potential communications failure and it was based on the controllers' shared assumption that Pacific Blue would, without further instruction, remain in the visual circuit in the event of not landing.",
          "The see-and-avoid principle continues to have relevance, provided pilots and controllers counter its well-known limitations by the appropriate sharing of traffic information.",
          "When aircraft maintenance staff do not refer to the current Instructions for Continuing Airworthiness for a task, perhaps because they are very familiar with the basic task and do not know that the task documentation has changed, safety might be compromised.",
          "The challenge in maintaining propeller immersion due to the ship's pitching motion into waves, which is exacerbated by the shallow draught required to navigate over the Bar.",
          "The incomplete and inaccurate AIP reference to Civil Aviation Rule 91.413(e) was likely a factor in the routine non-compliance with the Rule by pilots making non-precision approaches to Queenstown Aerodrome.",
          "The descriptions of and requirements for the standard overhead circuit joining procedure that are published in Civil Aviation Rules, the Aeronautical Information Publication and the Flight Instructor's Guide can be misinterpreted or misapplied in non-standard traffic situations. This could contribute to the collision risk at aerodromes.",
          "The fish hatch was susceptible to being left fully or partially open because it was hydraulically closed from the wheelhouse and could not be latched closed.",
          null
         ],
         "marker": {
          "opacity": 0.5,
          "size": 5
         },
         "mode": "markers+text",
         "name": "1_Aviation and Maritime Safety and Compliance Issues",
         "text": [
          "",
          "",
          "",
          "",
          "",
          "",
          "",
          "",
          "",
          "",
          "",
          "",
          "",
          "",
          "",
          "",
          "",
          "",
          "",
          "",
          "",
          "",
          "",
          "",
          "",
          "",
          "",
          "",
          "",
          "",
          "",
          "",
          "",
          "",
          "",
          "",
          "",
          "",
          "",
          "",
          "",
          "",
          "",
          "",
          "",
          "",
          "",
          "",
          "",
          "",
          "",
          "",
          "",
          "",
          "",
          "",
          "",
          "",
          "",
          "",
          "1_Aviation and Maritime Safety and Compliance Issues"
         ],
         "textfont": {
          "size": 12
         },
         "type": "scattergl",
         "x": [
          0.9822786,
          2.0582862,
          -1.2923942,
          0.61948395,
          2.395092,
          1.9335356,
          1.8585112,
          1.23135,
          3.5336819,
          1.5497476,
          0.6178021,
          3.4464586,
          2.1368947,
          0.611085,
          2.4448562,
          1.9085146,
          2.565188,
          3.4249763,
          1.599329,
          3.554114,
          -1.3126106,
          1.5908545,
          3.4851542,
          1.9697616,
          3.4034655,
          1.3708885,
          2.0247386,
          1.8062587,
          1.1508455,
          1.1601722,
          2.939939,
          2.1940405,
          1.8753173,
          0.9899929,
          3.3952005,
          -1.332131,
          2.273438,
          2.4324799,
          1.947981,
          3.5230167,
          2.2899556,
          1.814584,
          0.61602205,
          1.9144696,
          2.04301,
          1.7175567,
          1.3462216,
          -1.3311434,
          3.0470142,
          2.3357978,
          2.2716718,
          1.9284815,
          2.2097738,
          1.6092067,
          2.2424786,
          -1.2085809,
          0.61573744,
          2.293354,
          2.3444297,
          1.8538176,
          1.7670244
         ],
         "y": [
          2.298921,
          8.405317,
          0.7811857,
          11.2212925,
          1.8720886,
          8.307625,
          2.0628645,
          2.0766788,
          2.0000718,
          1.9214143,
          11.223092,
          1.9469465,
          2.0057216,
          11.232344,
          1.9832642,
          8.303692,
          1.8102909,
          2.0126836,
          1.9971749,
          2.0075927,
          0.75330746,
          1.9957572,
          1.951365,
          2.0774922,
          1.9508411,
          2.036924,
          1.9562917,
          2.0612147,
          2.0982862,
          2.113076,
          2.0049832,
          2.1138053,
          8.285811,
          2.2445672,
          1.9551573,
          0.74907786,
          1.759757,
          1.8559799,
          2.077546,
          1.980924,
          1.7841222,
          8.215515,
          11.22604,
          2.1441014,
          2.2212355,
          1.8662119,
          2.025018,
          0.74805725,
          1.9908626,
          1.8796135,
          1.8738335,
          8.362999,
          1.8409162,
          1.9866813,
          1.7859871,
          0.77180356,
          11.226523,
          1.9422401,
          1.8820158,
          8.371893,
          3.393968
         ]
        },
        {
         "hoverinfo": "text",
         "hovertext": [
          "The voyage planning for the time in the Snares Islands and the standard of bridge resource management on the bridge leading up to the contact did not meet the IMO standards or follow the guidelines published in other leading industry publications.",
          "The standards of navigation and bridge resource management required by KiwiRail's safety management system were not being achieved by the bridge team that was on board the Monte Stello when the accident occurred.",
          "The standard of watchkeeping on board the Rena for the accident voyage and particularly the watch period during which the grounding occurred, in almost all respects, did not comply with the industry best practice described in the IMO Voyage Planning Guidelines and The Nautical Institute's Bridge Team Management - a Practical Guide.",
          "The operator had identified the risk of skippers becoming distracted by giving commentary but had only really identified the risk in certain situations, such as transiting the Hole in the Rock, and not in the broader context of navigating close to navigational dangers while engaging with wildlife.",
          "The standard of BRM on board the Molly Manx during the Otago pilotage did not meet good industry practice.",
          "The safety management system for the Hanjin Bombay and its operating company did not succeed in ensuring that good crew resource management was a standard feature of on-board operations.",
          "A light beacon placed on Astrolabe Reef is another measure that probably would have alerted or reminded the bridge team to the presence of Astrolabe Reef, and would likely have prevented the Rena grounding. However, this needs to be seen in the context of the number of other dangerous rocks and reefs around the New Zealand coastline, the cost versus the benefits of fitting and maintaining light beacons on all such rocks and reefs, the availability and prevalent use of more modern and accurate navigation systems for avoiding such navigational dangers, further advanced systems such as virtual and synthetic aids to navigation that are likely to replace physical light beacons in future, and relevant Resource Management Act considerations.",
          "A working bridge watch navigational and alarm system should have been fitted to the Anatoki to mitigate the known risk of one-man bridge operations. Had one been fitted the mate might have been alerted in time to prevent the grounding.",
          "The standard of bridge resource management on board the L'Austral during the Milford Sound pilotage did not meet good industry practice.",
          "The standard of crew resource management on board the Hanjin Bombay fell well short of international industry best practice.",
          "There was no clear delineation of who had control of the Rena at the time of the grounding, and the master, having assumed that he had taken control, had received virtually no information on where the ship was, where it was heading and what immediate dangers to navigation he needed to consider.",
          "The Rena crew occasionally deviated from the passage plan in an ad-hoc manner and did not always incorporate those deviations into the plan - nor did they adequately monitor the ship's progress against the deviations. Deviating from the passage plan was one factor directly contributing to the grounding.",
          "crew operating knowledge of on-board emergency systems",
          "The master not using English, the official working language of the ship, when engaging with the chief engineer as the emergency unfolded was a serious breach of emergency management protocols that left the pilot and other bridge team members unaware of the issue they were dealing with. This breach contributed to the Hanjin Bombay grounding.",
          "A better standard of crew resource management could have prevented the grounding in spite of the main engine cooling-water problem.",
          "The use of virtual aids to navigation could be one alternative method for highlighting dangers to navigation. However, they should not be introduced before proper research into, and the development of performance standards for them have been completed.",
          "Conducting blind pilotage with large ships in confined waters represented risks that had not been fully considered by Environment Southland, the regional authority that regulates maritime activity in the area.",
          "the training of cabin crew in the use of emergency oxygen equipment and the cabin depressurisation procedure",
          "Because commercial vessels can frequently change ownership and their owners can switch between safe ship management providers, there is a need for Maritime New Zealand to maintain a central database of all important safety and operation records for the entire life of each vessel in the system.",
          "Eight of the 12 vessels managed by CIEL had higher rates of deficiencies per inspection than the average of all other vessels subjected to port state control inspections in the Asia-Pacific region in the same period. The Rena's deficiency rate was almost twice the average. This indicated that the CIEL safety management system for the vessels operating in the Asia-Pacific region, and for the Rena, was not functioning as it could have been according to the ISM Code.",
          "the possibility of the cabin being pressurised on the ground following the use of the Cabin Altitude Warning checklist.",
          "The crew were not using the ECDIS in the correct configuration required by the IMO and company standards when the grounding occurred.",
          "The standard of team resource management in the Hamilton ATC tower did not match good industry practice.",
          "The performance of both the master and the second mate was likely to have been at least mildly affected by fatigue during the work period midnight to 0215, the period leading up to the grounding.",
          "The operation of L'Austral's ECDIS did not meet good practice as defined in the IMO guidance or the standards set out in the operator's safety management system.",
          "The number of port state control deficiencies identified against the Rena and its detention in Fremantle for non-compliance with statutory requirements indicates that the safety management system as applied on board the Rena was not meeting the objectives of the ISM Code.",
          "The safety management system and the underlying safety culture on board did not meet industry good practice.",
          "The watchkeeper was not making the most effective use of the bridge navigation equipment on board the Rena before the grounding.",
          "The primary means for navigation on board the L'Austral, the ECDIS, was not being used to its full potential as a tool for planning and monitoring the ship's passage, and the crew were not fully conversant with its safety features.",
          "The crew were not adequately monitoring and fixing the Rena's position as the ship approached Astrolabe Reef and the port of Tauranga.",
          "The standard of bridge resource management on the Monte Stello leading up to the grounding was not as high as that found operating on the other three vessels operated under KiwiRail's safety management system.",
          "The situational awareness of the bridge team on the Rose Harmony was adversely affected by poor bridge resource management, exacerbated by the presence and distracting influence of passengers on the bridge in pilotage waters.",
          "The pre-arranged rendezvous with the helicopter to coincide with unloading other vessels at Big South Cape Island possibly influenced the skipper's decision to continue with his planned departure.",
          "A historical lack of common and good-standard practice for keeping ship operation and safety records has resulted in the loss of important information about commercial vessels that are still operating today.",
          "The Department of Conservation had insufficient maritime expertise applied to assessing the risks to ships and the environment.",
          "If the issues of mechanically unreliable vessels and substandard crew resource management on vessels operating in New Zealand ports are to be addressed, this will need to be done at a national level rather than individual ports dealing with the issues as they arise.",
          "The vessel's bridge team and the pilot did not have a shared understanding of a common passage plan before the pilotage began. Consequently, the pilot and the vessel's bridge team had different understandings of the planned track to be followed and their respective roles in monitoring against the plan.",
          "The IDAS Bulker was not under the control of a licensed pilot when navigating within a pilotage area, contrary to the requirements of the Maritime Rules and the Hawke's Bay Regional Council Navigation Safety Bylaws.",
          "Some people are using the accident and incident reporting process to raise safety concerns because there is currently no dedicated, formal process within Maritime New Zealand where members of the public and the maritime community can submit reports on safety and security concerns, including complaints and allegations of suspected breaches of maritime legislation.",
          "The deckhand keeping watch on board the Leila Jo was not sufficiently familiar with the collision-prevention rules to be left in sole charge of the watch.",
          "Skippers not routinely using electronic navigation aids to full effect, and the lack of routine and frequent use of these aids, which could have prevented the grounding by alerting the skipper to navigational hazards.",
          "The bridge operations on board the Leda Maersk fell short of achieving good industry practice in both planning and executing the passage under pilotage and bridge resource management.",
          "The electronic navigation aids were not configured to maximize navigation safety, such as by using geo-fencing to alert skippers of hazards or setting depth sounder alarms to warn of shallow water.",
          "crew awareness of the operating limitations of the vessel",
          "housekeeping practices on board affecting the safe operation of the vessel.",
          "Port Otago's safety management system fell short of achieving good industry standards for pilotage operations",
          "The operator's safety management system did not fully address the risk of vessel groundings and collisions where its skippers were in effect working alone in the wheelhouse.",
          "The CIEL oversight of the safety management system as applied on board the Rena was not sufficient to prevent a high number of port state control deficiencies and violations of some company procedures for voyage planning and navigation.",
          "The IMO has set standards for passage planning that vessels must adhere to, but there is no corresponding requirement for the passage plans that port authorities create and use to meet those same standards.",
          "The skipper became distracted by the simultaneous tasks of following the pod of dolphins and giving the passenger commentary over the public address system, to the detriment of monitoring the progress of the vessel in relation to navigation dangers.",
          "Napier pilots were unaware of the requirement to provide a pilotage service throughout the whole of the Napier Pilotage Area and that the outward pilotage limit was not legal.",
          "The pre-manoeuvre briefing (completion of the Tory Channel Eastern Inbound Approach checklist) did not include any discussion about the actual planned passage, nor reminders about responsibilities (for example pilot/co-pilot), nor was \"Red Zone\" declared. The first two points were not included in the checklist. However, they are an integral part of effective BRM practice. The briefing did not result in a shared mental model across the bridge team.",
          "The internal audit's recommendations to improve safety had been signed off as completed by the master, but the accident demonstrated that not much had actually changed, indicating a poorly developed safety culture on board.",
          "The level of bridge resource management on the bridge did not meet industry good practice. The bridge team could not effectively monitor the execution of the pilotage because they did not have an agreed specific pilot plan, or agreed monitoring parameters appropriate to the weather conditions at the time.",
          "The standard of passage planning on board the Rena often, and in some respects, did not comply with the company safety management system, or with the vessel's safety management system, or with the STCW Convention.",
          "There is a lack of advice and guidance in the Maritime Rules on what is an acceptable standard for surveyors to approve when the Maritime Rules defer to the surveyors' discretion.",
          "non-adherence to the published emergency checklists for a loss of cabin pressure",
          "The grounding could have been prevented if the tugs had still been in attendance in a passive or active escort role.",
          "The compass error was infrequently checked and was not checked at all on the voyage from Napier to Tauranga.",
          "Inconsistencies in the application of Rule 40D may have resulted in up to 12 fishing vessels operating under the New Zealand Flag not complying fully with the relevant safety standards. A further 50 fishing vessels have been afforded grandparent rights that will allow them to operate indefinitely without meeting contemporary safety standards under the current Maritime Rules.",
          "The declaration of \"Red Zone\" was intended to provide a heightened level of vigilance. However, it appears to have had little effect on the actions of the bridge team other than the increased manning level.",
          "Navigation practices (including crew resource management) are a critical shipboard function that any safety management system should closely monitor to ensure that best industry practice is achieved.",
          "Port of Tauranga Limited's risk assessment for its Ports and Harbours Safety Management System did not fully address the risk of departing vessels experiencing failure of propulsion and manoeuvring systems at critical locations in the entrance channel.",
          null
         ],
         "marker": {
          "opacity": 0.5,
          "size": 5
         },
         "mode": "markers+text",
         "name": "2_Maritime Safety and Navigation Management Deficiencies",
         "text": [
          "",
          "",
          "",
          "",
          "",
          "",
          "",
          "",
          "",
          "",
          "",
          "",
          "",
          "",
          "",
          "",
          "",
          "",
          "",
          "",
          "",
          "",
          "",
          "",
          "",
          "",
          "",
          "",
          "",
          "",
          "",
          "",
          "",
          "",
          "",
          "",
          "",
          "",
          "",
          "",
          "",
          "",
          "",
          "",
          "",
          "",
          "",
          "",
          "",
          "",
          "",
          "",
          "",
          "",
          "",
          "",
          "",
          "",
          "",
          "",
          "",
          "",
          "",
          "2_Maritime Safety and Navigation Management Deficiencies"
         ],
         "textfont": {
          "size": 12
         },
         "type": "scattergl",
         "x": [
          3.600164,
          3.4888086,
          4.0837584,
          3.3191063,
          3.3898585,
          3.6000524,
          3.843725,
          3.8655858,
          3.5533004,
          3.7186806,
          4.046063,
          4.057775,
          1.6579602,
          3.687105,
          3.7776728,
          3.7357562,
          3.0181482,
          1.6369079,
          2.9975312,
          4.2723556,
          1.5725777,
          3.6447191,
          3.5532603,
          3.0042977,
          3.5606492,
          4.2656784,
          3.3849885,
          3.9386723,
          3.6368577,
          3.986892,
          3.5380917,
          3.6913579,
          1.2419325,
          3.0123568,
          2.9884884,
          3.0925272,
          3.8226051,
          2.9958148,
          3.0511441,
          3.827719,
          3.751368,
          3.7040749,
          3.6738653,
          3.3067336,
          3.303374,
          3.2500472,
          3.3843377,
          4.236731,
          4.1551633,
          3.4305553,
          3.0221448,
          3.7688093,
          3.129487,
          3.704609,
          4.232316,
          2.978411,
          1.5833983,
          3.837845,
          3.852686,
          2.953137,
          3.703556,
          3.391271,
          3.2049484,
          3.408251
         ],
         "y": [
          8.812048,
          8.728261,
          9.388023,
          8.008513,
          8.119561,
          8.003857,
          9.301288,
          9.076692,
          8.395107,
          8.166138,
          9.415444,
          9.414093,
          3.1514726,
          8.106788,
          8.436403,
          9.310967,
          8.159412,
          3.1112003,
          8.859112,
          9.580378,
          3.0463064,
          9.2923155,
          8.207798,
          9.318248,
          9.232436,
          9.575537,
          7.980123,
          9.296386,
          9.296355,
          9.39214,
          8.749084,
          8.511728,
          8.6743555,
          8.856455,
          8.368697,
          8.911314,
          8.52553,
          8.121266,
          8.915455,
          9.12311,
          9.234729,
          8.454647,
          9.314939,
          8.613733,
          8.600697,
          8.012363,
          7.8001285,
          9.545935,
          9.379147,
          8.222061,
          8.133766,
          8.506502,
          7.687863,
          8.534903,
          9.534982,
          8.649038,
          3.0489244,
          8.971838,
          9.431011,
          8.800406,
          8.506704,
          8.56433,
          7.834184,
          8.386066
         ]
        },
        {
         "hoverinfo": "text",
         "hovertext": [
          "Some New Zealand helicopter pilots may have a culture of operating their aircraft beyond the manufacturers' published and placarded limits, with the possibility that such a culture has become normalised.",
          "The CAA dataset for parachuting occurrences did not include key fields, which likely reduced its effectiveness as a tool for safety management in the sector.",
          "The reliance on the automation of the safety information system, which contributed to the oversight of the incorrectly classified notification of the occurrence.",
          "The absence of the 1225 special weather report and the delay in sending the 1332 special weather report, while unlikely to have altered the outcome, need to be examined further to ensure that safety-critical information is passed to crews in a timely manner.",
          "The operator had had four serious landing accidents in three years. While there were some similarities in the circumstances, the factors for most of these accidents were not determined conclusively by the Commission's inquiries or by the operator's internal investigations.",
          "The safety issue whereby SIGMETs can be misleading or lack clarity because of insufficient reference to recognisable geographic regions.",
          "The project team responsible for the Auckland train control centralisation project lacked the appropriate expertise for designing and installing the emergency power supply system.",
          "The operator had not included predefined weather criteria in its MTOP. This resulted in the skipper having to make a critical safety decision on the weather without any criteria against which to assess it.",
          "The operator had been allowed to continue providing helicopter air operations with little or no intervention from the CAA, in spite of the CAA having identified significant non-compliances with the operator's training system and managerial oversight.",
          "The standard of pilot training and the supervision of operations at Great Barrier Airlines was below that required.",
          "aspects of the way the operator and aeroplane owner operated the aircraft",
          "The operator was aware of the captain's tendency over a period of at least three years to not always follow standard communication procedures. The informal method the company used to address the issue did not result in any measurable improvement.",
          "The pilot lacked recent experience and training on the aircraft type.",
          "There are four factors that were not, but should have been, considered when assessing the risk of using the Boeing 757 aircraft for Antarctic operations:\n the weather criteria for an aeroplane passing the point of safe return should consider the presence of low cloud and fog below the main cloud base as a limiting factor\n there is an increased likelihood of weather conditions deteriorating below minima early in the summer season\n the accuracy of instrument approaches should be treated with caution prior to calibration flights being conducted early in the summer season\n the Royal New Zealand Air Force Boeing aircraft is capable of completing only one type of instrument approach in Antarctica.",
          "The New Zealand regulatory system has not provided sufficient mandatory requirements and guidance for instructors, pilots and operators of the Robinson type R22 and R44 helicopters to minimise the known risk of exceeding the helicopters' capabilities.",
          "It is a safety issue that a person without any prescribed training, knowledge or medical certificate can take non-paying passengers for a balloon flight.",
          "Airways did not conduct maintenance checks of essential equipment to ensure it was resilient to a power supply failure.",
          "The operator's standard operating procedures did not require its pilots to routinely calculate the performance capabilities of their helicopters for the intended flights.",
          "The pilot/co-pilot system was rendered ineffective when the co-pilot was ordered to a location where he was unable to monitor the pilot's actions and outcomes and to some extent there might have been an overreliance on it, as evidenced by the master not routinely checking that what he had asked for was actually happening.",
          "the management of the weight and balance of the aircraft",
          "Operators have insufficient stability information to make informed decisions, because there is no requirement for small commercial craft to be provided with stability data.",
          "The Taupo Gliding Club had limited systems in place to ensure instructors could positively verify that pilots had appropriate levels of competency to ridge soar on Mount Tauhara and safely conduct training flights on the ridge. This increased the risk of an accident occurring.",
          "The lack of comprehensive CRM training qualifications for non-pilots acting as crew members, combined with a lack of guidelines on crew members assisting a pilot during NVIS operations, creates an ongoing risk that helicopter NVIS crews will not have effective CRM.",
          "The captain and first officer did not adhere to company standard operating procedures for a \"monitored approach\" to the runway in poor meteorological conditions, which eroded safety margins built into the procedures and compromised the safety of the flight.",
          "Conduct of the aerial hunting operation potentially without a commercial pilot licence or operating under an air operator certificate, indicating a lack of compliance with the Civil Aviation Rules for commercial operations.",
          "The variability in the content, understanding, and delivery of Robinson safety awareness training among instructors in New Zealand, which may affect the effectiveness of training related to preventing mast bumping incidents.",
          "The simulator that Air Nelson used for training its pilots in the alternate landing gear extension procedure was not representative of the actual forces required to release the uplock.",
          "The operator's system for training its pilots did not comply fully with the Civil Aviation Rules or the operator's operations specifications, and did not adequately prepare the pilot for the role and responsibilities required for flight operations that day.",
          "the CAA's oversight of the parachuting industry",
          "The CAA had had recurring concerns for the management and standard of operations at Great Barrier Airlines during the 3 years prior to this incident, but the actions taken to address those concerns had been ineffective.",
          "The CAA did not have the appropriate capability to determine independently if the Airways ATN would perform as the rules required.",
          "The training that Air Nelson gave its pilots on the alternate landing gear extension procedure did not include key information provided by Bombardier concerning the release handle forces, and there was no guidance in the QRH procedure.",
          "The Taupo Gliding Club did not ensure GNZ instructor training procedures were fully implemented and GNZ audits did not detect this discrepancy. This increased the risk that instructors were not fully competent in all required areas.",
          "the CAA's oversight of the conversion to parachuting",
          "Limitations in the operator's dispatch system for updating flight information might have been a cause of the crews not receiving updated weather information, including SIGMET 28, after they had completed briefing.",
          "The inability of air traffic controllers and pilots of aircraft taking off to observe the meteorological conditions behind Deer Park Hill, an area in which pilots must be able to maintain visual contact with terrain, is a safety issue that needs to be resolved.",
          "Airways' digital data network did not have the resilience necessary to support an ATC service.",
          "The operator's procedures for single-pilot VFR operations into the Southern Ocean were not complete or adequate at the time of this accident to safely manage the flight.",
          "The lack of requirement for flight data recorders in small and medium helicopters under current International Civil Aviation Organisation (ICAO) standards, which limits the availability of reliable data concerning specific accidents.",
          "The management and maintenance of the emergency power supply system for train control were not sufficient to ensure the integrity of what had been designated an \"essential service\".",
          "The regulatory oversight of commercial ballooning in New Zealand was not sufficient to ensure a safe and sustainable industry for the New Zealand public.",
          "Pilot currency and proficiency assessments were not implemented as required by South Port's pilot training and proficiency plan.",
          "The rate of R22 in-flight break-up accidents in New Zealand has not been reduced by the New Zealand version of the FAA hazard mitigation measures intended to prevent such accidents.",
          "There are no formal risk controls in New Zealand for helicopter NVIS or air ambulance operations unlike other jurisdictions that have set minimum standards in response to the high accident rate in this sector.",
          "There was a low likelihood of the weather conditions at the Pegasus Field aerodrome deteriorating below minima after an aeroplane passed the point of safe return. However, the potential consequences of that happening were elevated for the Boeing 757 aircraft, because of the lack of alternative approach procedures and aerodromes suitable for this aircraft type.",
          "The safety information system's default classification of occurrences as \"minor\" when not selected as \"major,\" leading to a delay in notifying the Commission of significant safety concerns.",
          "There was a risk of not knowing an aircraft's capability when using standard passenger weights, and therefore of pilots operating close to the limits of their aircraft's performance.",
          "Potentially critical information on a serious incident, recorded in two separate CVRs, was lost because the recordings were not protected.",
          "The operator believed that stock clearing was permitted, but had no written guidelines and had not given its pilots flight training in the manoeuvre.",
          "Although there was no obvious defect that contributed to the accident, the issue of balloon maintenance standards and the regulatory oversight of those standards was a safety issue.",
          "problems with the process for converting the aircraft for parachuting",
          "There was a lack of clarity on whether stock clearing was a permissible activity under the Civil Aviation Rules.",
          "The CAA's oversight of private aircraft owners and pilots, particularly the allocation of fewer resources to the regulation of the non-commercial sector and reliance on participants being responsible for safety and compliance.",
          "The helicopter manufacturer did not provide information to assist instructors in training for flying in manual mode.",
          null
         ],
         "marker": {
          "opacity": 0.5,
          "size": 5
         },
         "mode": "markers+text",
         "name": "3_Safety and Regulatory Oversight in New Zealand Aviation Operations",
         "text": [
          "",
          "",
          "",
          "",
          "",
          "",
          "",
          "",
          "",
          "",
          "",
          "",
          "",
          "",
          "",
          "",
          "",
          "",
          "",
          "",
          "",
          "",
          "",
          "",
          "",
          "",
          "",
          "",
          "",
          "",
          "",
          "",
          "",
          "",
          "",
          "",
          "",
          "",
          "",
          "",
          "",
          "",
          "",
          "",
          "",
          "",
          "",
          "",
          "",
          "",
          "",
          "",
          "",
          "",
          "3_Safety and Regulatory Oversight in New Zealand Aviation Operations"
         ],
         "textfont": {
          "size": 12
         },
         "type": "scattergl",
         "x": [
          -0.13473457,
          1.7166146,
          1.0458133,
          0.83957046,
          0.8285965,
          0.8903438,
          2.41843,
          0.66347545,
          0.7541652,
          0.90885496,
          0.7533663,
          0.88719857,
          0.83310926,
          0.7633654,
          -0.09763922,
          -0.063141726,
          2.2336547,
          0.7013146,
          0.9220161,
          0.66647834,
          0.2539332,
          0.22548552,
          -0.2395426,
          0.84455603,
          0.5731201,
          -0.23518957,
          -0.58113176,
          0.84113115,
          1.4992709,
          0.89599234,
          2.0447006,
          -0.49037352,
          0.23425551,
          1.4790545,
          0.793438,
          0.8211701,
          2.1540563,
          0.74087876,
          0.020749526,
          2.320055,
          -0.025180431,
          0.91440696,
          -0.11117559,
          -0.13980518,
          0.79194605,
          1.0470613,
          0.56904215,
          0.8657637,
          0.7616078,
          -0.0009651843,
          1.4706898,
          0.70690334,
          1.4987805,
          0.4426067,
          0.75033593
         ],
         "y": [
          3.8062134,
          5.1793284,
          3.4505987,
          2.967065,
          4.094796,
          2.8419042,
          5.2453437,
          3.7112763,
          4.021136,
          4.102498,
          4.0392413,
          3.9367287,
          3.79913,
          3.3141372,
          3.833381,
          3.9754238,
          5.2010837,
          3.7995393,
          3.6067126,
          4.0391746,
          3.9618926,
          3.8916266,
          3.7747145,
          3.6201863,
          3.884299,
          3.7726715,
          0.4724896,
          3.8692844,
          5.3085923,
          4.147826,
          5.1579456,
          0.47268054,
          3.8960826,
          5.3324876,
          3.2747822,
          2.85503,
          5.173917,
          3.6873367,
          3.8965554,
          5.2088294,
          3.974329,
          4.0235023,
          3.8361883,
          3.8330457,
          3.2602835,
          3.4168003,
          3.9176278,
          2.8258922,
          3.6795886,
          3.9965045,
          5.3519306,
          3.6490836,
          5.2549987,
          3.6881561,
          3.8765163
         ]
        },
        {
         "hoverinfo": "text",
         "hovertext": [
          "The mooring procedures contained in the port company's SMS were not strictly adhered to and the procedure in the event of a high wind warning was ineffective.",
          "Totally encasing steel wire in plastic sheathing when it is to be used in the marine environment has significant implications for maritime safety, especially when the wire must be regularly inspected and maintained in order to remain fit for purpose.",
          "No systematic assessment had been undertaken to identify safety-critical systems and their components, and there were no mandatory checks by people independent of those doing the work that the work had been performed in accordance with the Code.",
          "The maintenance inspection programme for the locking springs would have been unlikely to detect the corrosion cracking in the locking springs prior to their failing, and that there was no required preventive maintenance on the locking springs to limit the extent of corrosion damage.",
          "Encasing steel wire in plastic sheathing when it is to be used in the marine environment has significant implications for maritime safety, especially when the wire must be regularly inspected and maintained in order to remain fit for purpose.",
          "Technicians who are authorised to conduct mandatory annual and five-yearly inspections of lifeboat-launching installations are not required to have specific training and certification for inspecting any stored energy-release systems and their associated pressure cylinders.",
          "The deck cadet was not wearing a safety harness and, more importantly, none of the crew routinely used safety harnesses, despite their being a requirement under the ship's safety management system.",
          "The operator's planned water emergency response did not have due regard to the minimum survival time for people immersed in cold water.",
          "KiwiRail was unable to provide the Commission with the certificate of compliance for the fractured switch rail, indicating a potential gap in recordkeeping or quality assurance processes.",
          "The lack of a consistent procedure for rigging an accommodation ladder while still at sea.",
          "The operator's safety management system was not supported by an effective safety assessment of log-cargo-securing operations, which should have identified the hazards present. This resulted in ineffective controls to mitigate the risks to crew when completing these tasks.",
          "The cadet was allowed to work at height close to the ship's side without using fall-prevention equipment, jeopardizing his safety.",
          "There are no safety issues explicitly stated or inferred in the provided text.",
          "The level of audit and compliance testing of the Invercargill Joint Operating Plan were not robust in detecting and addressing compliance issues in the Invercargill yard.",
          "the operator's hazard identification system had not identified the risk that a system critical to the safety of the jet boat could fail",
          "A lack of documentation from KiwiRail meant that there was no evidence that appropriate checks and balances had been in place to ensure that the new propellers were well fitted.",
          "The operator did not have a maintenance and inspection programme in place for its lifejackets to ensure they remained in a serviceable condition.",
          "The operator of the Henerata had not assessed the risk of a capsize occurring. As a result, there were no documented controls for preventing one occurring or for minimising the consequences should one occur.",
          "the maintenance regime that Fullers followed did not correspond to Wärtsilä's (the engine manufacturer's) recommended maintenance programme, but also Wärtsilä would not explain the rationale behind its recommended maintenance programme",
          "It is an unsafe practice to use a vessel's handrails as an anchor point for safety harnesses, because the material condition and strength of the rails are unknown.",
          "The plastic sheathing that had been placed around the wire on the lifting sling by the manufacturer prevented the crew and surveyors inspecting and maintaining the lifting sling to the standards required by the International Maritime Organization Convention for the Safety of Life at Sea (SOLAS).",
          "Neither the ship's planned-maintenance system nor the surveyors of the lifeboat-launching system appear to have recognised the safety-critical function of the lifting sling, and the fact that it could not be properly inspected and maintained in accordance with the relevant SOLAS requirements.",
          "Selection of level crossings for regular risk review LCSIAs, and often upgrade, is not being effectively prioritised towards those with greatest estimated risk.",
          "The type of safety culture on board that allowed the situation of not using safety harnesses to exist.",
          "the operator's planned maintenance programme did not ensure that the manufacturers' specifications were met for the jet boat's steering and control system",
          "KiwiRail did not follow the manufacturer's advice on the best way to fit the new propellers and modify the propulsion system for optimum results. If it had, some of the conditions that contributed to the failure of the tail shaft would have been less likely to occur.",
          "The crew's violation of the company instructions and best industry advice on the matter of using safety harnesses and fall arrestors when lashing logs on deck had become routine.",
          "The operator's risk assessment process did not prevent the bosun working at height with an inadequate fall-protection system.",
          "the Fullers system allowed the Kea to enter and continue service using the follow-up mode of operation, despite the company knowing that there were faults with that mode that were resulting in incidents.",
          "SFAIRP assessments were not being routinely carried out for risk treatments recommended in LCSIA reports. No process, and minimal guidance, on SFAIRP assessment for level crossing risk treatments was available in industry documents.",
          "The manufacturer of the lifeboat did not provide adequate advice on the arrangement and construction of, or the maintenance and replacement requirements for, the lifeboat lifting sling.",
          "There are currently no global minimum standards for the inspection, testing and rejection of pressure cylinders that make up part of stored energy systems on lifeboat launching installations, which has resulted in a wide variation in, and in some case inadequate, standards applied by flag state administrations, classification societies and authorised service providers.",
          "Fullers had not assessed the risk of operating ferries with unsecured passenger seating.",
          "The vessel's managing company had not conducted a risk assessment and had not developed a formal procedure for rigging any of the four accommodation ladders on board the Madinah, and neither had the senior on-board management or the crew who were performing the task.",
          "It is about as likely as not that the choker rope that broke on board the Captain M. J. Souza began its life in service at a lower-than-typical breaking load for a rope of that size and construction.",
          "A 3W dynamic risk assessment was not carried out prior to the task, despite being encouraged as part of promoting safe operational working practices with adequate risk assessment.",
          "The use of plastic-coated wire for any rigging that is required to be inspected frequently is unsafe.",
          "the risks associated with operating the accumulator were not fully understood and the safety controls relied heavily on the machine operator following generic instructions and procedures",
          "The actions of the Madinah's bridge team were not intuitive in response to a man-overboard scenario, including not noting the ship's position, not releasing a lifebuoy with a light and smoke signal, not sounding the appropriate signal on the ship's whistle, or not sounding the general alarm.",
          "The safe working loads of the bollards on Number One Wharf were unknown and therefore it was not possible to determine whether the mooring plan for any ship was safe.",
          "The design and failure of the wire that the bosun had connected his safety harness to.",
          "The day after the accident, some of the crew were still observed working atop the log cargo without wearing safety harnesses, illustrating the ongoing safety culture issues on board.",
          "the Fullers training and familiarisation system failed to ensure that the master was properly trained in and familiar with the Kea's propulsion control system.",
          "The safety management system on board the Captain M. J. Souza provided good guidelines for the management and use of ropes on board. However, neither the crew nor the skipper nor shore management were ensuring that the safety management system was being adequately followed.",
          "neither the operator nor the surveyor ensured an appropriate level of surveyor oversight of the project to replace the Kea's propulsion control system.",
          "Encasing wire rope in plastic sheathing prevents the wire being lubricated, maintained and inspected, and can accelerate the onset of corrosion through the retention of salt water within the core of the wire rope.",
          "The rope management plan on board the Captain M. J. Souza was not effectively managing the purchase, storage, inspection and retirement from service of the ropes on board.",
          "The council had not evaluated the effects of the subsurface runway irrigation system on the maximum equivalent single wheel load for the Pauanui runway.",
          "Level crossing safety scores (LCSS) have little influence on the prioritisation of level crossing upgrades.",
          "The operator's safety management system had not fully mitigated the risk of fire caused by cargo hold lighting, in spite of an earlier incident involving similar circumstances.",
          null
         ],
         "marker": {
          "opacity": 0.5,
          "size": 5
         },
         "mode": "markers+text",
         "name": "4_Maritime Safety and Risk Management Deficiencies",
         "text": [
          "",
          "",
          "",
          "",
          "",
          "",
          "",
          "",
          "",
          "",
          "",
          "",
          "",
          "",
          "",
          "",
          "",
          "",
          "",
          "",
          "",
          "",
          "",
          "",
          "",
          "",
          "",
          "",
          "",
          "",
          "",
          "",
          "",
          "",
          "",
          "",
          "",
          "",
          "",
          "",
          "",
          "",
          "",
          "",
          "",
          "",
          "",
          "",
          "",
          "",
          "4_Maritime Safety and Risk Management Deficiencies"
         ],
         "textfont": {
          "size": 12
         },
         "type": "scattergl",
         "x": [
          3.2740333,
          2.8227053,
          9.005974,
          2.4513192,
          2.8466258,
          2.3644617,
          2.8746161,
          2.3684843,
          5.8148794,
          3.0524118,
          3.224314,
          2.947191,
          8.994182,
          5.0548553,
          3.273116,
          5.117351,
          2.4505093,
          3.146889,
          3.4982204,
          3.01778,
          2.7886143,
          2.5036087,
          9.688236,
          2.8797185,
          3.302074,
          5.190903,
          2.8273249,
          3.1339397,
          3.5356395,
          9.653463,
          2.4773488,
          2.3778298,
          3.2001014,
          3.1518931,
          3.2735727,
          3.1337209,
          2.850214,
          3.263622,
          3.5517888,
          3.2552068,
          2.9507217,
          2.8311055,
          3.5309799,
          3.2566915,
          3.589082,
          2.8213317,
          3.1909447,
          5.0944605,
          9.727825,
          3.362359,
          3.879885
         ],
         "y": [
          7.636197,
          6.212282,
          7.446884,
          6.221396,
          6.187507,
          6.197136,
          7.1454816,
          6.3137507,
          5.3518114,
          7.2537575,
          7.544892,
          7.2230277,
          7.509851,
          5.6776347,
          7.398356,
          5.561281,
          6.2551284,
          7.432694,
          5.950498,
          7.0192485,
          6.2313156,
          6.253674,
          7.0473027,
          7.2038045,
          6.1229773,
          5.431614,
          7.219219,
          7.365409,
          5.9207163,
          7.026093,
          6.2393622,
          6.21975,
          7.4941497,
          7.4859962,
          7.076916,
          7.3834376,
          6.211948,
          7.3826065,
          8.402336,
          7.6034575,
          7.1413736,
          7.213463,
          5.9270124,
          7.1881766,
          5.9810815,
          6.2255774,
          7.120677,
          5.604044,
          7.047333,
          7.7465677,
          6.761125
         ]
        },
        {
         "hoverinfo": "text",
         "hovertext": [
          "the KiwiRail system allowed the team leader, with all of the tasks and responsibilities associated with that role, to take on the safety-critical role of rail protection officer.",
          "KiwiRail did not have a mature fatigue risk management system to ensure that relevant personnel performed at adequate levels of alertness.",
          "The system for recording and monitoring the effects of track repair and maintenance was not picking up that the repair and maintenance work was not remedying identified track defects.",
          "the process for planning and approving the worksite was not fully completed as required by KiwiRail processes",
          "Bulletins are sent out with important information that some recipients do not comprehend or disregard as being unimportant to them. The format of such an important document should be reviewed by KiwiRail in consultation with the target audience to ensure that it clearly conveys the appropriate information.",
          "Both the track ganger and the protection person had completed their Level C track protection theory training but it could not be determined from KiwiRail's training records whether they had been assessed for and demonstrated competency in their respective roles.",
          "KiwiRail had not communicated effectively to staff about the replacement of an old procedure for recovering stalled trains at Paerata with the existing Operating Rule 124 (d).",
          "The Wellington metro maintenance depot lacked documented task instructions for performing safety-critical tasks on the Ganz Mavag fleet, and there was no means of recording progress against the individual steps in the task.",
          "Non-compliance, unless addressed as soon as practicable, can quickly become accepted and normalised, increasing the risk of an accident.",
          "KiwiRail's system for training and assessment did not ensure on this occasion that the track ganger and protection person were correctly certified to undertake the duties they were performing on that day.",
          "Non-compliance with KiwiRail's procedures by the track maintenance work group and the network authority is a safety issue.",
          "There was little or no warning system built in to KiwiRail's procedures to mitigate the risk of the track warrant control system failing due to human error.",
          "No-one involved with loading, shifting and securing the wagon body was sufficiently familiar with the KiwiRail Freight Handling Code to realise that the securing arrangement was not compliant with the Code.",
          "Numerous examples of non-compliance with KiwiRail operating standards were evident at the worksite, of which some were contributory to the accident.",
          "KiwiRail did not have a procedure to cover the operation of the mobility hoist. It had had one in the past, but the instructions had been removed from the Rail Operating Code when the second issue of Section 1 (Passenger Rolling Stock Restrictions) came into effect.",
          "The MDD class special-movement wagon allocated to transport the load from Dunedin to Christchurch had not been furnished with the appropriate load-securing equipment.",
          "KiwiRail's general rule for track closure permits did not require a cross-check confirmation between a train controller and a person in charge of a work site that control blocking protection for the work area had been applied.",
          "The special bulletin outlining the plan for the major infrastructure and maintenance work did not present information to maintenance and operational staff in a clear and logical format.",
          "The timing of the maintenance work was planned around the availability of the person in charge rather than optimising efficiency with the least disruption to rail services.",
          "A failure by KiwiRail to follow its operating rules and procedures at the planning stage of the work assignment resulted in the work group being under-resourced to manage the protection and safety of the track maintenance workers effectively.",
          "The protection person was being used by KiwiRail to provide protection for individual worksites within longer work areas, but KiwiRail had not formally incorporated this work practice into its rules at the time of this occurrence. Consequently, the role and methods of operation were not clear.",
          "The track faults identified by the track evaluation car were not closed out in accordance with company standards.",
          "the KiwiRail medical assessment process did not ensure that the employee being assessed completed the online medical questionnaire themselves. There is some evidence that the system could potentially allow managers or others to complete the questionnaire on employees' behalf.",
          "Proper follow-up of ARCs is important.",
          "the New Zealand Rail Regulatory System has no minimum standards for fire detection or suppression systems on freight locomotives and passenger trains on the New Zealand rail network.",
          "There was no procedure for identifying, evaluating and rectifying track twists of a repetitive cyclic nature.",
          "The New Zealand Rail Operating Rules and Procedures did not provide guidance on how to manage work trains within a worksite and did not differentiate between a train moving to a point where work needs to take place and a train carrying out its designated work as a work train.",
          "Transdev had no policies or procedures in place to guide its train crew in responding to unusual situations.",
          "the process for planning and approving the worksite allowed one person to carry out the rail protection duties over two separate worksites within a protected work area for a 52.5-hour track occupation period, with no relief",
          "KiwiRail's current policy and procedures regarding information that train controllers should give to train drivers about the routes set for their trains and other factors that are likely to affect the trains' progress are unclear and not consistent with protocols for good communication and crew resource management.",
          "the operating procedures and training given to train crews to respond effectively in the event of a fire on a train were inconsistent across New Zealand's main rail operators.",
          "No procedures were in place to direct train crews and controllers in the action to be taken in the event of berthing on the West Main Line.",
          "KiwiRail's safety system could not ensure that infrastructure staff were competent to perform their roles, and could not ensure that the appropriate safety observations and revalidations of current staff competency had been undertaken.",
          "The KiwiRail system for planning track maintenance did not promote the co-ordination of separate jobs to be done on the same section of track into one track occupation.",
          "KiwiRail's Risk Management Policy for \"continuity of core services\" did not give proper consideration to the safety of passengers and crew when a core service such as train control failed, causing the widespread stoppage of an entire metropolitan passenger rail system.",
          "none of the workers, including the production manager, had been trained in or had any knowledge of KiwiRail's non-technical skills practices. The application of these skills could have prevented this incident.",
          null
         ],
         "marker": {
          "opacity": 0.5,
          "size": 5
         },
         "mode": "markers+text",
         "name": "5_Issues in KiwiRail's Work and Safety Management Procedures",
         "text": [
          "",
          "",
          "",
          "",
          "",
          "",
          "",
          "",
          "",
          "",
          "",
          "",
          "",
          "",
          "",
          "",
          "",
          "",
          "",
          "",
          "",
          "",
          "",
          "",
          "",
          "",
          "",
          "",
          "",
          "",
          "",
          "",
          "",
          "",
          "",
          "",
          "5_Issues in KiwiRail's Work and Safety Management Procedures"
         ],
         "textfont": {
          "size": 12
         },
         "type": "scattergl",
         "x": [
          6.4741864,
          6.31986,
          7.1518493,
          6.5553102,
          6.2845206,
          6.4830155,
          6.2391267,
          6.4870744,
          6.0939927,
          6.317343,
          6.189355,
          6.4398293,
          6.5402803,
          6.2082415,
          6.205267,
          8.332951,
          6.578602,
          6.3025517,
          6.5608993,
          6.5095377,
          6.5171995,
          7.140379,
          6.2913837,
          6.031735,
          6.2585235,
          7.132695,
          6.232109,
          6.5355577,
          6.586084,
          6.2230973,
          6.2118235,
          6.6003437,
          6.267092,
          6.580346,
          6.190878,
          6.539228,
          6.4892297
         ],
         "y": [
          5.0879874,
          5.1433945,
          4.4095063,
          5.0410676,
          4.680764,
          5.117257,
          4.746473,
          4.857548,
          5.430285,
          5.2063704,
          5.3625836,
          5.1807375,
          5.241375,
          5.3459325,
          4.7758594,
          4.157678,
          5.055558,
          4.6968913,
          4.9339747,
          5.0157795,
          5.0699654,
          4.42418,
          5.1807885,
          5.4865475,
          4.488436,
          4.4169965,
          4.7586184,
          4.4723825,
          5.079016,
          4.732481,
          4.6145525,
          4.469728,
          5.1521597,
          4.899375,
          4.950344,
          5.30701,
          4.916378
         ]
        },
        {
         "hoverinfo": "text",
         "hovertext": [
          "Unfavourable wind conditions, including the possibility of a sudden tailwind gust during take-off, which could have reduced the helicopter's rate of climb in a critical phase of flight.",
          "All three Robinson helicopter models are susceptible to low-G mast-bumping, and any preventive measures should apply to all of them.",
          "The practice of allowing a loader to close and lock the cargo door probably led the first officer to believe the loader had done so on this occasion, but this was no defence for him not to follow a specific instruction; to check it himself.",
          "The challenge for pilots in accurately assessing wind conditions and their effect on helicopter performance during landing approaches, particularly in remote or confined areas, which can lead to inappropriate approach paths and increase the risk of accidents.",
          "The lack of evidence of any corrective action by the pilot, suggesting it is about as likely as not that the pilot was incapacitated early in the take-off roll, prior to the point that a turn was required to maintain the optimum line on the airstrip.",
          "The unique handling characteristics of helicopters equipped with Fenestron tail rotors, particularly the increased right pedal input required as the helicopter slows to a hover, which may not be intuitively understood by pilots transitioning from different helicopter types or with limited experience.",
          "The closed-circuit television recording suggested that the loader was waiting by the cargo door for the last passenger to arrive and might not have fully engaged the lock mechanism, assuming the door was either locked or simply caught to stop it swinging open.",
          "The original fault of the cargo door annunciator light remaining illuminated after the door was closed and locked was not critical provided a crew member visually confirmed the door was locked. However, the faded paint on the visual lock indicator meant positive confirmation of the door being closed required a close-up check of the indicator.",
          "The actual wind and turbulence at the time of the accident were very likely to have been the same as, or stronger than, the forecast conditions.",
          "Unapproved maintenance and modifications to the helicopter, including a dent in the tail rotor blade, unapproved battery system modification, and unapproved repairs to the main rotor blades.",
          "The importance of pilot training to include emergency procedures for handling unanticipated yaw events, especially for helicopters equipped with Fenestron tail rotors, to ensure pilots can respond effectively to prevent loss of control.",
          "The modification of the cockpit lighting adversely affected the readability of the caution lights during daylight, when the dimmer was on.",
          "Carburettor icing conditions that presented a moderate risk at the time of the accident, with the carburettor heating control found in the OFF position.",
          "Although not an intuitive reaction to a sudden right roll, the aft cyclic technique is the only approved recovery technique, and should be used as soon as low-G is felt to 'reload' the main rotor disc and help reduce any right roll.",
          "An abrupt, inappropriate or inadvertent cyclic control input by the pilot could not be ruled out as having contributed to the in-flight break-up.",
          "The importance of some critical safety information in Robinson flight manuals was likely to have been diminished by Robinson's use of \"Caution\", rather than \"Warning\", for operating conditions and practices that involve a risk of personal injury or loss of life.",
          "The use of \"threat and error management\" (TEM) skills by the crew could have prevented the incident. If both pilots had recognised the defective cargo door warning system as a \"threat\" to safety of flight, they almost certainly would have paid close attention to the requirement for a crew member to confirm visually that the door was locked before flight.",
          "the initial design of the Cloudburst monsoon bucket meant the hook-and-loop fastener system had the potential to come undone during operations",
          "A pilot's instinctive reaction to an unexpected right roll, or the unintentional movement of a pilot's limbs or upper body during severe turbulence or low-G, could lead to mast-bumping.",
          "earlier research into the flight control systems and dynamic behaviour of the main rotor of lightweight helicopters, such as the design used by Robinson, was not completed as intended. Until the behaviour of such rotor systems in conditions of low G and turbulence is fully understood, it is possible that not all of the causal factors of mast bump accidents will be identified.",
          "The operator's procedures did not require pilots using open-descent mode to reset the Flight Control Unit (FCU) to the next intermediate altitude restriction, which could reduce the effectiveness of descent management and increase the risk of altitude breaches.",
          "Air traffic control's failure to alert the flight crew immediately upon observing the aircraft descending below the minimum altitude restrictions represents a missed opportunity to prevent or mitigate the altitude breach.",
          "The potential for pilots, especially those with limited experience, to be startled by an unanticipated yaw, especially during critical phases of flight such as landing approaches, which can lead to a loss of control if not promptly and correctly addressed.",
          "Pilots' concern about using manual mode",
          "The measurement specifications for overhauled compressor turbine blades that had been through a strip and recoat repair process were not exactly the same as those for new blades. Blades that had been through that repair process, without verification of critical dimensions, might fail before the next 3,000-hour inspection.",
          "The ISO standards for large-propeller manufacturing might not be suitable for more modern, high-efficiency propellers that operate closer to cavitation margins.",
          "The pilot's operation of the helicopter with a load that inadvertently made contact with the tree canopy or the inability to maintain sufficient clearance from the tree canopy.",
          "A mast-bump occurred, which led to rotor divergence and the in-flight break-up.",
          "Had a previous limitation on maximum wind speeds for inexperienced R44 pilots remained in place, as per that for R22 pilots, the pilot would have been prohibited from flying at the time of the accident due to the forecast strong winds and turbulence.",
          "The in-flight break-up was very unlikely to have been caused by low main rotor RPM (revolutions per minute).",
          "the widespread practice of allowing passengers to leave and return to a helicopter parked on snow while the rotors are turning is hazardous.",
          "The examination of the handle confirmed that it was possible to align the handle about horizontal, but owing to the play in the handle the locks would not engage until the handle had been pushed firmly slightly past the horizontal and the button had popped. The fading of the button colour degraded its effectiveness as an indicator and as a warning to pilots that the door was possibly insecure.",
          "more educational material is needed to alert operators to the risk of contaminated fuel when operating and refuelling in remote, dusty environments.",
          "The lack of a requirement for flight crews to actively use onboard systems, such as the navigation display, to monitor the aircraft's compliance with altitude restrictions during descent in open-descent mode, potentially compromises situational awareness and flight safety.",
          "The format of the Robinson R22 helicopter flight manual and the terminology it uses do not draw appropriate attention to safety-critical instructions and conditions that could result in serious injury or death.",
          "The flight crew's reliance on open-descent mode without adequately monitoring and ensuring compliance with intermediate altitude restrictions led to the aircraft descending below the minimum permitted altitude.",
          "Visual impairment due to the sun being low on the horizon directly ahead of the flight track, potentially affecting the pilot's ability to determine the helicopter's height above the tree canopy.",
          "With the locks not being fully engaged, the vibration generated during the taxi to the take-off position was sufficient to cause the locks to back off. The locks finally released and the door opened at about the point of rotation during take-off, indicating that the locking mechanism's integrity was compromised by vibration and incomplete engagement.",
          "The Robinson helicopter flight manuals do not conform to the aviation industry practice for the use of \"Warnings\" to emphasise flight conditions and operating practices that can cause death or serious injury.",
          "There was insufficient guidance to pilots on the appropriate line length for monsoon bucket operations.",
          "The helicopter's airworthiness was compromised by factors such as the main rotor blades exceeding their finite calendar life, disabled engine-hour meter, unrecorded flight hours, and expired review of airworthiness.",
          "The incident was a result of the door not being closed properly by the loader and then the first officer not checking that it was locked as he was required to do. It also involved a number of unchecked assumptions being made by the loader, first officer, and captain about the actions or intended actions of others.",
          "Due to their unique main rotor design, during a sudden and prolonged low-G condition Robinson helicopters can roll rapidly to the right and likely break up before a pilot can recover.",
          "four of the seven fatal R66 accidents that have occurred globally since the type was introduced into service in 2010 were mast bump or low-main-rotor-RPM accidents, accident types seen with the smaller R22 and R44, which have the same main rotor design. However, the R66 was certificated without any special pilot training requirements or operating restrictions such as the minimum pilot experience and maximum wind strength that apply to the R22",
          "The condition of the helicopter's engine, including evidence of not sealing properly, excessive wear, and incorrect spark plug types, which could have reduced the available power and reliability.",
          "The need for comprehensive training and experience to safely conduct operations in remote, confined, or off-aerodrome landing sites, including the ability to perform thorough reconnaissance passes and understand the implications of wind direction and speed.",
          "The manufacturer of the Cloudburst monsoon bucket had not promulgated key operational information on and limitations of the Cloudburst monsoon bucket to operators.",
          "The difficulty in identifying the underlying causes of mast bump accidents involving Robinson helicopters due to the usually fatal nature of these accidents and the destructive impact of in-flight break-ups, which complicates efforts to make meaningful recommendations for preventing similar accidents.",
          "the flight manuals for Robinson helicopters did not adequately warn pilots of the hazardous operating practices and environmental conditions that can lead rapidly to a catastrophic mast bump",
          "The helicopter was loaded above its maximum certified weight limit for the rescue flight and would have further exceeded it on the return flight.",
          "The helicopter very likely encountered moderate to severe turbulence and an associated severe downdraught in the lee of Mt Arthur, which likely created a prolonged low-G condition.",
          null
         ],
         "marker": {
          "opacity": 0.5,
          "size": 5
         },
         "mode": "markers+text",
         "name": "6_Helicopter Flight Safety and Operating Challenges",
         "text": [
          "",
          "",
          "",
          "",
          "",
          "",
          "",
          "",
          "",
          "",
          "",
          "",
          "",
          "",
          "",
          "",
          "",
          "",
          "",
          "",
          "",
          "",
          "",
          "",
          "",
          "",
          "",
          "",
          "",
          "",
          "",
          "",
          "",
          "",
          "",
          "",
          "",
          "",
          "",
          "",
          "",
          "",
          "",
          "",
          "",
          "",
          "",
          "",
          "",
          "",
          "",
          "6_Helicopter Flight Safety and Operating Challenges"
         ],
         "textfont": {
          "size": 12
         },
         "type": "scattergl",
         "x": [
          -1.2466601,
          -1.4218153,
          3.2686703,
          -0.9892243,
          -1.3415934,
          -1.0603253,
          3.3088799,
          3.3033333,
          -1.334191,
          -1.1723154,
          -0.926768,
          3.2223673,
          -1.2028316,
          -1.3714397,
          -1.4554808,
          -0.71544236,
          3.254385,
          0.9888305,
          -1.3432332,
          -1.4540781,
          0.62474084,
          0.6873542,
          -0.9658085,
          -0.1618964,
          -0.99096704,
          -0.8261525,
          -1.2270238,
          -1.5786366,
          -1.2766963,
          -1.5719196,
          -1.054114,
          3.3389368,
          -0.71553826,
          0.62385845,
          -0.70368457,
          0.62866956,
          -1.1608459,
          3.3329694,
          -0.73008496,
          0.9316274,
          -1.0633178,
          3.287564,
          -1.4020908,
          -1.4072704,
          -1.1710669,
          -0.8405527,
          0.97269857,
          -1.421864,
          -1.3660511,
          -1.0711349,
          -1.2864019,
          -0.18144378
         ],
         "y": [
          2.5722334,
          3.2426112,
          0.80191994,
          2.990296,
          2.3134615,
          3.0699732,
          0.7599418,
          0.770741,
          2.828884,
          2.2173426,
          3.1024256,
          0.89323777,
          2.21962,
          3.2530546,
          2.4745631,
          3.8214266,
          0.80990875,
          4.600576,
          3.267834,
          3.270774,
          2.5545957,
          2.5265853,
          3.0670056,
          2.9545887,
          2.3155837,
          2.4122021,
          2.634844,
          2.6653826,
          2.932836,
          2.673795,
          3.0462523,
          0.7303162,
          3.0515425,
          2.5486264,
          3.8193722,
          2.5496485,
          2.6887383,
          0.73268855,
          3.8131573,
          4.467556,
          2.3289316,
          0.77868044,
          3.2279954,
          3.1840389,
          2.2212884,
          3.0845504,
          4.5613923,
          3.2308853,
          3.2427707,
          2.3467326,
          2.7210643,
          2.6351857
         ]
        },
        {
         "hoverinfo": "text",
         "hovertext": [
          "the train controller was performing a safety-critical role and was directly involved in the incident, yet he was not asked to undergo a post-incident drug and alcohol test.",
          "There was no requirement for general medical practitioners to inform appropriate authorities when medical issues were diagnosed that could affect the performance of people working in safety-critical roles in the rail industry.",
          "Issuing track warrants to infrastructure staff, hi-rail vehicles and trolley users that are conditional on the departure of trains from an \"at location\" presents a risk to these groups if they do not adhere to a warrant's conditions.",
          "A large number of rail movements and track activities are not electronically visible to train control at any given time.",
          "The passenger train was not electronically visible to the train controller when he authorised the person-in-charge's track occupation. A significant portion of the controlled rail network, and therefore a large number of rail movements and track activities, is not electronically visible to train control at any given time.",
          "The train controller had been involved in three operating irregularities during the previous 16 months and KiwiRail had identified his having concentration and focus issues. Despite this KiwiRail had allowed him to continue in the train controller role.",
          "The long-term and recent ingestion of performance-impairing substances such as cannabis by crew of any transport vehicle is a serious safety issue that needs to be addressed as a matter of priority.",
          "Human memory can be influenced by a number of factors, including high workload, late running, distraction, and environmental conditions. Therefore, it becomes important that controls are put in place to reduce the risk of human error.",
          "Train control protocols required train controllers to work their shifts without any certainty of reasonable breaks.",
          "The standard roster that the train controller was working in the weeks leading up to the incident did not offer the train controller sufficient opportunity to recover from any sleep debt incurred after a shift cycle.",
          "The track warrant control method of protection was reliant on the addressee (the holder of the track warrant) complying with all instructions.",
          "The train controller made an assumption about the location of the passenger train and did not confirm this location before authorising the person-in-charge's track occupation. Assumptions made by train controllers about the locations of trains and other rail vehicles are a real and constant risk that must be continually and properly managed.",
          "The fact that the driver of the Melling 2 train had cannabis in his system is a serious safety issue.",
          "the rail protection officer tested positive for methamphetamine during a post-incident drug and alcohol test. Under KiwiRail's random testing policy, only 10% of workers were tested each year. The rail protection officer had not been tested for 10 years.",
          "Safety-critical rail workers are not required to declare prescribed medications they are taking when presenting for triggered health assessments.",
          "A planned change to the train controller's workload was not assessed and managed in a way that recognised its higher-than-usual level of risk.",
          "Poor planning and co-ordination of track infrastructure activities unnecessarily exacerbated the complexity of the train controller's work on the day of the incident. Train controllers are responsible for co-ordinating and managing high volumes of routine and unplanned track infrastructure activities. This increases the complexity of their role. In these situations, mistakes can occur.",
          "Train control's workplace culture at the time of the incident did not encourage train controllers to ask for help.",
          "The driver of the southbound train had been prescribed a collection of medications that either singularly or collectively had the potential to adversely affect his performance, and this had gone undetected or unresolved by KiwiRail's health professionals.",
          "The train controller had not consumed any food for about 15 hours before the incident. Train controllers who do not eat properly and regularly during their shifts and/or who do not take rest breaks during their shifts may become mentally fatigued. In these circumstances, train controllers are more likely to make mistakes.",
          "The train controller received insufficient support and supervision during her shift even though she was performing a safety-critical function with a higher-than-usual level of risk.",
          "Minimal training and education about detecting and managing stress and fatigue was provided to the train controller (and other train controllers) before the incident, even though she was performing a safety-critical function.",
          "The use of performance-impairing substances by train drivers is a significant safety issue.",
          "The use of cannabis by staff performing safety-critical tasks is of concern, and was contrary to KiwiRail's drug and alcohol policy at the time of the incident.",
          "The use of performance-impairing substances by train drivers is a significant safety issue.",
          "There was no evidence that the rail industry had been consulted on legislative changes affecting the safety of the rail corridor.",
          "The train controller, who was performing a safety-critical function with a higher-than-usual level of risk, was able to become highly stressed and mentally fatigued during her shift without anyone being aware of, or anticipating, this.",
          null
         ],
         "marker": {
          "opacity": 0.5,
          "size": 5
         },
         "mode": "markers+text",
         "name": "7_Challenges and Risks in Train Control Safety Management",
         "text": [
          "",
          "",
          "",
          "",
          "",
          "",
          "",
          "",
          "",
          "",
          "",
          "",
          "",
          "",
          "",
          "",
          "",
          "",
          "",
          "",
          "",
          "",
          "",
          "",
          "",
          "",
          "",
          "7_Challenges and Risks in Train Control Safety Management"
         ],
         "textfont": {
          "size": 12
         },
         "type": "scattergl",
         "x": [
          8.646704,
          8.978197,
          6.526039,
          8.162107,
          8.1933155,
          8.499662,
          8.503902,
          8.361489,
          8.353032,
          8.397367,
          6.597753,
          8.220206,
          8.5338335,
          8.707024,
          8.891555,
          8.276248,
          8.256514,
          8.410097,
          8.657666,
          8.359618,
          8.420577,
          8.409837,
          8.507886,
          8.624397,
          8.509323,
          9.301238,
          8.403853,
          8.35961
         ],
         "y": [
          7.5741725,
          7.524972,
          5.3916054,
          7.048778,
          7.09803,
          7.38691,
          8.316964,
          7.3180847,
          7.367197,
          7.4350953,
          5.3764625,
          7.1255236,
          8.273524,
          7.7686505,
          7.5772576,
          7.206135,
          7.190509,
          7.3809543,
          7.613073,
          7.327544,
          7.4065785,
          7.3914385,
          8.313022,
          7.965459,
          8.310724,
          7.257706,
          7.3771467,
          7.382353
         ]
        },
        {
         "hoverinfo": "text",
         "hovertext": [
          "The Easy Rider's life-raft was in current survey and was properly installed, but was not able to float free to the surface because it became lodged between the wheelhouse and the bulwarks as the vessel was sinking. Rated for 4 persons only, the life-raft did not have sufficient capacity to cater for the 9 persons on board.",
          "Pilots' reluctance to use appropriate radio phraseology to alert air traffic services and other pilots that an urgent or distress situation exists, potentially stemming from a desire not to attract undue attention. This reluctance can lead to miscommunication and delays in emergency response.",
          "For a life-raft to be an effective device for increasing the chance of survival in the event of a ditching, it must also be easily extracted from the aircraft so it may be deployed when needed in an emergency.",
          "The risk to people involved in helicopter operations over water will be reduced if quick-donning life jackets are worn at all times where there is the potential for the helicopter to ditch with short notice.",
          "The operator expected the tandem master to have the reserve parachute pack for flotation and therefore did not require them to also wear a lifejacket.",
          "The tendency to not wear helmets increased the risk of injury.",
          "Pilots who are not approved for or not familiar with RNAV procedures may not understand radioed position reports that refer to RNAV waypoints. The communication gap that this potentially creates is a safety issue.",
          "There were 24 passengers on board the Torea when it was only certified to carry 20 passengers.",
          "It could not be established why the chief officer, a veteran of the sea, and senior officer on board would have ignored the warnings given by the bosun and entered the cargo hold, particularly as number 5 cargo hold was not one of those identified by the fumigator as needing water removed.",
          "It could not be established what training the deceased deck crew member had received in the hazards of entering closed cargo hold, but he might not have been aware of why the chief officer was unconscious, or may simply have been overwhelmed by an emotional urge to perform the rescue in spite of the danger to himself.",
          "The failure of the emergency locator transmitter to alert the search and rescue network had the potential to adversely affect survivability.",
          "the wearing of restraints in parachute-drop aircraft.",
          "The shipboard emergency response to the bosun falling into the sea.",
          "It has not been possible to determine how many, if any, of the 8 persons who died survived the initial capsize, and if so for how long they survived.",
          "There are indications that people may not have a sufficient understanding of the design and capability of the various types of lifejacket available, or of the importance of wearing a lifejacket of the correct size and type for any situation where there is a risk of people ending up in the water.",
          "Float-free emergency position indicating radio beacons and the enhancement of people carrying personal locator beacons will improve the chances of being noticed and rescued, particularly in the event of a sudden or catastrophic event such as a capsize.",
          "Parachute drop pilots were not required to wear lifejackets or flotation devices if their flights were expected to remain within gliding distance of land. That scenario downplayed the possibility of a pilot having to ditch an aeroplane or having to use the emergency parachute when over or near water.",
          "The pilot's rescue was due to the fortuitous presence of witnesses on shore. Had he arranged flight-following and made a timely emergency radio call, his rescue might have been more assured even without witnesses.",
          "The pilot operated over water without having a life jacket on board, contrary to Civil Aviation Rules. Not wearing a life jacket reduced his chances of survival.",
          "The Easy Rider did not have sufficient life-saving equipment for the 9 persons on board.",
          "The non-performance of the Emergency Locator Transmitter (ELT) in guiding search and rescue to the accident site in a timely manner, which in survivable accidents could mean the difference between survival and not.",
          "Being a dedicated log carrier, the risk of death by entering closed cargo holds containing logs and rescue from enclosed spaces should have been high on the ship's emergency response training programme, yet no evidence could be found in the vessel's records for the previous 3 months that such a drill or training had been performed.",
          "when pilots do not inform their flight-following organisations of changes to their routes or destinations, any search and rescue action that is required could be delayed or misdirected",
          "There were as few as 4 approved lifejackets on board the Easy Rider to be shared among 9 people, which not only contravened Maritime Rules but significantly reduced the chances of persons not wearing lifejackets surviving in the water after the vessel capsized.",
          "Although not a factor in this incident, the use of similar titles for different RNAV approach procedures to the same runway is a hazard that could result in an aircraft flying the wrong approach.",
          "The Easy Rider's manually operated emergency position indicating radio beacon had probably not been intentionally activated and was still stowed in its bracket within the wheelhouse when the vessel sank.",
          "The crashworthiness of the ELT, which was designed to alert and guide emergency services to a crash site, was inadequate.",
          "a vessel certified to carry up to 90 passengers and operating up to 12 nm from the coast very likely did not have fire detection equipment or automatic fire alarms installed.",
          "The rescue response from the vessel's master and crew was not well coordinated or practised, taking some 15 to 20 minutes to remove the bodies from the cargo hold and attempt resuscitation. Given the survival time in the cargo hold atmosphere, any rescue attempt would have had to be immediate and efficient for either of the deceased to survive, which would have been achievable if the entry into enclosed spaces procedure had been followed in the first place.",
          "Maritime rules that specify the types of lifejacket to be carried on commercial vessels are based only on how far the vessels are permitted to travel from the coast. The rules do not consider environmental factors such as vessels operating out of bar harbours and on exposed coastlines, where higher-specification lifejackets would be more appropriate.",
          null
         ],
         "marker": {
          "opacity": 0.5,
          "size": 5
         },
         "mode": "markers+text",
         "name": "8_Emergency Preparedness and Response in Transportation Accidents",
         "text": [
          "",
          "",
          "",
          "",
          "",
          "",
          "",
          "",
          "",
          "",
          "",
          "",
          "",
          "",
          "",
          "",
          "",
          "",
          "",
          "",
          "",
          "",
          "",
          "",
          "",
          "",
          "",
          "",
          "",
          "",
          "8_Emergency Preparedness and Response in Transportation Accidents"
         ],
         "textfont": {
          "size": 12
         },
         "type": "scattergl",
         "x": [
          0.99590695,
          1.4798207,
          1.0551138,
          1.2936192,
          1.3034273,
          1.5046729,
          1.9308122,
          0.9352846,
          1.7642611,
          1.74373,
          1.2080688,
          1.4602584,
          2.0275345,
          1.1831094,
          1.2095731,
          0.9290866,
          1.2563852,
          1.1645372,
          1.2200091,
          0.93032116,
          1.2954139,
          1.8383672,
          1.3345004,
          1.0731273,
          2.2235212,
          0.9509597,
          1.2318975,
          0.83243746,
          1.6954297,
          1.1915549,
          1.3420913
         ],
         "y": [
          7.5715837,
          2.3853261,
          7.2600574,
          7.095732,
          6.8873453,
          7.1177115,
          2.1589608,
          7.635773,
          7.763901,
          7.7232647,
          2.6420715,
          5.410694,
          7.8388686,
          7.6300554,
          7.209514,
          7.2831597,
          6.859856,
          2.5804186,
          7.0596013,
          7.654684,
          2.6072094,
          7.7337613,
          2.4615397,
          7.5931935,
          1.997718,
          7.564382,
          2.6717522,
          7.70689,
          7.720874,
          7.295954,
          6.0373945
         ]
        },
        {
         "hoverinfo": "text",
         "hovertext": [
          "Lack of a suitable communication system between the train driver and train manager is a serious safety issue raised previously in a Commission report on an incident that occurred in 2006 and the subject of an existing open safety recommendation.",
          "Nor could the system rely on visually sighting whether the mobility hoist was in use, as this case demonstrated - it had only just been deployed when the train departed 71 seconds after having stopped at the station platform. Under similar conditions, it would have been difficult for the train manager to see the mobility hoist even if it had been deployed onto the platform.",
          "The reliance on train drivers to observe and respond to signals as the primary control to prevent collisions, given known and foreseeable risks such as distraction and incapacitation, has the potential to be ineffective.",
          "The operation of the mobility hoist relied on the train manager knowing and/or remembering the stations at which any passengers in wheelchairs were to alight, then having good communication with the train attendant to ensure that the operation was complete and the train secure before giving \"right away\" clearance to the driver.",
          "The standard of non-technical skills (NTS), formerly known as Crew Resource Management, between the driver, the TXO and the signaller were ineffective.",
          "The examples given in this report that show the results of using colloquial language, non-standard phraseology and inadequate crew resource management lend weight to the Commission's previous recommendation that the rail industry adopt a national communication standard with which all rail participants must comply.",
          "The safety issue arising from this incident was the misunderstanding between the train controller and the driver during the recovery sequence, which resulted in a potential head-on collision with another train.",
          "A train travelling between stations with the passenger doors open and no passenger crew on board can be a serious safety issue.",
          "There was no defence in the system to prevent an accident if a train driver did not react correctly to signals and route indicators.",
          "Relying on mobile telephones for critical communications had its limitations, such as reception not being guaranteed in tunnels, and train drivers not being issued with company mobile phones, limiting a train crew's ability to manage effectively an emergency on board their own train.",
          "the train controller, the train driver and the pilot did not have a shared understanding of the limit for the setback authority, or of the method for protecting the movement.",
          "There will be a residual risk that in the event of some emergency situations, train managers might not be able to access the fixed portable radios.",
          "Opportunities for improving situational awareness and understanding through better use of non-technical skills were missed, increasing the likelihood of the incident.",
          "Miscommunication between the train driver and the train controller resulted in each having a different understanding of how the train would be recovered to its correct route.",
          "the training in place for the crew around the configuration of the emergency stops likely resulted in confusion on which emergency stops serviced which system.",
          "the setback movement was not planned and carried out in accordance with the operating rules and procedures.",
          "Poor communication and specifically a lack of adequate crew resource management contributed to all 4 of these incidents.",
          "Mobile phone use has proven to be a major distractor in other rail, air and marine accidents that the Commission has investigated. The danger has also been recognised and dealt with by recent changes in road legislation preventing the use of mobile phones while driving road vehicles.",
          "The signaller was likely to have been distracted by other tasks that had been assigned to her, which is likely to have contributed to her momentarily losing sight of the train controller's plan to cross trains at Papakura.",
          "The miscommunication between the driver and the train controller arose from a casual and ambiguous conversation at a time when a set of clear and precise instructions should have been issued.",
          "Bridge team members later said that closed loop communication was not always used, especially in routine manoeuvres. This was one explanation for why it was used for one helm order and not the next.",
          "The use of an administrative control measure was not effective on its own, and the adoption of engineering control measures when establishing PWAs would provide an enhanced level of protection for track workers.",
          "Once the train manager and assistant train manager were left on the platform, they had no radio by which they could make immediate contact with the trainee to stop the train.",
          "There was a potential for drivers of metro passenger trains to be distracted by non-operational interactions with other train staff.",
          "Implementation of an administrative control measure designed to provide protection for a track worker was unsuccessful due to the poor use of non-technical skills.",
          "Non-technical skills, particularly in communication, possessing a common mental model, challenge and response, and situational awareness, were not effectively employed, contributing to the incident.",
          "The main safety issue arising from this incident was that procedurally there was a disconnect between the operation of the mobility hoist from the luggage van at the rear of the train and the train manager's pre-departure checks near the front of the train: the stowing of the mobility hoist and securing of the luggage van doors did not feature in the train manager's pre-departure checks; there was no means provided for the train attendant in the luggage van to communicate with the train manager near the front of the train; the luggage van doors were not electronically connected to the train door status and control system.",
          "The radio communication between the train controller and the train driver was open loop, and after it had ended neither party really understood the other's intentions.",
          null
         ],
         "marker": {
          "opacity": 0.5,
          "size": 5
         },
         "mode": "markers+text",
         "name": "9_Train Operation and Communication Safety Issues",
         "text": [
          "",
          "",
          "",
          "",
          "",
          "",
          "",
          "",
          "",
          "",
          "",
          "",
          "",
          "",
          "",
          "",
          "",
          "",
          "",
          "",
          "",
          "",
          "",
          "",
          "",
          "",
          "",
          "",
          "9_Train Operation and Communication Safety Issues"
         ],
         "textfont": {
          "size": 12
         },
         "type": "scattergl",
         "x": [
          9.355632,
          9.365623,
          9.376299,
          9.350926,
          6.9944825,
          6.963136,
          9.076922,
          9.330263,
          9.403184,
          9.43903,
          8.955311,
          9.4165,
          6.739947,
          9.033163,
          8.886533,
          8.865909,
          6.71203,
          9.4615345,
          8.71295,
          9.062437,
          3.8670056,
          7.339475,
          9.328665,
          9.428207,
          7.193593,
          6.7434945,
          9.333469,
          9.148596,
          8.460154
         ],
         "y": [
          4.893159,
          4.7061844,
          5.5178404,
          4.712833,
          5.580181,
          5.3430867,
          5.0861197,
          4.7653213,
          5.568721,
          4.9723964,
          4.9432063,
          4.928914,
          5.720566,
          5.048408,
          4.87551,
          4.926568,
          5.755959,
          5.189631,
          5.7402554,
          5.0614862,
          8.474146,
          5.4668627,
          4.886507,
          5.327229,
          5.519035,
          5.717677,
          4.7652073,
          4.9477134,
          5.301454
         ]
        },
        {
         "hoverinfo": "text",
         "hovertext": [
          "The design of the BK117 fuel system meant that both engines would lose power at nearly the same time if a pilot mismanaged the fuel system and did not see the low-fuel-level warnings.",
          "With the nose landing gear stuck in a partially extended position, light from the taxi light was likely detected by the sensor for the down-lock verification system, causing it to give a false green light.",
          "Indications that the right-hand engine was not performing well were not detected by the Maintenance Operation Control due to programming logic errors in the automated engine condition report system. However, even if they had been it is unlikely that any subsequent action would have prevented the engine compressor stall event on landing at Auckland.",
          "Had the pilots known that the nose landing gear was not down and locked and then tried the alternate extension procedure, that action would have been unlikely to succeed because debris would probably still have been blocking the restrictor within the hydraulic actuator.",
          "The pilots did not use all of the available resources to confirm the nose landing gear position. If they had asked the controller to confirm the status of the nose landing gear, it is likely that they would have taken further action in an attempt to get the nose landing gear locked down.",
          "The verification system for checking if the landing gear is down and locked on the Dash 8 series of aircraft is not reliable enough for pilots to place total trust in it when trying to establish the status of the landing gear.",
          "The Minimum Equipment List provision that had previously allowed a flight to commence without an operative nosewheel steering system appeared to be based on operational considerations only, and to have not considered the possibility of a related system failure.",
          "The captain's predetermination of what was going to be required to get the landing gear down and locked interfered with the proper following of the QRH checklist; nevertheless, all of the items were covered.",
          "Although much aircraft maintenance is done under supervision, the requirement for a duplicate check after maintenance is limited to a few defined control systems. The landing gear is not one of those systems, but an undetected maintenance error in the landing gear system has the potential to cause a serious incident or accident.",
          "The false green light on the verification system misled the pilots of ZK-NEB into believing that the nose landing gear was fully down and locked.",
          "The similarity of text in adjacent steps of the QRH and the lack of numbered steps contributed to the first officer making minor errors in reading the landing gear non-normal procedures. However, these errors did not contribute to the accident.",
          "The non-transmission, non-receipt or mismanagement of engine condition reports, especially those containing significant deviations from normal, can deprive flight crew and maintenance personnel of the opportunity to identify a potential problem early.",
          "The damage to the seals within the extend/retract hydraulic actuator could have initially been caused by a manufacturing defect in the seals or by an incorrect assembly technique. The damage may have been exacerbated by debris in the hydraulic fluid that originated from excessive wear in another actuator in the system, the one that opened and closed the forward nose landing gear doors.",
          "The isolated nature of the component failure in this occurrence, and the actions the manufacturer had previously undertaken, meant that additional changes to the relevant maintenance procedures were not warranted.",
          "Improper repair and maintenance practices spanning several maintenance organisations and individual maintenance engineers over several years contributed to a series of defects and incidents involving the nose landing gear assembly on the aeroplane.",
          "The failure of the nose landing gear to extend fully was most likely caused by debris in the hydraulic fluid blocking orifices within the nose landing gear extend/retract hydraulic actuator. The debris probably came from damaged seals within the actuator.",
          "The captain should have explained to the flight attendant the reason for the go-around, even though he believed that the situation had been resolved. The flight attendant would have been better prepared should the landing have been less favourable.",
          "Repairing and replacing defective components without identifying the reason for their failure in the first place is a serious safety issue that will likely result in repeat accidents and incidents for the same reasons.",
          "There was no aural warning to alert the pilot to the potential fuel starvation of both engines, which could have prevented the loss of power.",
          "Assuming that the reason for the nose landing gear not fully extending was debris in the hydraulic fluid, it is possible that cycling the landing gear up and down again would have succeeded in getting all of the landing gear down and locked. However, that action was not recommended by the aeroplane manufacturer at the time.",
          "The aural warnings that not all of the landing gear was locked down were genuine warnings. Pilots must respect warnings. In this case, the pilots should have responded by performing a go-around, which would have given them more time to consider the situation.",
          null
         ],
         "marker": {
          "opacity": 0.5,
          "size": 5
         },
         "mode": "markers+text",
         "name": "10_Aircraft Landing Gear Maintenance and Failure Issues",
         "text": [
          "",
          "",
          "",
          "",
          "",
          "",
          "",
          "",
          "",
          "",
          "",
          "",
          "",
          "",
          "",
          "",
          "",
          "",
          "",
          "",
          "",
          "10_Aircraft Landing Gear Maintenance and Failure Issues"
         ],
         "textfont": {
          "size": 12
         },
         "type": "scattergl",
         "x": [
          -0.78550667,
          -0.73599404,
          -0.85592455,
          -0.5835021,
          -0.46358433,
          -0.7992851,
          -0.9727696,
          -0.47197255,
          -1.0925468,
          -0.75438136,
          -0.4414404,
          -0.83308715,
          -0.7508494,
          -1.0165087,
          -0.9605264,
          -0.7075873,
          -0.42794946,
          -1.0318022,
          -0.8003554,
          -0.5875036,
          -0.4332913,
          -0.7383985
         ],
         "y": [
          1.8042158,
          0.6123166,
          1.714112,
          0.5719895,
          0.51866305,
          0.59193456,
          0.8559676,
          0.4857179,
          0.79402745,
          0.53358376,
          0.4887899,
          1.669996,
          0.78508264,
          1.2687707,
          1.0942959,
          0.7173117,
          0.5700631,
          1.253638,
          1.7768682,
          0.6186532,
          0.55415106,
          0.91810226
         ]
        },
        {
         "hoverinfo": "text",
         "hovertext": [
          "The collision could have been prevented if the bus driver had known how to contact train control, and had immediately done so.",
          "The overhead traction power system had issues that could increase the risk in the event of a collision, such as the terminal pole being directly in the path of an overrun train and the risk of promptly resetting the overhead power without first establishing the reason for the system tripping.",
          "The track ganger should have recognised that the amended communication plan had failed when 2 passenger trains had been allowed through the work area on the adjacent track without being contacted by the protection person.",
          "A number of reasonable measures had not been taken to further reduce the risk of trains colliding in the approaches to Wellington Station.",
          "The complex and congested nature of the Wellington Station track layout, combined with the geographical constraints that limit the space available to facilitate required safety overlaps for effective fail-safe systems, increases the risk of train collisions.",
          "The absence of selcall capability on the Wellington passenger fleet meant there was a delay in train control being made aware of the collision and in turn calling the emergency services. In this case the next train coming from the opposite direction arrived at about the same time that the derailment occurred. In other circumstances a delay in train control becoming aware of such an event in double-track territory is a lost opportunity to warn other trains in the vicinity. The delay can be overcome by fitting an improved radio system with selcall capability to the Wellington commuter rail fleet.",
          "There is a heightened risk of trains colliding within the approaches to Wellington Station because limited space makes the track layout congested. When the line was upgraded to bidirectional, the eight-metre separation between the insulated joint and the signal was not identified as a potential issue.",
          "The concrete stop block installed in 1954 lacked the impact-absorbing qualities of more modern stop blocks, increasing the damage to the train and its occupants in the event of a collision.",
          "The errors in the work plan submitted; the omission of the required communication plan; the decision to rely on a protection person located where he could not see the worksite; and stabling hi-rail vehicles on a runaway road without authority, are collectively suggestive that the track ganger was not sufficiently trained and experienced to be in charge of the work group on the day.",
          "The near collision occurred at the convergence of several busy metro passenger lines and there was no automatic protection applied to preventing such a collision in the event of a driver failing to stop at Signal 38.",
          "There is a heightened risk of trains colliding within the approaches to Wellington Station because limited space makes the track layout congested.",
          "Most of the passenger trains in the Wellington commuter fleet are not equipped with selcall-capable radio equipment, which means that in the event of an emergency brake application or other event that causes a rapid reduction in air brake pipe pressure, there could be a critical delay in train control being alerted in time to prevent the event escalating.",
          "The protection person did not follow the amended communication plan. He did not, as required, phone the track ganger to ensure that he and his colleague were off the tracks before allowing the train to proceed. His failure to do so was the final act that contributed to the incident.",
          "Despite previous recommendations and some improvements, more needs to be done in the short term to ensure that key signals within the section of track approaching Wellington Station have appropriate engineering solutions to mitigate the risk of collisions.",
          "The newly certified Melling train driver's relative inexperience and the potential for distraction at critical times, such as approaching signals in the congested Wellington Station area, increases the risk of incidents.",
          "The Application for Planned Work submitted by the track ganger was incomplete because it did not include a communication plan, and it contained erroneous information. The work plan therefore should not have been approved by the work planning group.",
          "There were no active visual alarms or physical barriers to prevent pedestrians exiting the Morningside Station platform and inadvertently entering the Morningside Drive pedestrian level crossing when trains approached.",
          "The KiwiRail train controller's plan to cross Trains 210 and 201 at Papakura was not disseminated to all the parties who needed to know. Consequently at least 2 early opportunities to avert the potential head-on collision were missed.",
          "The driver's distraction by checking the route paperwork during a critical time of controlling train speed on a downhill gradient contributed to the inability to manage train speed effectively.",
          "There are a number of reasonable measures that had not been taken to further reduce the risk of trains colliding on the approaches to Wellington Station, such as: providing better recognition of signals; standard procedures for signalling trains through the area; and better communication between train drivers and persons controlling the trains.",
          "The lack of fail-safe backup systems, such as automatic train brakes activation in case of SPADs (signals passed at danger), for all signals in the Wellington Station approaches, particularly signal 100 which was overrun by the Melling service, increases the risk of collisions.",
          "The operating risk and potential consequences of a train overrunning the platform at Melling Station and colliding with the stop block had not been adequately considered. No special speed restriction for the approach had been set; the stop block was an older and less effective design than its modern equivalent; and the pole carrying the overhead traction power line was placed directly behind the stop block where it was prone to damage.",
          "The amended communication plan increased the risk to the maintenance operation because: the protection person with the radio was in an area less likely to have good radio reception; the protection person could not see the work gang; and it added an additional step using another means of communication. It is a safety issue that the amended communication plan still complied with KiwiRail procedures.",
          null
         ],
         "marker": {
          "opacity": 0.5,
          "size": 5
         },
         "mode": "markers+text",
         "name": "11_Safety and Communication Issues in Wellington Station Train Operations",
         "text": [
          "",
          "",
          "",
          "",
          "",
          "",
          "",
          "",
          "",
          "",
          "",
          "",
          "",
          "",
          "",
          "",
          "",
          "",
          "",
          "",
          "",
          "",
          "",
          "11_Safety and Communication Issues in Wellington Station Train Operations"
         ],
         "textfont": {
          "size": 12
         },
         "type": "scattergl",
         "x": [
          9.228772,
          9.848459,
          7.410818,
          9.803489,
          9.880485,
          9.79639,
          9.906627,
          9.491748,
          7.450473,
          9.57778,
          9.948189,
          9.688258,
          7.4642467,
          9.78863,
          9.73834,
          7.4321995,
          9.891325,
          8.987158,
          8.927105,
          9.812759,
          9.755697,
          9.774795,
          7.466999,
          9.176988
         ],
         "y": [
          5.6975455,
          6.058318,
          5.3835087,
          6.05412,
          5.946137,
          5.9419413,
          5.9546237,
          5.986277,
          5.349401,
          5.789995,
          5.9744716,
          5.823144,
          5.342216,
          5.9861383,
          5.839998,
          5.3590994,
          6.5321794,
          5.68026,
          5.478207,
          5.9345045,
          5.9223714,
          6.1232376,
          5.343902,
          5.8044176
         ]
        },
        {
         "hoverinfo": "text",
         "hovertext": [
          "The uncommanded turn to the left during take-off was caused by a faulty steering selector.",
          "The quality control and traceability of the spark plugs were insufficient to prevent the installation of a defective spark plug, as the failed spark plug had passed through several agents without the defect being detected.",
          "There was a lack of clear communication and agreement between the spark plug manufacturer (DENSO) and the aviation industry (Guimbal and Light Speed Engineering) regarding the suitability and approval of the DENSO W24EMR-C spark plug for use in aircraft engines.",
          "The number 4 cylinder upper spark plug was manufactured incorrectly, not being swaged during the manufacturing process, which led to its failure after 121 hours in service.",
          "The inability to identify the facility where the fuel-transfer tubes had been removed and cleaned in a non-approved manner, indicating a gap in tracking and accountability of maintenance practices.",
          "The regulator's guidelines for inspecting used parts of unknown origin were not well defined, and the company's approved procedures developed from these guidelines were not adequate in this case.",
          "The defective component within the steering selector could not be determined because of incomplete overhaul records.",
          "The DENSO W24EMR-C spark plug, originally designed for use in motorcycles, was being used in aircraft engines without being officially approved for such use by DENSO, leading to potential safety risks.",
          "The cleaning of critical-fit anodised alloy engine parts using a milling solution, which is an unapproved method, leading to the removal of the anodised coating and shrinking of the overall dimensions of the fuel-transfer tubes. This resulted in the o-rings not providing a snug fit, allowing them to move with changes in fuel pressure and eventually deteriorate, causing a fuel leak.",
          "Aircraft design organisations did not have to consider whether proposed major modifications to an aircraft would significantly alter the use of the aircraft or adversely affect the service life of any component.",
          "the high-voltage cable assembly had been in service for less than 12 months, but the records available did not show if it was new or repurposed, or detail the results of any test(s) performed on the cable assembly to ensure that it was in serviceable condition.",
          "The failed spark plug allowed hot combustion gases to escape, which ignited the fibreglass baffling and subsequently the carbon fibre fuselage structure, leading to a fire in the engine compartment.",
          "The imported second-hand engine and its accessories had not been subjected to the inspections and maintenance required for continued airworthiness before they were released to service.",
          null
         ],
         "marker": {
          "opacity": 0.5,
          "size": 5
         },
         "mode": "markers+text",
         "name": "12_Aircraft Safety and Maintenance Issues",
         "text": [
          "",
          "",
          "",
          "",
          "",
          "",
          "",
          "",
          "",
          "",
          "",
          "",
          "",
          "12_Aircraft Safety and Maintenance Issues"
         ],
         "textfont": {
          "size": 12
         },
         "type": "scattergl",
         "x": [
          -1.3162992,
          -1.7616909,
          -1.7725661,
          -1.7310256,
          -1.4075352,
          -1.3459324,
          -1.2959118,
          -1.7560095,
          -1.5964559,
          -1.167316,
          -1.2836149,
          -1.7680428,
          -1.2437346,
          -1.4958565
         ],
         "y": [
          1.7732594,
          1.5515023,
          1.5550106,
          1.5654427,
          1.5030161,
          1.5686697,
          1.6863005,
          1.5703688,
          1.5073053,
          1.438886,
          1.6762573,
          1.5581467,
          1.543381,
          1.5767344
         ]
        },
        {
         "hoverinfo": "text",
         "hovertext": [
          "The owner and the master on board the Anatoki were not effectively managing the standards of navigation and the drug and alcohol policy at the time of the grounding.",
          "The Easy Rider capsized when it was engulfed by what was probably a large breaking wave, which reduced the vessel's stability by landing sea water onto the fishing deck, at the same time as rolling the vessel past the angle where it lost any chance of recovery.",
          "The FENZ training standards did not fully cover the special considerations for responding to shipboard fires.",
          "The responsibilities of the various authorities involved in responding to the fire were not clearly documented and understood by all parties.",
          "The owner of the Easy Rider was not meeting its responsibilities for ensuring the safe operation of the vessel, as required by the Maritime Transport Act and Maritime Rules.",
          "The weather conditions were not suitable for the Easy Rider to venture across Foveaux Strait at night, with marginal stability and with passengers on board.",
          "There is limited data to quantify the extent of alcohol and drug use in the New Zealand recreational maritime sector and its impacts on recreational boating accidents.",
          "The Easy Rider was loaded with too much weight, too high up on deck, which left the boat with insufficient reserve stability for its intended voyage when it departed from Bluff.",
          "the system of transferring passengers to another vessel as a means of evacuation was not documented or practised during evacuation drills.",
          "The company drug and alcohol policy was not at the time of this accident complied with by the Anatoki's master and crew.",
          "The firefighting drills held on board the Taokas Wisdom were not effective in ensuring that all crew were familiar with their tasks and responsibilities in the event of a fire.",
          "At the time of the grounding there was uncertainty between Maritime New Zealand and the owner of the Anatoki on what was a suitable level of crewing for a ship of that size and tonnage. The complexity of the relationship between New Zealand and international standards for crewing ships is an issue that New Zealand needs to resolve.",
          "The skipper's intention was for the Easy Rider to operate as a commercial fishing vessel on the accident voyage, as he fully intended to go fishing commercially once his passengers and their equipment had been offloaded.",
          "Some aspects of the crew response to the fire did not follow industry good practice.",
          "The skipper did not hold the qualification required for him to be in charge of the Easy Rider on the accident voyage.",
          "Although the Easy Rider had been entered into the safe ship management system, it was never going to help the owner and skipper to run a safe fishing operation, because the owner did not understand the principles of safe ship management and the skipper did not appear to show a willingness to comply with the rules.",
          "The skipper did not have the requisite knowledge of ship stability, or if he did, he did not apply it wisely when loading the Easy Rider for the trip. The Easy Rider being overloaded, with the average distribution of weight being too high, was the prime factor leading to its capsize.",
          "When an accident or incident occurs that requires a passenger ferry operating in Auckland's congested Hauraki Gulf to abandon ship, it is highly likely that this will be achieved by a ship-to-ship transfer of passengers and crew. This scenario should be included in emergency response training and drills, and passenger ferries from all companies operating in the same area should be designed to minimise the risks of such an operation.",
          "Neither the owner nor the skipper sought or was given a dispensation by the safe ship management company or the Director of Maritime New Zealand to operate as a pleasure vessel for the accident voyage, which meant that the Easy Rider was a commercial fishing vessel and should not have been carrying any person other than its crew.",
          "The qualifications held by the crew on the Anatoki should have been sufficient to navigate the ship safely on the voyage from Nelson to Tarakohe.",
          null
         ],
         "marker": {
          "opacity": 0.5,
          "size": 5
         },
         "mode": "markers+text",
         "name": "13_Maritime Safety and Compliance Issues in New Zealand",
         "text": [
          "",
          "",
          "",
          "",
          "",
          "",
          "",
          "",
          "",
          "",
          "",
          "",
          "",
          "",
          "",
          "",
          "",
          "",
          "",
          "",
          "13_Maritime Safety and Compliance Issues in New Zealand"
         ],
         "textfont": {
          "size": 12
         },
         "type": "scattergl",
         "x": [
          2.9049938,
          1.0078722,
          2.3559456,
          2.3614357,
          1.0694672,
          1.0901642,
          2.9876401,
          1.0216638,
          2.0664134,
          2.891636,
          2.3505032,
          2.896749,
          1.0179207,
          2.3979368,
          1.0415288,
          1.0470642,
          0.9414943,
          2.0546765,
          1.0489594,
          2.8810425,
          1.8717552
         ],
         "y": [
          9.262274,
          8.3804455,
          8.290148,
          8.274689,
          8.661622,
          8.613974,
          9.091385,
          8.495011,
          7.8893127,
          9.259454,
          8.257251,
          9.263781,
          8.643243,
          8.308153,
          8.669062,
          8.646212,
          8.485841,
          7.872687,
          8.660151,
          9.272489,
          8.614859
         ]
        },
        {
         "hoverinfo": "text",
         "hovertext": [
          "The maintenance and testing procedures for the CO2 fire-smothering system's booster valve were insufficient to detect and prevent leaks at operational pressures, leading to the uncontrolled release of CO2 into the engine room.",
          "A clear placard should be placed at the control station for the fixed CO2 fire-suppression systems on all passenger ferries, alerting them to the exact number of CO2 bottles needed to extinguish a fire in each of the protected compartments.",
          "The STCW Convention protocols for auditing countries' maritime education, training and certification systems lacked the transparency that would assist other countries to assess easily whether to recognise the qualification certificates issued by those countries as compliant with STCW standards.",
          "The Liberian Registry recognised by endorsement certificates issued by the Philippines in accordance with STCW Convention Regulation I/10, when independent audits found that the Philippines' maritime education, training and certification system did not meet the standards specified in the STCW [95] Convention.",
          "Independent audits had found that the Philippine seafarer training system did not meet the standards specified by the STCW Convention at both systemic and training institute levels.",
          "The absence of a requirement for a physical inspection of the booster valve's seating arrangement during maintenance checks could allow deteriorated valves to remain in service, posing a risk to the system's integrity.",
          "the operator and crew of the PeeJay V did not fully appreciate the principles underlying how a fixed fire-fighting CO2 flooding systems works.",
          "the CO2 fixed fire-fighting system installed in the engine room could not be fully effective in extinguishing the fire because the space it was protecting could not be fully closed down.",
          "The practice of testing the booster valve with compressed air at below normal operating pressures was not effective in identifying potential leaks that could occur under full operating conditions.",
          "The booster valve was found to be in poor condition due to corrosion and de-zincification, suggesting that the existing maintenance regime was inadequate to prevent or identify corrosion-related deterioration over time.",
          "The location of fire detector sensors.",
          "only half of the fixed CO2 fire-suppression system was released into the engine room, which might not have extinguished a sustained fire if one had occurred.",
          "The guidelines for internal inspection of control valves every five years may not be sufficient to detect early deterioration, suggesting that more frequent operational pressure tests could be necessary to ensure system integrity.",
          "The CO2 system's pilot cylinder leaked, but the exact cause of the leak could not be determined, indicating a potential oversight in the inspection or maintenance processes for pilot cylinders within the CO2 fire-suppression system.",
          null
         ],
         "marker": {
          "opacity": 0.5,
          "size": 5
         },
         "mode": "markers+text",
         "name": "14_Maintenance and Regulation Issues in CO2 Fire-Suppression Systems",
         "text": [
          "",
          "",
          "",
          "",
          "",
          "",
          "",
          "",
          "",
          "",
          "",
          "",
          "",
          "",
          "14_Maintenance and Regulation Issues in CO2 Fire-Suppression Systems"
         ],
         "textfont": {
          "size": 12
         },
         "type": "scattergl",
         "x": [
          -0.19907057,
          -0.0073893643,
          4.5386486,
          4.5388947,
          4.54062,
          -0.33015445,
          -0.14304344,
          -0.0911249,
          -0.34047735,
          -0.255536,
          0.053787895,
          -0.059338234,
          -0.34135798,
          -0.074634835,
          0.84498745
         ],
         "y": [
          7.8907223,
          7.873983,
          10.020663,
          10.021419,
          10.02336,
          7.8811984,
          7.931001,
          7.91393,
          7.8795466,
          7.84013,
          7.882974,
          7.904461,
          7.88345,
          7.8966894,
          8.345966
         ]
        }
       ],
       "layout": {
        "annotations": [
         {
          "showarrow": false,
          "text": "D1",
          "x": -2.0384509921073914,
          "y": 6.659405690431595,
          "yshift": 10
         },
         {
          "showarrow": false,
          "text": "D2",
          "x": 5.068795710802078,
          "xshift": 10,
          "y": 12.917195224761963
         }
        ],
        "height": 750,
        "shapes": [
         {
          "line": {
           "color": "#CFD8DC",
           "width": 2
          },
          "type": "line",
          "x0": 5.068795710802078,
          "x1": 5.068795710802078,
          "y0": 0.4016161561012268,
          "y1": 12.917195224761963
         },
         {
          "line": {
           "color": "#9E9E9E",
           "width": 2
          },
          "type": "line",
          "x0": -2.0384509921073914,
          "x1": 12.176042413711547,
          "y0": 6.659405690431595,
          "y1": 6.659405690431595
         }
        ],
        "template": {
         "data": {
          "bar": [
           {
            "error_x": {
             "color": "rgb(36,36,36)"
            },
            "error_y": {
             "color": "rgb(36,36,36)"
            },
            "marker": {
             "line": {
              "color": "white",
              "width": 0.5
             },
             "pattern": {
              "fillmode": "overlay",
              "size": 10,
              "solidity": 0.2
             }
            },
            "type": "bar"
           }
          ],
          "barpolar": [
           {
            "marker": {
             "line": {
              "color": "white",
              "width": 0.5
             },
             "pattern": {
              "fillmode": "overlay",
              "size": 10,
              "solidity": 0.2
             }
            },
            "type": "barpolar"
           }
          ],
          "carpet": [
           {
            "aaxis": {
             "endlinecolor": "rgb(36,36,36)",
             "gridcolor": "white",
             "linecolor": "white",
             "minorgridcolor": "white",
             "startlinecolor": "rgb(36,36,36)"
            },
            "baxis": {
             "endlinecolor": "rgb(36,36,36)",
             "gridcolor": "white",
             "linecolor": "white",
             "minorgridcolor": "white",
             "startlinecolor": "rgb(36,36,36)"
            },
            "type": "carpet"
           }
          ],
          "choropleth": [
           {
            "colorbar": {
             "outlinewidth": 1,
             "tickcolor": "rgb(36,36,36)",
             "ticks": "outside"
            },
            "type": "choropleth"
           }
          ],
          "contour": [
           {
            "colorbar": {
             "outlinewidth": 1,
             "tickcolor": "rgb(36,36,36)",
             "ticks": "outside"
            },
            "colorscale": [
             [
              0,
              "#440154"
             ],
             [
              0.1111111111111111,
              "#482878"
             ],
             [
              0.2222222222222222,
              "#3e4989"
             ],
             [
              0.3333333333333333,
              "#31688e"
             ],
             [
              0.4444444444444444,
              "#26828e"
             ],
             [
              0.5555555555555556,
              "#1f9e89"
             ],
             [
              0.6666666666666666,
              "#35b779"
             ],
             [
              0.7777777777777778,
              "#6ece58"
             ],
             [
              0.8888888888888888,
              "#b5de2b"
             ],
             [
              1,
              "#fde725"
             ]
            ],
            "type": "contour"
           }
          ],
          "contourcarpet": [
           {
            "colorbar": {
             "outlinewidth": 1,
             "tickcolor": "rgb(36,36,36)",
             "ticks": "outside"
            },
            "type": "contourcarpet"
           }
          ],
          "heatmap": [
           {
            "colorbar": {
             "outlinewidth": 1,
             "tickcolor": "rgb(36,36,36)",
             "ticks": "outside"
            },
            "colorscale": [
             [
              0,
              "#440154"
             ],
             [
              0.1111111111111111,
              "#482878"
             ],
             [
              0.2222222222222222,
              "#3e4989"
             ],
             [
              0.3333333333333333,
              "#31688e"
             ],
             [
              0.4444444444444444,
              "#26828e"
             ],
             [
              0.5555555555555556,
              "#1f9e89"
             ],
             [
              0.6666666666666666,
              "#35b779"
             ],
             [
              0.7777777777777778,
              "#6ece58"
             ],
             [
              0.8888888888888888,
              "#b5de2b"
             ],
             [
              1,
              "#fde725"
             ]
            ],
            "type": "heatmap"
           }
          ],
          "heatmapgl": [
           {
            "colorbar": {
             "outlinewidth": 1,
             "tickcolor": "rgb(36,36,36)",
             "ticks": "outside"
            },
            "colorscale": [
             [
              0,
              "#440154"
             ],
             [
              0.1111111111111111,
              "#482878"
             ],
             [
              0.2222222222222222,
              "#3e4989"
             ],
             [
              0.3333333333333333,
              "#31688e"
             ],
             [
              0.4444444444444444,
              "#26828e"
             ],
             [
              0.5555555555555556,
              "#1f9e89"
             ],
             [
              0.6666666666666666,
              "#35b779"
             ],
             [
              0.7777777777777778,
              "#6ece58"
             ],
             [
              0.8888888888888888,
              "#b5de2b"
             ],
             [
              1,
              "#fde725"
             ]
            ],
            "type": "heatmapgl"
           }
          ],
          "histogram": [
           {
            "marker": {
             "line": {
              "color": "white",
              "width": 0.6
             }
            },
            "type": "histogram"
           }
          ],
          "histogram2d": [
           {
            "colorbar": {
             "outlinewidth": 1,
             "tickcolor": "rgb(36,36,36)",
             "ticks": "outside"
            },
            "colorscale": [
             [
              0,
              "#440154"
             ],
             [
              0.1111111111111111,
              "#482878"
             ],
             [
              0.2222222222222222,
              "#3e4989"
             ],
             [
              0.3333333333333333,
              "#31688e"
             ],
             [
              0.4444444444444444,
              "#26828e"
             ],
             [
              0.5555555555555556,
              "#1f9e89"
             ],
             [
              0.6666666666666666,
              "#35b779"
             ],
             [
              0.7777777777777778,
              "#6ece58"
             ],
             [
              0.8888888888888888,
              "#b5de2b"
             ],
             [
              1,
              "#fde725"
             ]
            ],
            "type": "histogram2d"
           }
          ],
          "histogram2dcontour": [
           {
            "colorbar": {
             "outlinewidth": 1,
             "tickcolor": "rgb(36,36,36)",
             "ticks": "outside"
            },
            "colorscale": [
             [
              0,
              "#440154"
             ],
             [
              0.1111111111111111,
              "#482878"
             ],
             [
              0.2222222222222222,
              "#3e4989"
             ],
             [
              0.3333333333333333,
              "#31688e"
             ],
             [
              0.4444444444444444,
              "#26828e"
             ],
             [
              0.5555555555555556,
              "#1f9e89"
             ],
             [
              0.6666666666666666,
              "#35b779"
             ],
             [
              0.7777777777777778,
              "#6ece58"
             ],
             [
              0.8888888888888888,
              "#b5de2b"
             ],
             [
              1,
              "#fde725"
             ]
            ],
            "type": "histogram2dcontour"
           }
          ],
          "mesh3d": [
           {
            "colorbar": {
             "outlinewidth": 1,
             "tickcolor": "rgb(36,36,36)",
             "ticks": "outside"
            },
            "type": "mesh3d"
           }
          ],
          "parcoords": [
           {
            "line": {
             "colorbar": {
              "outlinewidth": 1,
              "tickcolor": "rgb(36,36,36)",
              "ticks": "outside"
             }
            },
            "type": "parcoords"
           }
          ],
          "pie": [
           {
            "automargin": true,
            "type": "pie"
           }
          ],
          "scatter": [
           {
            "fillpattern": {
             "fillmode": "overlay",
             "size": 10,
             "solidity": 0.2
            },
            "type": "scatter"
           }
          ],
          "scatter3d": [
           {
            "line": {
             "colorbar": {
              "outlinewidth": 1,
              "tickcolor": "rgb(36,36,36)",
              "ticks": "outside"
             }
            },
            "marker": {
             "colorbar": {
              "outlinewidth": 1,
              "tickcolor": "rgb(36,36,36)",
              "ticks": "outside"
             }
            },
            "type": "scatter3d"
           }
          ],
          "scattercarpet": [
           {
            "marker": {
             "colorbar": {
              "outlinewidth": 1,
              "tickcolor": "rgb(36,36,36)",
              "ticks": "outside"
             }
            },
            "type": "scattercarpet"
           }
          ],
          "scattergeo": [
           {
            "marker": {
             "colorbar": {
              "outlinewidth": 1,
              "tickcolor": "rgb(36,36,36)",
              "ticks": "outside"
             }
            },
            "type": "scattergeo"
           }
          ],
          "scattergl": [
           {
            "marker": {
             "colorbar": {
              "outlinewidth": 1,
              "tickcolor": "rgb(36,36,36)",
              "ticks": "outside"
             }
            },
            "type": "scattergl"
           }
          ],
          "scattermapbox": [
           {
            "marker": {
             "colorbar": {
              "outlinewidth": 1,
              "tickcolor": "rgb(36,36,36)",
              "ticks": "outside"
             }
            },
            "type": "scattermapbox"
           }
          ],
          "scatterpolar": [
           {
            "marker": {
             "colorbar": {
              "outlinewidth": 1,
              "tickcolor": "rgb(36,36,36)",
              "ticks": "outside"
             }
            },
            "type": "scatterpolar"
           }
          ],
          "scatterpolargl": [
           {
            "marker": {
             "colorbar": {
              "outlinewidth": 1,
              "tickcolor": "rgb(36,36,36)",
              "ticks": "outside"
             }
            },
            "type": "scatterpolargl"
           }
          ],
          "scatterternary": [
           {
            "marker": {
             "colorbar": {
              "outlinewidth": 1,
              "tickcolor": "rgb(36,36,36)",
              "ticks": "outside"
             }
            },
            "type": "scatterternary"
           }
          ],
          "surface": [
           {
            "colorbar": {
             "outlinewidth": 1,
             "tickcolor": "rgb(36,36,36)",
             "ticks": "outside"
            },
            "colorscale": [
             [
              0,
              "#440154"
             ],
             [
              0.1111111111111111,
              "#482878"
             ],
             [
              0.2222222222222222,
              "#3e4989"
             ],
             [
              0.3333333333333333,
              "#31688e"
             ],
             [
              0.4444444444444444,
              "#26828e"
             ],
             [
              0.5555555555555556,
              "#1f9e89"
             ],
             [
              0.6666666666666666,
              "#35b779"
             ],
             [
              0.7777777777777778,
              "#6ece58"
             ],
             [
              0.8888888888888888,
              "#b5de2b"
             ],
             [
              1,
              "#fde725"
             ]
            ],
            "type": "surface"
           }
          ],
          "table": [
           {
            "cells": {
             "fill": {
              "color": "rgb(237,237,237)"
             },
             "line": {
              "color": "white"
             }
            },
            "header": {
             "fill": {
              "color": "rgb(217,217,217)"
             },
             "line": {
              "color": "white"
             }
            },
            "type": "table"
           }
          ]
         },
         "layout": {
          "annotationdefaults": {
           "arrowhead": 0,
           "arrowwidth": 1
          },
          "autotypenumbers": "strict",
          "coloraxis": {
           "colorbar": {
            "outlinewidth": 1,
            "tickcolor": "rgb(36,36,36)",
            "ticks": "outside"
           }
          },
          "colorscale": {
           "diverging": [
            [
             0,
             "rgb(103,0,31)"
            ],
            [
             0.1,
             "rgb(178,24,43)"
            ],
            [
             0.2,
             "rgb(214,96,77)"
            ],
            [
             0.3,
             "rgb(244,165,130)"
            ],
            [
             0.4,
             "rgb(253,219,199)"
            ],
            [
             0.5,
             "rgb(247,247,247)"
            ],
            [
             0.6,
             "rgb(209,229,240)"
            ],
            [
             0.7,
             "rgb(146,197,222)"
            ],
            [
             0.8,
             "rgb(67,147,195)"
            ],
            [
             0.9,
             "rgb(33,102,172)"
            ],
            [
             1,
             "rgb(5,48,97)"
            ]
           ],
           "sequential": [
            [
             0,
             "#440154"
            ],
            [
             0.1111111111111111,
             "#482878"
            ],
            [
             0.2222222222222222,
             "#3e4989"
            ],
            [
             0.3333333333333333,
             "#31688e"
            ],
            [
             0.4444444444444444,
             "#26828e"
            ],
            [
             0.5555555555555556,
             "#1f9e89"
            ],
            [
             0.6666666666666666,
             "#35b779"
            ],
            [
             0.7777777777777778,
             "#6ece58"
            ],
            [
             0.8888888888888888,
             "#b5de2b"
            ],
            [
             1,
             "#fde725"
            ]
           ],
           "sequentialminus": [
            [
             0,
             "#440154"
            ],
            [
             0.1111111111111111,
             "#482878"
            ],
            [
             0.2222222222222222,
             "#3e4989"
            ],
            [
             0.3333333333333333,
             "#31688e"
            ],
            [
             0.4444444444444444,
             "#26828e"
            ],
            [
             0.5555555555555556,
             "#1f9e89"
            ],
            [
             0.6666666666666666,
             "#35b779"
            ],
            [
             0.7777777777777778,
             "#6ece58"
            ],
            [
             0.8888888888888888,
             "#b5de2b"
            ],
            [
             1,
             "#fde725"
            ]
           ]
          },
          "colorway": [
           "#1F77B4",
           "#FF7F0E",
           "#2CA02C",
           "#D62728",
           "#9467BD",
           "#8C564B",
           "#E377C2",
           "#7F7F7F",
           "#BCBD22",
           "#17BECF"
          ],
          "font": {
           "color": "rgb(36,36,36)"
          },
          "geo": {
           "bgcolor": "white",
           "lakecolor": "white",
           "landcolor": "white",
           "showlakes": true,
           "showland": true,
           "subunitcolor": "white"
          },
          "hoverlabel": {
           "align": "left"
          },
          "hovermode": "closest",
          "mapbox": {
           "style": "light"
          },
          "paper_bgcolor": "white",
          "plot_bgcolor": "white",
          "polar": {
           "angularaxis": {
            "gridcolor": "rgb(232,232,232)",
            "linecolor": "rgb(36,36,36)",
            "showgrid": false,
            "showline": true,
            "ticks": "outside"
           },
           "bgcolor": "white",
           "radialaxis": {
            "gridcolor": "rgb(232,232,232)",
            "linecolor": "rgb(36,36,36)",
            "showgrid": false,
            "showline": true,
            "ticks": "outside"
           }
          },
          "scene": {
           "xaxis": {
            "backgroundcolor": "white",
            "gridcolor": "rgb(232,232,232)",
            "gridwidth": 2,
            "linecolor": "rgb(36,36,36)",
            "showbackground": true,
            "showgrid": false,
            "showline": true,
            "ticks": "outside",
            "zeroline": false,
            "zerolinecolor": "rgb(36,36,36)"
           },
           "yaxis": {
            "backgroundcolor": "white",
            "gridcolor": "rgb(232,232,232)",
            "gridwidth": 2,
            "linecolor": "rgb(36,36,36)",
            "showbackground": true,
            "showgrid": false,
            "showline": true,
            "ticks": "outside",
            "zeroline": false,
            "zerolinecolor": "rgb(36,36,36)"
           },
           "zaxis": {
            "backgroundcolor": "white",
            "gridcolor": "rgb(232,232,232)",
            "gridwidth": 2,
            "linecolor": "rgb(36,36,36)",
            "showbackground": true,
            "showgrid": false,
            "showline": true,
            "ticks": "outside",
            "zeroline": false,
            "zerolinecolor": "rgb(36,36,36)"
           }
          },
          "shapedefaults": {
           "fillcolor": "black",
           "line": {
            "width": 0
           },
           "opacity": 0.3
          },
          "ternary": {
           "aaxis": {
            "gridcolor": "rgb(232,232,232)",
            "linecolor": "rgb(36,36,36)",
            "showgrid": false,
            "showline": true,
            "ticks": "outside"
           },
           "baxis": {
            "gridcolor": "rgb(232,232,232)",
            "linecolor": "rgb(36,36,36)",
            "showgrid": false,
            "showline": true,
            "ticks": "outside"
           },
           "bgcolor": "white",
           "caxis": {
            "gridcolor": "rgb(232,232,232)",
            "linecolor": "rgb(36,36,36)",
            "showgrid": false,
            "showline": true,
            "ticks": "outside"
           }
          },
          "title": {
           "x": 0.05
          },
          "xaxis": {
           "automargin": true,
           "gridcolor": "rgb(232,232,232)",
           "linecolor": "rgb(36,36,36)",
           "showgrid": false,
           "showline": true,
           "ticks": "outside",
           "title": {
            "standoff": 15
           },
           "zeroline": false,
           "zerolinecolor": "rgb(36,36,36)"
          },
          "yaxis": {
           "automargin": true,
           "gridcolor": "rgb(232,232,232)",
           "linecolor": "rgb(36,36,36)",
           "showgrid": false,
           "showline": true,
           "ticks": "outside",
           "title": {
            "standoff": 15
           },
           "zeroline": false,
           "zerolinecolor": "rgb(36,36,36)"
          }
         }
        },
        "title": {
         "font": {
          "color": "Black",
          "size": 22
         },
         "text": "<b>Documents and Topics</b>",
         "x": 0.5,
         "xanchor": "center",
         "yanchor": "top"
        },
        "width": 1200,
        "xaxis": {
         "visible": false
        },
        "yaxis": {
         "visible": false
        }
       }
      }
     },
     "metadata": {},
     "output_type": "display_data"
    }
   ],
   "source": [
    "topic_model = BERTopic.load(\"demo_group_model\")\n",
    "\n",
    "all_data = pd.concat(modes_dfs)\n",
    "\n",
    "array_embeddings = column_to_2darray(all_data['si_embedding'])\n",
    "\n",
    "reduced_array_embeddings = UMAP(n_neighbors=5, n_components=2, min_dist=0.0, metric='cosine', random_state=42).fit_transform(array_embeddings)\n",
    "\n",
    "visualization = topic_model.visualize_documents(all_data['si'].to_list(), embeddings=array_embeddings, reduced_embeddings=reduced_array_embeddings)\n",
    "\n",
    "with open(os.path.join('topic_visuals', 'demo_group_model_visual.html'), 'w') as f:\n",
    "    visualization.write_html(f)\n",
    "\n",
    "visualization"
   ]
  }
 ],
 "metadata": {
  "kernelspec": {
   "display_name": "taic-report-engine-vkGeZcZ8-py3.11",
   "language": "python",
   "name": "python3"
  },
  "language_info": {
   "codemirror_mode": {
    "name": "ipython",
    "version": 3
   },
   "file_extension": ".py",
   "mimetype": "text/x-python",
   "name": "python",
   "nbconvert_exporter": "python",
   "pygments_lexer": "ipython3",
   "version": "3.11.5"
  }
 },
 "nbformat": 4,
 "nbformat_minor": 2
}
