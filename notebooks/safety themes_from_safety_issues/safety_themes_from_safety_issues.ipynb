{
 "cells": [
  {
   "cell_type": "markdown",
   "metadata": {},
   "source": [
    "# What\n",
    "\n",
    "As established in [#144](https://github.com/1jamesthompson1/TAIC-report-summary/issues/144) now that we have the safety issues dataset from #141 it is possible for us to generate the safety themes just from the safety issues.\n",
    "\n",
    "This is supposed to be a quick example of how it could be done and what this dataset could be used for."
   ]
  },
  {
   "cell_type": "markdown",
   "metadata": {},
   "source": [
    "## Modules\n",
    "\n",
    "To make this document easy to move all the modules needed are listed here"
   ]
  },
  {
   "cell_type": "code",
   "execution_count": 69,
   "metadata": {},
   "outputs": [
    {
     "data": {
      "text/plain": [
       "<module 'engine.Extract_Analyze.ThemeGenerator' from '/home/james/code/TAIC-report-summary/engine/Extract_Analyze/ThemeGenerator.py'>"
      ]
     },
     "execution_count": 69,
     "metadata": {},
     "output_type": "execute_result"
    }
   ],
   "source": [
    "# from engine\n",
    "from engine.OpenAICaller import openAICaller\n",
    "\n",
    "from engine.Extract_Analyze import ThemeGenerator\n",
    "\n",
    "# third party\n",
    "import yaml\n",
    "import pandas as pd\n",
    "\n",
    "# built in\n",
    "import os\n",
    "import importlib\n",
    "\n",
    "\n",
    "importlib.reload(ThemeGenerator)\n"
   ]
  },
  {
   "cell_type": "markdown",
   "metadata": {},
   "source": [
    "# Get data\n",
    "\n",
    "I am going to read all of the safety issues from the reports."
   ]
  },
  {
   "cell_type": "code",
   "execution_count": 70,
   "metadata": {},
   "outputs": [],
   "source": [
    "output_path = \"output\"\n",
    "\n",
    "safety_issues = []\n",
    "\n",
    "all_reports = [r for r in os.listdir(output_path) if os.path.isdir(os.path.join(output_path, r))] \n",
    "\n",
    "for report_id in all_reports:\n",
    "    \n",
    "    safety_issue_path = os.path.join(output_path, report_id, f\"{report_id}_safety_issues.yaml\")\n",
    "\n",
    "    if not os.path.exists(safety_issue_path):\n",
    "        continue\n",
    "\n",
    "    with open(os.path.join(output_path, report_id, f\"{report_id}_safety_issues.yaml\"), \"r\") as f:\n",
    "        si = yaml.safe_load(f)\n",
    "\n",
    "    safety_issues.append({\n",
    "        'report_id': report_id,\n",
    "        'si': si\n",
    "    })"
   ]
  },
  {
   "cell_type": "markdown",
   "metadata": {},
   "source": [
    "# Use gpt 4 to generate safety themes\n",
    "\n",
    "I am now going to run it through a LLM."
   ]
  },
  {
   "cell_type": "markdown",
   "metadata": {},
   "source": [
    "## Prompt preparation"
   ]
  },
  {
   "cell_type": "code",
   "execution_count": 71,
   "metadata": {},
   "outputs": [],
   "source": [
    "safety_issues_str = \"\"\n",
    "\n",
    "for si in safety_issues:\n",
    "    si_str = \"\\n\".join([i['safety_issue'] for i in si['si']])\n",
    "            \n",
    "    safety_issues_str += f\"Report ID: {si['report_id']}\\n{si_str}\\n\""
   ]
  },
  {
   "cell_type": "markdown",
   "metadata": {},
   "source": [
    "## Sending to model"
   ]
  },
  {
   "cell_type": "code",
   "execution_count": 145,
   "metadata": {},
   "outputs": [],
   "source": [
    "importlib.reload(ThemeGenerator)\n",
    "\n",
    "themeGenerator = ThemeGenerator.ThemeGenerator(output_path, {\"folder_name\": \"{{report_id}}\", \"themes_file_name\": \"{{report_id}}_themes.yaml\"}, ['aviation', 'rail', 'marine'], False)"
   ]
  },
  {
   "cell_type": "markdown",
   "metadata": {},
   "source": [
    "## Getting safety themes"
   ]
  },
  {
   "cell_type": "code",
   "execution_count": 140,
   "metadata": {},
   "outputs": [],
   "source": [
    "safety_themes = [themeGenerator._get_safety_themes_from_reports(safety_issues_str) for _ in range(3)]\n"
   ]
  },
  {
   "cell_type": "code",
   "execution_count": 141,
   "metadata": {},
   "outputs": [
    {
     "name": "stdout",
     "output_type": "stream",
     "text": [
      "Safety themes version\n",
      "'''\n",
      "Communication Failures for modes a, r, m:\n",
      " Ineffective communication among crew members, between pilots and air traffic control, or between train controllers and train drivers can lead to misunderstandings, misinterpretations, and errors in operational execution. This includes the use of non-standard phraseology, lack of clarity in instructions, and failure to confirm or verify critical information. Ensuring clear, concise, and standardized communication protocols are followed is essential for the safety of operations across all modes of transport.\n",
      "\n",
      "Inadequate Training and Familiarization for modes a, r, m:\n",
      " Insufficient training and familiarization with equipment, procedures, or emergency situations can lead to inadequate responses to operational challenges or emergencies. This theme encompasses not only the technical skills required to operate vehicles or equipment but also non-technical skills such as decision-making, situational awareness, and crew resource management. Ensuring comprehensive training programs that include both technical and non-technical aspects is crucial.\n",
      "\n",
      "Lack of Effective Safety Management Systems for modes a, r, m:\n",
      " The absence or inadequacy of safety management systems (SMS) to identify, assess, and mitigate risks can lead to operational hazards not being effectively managed. This includes the failure to follow existing safety procedures, inadequate risk assessments, and poor oversight of safety practices. Implementing and maintaining robust SMS tailored to the specific operations and continuously improving them based on operational feedback is vital for enhancing safety.\n",
      "\n",
      "Fatigue Management for modes a, r, m:\n",
      " Operator fatigue due to inadequate scheduling, long shifts, or insufficient rest periods can significantly impair performance, leading to errors. Effective fatigue management involves not only regulatory limits on work hours but also consideration of human circadian rhythms and providing opportunities for adequate rest. Addressing fatigue requires a holistic approach that includes both organizational policies and individual responsibility.\n",
      "\n",
      "Maintenance and Inspection Failures for modes a, r, m:\n",
      " Inadequate maintenance and inspection regimes can lead to equipment failures, which may result in accidents or incidents. This includes not following manufacturers' maintenance schedules, insufficient oversight of maintenance practices, and failure to detect or adequately address wear and tear or other signs of impending failure. Ensuring rigorous, regular maintenance and inspection practices are essential for operational safety.\n",
      "\n",
      "Inadequate Emergency Preparedness for modes a, r, m:\n",
      " Lack of preparedness for emergency situations, including inadequate emergency equipment, poor emergency response planning, or insufficient training on emergency procedures, can exacerbate the outcomes of incidents. Enhancing emergency preparedness involves regular drills, ensuring accessibility and functionality of emergency equipment, and clear, practiced emergency response plans.\n",
      "\n",
      "Human Factors and Non-Technical Skills for modes a, r, m:\n",
      " Human factors such as decision-making under pressure, situational awareness, and crew resource management play a critical role in safety. Non-technical skills are often the last line of defense against escalating situations into incidents. Training programs must address these skills, and operational culture should support their use.\n",
      "\n",
      "Regulatory and Oversight Deficiencies for modes a, r, m:\n",
      " Inadequacies in regulatory frameworks or oversight can allow unsafe practices to continue or emerge. This includes gaps in regulations that fail to address known risks, insufficient enforcement of existing regulations, and lack of proactive oversight to identify and mitigate emerging risks. Strengthening regulatory frameworks and oversight mechanisms is crucial for maintaining and enhancing safety.\n",
      "\n",
      "Safety Culture and Organizational Influences for modes a, r, m:\n",
      " The culture within an organization and its influence on safety practices and attitudes can significantly impact operational safety. A positive safety culture encourages proactive safety management, open reporting of safety concerns, and prioritization of safety over operational pressures. Cultivating a strong safety culture requires commitment at all levels of an organization.\n",
      "\n",
      "Navigation and Situational Awareness for modes a, r, m:\n",
      " Failures in navigation or loss of situational awareness can lead to incidents such as collisions, groundings, or airspace infringements. This includes reliance on inadequate navigation aids, failure to monitor progress against a planned route, and inadequate response to navigational warnings. Enhancing navigation safety involves the use of appropriate technology, continuous situational awareness, and adherence to navigation procedures.\n",
      "\n",
      "Risk Assessment and Management for modes a, r, m:\n",
      " Inadequate identification, assessment, and management of operational risks can lead to safety incidents. Effective risk management involves identifying potential hazards, assessing the likelihood and severity of risks, and implementing measures to mitigate those risks. Continuous monitoring and adjustment of risk management practices based on operational experience and feedback are essential.\n",
      "\n",
      "Use of Performance-Impairing Substances for modes a, r, m:\n",
      " The use of drugs, alcohol, or other substances that impair performance poses a significant risk to safety. Implementing strict policies, regular testing, and promoting a culture that discourages the use of such substances are critical measures to mitigate this risk.\n",
      "\n",
      "Equipment Design and Reliability for modes a, r, m:\n",
      " Design flaws or reliability issues with equipment can lead to operational failures and incidents. Ensuring equipment is designed with safety in mind, including fail-safes and redundancy, and maintaining equipment reliability through regular testing and updates, are key to preventing equipment-related incidents.\n",
      "\n",
      "Environmental Conditions and Weather for modes a, r, m:\n",
      " Adverse environmental conditions and weather can significantly impact the safety of operations. Preparing for and responding appropriately to weather conditions, including the use of weather monitoring and forecasting tools, and implementing procedures for operation in adverse conditions, are essential for safety.\n",
      "\n",
      "Technological Integration and Automation for modes a, r, m:\n",
      " The integration of technology and automation in operations can both enhance and pose risks to safety. Ensuring that technological solutions are implemented in a way that enhances safety without introducing new risks requires careful planning, training, and oversight. This includes understanding the limitations of automation and maintaining human oversight.\n",
      "\n",
      "'''\n",
      "\n",
      "\n",
      "Safety themes version\n",
      "'''\n",
      "Communication Failures for modes a, r, m:\n",
      " Miscommunication or lack of clear communication between crew members, controllers, and other relevant personnel can lead to misunderstandings and errors in the execution of operational procedures. This includes the failure to effectively use standardized communication protocols, leading to incorrect actions being taken or safety measures being overlooked.\n",
      "\n",
      "Inadequate Training and Familiarization for modes a, r, m:\n",
      " Insufficient training or lack of familiarity with equipment, procedures, or emergency responses can compromise safety. This includes not only the technical skills required to operate vehicles or equipment but also non-technical skills such as decision-making, situational awareness, and crew resource management.\n",
      "\n",
      "Non-compliance with Procedures for modes a, r, m:\n",
      " Deviations from established procedures, whether due to oversight, lack of awareness, or deliberate action, can expose operations to increased risk. This theme encompasses both operational procedures and maintenance practices that are not followed as prescribed, potentially leading to accidents or incidents.\n",
      "\n",
      "Fatigue Management for modes a, r, m:\n",
      " Inadequate management of fatigue among operational staff, including scheduling practices that do not allow for sufficient rest, can impair performance and reaction times, increasing the likelihood of errors.\n",
      "\n",
      "Safety Management Systems Deficiencies for modes a, r, m:\n",
      " Flaws or gaps in safety management systems, including risk assessment processes, safety culture, and the implementation of safety measures, can leave organizations ill-prepared to identify and mitigate risks effectively.\n",
      "\n",
      "Equipment Maintenance and Failure for modes a, r, m:\n",
      " Poor maintenance practices or failure to adhere to maintenance schedules can lead to equipment failures that compromise safety. This includes both the physical condition of vehicles and the adequacy of safety-critical systems such as fire suppression and emergency signaling.\n",
      "\n",
      "Navigation and Situational Awareness for modes a, m:\n",
      " Failures in navigation or a loss of situational awareness, whether due to human error or equipment limitations, can lead to collisions, groundings, or other incidents. This theme emphasizes the importance of accurate position monitoring and environmental assessment in safe operations.\n",
      "\n",
      "Emergency Preparedness and Response for modes a, r, m:\n",
      " Inadequate preparation for emergencies, including insufficient drills or unclear emergency procedures, can hinder effective response to incidents, potentially exacerbating outcomes.\n",
      "\n",
      "Substance Abuse for modes a, r, m:\n",
      " The use of performance-impairing substances by operational personnel poses a significant risk to safety, impairing judgment and motor skills necessary for safe operations.\n",
      "\n",
      "Regulatory Oversight and Compliance for modes a, r, m:\n",
      " Inadequate regulatory oversight or non-compliance with regulatory standards can lead to systemic safety issues within and across modes. This includes both the enforcement of existing regulations and the need for regulatory frameworks to evolve in response to emerging safety challenges.\n",
      "\n",
      "Human Factors and Ergonomics for modes a, r, m:\n",
      " Design and operational practices that do not adequately consider human factors and ergonomics can lead to errors. This includes the layout of controls, the usability of equipment, and the physical and cognitive demands placed on personnel.\n",
      "\n",
      "Risk Assessment and Management for modes a, r, m:\n",
      " Failures in identifying, assessing, and managing risks can leave operations vulnerable to known and emergent threats. Effective risk management involves not only the identification and mitigation of risks but also ongoing monitoring and adjustment of risk controls.\n",
      "\n",
      "Safety Culture for modes a, r, m:\n",
      " A weak safety culture, characterized by a lack of commitment to safety at all organizational levels, insufficient safety communication, and inadequate safety accountability, undermines the effectiveness of safety management practices and increases the risk of incidents.\n",
      "\n",
      "Environmental Conditions and Weather for modes a, r, m:\n",
      " Failure to adequately consider or respond to environmental conditions and weather can lead to accidents. This includes not only the immediate impact of weather on operations but also the adequacy of planning and preparedness for environmental challenges.\n",
      "\n",
      "Technological Limitations and Failures for modes a, r, m:\n",
      " Limitations or failures in technology, including navigation systems, safety equipment, and communication tools, can directly impact the safety of operations. This theme underscores the importance of reliable technology and the need for backup systems and procedures.\n",
      "\n",
      "'''\n",
      "\n",
      "\n",
      "Safety themes version\n",
      "'''\n",
      "Communication Failures for modes a, r, m:\n",
      " Miscommunication or lack of clear communication between crew members, controllers, and other relevant personnel can lead to misunderstandings and errors in the execution of operational procedures. This includes the failure to effectively use established communication protocols, non-standard phraseology, and inadequate crew resource management practices that prevent the clear transmission and understanding of critical information.\n",
      "\n",
      "Inadequate Training and Familiarization for modes a, r, m:\n",
      " Insufficient training or lack of familiarity with equipment, procedures, or emergency situations can lead to improper handling of operations or failure to respond effectively in critical situations. This encompasses both technical skills and non-technical skills (such as crew resource management), and highlights the importance of comprehensive, ongoing training programs and familiarization processes for all operational personnel.\n",
      "\n",
      "Non-compliance with Procedures for modes a, r, m:\n",
      " Deviations from established procedures, whether due to oversight, misunderstanding, or deliberate non-compliance, can compromise the safety of operations. This theme underscores the need for strict adherence to operational protocols, regular audits, and a culture that promotes compliance to ensure the effectiveness of safety measures.\n",
      "\n",
      "Fatigue Management for modes a, r, m:\n",
      " Inadequate management of fatigue among operational personnel can lead to decreased alertness and performance, increasing the risk of errors. Effective fatigue risk management systems are essential to identify, assess, and mitigate fatigue-related risks, ensuring personnel are adequately rested and alert.\n",
      "\n",
      "Maintenance and Inspection Failures for modes a, r, m:\n",
      " Failures in the maintenance and inspection of equipment can lead to operational failures and accidents. This includes inadequate maintenance procedures, failure to follow maintenance protocols, and insufficient inspection to detect wear, damage, or other issues that could compromise safety.\n",
      "\n",
      "Safety Management Systems Deficiencies for modes a, r, m:\n",
      " Inadequacies in safety management systems, including risk assessment, safety culture, and emergency preparedness, can leave organizations ill-equipped to identify, assess, and mitigate safety risks. A robust safety management system is crucial for proactive safety oversight and continuous improvement.\n",
      "\n",
      "Human Factors and Crew Resource Management for modes a, r, m:\n",
      " Human factors, including the psychological, physiological, and social aspects of crew performance, play a critical role in operational safety. Effective crew resource management training is essential to enhance communication, decision-making, and teamwork among crew members.\n",
      "\n",
      "Navigation and Situational Awareness for modes a, r, m:\n",
      " Loss of situational awareness or navigation errors can lead to accidents and incidents. This theme emphasizes the importance of accurate navigation aids, effective use of technology, and maintaining situational awareness to prevent collisions, groundings, and other navigational mishaps.\n",
      "\n",
      "Emergency Response and Preparedness for modes a, r, m:\n",
      " Inadequate emergency response and preparedness can exacerbate the outcomes of incidents. This theme highlights the need for comprehensive emergency plans, regular drills, and effective communication systems to ensure a timely and coordinated response to emergencies.\n",
      "\n",
      "Regulatory Oversight and Compliance for modes a, r, m:\n",
      " Weaknesses in regulatory oversight and compliance can lead to systemic safety risks. This includes the need for clear regulations, effective enforcement mechanisms, and a culture of compliance to ensure that operations meet the highest safety standards.\n",
      "\n",
      "Technological Failures and Limitations for modes a, r, m:\n",
      " Failures or limitations in technology, including equipment malfunction and inadequate technological solutions, can pose significant operational risks. Ongoing investment in technology, regular system updates, and effective training on technological systems are essential for mitigating these risks.\n",
      "\n",
      "Risk Assessment and Management for modes a, r, m:\n",
      " Inadequate risk assessment and management practices can leave organizations vulnerable to unmitigated risks. This theme underscores the importance of comprehensive risk assessments, effective risk management strategies, and a proactive approach to identifying and addressing potential safety threats.\n",
      "\n",
      "Environmental Factors and Weather Conditions for modes a, r, m:\n",
      " Adverse environmental conditions and weather can significantly impact safety. This theme highlights the need for accurate weather forecasting, environmental risk assessments, and adaptive operational planning to mitigate the effects of environmental factors on safety.\n",
      "\n",
      "Safety Culture and Leadership for modes a, r, m:\n",
      " A weak safety culture and lack of effective leadership can undermine safety efforts and lead to increased risk. Promoting a strong safety culture, where safety is a core value and supported by leadership at all levels, is crucial for fostering an environment where safety concerns are openly reported and addressed.\n",
      "\n",
      "Infrastructure and Equipment Design for modes a, r, m:\n",
      " Design flaws or inadequacies in infrastructure and equipment can pose inherent safety risks. This theme emphasizes the importance of safety-focused design principles, regular review and updating of infrastructure, and equipment to meet evolving safety standards and operational needs.\n",
      "\n",
      "'''\n",
      "\n"
     ]
    }
   ],
   "source": [
    "# Get the average\n",
    "\n",
    "safety_themes_str = [\n",
    "    '\\n'.join([f\"{safety_theme['title'].strip()} for modes {', '.join(safety_theme['modes'])}:\\n {safety_theme['description']}\" for safety_theme in safety_themes_set])\n",
    "    for safety_themes_set in safety_themes\n",
    "]\n",
    "\n",
    "safety_themes_str = '\\n\\n'.join([f\"Safety themes version\\n'''\\n{themes}\\n'''\\n\" for themes in safety_themes_str])\n",
    "\n",
    "print(safety_themes_str)\n"
   ]
  },
  {
   "cell_type": "code",
   "execution_count": 142,
   "metadata": {},
   "outputs": [],
   "source": [
    "\n",
    "average_safety_theme = openAICaller.query(\n",
    "    system=\"\"\"\n",
    "You are going to help me summarize the given source text.\n",
    "        \"\"\",\n",
    "\n",
    "    user=f\"\"\"\n",
    "Here is the text to summarize:\n",
    "'''\n",
    "{safety_themes_str}\n",
    "'''\n",
    "\n",
    "Here are three versions of the safety themes extracted from a collection of accident investigation reports.\n",
    "\n",
    "I need you to return one set that is the average of all of the safety themes versions. This means it there should be about 15 final safety themes.\n",
    "\n",
    "Your output needs to be in yaml format. Just output the yaml structure with no extra text (This means no ```yaml and ```) . It will look something like this:\n",
    "- title: |-\n",
    "    title of the theme goes here\n",
    "    description: |\n",
    "    Multi line description of the theme goes here.\n",
    "    modes:\n",
    "    - modes that should be included. One per row (Each mode is just one letter (a,r,m))\n",
    "\n",
    "\n",
    "=Here are some definitions=\n",
    "\n",
    "Safety factor - Any (non-trivial) events or conditions, which increases safety risk. If they occurred in the future, these would\n",
    "increase the likelihood of an occurrence, and/or the\n",
    "severity of any adverse consequences associated with the\n",
    "occurrence.\n",
    "\n",
    "Safety issue - A safety factor that:\n",
    "• can reasonably be regarded as having the\n",
    "potential to adversely affect the safety of future\n",
    "operations, and\n",
    "• is characteristic of an organization, a system, or an\n",
    "operational environment at a specific point in time.\n",
    "Safety Issues are derived from safety factors classified\n",
    "either as Risk Controls or Organizational Influences.\n",
    "\n",
    "Safety theme - Indication of recurring circumstances or causes, either across transport modes or over time. A safety theme may\n",
    "cover a single safety issue, or two or more related safety\n",
    "issues.    \n",
    "\n",
    "        \"\"\",\n",
    "    model = 'gpt-4',\n",
    "    temp=0\n",
    ")\n",
    "try:\n",
    "    average_safety_theme = yaml.safe_load(average_safety_theme)\n",
    "except yaml.YAMLError:\n",
    "    print(\"Cant parse\")\n",
    "    print(average_safety_theme)\n",
    "\n",
    "\n",
    "yaml.safe_dump(average_safety_theme, open(\"safety_themes.yaml\", \"w\"))"
   ]
  },
  {
   "cell_type": "code",
   "execution_count": 147,
   "metadata": {},
   "outputs": [
    {
     "name": "stdout",
     "output_type": "stream",
     "text": [
      "15\n"
     ]
    },
    {
     "data": {
      "text/plain": [
       "[{'description': 'Miscommunication or unclear communication between crew members, controllers, and other personnel can lead to misunderstandings and operational errors. This includes the failure to use standardized communication protocols, non-standard phraseology, and inadequate verification of critical information. Clear, concise, and standardized communication is essential.\\n',\n",
       "  'modes': ['a', 'r', 'm'],\n",
       "  'title': 'Communication Failures'},\n",
       " {'description': 'Insufficient training or lack of familiarity with equipment, procedures, or emergency situations can compromise safety and lead to inadequate responses. Comprehensive training programs covering both technical and non-technical skills, such as decision-making and situational awareness, are crucial.\\n',\n",
       "  'modes': ['a', 'r', 'm'],\n",
       "  'title': 'Inadequate Training and Familiarization'},\n",
       " {'description': 'The absence or inadequacy of safety management systems to identify, assess, and mitigate risks can lead to unmanaged operational hazards. Robust SMS, tailored to specific operations and continuously improved based on feedback, are vital for safety.\\n',\n",
       "  'modes': ['a', 'r', 'm'],\n",
       "  'title': 'Safety Management Systems Deficiencies'},\n",
       " {'description': 'Operator fatigue can significantly impair performance and lead to errors. Effective management involves regulatory work hour limits, consideration of circadian rhythms, and ensuring adequate rest.\\n',\n",
       "  'modes': ['a', 'r', 'm'],\n",
       "  'title': 'Fatigue Management'},\n",
       " {'description': 'Inadequate maintenance and inspection can lead to equipment failures and accidents. Rigorous, regular maintenance and inspection practices are essential for safety.\\n',\n",
       "  'modes': ['a', 'r', 'm'],\n",
       "  'title': 'Maintenance and Inspection Failures'},\n",
       " {'description': 'Lack of preparedness for emergencies can exacerbate incident outcomes. Enhancing preparedness involves regular drills, accessible and functional emergency equipment, and clear response plans.\\n',\n",
       "  'modes': ['a', 'r', 'm'],\n",
       "  'title': 'Inadequate Emergency Preparedness'},\n",
       " {'description': 'Human factors such as decision-making under pressure, situational awareness, and effective crew resource management are critical for safety. Training programs must address these skills to support their use in operations.\\n',\n",
       "  'modes': ['a', 'r', 'm'],\n",
       "  'title': 'Human Factors and Non-Technical Skills'},\n",
       " {'description': 'Inadequacies in regulatory frameworks or oversight can allow unsafe practices to persist. Strengthening regulatory frameworks and oversight mechanisms is crucial for safety.\\n',\n",
       "  'modes': ['a', 'r', 'm'],\n",
       "  'title': 'Regulatory and Oversight Deficiencies'},\n",
       " {'description': 'The culture within an organization significantly impacts safety practices and attitudes. A positive safety culture promotes proactive safety management and prioritizes safety over operational pressures.\\n',\n",
       "  'modes': ['a', 'r', 'm'],\n",
       "  'title': 'Safety Culture and Organizational Influences'},\n",
       " {'description': 'Failures in navigation or loss of situational awareness can lead to incidents. The use of appropriate technology and continuous situational awareness are essential for navigation safety.\\n',\n",
       "  'modes': ['a', 'r', 'm'],\n",
       "  'title': 'Navigation and Situational Awareness'},\n",
       " {'description': 'Inadequate identification, assessment, and management of risks can lead to safety incidents. Continuous risk management practices based on operational experience are essential.\\n',\n",
       "  'modes': ['a', 'r', 'm'],\n",
       "  'title': 'Risk Assessment and Management'},\n",
       " {'description': 'The use of substances that impair performance poses significant safety risks. Strict policies, regular testing, and a culture discouraging substance use are critical.\\n',\n",
       "  'modes': ['a', 'r', 'm'],\n",
       "  'title': 'Use of Performance-Impairing Substances'},\n",
       " {'description': 'Design flaws or reliability issues can lead to operational failures. Equipment should be designed with safety in mind, including fail-safes and redundancy.\\n',\n",
       "  'modes': ['a', 'r', 'm'],\n",
       "  'title': 'Equipment Design and Reliability'},\n",
       " {'description': 'Adverse environmental conditions and weather can impact safety. Preparing for and responding to weather conditions is essential for safety.\\n',\n",
       "  'modes': ['a', 'r', 'm'],\n",
       "  'title': 'Environmental Conditions and Weather'},\n",
       " {'description': 'Technology and automation can enhance or pose risks to safety. Careful planning, training, and oversight are required to ensure technology enhances safety without introducing new risks.\\n',\n",
       "  'modes': ['a', 'r', 'm'],\n",
       "  'title': 'Technological Integration and Automation'}]"
      ]
     },
     "execution_count": 147,
     "metadata": {},
     "output_type": "execute_result"
    }
   ],
   "source": [
    "safety_themes = yaml.safe_load(open(\"safety_themes.yaml\", \"r\"))\n",
    "\n",
    "print(len(safety_themes))\n",
    "\n",
    "safety_themes"
   ]
  },
  {
   "cell_type": "markdown",
   "metadata": {},
   "source": [
    "## Grouping safety themes"
   ]
  },
  {
   "cell_type": "code",
   "execution_count": 148,
   "metadata": {},
   "outputs": [],
   "source": [
    "safety_theme_groups = themeGenerator._group_safety_themes(safety_themes)"
   ]
  },
  {
   "cell_type": "code",
   "execution_count": 149,
   "metadata": {},
   "outputs": [
    {
     "data": {
      "text/plain": [
       "[{'title': 'Human Factors and Training',\n",
       "  'description': 'This group focuses on the human element in operational safety, emphasizing the importance of training, non-technical skills, and managing human vulnerabilities such as fatigue.\\n',\n",
       "  'themes': ['Inadequate Training and Familiarization',\n",
       "   'Human Factors and Non-Technical Skills',\n",
       "   'Fatigue Management']},\n",
       " {'title': 'Safety Management and Organizational Practices',\n",
       "  'description': 'Themes in this group relate to the overarching systems and cultural practices within organizations that support or undermine safety, including the management of safety information and the cultivation of a safety culture.\\n',\n",
       "  'themes': ['Safety Management Systems Deficiencies',\n",
       "   'Safety Culture and Organizational Influences',\n",
       "   'Regulatory and Oversight Deficiencies']},\n",
       " {'title': 'Operational and Technical Safeguards',\n",
       "  'description': 'This group encompasses the technical and procedural aspects of safety, focusing on the design, maintenance, and reliable operation of equipment, as well as the integration of technology.\\n',\n",
       "  'themes': ['Maintenance and Inspection Failures',\n",
       "   'Equipment Design and Reliability',\n",
       "   'Technological Integration and Automation']},\n",
       " {'title': 'Risk Management and Emergency Preparedness',\n",
       "  'description': 'Themes here are concerned with the identification, assessment, and mitigation of risks, as well as the preparedness to respond effectively to emergencies.\\n',\n",
       "  'themes': ['Risk Assessment and Management',\n",
       "   'Inadequate Emergency Preparedness']},\n",
       " {'title': 'Communication and Situational Awareness',\n",
       "  'description': 'This group highlights the importance of clear communication and maintaining situational awareness to prevent misunderstandings and operational errors.\\n',\n",
       "  'themes': ['Communication Failures',\n",
       "   'Navigation and Situational Awareness']},\n",
       " {'title': 'External Factors and Substance Control',\n",
       "  'description': 'Themes in this group address external environmental challenges and the control of factors that can impair performance, such as substance use.\\n',\n",
       "  'themes': ['Environmental Conditions and Weather',\n",
       "   'Use of Performance-Impairing Substances']}]"
      ]
     },
     "execution_count": 149,
     "metadata": {},
     "output_type": "execute_result"
    }
   ],
   "source": [
    "safety_theme_groups"
   ]
  },
  {
   "cell_type": "markdown",
   "metadata": {},
   "source": [
    "## Add groups to original safety themes"
   ]
  },
  {
   "cell_type": "code",
   "execution_count": 150,
   "metadata": {},
   "outputs": [
    {
     "data": {
      "text/plain": [
       "[{'description': 'Miscommunication or unclear communication between crew members, controllers, and other personnel can lead to misunderstandings and operational errors. This includes the failure to use standardized communication protocols, non-standard phraseology, and inadequate verification of critical information. Clear, concise, and standardized communication is essential.\\n',\n",
       "  'modes': ['a', 'r', 'm'],\n",
       "  'title': 'Communication Failures',\n",
       "  'group': 'Communication and Situational Awareness'},\n",
       " {'description': 'Insufficient training or lack of familiarity with equipment, procedures, or emergency situations can compromise safety and lead to inadequate responses. Comprehensive training programs covering both technical and non-technical skills, such as decision-making and situational awareness, are crucial.\\n',\n",
       "  'modes': ['a', 'r', 'm'],\n",
       "  'title': 'Inadequate Training and Familiarization',\n",
       "  'group': 'Human Factors and Training'},\n",
       " {'description': 'The absence or inadequacy of safety management systems to identify, assess, and mitigate risks can lead to unmanaged operational hazards. Robust SMS, tailored to specific operations and continuously improved based on feedback, are vital for safety.\\n',\n",
       "  'modes': ['a', 'r', 'm'],\n",
       "  'title': 'Safety Management Systems Deficiencies',\n",
       "  'group': 'Safety Management and Organizational Practices'},\n",
       " {'description': 'Operator fatigue can significantly impair performance and lead to errors. Effective management involves regulatory work hour limits, consideration of circadian rhythms, and ensuring adequate rest.\\n',\n",
       "  'modes': ['a', 'r', 'm'],\n",
       "  'title': 'Fatigue Management',\n",
       "  'group': 'Human Factors and Training'},\n",
       " {'description': 'Inadequate maintenance and inspection can lead to equipment failures and accidents. Rigorous, regular maintenance and inspection practices are essential for safety.\\n',\n",
       "  'modes': ['a', 'r', 'm'],\n",
       "  'title': 'Maintenance and Inspection Failures',\n",
       "  'group': 'Operational and Technical Safeguards'},\n",
       " {'description': 'Lack of preparedness for emergencies can exacerbate incident outcomes. Enhancing preparedness involves regular drills, accessible and functional emergency equipment, and clear response plans.\\n',\n",
       "  'modes': ['a', 'r', 'm'],\n",
       "  'title': 'Inadequate Emergency Preparedness',\n",
       "  'group': 'Risk Management and Emergency Preparedness'},\n",
       " {'description': 'Human factors such as decision-making under pressure, situational awareness, and effective crew resource management are critical for safety. Training programs must address these skills to support their use in operations.\\n',\n",
       "  'modes': ['a', 'r', 'm'],\n",
       "  'title': 'Human Factors and Non-Technical Skills',\n",
       "  'group': 'Human Factors and Training'},\n",
       " {'description': 'Inadequacies in regulatory frameworks or oversight can allow unsafe practices to persist. Strengthening regulatory frameworks and oversight mechanisms is crucial for safety.\\n',\n",
       "  'modes': ['a', 'r', 'm'],\n",
       "  'title': 'Regulatory and Oversight Deficiencies',\n",
       "  'group': 'Safety Management and Organizational Practices'},\n",
       " {'description': 'The culture within an organization significantly impacts safety practices and attitudes. A positive safety culture promotes proactive safety management and prioritizes safety over operational pressures.\\n',\n",
       "  'modes': ['a', 'r', 'm'],\n",
       "  'title': 'Safety Culture and Organizational Influences',\n",
       "  'group': 'Safety Management and Organizational Practices'},\n",
       " {'description': 'Failures in navigation or loss of situational awareness can lead to incidents. The use of appropriate technology and continuous situational awareness are essential for navigation safety.\\n',\n",
       "  'modes': ['a', 'r', 'm'],\n",
       "  'title': 'Navigation and Situational Awareness',\n",
       "  'group': 'Communication and Situational Awareness'},\n",
       " {'description': 'Inadequate identification, assessment, and management of risks can lead to safety incidents. Continuous risk management practices based on operational experience are essential.\\n',\n",
       "  'modes': ['a', 'r', 'm'],\n",
       "  'title': 'Risk Assessment and Management',\n",
       "  'group': 'Risk Management and Emergency Preparedness'},\n",
       " {'description': 'The use of substances that impair performance poses significant safety risks. Strict policies, regular testing, and a culture discouraging substance use are critical.\\n',\n",
       "  'modes': ['a', 'r', 'm'],\n",
       "  'title': 'Use of Performance-Impairing Substances',\n",
       "  'group': 'External Factors and Substance Control'},\n",
       " {'description': 'Design flaws or reliability issues can lead to operational failures. Equipment should be designed with safety in mind, including fail-safes and redundancy.\\n',\n",
       "  'modes': ['a', 'r', 'm'],\n",
       "  'title': 'Equipment Design and Reliability',\n",
       "  'group': 'Operational and Technical Safeguards'},\n",
       " {'description': 'Adverse environmental conditions and weather can impact safety. Preparing for and responding to weather conditions is essential for safety.\\n',\n",
       "  'modes': ['a', 'r', 'm'],\n",
       "  'title': 'Environmental Conditions and Weather',\n",
       "  'group': 'External Factors and Substance Control'},\n",
       " {'description': 'Technology and automation can enhance or pose risks to safety. Careful planning, training, and oversight are required to ensure technology enhances safety without introducing new risks.\\n',\n",
       "  'modes': ['a', 'r', 'm'],\n",
       "  'title': 'Technological Integration and Automation',\n",
       "  'group': 'Operational and Technical Safeguards'}]"
      ]
     },
     "execution_count": 150,
     "metadata": {},
     "output_type": "execute_result"
    }
   ],
   "source": [
    "# Add a field to each safety theme that is the group it belongs to\n",
    "\n",
    "safety_themes_with_groups = []\n",
    "\n",
    "for theme in safety_themes:\n",
    "    for group in safety_theme_groups:\n",
    "        if theme['title'] in group['themes']:\n",
    "            theme['group'] = group['title']\n",
    "            safety_themes_with_groups.append(theme)\n",
    "            break\n",
    "\n",
    "safety_themes_with_groups"
   ]
  },
  {
   "cell_type": "markdown",
   "metadata": {},
   "source": [
    "# Prepare xlsx spreadsheet to share with chris and ingrid\n",
    "\n",
    "I need to give a spreadsheet to them so that they can appreicate what the results are."
   ]
  },
  {
   "cell_type": "code",
   "execution_count": 151,
   "metadata": {},
   "outputs": [],
   "source": [
    "# First page has all the safety themes\n",
    "# Second page has the groups\n",
    "\n",
    "writer = pd.ExcelWriter(\"generated_safety_themes.xlsx\", engine=\"openpyxl\")\n",
    "\n",
    "pd.DataFrame(safety_themes_with_groups)[['title', 'description', 'group']].to_excel(writer, sheet_name=\"Safety Themes\", index=False)\n",
    "\n",
    "pd.DataFrame(safety_theme_groups).to_excel(writer, sheet_name=\"Safety Theme Groups\", index=False)\n",
    "\n",
    "writer.close()"
   ]
  },
  {
   "cell_type": "markdown",
   "metadata": {},
   "source": [
    "After performing this multiple times I am noticing that it varies a bit.\n",
    "\n",
    "I would like to take an average."
   ]
  }
 ],
 "metadata": {
  "kernelspec": {
   "display_name": "taic-report-engine-vkGeZcZ8-py3.11",
   "language": "python",
   "name": "python3"
  },
  "language_info": {
   "codemirror_mode": {
    "name": "ipython",
    "version": 3
   },
   "file_extension": ".py",
   "mimetype": "text/x-python",
   "name": "python",
   "nbconvert_exporter": "python",
   "pygments_lexer": "ipython3",
   "version": "3.11.5"
  }
 },
 "nbformat": 4,
 "nbformat_minor": 2
}
