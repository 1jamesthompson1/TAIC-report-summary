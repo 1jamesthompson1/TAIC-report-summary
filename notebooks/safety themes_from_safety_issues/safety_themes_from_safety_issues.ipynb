{
 "cells": [
  {
   "cell_type": "markdown",
   "metadata": {},
   "source": [
    "# What\n",
    "\n",
    "As established in [#144](https://github.com/1jamesthompson1/TAIC-report-summary/issues/144) now that we have the safety issues dataset from #141 it is possible for us to generate the safety themes just from the safety issues.\n",
    "\n",
    "This is supposed to be a quick example of how it could be done and what this dataset could be used for."
   ]
  },
  {
   "cell_type": "markdown",
   "metadata": {},
   "source": [
    "## Modules\n",
    "\n",
    "To make this document easy to move all the modules needed are listed here"
   ]
  },
  {
   "cell_type": "code",
   "execution_count": 1,
   "metadata": {},
   "outputs": [
    {
     "data": {
      "text/plain": [
       "<module 'engine.Extract_Analyze.ThemeGenerator' from '/home/james/code/TAIC-report-summary/engine/Extract_Analyze/ThemeGenerator.py'>"
      ]
     },
     "execution_count": 1,
     "metadata": {},
     "output_type": "execute_result"
    }
   ],
   "source": [
    "# from engine\n",
    "from engine.OpenAICaller import openAICaller\n",
    "\n",
    "from engine.Extract_Analyze import ThemeGenerator\n",
    "\n",
    "# third party\n",
    "import yaml\n",
    "import pandas as pd\n",
    "\n",
    "# built in\n",
    "import os\n",
    "import importlib\n",
    "\n",
    "\n",
    "importlib.reload(ThemeGenerator)\n"
   ]
  },
  {
   "cell_type": "markdown",
   "metadata": {},
   "source": [
    "# Get data\n",
    "\n",
    "I am going to read all of the safety issues from the reports."
   ]
  },
  {
   "cell_type": "code",
   "execution_count": 2,
   "metadata": {},
   "outputs": [],
   "source": [
    "output_path = \"output\"\n",
    "\n",
    "safety_issues = []\n",
    "\n",
    "all_reports = [r for r in os.listdir(output_path) if os.path.isdir(os.path.join(output_path, r))] \n",
    "\n",
    "for report_id in all_reports:\n",
    "    \n",
    "    safety_issue_path = os.path.join(output_path, report_id, f\"{report_id}_safety_issues.yaml\")\n",
    "\n",
    "    if not os.path.exists(safety_issue_path):\n",
    "        continue\n",
    "\n",
    "    with open(os.path.join(output_path, report_id, f\"{report_id}_safety_issues.yaml\"), \"r\") as f:\n",
    "        si = yaml.safe_load(f)\n",
    "\n",
    "    safety_issues.append({\n",
    "        'report_id': report_id,\n",
    "        'si': si\n",
    "    })"
   ]
  },
  {
   "cell_type": "markdown",
   "metadata": {},
   "source": [
    "# Use gpt 4 to generate safety themes\n",
    "\n",
    "I am now going to run it through a LLM."
   ]
  },
  {
   "cell_type": "markdown",
   "metadata": {},
   "source": [
    "## Prompt preparation"
   ]
  },
  {
   "cell_type": "code",
   "execution_count": 3,
   "metadata": {},
   "outputs": [],
   "source": [
    "safety_issues_str = \"\"\n",
    "\n",
    "for si in safety_issues:\n",
    "    si_str = \"\\n\".join([i['safety_issue'] for i in si['si']])\n",
    "            \n",
    "    safety_issues_str += f\"Report ID: {si['report_id']}\\n{si_str}\\n\""
   ]
  },
  {
   "cell_type": "markdown",
   "metadata": {},
   "source": [
    "## Sending to model"
   ]
  },
  {
   "cell_type": "code",
   "execution_count": 4,
   "metadata": {},
   "outputs": [],
   "source": [
    "importlib.reload(ThemeGenerator)\n",
    "\n",
    "themeGenerator = ThemeGenerator.ThemeGenerator(output_path, {\"folder_name\": \"{{report_id}}\", \"themes_file_name\": \"{{report_id}}_themes.yaml\"}, ['aviation', 'rail', 'marine'], False)"
   ]
  },
  {
   "cell_type": "markdown",
   "metadata": {},
   "source": [
    "## Getting safety themes"
   ]
  },
  {
   "cell_type": "code",
   "execution_count": 7,
   "metadata": {},
   "outputs": [],
   "source": [
    "safety_theme_example = themeGenerator._get_safety_themes_from_reports(safety_issues_str)"
   ]
  },
  {
   "cell_type": "code",
   "execution_count": null,
   "metadata": {},
   "outputs": [],
   "source": [
    "safety_themes = [themeGenerator._get_safety_themes_from_reports(safety_issues_str) for _ in range(3)]\n"
   ]
  },
  {
   "cell_type": "code",
   "execution_count": null,
   "metadata": {},
   "outputs": [],
   "source": [
    "# Get the average\n",
    "\n",
    "safety_themes_str = [\n",
    "    '\\n'.join([f\"{safety_theme['title'].strip()} for modes {', '.join(safety_theme['modes'])}:\\n {safety_theme['description']}\" for safety_theme in safety_themes_set])\n",
    "    for safety_themes_set in safety_themes\n",
    "]\n",
    "\n",
    "safety_themes_str = '\\n\\n'.join([f\"Safety themes version\\n'''\\n{themes}\\n'''\\n\" for themes in safety_themes_str])\n",
    "\n",
    "print(safety_themes_str)\n"
   ]
  },
  {
   "cell_type": "code",
   "execution_count": 142,
   "metadata": {},
   "outputs": [],
   "source": [
    "\n",
    "average_safety_theme = openAICaller.query(\n",
    "    system=\"\"\"\n",
    "You are going to help me summarize the given source text.\n",
    "        \"\"\",\n",
    "\n",
    "    user=f\"\"\"\n",
    "Here is the text to summarize:\n",
    "'''\n",
    "{safety_themes_str}\n",
    "'''\n",
    "\n",
    "Here are three versions of the safety themes extracted from a collection of accident investigation reports.\n",
    "\n",
    "I need you to return one set that is the average of all of the safety themes versions. This means it there should be about 15 final safety themes.\n",
    "\n",
    "Your output needs to be in yaml format. Just output the yaml structure with no extra text (This means no ```yaml and ```) . It will look something like this:\n",
    "- title: |-\n",
    "    title of the theme goes here\n",
    "    description: |\n",
    "    Multi line description of the theme goes here.\n",
    "    modes:\n",
    "    - modes that should be included. One per row (Each mode is just one letter (a,r,m))\n",
    "\n",
    "\n",
    "=Here are some definitions=\n",
    "\n",
    "Safety factor - Any (non-trivial) events or conditions, which increases safety risk. If they occurred in the future, these would\n",
    "increase the likelihood of an occurrence, and/or the\n",
    "severity of any adverse consequences associated with the\n",
    "occurrence.\n",
    "\n",
    "Safety issue - A safety factor that:\n",
    "• can reasonably be regarded as having the\n",
    "potential to adversely affect the safety of future\n",
    "operations, and\n",
    "• is characteristic of an organization, a system, or an\n",
    "operational environment at a specific point in time.\n",
    "Safety Issues are derived from safety factors classified\n",
    "either as Risk Controls or Organizational Influences.\n",
    "\n",
    "Safety theme - Indication of recurring circumstances or causes, either across transport modes or over time. A safety theme may\n",
    "cover a single safety issue, or two or more related safety\n",
    "issues.    \n",
    "\n",
    "        \"\"\",\n",
    "    model = 'gpt-4',\n",
    "    temp=0\n",
    ")\n",
    "try:\n",
    "    average_safety_theme = yaml.safe_load(average_safety_theme)\n",
    "except yaml.YAMLError:\n",
    "    print(\"Cant parse\")\n",
    "    print(average_safety_theme)\n",
    "\n",
    "\n",
    "yaml.safe_dump(average_safety_theme, open(\"safety_themes.yaml\", \"w\"))"
   ]
  },
  {
   "cell_type": "code",
   "execution_count": null,
   "metadata": {},
   "outputs": [],
   "source": [
    "safety_themes = yaml.safe_load(open(\"safety_themes.yaml\", \"r\"))\n",
    "\n",
    "print(len(safety_themes))\n",
    "\n",
    "safety_themes"
   ]
  },
  {
   "cell_type": "markdown",
   "metadata": {},
   "source": [
    "## Grouping safety themes"
   ]
  },
  {
   "cell_type": "code",
   "execution_count": 148,
   "metadata": {},
   "outputs": [],
   "source": [
    "safety_theme_groups = themeGenerator._group_safety_themes(safety_themes)"
   ]
  },
  {
   "cell_type": "code",
   "execution_count": 11,
   "metadata": {},
   "outputs": [
    {
     "data": {
      "text/plain": [
       "[{'title': 'Non-compliance with Procedures',\n",
       "  'description': 'This theme involves instances where individuals or teams do not adhere to established safety procedures, protocols, or regulations. This can include failure to follow standard operating procedures, maintenance protocols, or regulatory requirements. Non-compliance can lead to unsafe conditions, increased risk of accidents, and potential harm. It underscores the importance of strict adherence to safety guidelines and the need for robust oversight and training to ensure compliance.\\n',\n",
       "  'modes': ['a', 'r', 'm']},\n",
       " {'title': 'Inadequate Communication',\n",
       "  'description': 'Inadequate communication refers to failures or deficiencies in the exchange of critical information among team members, between different teams, or with external entities. This can include miscommunication, lack of clarity, or failure to share important safety-related information. Such communication failures can lead to misunderstandings, misaligned actions, and increased risk of accidents. Effective communication protocols and training are essential for ensuring safety.\\n',\n",
       "  'modes': ['a', 'r', 'm']},\n",
       " {'title': 'Insufficient Training and Familiarization',\n",
       "  'description': 'This theme highlights situations where individuals or teams lack the necessary training or familiarity with equipment, procedures, or safety protocols. Insufficient training can result in improper operation, inability to respond effectively to emergencies, and increased risk of accidents. Ensuring comprehensive training and regular refresher courses are crucial for maintaining high safety standards.\\n',\n",
       "  'modes': ['a', 'r', 'm']},\n",
       " {'title': 'Inadequate Maintenance and Inspection',\n",
       "  'description': 'This theme involves failures or shortcomings in the maintenance and inspection of equipment, vehicles, or infrastructure. Inadequate maintenance can lead to equipment failure, unsafe operating conditions, and increased risk of incidents. Regular, thorough inspections and adherence to maintenance schedules are vital for identifying and mitigating potential safety hazards.\\n',\n",
       "  'modes': ['a', 'r', 'm']},\n",
       " {'title': 'Poor Safety Management Systems',\n",
       "  'description': \"This theme refers to deficiencies in an organization's safety management system, including inadequate risk assessments, failure to implement effective safety controls, and lack of a safety culture. A robust safety management system is essential for identifying risks, implementing controls, and fostering an environment where safety is a priority.\\n\",\n",
       "  'modes': ['a', 'r', 'm']},\n",
       " {'title': 'Fatigue Management',\n",
       "  'description': 'Fatigue management involves recognizing and mitigating the risks associated with tiredness and reduced alertness among personnel. Fatigue can significantly impair performance, decision-making, and reaction times, increasing the risk of accidents. Implementing effective fatigue management strategies, including scheduling practices and awareness training, is crucial for safety.\\n',\n",
       "  'modes': ['a', 'r', 'm']},\n",
       " {'title': 'Ineffective Use of Safety Equipment',\n",
       "  'description': 'This theme covers instances where safety equipment is not used effectively or as intended. This can include failure to wear personal protective equipment, improper use of safety systems, or lack of familiarity with emergency equipment. Ensuring that all personnel are trained in the correct use of safety equipment is essential for mitigating risks.\\n',\n",
       "  'modes': ['a', 'r', 'm']},\n",
       " {'title': 'Lack of Situational Awareness',\n",
       "  'description': 'Lack of situational awareness refers to the failure to recognize or understand the current state of the environment or system, leading to inappropriate decisions or actions. Maintaining situational awareness is critical for safe operation, particularly in dynamic or complex environments. Training and procedures that enhance situational awareness can help prevent accidents.\\n',\n",
       "  'modes': ['a', 'r', 'm']},\n",
       " {'title': 'Inadequate Risk Assessment and Management',\n",
       "  'description': 'This theme involves failures to properly assess or manage risks, leading to inadequate safety controls or preparedness for potential hazards. Effective risk management involves identifying potential hazards, assessing their likelihood and impact, and implementing controls to mitigate risks. Continuous risk assessment and adaptive risk management strategies are essential for safety.\\n',\n",
       "  'modes': ['a', 'r', 'm']},\n",
       " {'title': 'Deficiencies in Emergency Preparedness and Response',\n",
       "  'description': 'This theme highlights inadequacies in planning for and responding to emergencies. This can include lack of emergency procedures, insufficient training in emergency response, or inadequate resources for dealing with emergencies. Ensuring comprehensive emergency preparedness and conducting regular drills are crucial for effective response and minimizing harm during incidents.\\n',\n",
       "  'modes': ['a', 'r', 'm']},\n",
       " {'title': 'Inadequate Supervision and Oversight',\n",
       "  'description': 'Inadequate supervision and oversight refer to failures in monitoring operations, enforcing compliance with safety standards, and providing guidance to personnel. Effective supervision and oversight are essential for ensuring that safety procedures are followed, identifying and correcting unsafe practices, and fostering a culture of safety.\\n',\n",
       "  'modes': ['a', 'r', 'm']},\n",
       " {'title': 'Human Factors and Ergonomics',\n",
       "  'description': 'This theme focuses on the impact of human factors and ergonomics on safety, including the design of equipment and work environments, and the interaction between people and systems. Addressing human factors involves designing systems that are intuitive, reduce the likelihood of human error, and consider human limitations. Ergonomic improvements can enhance safety and performance.\\n',\n",
       "  'modes': ['a', 'r', 'm']},\n",
       " {'title': 'Safety Culture',\n",
       "  'description': 'Safety culture refers to the values, beliefs, and behaviors within an organization that prioritize safety. A strong safety culture involves commitment from all levels of the organization, open communication about safety concerns, and continuous improvement in safety practices. Cultivating a positive safety culture is fundamental for reducing risks and preventing accidents.\\n',\n",
       "  'modes': ['a', 'r', 'm']},\n",
       " {'title': 'Technological Failures and Limitations',\n",
       "  'description': 'This theme encompasses failures or limitations in technology that impact safety, including equipment malfunctions, design flaws, or inadequate technological solutions for safety challenges. Ensuring that technology is reliable, fit for purpose, and effectively integrated into safety systems is crucial for mitigating risks.\\n',\n",
       "  'modes': ['a', 'r', 'm']},\n",
       " {'title': 'Environmental and Operational Conditions',\n",
       "  'description': 'Environmental and operational conditions refer to the impact of external factors such as weather, terrain, and operational pressures on safety. These conditions can introduce additional risks and challenges to safe operation. Adapting operations to account for environmental conditions and managing operational pressures effectively are key for maintaining safety.\\n',\n",
       "  'modes': ['a', 'r', 'm']}]"
      ]
     },
     "execution_count": 11,
     "metadata": {},
     "output_type": "execute_result"
    }
   ],
   "source": [
    "# Edit each title to remove trailing newline\n",
    "\n",
    "for group in safety_theme_example:\n",
    "    group['title'] = group['title'].strip()\n",
    "\n",
    "\n",
    "safety_theme_example"
   ]
  },
  {
   "cell_type": "code",
   "execution_count": 12,
   "metadata": {},
   "outputs": [],
   "source": [
    "\n",
    "\n",
    "safety_theme_groups_example = themeGenerator._group_safety_themes(safety_theme_example)"
   ]
  },
  {
   "cell_type": "code",
   "execution_count": 149,
   "metadata": {},
   "outputs": [
    {
     "data": {
      "text/plain": [
       "[{'title': 'Human Factors and Training',\n",
       "  'description': 'This group focuses on the human element in operational safety, emphasizing the importance of training, non-technical skills, and managing human vulnerabilities such as fatigue.\\n',\n",
       "  'themes': ['Inadequate Training and Familiarization',\n",
       "   'Human Factors and Non-Technical Skills',\n",
       "   'Fatigue Management']},\n",
       " {'title': 'Safety Management and Organizational Practices',\n",
       "  'description': 'Themes in this group relate to the overarching systems and cultural practices within organizations that support or undermine safety, including the management of safety information and the cultivation of a safety culture.\\n',\n",
       "  'themes': ['Safety Management Systems Deficiencies',\n",
       "   'Safety Culture and Organizational Influences',\n",
       "   'Regulatory and Oversight Deficiencies']},\n",
       " {'title': 'Operational and Technical Safeguards',\n",
       "  'description': 'This group encompasses the technical and procedural aspects of safety, focusing on the design, maintenance, and reliable operation of equipment, as well as the integration of technology.\\n',\n",
       "  'themes': ['Maintenance and Inspection Failures',\n",
       "   'Equipment Design and Reliability',\n",
       "   'Technological Integration and Automation']},\n",
       " {'title': 'Risk Management and Emergency Preparedness',\n",
       "  'description': 'Themes here are concerned with the identification, assessment, and mitigation of risks, as well as the preparedness to respond effectively to emergencies.\\n',\n",
       "  'themes': ['Risk Assessment and Management',\n",
       "   'Inadequate Emergency Preparedness']},\n",
       " {'title': 'Communication and Situational Awareness',\n",
       "  'description': 'This group highlights the importance of clear communication and maintaining situational awareness to prevent misunderstandings and operational errors.\\n',\n",
       "  'themes': ['Communication Failures',\n",
       "   'Navigation and Situational Awareness']},\n",
       " {'title': 'External Factors and Substance Control',\n",
       "  'description': 'Themes in this group address external environmental challenges and the control of factors that can impair performance, such as substance use.\\n',\n",
       "  'themes': ['Environmental Conditions and Weather',\n",
       "   'Use of Performance-Impairing Substances']}]"
      ]
     },
     "execution_count": 149,
     "metadata": {},
     "output_type": "execute_result"
    }
   ],
   "source": [
    "safety_theme_groups"
   ]
  },
  {
   "cell_type": "markdown",
   "metadata": {},
   "source": [
    "## Add groups to original safety themes"
   ]
  },
  {
   "cell_type": "code",
   "execution_count": 14,
   "metadata": {},
   "outputs": [],
   "source": [
    "# Add a field to each safety theme that is the group it belongs to\n",
    "\n",
    "def combine_groups_with_themes(safety_theme_groups, safety_themes):\n",
    "\n",
    "    safety_themes_with_groups = []\n",
    "\n",
    "    for theme in safety_themes:\n",
    "        for group in safety_theme_groups:\n",
    "            if theme['title'] in group['themes']:\n",
    "                theme['group'] = group['title']\n",
    "                safety_themes_with_groups.append(theme)\n",
    "                break\n",
    "\n",
    "    return safety_themes_with_groups"
   ]
  },
  {
   "cell_type": "code",
   "execution_count": 15,
   "metadata": {},
   "outputs": [],
   "source": [
    "safety_theme_example_with_groups = combine_groups_with_themes(safety_theme_groups_example, safety_theme_example)"
   ]
  },
  {
   "cell_type": "markdown",
   "metadata": {},
   "source": [
    "# Prepare xlsx spreadsheet to share with chris and ingrid\n",
    "\n",
    "I need to give a spreadsheet to them so that they can appreicate what the results are."
   ]
  },
  {
   "cell_type": "code",
   "execution_count": 13,
   "metadata": {},
   "outputs": [],
   "source": [
    "# First page has all the safety themes\n",
    "# Second page has the groups\n",
    "\n",
    "def send_to_excel(safety_themes_with_groups, safety_theme_groups, file_name):\n",
    "\n",
    "    writer = pd.ExcelWriter(\"generated_safety_themes.xlsx\", engine=\"openpyxl\")\n",
    "\n",
    "    pd.DataFrame(safety_themes_with_groups)[['title', 'description', 'group']].to_excel(writer, sheet_name=\"Safety Themes\", index=False)\n",
    "\n",
    "    pd.DataFrame(safety_theme_groups).to_excel(writer, sheet_name=\"Safety Theme Groups\", index=False)\n",
    "\n",
    "    writer.close()"
   ]
  },
  {
   "cell_type": "code",
   "execution_count": 16,
   "metadata": {},
   "outputs": [],
   "source": [
    "send_to_excel(safety_theme_example_with_groups, safety_theme_groups_example, \"safety_themes.xlsx\")"
   ]
  },
  {
   "cell_type": "markdown",
   "metadata": {},
   "source": [
    "After performing this multiple times I am noticing that it varies a bit.\n",
    "\n",
    "I would like to take an average."
   ]
  }
 ],
 "metadata": {
  "kernelspec": {
   "display_name": "taic-report-engine-vkGeZcZ8-py3.11",
   "language": "python",
   "name": "python3"
  },
  "language_info": {
   "codemirror_mode": {
    "name": "ipython",
    "version": 3
   },
   "file_extension": ".py",
   "mimetype": "text/x-python",
   "name": "python",
   "nbconvert_exporter": "python",
   "pygments_lexer": "ipython3",
   "version": "3.11.5"
  }
 },
 "nbformat": 4,
 "nbformat_minor": 2
}
