{
 "cells": [
  {
   "cell_type": "markdown",
   "metadata": {},
   "source": [
    "# What\n",
    "\n",
    "As per issue https://github.com/1jamesthompson1/TAIC-report-summary/issues/181\n",
    "\n",
    "Extracting the event type would be useful in adding an extra summary data point to the table in the safety issue extraction."
   ]
  },
  {
   "cell_type": "markdown",
   "metadata": {},
   "source": [
    "## Modules"
   ]
  },
  {
   "cell_type": "code",
   "execution_count": null,
   "metadata": {},
   "outputs": [],
   "source": [
    "# Local\n",
    "import engine.gather.WebsiteScraping as WebsiteScraping\n",
    "\n",
    "# Third party \n",
    "import pandas as pd\n",
    "\n",
    "# Build in\n",
    "import os"
   ]
  },
  {
   "cell_type": "markdown",
   "metadata": {},
   "source": [
    "## Problem\n",
    "\n",
    "We need to assign a event type to every report id.\n",
    "\n",
    "The goal is to do this by just reading the report title. The report title can always be found on the taic investigation website.\n",
    "\n",
    "There are given event types for each mode, the report titles should be pigeoned holed into one of these event types."
   ]
  },
  {
   "cell_type": "markdown",
   "metadata": {},
   "source": [
    "# Collecting event types data"
   ]
  },
  {
   "cell_type": "code",
   "execution_count": null,
   "metadata": {},
   "outputs": [],
   "source": [
    "marine_event_types = pd.read_csv(os.path.join(\"data\", \"MarineOccurrenceCategory_ValueListItem.csv\"))\n",
    "aviation_event_types = pd.read_csv(os.path.join(\"data\", \"OccurrenceCategoryLevel123_ValueListItem.csv\"))\n",
    "rail_event_types = pd.read_csv(os.path.join(\"data\", \"OCG1CategoryLevel1_ValueListItem.csv\"))\n",
    "display(marine_event_types)\n",
    "display(aviation_event_types)\n",
    "display(rail_event_types)"
   ]
  },
  {
   "cell_type": "code",
   "execution_count": null,
   "metadata": {},
   "outputs": [],
   "source": [
    "aviation_event_types_level2 = aviation_event_types.query(\"ValueListName == 'OccurrenceCategoryLevel2'\")[['ValueListName', 'Value']]\n",
    "aviation_event_types_level3 = aviation_event_types.query(\"ValueListName == 'OccurrenceCategoryLevel3'\")[['ValueListName', 'Value']]\n",
    "display(aviation_event_types_level2)\n",
    "display(aviation_event_types_level3)"
   ]
  },
  {
   "cell_type": "code",
   "execution_count": null,
   "metadata": {},
   "outputs": [],
   "source": [
    "all_event_types = pd.concat(\n",
    "    [\n",
    "        marine_event_types.assign(mode=\"marine\"),\n",
    "        aviation_event_types_level2.assign(mode=\"aviation\"),\n",
    "        rail_event_types.assign(mode=\"rail\"),\n",
    "    ],\n",
    "    ignore_index=True,\n",
    "    axis=0\n",
    ").drop(columns=[\"ValueListName\"])\n",
    "\n",
    "all_event_types"
   ]
  },
  {
   "cell_type": "code",
   "execution_count": null,
   "metadata": {},
   "outputs": [],
   "source": [
    "all_event_types.groupby(\"mode\").count()"
   ]
  },
  {
   "cell_type": "markdown",
   "metadata": {},
   "source": [
    "# Getting report titles via webscraping"
   ]
  },
  {
   "cell_type": "code",
   "execution_count": null,
   "metadata": {},
   "outputs": [],
   "source": [
    "report_titles = pd.read_pickle(\"../../output/report_titles_df.pkl\")\n",
    "report_titles"
   ]
  }
 ],
 "metadata": {
  "language_info": {
   "name": "python"
  }
 },
 "nbformat": 4,
 "nbformat_minor": 2
}
