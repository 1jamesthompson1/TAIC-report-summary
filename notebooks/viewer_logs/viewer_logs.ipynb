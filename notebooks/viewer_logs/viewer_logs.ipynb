{
 "cells": [
  {
   "cell_type": "markdown",
   "metadata": {},
   "source": [
    "# What\n",
    "\n",
    "This has been made because the issues of https://github.com/1jamesthompson1/TAIC-report-summary/issues/236. Has brought to attention that I need to easily be able to look at the logs."
   ]
  },
  {
   "cell_type": "markdown",
   "metadata": {},
   "source": [
    "## Modules"
   ]
  },
  {
   "cell_type": "code",
   "execution_count": null,
   "metadata": {},
   "outputs": [],
   "source": [
    "import pandas as pd\n",
    "import dotenv\n",
    "from azure.data.tables import TableServiceClient\n",
    "import os\n",
    "from io import StringIO\n",
    "\n",
    "dotenv.load_dotenv(override=True)"
   ]
  },
  {
   "cell_type": "markdown",
   "metadata": {},
   "source": [
    "# Get the tables"
   ]
  },
  {
   "cell_type": "code",
   "execution_count": null,
   "metadata": {},
   "outputs": [],
   "source": [
    "connection_string = f\"AccountName={os.getenv('AZURE_STORAGE_ACCOUNT_NAME')};AccountKey={os.getenv('AZURE_STORAGE_ACCOUNT_KEY')};EndpointSuffix=core.windows.net\"\n",
    "client = TableServiceClient.from_connection_string(conn_str=connection_string)\n",
    "search_table_client = client.get_table_client(table_name=\"searchlogs\")\n",
    "results_table_client = client.get_table_client(table_name=\"resultslogs\")\n",
    "errors_table_client = client.get_table_client(table_name=\"errorlogs\")"
   ]
  },
  {
   "cell_type": "code",
   "execution_count": null,
   "metadata": {},
   "outputs": [],
   "source": [
    "entities = search_table_client.list_entities()\n",
    "data = [entity for entity in entities]\n",
    "search_logs = pd.DataFrame(data)\n",
    "search_logs['start_time'] = pd.to_datetime(search_logs['start_time'], unit='s', utc=True).map(lambda x: x.tz_convert('NZ'))\n",
    "search_logs.sort_values(by='start_time', ascending=False, inplace=True)\n",
    "\n",
    "search_logs"
   ]
  },
  {
   "cell_type": "code",
   "execution_count": null,
   "metadata": {},
   "outputs": [],
   "source": [
    "results_logs = pd.DataFrame(results_table_client.list_entities())\n",
    "\n",
    "results_logs['search_results'] = results_logs['search_results'].map(lambda x: pd.read_json(StringIO(x)))\n",
    "\n",
    "results_logs"
   ]
  },
  {
   "cell_type": "code",
   "execution_count": null,
   "metadata": {},
   "outputs": [],
   "source": [
    "error_logs = pd.DataFrame(errors_table_client.list_entities())\n",
    "\n",
    "error_logs"
   ]
  },
  {
   "cell_type": "markdown",
   "metadata": {},
   "source": [
    "# Merge logs together"
   ]
  },
  {
   "cell_type": "code",
   "execution_count": null,
   "metadata": {},
   "outputs": [],
   "source": [
    "search_logs.set_index(['PartitionKey', 'RowKey'], inplace=True)\n",
    "results_logs.set_index(['PartitionKey', 'RowKey'], inplace=True)\n",
    "error_logs.set_index(['PartitionKey', 'RowKey'], inplace=True)\n",
    "\n",
    "merged_logs = search_logs.join([results_logs, error_logs])\n",
    "\n",
    "merged_logs = merged_logs[merged_logs.index.get_level_values('PartitionKey') != 'Test User']\n",
    "\n",
    "merged_logs = merged_logs[merged_logs['start_time'] >= pd.Timestamp('2024-07-29 00:00:00', tz='NZ')]\n",
    "merged_logs"
   ]
  },
  {
   "cell_type": "code",
   "execution_count": null,
   "metadata": {},
   "outputs": [],
   "source": [
    "merged_logs.index.get_level_values(0).value_counts()"
   ]
  }
 ],
 "metadata": {
  "kernelspec": {
   "display_name": "taic-report-engine-vkGeZcZ8-py3.11",
   "language": "python",
   "name": "python3"
  },
  "language_info": {
   "codemirror_mode": {
    "name": "ipython",
    "version": 3
   },
   "file_extension": ".py",
   "mimetype": "text/x-python",
   "name": "python",
   "nbconvert_exporter": "python",
   "pygments_lexer": "ipython3"
  }
 },
 "nbformat": 4,
 "nbformat_minor": 2
}
